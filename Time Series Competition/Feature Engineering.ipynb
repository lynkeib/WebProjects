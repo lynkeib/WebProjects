{
 "cells": [
  {
   "cell_type": "markdown",
   "metadata": {},
   "source": [
    "# Import Packages"
   ]
  },
  {
   "cell_type": "code",
   "execution_count": 353,
   "metadata": {
    "ExecuteTime": {
     "end_time": "2019-12-15T00:06:19.040024Z",
     "start_time": "2019-12-15T00:06:19.034813Z"
    }
   },
   "outputs": [],
   "source": [
    "import pandas as pd\n",
    "import numpy as np\n",
    "import datetime\n",
    "import random\n",
    "\n",
    "import matplotlib.pyplot as plt\n",
    "import seaborn as sns\n",
    "\n",
    "import tensorflow as tf\n",
    "\n",
    "from sklearn.preprocessing import StandardScaler\n",
    "from sklearn.model_selection import train_test_split\n",
    "from sklearn.linear_model import LinearRegression\n",
    "from sklearn.metrics import mean_absolute_error\n",
    "from sklearn.preprocessing import StandardScaler\n",
    "from sklearn.feature_selection import RFE\n",
    "from sklearn.feature_selection import RFECV\n",
    "\n",
    "import xgboost as xgb\n",
    "\n",
    "from statsmodels.tsa.holtwinters import ExponentialSmoothing\n",
    "\n",
    "from itertools import chain, combinations\n",
    "import statsmodels.api as sm"
   ]
  },
  {
   "cell_type": "markdown",
   "metadata": {},
   "source": [
    "# Data Cleaning"
   ]
  },
  {
   "cell_type": "code",
   "execution_count": 11,
   "metadata": {
    "ExecuteTime": {
     "end_time": "2019-12-14T20:03:45.470444Z",
     "start_time": "2019-12-14T20:03:43.105820Z"
    }
   },
   "outputs": [],
   "source": [
    "data = pd.read_excel('201908 UNC vs USC(1).xlsx', sheet_name='hist', parse_dates=['Date'])"
   ]
  },
  {
   "cell_type": "code",
   "execution_count": 12,
   "metadata": {
    "ExecuteTime": {
     "end_time": "2019-12-14T20:03:45.482052Z",
     "start_time": "2019-12-14T20:03:45.472329Z"
    }
   },
   "outputs": [
    {
     "data": {
      "text/html": [
       "<div>\n",
       "<style scoped>\n",
       "    .dataframe tbody tr th:only-of-type {\n",
       "        vertical-align: middle;\n",
       "    }\n",
       "\n",
       "    .dataframe tbody tr th {\n",
       "        vertical-align: top;\n",
       "    }\n",
       "\n",
       "    .dataframe thead th {\n",
       "        text-align: right;\n",
       "    }\n",
       "</style>\n",
       "<table border=\"1\" class=\"dataframe\">\n",
       "  <thead>\n",
       "    <tr style=\"text-align: right;\">\n",
       "      <th></th>\n",
       "      <th>Date</th>\n",
       "      <th>Hour</th>\n",
       "      <th>Temperature</th>\n",
       "      <th>Load</th>\n",
       "      <th>Predicted Load</th>\n",
       "    </tr>\n",
       "  </thead>\n",
       "  <tbody>\n",
       "    <tr>\n",
       "      <th>0</th>\n",
       "      <td>2008-01-01</td>\n",
       "      <td>1</td>\n",
       "      <td>25.0</td>\n",
       "      <td>10737.0</td>\n",
       "      <td>NaN</td>\n",
       "    </tr>\n",
       "    <tr>\n",
       "      <th>1</th>\n",
       "      <td>2008-01-01</td>\n",
       "      <td>2</td>\n",
       "      <td>24.0</td>\n",
       "      <td>10348.0</td>\n",
       "      <td>NaN</td>\n",
       "    </tr>\n",
       "    <tr>\n",
       "      <th>2</th>\n",
       "      <td>2008-01-01</td>\n",
       "      <td>3</td>\n",
       "      <td>23.0</td>\n",
       "      <td>9997.0</td>\n",
       "      <td>NaN</td>\n",
       "    </tr>\n",
       "    <tr>\n",
       "      <th>3</th>\n",
       "      <td>2008-01-01</td>\n",
       "      <td>4</td>\n",
       "      <td>23.0</td>\n",
       "      <td>9760.0</td>\n",
       "      <td>NaN</td>\n",
       "    </tr>\n",
       "    <tr>\n",
       "      <th>4</th>\n",
       "      <td>2008-01-01</td>\n",
       "      <td>5</td>\n",
       "      <td>23.0</td>\n",
       "      <td>9624.0</td>\n",
       "      <td>NaN</td>\n",
       "    </tr>\n",
       "  </tbody>\n",
       "</table>\n",
       "</div>"
      ],
      "text/plain": [
       "        Date  Hour  Temperature     Load  Predicted Load\n",
       "0 2008-01-01     1         25.0  10737.0             NaN\n",
       "1 2008-01-01     2         24.0  10348.0             NaN\n",
       "2 2008-01-01     3         23.0   9997.0             NaN\n",
       "3 2008-01-01     4         23.0   9760.0             NaN\n",
       "4 2008-01-01     5         23.0   9624.0             NaN"
      ]
     },
     "execution_count": 12,
     "metadata": {},
     "output_type": "execute_result"
    }
   ],
   "source": [
    "data.head()"
   ]
  },
  {
   "cell_type": "code",
   "execution_count": 13,
   "metadata": {
    "ExecuteTime": {
     "end_time": "2019-12-14T20:03:45.493071Z",
     "start_time": "2019-12-14T20:03:45.484198Z"
    }
   },
   "outputs": [],
   "source": [
    "data['DateTime'] = pd.to_datetime(data['Date']) + pd.TimedeltaIndex(data['Hour'], unit='h')"
   ]
  },
  {
   "cell_type": "code",
   "execution_count": 14,
   "metadata": {
    "ExecuteTime": {
     "end_time": "2019-12-14T20:03:45.500252Z",
     "start_time": "2019-12-14T20:03:45.494814Z"
    }
   },
   "outputs": [
    {
     "data": {
      "text/plain": [
       "0       NaN\n",
       "1       NaN\n",
       "2       NaN\n",
       "3       NaN\n",
       "4       NaN\n",
       "         ..\n",
       "43843   NaN\n",
       "43844   NaN\n",
       "43845   NaN\n",
       "43846   NaN\n",
       "43847   NaN\n",
       "Name: Predicted Load, Length: 43848, dtype: float64"
      ]
     },
     "execution_count": 14,
     "metadata": {},
     "output_type": "execute_result"
    }
   ],
   "source": [
    "data.pop('Predicted Load')"
   ]
  },
  {
   "cell_type": "code",
   "execution_count": 15,
   "metadata": {
    "ExecuteTime": {
     "end_time": "2019-12-14T20:03:45.510584Z",
     "start_time": "2019-12-14T20:03:45.501658Z"
    }
   },
   "outputs": [
    {
     "data": {
      "text/html": [
       "<div>\n",
       "<style scoped>\n",
       "    .dataframe tbody tr th:only-of-type {\n",
       "        vertical-align: middle;\n",
       "    }\n",
       "\n",
       "    .dataframe tbody tr th {\n",
       "        vertical-align: top;\n",
       "    }\n",
       "\n",
       "    .dataframe thead th {\n",
       "        text-align: right;\n",
       "    }\n",
       "</style>\n",
       "<table border=\"1\" class=\"dataframe\">\n",
       "  <thead>\n",
       "    <tr style=\"text-align: right;\">\n",
       "      <th></th>\n",
       "      <th>Date</th>\n",
       "      <th>Hour</th>\n",
       "      <th>Temperature</th>\n",
       "      <th>Load</th>\n",
       "      <th>DateTime</th>\n",
       "    </tr>\n",
       "  </thead>\n",
       "  <tbody>\n",
       "    <tr>\n",
       "      <th>0</th>\n",
       "      <td>2008-01-01</td>\n",
       "      <td>1</td>\n",
       "      <td>25.0</td>\n",
       "      <td>10737.0</td>\n",
       "      <td>2008-01-01 01:00:00</td>\n",
       "    </tr>\n",
       "    <tr>\n",
       "      <th>1</th>\n",
       "      <td>2008-01-01</td>\n",
       "      <td>2</td>\n",
       "      <td>24.0</td>\n",
       "      <td>10348.0</td>\n",
       "      <td>2008-01-01 02:00:00</td>\n",
       "    </tr>\n",
       "    <tr>\n",
       "      <th>2</th>\n",
       "      <td>2008-01-01</td>\n",
       "      <td>3</td>\n",
       "      <td>23.0</td>\n",
       "      <td>9997.0</td>\n",
       "      <td>2008-01-01 03:00:00</td>\n",
       "    </tr>\n",
       "    <tr>\n",
       "      <th>3</th>\n",
       "      <td>2008-01-01</td>\n",
       "      <td>4</td>\n",
       "      <td>23.0</td>\n",
       "      <td>9760.0</td>\n",
       "      <td>2008-01-01 04:00:00</td>\n",
       "    </tr>\n",
       "    <tr>\n",
       "      <th>4</th>\n",
       "      <td>2008-01-01</td>\n",
       "      <td>5</td>\n",
       "      <td>23.0</td>\n",
       "      <td>9624.0</td>\n",
       "      <td>2008-01-01 05:00:00</td>\n",
       "    </tr>\n",
       "  </tbody>\n",
       "</table>\n",
       "</div>"
      ],
      "text/plain": [
       "        Date  Hour  Temperature     Load            DateTime\n",
       "0 2008-01-01     1         25.0  10737.0 2008-01-01 01:00:00\n",
       "1 2008-01-01     2         24.0  10348.0 2008-01-01 02:00:00\n",
       "2 2008-01-01     3         23.0   9997.0 2008-01-01 03:00:00\n",
       "3 2008-01-01     4         23.0   9760.0 2008-01-01 04:00:00\n",
       "4 2008-01-01     5         23.0   9624.0 2008-01-01 05:00:00"
      ]
     },
     "execution_count": 15,
     "metadata": {},
     "output_type": "execute_result"
    }
   ],
   "source": [
    "data.head()"
   ]
  },
  {
   "cell_type": "markdown",
   "metadata": {},
   "source": [
    "# EDA"
   ]
  },
  {
   "cell_type": "markdown",
   "metadata": {},
   "source": [
    "## Plot Load against time"
   ]
  },
  {
   "cell_type": "code",
   "execution_count": 16,
   "metadata": {
    "ExecuteTime": {
     "end_time": "2019-12-14T20:03:45.519986Z",
     "start_time": "2019-12-14T20:03:45.512511Z"
    }
   },
   "outputs": [],
   "source": [
    "plot_data = data[['DateTime', 'Load']].copy()\n",
    "plot_data.set_index('DateTime', inplace = True)\n",
    "plot_data.dropna(inplace = True)"
   ]
  },
  {
   "cell_type": "code",
   "execution_count": 17,
   "metadata": {
    "ExecuteTime": {
     "end_time": "2019-12-14T20:03:45.854873Z",
     "start_time": "2019-12-14T20:03:45.521608Z"
    }
   },
   "outputs": [
    {
     "data": {
      "image/png": "[encoded data removed]",
      "text/plain": [
       "<Figure size 432x288 with 1 Axes>"
      ]
     },
     "metadata": {
      "needs_background": "light"
     },
     "output_type": "display_data"
    }
   ],
   "source": [
    "plot_data.plot();"
   ]
  },
  {
   "cell_type": "markdown",
   "metadata": {},
   "source": [
    "## Plot Temperature against time"
   ]
  },
  {
   "cell_type": "code",
   "execution_count": 18,
   "metadata": {
    "ExecuteTime": {
     "end_time": "2019-12-14T20:03:45.862733Z",
     "start_time": "2019-12-14T20:03:45.856991Z"
    }
   },
   "outputs": [],
   "source": [
    "plot_data = data[['DateTime', 'Temperature']]\n",
    "plot_data.set_index('DateTime', inplace = True)"
   ]
  },
  {
   "cell_type": "code",
   "execution_count": 19,
   "metadata": {
    "ExecuteTime": {
     "end_time": "2019-12-14T20:03:46.299334Z",
     "start_time": "2019-12-14T20:03:45.864571Z"
    }
   },
   "outputs": [
    {
     "data": {
      "image/png": "[encoded data removed]",
      "text/plain": [
       "<Figure size 432x288 with 1 Axes>"
      ]
     },
     "metadata": {
      "needs_background": "light"
     },
     "output_type": "display_data"
    }
   ],
   "source": [
    "plot_data.plot();"
   ]
  },
  {
   "cell_type": "code",
   "execution_count": 20,
   "metadata": {
    "ExecuteTime": {
     "end_time": "2019-12-14T20:03:46.311883Z",
     "start_time": "2019-12-14T20:03:46.301231Z"
    }
   },
   "outputs": [
    {
     "data": {
      "text/plain": [
       "Temperature\n",
       "-17.33     13122.0\n",
       "-17.00     12648.0\n",
       "-16.33     13545.0\n",
       "-15.67     13867.5\n",
       "-15.33     13094.0\n",
       "            ...   \n",
       " 99.67         NaN\n",
       " 100.00        NaN\n",
       " 100.33        NaN\n",
       " 100.67        NaN\n",
       " 101.00        NaN\n",
       "Name: Load, Length: 348, dtype: float64"
      ]
     },
     "execution_count": 20,
     "metadata": {},
     "output_type": "execute_result"
    }
   ],
   "source": [
    "data.groupby(['Temperature'])['Load'].mean()"
   ]
  },
  {
   "cell_type": "markdown",
   "metadata": {},
   "source": [
    "## Corr of Temp and Load"
   ]
  },
  {
   "cell_type": "code",
   "execution_count": 21,
   "metadata": {
    "ExecuteTime": {
     "end_time": "2019-12-14T20:03:46.317165Z",
     "start_time": "2019-12-14T20:03:46.313311Z"
    }
   },
   "outputs": [],
   "source": [
    "corr_data = data[['Load', 'Temperature']]"
   ]
  },
  {
   "cell_type": "code",
   "execution_count": 22,
   "metadata": {
    "ExecuteTime": {
     "end_time": "2019-12-14T20:03:46.325735Z",
     "start_time": "2019-12-14T20:03:46.318500Z"
    }
   },
   "outputs": [
    {
     "data": {
      "text/html": [
       "<div>\n",
       "<style scoped>\n",
       "    .dataframe tbody tr th:only-of-type {\n",
       "        vertical-align: middle;\n",
       "    }\n",
       "\n",
       "    .dataframe tbody tr th {\n",
       "        vertical-align: top;\n",
       "    }\n",
       "\n",
       "    .dataframe thead th {\n",
       "        text-align: right;\n",
       "    }\n",
       "</style>\n",
       "<table border=\"1\" class=\"dataframe\">\n",
       "  <thead>\n",
       "    <tr style=\"text-align: right;\">\n",
       "      <th></th>\n",
       "      <th>Load</th>\n",
       "      <th>Temperature</th>\n",
       "    </tr>\n",
       "  </thead>\n",
       "  <tbody>\n",
       "    <tr>\n",
       "      <th>Load</th>\n",
       "      <td>1.000000</td>\n",
       "      <td>0.250706</td>\n",
       "    </tr>\n",
       "    <tr>\n",
       "      <th>Temperature</th>\n",
       "      <td>0.250706</td>\n",
       "      <td>1.000000</td>\n",
       "    </tr>\n",
       "  </tbody>\n",
       "</table>\n",
       "</div>"
      ],
      "text/plain": [
       "                 Load  Temperature\n",
       "Load         1.000000     0.250706\n",
       "Temperature  0.250706     1.000000"
      ]
     },
     "execution_count": 22,
     "metadata": {},
     "output_type": "execute_result"
    }
   ],
   "source": [
    "corr_data.corr()"
   ]
  },
  {
   "cell_type": "markdown",
   "metadata": {},
   "source": [
    "## Plot Load against Temperature"
   ]
  },
  {
   "cell_type": "code",
   "execution_count": 23,
   "metadata": {
    "ExecuteTime": {
     "end_time": "2019-12-14T20:03:46.330615Z",
     "start_time": "2019-12-14T20:03:46.327168Z"
    }
   },
   "outputs": [],
   "source": [
    "corr_data = data[['Load', 'Temperature']]"
   ]
  },
  {
   "cell_type": "code",
   "execution_count": 24,
   "metadata": {
    "ExecuteTime": {
     "end_time": "2019-12-14T20:03:46.697723Z",
     "start_time": "2019-12-14T20:03:46.332442Z"
    }
   },
   "outputs": [
    {
     "data": {
      "text/plain": [
       "<matplotlib.axes._subplots.AxesSubplot at 0x1a40743438>"
      ]
     },
     "execution_count": 24,
     "metadata": {},
     "output_type": "execute_result"
    },
    {
     "data": {
      "image/png": "[encoded data removed]",
      "text/plain": [
       "<Figure size 1008x576 with 1 Axes>"
      ]
     },
     "metadata": {
      "needs_background": "light"
     },
     "output_type": "display_data"
    }
   ],
   "source": [
    "fig,ax=plt.subplots(figsize=(14,8))\n",
    "corr_data.plot(x='Temperature', y='Load', kind = 'scatter',s=.01, ax=ax)"
   ]
  },
  {
   "cell_type": "markdown",
   "metadata": {},
   "source": [
    "it's not linear, try log load"
   ]
  },
  {
   "cell_type": "code",
   "execution_count": 25,
   "metadata": {
    "ExecuteTime": {
     "end_time": "2019-12-14T20:03:46.712767Z",
     "start_time": "2019-12-14T20:03:46.699570Z"
    }
   },
   "outputs": [],
   "source": [
    "log_load = np.log(data['Load'])\n",
    "x = data['Temperature']"
   ]
  },
  {
   "cell_type": "code",
   "execution_count": 26,
   "metadata": {
    "ExecuteTime": {
     "end_time": "2019-12-14T20:03:47.096497Z",
     "start_time": "2019-12-14T20:03:46.714382Z"
    }
   },
   "outputs": [
    {
     "data": {
      "image/png": "[encoded data removed]",
      "text/plain": [
       "<Figure size 1008x576 with 1 Axes>"
      ]
     },
     "metadata": {
      "needs_background": "light"
     },
     "output_type": "display_data"
    }
   ],
   "source": [
    "fig,ax=plt.subplots(figsize=(14,8))\n",
    "ax.scatter(x=x, y=log_load,s=.01);"
   ]
  },
  {
   "cell_type": "markdown",
   "metadata": {},
   "source": [
    "## Weekday"
   ]
  },
  {
   "cell_type": "code",
   "execution_count": 27,
   "metadata": {
    "ExecuteTime": {
     "end_time": "2019-12-14T20:03:47.117373Z",
     "start_time": "2019-12-14T20:03:47.098313Z"
    }
   },
   "outputs": [],
   "source": [
    "weekday_data = data[['DateTime', 'Load']].copy()\n",
    "weekday = data['DateTime'].dt.dayofweek.tolist()\n",
    "weekday_data['Weekday'] = weekday"
   ]
  },
  {
   "cell_type": "code",
   "execution_count": 28,
   "metadata": {
    "ExecuteTime": {
     "end_time": "2019-12-14T20:03:47.128876Z",
     "start_time": "2019-12-14T20:03:47.120912Z"
    }
   },
   "outputs": [
    {
     "data": {
      "text/html": [
       "<div>\n",
       "<style scoped>\n",
       "    .dataframe tbody tr th:only-of-type {\n",
       "        vertical-align: middle;\n",
       "    }\n",
       "\n",
       "    .dataframe tbody tr th {\n",
       "        vertical-align: top;\n",
       "    }\n",
       "\n",
       "    .dataframe thead th {\n",
       "        text-align: right;\n",
       "    }\n",
       "</style>\n",
       "<table border=\"1\" class=\"dataframe\">\n",
       "  <thead>\n",
       "    <tr style=\"text-align: right;\">\n",
       "      <th></th>\n",
       "      <th>DateTime</th>\n",
       "      <th>Load</th>\n",
       "      <th>Weekday</th>\n",
       "    </tr>\n",
       "  </thead>\n",
       "  <tbody>\n",
       "    <tr>\n",
       "      <th>0</th>\n",
       "      <td>2008-01-01 01:00:00</td>\n",
       "      <td>10737.0</td>\n",
       "      <td>1</td>\n",
       "    </tr>\n",
       "    <tr>\n",
       "      <th>1</th>\n",
       "      <td>2008-01-01 02:00:00</td>\n",
       "      <td>10348.0</td>\n",
       "      <td>1</td>\n",
       "    </tr>\n",
       "    <tr>\n",
       "      <th>2</th>\n",
       "      <td>2008-01-01 03:00:00</td>\n",
       "      <td>9997.0</td>\n",
       "      <td>1</td>\n",
       "    </tr>\n",
       "    <tr>\n",
       "      <th>3</th>\n",
       "      <td>2008-01-01 04:00:00</td>\n",
       "      <td>9760.0</td>\n",
       "      <td>1</td>\n",
       "    </tr>\n",
       "    <tr>\n",
       "      <th>4</th>\n",
       "      <td>2008-01-01 05:00:00</td>\n",
       "      <td>9624.0</td>\n",
       "      <td>1</td>\n",
       "    </tr>\n",
       "  </tbody>\n",
       "</table>\n",
       "</div>"
      ],
      "text/plain": [
       "             DateTime     Load  Weekday\n",
       "0 2008-01-01 01:00:00  10737.0        1\n",
       "1 2008-01-01 02:00:00  10348.0        1\n",
       "2 2008-01-01 03:00:00   9997.0        1\n",
       "3 2008-01-01 04:00:00   9760.0        1\n",
       "4 2008-01-01 05:00:00   9624.0        1"
      ]
     },
     "execution_count": 28,
     "metadata": {},
     "output_type": "execute_result"
    }
   ],
   "source": [
    "weekday_data.head()"
   ]
  },
  {
   "cell_type": "markdown",
   "metadata": {},
   "source": [
    "__The day of the week with Monday=0, Sunday=6.__"
   ]
  },
  {
   "cell_type": "code",
   "execution_count": 29,
   "metadata": {
    "ExecuteTime": {
     "end_time": "2019-12-14T20:03:47.263697Z",
     "start_time": "2019-12-14T20:03:47.131516Z"
    }
   },
   "outputs": [
    {
     "data": {
      "image/png": "[encoded data removed]",
      "text/plain": [
       "<Figure size 432x288 with 1 Axes>"
      ]
     },
     "metadata": {
      "needs_background": "light"
     },
     "output_type": "display_data"
    }
   ],
   "source": [
    "plt.plot(weekday_data.groupby(['Weekday'])['Load'].mean())\n",
    "plt.ylim(ymin=0);"
   ]
  },
  {
   "cell_type": "code",
   "execution_count": 30,
   "metadata": {
    "ExecuteTime": {
     "end_time": "2019-12-14T20:03:47.469528Z",
     "start_time": "2019-12-14T20:03:47.265775Z"
    }
   },
   "outputs": [
    {
     "data": {
      "image/png": "[encoded data removed]",
      "text/plain": [
       "<Figure size 432x288 with 1 Axes>"
      ]
     },
     "metadata": {
      "needs_background": "light"
     },
     "output_type": "display_data"
    }
   ],
   "source": [
    "sns.boxplot(x='Weekday', y='Load', data = weekday_data)\n",
    "plt.ylim(ymin=0);"
   ]
  },
  {
   "cell_type": "code",
   "execution_count": 31,
   "metadata": {
    "ExecuteTime": {
     "end_time": "2019-12-14T20:03:47.475544Z",
     "start_time": "2019-12-14T20:03:47.471404Z"
    }
   },
   "outputs": [],
   "source": [
    "weekday_data['Log(Load)'] = np.log(weekday_data['Load'])"
   ]
  },
  {
   "cell_type": "code",
   "execution_count": 32,
   "metadata": {
    "ExecuteTime": {
     "end_time": "2019-12-14T20:03:47.625861Z",
     "start_time": "2019-12-14T20:03:47.477126Z"
    }
   },
   "outputs": [
    {
     "data": {
      "image/png": "[encoded data removed]",
      "text/plain": [
       "<Figure size 432x288 with 1 Axes>"
      ]
     },
     "metadata": {
      "needs_background": "light"
     },
     "output_type": "display_data"
    }
   ],
   "source": [
    "plt.plot(weekday_data.groupby(['Weekday'])['Log(Load)'].mean())\n",
    "plt.ylim(ymin=0);"
   ]
  },
  {
   "cell_type": "code",
   "execution_count": 33,
   "metadata": {
    "ExecuteTime": {
     "end_time": "2019-12-14T20:03:47.836694Z",
     "start_time": "2019-12-14T20:03:47.627652Z"
    }
   },
   "outputs": [
    {
     "data": {
      "image/png": "[encoded data removed]",
      "text/plain": [
       "<Figure size 432x288 with 1 Axes>"
      ]
     },
     "metadata": {
      "needs_background": "light"
     },
     "output_type": "display_data"
    }
   ],
   "source": [
    "sns.boxplot(x='Weekday', y='Log(Load)', data = weekday_data)\n",
    "plt.ylim(ymin=0);"
   ]
  },
  {
   "cell_type": "markdown",
   "metadata": {},
   "source": [
    "## Weekend"
   ]
  },
  {
   "cell_type": "code",
   "execution_count": 34,
   "metadata": {
    "ExecuteTime": {
     "end_time": "2019-12-14T20:03:47.854735Z",
     "start_time": "2019-12-14T20:03:47.838627Z"
    }
   },
   "outputs": [],
   "source": [
    "weekend_data = data[['DateTime', 'Load']].copy()\n",
    "weekend = data['DateTime'].dt.dayofweek.tolist()\n",
    "weekend_data['Weekday'] = weekend"
   ]
  },
  {
   "cell_type": "code",
   "execution_count": 35,
   "metadata": {
    "ExecuteTime": {
     "end_time": "2019-12-14T20:03:47.873855Z",
     "start_time": "2019-12-14T20:03:47.856307Z"
    }
   },
   "outputs": [],
   "source": [
    "weekend_data['isWeekend'] = weekend_data['Weekday'].apply(lambda a: 1 if a in (5, 6) else 0)"
   ]
  },
  {
   "cell_type": "markdown",
   "metadata": {
    "ExecuteTime": {
     "end_time": "2019-12-08T07:19:44.104948Z",
     "start_time": "2019-12-08T07:19:44.100572Z"
    }
   },
   "source": [
    "__The day of the week with Monday=0, Sunday=6.__"
   ]
  },
  {
   "cell_type": "code",
   "execution_count": 36,
   "metadata": {
    "ExecuteTime": {
     "end_time": "2019-12-14T20:03:47.883621Z",
     "start_time": "2019-12-14T20:03:47.875493Z"
    }
   },
   "outputs": [
    {
     "data": {
      "text/html": [
       "<div>\n",
       "<style scoped>\n",
       "    .dataframe tbody tr th:only-of-type {\n",
       "        vertical-align: middle;\n",
       "    }\n",
       "\n",
       "    .dataframe tbody tr th {\n",
       "        vertical-align: top;\n",
       "    }\n",
       "\n",
       "    .dataframe thead th {\n",
       "        text-align: right;\n",
       "    }\n",
       "</style>\n",
       "<table border=\"1\" class=\"dataframe\">\n",
       "  <thead>\n",
       "    <tr style=\"text-align: right;\">\n",
       "      <th></th>\n",
       "      <th>DateTime</th>\n",
       "      <th>Load</th>\n",
       "      <th>Weekday</th>\n",
       "      <th>isWeekend</th>\n",
       "    </tr>\n",
       "  </thead>\n",
       "  <tbody>\n",
       "    <tr>\n",
       "      <th>0</th>\n",
       "      <td>2008-01-01 01:00:00</td>\n",
       "      <td>10737.0</td>\n",
       "      <td>1</td>\n",
       "      <td>0</td>\n",
       "    </tr>\n",
       "    <tr>\n",
       "      <th>1</th>\n",
       "      <td>2008-01-01 02:00:00</td>\n",
       "      <td>10348.0</td>\n",
       "      <td>1</td>\n",
       "      <td>0</td>\n",
       "    </tr>\n",
       "    <tr>\n",
       "      <th>2</th>\n",
       "      <td>2008-01-01 03:00:00</td>\n",
       "      <td>9997.0</td>\n",
       "      <td>1</td>\n",
       "      <td>0</td>\n",
       "    </tr>\n",
       "    <tr>\n",
       "      <th>3</th>\n",
       "      <td>2008-01-01 04:00:00</td>\n",
       "      <td>9760.0</td>\n",
       "      <td>1</td>\n",
       "      <td>0</td>\n",
       "    </tr>\n",
       "    <tr>\n",
       "      <th>4</th>\n",
       "      <td>2008-01-01 05:00:00</td>\n",
       "      <td>9624.0</td>\n",
       "      <td>1</td>\n",
       "      <td>0</td>\n",
       "    </tr>\n",
       "  </tbody>\n",
       "</table>\n",
       "</div>"
      ],
      "text/plain": [
       "             DateTime     Load  Weekday  isWeekend\n",
       "0 2008-01-01 01:00:00  10737.0        1          0\n",
       "1 2008-01-01 02:00:00  10348.0        1          0\n",
       "2 2008-01-01 03:00:00   9997.0        1          0\n",
       "3 2008-01-01 04:00:00   9760.0        1          0\n",
       "4 2008-01-01 05:00:00   9624.0        1          0"
      ]
     },
     "execution_count": 36,
     "metadata": {},
     "output_type": "execute_result"
    }
   ],
   "source": [
    "weekend_data.head()"
   ]
  },
  {
   "cell_type": "code",
   "execution_count": 37,
   "metadata": {
    "ExecuteTime": {
     "end_time": "2019-12-14T20:03:47.894178Z",
     "start_time": "2019-12-14T20:03:47.885542Z"
    }
   },
   "outputs": [
    {
     "data": {
      "text/plain": [
       "isWeekend\n",
       "0    12035.937777\n",
       "1    10646.934459\n",
       "Name: Load, dtype: float64"
      ]
     },
     "execution_count": 37,
     "metadata": {},
     "output_type": "execute_result"
    }
   ],
   "source": [
    "weekend_data.groupby(['isWeekend'])['Load'].mean()"
   ]
  },
  {
   "cell_type": "code",
   "execution_count": 38,
   "metadata": {
    "ExecuteTime": {
     "end_time": "2019-12-14T20:03:47.987838Z",
     "start_time": "2019-12-14T20:03:47.895479Z"
    }
   },
   "outputs": [
    {
     "data": {
      "image/png": "[encoded data removed]",
      "text/plain": [
       "<Figure size 432x288 with 1 Axes>"
      ]
     },
     "metadata": {
      "needs_background": "light"
     },
     "output_type": "display_data"
    }
   ],
   "source": [
    "plt.bar(x=['0', '1'], height=weekend_data.groupby(['isWeekend'])['Load'].mean())\n",
    "plt.ylim(ymin=0);"
   ]
  },
  {
   "cell_type": "code",
   "execution_count": 39,
   "metadata": {
    "ExecuteTime": {
     "end_time": "2019-12-14T20:03:48.118190Z",
     "start_time": "2019-12-14T20:03:47.989640Z"
    }
   },
   "outputs": [
    {
     "data": {
      "image/png": "[encoded data removed]",
      "text/plain": [
       "<Figure size 432x288 with 1 Axes>"
      ]
     },
     "metadata": {
      "needs_background": "light"
     },
     "output_type": "display_data"
    }
   ],
   "source": [
    "sns.boxplot(x='isWeekend', y='Load', data = weekend_data)\n",
    "plt.ylim(ymin=0);"
   ]
  },
  {
   "cell_type": "code",
   "execution_count": 40,
   "metadata": {
    "ExecuteTime": {
     "end_time": "2019-12-14T20:03:48.124382Z",
     "start_time": "2019-12-14T20:03:48.120182Z"
    }
   },
   "outputs": [],
   "source": [
    "weekend_data['Log(Load)'] = np.log(weekend_data['Load'])"
   ]
  },
  {
   "cell_type": "code",
   "execution_count": 41,
   "metadata": {
    "ExecuteTime": {
     "end_time": "2019-12-14T20:03:48.220589Z",
     "start_time": "2019-12-14T20:03:48.126043Z"
    }
   },
   "outputs": [
    {
     "data": {
      "image/png": "[encoded data removed]",
      "text/plain": [
       "<Figure size 432x288 with 1 Axes>"
      ]
     },
     "metadata": {
      "needs_background": "light"
     },
     "output_type": "display_data"
    }
   ],
   "source": [
    "plt.bar(x=['0', '1'], height=weekend_data.groupby(['isWeekend'])['Log(Load)'].mean())\n",
    "plt.ylim(ymin=0);"
   ]
  },
  {
   "cell_type": "code",
   "execution_count": 42,
   "metadata": {
    "ExecuteTime": {
     "end_time": "2019-12-14T20:03:48.362535Z",
     "start_time": "2019-12-14T20:03:48.222139Z"
    }
   },
   "outputs": [
    {
     "data": {
      "image/png": "[encoded data removed]",
      "text/plain": [
       "<Figure size 432x288 with 1 Axes>"
      ]
     },
     "metadata": {
      "needs_background": "light"
     },
     "output_type": "display_data"
    }
   ],
   "source": [
    "sns.boxplot(x='isWeekend', y='Log(Load)', data = weekend_data)\n",
    "plt.ylim(ymin=0);"
   ]
  },
  {
   "cell_type": "markdown",
   "metadata": {},
   "source": [
    "## Month"
   ]
  },
  {
   "cell_type": "code",
   "execution_count": 43,
   "metadata": {
    "ExecuteTime": {
     "end_time": "2019-12-14T20:03:48.370171Z",
     "start_time": "2019-12-14T20:03:48.364281Z"
    }
   },
   "outputs": [],
   "source": [
    "month_data = data[['DateTime', 'Load']].copy()"
   ]
  },
  {
   "cell_type": "code",
   "execution_count": 44,
   "metadata": {
    "ExecuteTime": {
     "end_time": "2019-12-14T20:03:48.385512Z",
     "start_time": "2019-12-14T20:03:48.372156Z"
    }
   },
   "outputs": [],
   "source": [
    "month_data['Month'] = month_data['DateTime'].dt.month.tolist()"
   ]
  },
  {
   "cell_type": "code",
   "execution_count": 45,
   "metadata": {
    "ExecuteTime": {
     "end_time": "2019-12-14T20:03:48.516774Z",
     "start_time": "2019-12-14T20:03:48.386862Z"
    }
   },
   "outputs": [
    {
     "data": {
      "image/png": "[encoded data removed]",
      "text/plain": [
       "<Figure size 432x288 with 1 Axes>"
      ]
     },
     "metadata": {
      "needs_background": "light"
     },
     "output_type": "display_data"
    }
   ],
   "source": [
    "plt.plot(month_data.groupby(['Month'])['Load'].mean())\n",
    "plt.ylim(ymin=0);"
   ]
  },
  {
   "cell_type": "code",
   "execution_count": 46,
   "metadata": {
    "ExecuteTime": {
     "end_time": "2019-12-14T20:03:48.799850Z",
     "start_time": "2019-12-14T20:03:48.518280Z"
    }
   },
   "outputs": [
    {
     "data": {
      "image/png": "[encoded data removed]",
      "text/plain": [
       "<Figure size 432x288 with 1 Axes>"
      ]
     },
     "metadata": {
      "needs_background": "light"
     },
     "output_type": "display_data"
    }
   ],
   "source": [
    "sns.boxplot(x='Month', y='Load', data = month_data)\n",
    "plt.ylim(ymin=0);"
   ]
  },
  {
   "cell_type": "code",
   "execution_count": 47,
   "metadata": {
    "ExecuteTime": {
     "end_time": "2019-12-14T20:03:48.807048Z",
     "start_time": "2019-12-14T20:03:48.802227Z"
    }
   },
   "outputs": [],
   "source": [
    "month_data['Log(Load)'] = np.log(month_data['Load'])"
   ]
  },
  {
   "cell_type": "code",
   "execution_count": 48,
   "metadata": {
    "ExecuteTime": {
     "end_time": "2019-12-14T20:03:48.939527Z",
     "start_time": "2019-12-14T20:03:48.808851Z"
    }
   },
   "outputs": [
    {
     "data": {
      "image/png": "[encoded data removed]",
      "text/plain": [
       "<Figure size 432x288 with 1 Axes>"
      ]
     },
     "metadata": {
      "needs_background": "light"
     },
     "output_type": "display_data"
    }
   ],
   "source": [
    "plt.plot(month_data.groupby(['Month'])['Log(Load)'].mean())\n",
    "plt.ylim(ymin=0);"
   ]
  },
  {
   "cell_type": "code",
   "execution_count": 49,
   "metadata": {
    "ExecuteTime": {
     "end_time": "2019-12-14T20:03:49.232519Z",
     "start_time": "2019-12-14T20:03:48.941264Z"
    }
   },
   "outputs": [
    {
     "data": {
      "image/png": "[encoded data removed]",
      "text/plain": [
       "<Figure size 432x288 with 1 Axes>"
      ]
     },
     "metadata": {
      "needs_background": "light"
     },
     "output_type": "display_data"
    }
   ],
   "source": [
    "sns.boxplot(x='Month', y='Log(Load)', data = month_data)\n",
    "plt.ylim(ymin=0);"
   ]
  },
  {
   "cell_type": "markdown",
   "metadata": {},
   "source": [
    "## Year"
   ]
  },
  {
   "cell_type": "code",
   "execution_count": 50,
   "metadata": {
    "ExecuteTime": {
     "end_time": "2019-12-14T20:03:49.242713Z",
     "start_time": "2019-12-14T20:03:49.234575Z"
    }
   },
   "outputs": [],
   "source": [
    "year_data = data[['DateTime', 'Load']].copy()\n",
    "year = data['DateTime'].dt.year\n",
    "year_data['Year'] = year"
   ]
  },
  {
   "cell_type": "code",
   "execution_count": 51,
   "metadata": {
    "ExecuteTime": {
     "end_time": "2019-12-14T20:03:49.421243Z",
     "start_time": "2019-12-14T20:03:49.244130Z"
    }
   },
   "outputs": [
    {
     "data": {
      "image/png": "[encoded data removed]",
      "text/plain": [
       "<Figure size 432x288 with 1 Axes>"
      ]
     },
     "metadata": {
      "needs_background": "light"
     },
     "output_type": "display_data"
    }
   ],
   "source": [
    "sns.boxplot(x='Year', y='Load',data=year_data)\n",
    "plt.ylim(ymin=0);"
   ]
  },
  {
   "cell_type": "markdown",
   "metadata": {},
   "source": [
    "# Create Features"
   ]
  },
  {
   "cell_type": "code",
   "execution_count": 52,
   "metadata": {
    "ExecuteTime": {
     "end_time": "2019-12-14T20:03:49.435395Z",
     "start_time": "2019-12-14T20:03:49.423359Z"
    }
   },
   "outputs": [
    {
     "data": {
      "text/html": [
       "<div>\n",
       "<style scoped>\n",
       "    .dataframe tbody tr th:only-of-type {\n",
       "        vertical-align: middle;\n",
       "    }\n",
       "\n",
       "    .dataframe tbody tr th {\n",
       "        vertical-align: top;\n",
       "    }\n",
       "\n",
       "    .dataframe thead th {\n",
       "        text-align: right;\n",
       "    }\n",
       "</style>\n",
       "<table border=\"1\" class=\"dataframe\">\n",
       "  <thead>\n",
       "    <tr style=\"text-align: right;\">\n",
       "      <th></th>\n",
       "      <th>Load</th>\n",
       "      <th>Temperature</th>\n",
       "      <th>DateTime</th>\n",
       "    </tr>\n",
       "  </thead>\n",
       "  <tbody>\n",
       "    <tr>\n",
       "      <th>0</th>\n",
       "      <td>10737.0</td>\n",
       "      <td>25.0</td>\n",
       "      <td>2008-01-01 01:00:00</td>\n",
       "    </tr>\n",
       "    <tr>\n",
       "      <th>1</th>\n",
       "      <td>10348.0</td>\n",
       "      <td>24.0</td>\n",
       "      <td>2008-01-01 02:00:00</td>\n",
       "    </tr>\n",
       "    <tr>\n",
       "      <th>2</th>\n",
       "      <td>9997.0</td>\n",
       "      <td>23.0</td>\n",
       "      <td>2008-01-01 03:00:00</td>\n",
       "    </tr>\n",
       "    <tr>\n",
       "      <th>3</th>\n",
       "      <td>9760.0</td>\n",
       "      <td>23.0</td>\n",
       "      <td>2008-01-01 04:00:00</td>\n",
       "    </tr>\n",
       "    <tr>\n",
       "      <th>4</th>\n",
       "      <td>9624.0</td>\n",
       "      <td>23.0</td>\n",
       "      <td>2008-01-01 05:00:00</td>\n",
       "    </tr>\n",
       "  </tbody>\n",
       "</table>\n",
       "</div>"
      ],
      "text/plain": [
       "      Load  Temperature            DateTime\n",
       "0  10737.0         25.0 2008-01-01 01:00:00\n",
       "1  10348.0         24.0 2008-01-01 02:00:00\n",
       "2   9997.0         23.0 2008-01-01 03:00:00\n",
       "3   9760.0         23.0 2008-01-01 04:00:00\n",
       "4   9624.0         23.0 2008-01-01 05:00:00"
      ]
     },
     "execution_count": 52,
     "metadata": {},
     "output_type": "execute_result"
    }
   ],
   "source": [
    "X = data.copy()\n",
    "X.pop('Date')\n",
    "X.pop('Hour')\n",
    "X = X[['Load', 'Temperature', 'DateTime']][:]\n",
    "X.head()"
   ]
  },
  {
   "cell_type": "markdown",
   "metadata": {},
   "source": [
    "## Temperature squared"
   ]
  },
  {
   "cell_type": "code",
   "execution_count": 53,
   "metadata": {
    "ExecuteTime": {
     "end_time": "2019-12-14T20:03:49.442884Z",
     "start_time": "2019-12-14T20:03:49.437452Z"
    }
   },
   "outputs": [],
   "source": [
    "X['Temperature_Squared'] = X['Temperature'] ** 2"
   ]
  },
  {
   "cell_type": "code",
   "execution_count": 54,
   "metadata": {
    "ExecuteTime": {
     "end_time": "2019-12-14T20:03:49.452525Z",
     "start_time": "2019-12-14T20:03:49.444276Z"
    }
   },
   "outputs": [
    {
     "data": {
      "text/html": [
       "<div>\n",
       "<style scoped>\n",
       "    .dataframe tbody tr th:only-of-type {\n",
       "        vertical-align: middle;\n",
       "    }\n",
       "\n",
       "    .dataframe tbody tr th {\n",
       "        vertical-align: top;\n",
       "    }\n",
       "\n",
       "    .dataframe thead th {\n",
       "        text-align: right;\n",
       "    }\n",
       "</style>\n",
       "<table border=\"1\" class=\"dataframe\">\n",
       "  <thead>\n",
       "    <tr style=\"text-align: right;\">\n",
       "      <th></th>\n",
       "      <th>Load</th>\n",
       "      <th>Temperature</th>\n",
       "      <th>DateTime</th>\n",
       "      <th>Temperature_Squared</th>\n",
       "    </tr>\n",
       "  </thead>\n",
       "  <tbody>\n",
       "    <tr>\n",
       "      <th>0</th>\n",
       "      <td>10737.0</td>\n",
       "      <td>25.0</td>\n",
       "      <td>2008-01-01 01:00:00</td>\n",
       "      <td>625.0</td>\n",
       "    </tr>\n",
       "    <tr>\n",
       "      <th>1</th>\n",
       "      <td>10348.0</td>\n",
       "      <td>24.0</td>\n",
       "      <td>2008-01-01 02:00:00</td>\n",
       "      <td>576.0</td>\n",
       "    </tr>\n",
       "    <tr>\n",
       "      <th>2</th>\n",
       "      <td>9997.0</td>\n",
       "      <td>23.0</td>\n",
       "      <td>2008-01-01 03:00:00</td>\n",
       "      <td>529.0</td>\n",
       "    </tr>\n",
       "    <tr>\n",
       "      <th>3</th>\n",
       "      <td>9760.0</td>\n",
       "      <td>23.0</td>\n",
       "      <td>2008-01-01 04:00:00</td>\n",
       "      <td>529.0</td>\n",
       "    </tr>\n",
       "    <tr>\n",
       "      <th>4</th>\n",
       "      <td>9624.0</td>\n",
       "      <td>23.0</td>\n",
       "      <td>2008-01-01 05:00:00</td>\n",
       "      <td>529.0</td>\n",
       "    </tr>\n",
       "  </tbody>\n",
       "</table>\n",
       "</div>"
      ],
      "text/plain": [
       "      Load  Temperature            DateTime  Temperature_Squared\n",
       "0  10737.0         25.0 2008-01-01 01:00:00                625.0\n",
       "1  10348.0         24.0 2008-01-01 02:00:00                576.0\n",
       "2   9997.0         23.0 2008-01-01 03:00:00                529.0\n",
       "3   9760.0         23.0 2008-01-01 04:00:00                529.0\n",
       "4   9624.0         23.0 2008-01-01 05:00:00                529.0"
      ]
     },
     "execution_count": 54,
     "metadata": {},
     "output_type": "execute_result"
    }
   ],
   "source": [
    "X.head()"
   ]
  },
  {
   "cell_type": "markdown",
   "metadata": {},
   "source": [
    "## Weekday"
   ]
  },
  {
   "cell_type": "code",
   "execution_count": 55,
   "metadata": {
    "ExecuteTime": {
     "end_time": "2019-12-14T20:03:49.462863Z",
     "start_time": "2019-12-14T20:03:49.456773Z"
    }
   },
   "outputs": [],
   "source": [
    "X['Weekday'] = X['DateTime'].dt.dayofweek"
   ]
  },
  {
   "cell_type": "code",
   "execution_count": 56,
   "metadata": {
    "ExecuteTime": {
     "end_time": "2019-12-14T20:03:49.473599Z",
     "start_time": "2019-12-14T20:03:49.464165Z"
    }
   },
   "outputs": [
    {
     "data": {
      "text/html": [
       "<div>\n",
       "<style scoped>\n",
       "    .dataframe tbody tr th:only-of-type {\n",
       "        vertical-align: middle;\n",
       "    }\n",
       "\n",
       "    .dataframe tbody tr th {\n",
       "        vertical-align: top;\n",
       "    }\n",
       "\n",
       "    .dataframe thead th {\n",
       "        text-align: right;\n",
       "    }\n",
       "</style>\n",
       "<table border=\"1\" class=\"dataframe\">\n",
       "  <thead>\n",
       "    <tr style=\"text-align: right;\">\n",
       "      <th></th>\n",
       "      <th>Load</th>\n",
       "      <th>Temperature</th>\n",
       "      <th>DateTime</th>\n",
       "      <th>Temperature_Squared</th>\n",
       "      <th>Weekday</th>\n",
       "    </tr>\n",
       "  </thead>\n",
       "  <tbody>\n",
       "    <tr>\n",
       "      <th>0</th>\n",
       "      <td>10737.0</td>\n",
       "      <td>25.0</td>\n",
       "      <td>2008-01-01 01:00:00</td>\n",
       "      <td>625.0</td>\n",
       "      <td>1</td>\n",
       "    </tr>\n",
       "    <tr>\n",
       "      <th>1</th>\n",
       "      <td>10348.0</td>\n",
       "      <td>24.0</td>\n",
       "      <td>2008-01-01 02:00:00</td>\n",
       "      <td>576.0</td>\n",
       "      <td>1</td>\n",
       "    </tr>\n",
       "    <tr>\n",
       "      <th>2</th>\n",
       "      <td>9997.0</td>\n",
       "      <td>23.0</td>\n",
       "      <td>2008-01-01 03:00:00</td>\n",
       "      <td>529.0</td>\n",
       "      <td>1</td>\n",
       "    </tr>\n",
       "    <tr>\n",
       "      <th>3</th>\n",
       "      <td>9760.0</td>\n",
       "      <td>23.0</td>\n",
       "      <td>2008-01-01 04:00:00</td>\n",
       "      <td>529.0</td>\n",
       "      <td>1</td>\n",
       "    </tr>\n",
       "    <tr>\n",
       "      <th>4</th>\n",
       "      <td>9624.0</td>\n",
       "      <td>23.0</td>\n",
       "      <td>2008-01-01 05:00:00</td>\n",
       "      <td>529.0</td>\n",
       "      <td>1</td>\n",
       "    </tr>\n",
       "  </tbody>\n",
       "</table>\n",
       "</div>"
      ],
      "text/plain": [
       "      Load  Temperature            DateTime  Temperature_Squared  Weekday\n",
       "0  10737.0         25.0 2008-01-01 01:00:00                625.0        1\n",
       "1  10348.0         24.0 2008-01-01 02:00:00                576.0        1\n",
       "2   9997.0         23.0 2008-01-01 03:00:00                529.0        1\n",
       "3   9760.0         23.0 2008-01-01 04:00:00                529.0        1\n",
       "4   9624.0         23.0 2008-01-01 05:00:00                529.0        1"
      ]
     },
     "execution_count": 56,
     "metadata": {},
     "output_type": "execute_result"
    }
   ],
   "source": [
    "X.head()"
   ]
  },
  {
   "cell_type": "code",
   "execution_count": 57,
   "metadata": {
    "ExecuteTime": {
     "end_time": "2019-12-14T20:03:49.485359Z",
     "start_time": "2019-12-14T20:03:49.474767Z"
    }
   },
   "outputs": [
    {
     "data": {
      "text/html": [
       "<div>\n",
       "<style scoped>\n",
       "    .dataframe tbody tr th:only-of-type {\n",
       "        vertical-align: middle;\n",
       "    }\n",
       "\n",
       "    .dataframe tbody tr th {\n",
       "        vertical-align: top;\n",
       "    }\n",
       "\n",
       "    .dataframe thead th {\n",
       "        text-align: right;\n",
       "    }\n",
       "</style>\n",
       "<table border=\"1\" class=\"dataframe\">\n",
       "  <thead>\n",
       "    <tr style=\"text-align: right;\">\n",
       "      <th></th>\n",
       "      <th>Weekday_0</th>\n",
       "      <th>Weekday_1</th>\n",
       "      <th>Weekday_2</th>\n",
       "      <th>Weekday_3</th>\n",
       "      <th>Weekday_4</th>\n",
       "      <th>Weekday_5</th>\n",
       "      <th>Weekday_6</th>\n",
       "    </tr>\n",
       "  </thead>\n",
       "  <tbody>\n",
       "    <tr>\n",
       "      <th>0</th>\n",
       "      <td>0</td>\n",
       "      <td>1</td>\n",
       "      <td>0</td>\n",
       "      <td>0</td>\n",
       "      <td>0</td>\n",
       "      <td>0</td>\n",
       "      <td>0</td>\n",
       "    </tr>\n",
       "    <tr>\n",
       "      <th>1</th>\n",
       "      <td>0</td>\n",
       "      <td>1</td>\n",
       "      <td>0</td>\n",
       "      <td>0</td>\n",
       "      <td>0</td>\n",
       "      <td>0</td>\n",
       "      <td>0</td>\n",
       "    </tr>\n",
       "    <tr>\n",
       "      <th>2</th>\n",
       "      <td>0</td>\n",
       "      <td>1</td>\n",
       "      <td>0</td>\n",
       "      <td>0</td>\n",
       "      <td>0</td>\n",
       "      <td>0</td>\n",
       "      <td>0</td>\n",
       "    </tr>\n",
       "    <tr>\n",
       "      <th>3</th>\n",
       "      <td>0</td>\n",
       "      <td>1</td>\n",
       "      <td>0</td>\n",
       "      <td>0</td>\n",
       "      <td>0</td>\n",
       "      <td>0</td>\n",
       "      <td>0</td>\n",
       "    </tr>\n",
       "    <tr>\n",
       "      <th>4</th>\n",
       "      <td>0</td>\n",
       "      <td>1</td>\n",
       "      <td>0</td>\n",
       "      <td>0</td>\n",
       "      <td>0</td>\n",
       "      <td>0</td>\n",
       "      <td>0</td>\n",
       "    </tr>\n",
       "  </tbody>\n",
       "</table>\n",
       "</div>"
      ],
      "text/plain": [
       "   Weekday_0  Weekday_1  Weekday_2  Weekday_3  Weekday_4  Weekday_5  Weekday_6\n",
       "0          0          1          0          0          0          0          0\n",
       "1          0          1          0          0          0          0          0\n",
       "2          0          1          0          0          0          0          0\n",
       "3          0          1          0          0          0          0          0\n",
       "4          0          1          0          0          0          0          0"
      ]
     },
     "execution_count": 57,
     "metadata": {},
     "output_type": "execute_result"
    }
   ],
   "source": [
    "dummy_weekday = pd.get_dummies(X['Weekday'], prefix='Weekday')\n",
    "dummy_weekday.head()"
   ]
  },
  {
   "cell_type": "code",
   "execution_count": 58,
   "metadata": {
    "ExecuteTime": {
     "end_time": "2019-12-14T20:03:49.492231Z",
     "start_time": "2019-12-14T20:03:49.486705Z"
    }
   },
   "outputs": [],
   "source": [
    "X = pd.concat([X, dummy_weekday], axis =1)"
   ]
  },
  {
   "cell_type": "code",
   "execution_count": 59,
   "metadata": {
    "ExecuteTime": {
     "end_time": "2019-12-14T20:03:49.504710Z",
     "start_time": "2019-12-14T20:03:49.493517Z"
    }
   },
   "outputs": [
    {
     "data": {
      "text/html": [
       "<div>\n",
       "<style scoped>\n",
       "    .dataframe tbody tr th:only-of-type {\n",
       "        vertical-align: middle;\n",
       "    }\n",
       "\n",
       "    .dataframe tbody tr th {\n",
       "        vertical-align: top;\n",
       "    }\n",
       "\n",
       "    .dataframe thead th {\n",
       "        text-align: right;\n",
       "    }\n",
       "</style>\n",
       "<table border=\"1\" class=\"dataframe\">\n",
       "  <thead>\n",
       "    <tr style=\"text-align: right;\">\n",
       "      <th></th>\n",
       "      <th>Load</th>\n",
       "      <th>Temperature</th>\n",
       "      <th>DateTime</th>\n",
       "      <th>Temperature_Squared</th>\n",
       "      <th>Weekday</th>\n",
       "      <th>Weekday_0</th>\n",
       "      <th>Weekday_1</th>\n",
       "      <th>Weekday_2</th>\n",
       "      <th>Weekday_3</th>\n",
       "      <th>Weekday_4</th>\n",
       "      <th>Weekday_5</th>\n",
       "      <th>Weekday_6</th>\n",
       "    </tr>\n",
       "  </thead>\n",
       "  <tbody>\n",
       "    <tr>\n",
       "      <th>0</th>\n",
       "      <td>10737.0</td>\n",
       "      <td>25.0</td>\n",
       "      <td>2008-01-01 01:00:00</td>\n",
       "      <td>625.0</td>\n",
       "      <td>1</td>\n",
       "      <td>0</td>\n",
       "      <td>1</td>\n",
       "      <td>0</td>\n",
       "      <td>0</td>\n",
       "      <td>0</td>\n",
       "      <td>0</td>\n",
       "      <td>0</td>\n",
       "    </tr>\n",
       "    <tr>\n",
       "      <th>1</th>\n",
       "      <td>10348.0</td>\n",
       "      <td>24.0</td>\n",
       "      <td>2008-01-01 02:00:00</td>\n",
       "      <td>576.0</td>\n",
       "      <td>1</td>\n",
       "      <td>0</td>\n",
       "      <td>1</td>\n",
       "      <td>0</td>\n",
       "      <td>0</td>\n",
       "      <td>0</td>\n",
       "      <td>0</td>\n",
       "      <td>0</td>\n",
       "    </tr>\n",
       "    <tr>\n",
       "      <th>2</th>\n",
       "      <td>9997.0</td>\n",
       "      <td>23.0</td>\n",
       "      <td>2008-01-01 03:00:00</td>\n",
       "      <td>529.0</td>\n",
       "      <td>1</td>\n",
       "      <td>0</td>\n",
       "      <td>1</td>\n",
       "      <td>0</td>\n",
       "      <td>0</td>\n",
       "      <td>0</td>\n",
       "      <td>0</td>\n",
       "      <td>0</td>\n",
       "    </tr>\n",
       "    <tr>\n",
       "      <th>3</th>\n",
       "      <td>9760.0</td>\n",
       "      <td>23.0</td>\n",
       "      <td>2008-01-01 04:00:00</td>\n",
       "      <td>529.0</td>\n",
       "      <td>1</td>\n",
       "      <td>0</td>\n",
       "      <td>1</td>\n",
       "      <td>0</td>\n",
       "      <td>0</td>\n",
       "      <td>0</td>\n",
       "      <td>0</td>\n",
       "      <td>0</td>\n",
       "    </tr>\n",
       "    <tr>\n",
       "      <th>4</th>\n",
       "      <td>9624.0</td>\n",
       "      <td>23.0</td>\n",
       "      <td>2008-01-01 05:00:00</td>\n",
       "      <td>529.0</td>\n",
       "      <td>1</td>\n",
       "      <td>0</td>\n",
       "      <td>1</td>\n",
       "      <td>0</td>\n",
       "      <td>0</td>\n",
       "      <td>0</td>\n",
       "      <td>0</td>\n",
       "      <td>0</td>\n",
       "    </tr>\n",
       "  </tbody>\n",
       "</table>\n",
       "</div>"
      ],
      "text/plain": [
       "      Load  Temperature            DateTime  Temperature_Squared  Weekday  \\\n",
       "0  10737.0         25.0 2008-01-01 01:00:00                625.0        1   \n",
       "1  10348.0         24.0 2008-01-01 02:00:00                576.0        1   \n",
       "2   9997.0         23.0 2008-01-01 03:00:00                529.0        1   \n",
       "3   9760.0         23.0 2008-01-01 04:00:00                529.0        1   \n",
       "4   9624.0         23.0 2008-01-01 05:00:00                529.0        1   \n",
       "\n",
       "   Weekday_0  Weekday_1  Weekday_2  Weekday_3  Weekday_4  Weekday_5  Weekday_6  \n",
       "0          0          1          0          0          0          0          0  \n",
       "1          0          1          0          0          0          0          0  \n",
       "2          0          1          0          0          0          0          0  \n",
       "3          0          1          0          0          0          0          0  \n",
       "4          0          1          0          0          0          0          0  "
      ]
     },
     "execution_count": 59,
     "metadata": {},
     "output_type": "execute_result"
    }
   ],
   "source": [
    "X.head()"
   ]
  },
  {
   "cell_type": "code",
   "execution_count": 60,
   "metadata": {
    "ExecuteTime": {
     "end_time": "2019-12-14T20:03:49.510989Z",
     "start_time": "2019-12-14T20:03:49.505967Z"
    }
   },
   "outputs": [
    {
     "data": {
      "text/plain": [
       "0        1\n",
       "1        1\n",
       "2        1\n",
       "3        1\n",
       "4        1\n",
       "        ..\n",
       "43843    0\n",
       "43844    0\n",
       "43845    0\n",
       "43846    0\n",
       "43847    1\n",
       "Name: Weekday, Length: 43848, dtype: int64"
      ]
     },
     "execution_count": 60,
     "metadata": {},
     "output_type": "execute_result"
    }
   ],
   "source": [
    "X.pop('Weekday')"
   ]
  },
  {
   "cell_type": "markdown",
   "metadata": {},
   "source": [
    "## Month"
   ]
  },
  {
   "cell_type": "code",
   "execution_count": 61,
   "metadata": {
    "ExecuteTime": {
     "end_time": "2019-12-14T20:03:49.517865Z",
     "start_time": "2019-12-14T20:03:49.512327Z"
    }
   },
   "outputs": [],
   "source": [
    "X['Month'] = X['DateTime'].dt.month"
   ]
  },
  {
   "cell_type": "code",
   "execution_count": 62,
   "metadata": {
    "ExecuteTime": {
     "end_time": "2019-12-14T20:03:49.530614Z",
     "start_time": "2019-12-14T20:03:49.519082Z"
    }
   },
   "outputs": [
    {
     "data": {
      "text/html": [
       "<div>\n",
       "<style scoped>\n",
       "    .dataframe tbody tr th:only-of-type {\n",
       "        vertical-align: middle;\n",
       "    }\n",
       "\n",
       "    .dataframe tbody tr th {\n",
       "        vertical-align: top;\n",
       "    }\n",
       "\n",
       "    .dataframe thead th {\n",
       "        text-align: right;\n",
       "    }\n",
       "</style>\n",
       "<table border=\"1\" class=\"dataframe\">\n",
       "  <thead>\n",
       "    <tr style=\"text-align: right;\">\n",
       "      <th></th>\n",
       "      <th>Load</th>\n",
       "      <th>Temperature</th>\n",
       "      <th>DateTime</th>\n",
       "      <th>Temperature_Squared</th>\n",
       "      <th>Weekday_0</th>\n",
       "      <th>Weekday_1</th>\n",
       "      <th>Weekday_2</th>\n",
       "      <th>Weekday_3</th>\n",
       "      <th>Weekday_4</th>\n",
       "      <th>Weekday_5</th>\n",
       "      <th>Weekday_6</th>\n",
       "      <th>Month</th>\n",
       "    </tr>\n",
       "  </thead>\n",
       "  <tbody>\n",
       "    <tr>\n",
       "      <th>0</th>\n",
       "      <td>10737.0</td>\n",
       "      <td>25.0</td>\n",
       "      <td>2008-01-01 01:00:00</td>\n",
       "      <td>625.0</td>\n",
       "      <td>0</td>\n",
       "      <td>1</td>\n",
       "      <td>0</td>\n",
       "      <td>0</td>\n",
       "      <td>0</td>\n",
       "      <td>0</td>\n",
       "      <td>0</td>\n",
       "      <td>1</td>\n",
       "    </tr>\n",
       "    <tr>\n",
       "      <th>1</th>\n",
       "      <td>10348.0</td>\n",
       "      <td>24.0</td>\n",
       "      <td>2008-01-01 02:00:00</td>\n",
       "      <td>576.0</td>\n",
       "      <td>0</td>\n",
       "      <td>1</td>\n",
       "      <td>0</td>\n",
       "      <td>0</td>\n",
       "      <td>0</td>\n",
       "      <td>0</td>\n",
       "      <td>0</td>\n",
       "      <td>1</td>\n",
       "    </tr>\n",
       "    <tr>\n",
       "      <th>2</th>\n",
       "      <td>9997.0</td>\n",
       "      <td>23.0</td>\n",
       "      <td>2008-01-01 03:00:00</td>\n",
       "      <td>529.0</td>\n",
       "      <td>0</td>\n",
       "      <td>1</td>\n",
       "      <td>0</td>\n",
       "      <td>0</td>\n",
       "      <td>0</td>\n",
       "      <td>0</td>\n",
       "      <td>0</td>\n",
       "      <td>1</td>\n",
       "    </tr>\n",
       "    <tr>\n",
       "      <th>3</th>\n",
       "      <td>9760.0</td>\n",
       "      <td>23.0</td>\n",
       "      <td>2008-01-01 04:00:00</td>\n",
       "      <td>529.0</td>\n",
       "      <td>0</td>\n",
       "      <td>1</td>\n",
       "      <td>0</td>\n",
       "      <td>0</td>\n",
       "      <td>0</td>\n",
       "      <td>0</td>\n",
       "      <td>0</td>\n",
       "      <td>1</td>\n",
       "    </tr>\n",
       "    <tr>\n",
       "      <th>4</th>\n",
       "      <td>9624.0</td>\n",
       "      <td>23.0</td>\n",
       "      <td>2008-01-01 05:00:00</td>\n",
       "      <td>529.0</td>\n",
       "      <td>0</td>\n",
       "      <td>1</td>\n",
       "      <td>0</td>\n",
       "      <td>0</td>\n",
       "      <td>0</td>\n",
       "      <td>0</td>\n",
       "      <td>0</td>\n",
       "      <td>1</td>\n",
       "    </tr>\n",
       "  </tbody>\n",
       "</table>\n",
       "</div>"
      ],
      "text/plain": [
       "      Load  Temperature            DateTime  Temperature_Squared  Weekday_0  \\\n",
       "0  10737.0         25.0 2008-01-01 01:00:00                625.0          0   \n",
       "1  10348.0         24.0 2008-01-01 02:00:00                576.0          0   \n",
       "2   9997.0         23.0 2008-01-01 03:00:00                529.0          0   \n",
       "3   9760.0         23.0 2008-01-01 04:00:00                529.0          0   \n",
       "4   9624.0         23.0 2008-01-01 05:00:00                529.0          0   \n",
       "\n",
       "   Weekday_1  Weekday_2  Weekday_3  Weekday_4  Weekday_5  Weekday_6  Month  \n",
       "0          1          0          0          0          0          0      1  \n",
       "1          1          0          0          0          0          0      1  \n",
       "2          1          0          0          0          0          0      1  \n",
       "3          1          0          0          0          0          0      1  \n",
       "4          1          0          0          0          0          0      1  "
      ]
     },
     "execution_count": 62,
     "metadata": {},
     "output_type": "execute_result"
    }
   ],
   "source": [
    "X.head()"
   ]
  },
  {
   "cell_type": "code",
   "execution_count": 63,
   "metadata": {
    "ExecuteTime": {
     "end_time": "2019-12-14T20:03:49.543539Z",
     "start_time": "2019-12-14T20:03:49.532240Z"
    }
   },
   "outputs": [
    {
     "data": {
      "text/html": [
       "<div>\n",
       "<style scoped>\n",
       "    .dataframe tbody tr th:only-of-type {\n",
       "        vertical-align: middle;\n",
       "    }\n",
       "\n",
       "    .dataframe tbody tr th {\n",
       "        vertical-align: top;\n",
       "    }\n",
       "\n",
       "    .dataframe thead th {\n",
       "        text-align: right;\n",
       "    }\n",
       "</style>\n",
       "<table border=\"1\" class=\"dataframe\">\n",
       "  <thead>\n",
       "    <tr style=\"text-align: right;\">\n",
       "      <th></th>\n",
       "      <th>Month_1</th>\n",
       "      <th>Month_2</th>\n",
       "      <th>Month_3</th>\n",
       "      <th>Month_4</th>\n",
       "      <th>Month_5</th>\n",
       "      <th>Month_6</th>\n",
       "      <th>Month_7</th>\n",
       "      <th>Month_8</th>\n",
       "      <th>Month_9</th>\n",
       "      <th>Month_10</th>\n",
       "      <th>Month_11</th>\n",
       "      <th>Month_12</th>\n",
       "    </tr>\n",
       "  </thead>\n",
       "  <tbody>\n",
       "    <tr>\n",
       "      <th>0</th>\n",
       "      <td>1</td>\n",
       "      <td>0</td>\n",
       "      <td>0</td>\n",
       "      <td>0</td>\n",
       "      <td>0</td>\n",
       "      <td>0</td>\n",
       "      <td>0</td>\n",
       "      <td>0</td>\n",
       "      <td>0</td>\n",
       "      <td>0</td>\n",
       "      <td>0</td>\n",
       "      <td>0</td>\n",
       "    </tr>\n",
       "    <tr>\n",
       "      <th>1</th>\n",
       "      <td>1</td>\n",
       "      <td>0</td>\n",
       "      <td>0</td>\n",
       "      <td>0</td>\n",
       "      <td>0</td>\n",
       "      <td>0</td>\n",
       "      <td>0</td>\n",
       "      <td>0</td>\n",
       "      <td>0</td>\n",
       "      <td>0</td>\n",
       "      <td>0</td>\n",
       "      <td>0</td>\n",
       "    </tr>\n",
       "    <tr>\n",
       "      <th>2</th>\n",
       "      <td>1</td>\n",
       "      <td>0</td>\n",
       "      <td>0</td>\n",
       "      <td>0</td>\n",
       "      <td>0</td>\n",
       "      <td>0</td>\n",
       "      <td>0</td>\n",
       "      <td>0</td>\n",
       "      <td>0</td>\n",
       "      <td>0</td>\n",
       "      <td>0</td>\n",
       "      <td>0</td>\n",
       "    </tr>\n",
       "    <tr>\n",
       "      <th>3</th>\n",
       "      <td>1</td>\n",
       "      <td>0</td>\n",
       "      <td>0</td>\n",
       "      <td>0</td>\n",
       "      <td>0</td>\n",
       "      <td>0</td>\n",
       "      <td>0</td>\n",
       "      <td>0</td>\n",
       "      <td>0</td>\n",
       "      <td>0</td>\n",
       "      <td>0</td>\n",
       "      <td>0</td>\n",
       "    </tr>\n",
       "    <tr>\n",
       "      <th>4</th>\n",
       "      <td>1</td>\n",
       "      <td>0</td>\n",
       "      <td>0</td>\n",
       "      <td>0</td>\n",
       "      <td>0</td>\n",
       "      <td>0</td>\n",
       "      <td>0</td>\n",
       "      <td>0</td>\n",
       "      <td>0</td>\n",
       "      <td>0</td>\n",
       "      <td>0</td>\n",
       "      <td>0</td>\n",
       "    </tr>\n",
       "  </tbody>\n",
       "</table>\n",
       "</div>"
      ],
      "text/plain": [
       "   Month_1  Month_2  Month_3  Month_4  Month_5  Month_6  Month_7  Month_8  \\\n",
       "0        1        0        0        0        0        0        0        0   \n",
       "1        1        0        0        0        0        0        0        0   \n",
       "2        1        0        0        0        0        0        0        0   \n",
       "3        1        0        0        0        0        0        0        0   \n",
       "4        1        0        0        0        0        0        0        0   \n",
       "\n",
       "   Month_9  Month_10  Month_11  Month_12  \n",
       "0        0         0         0         0  \n",
       "1        0         0         0         0  \n",
       "2        0         0         0         0  \n",
       "3        0         0         0         0  \n",
       "4        0         0         0         0  "
      ]
     },
     "execution_count": 63,
     "metadata": {},
     "output_type": "execute_result"
    }
   ],
   "source": [
    "dummy_month = pd.get_dummies(X['Month'], prefix='Month')\n",
    "dummy_month.head()"
   ]
  },
  {
   "cell_type": "code",
   "execution_count": 64,
   "metadata": {
    "ExecuteTime": {
     "end_time": "2019-12-14T20:03:49.567482Z",
     "start_time": "2019-12-14T20:03:49.547377Z"
    }
   },
   "outputs": [
    {
     "data": {
      "text/html": [
       "<div>\n",
       "<style scoped>\n",
       "    .dataframe tbody tr th:only-of-type {\n",
       "        vertical-align: middle;\n",
       "    }\n",
       "\n",
       "    .dataframe tbody tr th {\n",
       "        vertical-align: top;\n",
       "    }\n",
       "\n",
       "    .dataframe thead th {\n",
       "        text-align: right;\n",
       "    }\n",
       "</style>\n",
       "<table border=\"1\" class=\"dataframe\">\n",
       "  <thead>\n",
       "    <tr style=\"text-align: right;\">\n",
       "      <th></th>\n",
       "      <th>Load</th>\n",
       "      <th>Temperature</th>\n",
       "      <th>DateTime</th>\n",
       "      <th>Temperature_Squared</th>\n",
       "      <th>Weekday_0</th>\n",
       "      <th>Weekday_1</th>\n",
       "      <th>Weekday_2</th>\n",
       "      <th>Weekday_3</th>\n",
       "      <th>Weekday_4</th>\n",
       "      <th>Weekday_5</th>\n",
       "      <th>...</th>\n",
       "      <th>Month_3</th>\n",
       "      <th>Month_4</th>\n",
       "      <th>Month_5</th>\n",
       "      <th>Month_6</th>\n",
       "      <th>Month_7</th>\n",
       "      <th>Month_8</th>\n",
       "      <th>Month_9</th>\n",
       "      <th>Month_10</th>\n",
       "      <th>Month_11</th>\n",
       "      <th>Month_12</th>\n",
       "    </tr>\n",
       "  </thead>\n",
       "  <tbody>\n",
       "    <tr>\n",
       "      <th>0</th>\n",
       "      <td>10737.0</td>\n",
       "      <td>25.0</td>\n",
       "      <td>2008-01-01 01:00:00</td>\n",
       "      <td>625.0</td>\n",
       "      <td>0</td>\n",
       "      <td>1</td>\n",
       "      <td>0</td>\n",
       "      <td>0</td>\n",
       "      <td>0</td>\n",
       "      <td>0</td>\n",
       "      <td>...</td>\n",
       "      <td>0</td>\n",
       "      <td>0</td>\n",
       "      <td>0</td>\n",
       "      <td>0</td>\n",
       "      <td>0</td>\n",
       "      <td>0</td>\n",
       "      <td>0</td>\n",
       "      <td>0</td>\n",
       "      <td>0</td>\n",
       "      <td>0</td>\n",
       "    </tr>\n",
       "    <tr>\n",
       "      <th>1</th>\n",
       "      <td>10348.0</td>\n",
       "      <td>24.0</td>\n",
       "      <td>2008-01-01 02:00:00</td>\n",
       "      <td>576.0</td>\n",
       "      <td>0</td>\n",
       "      <td>1</td>\n",
       "      <td>0</td>\n",
       "      <td>0</td>\n",
       "      <td>0</td>\n",
       "      <td>0</td>\n",
       "      <td>...</td>\n",
       "      <td>0</td>\n",
       "      <td>0</td>\n",
       "      <td>0</td>\n",
       "      <td>0</td>\n",
       "      <td>0</td>\n",
       "      <td>0</td>\n",
       "      <td>0</td>\n",
       "      <td>0</td>\n",
       "      <td>0</td>\n",
       "      <td>0</td>\n",
       "    </tr>\n",
       "    <tr>\n",
       "      <th>2</th>\n",
       "      <td>9997.0</td>\n",
       "      <td>23.0</td>\n",
       "      <td>2008-01-01 03:00:00</td>\n",
       "      <td>529.0</td>\n",
       "      <td>0</td>\n",
       "      <td>1</td>\n",
       "      <td>0</td>\n",
       "      <td>0</td>\n",
       "      <td>0</td>\n",
       "      <td>0</td>\n",
       "      <td>...</td>\n",
       "      <td>0</td>\n",
       "      <td>0</td>\n",
       "      <td>0</td>\n",
       "      <td>0</td>\n",
       "      <td>0</td>\n",
       "      <td>0</td>\n",
       "      <td>0</td>\n",
       "      <td>0</td>\n",
       "      <td>0</td>\n",
       "      <td>0</td>\n",
       "    </tr>\n",
       "    <tr>\n",
       "      <th>3</th>\n",
       "      <td>9760.0</td>\n",
       "      <td>23.0</td>\n",
       "      <td>2008-01-01 04:00:00</td>\n",
       "      <td>529.0</td>\n",
       "      <td>0</td>\n",
       "      <td>1</td>\n",
       "      <td>0</td>\n",
       "      <td>0</td>\n",
       "      <td>0</td>\n",
       "      <td>0</td>\n",
       "      <td>...</td>\n",
       "      <td>0</td>\n",
       "      <td>0</td>\n",
       "      <td>0</td>\n",
       "      <td>0</td>\n",
       "      <td>0</td>\n",
       "      <td>0</td>\n",
       "      <td>0</td>\n",
       "      <td>0</td>\n",
       "      <td>0</td>\n",
       "      <td>0</td>\n",
       "    </tr>\n",
       "    <tr>\n",
       "      <th>4</th>\n",
       "      <td>9624.0</td>\n",
       "      <td>23.0</td>\n",
       "      <td>2008-01-01 05:00:00</td>\n",
       "      <td>529.0</td>\n",
       "      <td>0</td>\n",
       "      <td>1</td>\n",
       "      <td>0</td>\n",
       "      <td>0</td>\n",
       "      <td>0</td>\n",
       "      <td>0</td>\n",
       "      <td>...</td>\n",
       "      <td>0</td>\n",
       "      <td>0</td>\n",
       "      <td>0</td>\n",
       "      <td>0</td>\n",
       "      <td>0</td>\n",
       "      <td>0</td>\n",
       "      <td>0</td>\n",
       "      <td>0</td>\n",
       "      <td>0</td>\n",
       "      <td>0</td>\n",
       "    </tr>\n",
       "  </tbody>\n",
       "</table>\n",
       "<p>5 rows × 24 columns</p>\n",
       "</div>"
      ],
      "text/plain": [
       "      Load  Temperature            DateTime  Temperature_Squared  Weekday_0  \\\n",
       "0  10737.0         25.0 2008-01-01 01:00:00                625.0          0   \n",
       "1  10348.0         24.0 2008-01-01 02:00:00                576.0          0   \n",
       "2   9997.0         23.0 2008-01-01 03:00:00                529.0          0   \n",
       "3   9760.0         23.0 2008-01-01 04:00:00                529.0          0   \n",
       "4   9624.0         23.0 2008-01-01 05:00:00                529.0          0   \n",
       "\n",
       "   Weekday_1  Weekday_2  Weekday_3  Weekday_4  Weekday_5  ...  Month_3  \\\n",
       "0          1          0          0          0          0  ...        0   \n",
       "1          1          0          0          0          0  ...        0   \n",
       "2          1          0          0          0          0  ...        0   \n",
       "3          1          0          0          0          0  ...        0   \n",
       "4          1          0          0          0          0  ...        0   \n",
       "\n",
       "   Month_4  Month_5  Month_6  Month_7  Month_8  Month_9  Month_10  Month_11  \\\n",
       "0        0        0        0        0        0        0         0         0   \n",
       "1        0        0        0        0        0        0         0         0   \n",
       "2        0        0        0        0        0        0         0         0   \n",
       "3        0        0        0        0        0        0         0         0   \n",
       "4        0        0        0        0        0        0         0         0   \n",
       "\n",
       "   Month_12  \n",
       "0         0  \n",
       "1         0  \n",
       "2         0  \n",
       "3         0  \n",
       "4         0  \n",
       "\n",
       "[5 rows x 24 columns]"
      ]
     },
     "execution_count": 64,
     "metadata": {},
     "output_type": "execute_result"
    }
   ],
   "source": [
    "X = pd.concat([X, dummy_month], axis =1)\n",
    "X.head()"
   ]
  },
  {
   "cell_type": "code",
   "execution_count": 65,
   "metadata": {
    "ExecuteTime": {
     "end_time": "2019-12-14T20:03:49.574889Z",
     "start_time": "2019-12-14T20:03:49.569280Z"
    }
   },
   "outputs": [
    {
     "data": {
      "text/plain": [
       "0         1\n",
       "1         1\n",
       "2         1\n",
       "3         1\n",
       "4         1\n",
       "         ..\n",
       "43843    12\n",
       "43844    12\n",
       "43845    12\n",
       "43846    12\n",
       "43847     1\n",
       "Name: Month, Length: 43848, dtype: int64"
      ]
     },
     "execution_count": 65,
     "metadata": {},
     "output_type": "execute_result"
    }
   ],
   "source": [
    "X.pop('Month')"
   ]
  },
  {
   "cell_type": "markdown",
   "metadata": {},
   "source": [
    "## Expert Variables"
   ]
  },
  {
   "cell_type": "code",
   "execution_count": 472,
   "metadata": {
    "ExecuteTime": {
     "end_time": "2019-12-15T03:17:05.985614Z",
     "start_time": "2019-12-15T03:17:05.969816Z"
    }
   },
   "outputs": [],
   "source": [
    "def yt(lag, data_yt):\n",
    "    this_dataframe = data_yt.shift(periods = lag)\n",
    "    # Trend\n",
    "    this_dataframe['Trend'] = range(this_dataframe.shape[0])\n",
    "    # Month of the year\n",
    "    this_dataframe['Month'] = this_dataframe['DateTime'].dt.month\n",
    "    # Day of the week\n",
    "    this_dataframe['Week'] = this_dataframe['DateTime'].dt.dayofweek\n",
    "    # Hour of the day\n",
    "    this_dataframe['Hour'] = this_dataframe['DateTime'].dt.hour\n",
    "    # I(Week, Hour)\n",
    "    this_dataframe['Week_Hour'] = this_dataframe['Week'] * this_dataframe['Hour']\n",
    "    this_dataframe.drop(['DateTime', 'Temperature'], inplace = True, axis = 1)\n",
    "    return this_dataframe\n",
    "\n",
    "def fofT(column, lag, data_fofT):\n",
    "    this_dataframe = data_fofT.shift(periods = lag)\n",
    "    # Temperatrue\n",
    "    this_dataframe['Lag_'+ str(lag) +'_' + str(column)] = this_dataframe[column]\n",
    "    # Temperatrue ** 2\n",
    "    this_dataframe['Lag_'+ str(lag) +'_' + str(column) + '_2'] = this_dataframe[column] ** 2\n",
    "    # Temperatrue ** 3\n",
    "    this_dataframe['Lag_'+ str(lag) +'_' + str(column) + '_3'] = this_dataframe[column] ** 3\n",
    "    # I(T, Month)\n",
    "    this_dataframe['Lag_'+ str(lag) +'_' + str(column) + '_Month'] = this_dataframe[column] * this_dataframe['Month']\n",
    "    # I(T_2, Month)\n",
    "    this_dataframe['Lag_'+ str(lag) +'_' + str(column) + '_2_Month'] = this_dataframe['Lag_'+ str(lag) +'_' + str(column) + '_2'] * this_dataframe['Month']\n",
    "    # I(T_3, Month)\n",
    "    this_dataframe['Lag_'+ str(lag) +'_' + str(column) + '_3_Month'] = this_dataframe['Lag_'+ str(lag) +'_' + str(column) + '_3'] * this_dataframe['Month']\n",
    "    # I(T, Hour)\n",
    "    this_dataframe['Lag_'+ str(lag) +'_' + str(column) + '_Hour'] = this_dataframe[column] * this_dataframe['Hour']\n",
    "    # I(T_2, Hour)\n",
    "    this_dataframe['Lag_'+ str(lag) +'_' + str(column) + '_2_Hour'] = this_dataframe['Lag_'+ str(lag) +'_' + str(column) + '_2'] * this_dataframe['Hour']\n",
    "    # I(T_3, Hour)\n",
    "    this_dataframe['Lag_'+ str(lag) +'_' + str(column) + '_3_Hour'] = this_dataframe['Lag_'+ str(lag) +'_' + str(column) + '_3'] * this_dataframe['Hour']\n",
    "    try:\n",
    "        this_dataframe.drop(['DateTime', 'Month', 'Hour', column], inplace = True, axis = 1)\n",
    "    except:\n",
    "        pass\n",
    "    return this_dataframe"
   ]
  },
  {
   "cell_type": "code",
   "execution_count": 473,
   "metadata": {
    "ExecuteTime": {
     "end_time": "2019-12-15T03:17:22.511048Z",
     "start_time": "2019-12-15T03:17:06.349531Z"
    }
   },
   "outputs": [],
   "source": [
    "# build the dataframe for fofT\n",
    "data_fofT = data.copy()\n",
    "data_fofT.drop(['Date', 'Hour', 'Load'], inplace = True, axis = 1)\n",
    "data_fofT['Month'] = data_fofT['DateTime'].dt.month\n",
    "data_fofT['Hour'] = data_fofT['DateTime'].dt.hour\n",
    "# data_fofT.set_index('DateTime', inplace = True)\n",
    "data_yt = data[['Load', 'Temperature', 'DateTime']][:]\n",
    "data_rolling = data_fofT.copy()\n",
    "data_rolling['Temperature_Rolling_last_24hour'] = data_rolling['Temperature'].shift(1).rolling(window=24).mean()\n",
    "data_rolling.drop('Temperature', inplace = True, axis = 1)\n",
    "base_data = yt(0, data_yt)\n",
    "X_build_model = base_data[:]\n",
    "for h in range(73):\n",
    "    lag_h = fofT('Temperature', h, data_fofT)\n",
    "    X_build_model = pd.concat([X_build_model, lag_h], axis = 1)\n",
    "for day in range(1, 8):\n",
    "    lag_day = fofT('Temperature_Rolling_last_24hour', (day-1) * 24, data_rolling)\n",
    "    X_build_model = pd.concat([X_build_model, lag_day], axis = 1)"
   ]
  },
  {
   "cell_type": "code",
   "execution_count": 474,
   "metadata": {
    "ExecuteTime": {
     "end_time": "2019-12-15T03:18:17.584687Z",
     "start_time": "2019-12-15T03:18:17.581669Z"
    }
   },
   "outputs": [],
   "source": [
    "X_build_model.index = data['DateTime']"
   ]
  },
  {
   "cell_type": "markdown",
   "metadata": {},
   "source": [
    "# Feature Selection"
   ]
  },
  {
   "cell_type": "code",
   "execution_count": 487,
   "metadata": {
    "ExecuteTime": {
     "end_time": "2019-12-15T03:41:42.374777Z",
     "start_time": "2019-12-15T03:41:41.815745Z"
    }
   },
   "outputs": [],
   "source": [
    "X_train = X_build_model[:'2010-12-31'].dropna()\n",
    "X_train_x, X_train_y = X_train.drop('Load', axis = 1), X_train['Load']\n",
    "X_test = X_build_model['2011-01-01':'2011-12-31'].dropna()\n",
    "X_test_x, X_test_y = X_test.drop('Load', axis = 1), X_test['Load']"
   ]
  },
  {
   "cell_type": "code",
   "execution_count": 476,
   "metadata": {
    "ExecuteTime": {
     "end_time": "2019-12-15T03:22:42.546500Z",
     "start_time": "2019-12-15T03:19:42.245908Z"
    }
   },
   "outputs": [],
   "source": [
    "estimator = LinearRegression()\n",
    "selector = RFE(estimator, 50, step=1)\n",
    "selector = selector.fit(X_train_x, X_train_y)"
   ]
  },
  {
   "cell_type": "code",
   "execution_count": 488,
   "metadata": {
    "ExecuteTime": {
     "end_time": "2019-12-15T03:41:44.161804Z",
     "start_time": "2019-12-15T03:41:44.150895Z"
    }
   },
   "outputs": [],
   "source": [
    "X_train_x_Sed = X_train_x[X_train_x.columns[selector.support_]]\n",
    "X_test_x_Sed = X_test_x[X_test_x.columns[selector.support_]]"
   ]
  },
  {
   "cell_type": "markdown",
   "metadata": {},
   "source": [
    "# Build Models"
   ]
  },
  {
   "cell_type": "code",
   "execution_count": 70,
   "metadata": {
    "ExecuteTime": {
     "end_time": "2019-12-14T20:18:00.313719Z",
     "start_time": "2019-12-14T20:18:00.309197Z"
    }
   },
   "outputs": [],
   "source": [
    "X_build_model = X.drop(['DateTime'], axis=1)"
   ]
  },
  {
   "cell_type": "code",
   "execution_count": 71,
   "metadata": {
    "ExecuteTime": {
     "end_time": "2019-12-14T20:18:01.728077Z",
     "start_time": "2019-12-14T20:18:01.717949Z"
    }
   },
   "outputs": [],
   "source": [
    "X_build_model = X_build_model.dropna()"
   ]
  },
  {
   "cell_type": "code",
   "execution_count": 72,
   "metadata": {
    "ExecuteTime": {
     "end_time": "2019-12-14T20:18:02.809757Z",
     "start_time": "2019-12-14T20:18:02.792682Z"
    }
   },
   "outputs": [
    {
     "data": {
      "text/html": [
       "<div>\n",
       "<style scoped>\n",
       "    .dataframe tbody tr th:only-of-type {\n",
       "        vertical-align: middle;\n",
       "    }\n",
       "\n",
       "    .dataframe tbody tr th {\n",
       "        vertical-align: top;\n",
       "    }\n",
       "\n",
       "    .dataframe thead th {\n",
       "        text-align: right;\n",
       "    }\n",
       "</style>\n",
       "<table border=\"1\" class=\"dataframe\">\n",
       "  <thead>\n",
       "    <tr style=\"text-align: right;\">\n",
       "      <th></th>\n",
       "      <th>Load</th>\n",
       "      <th>Temperature</th>\n",
       "      <th>Temperature_Squared</th>\n",
       "      <th>Weekday_0</th>\n",
       "      <th>Weekday_1</th>\n",
       "      <th>Weekday_2</th>\n",
       "      <th>Weekday_3</th>\n",
       "      <th>Weekday_4</th>\n",
       "      <th>Weekday_5</th>\n",
       "      <th>Weekday_6</th>\n",
       "      <th>...</th>\n",
       "      <th>Month_3</th>\n",
       "      <th>Month_4</th>\n",
       "      <th>Month_5</th>\n",
       "      <th>Month_6</th>\n",
       "      <th>Month_7</th>\n",
       "      <th>Month_8</th>\n",
       "      <th>Month_9</th>\n",
       "      <th>Month_10</th>\n",
       "      <th>Month_11</th>\n",
       "      <th>Month_12</th>\n",
       "    </tr>\n",
       "  </thead>\n",
       "  <tbody>\n",
       "    <tr>\n",
       "      <th>0</th>\n",
       "      <td>10737.0</td>\n",
       "      <td>25.0</td>\n",
       "      <td>625.0</td>\n",
       "      <td>0</td>\n",
       "      <td>1</td>\n",
       "      <td>0</td>\n",
       "      <td>0</td>\n",
       "      <td>0</td>\n",
       "      <td>0</td>\n",
       "      <td>0</td>\n",
       "      <td>...</td>\n",
       "      <td>0</td>\n",
       "      <td>0</td>\n",
       "      <td>0</td>\n",
       "      <td>0</td>\n",
       "      <td>0</td>\n",
       "      <td>0</td>\n",
       "      <td>0</td>\n",
       "      <td>0</td>\n",
       "      <td>0</td>\n",
       "      <td>0</td>\n",
       "    </tr>\n",
       "    <tr>\n",
       "      <th>1</th>\n",
       "      <td>10348.0</td>\n",
       "      <td>24.0</td>\n",
       "      <td>576.0</td>\n",
       "      <td>0</td>\n",
       "      <td>1</td>\n",
       "      <td>0</td>\n",
       "      <td>0</td>\n",
       "      <td>0</td>\n",
       "      <td>0</td>\n",
       "      <td>0</td>\n",
       "      <td>...</td>\n",
       "      <td>0</td>\n",
       "      <td>0</td>\n",
       "      <td>0</td>\n",
       "      <td>0</td>\n",
       "      <td>0</td>\n",
       "      <td>0</td>\n",
       "      <td>0</td>\n",
       "      <td>0</td>\n",
       "      <td>0</td>\n",
       "      <td>0</td>\n",
       "    </tr>\n",
       "    <tr>\n",
       "      <th>2</th>\n",
       "      <td>9997.0</td>\n",
       "      <td>23.0</td>\n",
       "      <td>529.0</td>\n",
       "      <td>0</td>\n",
       "      <td>1</td>\n",
       "      <td>0</td>\n",
       "      <td>0</td>\n",
       "      <td>0</td>\n",
       "      <td>0</td>\n",
       "      <td>0</td>\n",
       "      <td>...</td>\n",
       "      <td>0</td>\n",
       "      <td>0</td>\n",
       "      <td>0</td>\n",
       "      <td>0</td>\n",
       "      <td>0</td>\n",
       "      <td>0</td>\n",
       "      <td>0</td>\n",
       "      <td>0</td>\n",
       "      <td>0</td>\n",
       "      <td>0</td>\n",
       "    </tr>\n",
       "    <tr>\n",
       "      <th>3</th>\n",
       "      <td>9760.0</td>\n",
       "      <td>23.0</td>\n",
       "      <td>529.0</td>\n",
       "      <td>0</td>\n",
       "      <td>1</td>\n",
       "      <td>0</td>\n",
       "      <td>0</td>\n",
       "      <td>0</td>\n",
       "      <td>0</td>\n",
       "      <td>0</td>\n",
       "      <td>...</td>\n",
       "      <td>0</td>\n",
       "      <td>0</td>\n",
       "      <td>0</td>\n",
       "      <td>0</td>\n",
       "      <td>0</td>\n",
       "      <td>0</td>\n",
       "      <td>0</td>\n",
       "      <td>0</td>\n",
       "      <td>0</td>\n",
       "      <td>0</td>\n",
       "    </tr>\n",
       "    <tr>\n",
       "      <th>4</th>\n",
       "      <td>9624.0</td>\n",
       "      <td>23.0</td>\n",
       "      <td>529.0</td>\n",
       "      <td>0</td>\n",
       "      <td>1</td>\n",
       "      <td>0</td>\n",
       "      <td>0</td>\n",
       "      <td>0</td>\n",
       "      <td>0</td>\n",
       "      <td>0</td>\n",
       "      <td>...</td>\n",
       "      <td>0</td>\n",
       "      <td>0</td>\n",
       "      <td>0</td>\n",
       "      <td>0</td>\n",
       "      <td>0</td>\n",
       "      <td>0</td>\n",
       "      <td>0</td>\n",
       "      <td>0</td>\n",
       "      <td>0</td>\n",
       "      <td>0</td>\n",
       "    </tr>\n",
       "  </tbody>\n",
       "</table>\n",
       "<p>5 rows × 22 columns</p>\n",
       "</div>"
      ],
      "text/plain": [
       "      Load  Temperature  Temperature_Squared  Weekday_0  Weekday_1  Weekday_2  \\\n",
       "0  10737.0         25.0                625.0          0          1          0   \n",
       "1  10348.0         24.0                576.0          0          1          0   \n",
       "2   9997.0         23.0                529.0          0          1          0   \n",
       "3   9760.0         23.0                529.0          0          1          0   \n",
       "4   9624.0         23.0                529.0          0          1          0   \n",
       "\n",
       "   Weekday_3  Weekday_4  Weekday_5  Weekday_6  ...  Month_3  Month_4  Month_5  \\\n",
       "0          0          0          0          0  ...        0        0        0   \n",
       "1          0          0          0          0  ...        0        0        0   \n",
       "2          0          0          0          0  ...        0        0        0   \n",
       "3          0          0          0          0  ...        0        0        0   \n",
       "4          0          0          0          0  ...        0        0        0   \n",
       "\n",
       "   Month_6  Month_7  Month_8  Month_9  Month_10  Month_11  Month_12  \n",
       "0        0        0        0        0         0         0         0  \n",
       "1        0        0        0        0         0         0         0  \n",
       "2        0        0        0        0         0         0         0  \n",
       "3        0        0        0        0         0         0         0  \n",
       "4        0        0        0        0         0         0         0  \n",
       "\n",
       "[5 rows x 22 columns]"
      ]
     },
     "execution_count": 72,
     "metadata": {},
     "output_type": "execute_result"
    }
   ],
   "source": [
    "X_build_model.head()"
   ]
  },
  {
   "cell_type": "code",
   "execution_count": 111,
   "metadata": {
    "ExecuteTime": {
     "end_time": "2019-12-14T20:48:48.194614Z",
     "start_time": "2019-12-14T20:48:48.191109Z"
    }
   },
   "outputs": [],
   "source": [
    "def mape(y_true, y_pred):\n",
    "    y_true, y_pred = np.array(y_true), np.array(y_pred)\n",
    "    return np.mean(np.abs((y_true - y_pred) / y_true)) * 100"
   ]
  },
  {
   "cell_type": "markdown",
   "metadata": {},
   "source": [
    "## Holt-Winter's "
   ]
  },
  {
   "cell_type": "markdown",
   "metadata": {},
   "source": [
    "### Train Test Split"
   ]
  },
  {
   "cell_type": "code",
   "execution_count": 77,
   "metadata": {
    "ExecuteTime": {
     "end_time": "2019-12-14T20:22:19.481727Z",
     "start_time": "2019-12-14T20:22:19.475496Z"
    }
   },
   "outputs": [],
   "source": [
    "X_train = X[X['DateTime'] <= '2010-12-31']['Load']"
   ]
  },
  {
   "cell_type": "markdown",
   "metadata": {
    "ExecuteTime": {
     "end_time": "2019-12-14T20:23:25.037813Z",
     "start_time": "2019-12-14T20:23:25.032641Z"
    }
   },
   "source": [
    "### Model Building"
   ]
  },
  {
   "cell_type": "code",
   "execution_count": 79,
   "metadata": {
    "ExecuteTime": {
     "end_time": "2019-12-14T20:26:44.917299Z",
     "start_time": "2019-12-14T20:26:44.913451Z"
    }
   },
   "outputs": [],
   "source": [
    "model_HW = ExponentialSmoothing(X_train, seasonal='add', seasonal_periods=24 * 365)"
   ]
  },
  {
   "cell_type": "code",
   "execution_count": 81,
   "metadata": {
    "ExecuteTime": {
     "end_time": "2019-12-14T20:27:17.806645Z",
     "start_time": "2019-12-14T20:27:09.496964Z"
    }
   },
   "outputs": [
    {
     "name": "stderr",
     "output_type": "stream",
     "text": [
      "/Users/chengyinliu/anaconda3/envs/Tensorflow/lib/python3.6/site-packages/statsmodels/tsa/holtwinters.py:712: ConvergenceWarning: Optimization failed to converge. Check mle_retvals.\n",
      "  ConvergenceWarning)\n"
     ]
    }
   ],
   "source": [
    "model_HW = model_HW.fit()"
   ]
  },
  {
   "cell_type": "markdown",
   "metadata": {},
   "source": [
    "### MAPE"
   ]
  },
  {
   "cell_type": "code",
   "execution_count": 104,
   "metadata": {
    "ExecuteTime": {
     "end_time": "2019-12-14T20:46:27.362875Z",
     "start_time": "2019-12-14T20:46:27.356159Z"
    }
   },
   "outputs": [],
   "source": [
    "X_test = X[(X['DateTime'] >= '2011-01-01') & (X['DateTime'] <= '2011-12-31')]['Load']"
   ]
  },
  {
   "cell_type": "code",
   "execution_count": 107,
   "metadata": {
    "ExecuteTime": {
     "end_time": "2019-12-14T20:46:52.793691Z",
     "start_time": "2019-12-14T20:46:52.766220Z"
    }
   },
   "outputs": [
    {
     "data": {
      "text/html": [
       "<div>\n",
       "<style scoped>\n",
       "    .dataframe tbody tr th:only-of-type {\n",
       "        vertical-align: middle;\n",
       "    }\n",
       "\n",
       "    .dataframe tbody tr th {\n",
       "        vertical-align: top;\n",
       "    }\n",
       "\n",
       "    .dataframe thead th {\n",
       "        text-align: right;\n",
       "    }\n",
       "</style>\n",
       "<table border=\"1\" class=\"dataframe\">\n",
       "  <thead>\n",
       "    <tr style=\"text-align: right;\">\n",
       "      <th></th>\n",
       "      <th>Load</th>\n",
       "      <th>Temperature</th>\n",
       "      <th>DateTime</th>\n",
       "      <th>Temperature_Squared</th>\n",
       "      <th>Weekday_0</th>\n",
       "      <th>Weekday_1</th>\n",
       "      <th>Weekday_2</th>\n",
       "      <th>Weekday_3</th>\n",
       "      <th>Weekday_4</th>\n",
       "      <th>Weekday_5</th>\n",
       "      <th>...</th>\n",
       "      <th>Month_3</th>\n",
       "      <th>Month_4</th>\n",
       "      <th>Month_5</th>\n",
       "      <th>Month_6</th>\n",
       "      <th>Month_7</th>\n",
       "      <th>Month_8</th>\n",
       "      <th>Month_9</th>\n",
       "      <th>Month_10</th>\n",
       "      <th>Month_11</th>\n",
       "      <th>Month_12</th>\n",
       "    </tr>\n",
       "  </thead>\n",
       "  <tbody>\n",
       "    <tr>\n",
       "      <th>26303</th>\n",
       "      <td>10042.0</td>\n",
       "      <td>41.33</td>\n",
       "      <td>2011-01-01 00:00:00</td>\n",
       "      <td>1708.1689</td>\n",
       "      <td>0</td>\n",
       "      <td>0</td>\n",
       "      <td>0</td>\n",
       "      <td>0</td>\n",
       "      <td>0</td>\n",
       "      <td>1</td>\n",
       "      <td>...</td>\n",
       "      <td>0</td>\n",
       "      <td>0</td>\n",
       "      <td>0</td>\n",
       "      <td>0</td>\n",
       "      <td>0</td>\n",
       "      <td>0</td>\n",
       "      <td>0</td>\n",
       "      <td>0</td>\n",
       "      <td>0</td>\n",
       "      <td>0</td>\n",
       "    </tr>\n",
       "    <tr>\n",
       "      <th>26304</th>\n",
       "      <td>9627.0</td>\n",
       "      <td>39.33</td>\n",
       "      <td>2011-01-01 01:00:00</td>\n",
       "      <td>1546.8489</td>\n",
       "      <td>0</td>\n",
       "      <td>0</td>\n",
       "      <td>0</td>\n",
       "      <td>0</td>\n",
       "      <td>0</td>\n",
       "      <td>1</td>\n",
       "      <td>...</td>\n",
       "      <td>0</td>\n",
       "      <td>0</td>\n",
       "      <td>0</td>\n",
       "      <td>0</td>\n",
       "      <td>0</td>\n",
       "      <td>0</td>\n",
       "      <td>0</td>\n",
       "      <td>0</td>\n",
       "      <td>0</td>\n",
       "      <td>0</td>\n",
       "    </tr>\n",
       "    <tr>\n",
       "      <th>26305</th>\n",
       "      <td>9268.0</td>\n",
       "      <td>36.67</td>\n",
       "      <td>2011-01-01 02:00:00</td>\n",
       "      <td>1344.6889</td>\n",
       "      <td>0</td>\n",
       "      <td>0</td>\n",
       "      <td>0</td>\n",
       "      <td>0</td>\n",
       "      <td>0</td>\n",
       "      <td>1</td>\n",
       "      <td>...</td>\n",
       "      <td>0</td>\n",
       "      <td>0</td>\n",
       "      <td>0</td>\n",
       "      <td>0</td>\n",
       "      <td>0</td>\n",
       "      <td>0</td>\n",
       "      <td>0</td>\n",
       "      <td>0</td>\n",
       "      <td>0</td>\n",
       "      <td>0</td>\n",
       "    </tr>\n",
       "    <tr>\n",
       "      <th>26306</th>\n",
       "      <td>9007.0</td>\n",
       "      <td>35.33</td>\n",
       "      <td>2011-01-01 03:00:00</td>\n",
       "      <td>1248.2089</td>\n",
       "      <td>0</td>\n",
       "      <td>0</td>\n",
       "      <td>0</td>\n",
       "      <td>0</td>\n",
       "      <td>0</td>\n",
       "      <td>1</td>\n",
       "      <td>...</td>\n",
       "      <td>0</td>\n",
       "      <td>0</td>\n",
       "      <td>0</td>\n",
       "      <td>0</td>\n",
       "      <td>0</td>\n",
       "      <td>0</td>\n",
       "      <td>0</td>\n",
       "      <td>0</td>\n",
       "      <td>0</td>\n",
       "      <td>0</td>\n",
       "    </tr>\n",
       "    <tr>\n",
       "      <th>26307</th>\n",
       "      <td>8737.0</td>\n",
       "      <td>32.00</td>\n",
       "      <td>2011-01-01 04:00:00</td>\n",
       "      <td>1024.0000</td>\n",
       "      <td>0</td>\n",
       "      <td>0</td>\n",
       "      <td>0</td>\n",
       "      <td>0</td>\n",
       "      <td>0</td>\n",
       "      <td>1</td>\n",
       "      <td>...</td>\n",
       "      <td>0</td>\n",
       "      <td>0</td>\n",
       "      <td>0</td>\n",
       "      <td>0</td>\n",
       "      <td>0</td>\n",
       "      <td>0</td>\n",
       "      <td>0</td>\n",
       "      <td>0</td>\n",
       "      <td>0</td>\n",
       "      <td>0</td>\n",
       "    </tr>\n",
       "    <tr>\n",
       "      <th>...</th>\n",
       "      <td>...</td>\n",
       "      <td>...</td>\n",
       "      <td>...</td>\n",
       "      <td>...</td>\n",
       "      <td>...</td>\n",
       "      <td>...</td>\n",
       "      <td>...</td>\n",
       "      <td>...</td>\n",
       "      <td>...</td>\n",
       "      <td>...</td>\n",
       "      <td>...</td>\n",
       "      <td>...</td>\n",
       "      <td>...</td>\n",
       "      <td>...</td>\n",
       "      <td>...</td>\n",
       "      <td>...</td>\n",
       "      <td>...</td>\n",
       "      <td>...</td>\n",
       "      <td>...</td>\n",
       "      <td>...</td>\n",
       "      <td>...</td>\n",
       "    </tr>\n",
       "    <tr>\n",
       "      <th>35035</th>\n",
       "      <td>12248.0</td>\n",
       "      <td>39.00</td>\n",
       "      <td>2011-12-30 20:00:00</td>\n",
       "      <td>1521.0000</td>\n",
       "      <td>0</td>\n",
       "      <td>0</td>\n",
       "      <td>0</td>\n",
       "      <td>0</td>\n",
       "      <td>1</td>\n",
       "      <td>0</td>\n",
       "      <td>...</td>\n",
       "      <td>0</td>\n",
       "      <td>0</td>\n",
       "      <td>0</td>\n",
       "      <td>0</td>\n",
       "      <td>0</td>\n",
       "      <td>0</td>\n",
       "      <td>0</td>\n",
       "      <td>0</td>\n",
       "      <td>0</td>\n",
       "      <td>1</td>\n",
       "    </tr>\n",
       "    <tr>\n",
       "      <th>35036</th>\n",
       "      <td>12023.0</td>\n",
       "      <td>38.00</td>\n",
       "      <td>2011-12-30 21:00:00</td>\n",
       "      <td>1444.0000</td>\n",
       "      <td>0</td>\n",
       "      <td>0</td>\n",
       "      <td>0</td>\n",
       "      <td>0</td>\n",
       "      <td>1</td>\n",
       "      <td>0</td>\n",
       "      <td>...</td>\n",
       "      <td>0</td>\n",
       "      <td>0</td>\n",
       "      <td>0</td>\n",
       "      <td>0</td>\n",
       "      <td>0</td>\n",
       "      <td>0</td>\n",
       "      <td>0</td>\n",
       "      <td>0</td>\n",
       "      <td>0</td>\n",
       "      <td>1</td>\n",
       "    </tr>\n",
       "    <tr>\n",
       "      <th>35037</th>\n",
       "      <td>11717.0</td>\n",
       "      <td>37.33</td>\n",
       "      <td>2011-12-30 22:00:00</td>\n",
       "      <td>1393.5289</td>\n",
       "      <td>0</td>\n",
       "      <td>0</td>\n",
       "      <td>0</td>\n",
       "      <td>0</td>\n",
       "      <td>1</td>\n",
       "      <td>0</td>\n",
       "      <td>...</td>\n",
       "      <td>0</td>\n",
       "      <td>0</td>\n",
       "      <td>0</td>\n",
       "      <td>0</td>\n",
       "      <td>0</td>\n",
       "      <td>0</td>\n",
       "      <td>0</td>\n",
       "      <td>0</td>\n",
       "      <td>0</td>\n",
       "      <td>1</td>\n",
       "    </tr>\n",
       "    <tr>\n",
       "      <th>35038</th>\n",
       "      <td>11318.0</td>\n",
       "      <td>36.33</td>\n",
       "      <td>2011-12-30 23:00:00</td>\n",
       "      <td>1319.8689</td>\n",
       "      <td>0</td>\n",
       "      <td>0</td>\n",
       "      <td>0</td>\n",
       "      <td>0</td>\n",
       "      <td>1</td>\n",
       "      <td>0</td>\n",
       "      <td>...</td>\n",
       "      <td>0</td>\n",
       "      <td>0</td>\n",
       "      <td>0</td>\n",
       "      <td>0</td>\n",
       "      <td>0</td>\n",
       "      <td>0</td>\n",
       "      <td>0</td>\n",
       "      <td>0</td>\n",
       "      <td>0</td>\n",
       "      <td>1</td>\n",
       "    </tr>\n",
       "    <tr>\n",
       "      <th>35039</th>\n",
       "      <td>10728.0</td>\n",
       "      <td>34.00</td>\n",
       "      <td>2011-12-31 00:00:00</td>\n",
       "      <td>1156.0000</td>\n",
       "      <td>0</td>\n",
       "      <td>0</td>\n",
       "      <td>0</td>\n",
       "      <td>0</td>\n",
       "      <td>0</td>\n",
       "      <td>1</td>\n",
       "      <td>...</td>\n",
       "      <td>0</td>\n",
       "      <td>0</td>\n",
       "      <td>0</td>\n",
       "      <td>0</td>\n",
       "      <td>0</td>\n",
       "      <td>0</td>\n",
       "      <td>0</td>\n",
       "      <td>0</td>\n",
       "      <td>0</td>\n",
       "      <td>1</td>\n",
       "    </tr>\n",
       "  </tbody>\n",
       "</table>\n",
       "<p>8737 rows × 23 columns</p>\n",
       "</div>"
      ],
      "text/plain": [
       "          Load  Temperature            DateTime  Temperature_Squared  \\\n",
       "26303  10042.0        41.33 2011-01-01 00:00:00            1708.1689   \n",
       "26304   9627.0        39.33 2011-01-01 01:00:00            1546.8489   \n",
       "26305   9268.0        36.67 2011-01-01 02:00:00            1344.6889   \n",
       "26306   9007.0        35.33 2011-01-01 03:00:00            1248.2089   \n",
       "26307   8737.0        32.00 2011-01-01 04:00:00            1024.0000   \n",
       "...        ...          ...                 ...                  ...   \n",
       "35035  12248.0        39.00 2011-12-30 20:00:00            1521.0000   \n",
       "35036  12023.0        38.00 2011-12-30 21:00:00            1444.0000   \n",
       "35037  11717.0        37.33 2011-12-30 22:00:00            1393.5289   \n",
       "35038  11318.0        36.33 2011-12-30 23:00:00            1319.8689   \n",
       "35039  10728.0        34.00 2011-12-31 00:00:00            1156.0000   \n",
       "\n",
       "       Weekday_0  Weekday_1  Weekday_2  Weekday_3  Weekday_4  Weekday_5  ...  \\\n",
       "26303          0          0          0          0          0          1  ...   \n",
       "26304          0          0          0          0          0          1  ...   \n",
       "26305          0          0          0          0          0          1  ...   \n",
       "26306          0          0          0          0          0          1  ...   \n",
       "26307          0          0          0          0          0          1  ...   \n",
       "...          ...        ...        ...        ...        ...        ...  ...   \n",
       "35035          0          0          0          0          1          0  ...   \n",
       "35036          0          0          0          0          1          0  ...   \n",
       "35037          0          0          0          0          1          0  ...   \n",
       "35038          0          0          0          0          1          0  ...   \n",
       "35039          0          0          0          0          0          1  ...   \n",
       "\n",
       "       Month_3  Month_4  Month_5  Month_6  Month_7  Month_8  Month_9  \\\n",
       "26303        0        0        0        0        0        0        0   \n",
       "26304        0        0        0        0        0        0        0   \n",
       "26305        0        0        0        0        0        0        0   \n",
       "26306        0        0        0        0        0        0        0   \n",
       "26307        0        0        0        0        0        0        0   \n",
       "...        ...      ...      ...      ...      ...      ...      ...   \n",
       "35035        0        0        0        0        0        0        0   \n",
       "35036        0        0        0        0        0        0        0   \n",
       "35037        0        0        0        0        0        0        0   \n",
       "35038        0        0        0        0        0        0        0   \n",
       "35039        0        0        0        0        0        0        0   \n",
       "\n",
       "       Month_10  Month_11  Month_12  \n",
       "26303         0         0         0  \n",
       "26304         0         0         0  \n",
       "26305         0         0         0  \n",
       "26306         0         0         0  \n",
       "26307         0         0         0  \n",
       "...         ...       ...       ...  \n",
       "35035         0         0         1  \n",
       "35036         0         0         1  \n",
       "35037         0         0         1  \n",
       "35038         0         0         1  \n",
       "35039         0         0         1  \n",
       "\n",
       "[8737 rows x 23 columns]"
      ]
     },
     "execution_count": 107,
     "metadata": {},
     "output_type": "execute_result"
    }
   ],
   "source": [
    "X[(X['DateTime'] >= '2011-01-01') & (X['DateTime'] <= '2011-12-31')]"
   ]
  },
  {
   "cell_type": "code",
   "execution_count": 105,
   "metadata": {
    "ExecuteTime": {
     "end_time": "2019-12-14T20:46:27.696135Z",
     "start_time": "2019-12-14T20:46:27.599868Z"
    }
   },
   "outputs": [],
   "source": [
    "yhat = model_HW.forecast(len(X_test))"
   ]
  },
  {
   "cell_type": "code",
   "execution_count": 108,
   "metadata": {
    "ExecuteTime": {
     "end_time": "2019-12-14T20:47:42.215651Z",
     "start_time": "2019-12-14T20:47:42.211112Z"
    }
   },
   "outputs": [
    {
     "data": {
      "text/plain": [
       "8737"
      ]
     },
     "execution_count": 108,
     "metadata": {},
     "output_type": "execute_result"
    }
   ],
   "source": [
    "len(pd.date_range('2011-01-01 00:00:00', '2011-12-31 00:00:00', freq = 'H'))"
   ]
  },
  {
   "cell_type": "code",
   "execution_count": 109,
   "metadata": {
    "ExecuteTime": {
     "end_time": "2019-12-14T20:47:47.857239Z",
     "start_time": "2019-12-14T20:47:47.853452Z"
    }
   },
   "outputs": [],
   "source": [
    "yhat.index = pd.date_range('2011-01-01 00:00:00', '2011-12-31 00:00:00', freq = 'H')\n",
    "X_test.index = pd.date_range('2011-01-01 00:00:00', '2011-12-31 00:00:00', freq = 'H')"
   ]
  },
  {
   "cell_type": "code",
   "execution_count": 110,
   "metadata": {
    "ExecuteTime": {
     "end_time": "2019-12-14T20:47:55.038663Z",
     "start_time": "2019-12-14T20:47:54.838302Z"
    }
   },
   "outputs": [
    {
     "data": {
      "text/plain": [
       "[<matplotlib.lines.Line2D at 0x1a4ecd0ba8>]"
      ]
     },
     "execution_count": 110,
     "metadata": {},
     "output_type": "execute_result"
    },
    {
     "data": {
      "image/png": "[encoded data removed]",
      "text/plain": [
       "<Figure size 432x288 with 1 Axes>"
      ]
     },
     "metadata": {
      "needs_background": "light"
     },
     "output_type": "display_data"
    }
   ],
   "source": [
    "plt.plot(yhat)\n",
    "plt.plot(X_test)\n",
    "# plt.xticks(pd.date_range('2011-01-01 00:00:00', '2012-12-31 23:00:00', freq = 'H'))"
   ]
  },
  {
   "cell_type": "code",
   "execution_count": 112,
   "metadata": {
    "ExecuteTime": {
     "end_time": "2019-12-14T20:49:21.903582Z",
     "start_time": "2019-12-14T20:49:21.894313Z"
    }
   },
   "outputs": [
    {
     "data": {
      "text/plain": [
       "13.151412124791815"
      ]
     },
     "execution_count": 112,
     "metadata": {},
     "output_type": "execute_result"
    }
   ],
   "source": [
    "mape(X_test, yhat)"
   ]
  },
  {
   "cell_type": "markdown",
   "metadata": {},
   "source": [
    "## Linear Regression"
   ]
  },
  {
   "cell_type": "markdown",
   "metadata": {},
   "source": [
    "### Train Test Split (Without Cross Validation)"
   ]
  },
  {
   "cell_type": "code",
   "execution_count": 59,
   "metadata": {
    "ExecuteTime": {
     "end_time": "2019-12-08T22:53:49.171425Z",
     "start_time": "2019-12-08T22:53:49.164328Z"
    }
   },
   "outputs": [],
   "source": [
    "X_train, X_test = train_test_split(X_build_model, test_size=0.2, random_state=0)"
   ]
  },
  {
   "cell_type": "code",
   "execution_count": 60,
   "metadata": {
    "ExecuteTime": {
     "end_time": "2019-12-08T22:53:49.176161Z",
     "start_time": "2019-12-08T22:53:49.172656Z"
    }
   },
   "outputs": [
    {
     "data": {
      "text/plain": [
       "((28051, 22), (7013, 22))"
      ]
     },
     "execution_count": 60,
     "metadata": {},
     "output_type": "execute_result"
    }
   ],
   "source": [
    "X_train.shape, X_test.shape"
   ]
  },
  {
   "cell_type": "code",
   "execution_count": 61,
   "metadata": {
    "ExecuteTime": {
     "end_time": "2019-12-08T22:53:49.181140Z",
     "start_time": "2019-12-08T22:53:49.177414Z"
    }
   },
   "outputs": [],
   "source": [
    "X_train_x = X_train.drop(['Load'], axis = 1)\n",
    "X_train_y = X_train['Load']"
   ]
  },
  {
   "cell_type": "code",
   "execution_count": 62,
   "metadata": {
    "ExecuteTime": {
     "end_time": "2019-12-08T22:53:49.185767Z",
     "start_time": "2019-12-08T22:53:49.182446Z"
    }
   },
   "outputs": [],
   "source": [
    "X_test_x = X_test.drop(['Load'], axis = 1)\n",
    "X_test_y = X_test['Load']"
   ]
  },
  {
   "cell_type": "code",
   "execution_count": 63,
   "metadata": {
    "ExecuteTime": {
     "end_time": "2019-12-08T22:53:49.190159Z",
     "start_time": "2019-12-08T22:53:49.186977Z"
    }
   },
   "outputs": [
    {
     "data": {
      "text/plain": [
       "Index(['Temperature', 'Temperature_Squared', 'Weekday_0', 'Weekday_1',\n",
       "       'Weekday_2', 'Weekday_3', 'Weekday_4', 'Weekday_5', 'Weekday_6',\n",
       "       'Month_1', 'Month_2', 'Month_3', 'Month_4', 'Month_5', 'Month_6',\n",
       "       'Month_7', 'Month_8', 'Month_9', 'Month_10', 'Month_11', 'Month_12'],\n",
       "      dtype='object')"
      ]
     },
     "execution_count": 63,
     "metadata": {},
     "output_type": "execute_result"
    }
   ],
   "source": [
    "X_test_x.columns"
   ]
  },
  {
   "cell_type": "markdown",
   "metadata": {},
   "source": [
    "### Model Building"
   ]
  },
  {
   "cell_type": "code",
   "execution_count": 64,
   "metadata": {
    "ExecuteTime": {
     "end_time": "2019-12-08T22:53:49.193714Z",
     "start_time": "2019-12-08T22:53:49.191413Z"
    }
   },
   "outputs": [],
   "source": [
    "model_lm = LinearRegression()"
   ]
  },
  {
   "cell_type": "code",
   "execution_count": 65,
   "metadata": {
    "ExecuteTime": {
     "end_time": "2019-12-08T22:53:49.215969Z",
     "start_time": "2019-12-08T22:53:49.194959Z"
    }
   },
   "outputs": [
    {
     "data": {
      "text/plain": [
       "LinearRegression(copy_X=True, fit_intercept=True, n_jobs=None, normalize=False)"
      ]
     },
     "execution_count": 65,
     "metadata": {},
     "output_type": "execute_result"
    }
   ],
   "source": [
    "model_lm.fit(X_train_x, X_train_y)"
   ]
  },
  {
   "cell_type": "code",
   "execution_count": 66,
   "metadata": {
    "ExecuteTime": {
     "end_time": "2019-12-08T22:53:49.223798Z",
     "start_time": "2019-12-08T22:53:49.217468Z"
    }
   },
   "outputs": [
    {
     "data": {
      "text/plain": [
       "0.6046915733117858"
      ]
     },
     "execution_count": 66,
     "metadata": {},
     "output_type": "execute_result"
    }
   ],
   "source": [
    "model_lm.score(X_train_x, X_train_y)"
   ]
  },
  {
   "cell_type": "markdown",
   "metadata": {},
   "source": [
    "### MAPE"
   ]
  },
  {
   "cell_type": "code",
   "execution_count": 68,
   "metadata": {
    "ExecuteTime": {
     "end_time": "2019-12-08T22:53:49.239924Z",
     "start_time": "2019-12-08T22:53:49.234286Z"
    }
   },
   "outputs": [
    {
     "data": {
      "text/plain": [
       "10.5189076107735"
      ]
     },
     "execution_count": 68,
     "metadata": {},
     "output_type": "execute_result"
    }
   ],
   "source": [
    "mape(X_train_y, model_lm.predict(X_train_x))"
   ]
  },
  {
   "cell_type": "code",
   "execution_count": 69,
   "metadata": {
    "ExecuteTime": {
     "end_time": "2019-12-08T22:53:49.247058Z",
     "start_time": "2019-12-08T22:53:49.241793Z"
    }
   },
   "outputs": [
    {
     "data": {
      "text/plain": [
       "10.455508721939147"
      ]
     },
     "execution_count": 69,
     "metadata": {},
     "output_type": "execute_result"
    }
   ],
   "source": [
    "mape(X_test_y, model_lm.predict(X_test_x))"
   ]
  },
  {
   "cell_type": "markdown",
   "metadata": {},
   "source": [
    "## Tao’s vanilla benchmark model"
   ]
  },
  {
   "cell_type": "markdown",
   "metadata": {},
   "source": [
    "### Build its own variables"
   ]
  },
  {
   "cell_type": "code",
   "execution_count": 113,
   "metadata": {
    "ExecuteTime": {
     "end_time": "2019-12-14T20:51:54.813944Z",
     "start_time": "2019-12-14T20:51:54.803285Z"
    }
   },
   "outputs": [
    {
     "data": {
      "text/html": [
       "<div>\n",
       "<style scoped>\n",
       "    .dataframe tbody tr th:only-of-type {\n",
       "        vertical-align: middle;\n",
       "    }\n",
       "\n",
       "    .dataframe tbody tr th {\n",
       "        vertical-align: top;\n",
       "    }\n",
       "\n",
       "    .dataframe thead th {\n",
       "        text-align: right;\n",
       "    }\n",
       "</style>\n",
       "<table border=\"1\" class=\"dataframe\">\n",
       "  <thead>\n",
       "    <tr style=\"text-align: right;\">\n",
       "      <th></th>\n",
       "      <th>Temperature</th>\n",
       "      <th>DateTime</th>\n",
       "    </tr>\n",
       "  </thead>\n",
       "  <tbody>\n",
       "    <tr>\n",
       "      <th>0</th>\n",
       "      <td>25.0</td>\n",
       "      <td>2008-01-01 01:00:00</td>\n",
       "    </tr>\n",
       "    <tr>\n",
       "      <th>1</th>\n",
       "      <td>24.0</td>\n",
       "      <td>2008-01-01 02:00:00</td>\n",
       "    </tr>\n",
       "    <tr>\n",
       "      <th>2</th>\n",
       "      <td>23.0</td>\n",
       "      <td>2008-01-01 03:00:00</td>\n",
       "    </tr>\n",
       "    <tr>\n",
       "      <th>3</th>\n",
       "      <td>23.0</td>\n",
       "      <td>2008-01-01 04:00:00</td>\n",
       "    </tr>\n",
       "    <tr>\n",
       "      <th>4</th>\n",
       "      <td>23.0</td>\n",
       "      <td>2008-01-01 05:00:00</td>\n",
       "    </tr>\n",
       "  </tbody>\n",
       "</table>\n",
       "</div>"
      ],
      "text/plain": [
       "   Temperature            DateTime\n",
       "0         25.0 2008-01-01 01:00:00\n",
       "1         24.0 2008-01-01 02:00:00\n",
       "2         23.0 2008-01-01 03:00:00\n",
       "3         23.0 2008-01-01 04:00:00\n",
       "4         23.0 2008-01-01 05:00:00"
      ]
     },
     "execution_count": 113,
     "metadata": {},
     "output_type": "execute_result"
    }
   ],
   "source": [
    "# build the dataframe for fofT\n",
    "data_fofT = data.copy()\n",
    "data_fofT.drop(['Date', 'Hour', 'Load'], inplace = True, axis = 1)\n",
    "data_fofT.head()"
   ]
  },
  {
   "cell_type": "code",
   "execution_count": 114,
   "metadata": {
    "ExecuteTime": {
     "end_time": "2019-12-14T20:51:56.378332Z",
     "start_time": "2019-12-14T20:51:56.361147Z"
    }
   },
   "outputs": [
    {
     "data": {
      "text/html": [
       "<div>\n",
       "<style scoped>\n",
       "    .dataframe tbody tr th:only-of-type {\n",
       "        vertical-align: middle;\n",
       "    }\n",
       "\n",
       "    .dataframe tbody tr th {\n",
       "        vertical-align: top;\n",
       "    }\n",
       "\n",
       "    .dataframe thead th {\n",
       "        text-align: right;\n",
       "    }\n",
       "</style>\n",
       "<table border=\"1\" class=\"dataframe\">\n",
       "  <thead>\n",
       "    <tr style=\"text-align: right;\">\n",
       "      <th></th>\n",
       "      <th>Temperature</th>\n",
       "      <th>DateTime</th>\n",
       "      <th>Month</th>\n",
       "      <th>Hour</th>\n",
       "    </tr>\n",
       "  </thead>\n",
       "  <tbody>\n",
       "    <tr>\n",
       "      <th>0</th>\n",
       "      <td>25.0</td>\n",
       "      <td>2008-01-01 01:00:00</td>\n",
       "      <td>1</td>\n",
       "      <td>1</td>\n",
       "    </tr>\n",
       "    <tr>\n",
       "      <th>1</th>\n",
       "      <td>24.0</td>\n",
       "      <td>2008-01-01 02:00:00</td>\n",
       "      <td>1</td>\n",
       "      <td>2</td>\n",
       "    </tr>\n",
       "    <tr>\n",
       "      <th>2</th>\n",
       "      <td>23.0</td>\n",
       "      <td>2008-01-01 03:00:00</td>\n",
       "      <td>1</td>\n",
       "      <td>3</td>\n",
       "    </tr>\n",
       "    <tr>\n",
       "      <th>3</th>\n",
       "      <td>23.0</td>\n",
       "      <td>2008-01-01 04:00:00</td>\n",
       "      <td>1</td>\n",
       "      <td>4</td>\n",
       "    </tr>\n",
       "    <tr>\n",
       "      <th>4</th>\n",
       "      <td>23.0</td>\n",
       "      <td>2008-01-01 05:00:00</td>\n",
       "      <td>1</td>\n",
       "      <td>5</td>\n",
       "    </tr>\n",
       "  </tbody>\n",
       "</table>\n",
       "</div>"
      ],
      "text/plain": [
       "   Temperature            DateTime  Month  Hour\n",
       "0         25.0 2008-01-01 01:00:00      1     1\n",
       "1         24.0 2008-01-01 02:00:00      1     2\n",
       "2         23.0 2008-01-01 03:00:00      1     3\n",
       "3         23.0 2008-01-01 04:00:00      1     4\n",
       "4         23.0 2008-01-01 05:00:00      1     5"
      ]
     },
     "execution_count": 114,
     "metadata": {},
     "output_type": "execute_result"
    }
   ],
   "source": [
    "data_fofT['Month'] = data_fofT['DateTime'].dt.month\n",
    "data_fofT['Hour'] = data_fofT['DateTime'].dt.hour\n",
    "# data_fofT.set_index('DateTime', inplace = True)\n",
    "data_fofT.head()"
   ]
  },
  {
   "cell_type": "code",
   "execution_count": 115,
   "metadata": {
    "ExecuteTime": {
     "end_time": "2019-12-14T20:52:02.710312Z",
     "start_time": "2019-12-14T20:52:02.699652Z"
    }
   },
   "outputs": [
    {
     "data": {
      "text/html": [
       "<div>\n",
       "<style scoped>\n",
       "    .dataframe tbody tr th:only-of-type {\n",
       "        vertical-align: middle;\n",
       "    }\n",
       "\n",
       "    .dataframe tbody tr th {\n",
       "        vertical-align: top;\n",
       "    }\n",
       "\n",
       "    .dataframe thead th {\n",
       "        text-align: right;\n",
       "    }\n",
       "</style>\n",
       "<table border=\"1\" class=\"dataframe\">\n",
       "  <thead>\n",
       "    <tr style=\"text-align: right;\">\n",
       "      <th></th>\n",
       "      <th>Load</th>\n",
       "      <th>Temperature</th>\n",
       "      <th>DateTime</th>\n",
       "    </tr>\n",
       "  </thead>\n",
       "  <tbody>\n",
       "    <tr>\n",
       "      <th>0</th>\n",
       "      <td>10737.0</td>\n",
       "      <td>25.0</td>\n",
       "      <td>2008-01-01 01:00:00</td>\n",
       "    </tr>\n",
       "    <tr>\n",
       "      <th>1</th>\n",
       "      <td>10348.0</td>\n",
       "      <td>24.0</td>\n",
       "      <td>2008-01-01 02:00:00</td>\n",
       "    </tr>\n",
       "    <tr>\n",
       "      <th>2</th>\n",
       "      <td>9997.0</td>\n",
       "      <td>23.0</td>\n",
       "      <td>2008-01-01 03:00:00</td>\n",
       "    </tr>\n",
       "    <tr>\n",
       "      <th>3</th>\n",
       "      <td>9760.0</td>\n",
       "      <td>23.0</td>\n",
       "      <td>2008-01-01 04:00:00</td>\n",
       "    </tr>\n",
       "    <tr>\n",
       "      <th>4</th>\n",
       "      <td>9624.0</td>\n",
       "      <td>23.0</td>\n",
       "      <td>2008-01-01 05:00:00</td>\n",
       "    </tr>\n",
       "  </tbody>\n",
       "</table>\n",
       "</div>"
      ],
      "text/plain": [
       "      Load  Temperature            DateTime\n",
       "0  10737.0         25.0 2008-01-01 01:00:00\n",
       "1  10348.0         24.0 2008-01-01 02:00:00\n",
       "2   9997.0         23.0 2008-01-01 03:00:00\n",
       "3   9760.0         23.0 2008-01-01 04:00:00\n",
       "4   9624.0         23.0 2008-01-01 05:00:00"
      ]
     },
     "execution_count": 115,
     "metadata": {},
     "output_type": "execute_result"
    }
   ],
   "source": [
    "data_yt = data[['Load', 'Temperature', 'DateTime']][:]\n",
    "data_yt.head()"
   ]
  },
  {
   "cell_type": "code",
   "execution_count": 116,
   "metadata": {
    "ExecuteTime": {
     "end_time": "2019-12-14T20:52:04.746441Z",
     "start_time": "2019-12-14T20:52:04.732631Z"
    }
   },
   "outputs": [],
   "source": [
    "def yt(lag, data_yt):\n",
    "    this_dataframe = data_yt.shift(periods = lag)\n",
    "    # Trend\n",
    "    this_dataframe['Trend'] = range(this_dataframe.shape[0])\n",
    "    # Month of the year\n",
    "    this_dataframe['Month'] = this_dataframe['DateTime'].dt.month\n",
    "    # Day of the week\n",
    "    this_dataframe['Week'] = this_dataframe['DateTime'].dt.dayofweek\n",
    "    # Hour of the day\n",
    "    this_dataframe['Hour'] = this_dataframe['DateTime'].dt.hour\n",
    "    # I(Week, Hour)\n",
    "    this_dataframe['Week_Hour'] = this_dataframe['Week'] * this_dataframe['Hour']\n",
    "    this_dataframe.drop(['DateTime', 'Temperature'], inplace = True, axis = 1)\n",
    "    return this_dataframe\n",
    "\n",
    "def fofT(column, lag, data_fofT):\n",
    "    this_dataframe = data_fofT.shift(periods = lag)\n",
    "    # Temperatrue\n",
    "    this_dataframe['Lag_'+ str(lag) +'_' + str(column)] = this_dataframe[column]\n",
    "    # Temperatrue ** 2\n",
    "    this_dataframe['Lag_'+ str(lag) +'_' + str(column) + '_2'] = this_dataframe[column] ** 2\n",
    "    # Temperatrue ** 3\n",
    "    this_dataframe['Lag_'+ str(lag) +'_' + str(column) + '_3'] = this_dataframe[column] ** 3\n",
    "    # I(T, Month)\n",
    "    this_dataframe['Lag_'+ str(lag) +'_' + str(column) + '_Month'] = this_dataframe[column] * this_dataframe['Month']\n",
    "    # I(T_2, Month)\n",
    "    this_dataframe['Lag_'+ str(lag) +'_' + str(column) + '_2_Month'] = this_dataframe['Lag_'+ str(lag) +'_' + str(column) + '_2'] * this_dataframe['Month']\n",
    "    # I(T_3, Month)\n",
    "    this_dataframe['Lag_'+ str(lag) +'_' + str(column) + '_3_Month'] = this_dataframe['Lag_'+ str(lag) +'_' + str(column) + '_3'] * this_dataframe['Month']\n",
    "    # I(T, Hour)\n",
    "    this_dataframe['Lag_'+ str(lag) +'_' + str(column) + '_Hour'] = this_dataframe[column] * this_dataframe['Hour']\n",
    "    # I(T_2, Hour)\n",
    "    this_dataframe['Lag_'+ str(lag) +'_' + str(column) + '_2_Hour'] = this_dataframe['Lag_'+ str(lag) +'_' + str(column) + '_2'] * this_dataframe['Hour']\n",
    "    # I(T_3, Hour)\n",
    "    this_dataframe['Lag_'+ str(lag) +'_' + str(column) + '_3_Hour'] = this_dataframe['Lag_'+ str(lag) +'_' + str(column) + '_3'] * this_dataframe['Hour']\n",
    "    try:\n",
    "        this_dataframe.drop(['DateTime', 'Month', 'Hour', column], inplace = True, axis = 1)\n",
    "    except:\n",
    "        pass\n",
    "    return this_dataframe"
   ]
  },
  {
   "cell_type": "code",
   "execution_count": 117,
   "metadata": {
    "ExecuteTime": {
     "end_time": "2019-12-14T20:52:34.374531Z",
     "start_time": "2019-12-14T20:52:34.334192Z"
    }
   },
   "outputs": [],
   "source": [
    "X_build_model = pd.concat([yt(0, data_yt), fofT('Temperature', 0, data_fofT)], axis = 1)"
   ]
  },
  {
   "cell_type": "code",
   "execution_count": 118,
   "metadata": {
    "ExecuteTime": {
     "end_time": "2019-12-14T20:52:35.049475Z",
     "start_time": "2019-12-14T20:52:35.032989Z"
    }
   },
   "outputs": [
    {
     "data": {
      "text/html": [
       "<div>\n",
       "<style scoped>\n",
       "    .dataframe tbody tr th:only-of-type {\n",
       "        vertical-align: middle;\n",
       "    }\n",
       "\n",
       "    .dataframe tbody tr th {\n",
       "        vertical-align: top;\n",
       "    }\n",
       "\n",
       "    .dataframe thead th {\n",
       "        text-align: right;\n",
       "    }\n",
       "</style>\n",
       "<table border=\"1\" class=\"dataframe\">\n",
       "  <thead>\n",
       "    <tr style=\"text-align: right;\">\n",
       "      <th></th>\n",
       "      <th>Load</th>\n",
       "      <th>Trend</th>\n",
       "      <th>Month</th>\n",
       "      <th>Week</th>\n",
       "      <th>Hour</th>\n",
       "      <th>Week_Hour</th>\n",
       "      <th>Lag_0_Temperature</th>\n",
       "      <th>Lag_0_Temperature_2</th>\n",
       "      <th>Lag_0_Temperature_3</th>\n",
       "      <th>Lag_0_Temperature_Month</th>\n",
       "      <th>Lag_0_Temperature_2_Month</th>\n",
       "      <th>Lag_0_Temperature_3_Month</th>\n",
       "      <th>Lag_0_Temperature_Hour</th>\n",
       "      <th>Lag_0_Temperature_2_Hour</th>\n",
       "      <th>Lag_0_Temperature_3_Hour</th>\n",
       "    </tr>\n",
       "  </thead>\n",
       "  <tbody>\n",
       "    <tr>\n",
       "      <th>0</th>\n",
       "      <td>10737.0</td>\n",
       "      <td>0</td>\n",
       "      <td>1</td>\n",
       "      <td>1</td>\n",
       "      <td>1</td>\n",
       "      <td>1</td>\n",
       "      <td>25.0</td>\n",
       "      <td>625.0</td>\n",
       "      <td>15625.0</td>\n",
       "      <td>25.0</td>\n",
       "      <td>625.0</td>\n",
       "      <td>15625.0</td>\n",
       "      <td>25.0</td>\n",
       "      <td>625.0</td>\n",
       "      <td>15625.0</td>\n",
       "    </tr>\n",
       "    <tr>\n",
       "      <th>1</th>\n",
       "      <td>10348.0</td>\n",
       "      <td>1</td>\n",
       "      <td>1</td>\n",
       "      <td>1</td>\n",
       "      <td>2</td>\n",
       "      <td>2</td>\n",
       "      <td>24.0</td>\n",
       "      <td>576.0</td>\n",
       "      <td>13824.0</td>\n",
       "      <td>24.0</td>\n",
       "      <td>576.0</td>\n",
       "      <td>13824.0</td>\n",
       "      <td>48.0</td>\n",
       "      <td>1152.0</td>\n",
       "      <td>27648.0</td>\n",
       "    </tr>\n",
       "    <tr>\n",
       "      <th>2</th>\n",
       "      <td>9997.0</td>\n",
       "      <td>2</td>\n",
       "      <td>1</td>\n",
       "      <td>1</td>\n",
       "      <td>3</td>\n",
       "      <td>3</td>\n",
       "      <td>23.0</td>\n",
       "      <td>529.0</td>\n",
       "      <td>12167.0</td>\n",
       "      <td>23.0</td>\n",
       "      <td>529.0</td>\n",
       "      <td>12167.0</td>\n",
       "      <td>69.0</td>\n",
       "      <td>1587.0</td>\n",
       "      <td>36501.0</td>\n",
       "    </tr>\n",
       "    <tr>\n",
       "      <th>3</th>\n",
       "      <td>9760.0</td>\n",
       "      <td>3</td>\n",
       "      <td>1</td>\n",
       "      <td>1</td>\n",
       "      <td>4</td>\n",
       "      <td>4</td>\n",
       "      <td>23.0</td>\n",
       "      <td>529.0</td>\n",
       "      <td>12167.0</td>\n",
       "      <td>23.0</td>\n",
       "      <td>529.0</td>\n",
       "      <td>12167.0</td>\n",
       "      <td>92.0</td>\n",
       "      <td>2116.0</td>\n",
       "      <td>48668.0</td>\n",
       "    </tr>\n",
       "    <tr>\n",
       "      <th>4</th>\n",
       "      <td>9624.0</td>\n",
       "      <td>4</td>\n",
       "      <td>1</td>\n",
       "      <td>1</td>\n",
       "      <td>5</td>\n",
       "      <td>5</td>\n",
       "      <td>23.0</td>\n",
       "      <td>529.0</td>\n",
       "      <td>12167.0</td>\n",
       "      <td>23.0</td>\n",
       "      <td>529.0</td>\n",
       "      <td>12167.0</td>\n",
       "      <td>115.0</td>\n",
       "      <td>2645.0</td>\n",
       "      <td>60835.0</td>\n",
       "    </tr>\n",
       "  </tbody>\n",
       "</table>\n",
       "</div>"
      ],
      "text/plain": [
       "      Load  Trend  Month  Week  Hour  Week_Hour  Lag_0_Temperature  \\\n",
       "0  10737.0      0      1     1     1          1               25.0   \n",
       "1  10348.0      1      1     1     2          2               24.0   \n",
       "2   9997.0      2      1     1     3          3               23.0   \n",
       "3   9760.0      3      1     1     4          4               23.0   \n",
       "4   9624.0      4      1     1     5          5               23.0   \n",
       "\n",
       "   Lag_0_Temperature_2  Lag_0_Temperature_3  Lag_0_Temperature_Month  \\\n",
       "0                625.0              15625.0                     25.0   \n",
       "1                576.0              13824.0                     24.0   \n",
       "2                529.0              12167.0                     23.0   \n",
       "3                529.0              12167.0                     23.0   \n",
       "4                529.0              12167.0                     23.0   \n",
       "\n",
       "   Lag_0_Temperature_2_Month  Lag_0_Temperature_3_Month  \\\n",
       "0                      625.0                    15625.0   \n",
       "1                      576.0                    13824.0   \n",
       "2                      529.0                    12167.0   \n",
       "3                      529.0                    12167.0   \n",
       "4                      529.0                    12167.0   \n",
       "\n",
       "   Lag_0_Temperature_Hour  Lag_0_Temperature_2_Hour  Lag_0_Temperature_3_Hour  \n",
       "0                    25.0                     625.0                   15625.0  \n",
       "1                    48.0                    1152.0                   27648.0  \n",
       "2                    69.0                    1587.0                   36501.0  \n",
       "3                    92.0                    2116.0                   48668.0  \n",
       "4                   115.0                    2645.0                   60835.0  "
      ]
     },
     "execution_count": 118,
     "metadata": {},
     "output_type": "execute_result"
    }
   ],
   "source": [
    "X_build_model.head()"
   ]
  },
  {
   "cell_type": "code",
   "execution_count": 119,
   "metadata": {
    "ExecuteTime": {
     "end_time": "2019-12-14T20:52:38.526283Z",
     "start_time": "2019-12-14T20:52:38.521895Z"
    }
   },
   "outputs": [
    {
     "data": {
      "text/plain": [
       "(Index(['Load', 'Trend', 'Month', 'Week', 'Hour', 'Week_Hour',\n",
       "        'Lag_0_Temperature', 'Lag_0_Temperature_2', 'Lag_0_Temperature_3',\n",
       "        'Lag_0_Temperature_Month', 'Lag_0_Temperature_2_Month',\n",
       "        'Lag_0_Temperature_3_Month', 'Lag_0_Temperature_Hour',\n",
       "        'Lag_0_Temperature_2_Hour', 'Lag_0_Temperature_3_Hour'],\n",
       "       dtype='object'), 15)"
      ]
     },
     "execution_count": 119,
     "metadata": {},
     "output_type": "execute_result"
    }
   ],
   "source": [
    "X_build_model.columns, len(X_build_model.columns)"
   ]
  },
  {
   "cell_type": "markdown",
   "metadata": {},
   "source": [
    "### Train Test Split"
   ]
  },
  {
   "cell_type": "code",
   "execution_count": 77,
   "metadata": {
    "ExecuteTime": {
     "end_time": "2019-12-08T22:53:49.378347Z",
     "start_time": "2019-12-08T22:53:49.362924Z"
    }
   },
   "outputs": [],
   "source": [
    "X_train, X_test = train_test_split(X_build_model.dropna(), test_size=0.2, random_state=0)"
   ]
  },
  {
   "cell_type": "code",
   "execution_count": 78,
   "metadata": {
    "ExecuteTime": {
     "end_time": "2019-12-08T22:53:49.383624Z",
     "start_time": "2019-12-08T22:53:49.379830Z"
    }
   },
   "outputs": [
    {
     "data": {
      "text/plain": [
       "((28051, 15), (7013, 15))"
      ]
     },
     "execution_count": 78,
     "metadata": {},
     "output_type": "execute_result"
    }
   ],
   "source": [
    "X_train.shape, X_test.shape"
   ]
  },
  {
   "cell_type": "code",
   "execution_count": 79,
   "metadata": {
    "ExecuteTime": {
     "end_time": "2019-12-08T22:53:49.389382Z",
     "start_time": "2019-12-08T22:53:49.385201Z"
    }
   },
   "outputs": [],
   "source": [
    "X_train_x = X_train.drop(['Load'], axis = 1)\n",
    "X_train_y = X_train['Load']"
   ]
  },
  {
   "cell_type": "code",
   "execution_count": 80,
   "metadata": {
    "ExecuteTime": {
     "end_time": "2019-12-08T22:53:49.394691Z",
     "start_time": "2019-12-08T22:53:49.390876Z"
    }
   },
   "outputs": [],
   "source": [
    "X_test_x = X_test.drop(['Load'], axis = 1)\n",
    "X_test_y = X_test['Load']"
   ]
  },
  {
   "cell_type": "code",
   "execution_count": 81,
   "metadata": {
    "ExecuteTime": {
     "end_time": "2019-12-08T22:53:49.400476Z",
     "start_time": "2019-12-08T22:53:49.396245Z"
    }
   },
   "outputs": [
    {
     "data": {
      "text/plain": [
       "Index(['Trend', 'Month', 'Week', 'Hour', 'Week_Hour', 'Lag_0_Temperature',\n",
       "       'Lag_0_Temperature_2', 'Lag_0_Temperature_3', 'Lag_0_Temperature_Month',\n",
       "       'Lag_0_Temperature_2_Month', 'Lag_0_Temperature_3_Month',\n",
       "       'Lag_0_Temperature_Hour', 'Lag_0_Temperature_2_Hour',\n",
       "       'Lag_0_Temperature_3_Hour'],\n",
       "      dtype='object')"
      ]
     },
     "execution_count": 81,
     "metadata": {},
     "output_type": "execute_result"
    }
   ],
   "source": [
    "X_test_x.columns"
   ]
  },
  {
   "cell_type": "markdown",
   "metadata": {},
   "source": [
    "### Model Building"
   ]
  },
  {
   "cell_type": "code",
   "execution_count": 82,
   "metadata": {
    "ExecuteTime": {
     "end_time": "2019-12-08T22:53:49.404480Z",
     "start_time": "2019-12-08T22:53:49.402022Z"
    }
   },
   "outputs": [],
   "source": [
    "model_benchmark = LinearRegression()"
   ]
  },
  {
   "cell_type": "code",
   "execution_count": 83,
   "metadata": {
    "ExecuteTime": {
     "end_time": "2019-12-08T22:53:49.417015Z",
     "start_time": "2019-12-08T22:53:49.406081Z"
    }
   },
   "outputs": [
    {
     "data": {
      "text/plain": [
       "LinearRegression(copy_X=True, fit_intercept=True, n_jobs=None, normalize=False)"
      ]
     },
     "execution_count": 83,
     "metadata": {},
     "output_type": "execute_result"
    }
   ],
   "source": [
    "model_benchmark.fit(X_train_x, X_train_y)"
   ]
  },
  {
   "cell_type": "code",
   "execution_count": 84,
   "metadata": {
    "ExecuteTime": {
     "end_time": "2019-12-08T22:53:49.424801Z",
     "start_time": "2019-12-08T22:53:49.418502Z"
    }
   },
   "outputs": [
    {
     "data": {
      "text/plain": [
       "0.7464064935836154"
      ]
     },
     "execution_count": 84,
     "metadata": {},
     "output_type": "execute_result"
    }
   ],
   "source": [
    "model_benchmark.score(X_train_x, X_train_y)"
   ]
  },
  {
   "cell_type": "markdown",
   "metadata": {},
   "source": [
    "### MAPE"
   ]
  },
  {
   "cell_type": "code",
   "execution_count": 85,
   "metadata": {
    "ExecuteTime": {
     "end_time": "2019-12-08T22:53:49.431785Z",
     "start_time": "2019-12-08T22:53:49.426140Z"
    }
   },
   "outputs": [
    {
     "data": {
      "text/plain": [
       "8.03775976797695"
      ]
     },
     "execution_count": 85,
     "metadata": {},
     "output_type": "execute_result"
    }
   ],
   "source": [
    "mape(X_train_y, model_benchmark.predict(X_train_x))"
   ]
  },
  {
   "cell_type": "code",
   "execution_count": 86,
   "metadata": {
    "ExecuteTime": {
     "end_time": "2019-12-08T22:53:49.438779Z",
     "start_time": "2019-12-08T22:53:49.433320Z"
    }
   },
   "outputs": [
    {
     "data": {
      "text/plain": [
       "7.960072876906881"
      ]
     },
     "execution_count": 86,
     "metadata": {},
     "output_type": "execute_result"
    }
   ],
   "source": [
    "mape(X_test_y, model_benchmark.predict(X_test_x))"
   ]
  },
  {
   "cell_type": "markdown",
   "metadata": {},
   "source": [
    "## Capture Recency effect"
   ]
  },
  {
   "cell_type": "markdown",
   "metadata": {},
   "source": [
    "### Build its own variables"
   ]
  },
  {
   "cell_type": "code",
   "execution_count": 160,
   "metadata": {
    "ExecuteTime": {
     "end_time": "2019-12-14T22:06:08.127998Z",
     "start_time": "2019-12-14T22:06:08.117410Z"
    }
   },
   "outputs": [
    {
     "data": {
      "text/html": [
       "<div>\n",
       "<style scoped>\n",
       "    .dataframe tbody tr th:only-of-type {\n",
       "        vertical-align: middle;\n",
       "    }\n",
       "\n",
       "    .dataframe tbody tr th {\n",
       "        vertical-align: top;\n",
       "    }\n",
       "\n",
       "    .dataframe thead th {\n",
       "        text-align: right;\n",
       "    }\n",
       "</style>\n",
       "<table border=\"1\" class=\"dataframe\">\n",
       "  <thead>\n",
       "    <tr style=\"text-align: right;\">\n",
       "      <th></th>\n",
       "      <th>Temperature</th>\n",
       "      <th>DateTime</th>\n",
       "      <th>Month</th>\n",
       "      <th>Hour</th>\n",
       "    </tr>\n",
       "  </thead>\n",
       "  <tbody>\n",
       "    <tr>\n",
       "      <th>0</th>\n",
       "      <td>25.0</td>\n",
       "      <td>2008-01-01 01:00:00</td>\n",
       "      <td>1</td>\n",
       "      <td>1</td>\n",
       "    </tr>\n",
       "    <tr>\n",
       "      <th>1</th>\n",
       "      <td>24.0</td>\n",
       "      <td>2008-01-01 02:00:00</td>\n",
       "      <td>1</td>\n",
       "      <td>2</td>\n",
       "    </tr>\n",
       "    <tr>\n",
       "      <th>2</th>\n",
       "      <td>23.0</td>\n",
       "      <td>2008-01-01 03:00:00</td>\n",
       "      <td>1</td>\n",
       "      <td>3</td>\n",
       "    </tr>\n",
       "    <tr>\n",
       "      <th>3</th>\n",
       "      <td>23.0</td>\n",
       "      <td>2008-01-01 04:00:00</td>\n",
       "      <td>1</td>\n",
       "      <td>4</td>\n",
       "    </tr>\n",
       "    <tr>\n",
       "      <th>4</th>\n",
       "      <td>23.0</td>\n",
       "      <td>2008-01-01 05:00:00</td>\n",
       "      <td>1</td>\n",
       "      <td>5</td>\n",
       "    </tr>\n",
       "  </tbody>\n",
       "</table>\n",
       "</div>"
      ],
      "text/plain": [
       "   Temperature            DateTime  Month  Hour\n",
       "0         25.0 2008-01-01 01:00:00      1     1\n",
       "1         24.0 2008-01-01 02:00:00      1     2\n",
       "2         23.0 2008-01-01 03:00:00      1     3\n",
       "3         23.0 2008-01-01 04:00:00      1     4\n",
       "4         23.0 2008-01-01 05:00:00      1     5"
      ]
     },
     "execution_count": 160,
     "metadata": {},
     "output_type": "execute_result"
    }
   ],
   "source": [
    "data_rolling = data_fofT.copy()\n",
    "data_rolling.head()"
   ]
  },
  {
   "cell_type": "code",
   "execution_count": 161,
   "metadata": {
    "ExecuteTime": {
     "end_time": "2019-12-14T22:06:09.334721Z",
     "start_time": "2019-12-14T22:06:09.324852Z"
    }
   },
   "outputs": [],
   "source": [
    "data_rolling['Temperature_Rolling_last_24hour'] = data_rolling['Temperature'].shift(1).rolling(window=24).mean()\n",
    "data_rolling.drop('Temperature', inplace = True, axis = 1)"
   ]
  },
  {
   "cell_type": "code",
   "execution_count": 162,
   "metadata": {
    "ExecuteTime": {
     "end_time": "2019-12-14T22:06:09.465754Z",
     "start_time": "2019-12-14T22:06:09.455074Z"
    }
   },
   "outputs": [
    {
     "data": {
      "text/html": [
       "<div>\n",
       "<style scoped>\n",
       "    .dataframe tbody tr th:only-of-type {\n",
       "        vertical-align: middle;\n",
       "    }\n",
       "\n",
       "    .dataframe tbody tr th {\n",
       "        vertical-align: top;\n",
       "    }\n",
       "\n",
       "    .dataframe thead th {\n",
       "        text-align: right;\n",
       "    }\n",
       "</style>\n",
       "<table border=\"1\" class=\"dataframe\">\n",
       "  <thead>\n",
       "    <tr style=\"text-align: right;\">\n",
       "      <th></th>\n",
       "      <th>DateTime</th>\n",
       "      <th>Month</th>\n",
       "      <th>Hour</th>\n",
       "      <th>Temperature_Rolling_last_24hour</th>\n",
       "    </tr>\n",
       "  </thead>\n",
       "  <tbody>\n",
       "    <tr>\n",
       "      <th>20</th>\n",
       "      <td>2008-01-01 21:00:00</td>\n",
       "      <td>1</td>\n",
       "      <td>21</td>\n",
       "      <td>NaN</td>\n",
       "    </tr>\n",
       "    <tr>\n",
       "      <th>21</th>\n",
       "      <td>2008-01-01 22:00:00</td>\n",
       "      <td>1</td>\n",
       "      <td>22</td>\n",
       "      <td>NaN</td>\n",
       "    </tr>\n",
       "    <tr>\n",
       "      <th>22</th>\n",
       "      <td>2008-01-01 23:00:00</td>\n",
       "      <td>1</td>\n",
       "      <td>23</td>\n",
       "      <td>NaN</td>\n",
       "    </tr>\n",
       "    <tr>\n",
       "      <th>23</th>\n",
       "      <td>2008-01-02 00:00:00</td>\n",
       "      <td>1</td>\n",
       "      <td>0</td>\n",
       "      <td>NaN</td>\n",
       "    </tr>\n",
       "    <tr>\n",
       "      <th>24</th>\n",
       "      <td>2008-01-02 01:00:00</td>\n",
       "      <td>1</td>\n",
       "      <td>1</td>\n",
       "      <td>17.415833</td>\n",
       "    </tr>\n",
       "    <tr>\n",
       "      <th>25</th>\n",
       "      <td>2008-01-02 02:00:00</td>\n",
       "      <td>1</td>\n",
       "      <td>2</td>\n",
       "      <td>16.499167</td>\n",
       "    </tr>\n",
       "    <tr>\n",
       "      <th>26</th>\n",
       "      <td>2008-01-02 03:00:00</td>\n",
       "      <td>1</td>\n",
       "      <td>3</td>\n",
       "      <td>15.610417</td>\n",
       "    </tr>\n",
       "    <tr>\n",
       "      <th>27</th>\n",
       "      <td>2008-01-02 04:00:00</td>\n",
       "      <td>1</td>\n",
       "      <td>4</td>\n",
       "      <td>14.735417</td>\n",
       "    </tr>\n",
       "    <tr>\n",
       "      <th>28</th>\n",
       "      <td>2008-01-02 05:00:00</td>\n",
       "      <td>1</td>\n",
       "      <td>5</td>\n",
       "      <td>13.874167</td>\n",
       "    </tr>\n",
       "    <tr>\n",
       "      <th>29</th>\n",
       "      <td>2008-01-02 06:00:00</td>\n",
       "      <td>1</td>\n",
       "      <td>6</td>\n",
       "      <td>13.040833</td>\n",
       "    </tr>\n",
       "    <tr>\n",
       "      <th>30</th>\n",
       "      <td>2008-01-02 07:00:00</td>\n",
       "      <td>1</td>\n",
       "      <td>7</td>\n",
       "      <td>12.207500</td>\n",
       "    </tr>\n",
       "    <tr>\n",
       "      <th>31</th>\n",
       "      <td>2008-01-02 08:00:00</td>\n",
       "      <td>1</td>\n",
       "      <td>8</td>\n",
       "      <td>11.471250</td>\n",
       "    </tr>\n",
       "    <tr>\n",
       "      <th>32</th>\n",
       "      <td>2008-01-02 09:00:00</td>\n",
       "      <td>1</td>\n",
       "      <td>9</td>\n",
       "      <td>10.804583</td>\n",
       "    </tr>\n",
       "    <tr>\n",
       "      <th>33</th>\n",
       "      <td>2008-01-02 10:00:00</td>\n",
       "      <td>1</td>\n",
       "      <td>10</td>\n",
       "      <td>10.221250</td>\n",
       "    </tr>\n",
       "    <tr>\n",
       "      <th>34</th>\n",
       "      <td>2008-01-02 11:00:00</td>\n",
       "      <td>1</td>\n",
       "      <td>11</td>\n",
       "      <td>9.762917</td>\n",
       "    </tr>\n",
       "    <tr>\n",
       "      <th>35</th>\n",
       "      <td>2008-01-02 12:00:00</td>\n",
       "      <td>1</td>\n",
       "      <td>12</td>\n",
       "      <td>9.485000</td>\n",
       "    </tr>\n",
       "    <tr>\n",
       "      <th>36</th>\n",
       "      <td>2008-01-02 13:00:00</td>\n",
       "      <td>1</td>\n",
       "      <td>13</td>\n",
       "      <td>9.304583</td>\n",
       "    </tr>\n",
       "    <tr>\n",
       "      <th>37</th>\n",
       "      <td>2008-01-02 14:00:00</td>\n",
       "      <td>1</td>\n",
       "      <td>14</td>\n",
       "      <td>9.193333</td>\n",
       "    </tr>\n",
       "    <tr>\n",
       "      <th>38</th>\n",
       "      <td>2008-01-02 15:00:00</td>\n",
       "      <td>1</td>\n",
       "      <td>15</td>\n",
       "      <td>9.137917</td>\n",
       "    </tr>\n",
       "    <tr>\n",
       "      <th>39</th>\n",
       "      <td>2008-01-02 16:00:00</td>\n",
       "      <td>1</td>\n",
       "      <td>16</td>\n",
       "      <td>9.124167</td>\n",
       "    </tr>\n",
       "  </tbody>\n",
       "</table>\n",
       "</div>"
      ],
      "text/plain": [
       "              DateTime  Month  Hour  Temperature_Rolling_last_24hour\n",
       "20 2008-01-01 21:00:00      1    21                              NaN\n",
       "21 2008-01-01 22:00:00      1    22                              NaN\n",
       "22 2008-01-01 23:00:00      1    23                              NaN\n",
       "23 2008-01-02 00:00:00      1     0                              NaN\n",
       "24 2008-01-02 01:00:00      1     1                        17.415833\n",
       "25 2008-01-02 02:00:00      1     2                        16.499167\n",
       "26 2008-01-02 03:00:00      1     3                        15.610417\n",
       "27 2008-01-02 04:00:00      1     4                        14.735417\n",
       "28 2008-01-02 05:00:00      1     5                        13.874167\n",
       "29 2008-01-02 06:00:00      1     6                        13.040833\n",
       "30 2008-01-02 07:00:00      1     7                        12.207500\n",
       "31 2008-01-02 08:00:00      1     8                        11.471250\n",
       "32 2008-01-02 09:00:00      1     9                        10.804583\n",
       "33 2008-01-02 10:00:00      1    10                        10.221250\n",
       "34 2008-01-02 11:00:00      1    11                         9.762917\n",
       "35 2008-01-02 12:00:00      1    12                         9.485000\n",
       "36 2008-01-02 13:00:00      1    13                         9.304583\n",
       "37 2008-01-02 14:00:00      1    14                         9.193333\n",
       "38 2008-01-02 15:00:00      1    15                         9.137917\n",
       "39 2008-01-02 16:00:00      1    16                         9.124167"
      ]
     },
     "execution_count": 162,
     "metadata": {},
     "output_type": "execute_result"
    }
   ],
   "source": [
    "data_rolling.iloc[20:40, :]"
   ]
  },
  {
   "cell_type": "code",
   "execution_count": 163,
   "metadata": {
    "ExecuteTime": {
     "end_time": "2019-12-14T22:06:10.611790Z",
     "start_time": "2019-12-14T22:06:10.587360Z"
    }
   },
   "outputs": [],
   "source": [
    "base_data = yt(0, data_yt)"
   ]
  },
  {
   "cell_type": "code",
   "execution_count": 164,
   "metadata": {
    "ExecuteTime": {
     "end_time": "2019-12-14T22:06:11.335974Z",
     "start_time": "2019-12-14T22:06:11.328071Z"
    }
   },
   "outputs": [
    {
     "data": {
      "text/html": [
       "<div>\n",
       "<style scoped>\n",
       "    .dataframe tbody tr th:only-of-type {\n",
       "        vertical-align: middle;\n",
       "    }\n",
       "\n",
       "    .dataframe tbody tr th {\n",
       "        vertical-align: top;\n",
       "    }\n",
       "\n",
       "    .dataframe thead th {\n",
       "        text-align: right;\n",
       "    }\n",
       "</style>\n",
       "<table border=\"1\" class=\"dataframe\">\n",
       "  <thead>\n",
       "    <tr style=\"text-align: right;\">\n",
       "      <th></th>\n",
       "      <th>Load</th>\n",
       "      <th>Trend</th>\n",
       "      <th>Month</th>\n",
       "      <th>Week</th>\n",
       "      <th>Hour</th>\n",
       "      <th>Week_Hour</th>\n",
       "    </tr>\n",
       "  </thead>\n",
       "  <tbody>\n",
       "    <tr>\n",
       "      <th>0</th>\n",
       "      <td>10737.0</td>\n",
       "      <td>0</td>\n",
       "      <td>1</td>\n",
       "      <td>1</td>\n",
       "      <td>1</td>\n",
       "      <td>1</td>\n",
       "    </tr>\n",
       "    <tr>\n",
       "      <th>1</th>\n",
       "      <td>10348.0</td>\n",
       "      <td>1</td>\n",
       "      <td>1</td>\n",
       "      <td>1</td>\n",
       "      <td>2</td>\n",
       "      <td>2</td>\n",
       "    </tr>\n",
       "    <tr>\n",
       "      <th>2</th>\n",
       "      <td>9997.0</td>\n",
       "      <td>2</td>\n",
       "      <td>1</td>\n",
       "      <td>1</td>\n",
       "      <td>3</td>\n",
       "      <td>3</td>\n",
       "    </tr>\n",
       "    <tr>\n",
       "      <th>3</th>\n",
       "      <td>9760.0</td>\n",
       "      <td>3</td>\n",
       "      <td>1</td>\n",
       "      <td>1</td>\n",
       "      <td>4</td>\n",
       "      <td>4</td>\n",
       "    </tr>\n",
       "    <tr>\n",
       "      <th>4</th>\n",
       "      <td>9624.0</td>\n",
       "      <td>4</td>\n",
       "      <td>1</td>\n",
       "      <td>1</td>\n",
       "      <td>5</td>\n",
       "      <td>5</td>\n",
       "    </tr>\n",
       "  </tbody>\n",
       "</table>\n",
       "</div>"
      ],
      "text/plain": [
       "      Load  Trend  Month  Week  Hour  Week_Hour\n",
       "0  10737.0      0      1     1     1          1\n",
       "1  10348.0      1      1     1     2          2\n",
       "2   9997.0      2      1     1     3          3\n",
       "3   9760.0      3      1     1     4          4\n",
       "4   9624.0      4      1     1     5          5"
      ]
     },
     "execution_count": 164,
     "metadata": {},
     "output_type": "execute_result"
    }
   ],
   "source": [
    "base_data.head()"
   ]
  },
  {
   "cell_type": "code",
   "execution_count": 165,
   "metadata": {
    "ExecuteTime": {
     "end_time": "2019-12-14T22:06:12.872383Z",
     "start_time": "2019-12-14T22:06:12.869047Z"
    }
   },
   "outputs": [],
   "source": [
    "X_build_model = base_data[:]"
   ]
  },
  {
   "cell_type": "code",
   "execution_count": 166,
   "metadata": {
    "ExecuteTime": {
     "end_time": "2019-12-14T22:06:27.450993Z",
     "start_time": "2019-12-14T22:06:13.396180Z"
    }
   },
   "outputs": [],
   "source": [
    "for h in range(73):\n",
    "    lag_h = fofT('Temperature', h, data_fofT)\n",
    "    X_build_model = pd.concat([X_build_model, lag_h], axis = 1)"
   ]
  },
  {
   "cell_type": "code",
   "execution_count": 167,
   "metadata": {
    "ExecuteTime": {
     "end_time": "2019-12-14T22:06:29.955486Z",
     "start_time": "2019-12-14T22:06:27.452541Z"
    }
   },
   "outputs": [],
   "source": [
    "for day in range(1, 8):\n",
    "    lag_day = fofT('Temperature_Rolling_last_24hour', (day-1) * 24, data_rolling)\n",
    "    X_build_model = pd.concat([X_build_model, lag_day], axis = 1)"
   ]
  },
  {
   "cell_type": "code",
   "execution_count": 168,
   "metadata": {
    "ExecuteTime": {
     "end_time": "2019-12-14T22:06:29.968027Z",
     "start_time": "2019-12-14T22:06:29.957138Z"
    }
   },
   "outputs": [
    {
     "data": {
      "text/plain": [
       "['Load',\n",
       " 'Trend',\n",
       " 'Month',\n",
       " 'Week',\n",
       " 'Hour',\n",
       " 'Week_Hour',\n",
       " 'Lag_0_Temperature',\n",
       " 'Lag_0_Temperature_2',\n",
       " 'Lag_0_Temperature_3',\n",
       " 'Lag_0_Temperature_Month',\n",
       " 'Lag_0_Temperature_2_Month',\n",
       " 'Lag_0_Temperature_3_Month',\n",
       " 'Lag_0_Temperature_Hour',\n",
       " 'Lag_0_Temperature_2_Hour',\n",
       " 'Lag_0_Temperature_3_Hour',\n",
       " 'Lag_1_Temperature',\n",
       " 'Lag_1_Temperature_2',\n",
       " 'Lag_1_Temperature_3',\n",
       " 'Lag_1_Temperature_Month',\n",
       " 'Lag_1_Temperature_2_Month',\n",
       " 'Lag_1_Temperature_3_Month',\n",
       " 'Lag_1_Temperature_Hour',\n",
       " 'Lag_1_Temperature_2_Hour',\n",
       " 'Lag_1_Temperature_3_Hour',\n",
       " 'Lag_2_Temperature',\n",
       " 'Lag_2_Temperature_2',\n",
       " 'Lag_2_Temperature_3',\n",
       " 'Lag_2_Temperature_Month',\n",
       " 'Lag_2_Temperature_2_Month',\n",
       " 'Lag_2_Temperature_3_Month',\n",
       " 'Lag_2_Temperature_Hour',\n",
       " 'Lag_2_Temperature_2_Hour',\n",
       " 'Lag_2_Temperature_3_Hour',\n",
       " 'Lag_3_Temperature',\n",
       " 'Lag_3_Temperature_2',\n",
       " 'Lag_3_Temperature_3',\n",
       " 'Lag_3_Temperature_Month',\n",
       " 'Lag_3_Temperature_2_Month',\n",
       " 'Lag_3_Temperature_3_Month',\n",
       " 'Lag_3_Temperature_Hour',\n",
       " 'Lag_3_Temperature_2_Hour',\n",
       " 'Lag_3_Temperature_3_Hour',\n",
       " 'Lag_4_Temperature',\n",
       " 'Lag_4_Temperature_2',\n",
       " 'Lag_4_Temperature_3',\n",
       " 'Lag_4_Temperature_Month',\n",
       " 'Lag_4_Temperature_2_Month',\n",
       " 'Lag_4_Temperature_3_Month',\n",
       " 'Lag_4_Temperature_Hour',\n",
       " 'Lag_4_Temperature_2_Hour',\n",
       " 'Lag_4_Temperature_3_Hour',\n",
       " 'Lag_5_Temperature',\n",
       " 'Lag_5_Temperature_2',\n",
       " 'Lag_5_Temperature_3',\n",
       " 'Lag_5_Temperature_Month',\n",
       " 'Lag_5_Temperature_2_Month',\n",
       " 'Lag_5_Temperature_3_Month',\n",
       " 'Lag_5_Temperature_Hour',\n",
       " 'Lag_5_Temperature_2_Hour',\n",
       " 'Lag_5_Temperature_3_Hour',\n",
       " 'Lag_6_Temperature',\n",
       " 'Lag_6_Temperature_2',\n",
       " 'Lag_6_Temperature_3',\n",
       " 'Lag_6_Temperature_Month',\n",
       " 'Lag_6_Temperature_2_Month',\n",
       " 'Lag_6_Temperature_3_Month',\n",
       " 'Lag_6_Temperature_Hour',\n",
       " 'Lag_6_Temperature_2_Hour',\n",
       " 'Lag_6_Temperature_3_Hour',\n",
       " 'Lag_7_Temperature',\n",
       " 'Lag_7_Temperature_2',\n",
       " 'Lag_7_Temperature_3',\n",
       " 'Lag_7_Temperature_Month',\n",
       " 'Lag_7_Temperature_2_Month',\n",
       " 'Lag_7_Temperature_3_Month',\n",
       " 'Lag_7_Temperature_Hour',\n",
       " 'Lag_7_Temperature_2_Hour',\n",
       " 'Lag_7_Temperature_3_Hour',\n",
       " 'Lag_8_Temperature',\n",
       " 'Lag_8_Temperature_2',\n",
       " 'Lag_8_Temperature_3',\n",
       " 'Lag_8_Temperature_Month',\n",
       " 'Lag_8_Temperature_2_Month',\n",
       " 'Lag_8_Temperature_3_Month',\n",
       " 'Lag_8_Temperature_Hour',\n",
       " 'Lag_8_Temperature_2_Hour',\n",
       " 'Lag_8_Temperature_3_Hour',\n",
       " 'Lag_9_Temperature',\n",
       " 'Lag_9_Temperature_2',\n",
       " 'Lag_9_Temperature_3',\n",
       " 'Lag_9_Temperature_Month',\n",
       " 'Lag_9_Temperature_2_Month',\n",
       " 'Lag_9_Temperature_3_Month',\n",
       " 'Lag_9_Temperature_Hour',\n",
       " 'Lag_9_Temperature_2_Hour',\n",
       " 'Lag_9_Temperature_3_Hour',\n",
       " 'Lag_10_Temperature',\n",
       " 'Lag_10_Temperature_2',\n",
       " 'Lag_10_Temperature_3',\n",
       " 'Lag_10_Temperature_Month',\n",
       " 'Lag_10_Temperature_2_Month',\n",
       " 'Lag_10_Temperature_3_Month',\n",
       " 'Lag_10_Temperature_Hour',\n",
       " 'Lag_10_Temperature_2_Hour',\n",
       " 'Lag_10_Temperature_3_Hour',\n",
       " 'Lag_11_Temperature',\n",
       " 'Lag_11_Temperature_2',\n",
       " 'Lag_11_Temperature_3',\n",
       " 'Lag_11_Temperature_Month',\n",
       " 'Lag_11_Temperature_2_Month',\n",
       " 'Lag_11_Temperature_3_Month',\n",
       " 'Lag_11_Temperature_Hour',\n",
       " 'Lag_11_Temperature_2_Hour',\n",
       " 'Lag_11_Temperature_3_Hour',\n",
       " 'Lag_12_Temperature',\n",
       " 'Lag_12_Temperature_2',\n",
       " 'Lag_12_Temperature_3',\n",
       " 'Lag_12_Temperature_Month',\n",
       " 'Lag_12_Temperature_2_Month',\n",
       " 'Lag_12_Temperature_3_Month',\n",
       " 'Lag_12_Temperature_Hour',\n",
       " 'Lag_12_Temperature_2_Hour',\n",
       " 'Lag_12_Temperature_3_Hour',\n",
       " 'Lag_13_Temperature',\n",
       " 'Lag_13_Temperature_2',\n",
       " 'Lag_13_Temperature_3',\n",
       " 'Lag_13_Temperature_Month',\n",
       " 'Lag_13_Temperature_2_Month',\n",
       " 'Lag_13_Temperature_3_Month',\n",
       " 'Lag_13_Temperature_Hour',\n",
       " 'Lag_13_Temperature_2_Hour',\n",
       " 'Lag_13_Temperature_3_Hour',\n",
       " 'Lag_14_Temperature',\n",
       " 'Lag_14_Temperature_2',\n",
       " 'Lag_14_Temperature_3',\n",
       " 'Lag_14_Temperature_Month',\n",
       " 'Lag_14_Temperature_2_Month',\n",
       " 'Lag_14_Temperature_3_Month',\n",
       " 'Lag_14_Temperature_Hour',\n",
       " 'Lag_14_Temperature_2_Hour',\n",
       " 'Lag_14_Temperature_3_Hour',\n",
       " 'Lag_15_Temperature',\n",
       " 'Lag_15_Temperature_2',\n",
       " 'Lag_15_Temperature_3',\n",
       " 'Lag_15_Temperature_Month',\n",
       " 'Lag_15_Temperature_2_Month',\n",
       " 'Lag_15_Temperature_3_Month',\n",
       " 'Lag_15_Temperature_Hour',\n",
       " 'Lag_15_Temperature_2_Hour',\n",
       " 'Lag_15_Temperature_3_Hour',\n",
       " 'Lag_16_Temperature',\n",
       " 'Lag_16_Temperature_2',\n",
       " 'Lag_16_Temperature_3',\n",
       " 'Lag_16_Temperature_Month',\n",
       " 'Lag_16_Temperature_2_Month',\n",
       " 'Lag_16_Temperature_3_Month',\n",
       " 'Lag_16_Temperature_Hour',\n",
       " 'Lag_16_Temperature_2_Hour',\n",
       " 'Lag_16_Temperature_3_Hour',\n",
       " 'Lag_17_Temperature',\n",
       " 'Lag_17_Temperature_2',\n",
       " 'Lag_17_Temperature_3',\n",
       " 'Lag_17_Temperature_Month',\n",
       " 'Lag_17_Temperature_2_Month',\n",
       " 'Lag_17_Temperature_3_Month',\n",
       " 'Lag_17_Temperature_Hour',\n",
       " 'Lag_17_Temperature_2_Hour',\n",
       " 'Lag_17_Temperature_3_Hour',\n",
       " 'Lag_18_Temperature',\n",
       " 'Lag_18_Temperature_2',\n",
       " 'Lag_18_Temperature_3',\n",
       " 'Lag_18_Temperature_Month',\n",
       " 'Lag_18_Temperature_2_Month',\n",
       " 'Lag_18_Temperature_3_Month',\n",
       " 'Lag_18_Temperature_Hour',\n",
       " 'Lag_18_Temperature_2_Hour',\n",
       " 'Lag_18_Temperature_3_Hour',\n",
       " 'Lag_19_Temperature',\n",
       " 'Lag_19_Temperature_2',\n",
       " 'Lag_19_Temperature_3',\n",
       " 'Lag_19_Temperature_Month',\n",
       " 'Lag_19_Temperature_2_Month',\n",
       " 'Lag_19_Temperature_3_Month',\n",
       " 'Lag_19_Temperature_Hour',\n",
       " 'Lag_19_Temperature_2_Hour',\n",
       " 'Lag_19_Temperature_3_Hour',\n",
       " 'Lag_20_Temperature',\n",
       " 'Lag_20_Temperature_2',\n",
       " 'Lag_20_Temperature_3',\n",
       " 'Lag_20_Temperature_Month',\n",
       " 'Lag_20_Temperature_2_Month',\n",
       " 'Lag_20_Temperature_3_Month',\n",
       " 'Lag_20_Temperature_Hour',\n",
       " 'Lag_20_Temperature_2_Hour',\n",
       " 'Lag_20_Temperature_3_Hour',\n",
       " 'Lag_21_Temperature',\n",
       " 'Lag_21_Temperature_2',\n",
       " 'Lag_21_Temperature_3',\n",
       " 'Lag_21_Temperature_Month',\n",
       " 'Lag_21_Temperature_2_Month',\n",
       " 'Lag_21_Temperature_3_Month',\n",
       " 'Lag_21_Temperature_Hour',\n",
       " 'Lag_21_Temperature_2_Hour',\n",
       " 'Lag_21_Temperature_3_Hour',\n",
       " 'Lag_22_Temperature',\n",
       " 'Lag_22_Temperature_2',\n",
       " 'Lag_22_Temperature_3',\n",
       " 'Lag_22_Temperature_Month',\n",
       " 'Lag_22_Temperature_2_Month',\n",
       " 'Lag_22_Temperature_3_Month',\n",
       " 'Lag_22_Temperature_Hour',\n",
       " 'Lag_22_Temperature_2_Hour',\n",
       " 'Lag_22_Temperature_3_Hour',\n",
       " 'Lag_23_Temperature',\n",
       " 'Lag_23_Temperature_2',\n",
       " 'Lag_23_Temperature_3',\n",
       " 'Lag_23_Temperature_Month',\n",
       " 'Lag_23_Temperature_2_Month',\n",
       " 'Lag_23_Temperature_3_Month',\n",
       " 'Lag_23_Temperature_Hour',\n",
       " 'Lag_23_Temperature_2_Hour',\n",
       " 'Lag_23_Temperature_3_Hour',\n",
       " 'Lag_24_Temperature',\n",
       " 'Lag_24_Temperature_2',\n",
       " 'Lag_24_Temperature_3',\n",
       " 'Lag_24_Temperature_Month',\n",
       " 'Lag_24_Temperature_2_Month',\n",
       " 'Lag_24_Temperature_3_Month',\n",
       " 'Lag_24_Temperature_Hour',\n",
       " 'Lag_24_Temperature_2_Hour',\n",
       " 'Lag_24_Temperature_3_Hour',\n",
       " 'Lag_25_Temperature',\n",
       " 'Lag_25_Temperature_2',\n",
       " 'Lag_25_Temperature_3',\n",
       " 'Lag_25_Temperature_Month',\n",
       " 'Lag_25_Temperature_2_Month',\n",
       " 'Lag_25_Temperature_3_Month',\n",
       " 'Lag_25_Temperature_Hour',\n",
       " 'Lag_25_Temperature_2_Hour',\n",
       " 'Lag_25_Temperature_3_Hour',\n",
       " 'Lag_26_Temperature',\n",
       " 'Lag_26_Temperature_2',\n",
       " 'Lag_26_Temperature_3',\n",
       " 'Lag_26_Temperature_Month',\n",
       " 'Lag_26_Temperature_2_Month',\n",
       " 'Lag_26_Temperature_3_Month',\n",
       " 'Lag_26_Temperature_Hour',\n",
       " 'Lag_26_Temperature_2_Hour',\n",
       " 'Lag_26_Temperature_3_Hour',\n",
       " 'Lag_27_Temperature',\n",
       " 'Lag_27_Temperature_2',\n",
       " 'Lag_27_Temperature_3',\n",
       " 'Lag_27_Temperature_Month',\n",
       " 'Lag_27_Temperature_2_Month',\n",
       " 'Lag_27_Temperature_3_Month',\n",
       " 'Lag_27_Temperature_Hour',\n",
       " 'Lag_27_Temperature_2_Hour',\n",
       " 'Lag_27_Temperature_3_Hour',\n",
       " 'Lag_28_Temperature',\n",
       " 'Lag_28_Temperature_2',\n",
       " 'Lag_28_Temperature_3',\n",
       " 'Lag_28_Temperature_Month',\n",
       " 'Lag_28_Temperature_2_Month',\n",
       " 'Lag_28_Temperature_3_Month',\n",
       " 'Lag_28_Temperature_Hour',\n",
       " 'Lag_28_Temperature_2_Hour',\n",
       " 'Lag_28_Temperature_3_Hour',\n",
       " 'Lag_29_Temperature',\n",
       " 'Lag_29_Temperature_2',\n",
       " 'Lag_29_Temperature_3',\n",
       " 'Lag_29_Temperature_Month',\n",
       " 'Lag_29_Temperature_2_Month',\n",
       " 'Lag_29_Temperature_3_Month',\n",
       " 'Lag_29_Temperature_Hour',\n",
       " 'Lag_29_Temperature_2_Hour',\n",
       " 'Lag_29_Temperature_3_Hour',\n",
       " 'Lag_30_Temperature',\n",
       " 'Lag_30_Temperature_2',\n",
       " 'Lag_30_Temperature_3',\n",
       " 'Lag_30_Temperature_Month',\n",
       " 'Lag_30_Temperature_2_Month',\n",
       " 'Lag_30_Temperature_3_Month',\n",
       " 'Lag_30_Temperature_Hour',\n",
       " 'Lag_30_Temperature_2_Hour',\n",
       " 'Lag_30_Temperature_3_Hour',\n",
       " 'Lag_31_Temperature',\n",
       " 'Lag_31_Temperature_2',\n",
       " 'Lag_31_Temperature_3',\n",
       " 'Lag_31_Temperature_Month',\n",
       " 'Lag_31_Temperature_2_Month',\n",
       " 'Lag_31_Temperature_3_Month',\n",
       " 'Lag_31_Temperature_Hour',\n",
       " 'Lag_31_Temperature_2_Hour',\n",
       " 'Lag_31_Temperature_3_Hour',\n",
       " 'Lag_32_Temperature',\n",
       " 'Lag_32_Temperature_2',\n",
       " 'Lag_32_Temperature_3',\n",
       " 'Lag_32_Temperature_Month',\n",
       " 'Lag_32_Temperature_2_Month',\n",
       " 'Lag_32_Temperature_3_Month',\n",
       " 'Lag_32_Temperature_Hour',\n",
       " 'Lag_32_Temperature_2_Hour',\n",
       " 'Lag_32_Temperature_3_Hour',\n",
       " 'Lag_33_Temperature',\n",
       " 'Lag_33_Temperature_2',\n",
       " 'Lag_33_Temperature_3',\n",
       " 'Lag_33_Temperature_Month',\n",
       " 'Lag_33_Temperature_2_Month',\n",
       " 'Lag_33_Temperature_3_Month',\n",
       " 'Lag_33_Temperature_Hour',\n",
       " 'Lag_33_Temperature_2_Hour',\n",
       " 'Lag_33_Temperature_3_Hour',\n",
       " 'Lag_34_Temperature',\n",
       " 'Lag_34_Temperature_2',\n",
       " 'Lag_34_Temperature_3',\n",
       " 'Lag_34_Temperature_Month',\n",
       " 'Lag_34_Temperature_2_Month',\n",
       " 'Lag_34_Temperature_3_Month',\n",
       " 'Lag_34_Temperature_Hour',\n",
       " 'Lag_34_Temperature_2_Hour',\n",
       " 'Lag_34_Temperature_3_Hour',\n",
       " 'Lag_35_Temperature',\n",
       " 'Lag_35_Temperature_2',\n",
       " 'Lag_35_Temperature_3',\n",
       " 'Lag_35_Temperature_Month',\n",
       " 'Lag_35_Temperature_2_Month',\n",
       " 'Lag_35_Temperature_3_Month',\n",
       " 'Lag_35_Temperature_Hour',\n",
       " 'Lag_35_Temperature_2_Hour',\n",
       " 'Lag_35_Temperature_3_Hour',\n",
       " 'Lag_36_Temperature',\n",
       " 'Lag_36_Temperature_2',\n",
       " 'Lag_36_Temperature_3',\n",
       " 'Lag_36_Temperature_Month',\n",
       " 'Lag_36_Temperature_2_Month',\n",
       " 'Lag_36_Temperature_3_Month',\n",
       " 'Lag_36_Temperature_Hour',\n",
       " 'Lag_36_Temperature_2_Hour',\n",
       " 'Lag_36_Temperature_3_Hour',\n",
       " 'Lag_37_Temperature',\n",
       " 'Lag_37_Temperature_2',\n",
       " 'Lag_37_Temperature_3',\n",
       " 'Lag_37_Temperature_Month',\n",
       " 'Lag_37_Temperature_2_Month',\n",
       " 'Lag_37_Temperature_3_Month',\n",
       " 'Lag_37_Temperature_Hour',\n",
       " 'Lag_37_Temperature_2_Hour',\n",
       " 'Lag_37_Temperature_3_Hour',\n",
       " 'Lag_38_Temperature',\n",
       " 'Lag_38_Temperature_2',\n",
       " 'Lag_38_Temperature_3',\n",
       " 'Lag_38_Temperature_Month',\n",
       " 'Lag_38_Temperature_2_Month',\n",
       " 'Lag_38_Temperature_3_Month',\n",
       " 'Lag_38_Temperature_Hour',\n",
       " 'Lag_38_Temperature_2_Hour',\n",
       " 'Lag_38_Temperature_3_Hour',\n",
       " 'Lag_39_Temperature',\n",
       " 'Lag_39_Temperature_2',\n",
       " 'Lag_39_Temperature_3',\n",
       " 'Lag_39_Temperature_Month',\n",
       " 'Lag_39_Temperature_2_Month',\n",
       " 'Lag_39_Temperature_3_Month',\n",
       " 'Lag_39_Temperature_Hour',\n",
       " 'Lag_39_Temperature_2_Hour',\n",
       " 'Lag_39_Temperature_3_Hour',\n",
       " 'Lag_40_Temperature',\n",
       " 'Lag_40_Temperature_2',\n",
       " 'Lag_40_Temperature_3',\n",
       " 'Lag_40_Temperature_Month',\n",
       " 'Lag_40_Temperature_2_Month',\n",
       " 'Lag_40_Temperature_3_Month',\n",
       " 'Lag_40_Temperature_Hour',\n",
       " 'Lag_40_Temperature_2_Hour',\n",
       " 'Lag_40_Temperature_3_Hour',\n",
       " 'Lag_41_Temperature',\n",
       " 'Lag_41_Temperature_2',\n",
       " 'Lag_41_Temperature_3',\n",
       " 'Lag_41_Temperature_Month',\n",
       " 'Lag_41_Temperature_2_Month',\n",
       " 'Lag_41_Temperature_3_Month',\n",
       " 'Lag_41_Temperature_Hour',\n",
       " 'Lag_41_Temperature_2_Hour',\n",
       " 'Lag_41_Temperature_3_Hour',\n",
       " 'Lag_42_Temperature',\n",
       " 'Lag_42_Temperature_2',\n",
       " 'Lag_42_Temperature_3',\n",
       " 'Lag_42_Temperature_Month',\n",
       " 'Lag_42_Temperature_2_Month',\n",
       " 'Lag_42_Temperature_3_Month',\n",
       " 'Lag_42_Temperature_Hour',\n",
       " 'Lag_42_Temperature_2_Hour',\n",
       " 'Lag_42_Temperature_3_Hour',\n",
       " 'Lag_43_Temperature',\n",
       " 'Lag_43_Temperature_2',\n",
       " 'Lag_43_Temperature_3',\n",
       " 'Lag_43_Temperature_Month',\n",
       " 'Lag_43_Temperature_2_Month',\n",
       " 'Lag_43_Temperature_3_Month',\n",
       " 'Lag_43_Temperature_Hour',\n",
       " 'Lag_43_Temperature_2_Hour',\n",
       " 'Lag_43_Temperature_3_Hour',\n",
       " 'Lag_44_Temperature',\n",
       " 'Lag_44_Temperature_2',\n",
       " 'Lag_44_Temperature_3',\n",
       " 'Lag_44_Temperature_Month',\n",
       " 'Lag_44_Temperature_2_Month',\n",
       " 'Lag_44_Temperature_3_Month',\n",
       " 'Lag_44_Temperature_Hour',\n",
       " 'Lag_44_Temperature_2_Hour',\n",
       " 'Lag_44_Temperature_3_Hour',\n",
       " 'Lag_45_Temperature',\n",
       " 'Lag_45_Temperature_2',\n",
       " 'Lag_45_Temperature_3',\n",
       " 'Lag_45_Temperature_Month',\n",
       " 'Lag_45_Temperature_2_Month',\n",
       " 'Lag_45_Temperature_3_Month',\n",
       " 'Lag_45_Temperature_Hour',\n",
       " 'Lag_45_Temperature_2_Hour',\n",
       " 'Lag_45_Temperature_3_Hour',\n",
       " 'Lag_46_Temperature',\n",
       " 'Lag_46_Temperature_2',\n",
       " 'Lag_46_Temperature_3',\n",
       " 'Lag_46_Temperature_Month',\n",
       " 'Lag_46_Temperature_2_Month',\n",
       " 'Lag_46_Temperature_3_Month',\n",
       " 'Lag_46_Temperature_Hour',\n",
       " 'Lag_46_Temperature_2_Hour',\n",
       " 'Lag_46_Temperature_3_Hour',\n",
       " 'Lag_47_Temperature',\n",
       " 'Lag_47_Temperature_2',\n",
       " 'Lag_47_Temperature_3',\n",
       " 'Lag_47_Temperature_Month',\n",
       " 'Lag_47_Temperature_2_Month',\n",
       " 'Lag_47_Temperature_3_Month',\n",
       " 'Lag_47_Temperature_Hour',\n",
       " 'Lag_47_Temperature_2_Hour',\n",
       " 'Lag_47_Temperature_3_Hour',\n",
       " 'Lag_48_Temperature',\n",
       " 'Lag_48_Temperature_2',\n",
       " 'Lag_48_Temperature_3',\n",
       " 'Lag_48_Temperature_Month',\n",
       " 'Lag_48_Temperature_2_Month',\n",
       " 'Lag_48_Temperature_3_Month',\n",
       " 'Lag_48_Temperature_Hour',\n",
       " 'Lag_48_Temperature_2_Hour',\n",
       " 'Lag_48_Temperature_3_Hour',\n",
       " 'Lag_49_Temperature',\n",
       " 'Lag_49_Temperature_2',\n",
       " 'Lag_49_Temperature_3',\n",
       " 'Lag_49_Temperature_Month',\n",
       " 'Lag_49_Temperature_2_Month',\n",
       " 'Lag_49_Temperature_3_Month',\n",
       " 'Lag_49_Temperature_Hour',\n",
       " 'Lag_49_Temperature_2_Hour',\n",
       " 'Lag_49_Temperature_3_Hour',\n",
       " 'Lag_50_Temperature',\n",
       " 'Lag_50_Temperature_2',\n",
       " 'Lag_50_Temperature_3',\n",
       " 'Lag_50_Temperature_Month',\n",
       " 'Lag_50_Temperature_2_Month',\n",
       " 'Lag_50_Temperature_3_Month',\n",
       " 'Lag_50_Temperature_Hour',\n",
       " 'Lag_50_Temperature_2_Hour',\n",
       " 'Lag_50_Temperature_3_Hour',\n",
       " 'Lag_51_Temperature',\n",
       " 'Lag_51_Temperature_2',\n",
       " 'Lag_51_Temperature_3',\n",
       " 'Lag_51_Temperature_Month',\n",
       " 'Lag_51_Temperature_2_Month',\n",
       " 'Lag_51_Temperature_3_Month',\n",
       " 'Lag_51_Temperature_Hour',\n",
       " 'Lag_51_Temperature_2_Hour',\n",
       " 'Lag_51_Temperature_3_Hour',\n",
       " 'Lag_52_Temperature',\n",
       " 'Lag_52_Temperature_2',\n",
       " 'Lag_52_Temperature_3',\n",
       " 'Lag_52_Temperature_Month',\n",
       " 'Lag_52_Temperature_2_Month',\n",
       " 'Lag_52_Temperature_3_Month',\n",
       " 'Lag_52_Temperature_Hour',\n",
       " 'Lag_52_Temperature_2_Hour',\n",
       " 'Lag_52_Temperature_3_Hour',\n",
       " 'Lag_53_Temperature',\n",
       " 'Lag_53_Temperature_2',\n",
       " 'Lag_53_Temperature_3',\n",
       " 'Lag_53_Temperature_Month',\n",
       " 'Lag_53_Temperature_2_Month',\n",
       " 'Lag_53_Temperature_3_Month',\n",
       " 'Lag_53_Temperature_Hour',\n",
       " 'Lag_53_Temperature_2_Hour',\n",
       " 'Lag_53_Temperature_3_Hour',\n",
       " 'Lag_54_Temperature',\n",
       " 'Lag_54_Temperature_2',\n",
       " 'Lag_54_Temperature_3',\n",
       " 'Lag_54_Temperature_Month',\n",
       " 'Lag_54_Temperature_2_Month',\n",
       " 'Lag_54_Temperature_3_Month',\n",
       " 'Lag_54_Temperature_Hour',\n",
       " 'Lag_54_Temperature_2_Hour',\n",
       " 'Lag_54_Temperature_3_Hour',\n",
       " 'Lag_55_Temperature',\n",
       " 'Lag_55_Temperature_2',\n",
       " 'Lag_55_Temperature_3',\n",
       " 'Lag_55_Temperature_Month',\n",
       " 'Lag_55_Temperature_2_Month',\n",
       " 'Lag_55_Temperature_3_Month',\n",
       " 'Lag_55_Temperature_Hour',\n",
       " 'Lag_55_Temperature_2_Hour',\n",
       " 'Lag_55_Temperature_3_Hour',\n",
       " 'Lag_56_Temperature',\n",
       " 'Lag_56_Temperature_2',\n",
       " 'Lag_56_Temperature_3',\n",
       " 'Lag_56_Temperature_Month',\n",
       " 'Lag_56_Temperature_2_Month',\n",
       " 'Lag_56_Temperature_3_Month',\n",
       " 'Lag_56_Temperature_Hour',\n",
       " 'Lag_56_Temperature_2_Hour',\n",
       " 'Lag_56_Temperature_3_Hour',\n",
       " 'Lag_57_Temperature',\n",
       " 'Lag_57_Temperature_2',\n",
       " 'Lag_57_Temperature_3',\n",
       " 'Lag_57_Temperature_Month',\n",
       " 'Lag_57_Temperature_2_Month',\n",
       " 'Lag_57_Temperature_3_Month',\n",
       " 'Lag_57_Temperature_Hour',\n",
       " 'Lag_57_Temperature_2_Hour',\n",
       " 'Lag_57_Temperature_3_Hour',\n",
       " 'Lag_58_Temperature',\n",
       " 'Lag_58_Temperature_2',\n",
       " 'Lag_58_Temperature_3',\n",
       " 'Lag_58_Temperature_Month',\n",
       " 'Lag_58_Temperature_2_Month',\n",
       " 'Lag_58_Temperature_3_Month',\n",
       " 'Lag_58_Temperature_Hour',\n",
       " 'Lag_58_Temperature_2_Hour',\n",
       " 'Lag_58_Temperature_3_Hour',\n",
       " 'Lag_59_Temperature',\n",
       " 'Lag_59_Temperature_2',\n",
       " 'Lag_59_Temperature_3',\n",
       " 'Lag_59_Temperature_Month',\n",
       " 'Lag_59_Temperature_2_Month',\n",
       " 'Lag_59_Temperature_3_Month',\n",
       " 'Lag_59_Temperature_Hour',\n",
       " 'Lag_59_Temperature_2_Hour',\n",
       " 'Lag_59_Temperature_3_Hour',\n",
       " 'Lag_60_Temperature',\n",
       " 'Lag_60_Temperature_2',\n",
       " 'Lag_60_Temperature_3',\n",
       " 'Lag_60_Temperature_Month',\n",
       " 'Lag_60_Temperature_2_Month',\n",
       " 'Lag_60_Temperature_3_Month',\n",
       " 'Lag_60_Temperature_Hour',\n",
       " 'Lag_60_Temperature_2_Hour',\n",
       " 'Lag_60_Temperature_3_Hour',\n",
       " 'Lag_61_Temperature',\n",
       " 'Lag_61_Temperature_2',\n",
       " 'Lag_61_Temperature_3',\n",
       " 'Lag_61_Temperature_Month',\n",
       " 'Lag_61_Temperature_2_Month',\n",
       " 'Lag_61_Temperature_3_Month',\n",
       " 'Lag_61_Temperature_Hour',\n",
       " 'Lag_61_Temperature_2_Hour',\n",
       " 'Lag_61_Temperature_3_Hour',\n",
       " 'Lag_62_Temperature',\n",
       " 'Lag_62_Temperature_2',\n",
       " 'Lag_62_Temperature_3',\n",
       " 'Lag_62_Temperature_Month',\n",
       " 'Lag_62_Temperature_2_Month',\n",
       " 'Lag_62_Temperature_3_Month',\n",
       " 'Lag_62_Temperature_Hour',\n",
       " 'Lag_62_Temperature_2_Hour',\n",
       " 'Lag_62_Temperature_3_Hour',\n",
       " 'Lag_63_Temperature',\n",
       " 'Lag_63_Temperature_2',\n",
       " 'Lag_63_Temperature_3',\n",
       " 'Lag_63_Temperature_Month',\n",
       " 'Lag_63_Temperature_2_Month',\n",
       " 'Lag_63_Temperature_3_Month',\n",
       " 'Lag_63_Temperature_Hour',\n",
       " 'Lag_63_Temperature_2_Hour',\n",
       " 'Lag_63_Temperature_3_Hour',\n",
       " 'Lag_64_Temperature',\n",
       " 'Lag_64_Temperature_2',\n",
       " 'Lag_64_Temperature_3',\n",
       " 'Lag_64_Temperature_Month',\n",
       " 'Lag_64_Temperature_2_Month',\n",
       " 'Lag_64_Temperature_3_Month',\n",
       " 'Lag_64_Temperature_Hour',\n",
       " 'Lag_64_Temperature_2_Hour',\n",
       " 'Lag_64_Temperature_3_Hour',\n",
       " 'Lag_65_Temperature',\n",
       " 'Lag_65_Temperature_2',\n",
       " 'Lag_65_Temperature_3',\n",
       " 'Lag_65_Temperature_Month',\n",
       " 'Lag_65_Temperature_2_Month',\n",
       " 'Lag_65_Temperature_3_Month',\n",
       " 'Lag_65_Temperature_Hour',\n",
       " 'Lag_65_Temperature_2_Hour',\n",
       " 'Lag_65_Temperature_3_Hour',\n",
       " 'Lag_66_Temperature',\n",
       " 'Lag_66_Temperature_2',\n",
       " 'Lag_66_Temperature_3',\n",
       " 'Lag_66_Temperature_Month',\n",
       " 'Lag_66_Temperature_2_Month',\n",
       " 'Lag_66_Temperature_3_Month',\n",
       " 'Lag_66_Temperature_Hour',\n",
       " 'Lag_66_Temperature_2_Hour',\n",
       " 'Lag_66_Temperature_3_Hour',\n",
       " 'Lag_67_Temperature',\n",
       " 'Lag_67_Temperature_2',\n",
       " 'Lag_67_Temperature_3',\n",
       " 'Lag_67_Temperature_Month',\n",
       " 'Lag_67_Temperature_2_Month',\n",
       " 'Lag_67_Temperature_3_Month',\n",
       " 'Lag_67_Temperature_Hour',\n",
       " 'Lag_67_Temperature_2_Hour',\n",
       " 'Lag_67_Temperature_3_Hour',\n",
       " 'Lag_68_Temperature',\n",
       " 'Lag_68_Temperature_2',\n",
       " 'Lag_68_Temperature_3',\n",
       " 'Lag_68_Temperature_Month',\n",
       " 'Lag_68_Temperature_2_Month',\n",
       " 'Lag_68_Temperature_3_Month',\n",
       " 'Lag_68_Temperature_Hour',\n",
       " 'Lag_68_Temperature_2_Hour',\n",
       " 'Lag_68_Temperature_3_Hour',\n",
       " 'Lag_69_Temperature',\n",
       " 'Lag_69_Temperature_2',\n",
       " 'Lag_69_Temperature_3',\n",
       " 'Lag_69_Temperature_Month',\n",
       " 'Lag_69_Temperature_2_Month',\n",
       " 'Lag_69_Temperature_3_Month',\n",
       " 'Lag_69_Temperature_Hour',\n",
       " 'Lag_69_Temperature_2_Hour',\n",
       " 'Lag_69_Temperature_3_Hour',\n",
       " 'Lag_70_Temperature',\n",
       " 'Lag_70_Temperature_2',\n",
       " 'Lag_70_Temperature_3',\n",
       " 'Lag_70_Temperature_Month',\n",
       " 'Lag_70_Temperature_2_Month',\n",
       " 'Lag_70_Temperature_3_Month',\n",
       " 'Lag_70_Temperature_Hour',\n",
       " 'Lag_70_Temperature_2_Hour',\n",
       " 'Lag_70_Temperature_3_Hour',\n",
       " 'Lag_71_Temperature',\n",
       " 'Lag_71_Temperature_2',\n",
       " 'Lag_71_Temperature_3',\n",
       " 'Lag_71_Temperature_Month',\n",
       " 'Lag_71_Temperature_2_Month',\n",
       " 'Lag_71_Temperature_3_Month',\n",
       " 'Lag_71_Temperature_Hour',\n",
       " 'Lag_71_Temperature_2_Hour',\n",
       " 'Lag_71_Temperature_3_Hour',\n",
       " 'Lag_72_Temperature',\n",
       " 'Lag_72_Temperature_2',\n",
       " 'Lag_72_Temperature_3',\n",
       " 'Lag_72_Temperature_Month',\n",
       " 'Lag_72_Temperature_2_Month',\n",
       " 'Lag_72_Temperature_3_Month',\n",
       " 'Lag_72_Temperature_Hour',\n",
       " 'Lag_72_Temperature_2_Hour',\n",
       " 'Lag_72_Temperature_3_Hour',\n",
       " 'Lag_0_Temperature_Rolling_last_24hour',\n",
       " 'Lag_0_Temperature_Rolling_last_24hour_2',\n",
       " 'Lag_0_Temperature_Rolling_last_24hour_3',\n",
       " 'Lag_0_Temperature_Rolling_last_24hour_Month',\n",
       " 'Lag_0_Temperature_Rolling_last_24hour_2_Month',\n",
       " 'Lag_0_Temperature_Rolling_last_24hour_3_Month',\n",
       " 'Lag_0_Temperature_Rolling_last_24hour_Hour',\n",
       " 'Lag_0_Temperature_Rolling_last_24hour_2_Hour',\n",
       " 'Lag_0_Temperature_Rolling_last_24hour_3_Hour',\n",
       " 'Lag_24_Temperature_Rolling_last_24hour',\n",
       " 'Lag_24_Temperature_Rolling_last_24hour_2',\n",
       " 'Lag_24_Temperature_Rolling_last_24hour_3',\n",
       " 'Lag_24_Temperature_Rolling_last_24hour_Month',\n",
       " 'Lag_24_Temperature_Rolling_last_24hour_2_Month',\n",
       " 'Lag_24_Temperature_Rolling_last_24hour_3_Month',\n",
       " 'Lag_24_Temperature_Rolling_last_24hour_Hour',\n",
       " 'Lag_24_Temperature_Rolling_last_24hour_2_Hour',\n",
       " 'Lag_24_Temperature_Rolling_last_24hour_3_Hour',\n",
       " 'Lag_48_Temperature_Rolling_last_24hour',\n",
       " 'Lag_48_Temperature_Rolling_last_24hour_2',\n",
       " 'Lag_48_Temperature_Rolling_last_24hour_3',\n",
       " 'Lag_48_Temperature_Rolling_last_24hour_Month',\n",
       " 'Lag_48_Temperature_Rolling_last_24hour_2_Month',\n",
       " 'Lag_48_Temperature_Rolling_last_24hour_3_Month',\n",
       " 'Lag_48_Temperature_Rolling_last_24hour_Hour',\n",
       " 'Lag_48_Temperature_Rolling_last_24hour_2_Hour',\n",
       " 'Lag_48_Temperature_Rolling_last_24hour_3_Hour',\n",
       " 'Lag_72_Temperature_Rolling_last_24hour',\n",
       " 'Lag_72_Temperature_Rolling_last_24hour_2',\n",
       " 'Lag_72_Temperature_Rolling_last_24hour_3',\n",
       " 'Lag_72_Temperature_Rolling_last_24hour_Month',\n",
       " 'Lag_72_Temperature_Rolling_last_24hour_2_Month',\n",
       " 'Lag_72_Temperature_Rolling_last_24hour_3_Month',\n",
       " 'Lag_72_Temperature_Rolling_last_24hour_Hour',\n",
       " 'Lag_72_Temperature_Rolling_last_24hour_2_Hour',\n",
       " 'Lag_72_Temperature_Rolling_last_24hour_3_Hour',\n",
       " 'Lag_96_Temperature_Rolling_last_24hour',\n",
       " 'Lag_96_Temperature_Rolling_last_24hour_2',\n",
       " 'Lag_96_Temperature_Rolling_last_24hour_3',\n",
       " 'Lag_96_Temperature_Rolling_last_24hour_Month',\n",
       " 'Lag_96_Temperature_Rolling_last_24hour_2_Month',\n",
       " 'Lag_96_Temperature_Rolling_last_24hour_3_Month',\n",
       " 'Lag_96_Temperature_Rolling_last_24hour_Hour',\n",
       " 'Lag_96_Temperature_Rolling_last_24hour_2_Hour',\n",
       " 'Lag_96_Temperature_Rolling_last_24hour_3_Hour',\n",
       " 'Lag_120_Temperature_Rolling_last_24hour',\n",
       " 'Lag_120_Temperature_Rolling_last_24hour_2',\n",
       " 'Lag_120_Temperature_Rolling_last_24hour_3',\n",
       " 'Lag_120_Temperature_Rolling_last_24hour_Month',\n",
       " 'Lag_120_Temperature_Rolling_last_24hour_2_Month',\n",
       " 'Lag_120_Temperature_Rolling_last_24hour_3_Month',\n",
       " 'Lag_120_Temperature_Rolling_last_24hour_Hour',\n",
       " 'Lag_120_Temperature_Rolling_last_24hour_2_Hour',\n",
       " 'Lag_120_Temperature_Rolling_last_24hour_3_Hour',\n",
       " 'Lag_144_Temperature_Rolling_last_24hour',\n",
       " 'Lag_144_Temperature_Rolling_last_24hour_2',\n",
       " 'Lag_144_Temperature_Rolling_last_24hour_3',\n",
       " 'Lag_144_Temperature_Rolling_last_24hour_Month',\n",
       " 'Lag_144_Temperature_Rolling_last_24hour_2_Month',\n",
       " 'Lag_144_Temperature_Rolling_last_24hour_3_Month',\n",
       " 'Lag_144_Temperature_Rolling_last_24hour_Hour',\n",
       " 'Lag_144_Temperature_Rolling_last_24hour_2_Hour',\n",
       " 'Lag_144_Temperature_Rolling_last_24hour_3_Hour']"
      ]
     },
     "execution_count": 168,
     "metadata": {},
     "output_type": "execute_result"
    }
   ],
   "source": [
    "list(X_build_model.columns)"
   ]
  },
  {
   "cell_type": "markdown",
   "metadata": {},
   "source": [
    "### Train Test Split"
   ]
  },
  {
   "cell_type": "code",
   "execution_count": 169,
   "metadata": {
    "ExecuteTime": {
     "end_time": "2019-12-14T22:06:30.600306Z",
     "start_time": "2019-12-14T22:06:29.970809Z"
    }
   },
   "outputs": [],
   "source": [
    "X_train, X_test = train_test_split(X_build_model.dropna(), test_size=0.2, random_state=0)"
   ]
  },
  {
   "cell_type": "code",
   "execution_count": 170,
   "metadata": {
    "ExecuteTime": {
     "end_time": "2019-12-14T22:06:30.605243Z",
     "start_time": "2019-12-14T22:06:30.601735Z"
    }
   },
   "outputs": [
    {
     "data": {
      "text/plain": [
       "((27916, 726), (6980, 726))"
      ]
     },
     "execution_count": 170,
     "metadata": {},
     "output_type": "execute_result"
    }
   ],
   "source": [
    "X_train.shape, X_test.shape"
   ]
  },
  {
   "cell_type": "code",
   "execution_count": 171,
   "metadata": {
    "ExecuteTime": {
     "end_time": "2019-12-14T22:06:30.700092Z",
     "start_time": "2019-12-14T22:06:30.606776Z"
    }
   },
   "outputs": [],
   "source": [
    "X_train_x = X_train.drop(['Load'], axis = 1)\n",
    "X_train_y = X_train['Load']"
   ]
  },
  {
   "cell_type": "code",
   "execution_count": 172,
   "metadata": {
    "ExecuteTime": {
     "end_time": "2019-12-14T22:06:30.729845Z",
     "start_time": "2019-12-14T22:06:30.701934Z"
    }
   },
   "outputs": [],
   "source": [
    "X_test_x = X_test.drop(['Load'], axis = 1)\n",
    "X_test_y = X_test['Load']"
   ]
  },
  {
   "cell_type": "code",
   "execution_count": 173,
   "metadata": {
    "ExecuteTime": {
     "end_time": "2019-12-14T22:06:30.737178Z",
     "start_time": "2019-12-14T22:06:30.731898Z"
    }
   },
   "outputs": [
    {
     "data": {
      "text/plain": [
       "Index(['Trend', 'Month', 'Week', 'Hour', 'Week_Hour', 'Lag_0_Temperature',\n",
       "       'Lag_0_Temperature_2', 'Lag_0_Temperature_3', 'Lag_0_Temperature_Month',\n",
       "       'Lag_0_Temperature_2_Month',\n",
       "       ...\n",
       "       'Lag_120_Temperature_Rolling_last_24hour_3_Hour',\n",
       "       'Lag_144_Temperature_Rolling_last_24hour',\n",
       "       'Lag_144_Temperature_Rolling_last_24hour_2',\n",
       "       'Lag_144_Temperature_Rolling_last_24hour_3',\n",
       "       'Lag_144_Temperature_Rolling_last_24hour_Month',\n",
       "       'Lag_144_Temperature_Rolling_last_24hour_2_Month',\n",
       "       'Lag_144_Temperature_Rolling_last_24hour_3_Month',\n",
       "       'Lag_144_Temperature_Rolling_last_24hour_Hour',\n",
       "       'Lag_144_Temperature_Rolling_last_24hour_2_Hour',\n",
       "       'Lag_144_Temperature_Rolling_last_24hour_3_Hour'],\n",
       "      dtype='object', length=725)"
      ]
     },
     "execution_count": 173,
     "metadata": {},
     "output_type": "execute_result"
    }
   ],
   "source": [
    "X_test_x.columns"
   ]
  },
  {
   "cell_type": "markdown",
   "metadata": {},
   "source": [
    "### Model Building"
   ]
  },
  {
   "cell_type": "code",
   "execution_count": 174,
   "metadata": {
    "ExecuteTime": {
     "end_time": "2019-12-14T22:06:30.740973Z",
     "start_time": "2019-12-14T22:06:30.738803Z"
    }
   },
   "outputs": [],
   "source": [
    "model_capture_rencency = LinearRegression()"
   ]
  },
  {
   "cell_type": "code",
   "execution_count": 175,
   "metadata": {
    "ExecuteTime": {
     "end_time": "2019-12-14T22:06:31.555562Z",
     "start_time": "2019-12-14T22:06:30.742284Z"
    }
   },
   "outputs": [
    {
     "data": {
      "text/plain": [
       "LinearRegression(copy_X=True, fit_intercept=True, n_jobs=None, normalize=False)"
      ]
     },
     "execution_count": 175,
     "metadata": {},
     "output_type": "execute_result"
    }
   ],
   "source": [
    "model_capture_rencency.fit(X_train_x, X_train_y)"
   ]
  },
  {
   "cell_type": "code",
   "execution_count": 176,
   "metadata": {
    "ExecuteTime": {
     "end_time": "2019-12-14T22:06:31.643886Z",
     "start_time": "2019-12-14T22:06:31.557660Z"
    }
   },
   "outputs": [
    {
     "data": {
      "text/plain": [
       "0.910264522715298"
      ]
     },
     "execution_count": 176,
     "metadata": {},
     "output_type": "execute_result"
    }
   ],
   "source": [
    "model_capture_rencency.score(X_train_x, X_train_y)"
   ]
  },
  {
   "cell_type": "markdown",
   "metadata": {},
   "source": [
    "### MAPE"
   ]
  },
  {
   "cell_type": "code",
   "execution_count": 177,
   "metadata": {
    "ExecuteTime": {
     "end_time": "2019-12-14T22:06:33.843214Z",
     "start_time": "2019-12-14T22:06:33.762216Z"
    }
   },
   "outputs": [
    {
     "data": {
      "text/plain": [
       "4.66836167754187"
      ]
     },
     "execution_count": 177,
     "metadata": {},
     "output_type": "execute_result"
    }
   ],
   "source": [
    "mape(X_train_y, model_capture_rencency.predict(X_train_x))"
   ]
  },
  {
   "cell_type": "code",
   "execution_count": 178,
   "metadata": {
    "ExecuteTime": {
     "end_time": "2019-12-14T22:06:34.254049Z",
     "start_time": "2019-12-14T22:06:34.224371Z"
    }
   },
   "outputs": [
    {
     "data": {
      "text/plain": [
       "4.695887657566677"
      ]
     },
     "execution_count": 178,
     "metadata": {},
     "output_type": "execute_result"
    }
   ],
   "source": [
    "mape(X_test_y, model_capture_rencency.predict(X_test_x))"
   ]
  },
  {
   "cell_type": "markdown",
   "metadata": {},
   "source": [
    "### Try Feature Selection"
   ]
  },
  {
   "cell_type": "code",
   "execution_count": 182,
   "metadata": {
    "ExecuteTime": {
     "end_time": "2019-12-14T22:12:42.313301Z",
     "start_time": "2019-12-14T22:09:52.874978Z"
    }
   },
   "outputs": [],
   "source": [
    "estimator = LinearRegression()\n",
    "selector = RFE(estimator, 50, step=1)\n",
    "selector = selector.fit(X_train_x, X_train_y)"
   ]
  },
  {
   "cell_type": "code",
   "execution_count": 187,
   "metadata": {
    "ExecuteTime": {
     "end_time": "2019-12-14T22:18:12.467964Z",
     "start_time": "2019-12-14T22:18:12.463558Z"
    }
   },
   "outputs": [
    {
     "data": {
      "text/plain": [
       "(725, 725)"
      ]
     },
     "execution_count": 187,
     "metadata": {},
     "output_type": "execute_result"
    }
   ],
   "source": [
    "len(X_train_x.columns), len(selector.support_)"
   ]
  },
  {
   "cell_type": "code",
   "execution_count": 188,
   "metadata": {
    "ExecuteTime": {
     "end_time": "2019-12-14T22:18:28.403373Z",
     "start_time": "2019-12-14T22:18:28.399025Z"
    }
   },
   "outputs": [
    {
     "data": {
      "text/plain": [
       "Index(['Month', 'Week', 'Hour', 'Week_Hour', 'Lag_1_Temperature',\n",
       "       'Lag_3_Temperature', 'Lag_5_Temperature', 'Lag_6_Temperature',\n",
       "       'Lag_8_Temperature', 'Lag_9_Temperature', 'Lag_10_Temperature',\n",
       "       'Lag_13_Temperature', 'Lag_14_Temperature', 'Lag_14_Temperature_Month',\n",
       "       'Lag_15_Temperature', 'Lag_16_Temperature', 'Lag_16_Temperature_Month',\n",
       "       'Lag_17_Temperature', 'Lag_19_Temperature', 'Lag_20_Temperature',\n",
       "       'Lag_21_Temperature', 'Lag_22_Temperature', 'Lag_23_Temperature',\n",
       "       'Lag_25_Temperature', 'Lag_28_Temperature', 'Lag_32_Temperature',\n",
       "       'Lag_34_Temperature', 'Lag_38_Temperature', 'Lag_44_Temperature',\n",
       "       'Lag_45_Temperature', 'Lag_46_Temperature', 'Lag_47_Temperature',\n",
       "       'Lag_52_Temperature', 'Lag_53_Temperature', 'Lag_56_Temperature',\n",
       "       'Lag_57_Temperature', 'Lag_58_Temperature', 'Lag_61_Temperature',\n",
       "       'Lag_62_Temperature', 'Lag_65_Temperature', 'Lag_68_Temperature',\n",
       "       'Lag_69_Temperature', 'Lag_71_Temperature', 'Lag_72_Temperature',\n",
       "       'Lag_0_Temperature_Rolling_last_24hour',\n",
       "       'Lag_0_Temperature_Rolling_last_24hour_2',\n",
       "       'Lag_24_Temperature_Rolling_last_24hour',\n",
       "       'Lag_48_Temperature_Rolling_last_24hour',\n",
       "       'Lag_96_Temperature_Rolling_last_24hour',\n",
       "       'Lag_144_Temperature_Rolling_last_24hour'],\n",
       "      dtype='object')"
      ]
     },
     "execution_count": 188,
     "metadata": {},
     "output_type": "execute_result"
    }
   ],
   "source": [
    "X_train_x.columns[selector.support_]"
   ]
  },
  {
   "cell_type": "markdown",
   "metadata": {},
   "source": [
    "## XGBoost"
   ]
  },
  {
   "cell_type": "markdown",
   "metadata": {},
   "source": [
    "### Train Test Split"
   ]
  },
  {
   "cell_type": "code",
   "execution_count": 436,
   "metadata": {
    "ExecuteTime": {
     "end_time": "2019-12-15T02:49:29.817691Z",
     "start_time": "2019-12-15T02:49:29.788204Z"
    }
   },
   "outputs": [
    {
     "data": {
      "text/html": [
       "<div>\n",
       "<style scoped>\n",
       "    .dataframe tbody tr th:only-of-type {\n",
       "        vertical-align: middle;\n",
       "    }\n",
       "\n",
       "    .dataframe tbody tr th {\n",
       "        vertical-align: top;\n",
       "    }\n",
       "\n",
       "    .dataframe thead th {\n",
       "        text-align: right;\n",
       "    }\n",
       "</style>\n",
       "<table border=\"1\" class=\"dataframe\">\n",
       "  <thead>\n",
       "    <tr style=\"text-align: right;\">\n",
       "      <th></th>\n",
       "      <th>Load</th>\n",
       "      <th>Trend</th>\n",
       "      <th>Month</th>\n",
       "      <th>Week</th>\n",
       "      <th>Hour</th>\n",
       "      <th>Week_Hour</th>\n",
       "      <th>Lag_0_Temperature</th>\n",
       "      <th>Lag_0_Temperature_2</th>\n",
       "      <th>Lag_0_Temperature_3</th>\n",
       "      <th>Lag_0_Temperature_Month</th>\n",
       "      <th>...</th>\n",
       "      <th>Lag_120_Temperature_Rolling_last_24hour_3_Hour</th>\n",
       "      <th>Lag_144_Temperature_Rolling_last_24hour</th>\n",
       "      <th>Lag_144_Temperature_Rolling_last_24hour_2</th>\n",
       "      <th>Lag_144_Temperature_Rolling_last_24hour_3</th>\n",
       "      <th>Lag_144_Temperature_Rolling_last_24hour_Month</th>\n",
       "      <th>Lag_144_Temperature_Rolling_last_24hour_2_Month</th>\n",
       "      <th>Lag_144_Temperature_Rolling_last_24hour_3_Month</th>\n",
       "      <th>Lag_144_Temperature_Rolling_last_24hour_Hour</th>\n",
       "      <th>Lag_144_Temperature_Rolling_last_24hour_2_Hour</th>\n",
       "      <th>Lag_144_Temperature_Rolling_last_24hour_3_Hour</th>\n",
       "    </tr>\n",
       "    <tr>\n",
       "      <th>DateTime</th>\n",
       "      <th></th>\n",
       "      <th></th>\n",
       "      <th></th>\n",
       "      <th></th>\n",
       "      <th></th>\n",
       "      <th></th>\n",
       "      <th></th>\n",
       "      <th></th>\n",
       "      <th></th>\n",
       "      <th></th>\n",
       "      <th></th>\n",
       "      <th></th>\n",
       "      <th></th>\n",
       "      <th></th>\n",
       "      <th></th>\n",
       "      <th></th>\n",
       "      <th></th>\n",
       "      <th></th>\n",
       "      <th></th>\n",
       "      <th></th>\n",
       "      <th></th>\n",
       "    </tr>\n",
       "  </thead>\n",
       "  <tbody>\n",
       "    <tr>\n",
       "      <th>2008-01-01 01:00:00</th>\n",
       "      <td>10737.0</td>\n",
       "      <td>0</td>\n",
       "      <td>1</td>\n",
       "      <td>1</td>\n",
       "      <td>1</td>\n",
       "      <td>1</td>\n",
       "      <td>25.0</td>\n",
       "      <td>625.0</td>\n",
       "      <td>15625.0</td>\n",
       "      <td>25.0</td>\n",
       "      <td>...</td>\n",
       "      <td>NaN</td>\n",
       "      <td>NaN</td>\n",
       "      <td>NaN</td>\n",
       "      <td>NaN</td>\n",
       "      <td>NaN</td>\n",
       "      <td>NaN</td>\n",
       "      <td>NaN</td>\n",
       "      <td>NaN</td>\n",
       "      <td>NaN</td>\n",
       "      <td>NaN</td>\n",
       "    </tr>\n",
       "    <tr>\n",
       "      <th>2008-01-01 02:00:00</th>\n",
       "      <td>10348.0</td>\n",
       "      <td>1</td>\n",
       "      <td>1</td>\n",
       "      <td>1</td>\n",
       "      <td>2</td>\n",
       "      <td>2</td>\n",
       "      <td>24.0</td>\n",
       "      <td>576.0</td>\n",
       "      <td>13824.0</td>\n",
       "      <td>24.0</td>\n",
       "      <td>...</td>\n",
       "      <td>NaN</td>\n",
       "      <td>NaN</td>\n",
       "      <td>NaN</td>\n",
       "      <td>NaN</td>\n",
       "      <td>NaN</td>\n",
       "      <td>NaN</td>\n",
       "      <td>NaN</td>\n",
       "      <td>NaN</td>\n",
       "      <td>NaN</td>\n",
       "      <td>NaN</td>\n",
       "    </tr>\n",
       "    <tr>\n",
       "      <th>2008-01-01 03:00:00</th>\n",
       "      <td>9997.0</td>\n",
       "      <td>2</td>\n",
       "      <td>1</td>\n",
       "      <td>1</td>\n",
       "      <td>3</td>\n",
       "      <td>3</td>\n",
       "      <td>23.0</td>\n",
       "      <td>529.0</td>\n",
       "      <td>12167.0</td>\n",
       "      <td>23.0</td>\n",
       "      <td>...</td>\n",
       "      <td>NaN</td>\n",
       "      <td>NaN</td>\n",
       "      <td>NaN</td>\n",
       "      <td>NaN</td>\n",
       "      <td>NaN</td>\n",
       "      <td>NaN</td>\n",
       "      <td>NaN</td>\n",
       "      <td>NaN</td>\n",
       "      <td>NaN</td>\n",
       "      <td>NaN</td>\n",
       "    </tr>\n",
       "    <tr>\n",
       "      <th>2008-01-01 04:00:00</th>\n",
       "      <td>9760.0</td>\n",
       "      <td>3</td>\n",
       "      <td>1</td>\n",
       "      <td>1</td>\n",
       "      <td>4</td>\n",
       "      <td>4</td>\n",
       "      <td>23.0</td>\n",
       "      <td>529.0</td>\n",
       "      <td>12167.0</td>\n",
       "      <td>23.0</td>\n",
       "      <td>...</td>\n",
       "      <td>NaN</td>\n",
       "      <td>NaN</td>\n",
       "      <td>NaN</td>\n",
       "      <td>NaN</td>\n",
       "      <td>NaN</td>\n",
       "      <td>NaN</td>\n",
       "      <td>NaN</td>\n",
       "      <td>NaN</td>\n",
       "      <td>NaN</td>\n",
       "      <td>NaN</td>\n",
       "    </tr>\n",
       "    <tr>\n",
       "      <th>2008-01-01 05:00:00</th>\n",
       "      <td>9624.0</td>\n",
       "      <td>4</td>\n",
       "      <td>1</td>\n",
       "      <td>1</td>\n",
       "      <td>5</td>\n",
       "      <td>5</td>\n",
       "      <td>23.0</td>\n",
       "      <td>529.0</td>\n",
       "      <td>12167.0</td>\n",
       "      <td>23.0</td>\n",
       "      <td>...</td>\n",
       "      <td>NaN</td>\n",
       "      <td>NaN</td>\n",
       "      <td>NaN</td>\n",
       "      <td>NaN</td>\n",
       "      <td>NaN</td>\n",
       "      <td>NaN</td>\n",
       "      <td>NaN</td>\n",
       "      <td>NaN</td>\n",
       "      <td>NaN</td>\n",
       "      <td>NaN</td>\n",
       "    </tr>\n",
       "  </tbody>\n",
       "</table>\n",
       "<p>5 rows × 726 columns</p>\n",
       "</div>"
      ],
      "text/plain": [
       "                        Load  Trend  Month  Week  Hour  Week_Hour  \\\n",
       "DateTime                                                            \n",
       "2008-01-01 01:00:00  10737.0      0      1     1     1          1   \n",
       "2008-01-01 02:00:00  10348.0      1      1     1     2          2   \n",
       "2008-01-01 03:00:00   9997.0      2      1     1     3          3   \n",
       "2008-01-01 04:00:00   9760.0      3      1     1     4          4   \n",
       "2008-01-01 05:00:00   9624.0      4      1     1     5          5   \n",
       "\n",
       "                     Lag_0_Temperature  Lag_0_Temperature_2  \\\n",
       "DateTime                                                      \n",
       "2008-01-01 01:00:00               25.0                625.0   \n",
       "2008-01-01 02:00:00               24.0                576.0   \n",
       "2008-01-01 03:00:00               23.0                529.0   \n",
       "2008-01-01 04:00:00               23.0                529.0   \n",
       "2008-01-01 05:00:00               23.0                529.0   \n",
       "\n",
       "                     Lag_0_Temperature_3  Lag_0_Temperature_Month  ...  \\\n",
       "DateTime                                                           ...   \n",
       "2008-01-01 01:00:00              15625.0                     25.0  ...   \n",
       "2008-01-01 02:00:00              13824.0                     24.0  ...   \n",
       "2008-01-01 03:00:00              12167.0                     23.0  ...   \n",
       "2008-01-01 04:00:00              12167.0                     23.0  ...   \n",
       "2008-01-01 05:00:00              12167.0                     23.0  ...   \n",
       "\n",
       "                     Lag_120_Temperature_Rolling_last_24hour_3_Hour  \\\n",
       "DateTime                                                              \n",
       "2008-01-01 01:00:00                                             NaN   \n",
       "2008-01-01 02:00:00                                             NaN   \n",
       "2008-01-01 03:00:00                                             NaN   \n",
       "2008-01-01 04:00:00                                             NaN   \n",
       "2008-01-01 05:00:00                                             NaN   \n",
       "\n",
       "                     Lag_144_Temperature_Rolling_last_24hour  \\\n",
       "DateTime                                                       \n",
       "2008-01-01 01:00:00                                      NaN   \n",
       "2008-01-01 02:00:00                                      NaN   \n",
       "2008-01-01 03:00:00                                      NaN   \n",
       "2008-01-01 04:00:00                                      NaN   \n",
       "2008-01-01 05:00:00                                      NaN   \n",
       "\n",
       "                     Lag_144_Temperature_Rolling_last_24hour_2  \\\n",
       "DateTime                                                         \n",
       "2008-01-01 01:00:00                                        NaN   \n",
       "2008-01-01 02:00:00                                        NaN   \n",
       "2008-01-01 03:00:00                                        NaN   \n",
       "2008-01-01 04:00:00                                        NaN   \n",
       "2008-01-01 05:00:00                                        NaN   \n",
       "\n",
       "                     Lag_144_Temperature_Rolling_last_24hour_3  \\\n",
       "DateTime                                                         \n",
       "2008-01-01 01:00:00                                        NaN   \n",
       "2008-01-01 02:00:00                                        NaN   \n",
       "2008-01-01 03:00:00                                        NaN   \n",
       "2008-01-01 04:00:00                                        NaN   \n",
       "2008-01-01 05:00:00                                        NaN   \n",
       "\n",
       "                     Lag_144_Temperature_Rolling_last_24hour_Month  \\\n",
       "DateTime                                                             \n",
       "2008-01-01 01:00:00                                            NaN   \n",
       "2008-01-01 02:00:00                                            NaN   \n",
       "2008-01-01 03:00:00                                            NaN   \n",
       "2008-01-01 04:00:00                                            NaN   \n",
       "2008-01-01 05:00:00                                            NaN   \n",
       "\n",
       "                     Lag_144_Temperature_Rolling_last_24hour_2_Month  \\\n",
       "DateTime                                                               \n",
       "2008-01-01 01:00:00                                              NaN   \n",
       "2008-01-01 02:00:00                                              NaN   \n",
       "2008-01-01 03:00:00                                              NaN   \n",
       "2008-01-01 04:00:00                                              NaN   \n",
       "2008-01-01 05:00:00                                              NaN   \n",
       "\n",
       "                     Lag_144_Temperature_Rolling_last_24hour_3_Month  \\\n",
       "DateTime                                                               \n",
       "2008-01-01 01:00:00                                              NaN   \n",
       "2008-01-01 02:00:00                                              NaN   \n",
       "2008-01-01 03:00:00                                              NaN   \n",
       "2008-01-01 04:00:00                                              NaN   \n",
       "2008-01-01 05:00:00                                              NaN   \n",
       "\n",
       "                     Lag_144_Temperature_Rolling_last_24hour_Hour  \\\n",
       "DateTime                                                            \n",
       "2008-01-01 01:00:00                                           NaN   \n",
       "2008-01-01 02:00:00                                           NaN   \n",
       "2008-01-01 03:00:00                                           NaN   \n",
       "2008-01-01 04:00:00                                           NaN   \n",
       "2008-01-01 05:00:00                                           NaN   \n",
       "\n",
       "                     Lag_144_Temperature_Rolling_last_24hour_2_Hour  \\\n",
       "DateTime                                                              \n",
       "2008-01-01 01:00:00                                             NaN   \n",
       "2008-01-01 02:00:00                                             NaN   \n",
       "2008-01-01 03:00:00                                             NaN   \n",
       "2008-01-01 04:00:00                                             NaN   \n",
       "2008-01-01 05:00:00                                             NaN   \n",
       "\n",
       "                     Lag_144_Temperature_Rolling_last_24hour_3_Hour  \n",
       "DateTime                                                             \n",
       "2008-01-01 01:00:00                                             NaN  \n",
       "2008-01-01 02:00:00                                             NaN  \n",
       "2008-01-01 03:00:00                                             NaN  \n",
       "2008-01-01 04:00:00                                             NaN  \n",
       "2008-01-01 05:00:00                                             NaN  \n",
       "\n",
       "[5 rows x 726 columns]"
      ]
     },
     "execution_count": 436,
     "metadata": {},
     "output_type": "execute_result"
    }
   ],
   "source": [
    "X_build_model.head()"
   ]
  },
  {
   "cell_type": "code",
   "execution_count": 437,
   "metadata": {
    "ExecuteTime": {
     "end_time": "2019-12-15T02:49:37.388691Z",
     "start_time": "2019-12-15T02:49:37.379945Z"
    }
   },
   "outputs": [],
   "source": [
    "X_build_model.index = data['DateTime']"
   ]
  },
  {
   "cell_type": "code",
   "execution_count": 438,
   "metadata": {
    "ExecuteTime": {
     "end_time": "2019-12-15T02:49:39.465899Z",
     "start_time": "2019-12-15T02:49:39.264370Z"
    }
   },
   "outputs": [
    {
     "data": {
      "text/html": [
       "<div>\n",
       "<style scoped>\n",
       "    .dataframe tbody tr th:only-of-type {\n",
       "        vertical-align: middle;\n",
       "    }\n",
       "\n",
       "    .dataframe tbody tr th {\n",
       "        vertical-align: top;\n",
       "    }\n",
       "\n",
       "    .dataframe thead th {\n",
       "        text-align: right;\n",
       "    }\n",
       "</style>\n",
       "<table border=\"1\" class=\"dataframe\">\n",
       "  <thead>\n",
       "    <tr style=\"text-align: right;\">\n",
       "      <th></th>\n",
       "      <th>Load</th>\n",
       "      <th>Trend</th>\n",
       "      <th>Month</th>\n",
       "      <th>Week</th>\n",
       "      <th>Hour</th>\n",
       "      <th>Week_Hour</th>\n",
       "      <th>Lag_0_Temperature</th>\n",
       "      <th>Lag_0_Temperature_2</th>\n",
       "      <th>Lag_0_Temperature_3</th>\n",
       "      <th>Lag_0_Temperature_Month</th>\n",
       "      <th>...</th>\n",
       "      <th>Lag_120_Temperature_Rolling_last_24hour_3_Hour</th>\n",
       "      <th>Lag_144_Temperature_Rolling_last_24hour</th>\n",
       "      <th>Lag_144_Temperature_Rolling_last_24hour_2</th>\n",
       "      <th>Lag_144_Temperature_Rolling_last_24hour_3</th>\n",
       "      <th>Lag_144_Temperature_Rolling_last_24hour_Month</th>\n",
       "      <th>Lag_144_Temperature_Rolling_last_24hour_2_Month</th>\n",
       "      <th>Lag_144_Temperature_Rolling_last_24hour_3_Month</th>\n",
       "      <th>Lag_144_Temperature_Rolling_last_24hour_Hour</th>\n",
       "      <th>Lag_144_Temperature_Rolling_last_24hour_2_Hour</th>\n",
       "      <th>Lag_144_Temperature_Rolling_last_24hour_3_Hour</th>\n",
       "    </tr>\n",
       "    <tr>\n",
       "      <th>DateTime</th>\n",
       "      <th></th>\n",
       "      <th></th>\n",
       "      <th></th>\n",
       "      <th></th>\n",
       "      <th></th>\n",
       "      <th></th>\n",
       "      <th></th>\n",
       "      <th></th>\n",
       "      <th></th>\n",
       "      <th></th>\n",
       "      <th></th>\n",
       "      <th></th>\n",
       "      <th></th>\n",
       "      <th></th>\n",
       "      <th></th>\n",
       "      <th></th>\n",
       "      <th></th>\n",
       "      <th></th>\n",
       "      <th></th>\n",
       "      <th></th>\n",
       "      <th></th>\n",
       "    </tr>\n",
       "  </thead>\n",
       "  <tbody>\n",
       "    <tr>\n",
       "      <th>2010-12-31 19:00:00</th>\n",
       "      <td>11735.0</td>\n",
       "      <td>26298</td>\n",
       "      <td>12</td>\n",
       "      <td>4</td>\n",
       "      <td>19</td>\n",
       "      <td>76</td>\n",
       "      <td>53.33</td>\n",
       "      <td>2844.0889</td>\n",
       "      <td>151675.261037</td>\n",
       "      <td>639.96</td>\n",
       "      <td>...</td>\n",
       "      <td>378008.188263</td>\n",
       "      <td>27.778333</td>\n",
       "      <td>771.635803</td>\n",
       "      <td>21434.756541</td>\n",
       "      <td>333.340</td>\n",
       "      <td>9259.629633</td>\n",
       "      <td>257217.078498</td>\n",
       "      <td>527.788333</td>\n",
       "      <td>14661.080253</td>\n",
       "      <td>407260.374288</td>\n",
       "    </tr>\n",
       "    <tr>\n",
       "      <th>2010-12-31 20:00:00</th>\n",
       "      <td>11585.0</td>\n",
       "      <td>26299</td>\n",
       "      <td>12</td>\n",
       "      <td>4</td>\n",
       "      <td>20</td>\n",
       "      <td>80</td>\n",
       "      <td>53.33</td>\n",
       "      <td>2844.0889</td>\n",
       "      <td>151675.261037</td>\n",
       "      <td>639.96</td>\n",
       "      <td>...</td>\n",
       "      <td>391822.142541</td>\n",
       "      <td>27.736667</td>\n",
       "      <td>769.322678</td>\n",
       "      <td>21338.446673</td>\n",
       "      <td>332.840</td>\n",
       "      <td>9231.872133</td>\n",
       "      <td>256061.360072</td>\n",
       "      <td>554.733333</td>\n",
       "      <td>15386.453556</td>\n",
       "      <td>426768.933453</td>\n",
       "    </tr>\n",
       "    <tr>\n",
       "      <th>2010-12-31 21:00:00</th>\n",
       "      <td>11243.0</td>\n",
       "      <td>26300</td>\n",
       "      <td>12</td>\n",
       "      <td>4</td>\n",
       "      <td>21</td>\n",
       "      <td>84</td>\n",
       "      <td>52.33</td>\n",
       "      <td>2738.4289</td>\n",
       "      <td>143301.984337</td>\n",
       "      <td>627.96</td>\n",
       "      <td>...</td>\n",
       "      <td>402587.409063</td>\n",
       "      <td>27.708750</td>\n",
       "      <td>767.774827</td>\n",
       "      <td>21274.080726</td>\n",
       "      <td>332.505</td>\n",
       "      <td>9213.297919</td>\n",
       "      <td>255288.968706</td>\n",
       "      <td>581.883750</td>\n",
       "      <td>16123.271358</td>\n",
       "      <td>446755.695236</td>\n",
       "    </tr>\n",
       "    <tr>\n",
       "      <th>2010-12-31 22:00:00</th>\n",
       "      <td>10825.0</td>\n",
       "      <td>26301</td>\n",
       "      <td>12</td>\n",
       "      <td>4</td>\n",
       "      <td>22</td>\n",
       "      <td>88</td>\n",
       "      <td>51.33</td>\n",
       "      <td>2634.7689</td>\n",
       "      <td>135242.687637</td>\n",
       "      <td>615.96</td>\n",
       "      <td>...</td>\n",
       "      <td>411985.604310</td>\n",
       "      <td>27.680833</td>\n",
       "      <td>766.228534</td>\n",
       "      <td>21209.844346</td>\n",
       "      <td>332.170</td>\n",
       "      <td>9194.742408</td>\n",
       "      <td>254518.132148</td>\n",
       "      <td>608.978333</td>\n",
       "      <td>16857.027749</td>\n",
       "      <td>466616.575605</td>\n",
       "    </tr>\n",
       "    <tr>\n",
       "      <th>2010-12-31 23:00:00</th>\n",
       "      <td>10511.0</td>\n",
       "      <td>26302</td>\n",
       "      <td>12</td>\n",
       "      <td>4</td>\n",
       "      <td>23</td>\n",
       "      <td>92</td>\n",
       "      <td>48.33</td>\n",
       "      <td>2335.7889</td>\n",
       "      <td>112888.677537</td>\n",
       "      <td>579.96</td>\n",
       "      <td>...</td>\n",
       "      <td>418005.685258</td>\n",
       "      <td>27.652917</td>\n",
       "      <td>764.683800</td>\n",
       "      <td>21145.737403</td>\n",
       "      <td>331.835</td>\n",
       "      <td>9176.205602</td>\n",
       "      <td>253748.848831</td>\n",
       "      <td>636.017083</td>\n",
       "      <td>17587.727404</td>\n",
       "      <td>486351.960259</td>\n",
       "    </tr>\n",
       "  </tbody>\n",
       "</table>\n",
       "<p>5 rows × 726 columns</p>\n",
       "</div>"
      ],
      "text/plain": [
       "                        Load  Trend  Month  Week  Hour  Week_Hour  \\\n",
       "DateTime                                                            \n",
       "2010-12-31 19:00:00  11735.0  26298     12     4    19         76   \n",
       "2010-12-31 20:00:00  11585.0  26299     12     4    20         80   \n",
       "2010-12-31 21:00:00  11243.0  26300     12     4    21         84   \n",
       "2010-12-31 22:00:00  10825.0  26301     12     4    22         88   \n",
       "2010-12-31 23:00:00  10511.0  26302     12     4    23         92   \n",
       "\n",
       "                     Lag_0_Temperature  Lag_0_Temperature_2  \\\n",
       "DateTime                                                      \n",
       "2010-12-31 19:00:00              53.33            2844.0889   \n",
       "2010-12-31 20:00:00              53.33            2844.0889   \n",
       "2010-12-31 21:00:00              52.33            2738.4289   \n",
       "2010-12-31 22:00:00              51.33            2634.7689   \n",
       "2010-12-31 23:00:00              48.33            2335.7889   \n",
       "\n",
       "                     Lag_0_Temperature_3  Lag_0_Temperature_Month  ...  \\\n",
       "DateTime                                                           ...   \n",
       "2010-12-31 19:00:00        151675.261037                   639.96  ...   \n",
       "2010-12-31 20:00:00        151675.261037                   639.96  ...   \n",
       "2010-12-31 21:00:00        143301.984337                   627.96  ...   \n",
       "2010-12-31 22:00:00        135242.687637                   615.96  ...   \n",
       "2010-12-31 23:00:00        112888.677537                   579.96  ...   \n",
       "\n",
       "                     Lag_120_Temperature_Rolling_last_24hour_3_Hour  \\\n",
       "DateTime                                                              \n",
       "2010-12-31 19:00:00                                   378008.188263   \n",
       "2010-12-31 20:00:00                                   391822.142541   \n",
       "2010-12-31 21:00:00                                   402587.409063   \n",
       "2010-12-31 22:00:00                                   411985.604310   \n",
       "2010-12-31 23:00:00                                   418005.685258   \n",
       "\n",
       "                     Lag_144_Temperature_Rolling_last_24hour  \\\n",
       "DateTime                                                       \n",
       "2010-12-31 19:00:00                                27.778333   \n",
       "2010-12-31 20:00:00                                27.736667   \n",
       "2010-12-31 21:00:00                                27.708750   \n",
       "2010-12-31 22:00:00                                27.680833   \n",
       "2010-12-31 23:00:00                                27.652917   \n",
       "\n",
       "                     Lag_144_Temperature_Rolling_last_24hour_2  \\\n",
       "DateTime                                                         \n",
       "2010-12-31 19:00:00                                 771.635803   \n",
       "2010-12-31 20:00:00                                 769.322678   \n",
       "2010-12-31 21:00:00                                 767.774827   \n",
       "2010-12-31 22:00:00                                 766.228534   \n",
       "2010-12-31 23:00:00                                 764.683800   \n",
       "\n",
       "                     Lag_144_Temperature_Rolling_last_24hour_3  \\\n",
       "DateTime                                                         \n",
       "2010-12-31 19:00:00                               21434.756541   \n",
       "2010-12-31 20:00:00                               21338.446673   \n",
       "2010-12-31 21:00:00                               21274.080726   \n",
       "2010-12-31 22:00:00                               21209.844346   \n",
       "2010-12-31 23:00:00                               21145.737403   \n",
       "\n",
       "                     Lag_144_Temperature_Rolling_last_24hour_Month  \\\n",
       "DateTime                                                             \n",
       "2010-12-31 19:00:00                                        333.340   \n",
       "2010-12-31 20:00:00                                        332.840   \n",
       "2010-12-31 21:00:00                                        332.505   \n",
       "2010-12-31 22:00:00                                        332.170   \n",
       "2010-12-31 23:00:00                                        331.835   \n",
       "\n",
       "                     Lag_144_Temperature_Rolling_last_24hour_2_Month  \\\n",
       "DateTime                                                               \n",
       "2010-12-31 19:00:00                                      9259.629633   \n",
       "2010-12-31 20:00:00                                      9231.872133   \n",
       "2010-12-31 21:00:00                                      9213.297919   \n",
       "2010-12-31 22:00:00                                      9194.742408   \n",
       "2010-12-31 23:00:00                                      9176.205602   \n",
       "\n",
       "                     Lag_144_Temperature_Rolling_last_24hour_3_Month  \\\n",
       "DateTime                                                               \n",
       "2010-12-31 19:00:00                                    257217.078498   \n",
       "2010-12-31 20:00:00                                    256061.360072   \n",
       "2010-12-31 21:00:00                                    255288.968706   \n",
       "2010-12-31 22:00:00                                    254518.132148   \n",
       "2010-12-31 23:00:00                                    253748.848831   \n",
       "\n",
       "                     Lag_144_Temperature_Rolling_last_24hour_Hour  \\\n",
       "DateTime                                                            \n",
       "2010-12-31 19:00:00                                    527.788333   \n",
       "2010-12-31 20:00:00                                    554.733333   \n",
       "2010-12-31 21:00:00                                    581.883750   \n",
       "2010-12-31 22:00:00                                    608.978333   \n",
       "2010-12-31 23:00:00                                    636.017083   \n",
       "\n",
       "                     Lag_144_Temperature_Rolling_last_24hour_2_Hour  \\\n",
       "DateTime                                                              \n",
       "2010-12-31 19:00:00                                    14661.080253   \n",
       "2010-12-31 20:00:00                                    15386.453556   \n",
       "2010-12-31 21:00:00                                    16123.271358   \n",
       "2010-12-31 22:00:00                                    16857.027749   \n",
       "2010-12-31 23:00:00                                    17587.727404   \n",
       "\n",
       "                     Lag_144_Temperature_Rolling_last_24hour_3_Hour  \n",
       "DateTime                                                             \n",
       "2010-12-31 19:00:00                                   407260.374288  \n",
       "2010-12-31 20:00:00                                   426768.933453  \n",
       "2010-12-31 21:00:00                                   446755.695236  \n",
       "2010-12-31 22:00:00                                   466616.575605  \n",
       "2010-12-31 23:00:00                                   486351.960259  \n",
       "\n",
       "[5 rows x 726 columns]"
      ]
     },
     "execution_count": 438,
     "metadata": {},
     "output_type": "execute_result"
    }
   ],
   "source": [
    "X_train = X_build_model[:'2010-12-31'][:]\n",
    "X_train.tail()"
   ]
  },
  {
   "cell_type": "code",
   "execution_count": 322,
   "metadata": {
    "ExecuteTime": {
     "end_time": "2019-12-14T23:23:44.236173Z",
     "start_time": "2019-12-14T23:23:44.067898Z"
    }
   },
   "outputs": [],
   "source": [
    "X_train.dropna(inplace = True)"
   ]
  },
  {
   "cell_type": "code",
   "execution_count": 394,
   "metadata": {
    "ExecuteTime": {
     "end_time": "2019-12-15T00:31:05.242423Z",
     "start_time": "2019-12-15T00:31:05.237334Z"
    }
   },
   "outputs": [],
   "source": [
    "X_train_x, X_train_y = X_train.drop('Load', axis = 1), X_train['Load']"
   ]
  },
  {
   "cell_type": "code",
   "execution_count": 395,
   "metadata": {
    "ExecuteTime": {
     "end_time": "2019-12-15T00:31:06.118547Z",
     "start_time": "2019-12-15T00:31:06.100130Z"
    }
   },
   "outputs": [
    {
     "data": {
      "text/html": [
       "<div>\n",
       "<style scoped>\n",
       "    .dataframe tbody tr th:only-of-type {\n",
       "        vertical-align: middle;\n",
       "    }\n",
       "\n",
       "    .dataframe tbody tr th {\n",
       "        vertical-align: top;\n",
       "    }\n",
       "\n",
       "    .dataframe thead th {\n",
       "        text-align: right;\n",
       "    }\n",
       "</style>\n",
       "<table border=\"1\" class=\"dataframe\">\n",
       "  <thead>\n",
       "    <tr style=\"text-align: right;\">\n",
       "      <th></th>\n",
       "      <th>Load</th>\n",
       "      <th>Temperature</th>\n",
       "      <th>Temperature_Squared</th>\n",
       "      <th>Weekday_0</th>\n",
       "      <th>Weekday_1</th>\n",
       "      <th>Weekday_2</th>\n",
       "      <th>Weekday_3</th>\n",
       "      <th>Weekday_4</th>\n",
       "      <th>Weekday_5</th>\n",
       "      <th>Weekday_6</th>\n",
       "      <th>...</th>\n",
       "      <th>Month_3</th>\n",
       "      <th>Month_4</th>\n",
       "      <th>Month_5</th>\n",
       "      <th>Month_6</th>\n",
       "      <th>Month_7</th>\n",
       "      <th>Month_8</th>\n",
       "      <th>Month_9</th>\n",
       "      <th>Month_10</th>\n",
       "      <th>Month_11</th>\n",
       "      <th>Month_12</th>\n",
       "    </tr>\n",
       "    <tr>\n",
       "      <th>DateTime</th>\n",
       "      <th></th>\n",
       "      <th></th>\n",
       "      <th></th>\n",
       "      <th></th>\n",
       "      <th></th>\n",
       "      <th></th>\n",
       "      <th></th>\n",
       "      <th></th>\n",
       "      <th></th>\n",
       "      <th></th>\n",
       "      <th></th>\n",
       "      <th></th>\n",
       "      <th></th>\n",
       "      <th></th>\n",
       "      <th></th>\n",
       "      <th></th>\n",
       "      <th></th>\n",
       "      <th></th>\n",
       "      <th></th>\n",
       "      <th></th>\n",
       "      <th></th>\n",
       "    </tr>\n",
       "  </thead>\n",
       "  <tbody>\n",
       "    <tr>\n",
       "      <th>2011-12-31 19:00:00</th>\n",
       "      <td>11907.0</td>\n",
       "      <td>38.67</td>\n",
       "      <td>1495.3689</td>\n",
       "      <td>0</td>\n",
       "      <td>0</td>\n",
       "      <td>0</td>\n",
       "      <td>0</td>\n",
       "      <td>0</td>\n",
       "      <td>1</td>\n",
       "      <td>0</td>\n",
       "      <td>...</td>\n",
       "      <td>0</td>\n",
       "      <td>0</td>\n",
       "      <td>0</td>\n",
       "      <td>0</td>\n",
       "      <td>0</td>\n",
       "      <td>0</td>\n",
       "      <td>0</td>\n",
       "      <td>0</td>\n",
       "      <td>0</td>\n",
       "      <td>1</td>\n",
       "    </tr>\n",
       "    <tr>\n",
       "      <th>2011-12-31 20:00:00</th>\n",
       "      <td>11812.0</td>\n",
       "      <td>39.33</td>\n",
       "      <td>1546.8489</td>\n",
       "      <td>0</td>\n",
       "      <td>0</td>\n",
       "      <td>0</td>\n",
       "      <td>0</td>\n",
       "      <td>0</td>\n",
       "      <td>1</td>\n",
       "      <td>0</td>\n",
       "      <td>...</td>\n",
       "      <td>0</td>\n",
       "      <td>0</td>\n",
       "      <td>0</td>\n",
       "      <td>0</td>\n",
       "      <td>0</td>\n",
       "      <td>0</td>\n",
       "      <td>0</td>\n",
       "      <td>0</td>\n",
       "      <td>0</td>\n",
       "      <td>1</td>\n",
       "    </tr>\n",
       "    <tr>\n",
       "      <th>2011-12-31 21:00:00</th>\n",
       "      <td>11542.0</td>\n",
       "      <td>39.33</td>\n",
       "      <td>1546.8489</td>\n",
       "      <td>0</td>\n",
       "      <td>0</td>\n",
       "      <td>0</td>\n",
       "      <td>0</td>\n",
       "      <td>0</td>\n",
       "      <td>1</td>\n",
       "      <td>0</td>\n",
       "      <td>...</td>\n",
       "      <td>0</td>\n",
       "      <td>0</td>\n",
       "      <td>0</td>\n",
       "      <td>0</td>\n",
       "      <td>0</td>\n",
       "      <td>0</td>\n",
       "      <td>0</td>\n",
       "      <td>0</td>\n",
       "      <td>0</td>\n",
       "      <td>1</td>\n",
       "    </tr>\n",
       "    <tr>\n",
       "      <th>2011-12-31 22:00:00</th>\n",
       "      <td>11149.0</td>\n",
       "      <td>39.00</td>\n",
       "      <td>1521.0000</td>\n",
       "      <td>0</td>\n",
       "      <td>0</td>\n",
       "      <td>0</td>\n",
       "      <td>0</td>\n",
       "      <td>0</td>\n",
       "      <td>1</td>\n",
       "      <td>0</td>\n",
       "      <td>...</td>\n",
       "      <td>0</td>\n",
       "      <td>0</td>\n",
       "      <td>0</td>\n",
       "      <td>0</td>\n",
       "      <td>0</td>\n",
       "      <td>0</td>\n",
       "      <td>0</td>\n",
       "      <td>0</td>\n",
       "      <td>0</td>\n",
       "      <td>1</td>\n",
       "    </tr>\n",
       "    <tr>\n",
       "      <th>2011-12-31 23:00:00</th>\n",
       "      <td>10855.0</td>\n",
       "      <td>39.33</td>\n",
       "      <td>1546.8489</td>\n",
       "      <td>0</td>\n",
       "      <td>0</td>\n",
       "      <td>0</td>\n",
       "      <td>0</td>\n",
       "      <td>0</td>\n",
       "      <td>1</td>\n",
       "      <td>0</td>\n",
       "      <td>...</td>\n",
       "      <td>0</td>\n",
       "      <td>0</td>\n",
       "      <td>0</td>\n",
       "      <td>0</td>\n",
       "      <td>0</td>\n",
       "      <td>0</td>\n",
       "      <td>0</td>\n",
       "      <td>0</td>\n",
       "      <td>0</td>\n",
       "      <td>1</td>\n",
       "    </tr>\n",
       "  </tbody>\n",
       "</table>\n",
       "<p>5 rows × 22 columns</p>\n",
       "</div>"
      ],
      "text/plain": [
       "                        Load  Temperature  Temperature_Squared  Weekday_0  \\\n",
       "DateTime                                                                    \n",
       "2011-12-31 19:00:00  11907.0        38.67            1495.3689          0   \n",
       "2011-12-31 20:00:00  11812.0        39.33            1546.8489          0   \n",
       "2011-12-31 21:00:00  11542.0        39.33            1546.8489          0   \n",
       "2011-12-31 22:00:00  11149.0        39.00            1521.0000          0   \n",
       "2011-12-31 23:00:00  10855.0        39.33            1546.8489          0   \n",
       "\n",
       "                     Weekday_1  Weekday_2  Weekday_3  Weekday_4  Weekday_5  \\\n",
       "DateTime                                                                     \n",
       "2011-12-31 19:00:00          0          0          0          0          1   \n",
       "2011-12-31 20:00:00          0          0          0          0          1   \n",
       "2011-12-31 21:00:00          0          0          0          0          1   \n",
       "2011-12-31 22:00:00          0          0          0          0          1   \n",
       "2011-12-31 23:00:00          0          0          0          0          1   \n",
       "\n",
       "                     Weekday_6  ...  Month_3  Month_4  Month_5  Month_6  \\\n",
       "DateTime                        ...                                       \n",
       "2011-12-31 19:00:00          0  ...        0        0        0        0   \n",
       "2011-12-31 20:00:00          0  ...        0        0        0        0   \n",
       "2011-12-31 21:00:00          0  ...        0        0        0        0   \n",
       "2011-12-31 22:00:00          0  ...        0        0        0        0   \n",
       "2011-12-31 23:00:00          0  ...        0        0        0        0   \n",
       "\n",
       "                     Month_7  Month_8  Month_9  Month_10  Month_11  Month_12  \n",
       "DateTime                                                                      \n",
       "2011-12-31 19:00:00        0        0        0         0         0         1  \n",
       "2011-12-31 20:00:00        0        0        0         0         0         1  \n",
       "2011-12-31 21:00:00        0        0        0         0         0         1  \n",
       "2011-12-31 22:00:00        0        0        0         0         0         1  \n",
       "2011-12-31 23:00:00        0        0        0         0         0         1  \n",
       "\n",
       "[5 rows x 22 columns]"
      ]
     },
     "execution_count": 395,
     "metadata": {},
     "output_type": "execute_result"
    }
   ],
   "source": [
    "X_test = X_build_model['2011-01-01':'2011-12-31'][:]\n",
    "X_test.tail()"
   ]
  },
  {
   "cell_type": "code",
   "execution_count": 396,
   "metadata": {
    "ExecuteTime": {
     "end_time": "2019-12-15T00:31:08.678225Z",
     "start_time": "2019-12-15T00:31:08.666679Z"
    }
   },
   "outputs": [],
   "source": [
    "X_test_x, X_test_y = X_test.drop('Load', axis = 1), X_test['Load']"
   ]
  },
  {
   "cell_type": "markdown",
   "metadata": {},
   "source": [
    "### Feature Selection"
   ]
  },
  {
   "cell_type": "code",
   "execution_count": 397,
   "metadata": {
    "ExecuteTime": {
     "end_time": "2019-12-15T00:31:09.615026Z",
     "start_time": "2019-12-15T00:31:09.597790Z"
    }
   },
   "outputs": [],
   "source": [
    "estimator = LinearRegression()\n",
    "selector = RFE(estimator, 50, step=1)\n",
    "selector = selector.fit(X_train_x, X_train_y)"
   ]
  },
  {
   "cell_type": "code",
   "execution_count": 398,
   "metadata": {
    "ExecuteTime": {
     "end_time": "2019-12-15T00:31:11.109813Z",
     "start_time": "2019-12-15T00:31:11.105799Z"
    }
   },
   "outputs": [
    {
     "data": {
      "text/plain": [
       "(21, 21)"
      ]
     },
     "execution_count": 398,
     "metadata": {},
     "output_type": "execute_result"
    }
   ],
   "source": [
    "len(X_train_x.columns), len(selector.support_)"
   ]
  },
  {
   "cell_type": "code",
   "execution_count": 399,
   "metadata": {
    "ExecuteTime": {
     "end_time": "2019-12-15T00:31:11.639064Z",
     "start_time": "2019-12-15T00:31:11.634883Z"
    }
   },
   "outputs": [
    {
     "data": {
      "text/plain": [
       "Index(['Temperature', 'Temperature_Squared', 'Weekday_0', 'Weekday_1',\n",
       "       'Weekday_2', 'Weekday_3', 'Weekday_4', 'Weekday_5', 'Weekday_6',\n",
       "       'Month_1', 'Month_2', 'Month_3', 'Month_4', 'Month_5', 'Month_6',\n",
       "       'Month_7', 'Month_8', 'Month_9', 'Month_10', 'Month_11', 'Month_12'],\n",
       "      dtype='object')"
      ]
     },
     "execution_count": 399,
     "metadata": {},
     "output_type": "execute_result"
    }
   ],
   "source": [
    "X_train_x.columns[selector.support_]"
   ]
  },
  {
   "cell_type": "code",
   "execution_count": 358,
   "metadata": {
    "ExecuteTime": {
     "end_time": "2019-12-15T00:24:03.976995Z",
     "start_time": "2019-12-15T00:24:03.966650Z"
    }
   },
   "outputs": [],
   "source": [
    "X_train_x_Sed = X_train_x[X_train_x.columns[selector.support_]]"
   ]
  },
  {
   "cell_type": "code",
   "execution_count": 359,
   "metadata": {
    "ExecuteTime": {
     "end_time": "2019-12-15T00:24:03.982832Z",
     "start_time": "2019-12-15T00:24:03.978780Z"
    }
   },
   "outputs": [
    {
     "data": {
      "text/plain": [
       "(26135, 20)"
      ]
     },
     "execution_count": 359,
     "metadata": {},
     "output_type": "execute_result"
    }
   ],
   "source": [
    "X_train_x_Sed.shape"
   ]
  },
  {
   "cell_type": "markdown",
   "metadata": {},
   "source": [
    "### Model Building"
   ]
  },
  {
   "cell_type": "code",
   "execution_count": 483,
   "metadata": {
    "ExecuteTime": {
     "end_time": "2019-12-15T03:41:17.785258Z",
     "start_time": "2019-12-15T03:41:02.788056Z"
    }
   },
   "outputs": [
    {
     "name": "stderr",
     "output_type": "stream",
     "text": [
      "/Users/chengyinliu/anaconda3/envs/Tensorflow/lib/python3.6/site-packages/xgboost/core.py:587: FutureWarning: Series.base is deprecated and will be removed in a future version\n",
      "  if getattr(data, 'base', None) is not None and \\\n",
      "/Users/chengyinliu/anaconda3/envs/Tensorflow/lib/python3.6/site-packages/xgboost/core.py:588: FutureWarning: Series.base is deprecated and will be removed in a future version\n",
      "  data.base is not None and isinstance(data, np.ndarray) \\\n"
     ]
    },
    {
     "data": {
      "text/plain": [
       "XGBRegressor(base_score=0.5, booster='gbtree', colsample_bylevel=1,\n",
       "             colsample_bynode=1, colsample_bytree=1, eval_metric='rmse',\n",
       "             gamma=0, importance_type='gain', learning_rate=0.1,\n",
       "             max_delta_step=0, max_depth=3, min_child_weight=1, missing=None,\n",
       "             n_estimators=300, n_jobs=1, nthread=None, objective='reg:linear',\n",
       "             random_state=0, reg_alpha=0.5, reg_lambda=1, scale_pos_weight=1,\n",
       "             seed=0, silent=True, subsample=1, verbosity=1)"
      ]
     },
     "execution_count": 483,
     "metadata": {},
     "output_type": "execute_result"
    }
   ],
   "source": [
    "model = xgb.XGBRegressor(max_depth=3, \n",
    "                         learning_rate=0.1, \n",
    "                         n_estimators=300, \n",
    "                         silent=True, \n",
    "                         objective=\"reg:linear\", \n",
    "                         eval_metric='rmse', \n",
    "                         seed=0, \n",
    "                         reg_alpha=0.5)\n",
    "\n",
    "model.fit(X_train_x_Sed, X_train_y)"
   ]
  },
  {
   "cell_type": "code",
   "execution_count": 484,
   "metadata": {
    "ExecuteTime": {
     "end_time": "2019-12-15T03:41:22.297729Z",
     "start_time": "2019-12-15T03:41:21.605352Z"
    }
   },
   "outputs": [
    {
     "data": {
      "text/plain": [
       "<matplotlib.axes._subplots.AxesSubplot at 0x1abe848c50>"
      ]
     },
     "execution_count": 484,
     "metadata": {},
     "output_type": "execute_result"
    },
    {
     "data": {
      "image/png": "[encoded data removed]",
      "text/plain": [
       "<Figure size 648x720 with 1 Axes>"
      ]
     },
     "metadata": {
      "needs_background": "light"
     },
     "output_type": "display_data"
    }
   ],
   "source": [
    "fig, ax = plt.subplots(figsize=(9, 10))\n",
    "xgb.plot_importance(model, ax = ax)"
   ]
  },
  {
   "cell_type": "code",
   "execution_count": 485,
   "metadata": {
    "ExecuteTime": {
     "end_time": "2019-12-15T03:41:24.448674Z",
     "start_time": "2019-12-15T03:41:24.258083Z"
    }
   },
   "outputs": [
    {
     "data": {
      "text/plain": [
       "2.4940943991192346"
      ]
     },
     "execution_count": 485,
     "metadata": {},
     "output_type": "execute_result"
    }
   ],
   "source": [
    "mape(X_train_y, model.predict(X_train_x_Sed)) "
   ]
  },
  {
   "cell_type": "code",
   "execution_count": 489,
   "metadata": {
    "ExecuteTime": {
     "end_time": "2019-12-15T03:41:50.609839Z",
     "start_time": "2019-12-15T03:41:50.540761Z"
    }
   },
   "outputs": [
    {
     "data": {
      "text/plain": [
       "3.024759908406691"
      ]
     },
     "execution_count": 489,
     "metadata": {},
     "output_type": "execute_result"
    }
   ],
   "source": [
    "mape(X_test_y, model.predict(X_test_x_Sed)) "
   ]
  },
  {
   "cell_type": "code",
   "execution_count": 490,
   "metadata": {
    "ExecuteTime": {
     "end_time": "2019-12-15T03:41:51.398248Z",
     "start_time": "2019-12-15T03:41:51.166285Z"
    }
   },
   "outputs": [
    {
     "data": {
      "text/plain": [
       "0.5306655092874566"
      ]
     },
     "execution_count": 490,
     "metadata": {},
     "output_type": "execute_result"
    }
   ],
   "source": [
    "mape(X_test_y, model.predict(X_test_x_Sed))  - mape(X_train_y, model.predict(X_train_x_Sed)) "
   ]
  },
  {
   "cell_type": "markdown",
   "metadata": {},
   "source": [
    "## Neural Network"
   ]
  },
  {
   "cell_type": "markdown",
   "metadata": {},
   "source": [
    "### Train Test Split"
   ]
  },
  {
   "cell_type": "code",
   "execution_count": 110,
   "metadata": {
    "ExecuteTime": {
     "end_time": "2019-12-08T22:54:43.388256Z",
     "start_time": "2019-12-08T22:54:43.366432Z"
    }
   },
   "outputs": [],
   "source": [
    "X_build_model = X.drop(['DateTime'], axis=1)"
   ]
  },
  {
   "cell_type": "code",
   "execution_count": 111,
   "metadata": {
    "ExecuteTime": {
     "end_time": "2019-12-08T22:54:43.760659Z",
     "start_time": "2019-12-08T22:54:43.752319Z"
    }
   },
   "outputs": [],
   "source": [
    "X_train, X_test = train_test_split(X_build_model, test_size=0.2, random_state=0)"
   ]
  },
  {
   "cell_type": "code",
   "execution_count": 112,
   "metadata": {
    "ExecuteTime": {
     "end_time": "2019-12-08T22:54:44.266690Z",
     "start_time": "2019-12-08T22:54:44.262612Z"
    }
   },
   "outputs": [
    {
     "data": {
      "text/plain": [
       "((35078, 22), (8770, 22))"
      ]
     },
     "execution_count": 112,
     "metadata": {},
     "output_type": "execute_result"
    }
   ],
   "source": [
    "X_train.shape, X_test.shape"
   ]
  },
  {
   "cell_type": "code",
   "execution_count": 113,
   "metadata": {
    "ExecuteTime": {
     "end_time": "2019-12-08T22:54:44.703723Z",
     "start_time": "2019-12-08T22:54:44.678739Z"
    }
   },
   "outputs": [],
   "source": [
    "X_train_x = X_train.drop(['Load', 'Temperature_Squared'], axis = 1)\n",
    "X_train_y = X_train['Load']"
   ]
  },
  {
   "cell_type": "code",
   "execution_count": 114,
   "metadata": {
    "ExecuteTime": {
     "end_time": "2019-12-08T22:54:45.720859Z",
     "start_time": "2019-12-08T22:54:45.704061Z"
    }
   },
   "outputs": [],
   "source": [
    "X_test_x = X_test.drop(['Load'], axis = 1)\n",
    "X_test_y = X_test['Load']"
   ]
  },
  {
   "cell_type": "code",
   "execution_count": 439,
   "metadata": {
    "ExecuteTime": {
     "end_time": "2019-12-15T02:51:27.632864Z",
     "start_time": "2019-12-15T02:51:27.629363Z"
    }
   },
   "outputs": [],
   "source": [
    "## New"
   ]
  },
  {
   "cell_type": "code",
   "execution_count": 441,
   "metadata": {
    "ExecuteTime": {
     "end_time": "2019-12-15T02:51:49.150179Z",
     "start_time": "2019-12-15T02:51:48.787260Z"
    }
   },
   "outputs": [
    {
     "data": {
      "text/html": [
       "<div>\n",
       "<style scoped>\n",
       "    .dataframe tbody tr th:only-of-type {\n",
       "        vertical-align: middle;\n",
       "    }\n",
       "\n",
       "    .dataframe tbody tr th {\n",
       "        vertical-align: top;\n",
       "    }\n",
       "\n",
       "    .dataframe thead th {\n",
       "        text-align: right;\n",
       "    }\n",
       "</style>\n",
       "<table border=\"1\" class=\"dataframe\">\n",
       "  <thead>\n",
       "    <tr style=\"text-align: right;\">\n",
       "      <th></th>\n",
       "      <th>Load</th>\n",
       "      <th>Trend</th>\n",
       "      <th>Month</th>\n",
       "      <th>Week</th>\n",
       "      <th>Hour</th>\n",
       "      <th>Week_Hour</th>\n",
       "      <th>Lag_0_Temperature</th>\n",
       "      <th>Lag_0_Temperature_2</th>\n",
       "      <th>Lag_0_Temperature_3</th>\n",
       "      <th>Lag_0_Temperature_Month</th>\n",
       "      <th>...</th>\n",
       "      <th>Lag_120_Temperature_Rolling_last_24hour_3_Hour</th>\n",
       "      <th>Lag_144_Temperature_Rolling_last_24hour</th>\n",
       "      <th>Lag_144_Temperature_Rolling_last_24hour_2</th>\n",
       "      <th>Lag_144_Temperature_Rolling_last_24hour_3</th>\n",
       "      <th>Lag_144_Temperature_Rolling_last_24hour_Month</th>\n",
       "      <th>Lag_144_Temperature_Rolling_last_24hour_2_Month</th>\n",
       "      <th>Lag_144_Temperature_Rolling_last_24hour_3_Month</th>\n",
       "      <th>Lag_144_Temperature_Rolling_last_24hour_Hour</th>\n",
       "      <th>Lag_144_Temperature_Rolling_last_24hour_2_Hour</th>\n",
       "      <th>Lag_144_Temperature_Rolling_last_24hour_3_Hour</th>\n",
       "    </tr>\n",
       "    <tr>\n",
       "      <th>DateTime</th>\n",
       "      <th></th>\n",
       "      <th></th>\n",
       "      <th></th>\n",
       "      <th></th>\n",
       "      <th></th>\n",
       "      <th></th>\n",
       "      <th></th>\n",
       "      <th></th>\n",
       "      <th></th>\n",
       "      <th></th>\n",
       "      <th></th>\n",
       "      <th></th>\n",
       "      <th></th>\n",
       "      <th></th>\n",
       "      <th></th>\n",
       "      <th></th>\n",
       "      <th></th>\n",
       "      <th></th>\n",
       "      <th></th>\n",
       "      <th></th>\n",
       "      <th></th>\n",
       "    </tr>\n",
       "  </thead>\n",
       "  <tbody>\n",
       "    <tr>\n",
       "      <th>2010-12-31 19:00:00</th>\n",
       "      <td>11735.0</td>\n",
       "      <td>26298</td>\n",
       "      <td>12</td>\n",
       "      <td>4</td>\n",
       "      <td>19</td>\n",
       "      <td>76</td>\n",
       "      <td>53.33</td>\n",
       "      <td>2844.0889</td>\n",
       "      <td>151675.261037</td>\n",
       "      <td>639.96</td>\n",
       "      <td>...</td>\n",
       "      <td>378008.188263</td>\n",
       "      <td>27.778333</td>\n",
       "      <td>771.635803</td>\n",
       "      <td>21434.756541</td>\n",
       "      <td>333.340</td>\n",
       "      <td>9259.629633</td>\n",
       "      <td>257217.078498</td>\n",
       "      <td>527.788333</td>\n",
       "      <td>14661.080253</td>\n",
       "      <td>407260.374288</td>\n",
       "    </tr>\n",
       "    <tr>\n",
       "      <th>2010-12-31 20:00:00</th>\n",
       "      <td>11585.0</td>\n",
       "      <td>26299</td>\n",
       "      <td>12</td>\n",
       "      <td>4</td>\n",
       "      <td>20</td>\n",
       "      <td>80</td>\n",
       "      <td>53.33</td>\n",
       "      <td>2844.0889</td>\n",
       "      <td>151675.261037</td>\n",
       "      <td>639.96</td>\n",
       "      <td>...</td>\n",
       "      <td>391822.142541</td>\n",
       "      <td>27.736667</td>\n",
       "      <td>769.322678</td>\n",
       "      <td>21338.446673</td>\n",
       "      <td>332.840</td>\n",
       "      <td>9231.872133</td>\n",
       "      <td>256061.360072</td>\n",
       "      <td>554.733333</td>\n",
       "      <td>15386.453556</td>\n",
       "      <td>426768.933453</td>\n",
       "    </tr>\n",
       "    <tr>\n",
       "      <th>2010-12-31 21:00:00</th>\n",
       "      <td>11243.0</td>\n",
       "      <td>26300</td>\n",
       "      <td>12</td>\n",
       "      <td>4</td>\n",
       "      <td>21</td>\n",
       "      <td>84</td>\n",
       "      <td>52.33</td>\n",
       "      <td>2738.4289</td>\n",
       "      <td>143301.984337</td>\n",
       "      <td>627.96</td>\n",
       "      <td>...</td>\n",
       "      <td>402587.409063</td>\n",
       "      <td>27.708750</td>\n",
       "      <td>767.774827</td>\n",
       "      <td>21274.080726</td>\n",
       "      <td>332.505</td>\n",
       "      <td>9213.297919</td>\n",
       "      <td>255288.968706</td>\n",
       "      <td>581.883750</td>\n",
       "      <td>16123.271358</td>\n",
       "      <td>446755.695236</td>\n",
       "    </tr>\n",
       "    <tr>\n",
       "      <th>2010-12-31 22:00:00</th>\n",
       "      <td>10825.0</td>\n",
       "      <td>26301</td>\n",
       "      <td>12</td>\n",
       "      <td>4</td>\n",
       "      <td>22</td>\n",
       "      <td>88</td>\n",
       "      <td>51.33</td>\n",
       "      <td>2634.7689</td>\n",
       "      <td>135242.687637</td>\n",
       "      <td>615.96</td>\n",
       "      <td>...</td>\n",
       "      <td>411985.604310</td>\n",
       "      <td>27.680833</td>\n",
       "      <td>766.228534</td>\n",
       "      <td>21209.844346</td>\n",
       "      <td>332.170</td>\n",
       "      <td>9194.742408</td>\n",
       "      <td>254518.132148</td>\n",
       "      <td>608.978333</td>\n",
       "      <td>16857.027749</td>\n",
       "      <td>466616.575605</td>\n",
       "    </tr>\n",
       "    <tr>\n",
       "      <th>2010-12-31 23:00:00</th>\n",
       "      <td>10511.0</td>\n",
       "      <td>26302</td>\n",
       "      <td>12</td>\n",
       "      <td>4</td>\n",
       "      <td>23</td>\n",
       "      <td>92</td>\n",
       "      <td>48.33</td>\n",
       "      <td>2335.7889</td>\n",
       "      <td>112888.677537</td>\n",
       "      <td>579.96</td>\n",
       "      <td>...</td>\n",
       "      <td>418005.685258</td>\n",
       "      <td>27.652917</td>\n",
       "      <td>764.683800</td>\n",
       "      <td>21145.737403</td>\n",
       "      <td>331.835</td>\n",
       "      <td>9176.205602</td>\n",
       "      <td>253748.848831</td>\n",
       "      <td>636.017083</td>\n",
       "      <td>17587.727404</td>\n",
       "      <td>486351.960259</td>\n",
       "    </tr>\n",
       "  </tbody>\n",
       "</table>\n",
       "<p>5 rows × 726 columns</p>\n",
       "</div>"
      ],
      "text/plain": [
       "                        Load  Trend  Month  Week  Hour  Week_Hour  \\\n",
       "DateTime                                                            \n",
       "2010-12-31 19:00:00  11735.0  26298     12     4    19         76   \n",
       "2010-12-31 20:00:00  11585.0  26299     12     4    20         80   \n",
       "2010-12-31 21:00:00  11243.0  26300     12     4    21         84   \n",
       "2010-12-31 22:00:00  10825.0  26301     12     4    22         88   \n",
       "2010-12-31 23:00:00  10511.0  26302     12     4    23         92   \n",
       "\n",
       "                     Lag_0_Temperature  Lag_0_Temperature_2  \\\n",
       "DateTime                                                      \n",
       "2010-12-31 19:00:00              53.33            2844.0889   \n",
       "2010-12-31 20:00:00              53.33            2844.0889   \n",
       "2010-12-31 21:00:00              52.33            2738.4289   \n",
       "2010-12-31 22:00:00              51.33            2634.7689   \n",
       "2010-12-31 23:00:00              48.33            2335.7889   \n",
       "\n",
       "                     Lag_0_Temperature_3  Lag_0_Temperature_Month  ...  \\\n",
       "DateTime                                                           ...   \n",
       "2010-12-31 19:00:00        151675.261037                   639.96  ...   \n",
       "2010-12-31 20:00:00        151675.261037                   639.96  ...   \n",
       "2010-12-31 21:00:00        143301.984337                   627.96  ...   \n",
       "2010-12-31 22:00:00        135242.687637                   615.96  ...   \n",
       "2010-12-31 23:00:00        112888.677537                   579.96  ...   \n",
       "\n",
       "                     Lag_120_Temperature_Rolling_last_24hour_3_Hour  \\\n",
       "DateTime                                                              \n",
       "2010-12-31 19:00:00                                   378008.188263   \n",
       "2010-12-31 20:00:00                                   391822.142541   \n",
       "2010-12-31 21:00:00                                   402587.409063   \n",
       "2010-12-31 22:00:00                                   411985.604310   \n",
       "2010-12-31 23:00:00                                   418005.685258   \n",
       "\n",
       "                     Lag_144_Temperature_Rolling_last_24hour  \\\n",
       "DateTime                                                       \n",
       "2010-12-31 19:00:00                                27.778333   \n",
       "2010-12-31 20:00:00                                27.736667   \n",
       "2010-12-31 21:00:00                                27.708750   \n",
       "2010-12-31 22:00:00                                27.680833   \n",
       "2010-12-31 23:00:00                                27.652917   \n",
       "\n",
       "                     Lag_144_Temperature_Rolling_last_24hour_2  \\\n",
       "DateTime                                                         \n",
       "2010-12-31 19:00:00                                 771.635803   \n",
       "2010-12-31 20:00:00                                 769.322678   \n",
       "2010-12-31 21:00:00                                 767.774827   \n",
       "2010-12-31 22:00:00                                 766.228534   \n",
       "2010-12-31 23:00:00                                 764.683800   \n",
       "\n",
       "                     Lag_144_Temperature_Rolling_last_24hour_3  \\\n",
       "DateTime                                                         \n",
       "2010-12-31 19:00:00                               21434.756541   \n",
       "2010-12-31 20:00:00                               21338.446673   \n",
       "2010-12-31 21:00:00                               21274.080726   \n",
       "2010-12-31 22:00:00                               21209.844346   \n",
       "2010-12-31 23:00:00                               21145.737403   \n",
       "\n",
       "                     Lag_144_Temperature_Rolling_last_24hour_Month  \\\n",
       "DateTime                                                             \n",
       "2010-12-31 19:00:00                                        333.340   \n",
       "2010-12-31 20:00:00                                        332.840   \n",
       "2010-12-31 21:00:00                                        332.505   \n",
       "2010-12-31 22:00:00                                        332.170   \n",
       "2010-12-31 23:00:00                                        331.835   \n",
       "\n",
       "                     Lag_144_Temperature_Rolling_last_24hour_2_Month  \\\n",
       "DateTime                                                               \n",
       "2010-12-31 19:00:00                                      9259.629633   \n",
       "2010-12-31 20:00:00                                      9231.872133   \n",
       "2010-12-31 21:00:00                                      9213.297919   \n",
       "2010-12-31 22:00:00                                      9194.742408   \n",
       "2010-12-31 23:00:00                                      9176.205602   \n",
       "\n",
       "                     Lag_144_Temperature_Rolling_last_24hour_3_Month  \\\n",
       "DateTime                                                               \n",
       "2010-12-31 19:00:00                                    257217.078498   \n",
       "2010-12-31 20:00:00                                    256061.360072   \n",
       "2010-12-31 21:00:00                                    255288.968706   \n",
       "2010-12-31 22:00:00                                    254518.132148   \n",
       "2010-12-31 23:00:00                                    253748.848831   \n",
       "\n",
       "                     Lag_144_Temperature_Rolling_last_24hour_Hour  \\\n",
       "DateTime                                                            \n",
       "2010-12-31 19:00:00                                    527.788333   \n",
       "2010-12-31 20:00:00                                    554.733333   \n",
       "2010-12-31 21:00:00                                    581.883750   \n",
       "2010-12-31 22:00:00                                    608.978333   \n",
       "2010-12-31 23:00:00                                    636.017083   \n",
       "\n",
       "                     Lag_144_Temperature_Rolling_last_24hour_2_Hour  \\\n",
       "DateTime                                                              \n",
       "2010-12-31 19:00:00                                    14661.080253   \n",
       "2010-12-31 20:00:00                                    15386.453556   \n",
       "2010-12-31 21:00:00                                    16123.271358   \n",
       "2010-12-31 22:00:00                                    16857.027749   \n",
       "2010-12-31 23:00:00                                    17587.727404   \n",
       "\n",
       "                     Lag_144_Temperature_Rolling_last_24hour_3_Hour  \n",
       "DateTime                                                             \n",
       "2010-12-31 19:00:00                                   407260.374288  \n",
       "2010-12-31 20:00:00                                   426768.933453  \n",
       "2010-12-31 21:00:00                                   446755.695236  \n",
       "2010-12-31 22:00:00                                   466616.575605  \n",
       "2010-12-31 23:00:00                                   486351.960259  \n",
       "\n",
       "[5 rows x 726 columns]"
      ]
     },
     "execution_count": 441,
     "metadata": {},
     "output_type": "execute_result"
    }
   ],
   "source": [
    "X_train = X_build_model[:'2010-12-31'].dropna()\n",
    "X_train.tail()"
   ]
  },
  {
   "cell_type": "code",
   "execution_count": 442,
   "metadata": {
    "ExecuteTime": {
     "end_time": "2019-12-15T02:52:09.436177Z",
     "start_time": "2019-12-15T02:52:09.328878Z"
    }
   },
   "outputs": [],
   "source": [
    "X_train_x, X_train_y = X_train.drop('Load', axis = 1), X_train['Load']"
   ]
  },
  {
   "cell_type": "code",
   "execution_count": 443,
   "metadata": {
    "ExecuteTime": {
     "end_time": "2019-12-15T02:52:26.200313Z",
     "start_time": "2019-12-15T02:52:26.077482Z"
    }
   },
   "outputs": [
    {
     "data": {
      "text/html": [
       "<div>\n",
       "<style scoped>\n",
       "    .dataframe tbody tr th:only-of-type {\n",
       "        vertical-align: middle;\n",
       "    }\n",
       "\n",
       "    .dataframe tbody tr th {\n",
       "        vertical-align: top;\n",
       "    }\n",
       "\n",
       "    .dataframe thead th {\n",
       "        text-align: right;\n",
       "    }\n",
       "</style>\n",
       "<table border=\"1\" class=\"dataframe\">\n",
       "  <thead>\n",
       "    <tr style=\"text-align: right;\">\n",
       "      <th></th>\n",
       "      <th>Load</th>\n",
       "      <th>Trend</th>\n",
       "      <th>Month</th>\n",
       "      <th>Week</th>\n",
       "      <th>Hour</th>\n",
       "      <th>Week_Hour</th>\n",
       "      <th>Lag_0_Temperature</th>\n",
       "      <th>Lag_0_Temperature_2</th>\n",
       "      <th>Lag_0_Temperature_3</th>\n",
       "      <th>Lag_0_Temperature_Month</th>\n",
       "      <th>...</th>\n",
       "      <th>Lag_120_Temperature_Rolling_last_24hour_3_Hour</th>\n",
       "      <th>Lag_144_Temperature_Rolling_last_24hour</th>\n",
       "      <th>Lag_144_Temperature_Rolling_last_24hour_2</th>\n",
       "      <th>Lag_144_Temperature_Rolling_last_24hour_3</th>\n",
       "      <th>Lag_144_Temperature_Rolling_last_24hour_Month</th>\n",
       "      <th>Lag_144_Temperature_Rolling_last_24hour_2_Month</th>\n",
       "      <th>Lag_144_Temperature_Rolling_last_24hour_3_Month</th>\n",
       "      <th>Lag_144_Temperature_Rolling_last_24hour_Hour</th>\n",
       "      <th>Lag_144_Temperature_Rolling_last_24hour_2_Hour</th>\n",
       "      <th>Lag_144_Temperature_Rolling_last_24hour_3_Hour</th>\n",
       "    </tr>\n",
       "    <tr>\n",
       "      <th>DateTime</th>\n",
       "      <th></th>\n",
       "      <th></th>\n",
       "      <th></th>\n",
       "      <th></th>\n",
       "      <th></th>\n",
       "      <th></th>\n",
       "      <th></th>\n",
       "      <th></th>\n",
       "      <th></th>\n",
       "      <th></th>\n",
       "      <th></th>\n",
       "      <th></th>\n",
       "      <th></th>\n",
       "      <th></th>\n",
       "      <th></th>\n",
       "      <th></th>\n",
       "      <th></th>\n",
       "      <th></th>\n",
       "      <th></th>\n",
       "      <th></th>\n",
       "      <th></th>\n",
       "    </tr>\n",
       "  </thead>\n",
       "  <tbody>\n",
       "    <tr>\n",
       "      <th>2011-12-31 19:00:00</th>\n",
       "      <td>11907.0</td>\n",
       "      <td>35058</td>\n",
       "      <td>12</td>\n",
       "      <td>5</td>\n",
       "      <td>19</td>\n",
       "      <td>95</td>\n",
       "      <td>38.67</td>\n",
       "      <td>1495.3689</td>\n",
       "      <td>57825.915363</td>\n",
       "      <td>464.04</td>\n",
       "      <td>...</td>\n",
       "      <td>717836.158149</td>\n",
       "      <td>37.931250</td>\n",
       "      <td>1438.779727</td>\n",
       "      <td>54574.713503</td>\n",
       "      <td>455.175</td>\n",
       "      <td>17265.356719</td>\n",
       "      <td>654896.562038</td>\n",
       "      <td>720.693750</td>\n",
       "      <td>27336.814805</td>\n",
       "      <td>1.036920e+06</td>\n",
       "    </tr>\n",
       "    <tr>\n",
       "      <th>2011-12-31 20:00:00</th>\n",
       "      <td>11812.0</td>\n",
       "      <td>35059</td>\n",
       "      <td>12</td>\n",
       "      <td>5</td>\n",
       "      <td>20</td>\n",
       "      <td>100</td>\n",
       "      <td>39.33</td>\n",
       "      <td>1546.8489</td>\n",
       "      <td>60837.567237</td>\n",
       "      <td>471.96</td>\n",
       "      <td>...</td>\n",
       "      <td>767899.390724</td>\n",
       "      <td>37.903333</td>\n",
       "      <td>1436.662678</td>\n",
       "      <td>54454.304363</td>\n",
       "      <td>454.840</td>\n",
       "      <td>17239.952133</td>\n",
       "      <td>653451.652360</td>\n",
       "      <td>758.066667</td>\n",
       "      <td>28733.253556</td>\n",
       "      <td>1.089086e+06</td>\n",
       "    </tr>\n",
       "    <tr>\n",
       "      <th>2011-12-31 21:00:00</th>\n",
       "      <td>11542.0</td>\n",
       "      <td>35060</td>\n",
       "      <td>12</td>\n",
       "      <td>5</td>\n",
       "      <td>21</td>\n",
       "      <td>105</td>\n",
       "      <td>39.33</td>\n",
       "      <td>1546.8489</td>\n",
       "      <td>60837.567237</td>\n",
       "      <td>471.96</td>\n",
       "      <td>...</td>\n",
       "      <td>823322.259072</td>\n",
       "      <td>37.806250</td>\n",
       "      <td>1429.312539</td>\n",
       "      <td>54036.947180</td>\n",
       "      <td>453.675</td>\n",
       "      <td>17151.750469</td>\n",
       "      <td>648443.366159</td>\n",
       "      <td>793.931250</td>\n",
       "      <td>30015.563320</td>\n",
       "      <td>1.134776e+06</td>\n",
       "    </tr>\n",
       "    <tr>\n",
       "      <th>2011-12-31 22:00:00</th>\n",
       "      <td>11149.0</td>\n",
       "      <td>35061</td>\n",
       "      <td>12</td>\n",
       "      <td>5</td>\n",
       "      <td>22</td>\n",
       "      <td>110</td>\n",
       "      <td>39.00</td>\n",
       "      <td>1521.0000</td>\n",
       "      <td>59319.000000</td>\n",
       "      <td>468.00</td>\n",
       "      <td>...</td>\n",
       "      <td>884935.290669</td>\n",
       "      <td>37.681250</td>\n",
       "      <td>1419.876602</td>\n",
       "      <td>53502.725193</td>\n",
       "      <td>452.175</td>\n",
       "      <td>17038.519219</td>\n",
       "      <td>642032.702312</td>\n",
       "      <td>828.987500</td>\n",
       "      <td>31237.285234</td>\n",
       "      <td>1.177060e+06</td>\n",
       "    </tr>\n",
       "    <tr>\n",
       "      <th>2011-12-31 23:00:00</th>\n",
       "      <td>10855.0</td>\n",
       "      <td>35062</td>\n",
       "      <td>12</td>\n",
       "      <td>5</td>\n",
       "      <td>23</td>\n",
       "      <td>115</td>\n",
       "      <td>39.33</td>\n",
       "      <td>1546.8489</td>\n",
       "      <td>60837.567237</td>\n",
       "      <td>471.96</td>\n",
       "      <td>...</td>\n",
       "      <td>951289.472275</td>\n",
       "      <td>37.500417</td>\n",
       "      <td>1406.281250</td>\n",
       "      <td>52736.132832</td>\n",
       "      <td>450.005</td>\n",
       "      <td>16875.375002</td>\n",
       "      <td>632833.593984</td>\n",
       "      <td>862.509583</td>\n",
       "      <td>32344.468754</td>\n",
       "      <td>1.212931e+06</td>\n",
       "    </tr>\n",
       "  </tbody>\n",
       "</table>\n",
       "<p>5 rows × 726 columns</p>\n",
       "</div>"
      ],
      "text/plain": [
       "                        Load  Trend  Month  Week  Hour  Week_Hour  \\\n",
       "DateTime                                                            \n",
       "2011-12-31 19:00:00  11907.0  35058     12     5    19         95   \n",
       "2011-12-31 20:00:00  11812.0  35059     12     5    20        100   \n",
       "2011-12-31 21:00:00  11542.0  35060     12     5    21        105   \n",
       "2011-12-31 22:00:00  11149.0  35061     12     5    22        110   \n",
       "2011-12-31 23:00:00  10855.0  35062     12     5    23        115   \n",
       "\n",
       "                     Lag_0_Temperature  Lag_0_Temperature_2  \\\n",
       "DateTime                                                      \n",
       "2011-12-31 19:00:00              38.67            1495.3689   \n",
       "2011-12-31 20:00:00              39.33            1546.8489   \n",
       "2011-12-31 21:00:00              39.33            1546.8489   \n",
       "2011-12-31 22:00:00              39.00            1521.0000   \n",
       "2011-12-31 23:00:00              39.33            1546.8489   \n",
       "\n",
       "                     Lag_0_Temperature_3  Lag_0_Temperature_Month  ...  \\\n",
       "DateTime                                                           ...   \n",
       "2011-12-31 19:00:00         57825.915363                   464.04  ...   \n",
       "2011-12-31 20:00:00         60837.567237                   471.96  ...   \n",
       "2011-12-31 21:00:00         60837.567237                   471.96  ...   \n",
       "2011-12-31 22:00:00         59319.000000                   468.00  ...   \n",
       "2011-12-31 23:00:00         60837.567237                   471.96  ...   \n",
       "\n",
       "                     Lag_120_Temperature_Rolling_last_24hour_3_Hour  \\\n",
       "DateTime                                                              \n",
       "2011-12-31 19:00:00                                   717836.158149   \n",
       "2011-12-31 20:00:00                                   767899.390724   \n",
       "2011-12-31 21:00:00                                   823322.259072   \n",
       "2011-12-31 22:00:00                                   884935.290669   \n",
       "2011-12-31 23:00:00                                   951289.472275   \n",
       "\n",
       "                     Lag_144_Temperature_Rolling_last_24hour  \\\n",
       "DateTime                                                       \n",
       "2011-12-31 19:00:00                                37.931250   \n",
       "2011-12-31 20:00:00                                37.903333   \n",
       "2011-12-31 21:00:00                                37.806250   \n",
       "2011-12-31 22:00:00                                37.681250   \n",
       "2011-12-31 23:00:00                                37.500417   \n",
       "\n",
       "                     Lag_144_Temperature_Rolling_last_24hour_2  \\\n",
       "DateTime                                                         \n",
       "2011-12-31 19:00:00                                1438.779727   \n",
       "2011-12-31 20:00:00                                1436.662678   \n",
       "2011-12-31 21:00:00                                1429.312539   \n",
       "2011-12-31 22:00:00                                1419.876602   \n",
       "2011-12-31 23:00:00                                1406.281250   \n",
       "\n",
       "                     Lag_144_Temperature_Rolling_last_24hour_3  \\\n",
       "DateTime                                                         \n",
       "2011-12-31 19:00:00                               54574.713503   \n",
       "2011-12-31 20:00:00                               54454.304363   \n",
       "2011-12-31 21:00:00                               54036.947180   \n",
       "2011-12-31 22:00:00                               53502.725193   \n",
       "2011-12-31 23:00:00                               52736.132832   \n",
       "\n",
       "                     Lag_144_Temperature_Rolling_last_24hour_Month  \\\n",
       "DateTime                                                             \n",
       "2011-12-31 19:00:00                                        455.175   \n",
       "2011-12-31 20:00:00                                        454.840   \n",
       "2011-12-31 21:00:00                                        453.675   \n",
       "2011-12-31 22:00:00                                        452.175   \n",
       "2011-12-31 23:00:00                                        450.005   \n",
       "\n",
       "                     Lag_144_Temperature_Rolling_last_24hour_2_Month  \\\n",
       "DateTime                                                               \n",
       "2011-12-31 19:00:00                                     17265.356719   \n",
       "2011-12-31 20:00:00                                     17239.952133   \n",
       "2011-12-31 21:00:00                                     17151.750469   \n",
       "2011-12-31 22:00:00                                     17038.519219   \n",
       "2011-12-31 23:00:00                                     16875.375002   \n",
       "\n",
       "                     Lag_144_Temperature_Rolling_last_24hour_3_Month  \\\n",
       "DateTime                                                               \n",
       "2011-12-31 19:00:00                                    654896.562038   \n",
       "2011-12-31 20:00:00                                    653451.652360   \n",
       "2011-12-31 21:00:00                                    648443.366159   \n",
       "2011-12-31 22:00:00                                    642032.702312   \n",
       "2011-12-31 23:00:00                                    632833.593984   \n",
       "\n",
       "                     Lag_144_Temperature_Rolling_last_24hour_Hour  \\\n",
       "DateTime                                                            \n",
       "2011-12-31 19:00:00                                    720.693750   \n",
       "2011-12-31 20:00:00                                    758.066667   \n",
       "2011-12-31 21:00:00                                    793.931250   \n",
       "2011-12-31 22:00:00                                    828.987500   \n",
       "2011-12-31 23:00:00                                    862.509583   \n",
       "\n",
       "                     Lag_144_Temperature_Rolling_last_24hour_2_Hour  \\\n",
       "DateTime                                                              \n",
       "2011-12-31 19:00:00                                    27336.814805   \n",
       "2011-12-31 20:00:00                                    28733.253556   \n",
       "2011-12-31 21:00:00                                    30015.563320   \n",
       "2011-12-31 22:00:00                                    31237.285234   \n",
       "2011-12-31 23:00:00                                    32344.468754   \n",
       "\n",
       "                     Lag_144_Temperature_Rolling_last_24hour_3_Hour  \n",
       "DateTime                                                             \n",
       "2011-12-31 19:00:00                                    1.036920e+06  \n",
       "2011-12-31 20:00:00                                    1.089086e+06  \n",
       "2011-12-31 21:00:00                                    1.134776e+06  \n",
       "2011-12-31 22:00:00                                    1.177060e+06  \n",
       "2011-12-31 23:00:00                                    1.212931e+06  \n",
       "\n",
       "[5 rows x 726 columns]"
      ]
     },
     "execution_count": 443,
     "metadata": {},
     "output_type": "execute_result"
    }
   ],
   "source": [
    "X_test = X_build_model['2011-01-01':'2011-12-31'].dropna()\n",
    "X_test.tail()"
   ]
  },
  {
   "cell_type": "code",
   "execution_count": 444,
   "metadata": {
    "ExecuteTime": {
     "end_time": "2019-12-15T02:52:38.967542Z",
     "start_time": "2019-12-15T02:52:38.951819Z"
    }
   },
   "outputs": [],
   "source": [
    "X_test_x, X_test_y = X_test.drop('Load', axis = 1), X_test['Load']"
   ]
  },
  {
   "cell_type": "markdown",
   "metadata": {},
   "source": [
    "### Feature Selection"
   ]
  },
  {
   "cell_type": "code",
   "execution_count": 445,
   "metadata": {
    "ExecuteTime": {
     "end_time": "2019-12-15T02:55:24.241963Z",
     "start_time": "2019-12-15T02:52:45.362399Z"
    }
   },
   "outputs": [],
   "source": [
    "estimator = LinearRegression()\n",
    "selector = RFE(estimator, 50, step=1)\n",
    "selector = selector.fit(X_train_x, X_train_y)"
   ]
  },
  {
   "cell_type": "code",
   "execution_count": 446,
   "metadata": {
    "ExecuteTime": {
     "end_time": "2019-12-15T02:57:25.520727Z",
     "start_time": "2019-12-15T02:57:25.516612Z"
    }
   },
   "outputs": [
    {
     "data": {
      "text/plain": [
       "(725, 725)"
      ]
     },
     "execution_count": 446,
     "metadata": {},
     "output_type": "execute_result"
    }
   ],
   "source": [
    "len(X_train_x.columns), len(selector.support_)"
   ]
  },
  {
   "cell_type": "code",
   "execution_count": 447,
   "metadata": {
    "ExecuteTime": {
     "end_time": "2019-12-15T02:57:26.284767Z",
     "start_time": "2019-12-15T02:57:26.278934Z"
    }
   },
   "outputs": [
    {
     "data": {
      "text/plain": [
       "Index(['Month', 'Week', 'Hour', 'Week_Hour', 'Lag_0_Temperature',\n",
       "       'Lag_1_Temperature', 'Lag_2_Temperature', 'Lag_3_Temperature',\n",
       "       'Lag_4_Temperature', 'Lag_5_Temperature', 'Lag_6_Temperature',\n",
       "       'Lag_7_Temperature', 'Lag_8_Temperature', 'Lag_9_Temperature',\n",
       "       'Lag_9_Temperature_Month', 'Lag_10_Temperature',\n",
       "       'Lag_10_Temperature_Month', 'Lag_11_Temperature', 'Lag_12_Temperature',\n",
       "       'Lag_13_Temperature', 'Lag_14_Temperature', 'Lag_15_Temperature',\n",
       "       'Lag_16_Temperature', 'Lag_17_Temperature', 'Lag_18_Temperature',\n",
       "       'Lag_19_Temperature', 'Lag_20_Temperature', 'Lag_21_Temperature',\n",
       "       'Lag_22_Temperature', 'Lag_23_Temperature', 'Lag_25_Temperature',\n",
       "       'Lag_26_Temperature', 'Lag_33_Temperature', 'Lag_36_Temperature',\n",
       "       'Lag_40_Temperature', 'Lag_41_Temperature', 'Lag_42_Temperature',\n",
       "       'Lag_43_Temperature', 'Lag_45_Temperature', 'Lag_46_Temperature',\n",
       "       'Lag_51_Temperature', 'Lag_56_Temperature', 'Lag_62_Temperature',\n",
       "       'Lag_65_Temperature', 'Lag_69_Temperature', 'Lag_70_Temperature',\n",
       "       'Lag_0_Temperature_Rolling_last_24hour',\n",
       "       'Lag_48_Temperature_Rolling_last_24hour',\n",
       "       'Lag_72_Temperature_Rolling_last_24hour',\n",
       "       'Lag_144_Temperature_Rolling_last_24hour'],\n",
       "      dtype='object')"
      ]
     },
     "execution_count": 447,
     "metadata": {},
     "output_type": "execute_result"
    }
   ],
   "source": [
    "X_train_x.columns[selector.support_]"
   ]
  },
  {
   "cell_type": "code",
   "execution_count": 448,
   "metadata": {
    "ExecuteTime": {
     "end_time": "2019-12-15T02:57:29.554187Z",
     "start_time": "2019-12-15T02:57:29.546957Z"
    }
   },
   "outputs": [],
   "source": [
    "X_train_x_Sed = X_train_x[X_train_x.columns[selector.support_]]"
   ]
  },
  {
   "cell_type": "code",
   "execution_count": 449,
   "metadata": {
    "ExecuteTime": {
     "end_time": "2019-12-15T02:57:30.158978Z",
     "start_time": "2019-12-15T02:57:30.154691Z"
    }
   },
   "outputs": [
    {
     "data": {
      "text/plain": [
       "(26135, 50)"
      ]
     },
     "execution_count": 449,
     "metadata": {},
     "output_type": "execute_result"
    }
   ],
   "source": [
    "X_train_x_Sed.shape"
   ]
  },
  {
   "cell_type": "code",
   "execution_count": 466,
   "metadata": {
    "ExecuteTime": {
     "end_time": "2019-12-15T03:03:48.740277Z",
     "start_time": "2019-12-15T03:03:48.713663Z"
    }
   },
   "outputs": [
    {
     "data": {
      "text/html": [
       "<div>\n",
       "<style scoped>\n",
       "    .dataframe tbody tr th:only-of-type {\n",
       "        vertical-align: middle;\n",
       "    }\n",
       "\n",
       "    .dataframe tbody tr th {\n",
       "        vertical-align: top;\n",
       "    }\n",
       "\n",
       "    .dataframe thead th {\n",
       "        text-align: right;\n",
       "    }\n",
       "</style>\n",
       "<table border=\"1\" class=\"dataframe\">\n",
       "  <thead>\n",
       "    <tr style=\"text-align: right;\">\n",
       "      <th></th>\n",
       "      <th>Month</th>\n",
       "      <th>Week</th>\n",
       "      <th>Hour</th>\n",
       "      <th>Week_Hour</th>\n",
       "      <th>Lag_0_Temperature</th>\n",
       "      <th>Lag_1_Temperature</th>\n",
       "      <th>Lag_2_Temperature</th>\n",
       "      <th>Lag_3_Temperature</th>\n",
       "      <th>Lag_4_Temperature</th>\n",
       "      <th>Lag_5_Temperature</th>\n",
       "      <th>...</th>\n",
       "      <th>Lag_51_Temperature</th>\n",
       "      <th>Lag_56_Temperature</th>\n",
       "      <th>Lag_62_Temperature</th>\n",
       "      <th>Lag_65_Temperature</th>\n",
       "      <th>Lag_69_Temperature</th>\n",
       "      <th>Lag_70_Temperature</th>\n",
       "      <th>Lag_0_Temperature_Rolling_last_24hour</th>\n",
       "      <th>Lag_48_Temperature_Rolling_last_24hour</th>\n",
       "      <th>Lag_72_Temperature_Rolling_last_24hour</th>\n",
       "      <th>Lag_144_Temperature_Rolling_last_24hour</th>\n",
       "    </tr>\n",
       "    <tr>\n",
       "      <th>DateTime</th>\n",
       "      <th></th>\n",
       "      <th></th>\n",
       "      <th></th>\n",
       "      <th></th>\n",
       "      <th></th>\n",
       "      <th></th>\n",
       "      <th></th>\n",
       "      <th></th>\n",
       "      <th></th>\n",
       "      <th></th>\n",
       "      <th></th>\n",
       "      <th></th>\n",
       "      <th></th>\n",
       "      <th></th>\n",
       "      <th></th>\n",
       "      <th></th>\n",
       "      <th></th>\n",
       "      <th></th>\n",
       "      <th></th>\n",
       "      <th></th>\n",
       "      <th></th>\n",
       "    </tr>\n",
       "  </thead>\n",
       "  <tbody>\n",
       "    <tr>\n",
       "      <th>2008-01-08 01:00:00</th>\n",
       "      <td>1</td>\n",
       "      <td>1</td>\n",
       "      <td>1</td>\n",
       "      <td>1</td>\n",
       "      <td>54.00</td>\n",
       "      <td>53.33</td>\n",
       "      <td>54.00</td>\n",
       "      <td>53.67</td>\n",
       "      <td>55.00</td>\n",
       "      <td>55.33</td>\n",
       "      <td>...</td>\n",
       "      <td>41.33</td>\n",
       "      <td>41.00</td>\n",
       "      <td>38.67</td>\n",
       "      <td>36.33</td>\n",
       "      <td>35.67</td>\n",
       "      <td>36.67</td>\n",
       "      <td>56.777917</td>\n",
       "      <td>38.736250</td>\n",
       "      <td>28.138750</td>\n",
       "      <td>17.415833</td>\n",
       "    </tr>\n",
       "    <tr>\n",
       "      <th>2008-01-08 02:00:00</th>\n",
       "      <td>1</td>\n",
       "      <td>1</td>\n",
       "      <td>2</td>\n",
       "      <td>2</td>\n",
       "      <td>54.67</td>\n",
       "      <td>54.00</td>\n",
       "      <td>53.33</td>\n",
       "      <td>54.00</td>\n",
       "      <td>53.67</td>\n",
       "      <td>55.00</td>\n",
       "      <td>...</td>\n",
       "      <td>41.67</td>\n",
       "      <td>41.33</td>\n",
       "      <td>39.33</td>\n",
       "      <td>36.67</td>\n",
       "      <td>36.00</td>\n",
       "      <td>35.67</td>\n",
       "      <td>56.958333</td>\n",
       "      <td>38.986250</td>\n",
       "      <td>28.680417</td>\n",
       "      <td>16.499167</td>\n",
       "    </tr>\n",
       "    <tr>\n",
       "      <th>2008-01-08 03:00:00</th>\n",
       "      <td>1</td>\n",
       "      <td>1</td>\n",
       "      <td>3</td>\n",
       "      <td>3</td>\n",
       "      <td>54.33</td>\n",
       "      <td>54.67</td>\n",
       "      <td>54.00</td>\n",
       "      <td>53.33</td>\n",
       "      <td>54.00</td>\n",
       "      <td>53.67</td>\n",
       "      <td>...</td>\n",
       "      <td>39.33</td>\n",
       "      <td>41.00</td>\n",
       "      <td>39.67</td>\n",
       "      <td>37.67</td>\n",
       "      <td>36.67</td>\n",
       "      <td>36.00</td>\n",
       "      <td>57.166667</td>\n",
       "      <td>39.152917</td>\n",
       "      <td>29.263750</td>\n",
       "      <td>15.610417</td>\n",
       "    </tr>\n",
       "    <tr>\n",
       "      <th>2008-01-08 04:00:00</th>\n",
       "      <td>1</td>\n",
       "      <td>1</td>\n",
       "      <td>4</td>\n",
       "      <td>4</td>\n",
       "      <td>54.00</td>\n",
       "      <td>54.33</td>\n",
       "      <td>54.67</td>\n",
       "      <td>54.00</td>\n",
       "      <td>53.33</td>\n",
       "      <td>54.00</td>\n",
       "      <td>...</td>\n",
       "      <td>41.33</td>\n",
       "      <td>40.67</td>\n",
       "      <td>40.33</td>\n",
       "      <td>38.67</td>\n",
       "      <td>36.33</td>\n",
       "      <td>36.67</td>\n",
       "      <td>57.388750</td>\n",
       "      <td>39.347083</td>\n",
       "      <td>29.888750</td>\n",
       "      <td>14.735417</td>\n",
       "    </tr>\n",
       "    <tr>\n",
       "      <th>2008-01-08 05:00:00</th>\n",
       "      <td>1</td>\n",
       "      <td>1</td>\n",
       "      <td>5</td>\n",
       "      <td>5</td>\n",
       "      <td>53.67</td>\n",
       "      <td>54.00</td>\n",
       "      <td>54.33</td>\n",
       "      <td>54.67</td>\n",
       "      <td>54.00</td>\n",
       "      <td>53.33</td>\n",
       "      <td>...</td>\n",
       "      <td>40.33</td>\n",
       "      <td>40.33</td>\n",
       "      <td>40.67</td>\n",
       "      <td>39.33</td>\n",
       "      <td>36.33</td>\n",
       "      <td>36.33</td>\n",
       "      <td>57.625000</td>\n",
       "      <td>39.597083</td>\n",
       "      <td>30.472083</td>\n",
       "      <td>13.874167</td>\n",
       "    </tr>\n",
       "  </tbody>\n",
       "</table>\n",
       "<p>5 rows × 50 columns</p>\n",
       "</div>"
      ],
      "text/plain": [
       "                     Month  Week  Hour  Week_Hour  Lag_0_Temperature  \\\n",
       "DateTime                                                               \n",
       "2008-01-08 01:00:00      1     1     1          1              54.00   \n",
       "2008-01-08 02:00:00      1     1     2          2              54.67   \n",
       "2008-01-08 03:00:00      1     1     3          3              54.33   \n",
       "2008-01-08 04:00:00      1     1     4          4              54.00   \n",
       "2008-01-08 05:00:00      1     1     5          5              53.67   \n",
       "\n",
       "                     Lag_1_Temperature  Lag_2_Temperature  Lag_3_Temperature  \\\n",
       "DateTime                                                                       \n",
       "2008-01-08 01:00:00              53.33              54.00              53.67   \n",
       "2008-01-08 02:00:00              54.00              53.33              54.00   \n",
       "2008-01-08 03:00:00              54.67              54.00              53.33   \n",
       "2008-01-08 04:00:00              54.33              54.67              54.00   \n",
       "2008-01-08 05:00:00              54.00              54.33              54.67   \n",
       "\n",
       "                     Lag_4_Temperature  Lag_5_Temperature  ...  \\\n",
       "DateTime                                                   ...   \n",
       "2008-01-08 01:00:00              55.00              55.33  ...   \n",
       "2008-01-08 02:00:00              53.67              55.00  ...   \n",
       "2008-01-08 03:00:00              54.00              53.67  ...   \n",
       "2008-01-08 04:00:00              53.33              54.00  ...   \n",
       "2008-01-08 05:00:00              54.00              53.33  ...   \n",
       "\n",
       "                     Lag_51_Temperature  Lag_56_Temperature  \\\n",
       "DateTime                                                      \n",
       "2008-01-08 01:00:00               41.33               41.00   \n",
       "2008-01-08 02:00:00               41.67               41.33   \n",
       "2008-01-08 03:00:00               39.33               41.00   \n",
       "2008-01-08 04:00:00               41.33               40.67   \n",
       "2008-01-08 05:00:00               40.33               40.33   \n",
       "\n",
       "                     Lag_62_Temperature  Lag_65_Temperature  \\\n",
       "DateTime                                                      \n",
       "2008-01-08 01:00:00               38.67               36.33   \n",
       "2008-01-08 02:00:00               39.33               36.67   \n",
       "2008-01-08 03:00:00               39.67               37.67   \n",
       "2008-01-08 04:00:00               40.33               38.67   \n",
       "2008-01-08 05:00:00               40.67               39.33   \n",
       "\n",
       "                     Lag_69_Temperature  Lag_70_Temperature  \\\n",
       "DateTime                                                      \n",
       "2008-01-08 01:00:00               35.67               36.67   \n",
       "2008-01-08 02:00:00               36.00               35.67   \n",
       "2008-01-08 03:00:00               36.67               36.00   \n",
       "2008-01-08 04:00:00               36.33               36.67   \n",
       "2008-01-08 05:00:00               36.33               36.33   \n",
       "\n",
       "                     Lag_0_Temperature_Rolling_last_24hour  \\\n",
       "DateTime                                                     \n",
       "2008-01-08 01:00:00                              56.777917   \n",
       "2008-01-08 02:00:00                              56.958333   \n",
       "2008-01-08 03:00:00                              57.166667   \n",
       "2008-01-08 04:00:00                              57.388750   \n",
       "2008-01-08 05:00:00                              57.625000   \n",
       "\n",
       "                     Lag_48_Temperature_Rolling_last_24hour  \\\n",
       "DateTime                                                      \n",
       "2008-01-08 01:00:00                               38.736250   \n",
       "2008-01-08 02:00:00                               38.986250   \n",
       "2008-01-08 03:00:00                               39.152917   \n",
       "2008-01-08 04:00:00                               39.347083   \n",
       "2008-01-08 05:00:00                               39.597083   \n",
       "\n",
       "                     Lag_72_Temperature_Rolling_last_24hour  \\\n",
       "DateTime                                                      \n",
       "2008-01-08 01:00:00                               28.138750   \n",
       "2008-01-08 02:00:00                               28.680417   \n",
       "2008-01-08 03:00:00                               29.263750   \n",
       "2008-01-08 04:00:00                               29.888750   \n",
       "2008-01-08 05:00:00                               30.472083   \n",
       "\n",
       "                     Lag_144_Temperature_Rolling_last_24hour  \n",
       "DateTime                                                      \n",
       "2008-01-08 01:00:00                                17.415833  \n",
       "2008-01-08 02:00:00                                16.499167  \n",
       "2008-01-08 03:00:00                                15.610417  \n",
       "2008-01-08 04:00:00                                14.735417  \n",
       "2008-01-08 05:00:00                                13.874167  \n",
       "\n",
       "[5 rows x 50 columns]"
      ]
     },
     "execution_count": 466,
     "metadata": {},
     "output_type": "execute_result"
    }
   ],
   "source": [
    "X_train_x_Sed.head()"
   ]
  },
  {
   "cell_type": "code",
   "execution_count": 467,
   "metadata": {
    "ExecuteTime": {
     "end_time": "2019-12-15T03:04:09.250369Z",
     "start_time": "2019-12-15T03:04:09.208501Z"
    }
   },
   "outputs": [],
   "source": [
    "X_test_x_Sed = X_test_x[X_test_x.columns[selector.support_]]"
   ]
  },
  {
   "cell_type": "markdown",
   "metadata": {},
   "source": [
    "### Normalization"
   ]
  },
  {
   "cell_type": "code",
   "execution_count": 117,
   "metadata": {
    "ExecuteTime": {
     "end_time": "2019-12-08T22:54:52.210131Z",
     "start_time": "2019-12-08T22:54:52.200341Z"
    }
   },
   "outputs": [
    {
     "data": {
      "text/plain": [
       "(50.35213210559325, 20.505409938432344)"
      ]
     },
     "execution_count": 117,
     "metadata": {},
     "output_type": "execute_result"
    }
   ],
   "source": [
    "train_stats = X_train_x['Temperature'].describe()\n",
    "train_stats['mean'], train_stats['std']"
   ]
  },
  {
   "cell_type": "code",
   "execution_count": 118,
   "metadata": {
    "ExecuteTime": {
     "end_time": "2019-12-08T22:54:56.769155Z",
     "start_time": "2019-12-08T22:54:56.765865Z"
    }
   },
   "outputs": [],
   "source": [
    "def norm(x):\n",
    "    return (x - train_stats['mean']) / train_stats['std']"
   ]
  },
  {
   "cell_type": "code",
   "execution_count": 119,
   "metadata": {
    "ExecuteTime": {
     "end_time": "2019-12-08T22:54:57.307649Z",
     "start_time": "2019-12-08T22:54:57.303433Z"
    }
   },
   "outputs": [],
   "source": [
    "X_train_x['Temperature'] = norm(X_train_x['Temperature'])"
   ]
  },
  {
   "cell_type": "code",
   "execution_count": 120,
   "metadata": {
    "ExecuteTime": {
     "end_time": "2019-12-08T22:54:57.740546Z",
     "start_time": "2019-12-08T22:54:57.726287Z"
    }
   },
   "outputs": [
    {
     "data": {
      "text/html": [
       "<div>\n",
       "<style scoped>\n",
       "    .dataframe tbody tr th:only-of-type {\n",
       "        vertical-align: middle;\n",
       "    }\n",
       "\n",
       "    .dataframe tbody tr th {\n",
       "        vertical-align: top;\n",
       "    }\n",
       "\n",
       "    .dataframe thead th {\n",
       "        text-align: right;\n",
       "    }\n",
       "</style>\n",
       "<table border=\"1\" class=\"dataframe\">\n",
       "  <thead>\n",
       "    <tr style=\"text-align: right;\">\n",
       "      <th></th>\n",
       "      <th>Temperature</th>\n",
       "      <th>Weekday_0</th>\n",
       "      <th>Weekday_1</th>\n",
       "      <th>Weekday_2</th>\n",
       "      <th>Weekday_3</th>\n",
       "      <th>Weekday_4</th>\n",
       "      <th>Weekday_5</th>\n",
       "      <th>Weekday_6</th>\n",
       "      <th>Month_1</th>\n",
       "      <th>Month_2</th>\n",
       "      <th>Month_3</th>\n",
       "      <th>Month_4</th>\n",
       "      <th>Month_5</th>\n",
       "      <th>Month_6</th>\n",
       "      <th>Month_7</th>\n",
       "      <th>Month_8</th>\n",
       "      <th>Month_9</th>\n",
       "      <th>Month_10</th>\n",
       "      <th>Month_11</th>\n",
       "      <th>Month_12</th>\n",
       "    </tr>\n",
       "  </thead>\n",
       "  <tbody>\n",
       "    <tr>\n",
       "      <th>17934</th>\n",
       "      <td>-1.480201</td>\n",
       "      <td>0</td>\n",
       "      <td>0</td>\n",
       "      <td>0</td>\n",
       "      <td>0</td>\n",
       "      <td>0</td>\n",
       "      <td>0</td>\n",
       "      <td>1</td>\n",
       "      <td>1</td>\n",
       "      <td>0</td>\n",
       "      <td>0</td>\n",
       "      <td>0</td>\n",
       "      <td>0</td>\n",
       "      <td>0</td>\n",
       "      <td>0</td>\n",
       "      <td>0</td>\n",
       "      <td>0</td>\n",
       "      <td>0</td>\n",
       "      <td>0</td>\n",
       "      <td>0</td>\n",
       "    </tr>\n",
       "    <tr>\n",
       "      <th>17386</th>\n",
       "      <td>-0.456081</td>\n",
       "      <td>0</td>\n",
       "      <td>0</td>\n",
       "      <td>0</td>\n",
       "      <td>0</td>\n",
       "      <td>1</td>\n",
       "      <td>0</td>\n",
       "      <td>0</td>\n",
       "      <td>0</td>\n",
       "      <td>0</td>\n",
       "      <td>0</td>\n",
       "      <td>0</td>\n",
       "      <td>0</td>\n",
       "      <td>0</td>\n",
       "      <td>0</td>\n",
       "      <td>0</td>\n",
       "      <td>0</td>\n",
       "      <td>0</td>\n",
       "      <td>0</td>\n",
       "      <td>1</td>\n",
       "    </tr>\n",
       "    <tr>\n",
       "      <th>22740</th>\n",
       "      <td>1.543391</td>\n",
       "      <td>0</td>\n",
       "      <td>0</td>\n",
       "      <td>0</td>\n",
       "      <td>1</td>\n",
       "      <td>0</td>\n",
       "      <td>0</td>\n",
       "      <td>0</td>\n",
       "      <td>0</td>\n",
       "      <td>0</td>\n",
       "      <td>0</td>\n",
       "      <td>0</td>\n",
       "      <td>0</td>\n",
       "      <td>0</td>\n",
       "      <td>0</td>\n",
       "      <td>1</td>\n",
       "      <td>0</td>\n",
       "      <td>0</td>\n",
       "      <td>0</td>\n",
       "      <td>0</td>\n",
       "    </tr>\n",
       "    <tr>\n",
       "      <th>13420</th>\n",
       "      <td>0.616806</td>\n",
       "      <td>1</td>\n",
       "      <td>0</td>\n",
       "      <td>0</td>\n",
       "      <td>0</td>\n",
       "      <td>0</td>\n",
       "      <td>0</td>\n",
       "      <td>0</td>\n",
       "      <td>0</td>\n",
       "      <td>0</td>\n",
       "      <td>0</td>\n",
       "      <td>0</td>\n",
       "      <td>0</td>\n",
       "      <td>0</td>\n",
       "      <td>1</td>\n",
       "      <td>0</td>\n",
       "      <td>0</td>\n",
       "      <td>0</td>\n",
       "      <td>0</td>\n",
       "      <td>0</td>\n",
       "    </tr>\n",
       "    <tr>\n",
       "      <th>36449</th>\n",
       "      <td>-0.862315</td>\n",
       "      <td>1</td>\n",
       "      <td>0</td>\n",
       "      <td>0</td>\n",
       "      <td>0</td>\n",
       "      <td>0</td>\n",
       "      <td>0</td>\n",
       "      <td>0</td>\n",
       "      <td>0</td>\n",
       "      <td>1</td>\n",
       "      <td>0</td>\n",
       "      <td>0</td>\n",
       "      <td>0</td>\n",
       "      <td>0</td>\n",
       "      <td>0</td>\n",
       "      <td>0</td>\n",
       "      <td>0</td>\n",
       "      <td>0</td>\n",
       "      <td>0</td>\n",
       "      <td>0</td>\n",
       "    </tr>\n",
       "  </tbody>\n",
       "</table>\n",
       "</div>"
      ],
      "text/plain": [
       "       Temperature  Weekday_0  Weekday_1  Weekday_2  Weekday_3  Weekday_4  \\\n",
       "17934    -1.480201          0          0          0          0          0   \n",
       "17386    -0.456081          0          0          0          0          1   \n",
       "22740     1.543391          0          0          0          1          0   \n",
       "13420     0.616806          1          0          0          0          0   \n",
       "36449    -0.862315          1          0          0          0          0   \n",
       "\n",
       "       Weekday_5  Weekday_6  Month_1  Month_2  Month_3  Month_4  Month_5  \\\n",
       "17934          0          1        1        0        0        0        0   \n",
       "17386          0          0        0        0        0        0        0   \n",
       "22740          0          0        0        0        0        0        0   \n",
       "13420          0          0        0        0        0        0        0   \n",
       "36449          0          0        0        1        0        0        0   \n",
       "\n",
       "       Month_6  Month_7  Month_8  Month_9  Month_10  Month_11  Month_12  \n",
       "17934        0        0        0        0         0         0         0  \n",
       "17386        0        0        0        0         0         0         1  \n",
       "22740        0        0        1        0         0         0         0  \n",
       "13420        0        1        0        0         0         0         0  \n",
       "36449        0        0        0        0         0         0         0  "
      ]
     },
     "execution_count": 120,
     "metadata": {},
     "output_type": "execute_result"
    }
   ],
   "source": [
    "X_train_x.head()"
   ]
  },
  {
   "cell_type": "code",
   "execution_count": 121,
   "metadata": {
    "ExecuteTime": {
     "end_time": "2019-12-08T22:55:04.095057Z",
     "start_time": "2019-12-08T22:55:04.091333Z"
    }
   },
   "outputs": [],
   "source": [
    "X_test_x['Temperature'] = norm(X_test_x['Temperature'])"
   ]
  },
  {
   "cell_type": "code",
   "execution_count": 122,
   "metadata": {
    "ExecuteTime": {
     "end_time": "2019-12-08T22:55:04.611486Z",
     "start_time": "2019-12-08T22:55:04.596241Z"
    }
   },
   "outputs": [
    {
     "data": {
      "text/html": [
       "<div>\n",
       "<style scoped>\n",
       "    .dataframe tbody tr th:only-of-type {\n",
       "        vertical-align: middle;\n",
       "    }\n",
       "\n",
       "    .dataframe tbody tr th {\n",
       "        vertical-align: top;\n",
       "    }\n",
       "\n",
       "    .dataframe thead th {\n",
       "        text-align: right;\n",
       "    }\n",
       "</style>\n",
       "<table border=\"1\" class=\"dataframe\">\n",
       "  <thead>\n",
       "    <tr style=\"text-align: right;\">\n",
       "      <th></th>\n",
       "      <th>Temperature</th>\n",
       "      <th>Temperature_Squared</th>\n",
       "      <th>Weekday_0</th>\n",
       "      <th>Weekday_1</th>\n",
       "      <th>Weekday_2</th>\n",
       "      <th>Weekday_3</th>\n",
       "      <th>Weekday_4</th>\n",
       "      <th>Weekday_5</th>\n",
       "      <th>Weekday_6</th>\n",
       "      <th>Month_1</th>\n",
       "      <th>...</th>\n",
       "      <th>Month_3</th>\n",
       "      <th>Month_4</th>\n",
       "      <th>Month_5</th>\n",
       "      <th>Month_6</th>\n",
       "      <th>Month_7</th>\n",
       "      <th>Month_8</th>\n",
       "      <th>Month_9</th>\n",
       "      <th>Month_10</th>\n",
       "      <th>Month_11</th>\n",
       "      <th>Month_12</th>\n",
       "    </tr>\n",
       "  </thead>\n",
       "  <tbody>\n",
       "    <tr>\n",
       "      <th>15634</th>\n",
       "      <td>-0.391220</td>\n",
       "      <td>1791.8289</td>\n",
       "      <td>0</td>\n",
       "      <td>1</td>\n",
       "      <td>0</td>\n",
       "      <td>0</td>\n",
       "      <td>0</td>\n",
       "      <td>0</td>\n",
       "      <td>0</td>\n",
       "      <td>0</td>\n",
       "      <td>...</td>\n",
       "      <td>0</td>\n",
       "      <td>0</td>\n",
       "      <td>0</td>\n",
       "      <td>0</td>\n",
       "      <td>0</td>\n",
       "      <td>0</td>\n",
       "      <td>0</td>\n",
       "      <td>1</td>\n",
       "      <td>0</td>\n",
       "      <td>0</td>\n",
       "    </tr>\n",
       "    <tr>\n",
       "      <th>2793</th>\n",
       "      <td>-0.325872</td>\n",
       "      <td>1907.0689</td>\n",
       "      <td>0</td>\n",
       "      <td>0</td>\n",
       "      <td>0</td>\n",
       "      <td>0</td>\n",
       "      <td>0</td>\n",
       "      <td>1</td>\n",
       "      <td>0</td>\n",
       "      <td>0</td>\n",
       "      <td>...</td>\n",
       "      <td>0</td>\n",
       "      <td>1</td>\n",
       "      <td>0</td>\n",
       "      <td>0</td>\n",
       "      <td>0</td>\n",
       "      <td>0</td>\n",
       "      <td>0</td>\n",
       "      <td>0</td>\n",
       "      <td>0</td>\n",
       "      <td>0</td>\n",
       "    </tr>\n",
       "    <tr>\n",
       "      <th>38773</th>\n",
       "      <td>1.397088</td>\n",
       "      <td>6241.0000</td>\n",
       "      <td>0</td>\n",
       "      <td>0</td>\n",
       "      <td>0</td>\n",
       "      <td>0</td>\n",
       "      <td>0</td>\n",
       "      <td>0</td>\n",
       "      <td>1</td>\n",
       "      <td>0</td>\n",
       "      <td>...</td>\n",
       "      <td>0</td>\n",
       "      <td>0</td>\n",
       "      <td>0</td>\n",
       "      <td>1</td>\n",
       "      <td>0</td>\n",
       "      <td>0</td>\n",
       "      <td>0</td>\n",
       "      <td>0</td>\n",
       "      <td>0</td>\n",
       "      <td>0</td>\n",
       "    </tr>\n",
       "    <tr>\n",
       "      <th>10839</th>\n",
       "      <td>-0.537523</td>\n",
       "      <td>1546.8489</td>\n",
       "      <td>0</td>\n",
       "      <td>0</td>\n",
       "      <td>0</td>\n",
       "      <td>0</td>\n",
       "      <td>1</td>\n",
       "      <td>0</td>\n",
       "      <td>0</td>\n",
       "      <td>0</td>\n",
       "      <td>...</td>\n",
       "      <td>1</td>\n",
       "      <td>0</td>\n",
       "      <td>0</td>\n",
       "      <td>0</td>\n",
       "      <td>0</td>\n",
       "      <td>0</td>\n",
       "      <td>0</td>\n",
       "      <td>0</td>\n",
       "      <td>0</td>\n",
       "      <td>0</td>\n",
       "    </tr>\n",
       "    <tr>\n",
       "      <th>26038</th>\n",
       "      <td>-1.171502</td>\n",
       "      <td>693.2689</td>\n",
       "      <td>1</td>\n",
       "      <td>0</td>\n",
       "      <td>0</td>\n",
       "      <td>0</td>\n",
       "      <td>0</td>\n",
       "      <td>0</td>\n",
       "      <td>0</td>\n",
       "      <td>0</td>\n",
       "      <td>...</td>\n",
       "      <td>0</td>\n",
       "      <td>0</td>\n",
       "      <td>0</td>\n",
       "      <td>0</td>\n",
       "      <td>0</td>\n",
       "      <td>0</td>\n",
       "      <td>0</td>\n",
       "      <td>0</td>\n",
       "      <td>0</td>\n",
       "      <td>1</td>\n",
       "    </tr>\n",
       "  </tbody>\n",
       "</table>\n",
       "<p>5 rows × 21 columns</p>\n",
       "</div>"
      ],
      "text/plain": [
       "       Temperature  Temperature_Squared  Weekday_0  Weekday_1  Weekday_2  \\\n",
       "15634    -0.391220            1791.8289          0          1          0   \n",
       "2793     -0.325872            1907.0689          0          0          0   \n",
       "38773     1.397088            6241.0000          0          0          0   \n",
       "10839    -0.537523            1546.8489          0          0          0   \n",
       "26038    -1.171502             693.2689          1          0          0   \n",
       "\n",
       "       Weekday_3  Weekday_4  Weekday_5  Weekday_6  Month_1  ...  Month_3  \\\n",
       "15634          0          0          0          0        0  ...        0   \n",
       "2793           0          0          1          0        0  ...        0   \n",
       "38773          0          0          0          1        0  ...        0   \n",
       "10839          0          1          0          0        0  ...        1   \n",
       "26038          0          0          0          0        0  ...        0   \n",
       "\n",
       "       Month_4  Month_5  Month_6  Month_7  Month_8  Month_9  Month_10  \\\n",
       "15634        0        0        0        0        0        0         1   \n",
       "2793         1        0        0        0        0        0         0   \n",
       "38773        0        0        1        0        0        0         0   \n",
       "10839        0        0        0        0        0        0         0   \n",
       "26038        0        0        0        0        0        0         0   \n",
       "\n",
       "       Month_11  Month_12  \n",
       "15634         0         0  \n",
       "2793          0         0  \n",
       "38773         0         0  \n",
       "10839         0         0  \n",
       "26038         0         1  \n",
       "\n",
       "[5 rows x 21 columns]"
      ]
     },
     "execution_count": 122,
     "metadata": {},
     "output_type": "execute_result"
    }
   ],
   "source": [
    "X_test_x.head()"
   ]
  },
  {
   "cell_type": "markdown",
   "metadata": {},
   "source": [
    "### Model Building (With Feature Selection)"
   ]
  },
  {
   "cell_type": "code",
   "execution_count": 454,
   "metadata": {
    "ExecuteTime": {
     "end_time": "2019-12-15T02:59:05.001021Z",
     "start_time": "2019-12-15T02:59:04.985925Z"
    }
   },
   "outputs": [],
   "source": [
    "def build_model(train_dataset):\n",
    "    model = tf.keras.Sequential([\n",
    "        tf.keras.layers.Dense(300, activation='relu', input_shape=[len(train_dataset.keys())]),\n",
    "        tf.keras.layers.Dense(150, activation='relu'),\n",
    "        tf.keras.layers.Dense(50, activation='relu'),\n",
    "        tf.keras.layers.Dense(10, activation='relu'),\n",
    "        tf.keras.layers.Dense(1)\n",
    "      ])\n",
    "        \n",
    "    optimizer = tf.keras.optimizers.Adam()\n",
    "\n",
    "    model.compile(loss='mean_absolute_percentage_error',\n",
    "                    optimizer=optimizer,\n",
    "                    metrics=['mae', 'mse'])\n",
    "    return model"
   ]
  },
  {
   "cell_type": "code",
   "execution_count": 455,
   "metadata": {
    "ExecuteTime": {
     "end_time": "2019-12-15T02:59:07.020197Z",
     "start_time": "2019-12-15T02:59:06.757745Z"
    }
   },
   "outputs": [],
   "source": [
    "model_NN = build_model(X_train_x_Sed)"
   ]
  },
  {
   "cell_type": "code",
   "execution_count": 469,
   "metadata": {
    "ExecuteTime": {
     "end_time": "2019-12-15T03:13:46.490693Z",
     "start_time": "2019-12-15T03:04:33.709861Z"
    }
   },
   "outputs": [
    {
     "data": {
      "text/plain": [
       "<tensorflow.python.keras.callbacks.History at 0x1a85d8ec88>"
      ]
     },
     "execution_count": 469,
     "metadata": {},
     "output_type": "execute_result"
    }
   ],
   "source": [
    "model_NN.fit(X_train_x_Sed.values, np.reshape(X_train_y.values, (-1, 1)), epochs=200,verbose=0)"
   ]
  },
  {
   "cell_type": "code",
   "execution_count": null,
   "metadata": {},
   "outputs": [],
   "source": [
    "model_NN.fit(X_train_x.values, np.reshape(X_train_y.values, (-1, 1)), epochs=5000,verbose=0)"
   ]
  },
  {
   "cell_type": "markdown",
   "metadata": {},
   "source": [
    "### MAPE"
   ]
  },
  {
   "cell_type": "code",
   "execution_count": 470,
   "metadata": {
    "ExecuteTime": {
     "end_time": "2019-12-15T03:15:23.703349Z",
     "start_time": "2019-12-15T03:15:22.600077Z"
    }
   },
   "outputs": [
    {
     "data": {
      "text/plain": [
       "3.3413961724377392"
      ]
     },
     "execution_count": 470,
     "metadata": {},
     "output_type": "execute_result"
    }
   ],
   "source": [
    "mape(np.reshape(model_NN.predict(X_train_x_Sed.values), (1, -1)), X_train_y.values)"
   ]
  },
  {
   "cell_type": "code",
   "execution_count": 471,
   "metadata": {
    "ExecuteTime": {
     "end_time": "2019-12-15T03:15:24.969117Z",
     "start_time": "2019-12-15T03:15:24.552454Z"
    }
   },
   "outputs": [
    {
     "data": {
      "text/plain": [
       "4.269766272125448"
      ]
     },
     "execution_count": 471,
     "metadata": {},
     "output_type": "execute_result"
    }
   ],
   "source": [
    "mape(np.reshape(model_NN.predict(X_test_x_Sed.values), (1, -1)), X_test_y.values)"
   ]
  },
  {
   "cell_type": "markdown",
   "metadata": {},
   "source": [
    "### Model Building (Without Feature Selection)"
   ]
  },
  {
   "cell_type": "code",
   "execution_count": 478,
   "metadata": {
    "ExecuteTime": {
     "end_time": "2019-12-15T03:24:20.761150Z",
     "start_time": "2019-12-15T03:24:20.626902Z"
    }
   },
   "outputs": [],
   "source": [
    "model_NN = build_model(X_train_x)"
   ]
  },
  {
   "cell_type": "code",
   "execution_count": 479,
   "metadata": {
    "ExecuteTime": {
     "end_time": "2019-12-15T03:38:59.816967Z",
     "start_time": "2019-12-15T03:24:30.100698Z"
    }
   },
   "outputs": [
    {
     "data": {
      "text/plain": [
       "<tensorflow.python.keras.callbacks.History at 0x1a99a0f630>"
      ]
     },
     "execution_count": 479,
     "metadata": {},
     "output_type": "execute_result"
    }
   ],
   "source": [
    "model_NN.fit(X_train_x.values, np.reshape(X_train_y.values, (-1, 1)), epochs=200,verbose=0)"
   ]
  },
  {
   "cell_type": "markdown",
   "metadata": {},
   "source": [
    "### MAPE"
   ]
  },
  {
   "cell_type": "code",
   "execution_count": 481,
   "metadata": {
    "ExecuteTime": {
     "end_time": "2019-12-15T03:39:23.719724Z",
     "start_time": "2019-12-15T03:39:22.065868Z"
    }
   },
   "outputs": [
    {
     "data": {
      "text/plain": [
       "4.434433368243986"
      ]
     },
     "execution_count": 481,
     "metadata": {},
     "output_type": "execute_result"
    }
   ],
   "source": [
    "mape(np.reshape(model_NN.predict(X_train_x.values), (1, -1)), X_train_y.values)"
   ]
  },
  {
   "cell_type": "code",
   "execution_count": 482,
   "metadata": {
    "ExecuteTime": {
     "end_time": "2019-12-15T03:39:27.807846Z",
     "start_time": "2019-12-15T03:39:27.261603Z"
    }
   },
   "outputs": [
    {
     "data": {
      "text/plain": [
       "7.8470821581132615"
      ]
     },
     "execution_count": 482,
     "metadata": {},
     "output_type": "execute_result"
    }
   ],
   "source": [
    "mape(np.reshape(model_NN.predict(X_test_x.values), (1, -1)), X_test_y.values)"
   ]
  },
  {
   "cell_type": "markdown",
   "metadata": {},
   "source": [
    "# Results"
   ]
  },
  {
   "cell_type": "markdown",
   "metadata": {},
   "source": [
    "## Using Capture Recency effect model"
   ]
  },
  {
   "cell_type": "code",
   "execution_count": null,
   "metadata": {},
   "outputs": [],
   "source": [
    "X_build_model"
   ]
  },
  {
   "cell_type": "markdown",
   "metadata": {},
   "source": [
    "### Build its own variables"
   ]
  },
  {
   "cell_type": "code",
   "execution_count": 125,
   "metadata": {
    "ExecuteTime": {
     "end_time": "2019-12-08T23:30:06.454017Z",
     "start_time": "2019-12-08T23:30:06.427357Z"
    }
   },
   "outputs": [
    {
     "data": {
      "text/html": [
       "<div>\n",
       "<style scoped>\n",
       "    .dataframe tbody tr th:only-of-type {\n",
       "        vertical-align: middle;\n",
       "    }\n",
       "\n",
       "    .dataframe tbody tr th {\n",
       "        vertical-align: top;\n",
       "    }\n",
       "\n",
       "    .dataframe thead th {\n",
       "        text-align: right;\n",
       "    }\n",
       "</style>\n",
       "<table border=\"1\" class=\"dataframe\">\n",
       "  <thead>\n",
       "    <tr style=\"text-align: right;\">\n",
       "      <th></th>\n",
       "      <th>Temperature</th>\n",
       "      <th>DateTime</th>\n",
       "      <th>Month</th>\n",
       "      <th>Hour</th>\n",
       "    </tr>\n",
       "  </thead>\n",
       "  <tbody>\n",
       "    <tr>\n",
       "      <th>0</th>\n",
       "      <td>25.0</td>\n",
       "      <td>2008-01-01 01:00:00</td>\n",
       "      <td>1</td>\n",
       "      <td>1</td>\n",
       "    </tr>\n",
       "    <tr>\n",
       "      <th>1</th>\n",
       "      <td>24.0</td>\n",
       "      <td>2008-01-01 02:00:00</td>\n",
       "      <td>1</td>\n",
       "      <td>2</td>\n",
       "    </tr>\n",
       "    <tr>\n",
       "      <th>2</th>\n",
       "      <td>23.0</td>\n",
       "      <td>2008-01-01 03:00:00</td>\n",
       "      <td>1</td>\n",
       "      <td>3</td>\n",
       "    </tr>\n",
       "    <tr>\n",
       "      <th>3</th>\n",
       "      <td>23.0</td>\n",
       "      <td>2008-01-01 04:00:00</td>\n",
       "      <td>1</td>\n",
       "      <td>4</td>\n",
       "    </tr>\n",
       "    <tr>\n",
       "      <th>4</th>\n",
       "      <td>23.0</td>\n",
       "      <td>2008-01-01 05:00:00</td>\n",
       "      <td>1</td>\n",
       "      <td>5</td>\n",
       "    </tr>\n",
       "  </tbody>\n",
       "</table>\n",
       "</div>"
      ],
      "text/plain": [
       "   Temperature            DateTime  Month  Hour\n",
       "0         25.0 2008-01-01 01:00:00      1     1\n",
       "1         24.0 2008-01-01 02:00:00      1     2\n",
       "2         23.0 2008-01-01 03:00:00      1     3\n",
       "3         23.0 2008-01-01 04:00:00      1     4\n",
       "4         23.0 2008-01-01 05:00:00      1     5"
      ]
     },
     "execution_count": 125,
     "metadata": {},
     "output_type": "execute_result"
    }
   ],
   "source": [
    "data_rolling = data_fofT.copy()\n",
    "data_rolling.head()"
   ]
  },
  {
   "cell_type": "code",
   "execution_count": 126,
   "metadata": {
    "ExecuteTime": {
     "end_time": "2019-12-08T23:30:08.391391Z",
     "start_time": "2019-12-08T23:30:08.375452Z"
    }
   },
   "outputs": [],
   "source": [
    "data_rolling['Temperature_Rolling_last_24hour'] = data_rolling['Temperature'].shift(1).rolling(window=24).mean()\n",
    "data_rolling.drop('Temperature', inplace = True, axis = 1)"
   ]
  },
  {
   "cell_type": "code",
   "execution_count": 127,
   "metadata": {
    "ExecuteTime": {
     "end_time": "2019-12-08T23:30:09.120865Z",
     "start_time": "2019-12-08T23:30:09.110562Z"
    }
   },
   "outputs": [
    {
     "data": {
      "text/html": [
       "<div>\n",
       "<style scoped>\n",
       "    .dataframe tbody tr th:only-of-type {\n",
       "        vertical-align: middle;\n",
       "    }\n",
       "\n",
       "    .dataframe tbody tr th {\n",
       "        vertical-align: top;\n",
       "    }\n",
       "\n",
       "    .dataframe thead th {\n",
       "        text-align: right;\n",
       "    }\n",
       "</style>\n",
       "<table border=\"1\" class=\"dataframe\">\n",
       "  <thead>\n",
       "    <tr style=\"text-align: right;\">\n",
       "      <th></th>\n",
       "      <th>DateTime</th>\n",
       "      <th>Month</th>\n",
       "      <th>Hour</th>\n",
       "      <th>Temperature_Rolling_last_24hour</th>\n",
       "    </tr>\n",
       "  </thead>\n",
       "  <tbody>\n",
       "    <tr>\n",
       "      <th>20</th>\n",
       "      <td>2008-01-01 21:00:00</td>\n",
       "      <td>1</td>\n",
       "      <td>21</td>\n",
       "      <td>NaN</td>\n",
       "    </tr>\n",
       "    <tr>\n",
       "      <th>21</th>\n",
       "      <td>2008-01-01 22:00:00</td>\n",
       "      <td>1</td>\n",
       "      <td>22</td>\n",
       "      <td>NaN</td>\n",
       "    </tr>\n",
       "    <tr>\n",
       "      <th>22</th>\n",
       "      <td>2008-01-01 23:00:00</td>\n",
       "      <td>1</td>\n",
       "      <td>23</td>\n",
       "      <td>NaN</td>\n",
       "    </tr>\n",
       "    <tr>\n",
       "      <th>23</th>\n",
       "      <td>2008-01-02 00:00:00</td>\n",
       "      <td>1</td>\n",
       "      <td>0</td>\n",
       "      <td>NaN</td>\n",
       "    </tr>\n",
       "    <tr>\n",
       "      <th>24</th>\n",
       "      <td>2008-01-02 01:00:00</td>\n",
       "      <td>1</td>\n",
       "      <td>1</td>\n",
       "      <td>17.415833</td>\n",
       "    </tr>\n",
       "    <tr>\n",
       "      <th>25</th>\n",
       "      <td>2008-01-02 02:00:00</td>\n",
       "      <td>1</td>\n",
       "      <td>2</td>\n",
       "      <td>16.499167</td>\n",
       "    </tr>\n",
       "    <tr>\n",
       "      <th>26</th>\n",
       "      <td>2008-01-02 03:00:00</td>\n",
       "      <td>1</td>\n",
       "      <td>3</td>\n",
       "      <td>15.610417</td>\n",
       "    </tr>\n",
       "    <tr>\n",
       "      <th>27</th>\n",
       "      <td>2008-01-02 04:00:00</td>\n",
       "      <td>1</td>\n",
       "      <td>4</td>\n",
       "      <td>14.735417</td>\n",
       "    </tr>\n",
       "    <tr>\n",
       "      <th>28</th>\n",
       "      <td>2008-01-02 05:00:00</td>\n",
       "      <td>1</td>\n",
       "      <td>5</td>\n",
       "      <td>13.874167</td>\n",
       "    </tr>\n",
       "    <tr>\n",
       "      <th>29</th>\n",
       "      <td>2008-01-02 06:00:00</td>\n",
       "      <td>1</td>\n",
       "      <td>6</td>\n",
       "      <td>13.040833</td>\n",
       "    </tr>\n",
       "    <tr>\n",
       "      <th>30</th>\n",
       "      <td>2008-01-02 07:00:00</td>\n",
       "      <td>1</td>\n",
       "      <td>7</td>\n",
       "      <td>12.207500</td>\n",
       "    </tr>\n",
       "    <tr>\n",
       "      <th>31</th>\n",
       "      <td>2008-01-02 08:00:00</td>\n",
       "      <td>1</td>\n",
       "      <td>8</td>\n",
       "      <td>11.471250</td>\n",
       "    </tr>\n",
       "    <tr>\n",
       "      <th>32</th>\n",
       "      <td>2008-01-02 09:00:00</td>\n",
       "      <td>1</td>\n",
       "      <td>9</td>\n",
       "      <td>10.804583</td>\n",
       "    </tr>\n",
       "    <tr>\n",
       "      <th>33</th>\n",
       "      <td>2008-01-02 10:00:00</td>\n",
       "      <td>1</td>\n",
       "      <td>10</td>\n",
       "      <td>10.221250</td>\n",
       "    </tr>\n",
       "    <tr>\n",
       "      <th>34</th>\n",
       "      <td>2008-01-02 11:00:00</td>\n",
       "      <td>1</td>\n",
       "      <td>11</td>\n",
       "      <td>9.762917</td>\n",
       "    </tr>\n",
       "    <tr>\n",
       "      <th>35</th>\n",
       "      <td>2008-01-02 12:00:00</td>\n",
       "      <td>1</td>\n",
       "      <td>12</td>\n",
       "      <td>9.485000</td>\n",
       "    </tr>\n",
       "    <tr>\n",
       "      <th>36</th>\n",
       "      <td>2008-01-02 13:00:00</td>\n",
       "      <td>1</td>\n",
       "      <td>13</td>\n",
       "      <td>9.304583</td>\n",
       "    </tr>\n",
       "    <tr>\n",
       "      <th>37</th>\n",
       "      <td>2008-01-02 14:00:00</td>\n",
       "      <td>1</td>\n",
       "      <td>14</td>\n",
       "      <td>9.193333</td>\n",
       "    </tr>\n",
       "    <tr>\n",
       "      <th>38</th>\n",
       "      <td>2008-01-02 15:00:00</td>\n",
       "      <td>1</td>\n",
       "      <td>15</td>\n",
       "      <td>9.137917</td>\n",
       "    </tr>\n",
       "    <tr>\n",
       "      <th>39</th>\n",
       "      <td>2008-01-02 16:00:00</td>\n",
       "      <td>1</td>\n",
       "      <td>16</td>\n",
       "      <td>9.124167</td>\n",
       "    </tr>\n",
       "  </tbody>\n",
       "</table>\n",
       "</div>"
      ],
      "text/plain": [
       "              DateTime  Month  Hour  Temperature_Rolling_last_24hour\n",
       "20 2008-01-01 21:00:00      1    21                              NaN\n",
       "21 2008-01-01 22:00:00      1    22                              NaN\n",
       "22 2008-01-01 23:00:00      1    23                              NaN\n",
       "23 2008-01-02 00:00:00      1     0                              NaN\n",
       "24 2008-01-02 01:00:00      1     1                        17.415833\n",
       "25 2008-01-02 02:00:00      1     2                        16.499167\n",
       "26 2008-01-02 03:00:00      1     3                        15.610417\n",
       "27 2008-01-02 04:00:00      1     4                        14.735417\n",
       "28 2008-01-02 05:00:00      1     5                        13.874167\n",
       "29 2008-01-02 06:00:00      1     6                        13.040833\n",
       "30 2008-01-02 07:00:00      1     7                        12.207500\n",
       "31 2008-01-02 08:00:00      1     8                        11.471250\n",
       "32 2008-01-02 09:00:00      1     9                        10.804583\n",
       "33 2008-01-02 10:00:00      1    10                        10.221250\n",
       "34 2008-01-02 11:00:00      1    11                         9.762917\n",
       "35 2008-01-02 12:00:00      1    12                         9.485000\n",
       "36 2008-01-02 13:00:00      1    13                         9.304583\n",
       "37 2008-01-02 14:00:00      1    14                         9.193333\n",
       "38 2008-01-02 15:00:00      1    15                         9.137917\n",
       "39 2008-01-02 16:00:00      1    16                         9.124167"
      ]
     },
     "execution_count": 127,
     "metadata": {},
     "output_type": "execute_result"
    }
   ],
   "source": [
    "data_rolling.iloc[20:40, :]"
   ]
  },
  {
   "cell_type": "code",
   "execution_count": 128,
   "metadata": {
    "ExecuteTime": {
     "end_time": "2019-12-08T23:30:11.545157Z",
     "start_time": "2019-12-08T23:30:11.520780Z"
    }
   },
   "outputs": [],
   "source": [
    "base_data = yt(0, data_yt)"
   ]
  },
  {
   "cell_type": "code",
   "execution_count": 129,
   "metadata": {
    "ExecuteTime": {
     "end_time": "2019-12-08T23:30:12.223869Z",
     "start_time": "2019-12-08T23:30:12.214555Z"
    }
   },
   "outputs": [
    {
     "data": {
      "text/html": [
       "<div>\n",
       "<style scoped>\n",
       "    .dataframe tbody tr th:only-of-type {\n",
       "        vertical-align: middle;\n",
       "    }\n",
       "\n",
       "    .dataframe tbody tr th {\n",
       "        vertical-align: top;\n",
       "    }\n",
       "\n",
       "    .dataframe thead th {\n",
       "        text-align: right;\n",
       "    }\n",
       "</style>\n",
       "<table border=\"1\" class=\"dataframe\">\n",
       "  <thead>\n",
       "    <tr style=\"text-align: right;\">\n",
       "      <th></th>\n",
       "      <th>Load</th>\n",
       "      <th>Trend</th>\n",
       "      <th>Month</th>\n",
       "      <th>Week</th>\n",
       "      <th>Hour</th>\n",
       "      <th>Week_Hour</th>\n",
       "    </tr>\n",
       "  </thead>\n",
       "  <tbody>\n",
       "    <tr>\n",
       "      <th>0</th>\n",
       "      <td>10737.0</td>\n",
       "      <td>0</td>\n",
       "      <td>1</td>\n",
       "      <td>1</td>\n",
       "      <td>1</td>\n",
       "      <td>1</td>\n",
       "    </tr>\n",
       "    <tr>\n",
       "      <th>1</th>\n",
       "      <td>10348.0</td>\n",
       "      <td>1</td>\n",
       "      <td>1</td>\n",
       "      <td>1</td>\n",
       "      <td>2</td>\n",
       "      <td>2</td>\n",
       "    </tr>\n",
       "    <tr>\n",
       "      <th>2</th>\n",
       "      <td>9997.0</td>\n",
       "      <td>2</td>\n",
       "      <td>1</td>\n",
       "      <td>1</td>\n",
       "      <td>3</td>\n",
       "      <td>3</td>\n",
       "    </tr>\n",
       "    <tr>\n",
       "      <th>3</th>\n",
       "      <td>9760.0</td>\n",
       "      <td>3</td>\n",
       "      <td>1</td>\n",
       "      <td>1</td>\n",
       "      <td>4</td>\n",
       "      <td>4</td>\n",
       "    </tr>\n",
       "    <tr>\n",
       "      <th>4</th>\n",
       "      <td>9624.0</td>\n",
       "      <td>4</td>\n",
       "      <td>1</td>\n",
       "      <td>1</td>\n",
       "      <td>5</td>\n",
       "      <td>5</td>\n",
       "    </tr>\n",
       "  </tbody>\n",
       "</table>\n",
       "</div>"
      ],
      "text/plain": [
       "      Load  Trend  Month  Week  Hour  Week_Hour\n",
       "0  10737.0      0      1     1     1          1\n",
       "1  10348.0      1      1     1     2          2\n",
       "2   9997.0      2      1     1     3          3\n",
       "3   9760.0      3      1     1     4          4\n",
       "4   9624.0      4      1     1     5          5"
      ]
     },
     "execution_count": 129,
     "metadata": {},
     "output_type": "execute_result"
    }
   ],
   "source": [
    "base_data.head()"
   ]
  },
  {
   "cell_type": "code",
   "execution_count": 130,
   "metadata": {
    "ExecuteTime": {
     "end_time": "2019-12-08T23:30:14.002589Z",
     "start_time": "2019-12-08T23:30:13.998757Z"
    }
   },
   "outputs": [],
   "source": [
    "X_build_model = base_data[:]"
   ]
  },
  {
   "cell_type": "code",
   "execution_count": 131,
   "metadata": {
    "ExecuteTime": {
     "end_time": "2019-12-08T23:30:28.802327Z",
     "start_time": "2019-12-08T23:30:14.458844Z"
    }
   },
   "outputs": [],
   "source": [
    "for h in range(73):\n",
    "    lag_h = fofT('Temperature', h, data_fofT)\n",
    "    X_build_model = pd.concat([X_build_model, lag_h], axis = 1)"
   ]
  },
  {
   "cell_type": "code",
   "execution_count": 132,
   "metadata": {
    "ExecuteTime": {
     "end_time": "2019-12-08T23:30:31.544941Z",
     "start_time": "2019-12-08T23:30:28.803980Z"
    }
   },
   "outputs": [],
   "source": [
    "for day in range(1, 8):\n",
    "    lag_day = fofT('Temperature_Rolling_last_24hour', (day-1) * 24, data_rolling)\n",
    "    X_build_model = pd.concat([X_build_model, lag_day], axis = 1)"
   ]
  },
  {
   "cell_type": "code",
   "execution_count": 133,
   "metadata": {
    "ExecuteTime": {
     "end_time": "2019-12-08T23:30:31.556403Z",
     "start_time": "2019-12-08T23:30:31.546476Z"
    }
   },
   "outputs": [
    {
     "data": {
      "text/plain": [
       "['Load',\n",
       " 'Trend',\n",
       " 'Month',\n",
       " 'Week',\n",
       " 'Hour',\n",
       " 'Week_Hour',\n",
       " 'Lag_0_Temperature',\n",
       " 'Lag_0_Temperature_2',\n",
       " 'Lag_0_Temperature_3',\n",
       " 'Lag_0_Temperature_Month',\n",
       " 'Lag_0_Temperature_2_Month',\n",
       " 'Lag_0_Temperature_3_Month',\n",
       " 'Lag_0_Temperature_Hour',\n",
       " 'Lag_0_Temperature_2_Hour',\n",
       " 'Lag_0_Temperature_3_Hour',\n",
       " 'Lag_1_Temperature',\n",
       " 'Lag_1_Temperature_2',\n",
       " 'Lag_1_Temperature_3',\n",
       " 'Lag_1_Temperature_Month',\n",
       " 'Lag_1_Temperature_2_Month',\n",
       " 'Lag_1_Temperature_3_Month',\n",
       " 'Lag_1_Temperature_Hour',\n",
       " 'Lag_1_Temperature_2_Hour',\n",
       " 'Lag_1_Temperature_3_Hour',\n",
       " 'Lag_2_Temperature',\n",
       " 'Lag_2_Temperature_2',\n",
       " 'Lag_2_Temperature_3',\n",
       " 'Lag_2_Temperature_Month',\n",
       " 'Lag_2_Temperature_2_Month',\n",
       " 'Lag_2_Temperature_3_Month',\n",
       " 'Lag_2_Temperature_Hour',\n",
       " 'Lag_2_Temperature_2_Hour',\n",
       " 'Lag_2_Temperature_3_Hour',\n",
       " 'Lag_3_Temperature',\n",
       " 'Lag_3_Temperature_2',\n",
       " 'Lag_3_Temperature_3',\n",
       " 'Lag_3_Temperature_Month',\n",
       " 'Lag_3_Temperature_2_Month',\n",
       " 'Lag_3_Temperature_3_Month',\n",
       " 'Lag_3_Temperature_Hour',\n",
       " 'Lag_3_Temperature_2_Hour',\n",
       " 'Lag_3_Temperature_3_Hour',\n",
       " 'Lag_4_Temperature',\n",
       " 'Lag_4_Temperature_2',\n",
       " 'Lag_4_Temperature_3',\n",
       " 'Lag_4_Temperature_Month',\n",
       " 'Lag_4_Temperature_2_Month',\n",
       " 'Lag_4_Temperature_3_Month',\n",
       " 'Lag_4_Temperature_Hour',\n",
       " 'Lag_4_Temperature_2_Hour',\n",
       " 'Lag_4_Temperature_3_Hour',\n",
       " 'Lag_5_Temperature',\n",
       " 'Lag_5_Temperature_2',\n",
       " 'Lag_5_Temperature_3',\n",
       " 'Lag_5_Temperature_Month',\n",
       " 'Lag_5_Temperature_2_Month',\n",
       " 'Lag_5_Temperature_3_Month',\n",
       " 'Lag_5_Temperature_Hour',\n",
       " 'Lag_5_Temperature_2_Hour',\n",
       " 'Lag_5_Temperature_3_Hour',\n",
       " 'Lag_6_Temperature',\n",
       " 'Lag_6_Temperature_2',\n",
       " 'Lag_6_Temperature_3',\n",
       " 'Lag_6_Temperature_Month',\n",
       " 'Lag_6_Temperature_2_Month',\n",
       " 'Lag_6_Temperature_3_Month',\n",
       " 'Lag_6_Temperature_Hour',\n",
       " 'Lag_6_Temperature_2_Hour',\n",
       " 'Lag_6_Temperature_3_Hour',\n",
       " 'Lag_7_Temperature',\n",
       " 'Lag_7_Temperature_2',\n",
       " 'Lag_7_Temperature_3',\n",
       " 'Lag_7_Temperature_Month',\n",
       " 'Lag_7_Temperature_2_Month',\n",
       " 'Lag_7_Temperature_3_Month',\n",
       " 'Lag_7_Temperature_Hour',\n",
       " 'Lag_7_Temperature_2_Hour',\n",
       " 'Lag_7_Temperature_3_Hour',\n",
       " 'Lag_8_Temperature',\n",
       " 'Lag_8_Temperature_2',\n",
       " 'Lag_8_Temperature_3',\n",
       " 'Lag_8_Temperature_Month',\n",
       " 'Lag_8_Temperature_2_Month',\n",
       " 'Lag_8_Temperature_3_Month',\n",
       " 'Lag_8_Temperature_Hour',\n",
       " 'Lag_8_Temperature_2_Hour',\n",
       " 'Lag_8_Temperature_3_Hour',\n",
       " 'Lag_9_Temperature',\n",
       " 'Lag_9_Temperature_2',\n",
       " 'Lag_9_Temperature_3',\n",
       " 'Lag_9_Temperature_Month',\n",
       " 'Lag_9_Temperature_2_Month',\n",
       " 'Lag_9_Temperature_3_Month',\n",
       " 'Lag_9_Temperature_Hour',\n",
       " 'Lag_9_Temperature_2_Hour',\n",
       " 'Lag_9_Temperature_3_Hour',\n",
       " 'Lag_10_Temperature',\n",
       " 'Lag_10_Temperature_2',\n",
       " 'Lag_10_Temperature_3',\n",
       " 'Lag_10_Temperature_Month',\n",
       " 'Lag_10_Temperature_2_Month',\n",
       " 'Lag_10_Temperature_3_Month',\n",
       " 'Lag_10_Temperature_Hour',\n",
       " 'Lag_10_Temperature_2_Hour',\n",
       " 'Lag_10_Temperature_3_Hour',\n",
       " 'Lag_11_Temperature',\n",
       " 'Lag_11_Temperature_2',\n",
       " 'Lag_11_Temperature_3',\n",
       " 'Lag_11_Temperature_Month',\n",
       " 'Lag_11_Temperature_2_Month',\n",
       " 'Lag_11_Temperature_3_Month',\n",
       " 'Lag_11_Temperature_Hour',\n",
       " 'Lag_11_Temperature_2_Hour',\n",
       " 'Lag_11_Temperature_3_Hour',\n",
       " 'Lag_12_Temperature',\n",
       " 'Lag_12_Temperature_2',\n",
       " 'Lag_12_Temperature_3',\n",
       " 'Lag_12_Temperature_Month',\n",
       " 'Lag_12_Temperature_2_Month',\n",
       " 'Lag_12_Temperature_3_Month',\n",
       " 'Lag_12_Temperature_Hour',\n",
       " 'Lag_12_Temperature_2_Hour',\n",
       " 'Lag_12_Temperature_3_Hour',\n",
       " 'Lag_13_Temperature',\n",
       " 'Lag_13_Temperature_2',\n",
       " 'Lag_13_Temperature_3',\n",
       " 'Lag_13_Temperature_Month',\n",
       " 'Lag_13_Temperature_2_Month',\n",
       " 'Lag_13_Temperature_3_Month',\n",
       " 'Lag_13_Temperature_Hour',\n",
       " 'Lag_13_Temperature_2_Hour',\n",
       " 'Lag_13_Temperature_3_Hour',\n",
       " 'Lag_14_Temperature',\n",
       " 'Lag_14_Temperature_2',\n",
       " 'Lag_14_Temperature_3',\n",
       " 'Lag_14_Temperature_Month',\n",
       " 'Lag_14_Temperature_2_Month',\n",
       " 'Lag_14_Temperature_3_Month',\n",
       " 'Lag_14_Temperature_Hour',\n",
       " 'Lag_14_Temperature_2_Hour',\n",
       " 'Lag_14_Temperature_3_Hour',\n",
       " 'Lag_15_Temperature',\n",
       " 'Lag_15_Temperature_2',\n",
       " 'Lag_15_Temperature_3',\n",
       " 'Lag_15_Temperature_Month',\n",
       " 'Lag_15_Temperature_2_Month',\n",
       " 'Lag_15_Temperature_3_Month',\n",
       " 'Lag_15_Temperature_Hour',\n",
       " 'Lag_15_Temperature_2_Hour',\n",
       " 'Lag_15_Temperature_3_Hour',\n",
       " 'Lag_16_Temperature',\n",
       " 'Lag_16_Temperature_2',\n",
       " 'Lag_16_Temperature_3',\n",
       " 'Lag_16_Temperature_Month',\n",
       " 'Lag_16_Temperature_2_Month',\n",
       " 'Lag_16_Temperature_3_Month',\n",
       " 'Lag_16_Temperature_Hour',\n",
       " 'Lag_16_Temperature_2_Hour',\n",
       " 'Lag_16_Temperature_3_Hour',\n",
       " 'Lag_17_Temperature',\n",
       " 'Lag_17_Temperature_2',\n",
       " 'Lag_17_Temperature_3',\n",
       " 'Lag_17_Temperature_Month',\n",
       " 'Lag_17_Temperature_2_Month',\n",
       " 'Lag_17_Temperature_3_Month',\n",
       " 'Lag_17_Temperature_Hour',\n",
       " 'Lag_17_Temperature_2_Hour',\n",
       " 'Lag_17_Temperature_3_Hour',\n",
       " 'Lag_18_Temperature',\n",
       " 'Lag_18_Temperature_2',\n",
       " 'Lag_18_Temperature_3',\n",
       " 'Lag_18_Temperature_Month',\n",
       " 'Lag_18_Temperature_2_Month',\n",
       " 'Lag_18_Temperature_3_Month',\n",
       " 'Lag_18_Temperature_Hour',\n",
       " 'Lag_18_Temperature_2_Hour',\n",
       " 'Lag_18_Temperature_3_Hour',\n",
       " 'Lag_19_Temperature',\n",
       " 'Lag_19_Temperature_2',\n",
       " 'Lag_19_Temperature_3',\n",
       " 'Lag_19_Temperature_Month',\n",
       " 'Lag_19_Temperature_2_Month',\n",
       " 'Lag_19_Temperature_3_Month',\n",
       " 'Lag_19_Temperature_Hour',\n",
       " 'Lag_19_Temperature_2_Hour',\n",
       " 'Lag_19_Temperature_3_Hour',\n",
       " 'Lag_20_Temperature',\n",
       " 'Lag_20_Temperature_2',\n",
       " 'Lag_20_Temperature_3',\n",
       " 'Lag_20_Temperature_Month',\n",
       " 'Lag_20_Temperature_2_Month',\n",
       " 'Lag_20_Temperature_3_Month',\n",
       " 'Lag_20_Temperature_Hour',\n",
       " 'Lag_20_Temperature_2_Hour',\n",
       " 'Lag_20_Temperature_3_Hour',\n",
       " 'Lag_21_Temperature',\n",
       " 'Lag_21_Temperature_2',\n",
       " 'Lag_21_Temperature_3',\n",
       " 'Lag_21_Temperature_Month',\n",
       " 'Lag_21_Temperature_2_Month',\n",
       " 'Lag_21_Temperature_3_Month',\n",
       " 'Lag_21_Temperature_Hour',\n",
       " 'Lag_21_Temperature_2_Hour',\n",
       " 'Lag_21_Temperature_3_Hour',\n",
       " 'Lag_22_Temperature',\n",
       " 'Lag_22_Temperature_2',\n",
       " 'Lag_22_Temperature_3',\n",
       " 'Lag_22_Temperature_Month',\n",
       " 'Lag_22_Temperature_2_Month',\n",
       " 'Lag_22_Temperature_3_Month',\n",
       " 'Lag_22_Temperature_Hour',\n",
       " 'Lag_22_Temperature_2_Hour',\n",
       " 'Lag_22_Temperature_3_Hour',\n",
       " 'Lag_23_Temperature',\n",
       " 'Lag_23_Temperature_2',\n",
       " 'Lag_23_Temperature_3',\n",
       " 'Lag_23_Temperature_Month',\n",
       " 'Lag_23_Temperature_2_Month',\n",
       " 'Lag_23_Temperature_3_Month',\n",
       " 'Lag_23_Temperature_Hour',\n",
       " 'Lag_23_Temperature_2_Hour',\n",
       " 'Lag_23_Temperature_3_Hour',\n",
       " 'Lag_24_Temperature',\n",
       " 'Lag_24_Temperature_2',\n",
       " 'Lag_24_Temperature_3',\n",
       " 'Lag_24_Temperature_Month',\n",
       " 'Lag_24_Temperature_2_Month',\n",
       " 'Lag_24_Temperature_3_Month',\n",
       " 'Lag_24_Temperature_Hour',\n",
       " 'Lag_24_Temperature_2_Hour',\n",
       " 'Lag_24_Temperature_3_Hour',\n",
       " 'Lag_25_Temperature',\n",
       " 'Lag_25_Temperature_2',\n",
       " 'Lag_25_Temperature_3',\n",
       " 'Lag_25_Temperature_Month',\n",
       " 'Lag_25_Temperature_2_Month',\n",
       " 'Lag_25_Temperature_3_Month',\n",
       " 'Lag_25_Temperature_Hour',\n",
       " 'Lag_25_Temperature_2_Hour',\n",
       " 'Lag_25_Temperature_3_Hour',\n",
       " 'Lag_26_Temperature',\n",
       " 'Lag_26_Temperature_2',\n",
       " 'Lag_26_Temperature_3',\n",
       " 'Lag_26_Temperature_Month',\n",
       " 'Lag_26_Temperature_2_Month',\n",
       " 'Lag_26_Temperature_3_Month',\n",
       " 'Lag_26_Temperature_Hour',\n",
       " 'Lag_26_Temperature_2_Hour',\n",
       " 'Lag_26_Temperature_3_Hour',\n",
       " 'Lag_27_Temperature',\n",
       " 'Lag_27_Temperature_2',\n",
       " 'Lag_27_Temperature_3',\n",
       " 'Lag_27_Temperature_Month',\n",
       " 'Lag_27_Temperature_2_Month',\n",
       " 'Lag_27_Temperature_3_Month',\n",
       " 'Lag_27_Temperature_Hour',\n",
       " 'Lag_27_Temperature_2_Hour',\n",
       " 'Lag_27_Temperature_3_Hour',\n",
       " 'Lag_28_Temperature',\n",
       " 'Lag_28_Temperature_2',\n",
       " 'Lag_28_Temperature_3',\n",
       " 'Lag_28_Temperature_Month',\n",
       " 'Lag_28_Temperature_2_Month',\n",
       " 'Lag_28_Temperature_3_Month',\n",
       " 'Lag_28_Temperature_Hour',\n",
       " 'Lag_28_Temperature_2_Hour',\n",
       " 'Lag_28_Temperature_3_Hour',\n",
       " 'Lag_29_Temperature',\n",
       " 'Lag_29_Temperature_2',\n",
       " 'Lag_29_Temperature_3',\n",
       " 'Lag_29_Temperature_Month',\n",
       " 'Lag_29_Temperature_2_Month',\n",
       " 'Lag_29_Temperature_3_Month',\n",
       " 'Lag_29_Temperature_Hour',\n",
       " 'Lag_29_Temperature_2_Hour',\n",
       " 'Lag_29_Temperature_3_Hour',\n",
       " 'Lag_30_Temperature',\n",
       " 'Lag_30_Temperature_2',\n",
       " 'Lag_30_Temperature_3',\n",
       " 'Lag_30_Temperature_Month',\n",
       " 'Lag_30_Temperature_2_Month',\n",
       " 'Lag_30_Temperature_3_Month',\n",
       " 'Lag_30_Temperature_Hour',\n",
       " 'Lag_30_Temperature_2_Hour',\n",
       " 'Lag_30_Temperature_3_Hour',\n",
       " 'Lag_31_Temperature',\n",
       " 'Lag_31_Temperature_2',\n",
       " 'Lag_31_Temperature_3',\n",
       " 'Lag_31_Temperature_Month',\n",
       " 'Lag_31_Temperature_2_Month',\n",
       " 'Lag_31_Temperature_3_Month',\n",
       " 'Lag_31_Temperature_Hour',\n",
       " 'Lag_31_Temperature_2_Hour',\n",
       " 'Lag_31_Temperature_3_Hour',\n",
       " 'Lag_32_Temperature',\n",
       " 'Lag_32_Temperature_2',\n",
       " 'Lag_32_Temperature_3',\n",
       " 'Lag_32_Temperature_Month',\n",
       " 'Lag_32_Temperature_2_Month',\n",
       " 'Lag_32_Temperature_3_Month',\n",
       " 'Lag_32_Temperature_Hour',\n",
       " 'Lag_32_Temperature_2_Hour',\n",
       " 'Lag_32_Temperature_3_Hour',\n",
       " 'Lag_33_Temperature',\n",
       " 'Lag_33_Temperature_2',\n",
       " 'Lag_33_Temperature_3',\n",
       " 'Lag_33_Temperature_Month',\n",
       " 'Lag_33_Temperature_2_Month',\n",
       " 'Lag_33_Temperature_3_Month',\n",
       " 'Lag_33_Temperature_Hour',\n",
       " 'Lag_33_Temperature_2_Hour',\n",
       " 'Lag_33_Temperature_3_Hour',\n",
       " 'Lag_34_Temperature',\n",
       " 'Lag_34_Temperature_2',\n",
       " 'Lag_34_Temperature_3',\n",
       " 'Lag_34_Temperature_Month',\n",
       " 'Lag_34_Temperature_2_Month',\n",
       " 'Lag_34_Temperature_3_Month',\n",
       " 'Lag_34_Temperature_Hour',\n",
       " 'Lag_34_Temperature_2_Hour',\n",
       " 'Lag_34_Temperature_3_Hour',\n",
       " 'Lag_35_Temperature',\n",
       " 'Lag_35_Temperature_2',\n",
       " 'Lag_35_Temperature_3',\n",
       " 'Lag_35_Temperature_Month',\n",
       " 'Lag_35_Temperature_2_Month',\n",
       " 'Lag_35_Temperature_3_Month',\n",
       " 'Lag_35_Temperature_Hour',\n",
       " 'Lag_35_Temperature_2_Hour',\n",
       " 'Lag_35_Temperature_3_Hour',\n",
       " 'Lag_36_Temperature',\n",
       " 'Lag_36_Temperature_2',\n",
       " 'Lag_36_Temperature_3',\n",
       " 'Lag_36_Temperature_Month',\n",
       " 'Lag_36_Temperature_2_Month',\n",
       " 'Lag_36_Temperature_3_Month',\n",
       " 'Lag_36_Temperature_Hour',\n",
       " 'Lag_36_Temperature_2_Hour',\n",
       " 'Lag_36_Temperature_3_Hour',\n",
       " 'Lag_37_Temperature',\n",
       " 'Lag_37_Temperature_2',\n",
       " 'Lag_37_Temperature_3',\n",
       " 'Lag_37_Temperature_Month',\n",
       " 'Lag_37_Temperature_2_Month',\n",
       " 'Lag_37_Temperature_3_Month',\n",
       " 'Lag_37_Temperature_Hour',\n",
       " 'Lag_37_Temperature_2_Hour',\n",
       " 'Lag_37_Temperature_3_Hour',\n",
       " 'Lag_38_Temperature',\n",
       " 'Lag_38_Temperature_2',\n",
       " 'Lag_38_Temperature_3',\n",
       " 'Lag_38_Temperature_Month',\n",
       " 'Lag_38_Temperature_2_Month',\n",
       " 'Lag_38_Temperature_3_Month',\n",
       " 'Lag_38_Temperature_Hour',\n",
       " 'Lag_38_Temperature_2_Hour',\n",
       " 'Lag_38_Temperature_3_Hour',\n",
       " 'Lag_39_Temperature',\n",
       " 'Lag_39_Temperature_2',\n",
       " 'Lag_39_Temperature_3',\n",
       " 'Lag_39_Temperature_Month',\n",
       " 'Lag_39_Temperature_2_Month',\n",
       " 'Lag_39_Temperature_3_Month',\n",
       " 'Lag_39_Temperature_Hour',\n",
       " 'Lag_39_Temperature_2_Hour',\n",
       " 'Lag_39_Temperature_3_Hour',\n",
       " 'Lag_40_Temperature',\n",
       " 'Lag_40_Temperature_2',\n",
       " 'Lag_40_Temperature_3',\n",
       " 'Lag_40_Temperature_Month',\n",
       " 'Lag_40_Temperature_2_Month',\n",
       " 'Lag_40_Temperature_3_Month',\n",
       " 'Lag_40_Temperature_Hour',\n",
       " 'Lag_40_Temperature_2_Hour',\n",
       " 'Lag_40_Temperature_3_Hour',\n",
       " 'Lag_41_Temperature',\n",
       " 'Lag_41_Temperature_2',\n",
       " 'Lag_41_Temperature_3',\n",
       " 'Lag_41_Temperature_Month',\n",
       " 'Lag_41_Temperature_2_Month',\n",
       " 'Lag_41_Temperature_3_Month',\n",
       " 'Lag_41_Temperature_Hour',\n",
       " 'Lag_41_Temperature_2_Hour',\n",
       " 'Lag_41_Temperature_3_Hour',\n",
       " 'Lag_42_Temperature',\n",
       " 'Lag_42_Temperature_2',\n",
       " 'Lag_42_Temperature_3',\n",
       " 'Lag_42_Temperature_Month',\n",
       " 'Lag_42_Temperature_2_Month',\n",
       " 'Lag_42_Temperature_3_Month',\n",
       " 'Lag_42_Temperature_Hour',\n",
       " 'Lag_42_Temperature_2_Hour',\n",
       " 'Lag_42_Temperature_3_Hour',\n",
       " 'Lag_43_Temperature',\n",
       " 'Lag_43_Temperature_2',\n",
       " 'Lag_43_Temperature_3',\n",
       " 'Lag_43_Temperature_Month',\n",
       " 'Lag_43_Temperature_2_Month',\n",
       " 'Lag_43_Temperature_3_Month',\n",
       " 'Lag_43_Temperature_Hour',\n",
       " 'Lag_43_Temperature_2_Hour',\n",
       " 'Lag_43_Temperature_3_Hour',\n",
       " 'Lag_44_Temperature',\n",
       " 'Lag_44_Temperature_2',\n",
       " 'Lag_44_Temperature_3',\n",
       " 'Lag_44_Temperature_Month',\n",
       " 'Lag_44_Temperature_2_Month',\n",
       " 'Lag_44_Temperature_3_Month',\n",
       " 'Lag_44_Temperature_Hour',\n",
       " 'Lag_44_Temperature_2_Hour',\n",
       " 'Lag_44_Temperature_3_Hour',\n",
       " 'Lag_45_Temperature',\n",
       " 'Lag_45_Temperature_2',\n",
       " 'Lag_45_Temperature_3',\n",
       " 'Lag_45_Temperature_Month',\n",
       " 'Lag_45_Temperature_2_Month',\n",
       " 'Lag_45_Temperature_3_Month',\n",
       " 'Lag_45_Temperature_Hour',\n",
       " 'Lag_45_Temperature_2_Hour',\n",
       " 'Lag_45_Temperature_3_Hour',\n",
       " 'Lag_46_Temperature',\n",
       " 'Lag_46_Temperature_2',\n",
       " 'Lag_46_Temperature_3',\n",
       " 'Lag_46_Temperature_Month',\n",
       " 'Lag_46_Temperature_2_Month',\n",
       " 'Lag_46_Temperature_3_Month',\n",
       " 'Lag_46_Temperature_Hour',\n",
       " 'Lag_46_Temperature_2_Hour',\n",
       " 'Lag_46_Temperature_3_Hour',\n",
       " 'Lag_47_Temperature',\n",
       " 'Lag_47_Temperature_2',\n",
       " 'Lag_47_Temperature_3',\n",
       " 'Lag_47_Temperature_Month',\n",
       " 'Lag_47_Temperature_2_Month',\n",
       " 'Lag_47_Temperature_3_Month',\n",
       " 'Lag_47_Temperature_Hour',\n",
       " 'Lag_47_Temperature_2_Hour',\n",
       " 'Lag_47_Temperature_3_Hour',\n",
       " 'Lag_48_Temperature',\n",
       " 'Lag_48_Temperature_2',\n",
       " 'Lag_48_Temperature_3',\n",
       " 'Lag_48_Temperature_Month',\n",
       " 'Lag_48_Temperature_2_Month',\n",
       " 'Lag_48_Temperature_3_Month',\n",
       " 'Lag_48_Temperature_Hour',\n",
       " 'Lag_48_Temperature_2_Hour',\n",
       " 'Lag_48_Temperature_3_Hour',\n",
       " 'Lag_49_Temperature',\n",
       " 'Lag_49_Temperature_2',\n",
       " 'Lag_49_Temperature_3',\n",
       " 'Lag_49_Temperature_Month',\n",
       " 'Lag_49_Temperature_2_Month',\n",
       " 'Lag_49_Temperature_3_Month',\n",
       " 'Lag_49_Temperature_Hour',\n",
       " 'Lag_49_Temperature_2_Hour',\n",
       " 'Lag_49_Temperature_3_Hour',\n",
       " 'Lag_50_Temperature',\n",
       " 'Lag_50_Temperature_2',\n",
       " 'Lag_50_Temperature_3',\n",
       " 'Lag_50_Temperature_Month',\n",
       " 'Lag_50_Temperature_2_Month',\n",
       " 'Lag_50_Temperature_3_Month',\n",
       " 'Lag_50_Temperature_Hour',\n",
       " 'Lag_50_Temperature_2_Hour',\n",
       " 'Lag_50_Temperature_3_Hour',\n",
       " 'Lag_51_Temperature',\n",
       " 'Lag_51_Temperature_2',\n",
       " 'Lag_51_Temperature_3',\n",
       " 'Lag_51_Temperature_Month',\n",
       " 'Lag_51_Temperature_2_Month',\n",
       " 'Lag_51_Temperature_3_Month',\n",
       " 'Lag_51_Temperature_Hour',\n",
       " 'Lag_51_Temperature_2_Hour',\n",
       " 'Lag_51_Temperature_3_Hour',\n",
       " 'Lag_52_Temperature',\n",
       " 'Lag_52_Temperature_2',\n",
       " 'Lag_52_Temperature_3',\n",
       " 'Lag_52_Temperature_Month',\n",
       " 'Lag_52_Temperature_2_Month',\n",
       " 'Lag_52_Temperature_3_Month',\n",
       " 'Lag_52_Temperature_Hour',\n",
       " 'Lag_52_Temperature_2_Hour',\n",
       " 'Lag_52_Temperature_3_Hour',\n",
       " 'Lag_53_Temperature',\n",
       " 'Lag_53_Temperature_2',\n",
       " 'Lag_53_Temperature_3',\n",
       " 'Lag_53_Temperature_Month',\n",
       " 'Lag_53_Temperature_2_Month',\n",
       " 'Lag_53_Temperature_3_Month',\n",
       " 'Lag_53_Temperature_Hour',\n",
       " 'Lag_53_Temperature_2_Hour',\n",
       " 'Lag_53_Temperature_3_Hour',\n",
       " 'Lag_54_Temperature',\n",
       " 'Lag_54_Temperature_2',\n",
       " 'Lag_54_Temperature_3',\n",
       " 'Lag_54_Temperature_Month',\n",
       " 'Lag_54_Temperature_2_Month',\n",
       " 'Lag_54_Temperature_3_Month',\n",
       " 'Lag_54_Temperature_Hour',\n",
       " 'Lag_54_Temperature_2_Hour',\n",
       " 'Lag_54_Temperature_3_Hour',\n",
       " 'Lag_55_Temperature',\n",
       " 'Lag_55_Temperature_2',\n",
       " 'Lag_55_Temperature_3',\n",
       " 'Lag_55_Temperature_Month',\n",
       " 'Lag_55_Temperature_2_Month',\n",
       " 'Lag_55_Temperature_3_Month',\n",
       " 'Lag_55_Temperature_Hour',\n",
       " 'Lag_55_Temperature_2_Hour',\n",
       " 'Lag_55_Temperature_3_Hour',\n",
       " 'Lag_56_Temperature',\n",
       " 'Lag_56_Temperature_2',\n",
       " 'Lag_56_Temperature_3',\n",
       " 'Lag_56_Temperature_Month',\n",
       " 'Lag_56_Temperature_2_Month',\n",
       " 'Lag_56_Temperature_3_Month',\n",
       " 'Lag_56_Temperature_Hour',\n",
       " 'Lag_56_Temperature_2_Hour',\n",
       " 'Lag_56_Temperature_3_Hour',\n",
       " 'Lag_57_Temperature',\n",
       " 'Lag_57_Temperature_2',\n",
       " 'Lag_57_Temperature_3',\n",
       " 'Lag_57_Temperature_Month',\n",
       " 'Lag_57_Temperature_2_Month',\n",
       " 'Lag_57_Temperature_3_Month',\n",
       " 'Lag_57_Temperature_Hour',\n",
       " 'Lag_57_Temperature_2_Hour',\n",
       " 'Lag_57_Temperature_3_Hour',\n",
       " 'Lag_58_Temperature',\n",
       " 'Lag_58_Temperature_2',\n",
       " 'Lag_58_Temperature_3',\n",
       " 'Lag_58_Temperature_Month',\n",
       " 'Lag_58_Temperature_2_Month',\n",
       " 'Lag_58_Temperature_3_Month',\n",
       " 'Lag_58_Temperature_Hour',\n",
       " 'Lag_58_Temperature_2_Hour',\n",
       " 'Lag_58_Temperature_3_Hour',\n",
       " 'Lag_59_Temperature',\n",
       " 'Lag_59_Temperature_2',\n",
       " 'Lag_59_Temperature_3',\n",
       " 'Lag_59_Temperature_Month',\n",
       " 'Lag_59_Temperature_2_Month',\n",
       " 'Lag_59_Temperature_3_Month',\n",
       " 'Lag_59_Temperature_Hour',\n",
       " 'Lag_59_Temperature_2_Hour',\n",
       " 'Lag_59_Temperature_3_Hour',\n",
       " 'Lag_60_Temperature',\n",
       " 'Lag_60_Temperature_2',\n",
       " 'Lag_60_Temperature_3',\n",
       " 'Lag_60_Temperature_Month',\n",
       " 'Lag_60_Temperature_2_Month',\n",
       " 'Lag_60_Temperature_3_Month',\n",
       " 'Lag_60_Temperature_Hour',\n",
       " 'Lag_60_Temperature_2_Hour',\n",
       " 'Lag_60_Temperature_3_Hour',\n",
       " 'Lag_61_Temperature',\n",
       " 'Lag_61_Temperature_2',\n",
       " 'Lag_61_Temperature_3',\n",
       " 'Lag_61_Temperature_Month',\n",
       " 'Lag_61_Temperature_2_Month',\n",
       " 'Lag_61_Temperature_3_Month',\n",
       " 'Lag_61_Temperature_Hour',\n",
       " 'Lag_61_Temperature_2_Hour',\n",
       " 'Lag_61_Temperature_3_Hour',\n",
       " 'Lag_62_Temperature',\n",
       " 'Lag_62_Temperature_2',\n",
       " 'Lag_62_Temperature_3',\n",
       " 'Lag_62_Temperature_Month',\n",
       " 'Lag_62_Temperature_2_Month',\n",
       " 'Lag_62_Temperature_3_Month',\n",
       " 'Lag_62_Temperature_Hour',\n",
       " 'Lag_62_Temperature_2_Hour',\n",
       " 'Lag_62_Temperature_3_Hour',\n",
       " 'Lag_63_Temperature',\n",
       " 'Lag_63_Temperature_2',\n",
       " 'Lag_63_Temperature_3',\n",
       " 'Lag_63_Temperature_Month',\n",
       " 'Lag_63_Temperature_2_Month',\n",
       " 'Lag_63_Temperature_3_Month',\n",
       " 'Lag_63_Temperature_Hour',\n",
       " 'Lag_63_Temperature_2_Hour',\n",
       " 'Lag_63_Temperature_3_Hour',\n",
       " 'Lag_64_Temperature',\n",
       " 'Lag_64_Temperature_2',\n",
       " 'Lag_64_Temperature_3',\n",
       " 'Lag_64_Temperature_Month',\n",
       " 'Lag_64_Temperature_2_Month',\n",
       " 'Lag_64_Temperature_3_Month',\n",
       " 'Lag_64_Temperature_Hour',\n",
       " 'Lag_64_Temperature_2_Hour',\n",
       " 'Lag_64_Temperature_3_Hour',\n",
       " 'Lag_65_Temperature',\n",
       " 'Lag_65_Temperature_2',\n",
       " 'Lag_65_Temperature_3',\n",
       " 'Lag_65_Temperature_Month',\n",
       " 'Lag_65_Temperature_2_Month',\n",
       " 'Lag_65_Temperature_3_Month',\n",
       " 'Lag_65_Temperature_Hour',\n",
       " 'Lag_65_Temperature_2_Hour',\n",
       " 'Lag_65_Temperature_3_Hour',\n",
       " 'Lag_66_Temperature',\n",
       " 'Lag_66_Temperature_2',\n",
       " 'Lag_66_Temperature_3',\n",
       " 'Lag_66_Temperature_Month',\n",
       " 'Lag_66_Temperature_2_Month',\n",
       " 'Lag_66_Temperature_3_Month',\n",
       " 'Lag_66_Temperature_Hour',\n",
       " 'Lag_66_Temperature_2_Hour',\n",
       " 'Lag_66_Temperature_3_Hour',\n",
       " 'Lag_67_Temperature',\n",
       " 'Lag_67_Temperature_2',\n",
       " 'Lag_67_Temperature_3',\n",
       " 'Lag_67_Temperature_Month',\n",
       " 'Lag_67_Temperature_2_Month',\n",
       " 'Lag_67_Temperature_3_Month',\n",
       " 'Lag_67_Temperature_Hour',\n",
       " 'Lag_67_Temperature_2_Hour',\n",
       " 'Lag_67_Temperature_3_Hour',\n",
       " 'Lag_68_Temperature',\n",
       " 'Lag_68_Temperature_2',\n",
       " 'Lag_68_Temperature_3',\n",
       " 'Lag_68_Temperature_Month',\n",
       " 'Lag_68_Temperature_2_Month',\n",
       " 'Lag_68_Temperature_3_Month',\n",
       " 'Lag_68_Temperature_Hour',\n",
       " 'Lag_68_Temperature_2_Hour',\n",
       " 'Lag_68_Temperature_3_Hour',\n",
       " 'Lag_69_Temperature',\n",
       " 'Lag_69_Temperature_2',\n",
       " 'Lag_69_Temperature_3',\n",
       " 'Lag_69_Temperature_Month',\n",
       " 'Lag_69_Temperature_2_Month',\n",
       " 'Lag_69_Temperature_3_Month',\n",
       " 'Lag_69_Temperature_Hour',\n",
       " 'Lag_69_Temperature_2_Hour',\n",
       " 'Lag_69_Temperature_3_Hour',\n",
       " 'Lag_70_Temperature',\n",
       " 'Lag_70_Temperature_2',\n",
       " 'Lag_70_Temperature_3',\n",
       " 'Lag_70_Temperature_Month',\n",
       " 'Lag_70_Temperature_2_Month',\n",
       " 'Lag_70_Temperature_3_Month',\n",
       " 'Lag_70_Temperature_Hour',\n",
       " 'Lag_70_Temperature_2_Hour',\n",
       " 'Lag_70_Temperature_3_Hour',\n",
       " 'Lag_71_Temperature',\n",
       " 'Lag_71_Temperature_2',\n",
       " 'Lag_71_Temperature_3',\n",
       " 'Lag_71_Temperature_Month',\n",
       " 'Lag_71_Temperature_2_Month',\n",
       " 'Lag_71_Temperature_3_Month',\n",
       " 'Lag_71_Temperature_Hour',\n",
       " 'Lag_71_Temperature_2_Hour',\n",
       " 'Lag_71_Temperature_3_Hour',\n",
       " 'Lag_72_Temperature',\n",
       " 'Lag_72_Temperature_2',\n",
       " 'Lag_72_Temperature_3',\n",
       " 'Lag_72_Temperature_Month',\n",
       " 'Lag_72_Temperature_2_Month',\n",
       " 'Lag_72_Temperature_3_Month',\n",
       " 'Lag_72_Temperature_Hour',\n",
       " 'Lag_72_Temperature_2_Hour',\n",
       " 'Lag_72_Temperature_3_Hour',\n",
       " 'Lag_0_Temperature_Rolling_last_24hour',\n",
       " 'Lag_0_Temperature_Rolling_last_24hour_2',\n",
       " 'Lag_0_Temperature_Rolling_last_24hour_3',\n",
       " 'Lag_0_Temperature_Rolling_last_24hour_Month',\n",
       " 'Lag_0_Temperature_Rolling_last_24hour_2_Month',\n",
       " 'Lag_0_Temperature_Rolling_last_24hour_3_Month',\n",
       " 'Lag_0_Temperature_Rolling_last_24hour_Hour',\n",
       " 'Lag_0_Temperature_Rolling_last_24hour_2_Hour',\n",
       " 'Lag_0_Temperature_Rolling_last_24hour_3_Hour',\n",
       " 'Lag_24_Temperature_Rolling_last_24hour',\n",
       " 'Lag_24_Temperature_Rolling_last_24hour_2',\n",
       " 'Lag_24_Temperature_Rolling_last_24hour_3',\n",
       " 'Lag_24_Temperature_Rolling_last_24hour_Month',\n",
       " 'Lag_24_Temperature_Rolling_last_24hour_2_Month',\n",
       " 'Lag_24_Temperature_Rolling_last_24hour_3_Month',\n",
       " 'Lag_24_Temperature_Rolling_last_24hour_Hour',\n",
       " 'Lag_24_Temperature_Rolling_last_24hour_2_Hour',\n",
       " 'Lag_24_Temperature_Rolling_last_24hour_3_Hour',\n",
       " 'Lag_48_Temperature_Rolling_last_24hour',\n",
       " 'Lag_48_Temperature_Rolling_last_24hour_2',\n",
       " 'Lag_48_Temperature_Rolling_last_24hour_3',\n",
       " 'Lag_48_Temperature_Rolling_last_24hour_Month',\n",
       " 'Lag_48_Temperature_Rolling_last_24hour_2_Month',\n",
       " 'Lag_48_Temperature_Rolling_last_24hour_3_Month',\n",
       " 'Lag_48_Temperature_Rolling_last_24hour_Hour',\n",
       " 'Lag_48_Temperature_Rolling_last_24hour_2_Hour',\n",
       " 'Lag_48_Temperature_Rolling_last_24hour_3_Hour',\n",
       " 'Lag_72_Temperature_Rolling_last_24hour',\n",
       " 'Lag_72_Temperature_Rolling_last_24hour_2',\n",
       " 'Lag_72_Temperature_Rolling_last_24hour_3',\n",
       " 'Lag_72_Temperature_Rolling_last_24hour_Month',\n",
       " 'Lag_72_Temperature_Rolling_last_24hour_2_Month',\n",
       " 'Lag_72_Temperature_Rolling_last_24hour_3_Month',\n",
       " 'Lag_72_Temperature_Rolling_last_24hour_Hour',\n",
       " 'Lag_72_Temperature_Rolling_last_24hour_2_Hour',\n",
       " 'Lag_72_Temperature_Rolling_last_24hour_3_Hour',\n",
       " 'Lag_96_Temperature_Rolling_last_24hour',\n",
       " 'Lag_96_Temperature_Rolling_last_24hour_2',\n",
       " 'Lag_96_Temperature_Rolling_last_24hour_3',\n",
       " 'Lag_96_Temperature_Rolling_last_24hour_Month',\n",
       " 'Lag_96_Temperature_Rolling_last_24hour_2_Month',\n",
       " 'Lag_96_Temperature_Rolling_last_24hour_3_Month',\n",
       " 'Lag_96_Temperature_Rolling_last_24hour_Hour',\n",
       " 'Lag_96_Temperature_Rolling_last_24hour_2_Hour',\n",
       " 'Lag_96_Temperature_Rolling_last_24hour_3_Hour',\n",
       " 'Lag_120_Temperature_Rolling_last_24hour',\n",
       " 'Lag_120_Temperature_Rolling_last_24hour_2',\n",
       " 'Lag_120_Temperature_Rolling_last_24hour_3',\n",
       " 'Lag_120_Temperature_Rolling_last_24hour_Month',\n",
       " 'Lag_120_Temperature_Rolling_last_24hour_2_Month',\n",
       " 'Lag_120_Temperature_Rolling_last_24hour_3_Month',\n",
       " 'Lag_120_Temperature_Rolling_last_24hour_Hour',\n",
       " 'Lag_120_Temperature_Rolling_last_24hour_2_Hour',\n",
       " 'Lag_120_Temperature_Rolling_last_24hour_3_Hour',\n",
       " 'Lag_144_Temperature_Rolling_last_24hour',\n",
       " 'Lag_144_Temperature_Rolling_last_24hour_2',\n",
       " 'Lag_144_Temperature_Rolling_last_24hour_3',\n",
       " 'Lag_144_Temperature_Rolling_last_24hour_Month',\n",
       " 'Lag_144_Temperature_Rolling_last_24hour_2_Month',\n",
       " 'Lag_144_Temperature_Rolling_last_24hour_3_Month',\n",
       " 'Lag_144_Temperature_Rolling_last_24hour_Hour',\n",
       " 'Lag_144_Temperature_Rolling_last_24hour_2_Hour',\n",
       " 'Lag_144_Temperature_Rolling_last_24hour_3_Hour']"
      ]
     },
     "execution_count": 133,
     "metadata": {},
     "output_type": "execute_result"
    }
   ],
   "source": [
    "list(X_build_model.columns)"
   ]
  },
  {
   "cell_type": "markdown",
   "metadata": {},
   "source": [
    "### Making Prediction"
   ]
  },
  {
   "cell_type": "code",
   "execution_count": 141,
   "metadata": {
    "ExecuteTime": {
     "end_time": "2019-12-08T23:32:39.195433Z",
     "start_time": "2019-12-08T23:32:39.193182Z"
    }
   },
   "outputs": [],
   "source": [
    "model = LinearRegression()"
   ]
  },
  {
   "cell_type": "code",
   "execution_count": 135,
   "metadata": {
    "ExecuteTime": {
     "end_time": "2019-12-08T23:31:38.281432Z",
     "start_time": "2019-12-08T23:31:37.620254Z"
    }
   },
   "outputs": [],
   "source": [
    "model_data = X_build_model.dropna()\n",
    "X = model_data.drop(['Load'], axis = 1)\n",
    "y = model_data['Load']"
   ]
  },
  {
   "cell_type": "code",
   "execution_count": 136,
   "metadata": {
    "ExecuteTime": {
     "end_time": "2019-12-08T23:31:49.377072Z",
     "start_time": "2019-12-08T23:31:49.372752Z"
    }
   },
   "outputs": [
    {
     "data": {
      "text/plain": [
       "Index(['Trend', 'Month', 'Week', 'Hour', 'Week_Hour', 'Lag_0_Temperature',\n",
       "       'Lag_0_Temperature_2', 'Lag_0_Temperature_3', 'Lag_0_Temperature_Month',\n",
       "       'Lag_0_Temperature_2_Month',\n",
       "       ...\n",
       "       'Lag_120_Temperature_Rolling_last_24hour_3_Hour',\n",
       "       'Lag_144_Temperature_Rolling_last_24hour',\n",
       "       'Lag_144_Temperature_Rolling_last_24hour_2',\n",
       "       'Lag_144_Temperature_Rolling_last_24hour_3',\n",
       "       'Lag_144_Temperature_Rolling_last_24hour_Month',\n",
       "       'Lag_144_Temperature_Rolling_last_24hour_2_Month',\n",
       "       'Lag_144_Temperature_Rolling_last_24hour_3_Month',\n",
       "       'Lag_144_Temperature_Rolling_last_24hour_Hour',\n",
       "       'Lag_144_Temperature_Rolling_last_24hour_2_Hour',\n",
       "       'Lag_144_Temperature_Rolling_last_24hour_3_Hour'],\n",
       "      dtype='object', length=725)"
      ]
     },
     "execution_count": 136,
     "metadata": {},
     "output_type": "execute_result"
    }
   ],
   "source": [
    "X.columns"
   ]
  },
  {
   "cell_type": "code",
   "execution_count": 138,
   "metadata": {
    "ExecuteTime": {
     "end_time": "2019-12-08T23:31:58.917370Z",
     "start_time": "2019-12-08T23:31:58.911863Z"
    }
   },
   "outputs": [
    {
     "data": {
      "text/plain": [
       "168      10062.0\n",
       "169       9489.0\n",
       "170       9138.0\n",
       "171       8946.0\n",
       "172       8940.0\n",
       "          ...   \n",
       "35059    11812.0\n",
       "35060    11542.0\n",
       "35061    11149.0\n",
       "35062    10855.0\n",
       "35063    10335.0\n",
       "Name: Load, Length: 34896, dtype: float64"
      ]
     },
     "execution_count": 138,
     "metadata": {},
     "output_type": "execute_result"
    }
   ],
   "source": [
    "y"
   ]
  },
  {
   "cell_type": "code",
   "execution_count": 142,
   "metadata": {
    "ExecuteTime": {
     "end_time": "2019-12-08T23:32:42.627268Z",
     "start_time": "2019-12-08T23:32:41.789351Z"
    }
   },
   "outputs": [
    {
     "data": {
      "text/plain": [
       "LinearRegression(copy_X=True, fit_intercept=True, n_jobs=None, normalize=False)"
      ]
     },
     "execution_count": 142,
     "metadata": {},
     "output_type": "execute_result"
    }
   ],
   "source": [
    "model.fit(X, y)"
   ]
  },
  {
   "cell_type": "code",
   "execution_count": 144,
   "metadata": {
    "ExecuteTime": {
     "end_time": "2019-12-08T23:32:55.922983Z",
     "start_time": "2019-12-08T23:32:55.819318Z"
    }
   },
   "outputs": [
    {
     "data": {
      "text/plain": [
       "0.9097326739786444"
      ]
     },
     "execution_count": 144,
     "metadata": {},
     "output_type": "execute_result"
    }
   ],
   "source": [
    "model.score(X, y)"
   ]
  },
  {
   "cell_type": "code",
   "execution_count": 145,
   "metadata": {
    "ExecuteTime": {
     "end_time": "2019-12-08T23:33:08.597803Z",
     "start_time": "2019-12-08T23:33:08.490878Z"
    }
   },
   "outputs": [
    {
     "data": {
      "text/plain": [
       "4.660005605769351"
      ]
     },
     "execution_count": 145,
     "metadata": {},
     "output_type": "execute_result"
    }
   ],
   "source": [
    "mape(y, model.predict(X))"
   ]
  },
  {
   "cell_type": "code",
   "execution_count": 148,
   "metadata": {
    "ExecuteTime": {
     "end_time": "2019-12-08T23:34:16.347650Z",
     "start_time": "2019-12-08T23:34:16.343279Z"
    }
   },
   "outputs": [
    {
     "data": {
      "text/plain": [
       "((43848, 726), (43848, 5))"
      ]
     },
     "execution_count": 148,
     "metadata": {},
     "output_type": "execute_result"
    }
   ],
   "source": [
    "X_build_model.shape, data.shape"
   ]
  },
  {
   "cell_type": "code",
   "execution_count": 149,
   "metadata": {
    "ExecuteTime": {
     "end_time": "2019-12-08T23:35:58.515293Z",
     "start_time": "2019-12-08T23:35:58.510777Z"
    }
   },
   "outputs": [
    {
     "data": {
      "text/plain": [
       "Index(['Load', 'Trend', 'Month', 'Week', 'Hour', 'Week_Hour',\n",
       "       'Lag_0_Temperature', 'Lag_0_Temperature_2', 'Lag_0_Temperature_3',\n",
       "       'Lag_0_Temperature_Month',\n",
       "       ...\n",
       "       'Lag_120_Temperature_Rolling_last_24hour_3_Hour',\n",
       "       'Lag_144_Temperature_Rolling_last_24hour',\n",
       "       'Lag_144_Temperature_Rolling_last_24hour_2',\n",
       "       'Lag_144_Temperature_Rolling_last_24hour_3',\n",
       "       'Lag_144_Temperature_Rolling_last_24hour_Month',\n",
       "       'Lag_144_Temperature_Rolling_last_24hour_2_Month',\n",
       "       'Lag_144_Temperature_Rolling_last_24hour_3_Month',\n",
       "       'Lag_144_Temperature_Rolling_last_24hour_Hour',\n",
       "       'Lag_144_Temperature_Rolling_last_24hour_2_Hour',\n",
       "       'Lag_144_Temperature_Rolling_last_24hour_3_Hour'],\n",
       "      dtype='object', length=726)"
      ]
     },
     "execution_count": 149,
     "metadata": {},
     "output_type": "execute_result"
    }
   ],
   "source": [
    "X_build_model.columns"
   ]
  },
  {
   "cell_type": "code",
   "execution_count": 150,
   "metadata": {
    "ExecuteTime": {
     "end_time": "2019-12-08T23:36:49.857800Z",
     "start_time": "2019-12-08T23:36:49.634038Z"
    }
   },
   "outputs": [],
   "source": [
    "X_all = X_build_model.drop(['Load'], axis = 1)[:]"
   ]
  },
  {
   "cell_type": "code",
   "execution_count": 151,
   "metadata": {
    "ExecuteTime": {
     "end_time": "2019-12-08T23:36:53.954640Z",
     "start_time": "2019-12-08T23:36:53.950129Z"
    }
   },
   "outputs": [
    {
     "data": {
      "text/plain": [
       "Index(['Trend', 'Month', 'Week', 'Hour', 'Week_Hour', 'Lag_0_Temperature',\n",
       "       'Lag_0_Temperature_2', 'Lag_0_Temperature_3', 'Lag_0_Temperature_Month',\n",
       "       'Lag_0_Temperature_2_Month',\n",
       "       ...\n",
       "       'Lag_120_Temperature_Rolling_last_24hour_3_Hour',\n",
       "       'Lag_144_Temperature_Rolling_last_24hour',\n",
       "       'Lag_144_Temperature_Rolling_last_24hour_2',\n",
       "       'Lag_144_Temperature_Rolling_last_24hour_3',\n",
       "       'Lag_144_Temperature_Rolling_last_24hour_Month',\n",
       "       'Lag_144_Temperature_Rolling_last_24hour_2_Month',\n",
       "       'Lag_144_Temperature_Rolling_last_24hour_3_Month',\n",
       "       'Lag_144_Temperature_Rolling_last_24hour_Hour',\n",
       "       'Lag_144_Temperature_Rolling_last_24hour_2_Hour',\n",
       "       'Lag_144_Temperature_Rolling_last_24hour_3_Hour'],\n",
       "      dtype='object', length=725)"
      ]
     },
     "execution_count": 151,
     "metadata": {},
     "output_type": "execute_result"
    }
   ],
   "source": [
    "X_all.columns"
   ]
  },
  {
   "cell_type": "code",
   "execution_count": 154,
   "metadata": {
    "ExecuteTime": {
     "end_time": "2019-12-08T23:37:50.348717Z",
     "start_time": "2019-12-08T23:37:50.283507Z"
    }
   },
   "outputs": [
    {
     "data": {
      "text/plain": [
       "168"
      ]
     },
     "execution_count": 154,
     "metadata": {},
     "output_type": "execute_result"
    }
   ],
   "source": [
    "max(X_all.isna().sum())"
   ]
  },
  {
   "cell_type": "code",
   "execution_count": 157,
   "metadata": {
    "ExecuteTime": {
     "end_time": "2019-12-08T23:38:49.295713Z",
     "start_time": "2019-12-08T23:38:49.291722Z"
    }
   },
   "outputs": [
    {
     "data": {
      "text/plain": [
       "(43848, 725)"
      ]
     },
     "execution_count": 157,
     "metadata": {},
     "output_type": "execute_result"
    }
   ],
   "source": [
    "X_all.shape"
   ]
  },
  {
   "cell_type": "code",
   "execution_count": 158,
   "metadata": {
    "ExecuteTime": {
     "end_time": "2019-12-08T23:38:57.065934Z",
     "start_time": "2019-12-08T23:38:56.782670Z"
    }
   },
   "outputs": [],
   "source": [
    "X_all.dropna(inplace = True)"
   ]
  },
  {
   "cell_type": "code",
   "execution_count": 159,
   "metadata": {
    "ExecuteTime": {
     "end_time": "2019-12-08T23:39:02.089748Z",
     "start_time": "2019-12-08T23:39:02.085658Z"
    }
   },
   "outputs": [
    {
     "data": {
      "text/plain": [
       "(43680, 725)"
      ]
     },
     "execution_count": 159,
     "metadata": {},
     "output_type": "execute_result"
    }
   ],
   "source": [
    "X_all.shape"
   ]
  },
  {
   "cell_type": "code",
   "execution_count": 164,
   "metadata": {
    "ExecuteTime": {
     "end_time": "2019-12-08T23:39:50.900759Z",
     "start_time": "2019-12-08T23:39:50.676562Z"
    }
   },
   "outputs": [],
   "source": [
    "predictions = model.predict(X_all)"
   ]
  },
  {
   "cell_type": "code",
   "execution_count": 165,
   "metadata": {
    "ExecuteTime": {
     "end_time": "2019-12-08T23:39:51.342859Z",
     "start_time": "2019-12-08T23:39:51.336802Z"
    }
   },
   "outputs": [],
   "source": [
    "predictions = [np.nan] * 168 + predictions.tolist()"
   ]
  },
  {
   "cell_type": "code",
   "execution_count": 167,
   "metadata": {
    "ExecuteTime": {
     "end_time": "2019-12-08T23:39:56.561186Z",
     "start_time": "2019-12-08T23:39:56.557594Z"
    }
   },
   "outputs": [
    {
     "data": {
      "text/plain": [
       "43848"
      ]
     },
     "execution_count": 167,
     "metadata": {},
     "output_type": "execute_result"
    }
   ],
   "source": [
    "len(predictions)"
   ]
  },
  {
   "cell_type": "code",
   "execution_count": 169,
   "metadata": {
    "ExecuteTime": {
     "end_time": "2019-12-08T23:41:27.805105Z",
     "start_time": "2019-12-08T23:41:27.788909Z"
    }
   },
   "outputs": [],
   "source": [
    "data['Prediction'] = predictions"
   ]
  },
  {
   "cell_type": "code",
   "execution_count": 170,
   "metadata": {
    "ExecuteTime": {
     "end_time": "2019-12-08T23:41:52.420617Z",
     "start_time": "2019-12-08T23:41:52.026343Z"
    }
   },
   "outputs": [],
   "source": [
    "data.to_csv('Prediction.csv')"
   ]
  },
  {
   "cell_type": "markdown",
   "metadata": {},
   "source": [
    "## XGBoost"
   ]
  },
  {
   "cell_type": "code",
   "execution_count": 503,
   "metadata": {
    "ExecuteTime": {
     "end_time": "2019-12-15T05:15:25.430705Z",
     "start_time": "2019-12-15T05:15:25.089177Z"
    },
    "scrolled": false
   },
   "outputs": [],
   "source": [
    "temp = X_build_model.dropna()\n",
    "y = temp['Load']\n",
    "X = temp.drop('Load', axis = 1).loc[:, selector.support_]"
   ]
  },
  {
   "cell_type": "code",
   "execution_count": 504,
   "metadata": {
    "ExecuteTime": {
     "end_time": "2019-12-15T05:15:50.125725Z",
     "start_time": "2019-12-15T05:15:30.567015Z"
    }
   },
   "outputs": [
    {
     "data": {
      "text/plain": [
       "XGBRegressor(base_score=0.5, booster='gbtree', colsample_bylevel=1,\n",
       "             colsample_bynode=1, colsample_bytree=1, eval_metric='rmse',\n",
       "             gamma=0, importance_type='gain', learning_rate=0.1,\n",
       "             max_delta_step=0, max_depth=3, min_child_weight=1, missing=None,\n",
       "             n_estimators=300, n_jobs=1, nthread=None, objective='reg:linear',\n",
       "             random_state=0, reg_alpha=0.5, reg_lambda=1, scale_pos_weight=1,\n",
       "             seed=0, silent=True, subsample=1, verbosity=1)"
      ]
     },
     "execution_count": 504,
     "metadata": {},
     "output_type": "execute_result"
    }
   ],
   "source": [
    "model = xgb.XGBRegressor(max_depth=3, \n",
    "                         learning_rate=0.1, \n",
    "                         n_estimators=300, \n",
    "                         silent=True, \n",
    "                         objective=\"reg:linear\", \n",
    "                         eval_metric='rmse', \n",
    "                         seed=0, \n",
    "                         reg_alpha=0.5)\n",
    "\n",
    "model.fit(X, y)"
   ]
  },
  {
   "cell_type": "code",
   "execution_count": 505,
   "metadata": {
    "ExecuteTime": {
     "end_time": "2019-12-15T05:16:11.993154Z",
     "start_time": "2019-12-15T05:16:11.743839Z"
    }
   },
   "outputs": [
    {
     "data": {
      "text/plain": [
       "2.5278724462604747"
      ]
     },
     "execution_count": 505,
     "metadata": {},
     "output_type": "execute_result"
    }
   ],
   "source": [
    "mape(y, model.predict(X)) "
   ]
  },
  {
   "cell_type": "code",
   "execution_count": 510,
   "metadata": {
    "ExecuteTime": {
     "end_time": "2019-12-15T05:20:16.644624Z",
     "start_time": "2019-12-15T05:20:16.503709Z"
    }
   },
   "outputs": [],
   "source": [
    "X_all = X_build_model.drop('Load', axis = 1)"
   ]
  },
  {
   "cell_type": "code",
   "execution_count": 512,
   "metadata": {
    "ExecuteTime": {
     "end_time": "2019-12-15T05:20:46.237686Z",
     "start_time": "2019-12-15T05:20:46.213579Z"
    }
   },
   "outputs": [],
   "source": [
    "X_all = X_all.loc[:, selector.support_]"
   ]
  },
  {
   "cell_type": "code",
   "execution_count": 513,
   "metadata": {
    "ExecuteTime": {
     "end_time": "2019-12-15T05:20:48.387167Z",
     "start_time": "2019-12-15T05:20:48.374967Z"
    }
   },
   "outputs": [
    {
     "data": {
      "text/plain": [
       "168"
      ]
     },
     "execution_count": 513,
     "metadata": {},
     "output_type": "execute_result"
    }
   ],
   "source": [
    "max(X_all.isna().sum())"
   ]
  },
  {
   "cell_type": "code",
   "execution_count": 514,
   "metadata": {
    "ExecuteTime": {
     "end_time": "2019-12-15T05:21:19.203221Z",
     "start_time": "2019-12-15T05:21:19.199350Z"
    }
   },
   "outputs": [
    {
     "data": {
      "text/plain": [
       "(43848, 50)"
      ]
     },
     "execution_count": 514,
     "metadata": {},
     "output_type": "execute_result"
    }
   ],
   "source": [
    "X_all.shape"
   ]
  },
  {
   "cell_type": "code",
   "execution_count": 515,
   "metadata": {
    "ExecuteTime": {
     "end_time": "2019-12-15T05:21:29.566760Z",
     "start_time": "2019-12-15T05:21:29.550603Z"
    }
   },
   "outputs": [],
   "source": [
    "X_all.dropna(inplace = True)"
   ]
  },
  {
   "cell_type": "code",
   "execution_count": 516,
   "metadata": {
    "ExecuteTime": {
     "end_time": "2019-12-15T05:21:45.460109Z",
     "start_time": "2019-12-15T05:21:45.159503Z"
    }
   },
   "outputs": [],
   "source": [
    "predictions = model.predict(X_all)"
   ]
  },
  {
   "cell_type": "code",
   "execution_count": 517,
   "metadata": {
    "ExecuteTime": {
     "end_time": "2019-12-15T05:21:50.423726Z",
     "start_time": "2019-12-15T05:21:50.419532Z"
    }
   },
   "outputs": [],
   "source": [
    "predictions = [np.nan] * 168 + predictions.tolist()"
   ]
  },
  {
   "cell_type": "code",
   "execution_count": 518,
   "metadata": {
    "ExecuteTime": {
     "end_time": "2019-12-15T05:21:59.304351Z",
     "start_time": "2019-12-15T05:21:59.300314Z"
    }
   },
   "outputs": [
    {
     "data": {
      "text/plain": [
       "43848"
      ]
     },
     "execution_count": 518,
     "metadata": {},
     "output_type": "execute_result"
    }
   ],
   "source": [
    "len(predictions)"
   ]
  },
  {
   "cell_type": "code",
   "execution_count": 519,
   "metadata": {
    "ExecuteTime": {
     "end_time": "2019-12-15T05:22:06.132516Z",
     "start_time": "2019-12-15T05:22:06.122286Z"
    }
   },
   "outputs": [],
   "source": [
    "data['Prediction'] = predictions"
   ]
  },
  {
   "cell_type": "code",
   "execution_count": 520,
   "metadata": {
    "ExecuteTime": {
     "end_time": "2019-12-15T05:22:11.618547Z",
     "start_time": "2019-12-15T05:22:11.250961Z"
    }
   },
   "outputs": [],
   "source": [
    "data.to_csv('Prediction.csv')"
   ]
  },
  {
   "cell_type": "code",
   "execution_count": null,
   "metadata": {},
   "outputs": [],
   "source": []
  }
 ],
 "metadata": {
  "kernelspec": {
   "display_name": "Python 3",
   "language": "python",
   "name": "python3"
  },
  "language_info": {
   "codemirror_mode": {
    "name": "ipython",
    "version": 3
   },
   "file_extension": ".py",
   "mimetype": "text/x-python",
   "name": "python",
   "nbconvert_exporter": "python",
   "pygments_lexer": "ipython3",
   "version": "3.6.9"
  },
  "toc": {
   "base_numbering": 1,
   "nav_menu": {},
   "number_sections": true,
   "sideBar": true,
   "skip_h1_title": false,
   "title_cell": "Table of Contents",
   "title_sidebar": "Contents",
   "toc_cell": false,
   "toc_position": {
    "height": "calc(100% - 180px)",
    "left": "10px",
    "top": "150px",
    "width": "280.390625px"
   },
   "toc_section_display": true,
   "toc_window_display": true
  }
 },
 "nbformat": 4,
 "nbformat_minor": 2
}
