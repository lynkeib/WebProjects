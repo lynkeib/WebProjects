{
 "cells": [
  {
   "cell_type": "code",
   "execution_count": 1,
   "metadata": {},
   "outputs": [],
   "source": [
    "%run Quandl_API.ipynb"
   ]
  },
  {
   "cell_type": "code",
   "execution_count": 85,
   "metadata": {},
   "outputs": [],
   "source": [
    "import pandas as pd\n",
    "import matplotlib.pyplot as plt\n",
    "%matplotlib inline"
   ]
  },
  {
   "cell_type": "markdown",
   "metadata": {},
   "source": [
    "# Getting Stock Price"
   ]
  },
  {
   "cell_type": "code",
   "execution_count": 40,
   "metadata": {},
   "outputs": [],
   "source": [
    "AAPL = quandl.get(\"XNAS/AAPL_UADJ\", \n",
    "                  start_date = '2017-12-01',\n",
    "                 end_date = '2018-12-31',\n",
    "                 collapse = 'monthly')"
   ]
  },
  {
   "cell_type": "code",
   "execution_count": 41,
   "metadata": {},
   "outputs": [
    {
     "data": {
      "text/html": [
       "<div>\n",
       "<style scoped>\n",
       "    .dataframe tbody tr th:only-of-type {\n",
       "        vertical-align: middle;\n",
       "    }\n",
       "\n",
       "    .dataframe tbody tr th {\n",
       "        vertical-align: top;\n",
       "    }\n",
       "\n",
       "    .dataframe thead th {\n",
       "        text-align: right;\n",
       "    }\n",
       "</style>\n",
       "<table border=\"1\" class=\"dataframe\">\n",
       "  <thead>\n",
       "    <tr style=\"text-align: right;\">\n",
       "      <th></th>\n",
       "      <th>Open</th>\n",
       "      <th>High</th>\n",
       "      <th>Low</th>\n",
       "      <th>Close</th>\n",
       "      <th>Volume</th>\n",
       "      <th>Adjustment Factor</th>\n",
       "      <th>Adjustment Type</th>\n",
       "    </tr>\n",
       "    <tr>\n",
       "      <th>Date</th>\n",
       "      <th></th>\n",
       "      <th></th>\n",
       "      <th></th>\n",
       "      <th></th>\n",
       "      <th></th>\n",
       "      <th></th>\n",
       "      <th></th>\n",
       "    </tr>\n",
       "  </thead>\n",
       "  <tbody>\n",
       "    <tr>\n",
       "      <th>2017-12-31</th>\n",
       "      <td>170.28</td>\n",
       "      <td>170.570</td>\n",
       "      <td>169.22</td>\n",
       "      <td>169.23</td>\n",
       "      <td>8457697.0</td>\n",
       "      <td>NaN</td>\n",
       "      <td>NaN</td>\n",
       "    </tr>\n",
       "    <tr>\n",
       "      <th>2018-01-31</th>\n",
       "      <td>166.95</td>\n",
       "      <td>168.440</td>\n",
       "      <td>166.50</td>\n",
       "      <td>167.43</td>\n",
       "      <td>9609536.0</td>\n",
       "      <td>NaN</td>\n",
       "      <td>NaN</td>\n",
       "    </tr>\n",
       "    <tr>\n",
       "      <th>2018-02-28</th>\n",
       "      <td>179.20</td>\n",
       "      <td>180.610</td>\n",
       "      <td>178.05</td>\n",
       "      <td>178.12</td>\n",
       "      <td>9795284.0</td>\n",
       "      <td>0.995939</td>\n",
       "      <td>17.0</td>\n",
       "    </tr>\n",
       "    <tr>\n",
       "      <th>2018-03-31</th>\n",
       "      <td>167.78</td>\n",
       "      <td>167.780</td>\n",
       "      <td>167.78</td>\n",
       "      <td>167.78</td>\n",
       "      <td>0.0</td>\n",
       "      <td>NaN</td>\n",
       "      <td>NaN</td>\n",
       "    </tr>\n",
       "    <tr>\n",
       "      <th>2018-04-30</th>\n",
       "      <td>162.19</td>\n",
       "      <td>167.250</td>\n",
       "      <td>161.84</td>\n",
       "      <td>165.26</td>\n",
       "      <td>11884243.0</td>\n",
       "      <td>NaN</td>\n",
       "      <td>NaN</td>\n",
       "    </tr>\n",
       "    <tr>\n",
       "      <th>2018-05-31</th>\n",
       "      <td>187.20</td>\n",
       "      <td>188.230</td>\n",
       "      <td>186.14</td>\n",
       "      <td>186.87</td>\n",
       "      <td>10197110.0</td>\n",
       "      <td>0.996159</td>\n",
       "      <td>17.0</td>\n",
       "    </tr>\n",
       "    <tr>\n",
       "      <th>2018-06-30</th>\n",
       "      <td>186.38</td>\n",
       "      <td>187.185</td>\n",
       "      <td>182.91</td>\n",
       "      <td>185.11</td>\n",
       "      <td>8034084.0</td>\n",
       "      <td>NaN</td>\n",
       "      <td>NaN</td>\n",
       "    </tr>\n",
       "    <tr>\n",
       "      <th>2018-07-31</th>\n",
       "      <td>190.31</td>\n",
       "      <td>192.140</td>\n",
       "      <td>189.35</td>\n",
       "      <td>190.29</td>\n",
       "      <td>11269928.0</td>\n",
       "      <td>NaN</td>\n",
       "      <td>NaN</td>\n",
       "    </tr>\n",
       "    <tr>\n",
       "      <th>2018-08-31</th>\n",
       "      <td>226.64</td>\n",
       "      <td>228.870</td>\n",
       "      <td>226.23</td>\n",
       "      <td>227.63</td>\n",
       "      <td>13167931.0</td>\n",
       "      <td>0.996505</td>\n",
       "      <td>17.0</td>\n",
       "    </tr>\n",
       "    <tr>\n",
       "      <th>2018-09-30</th>\n",
       "      <td>224.80</td>\n",
       "      <td>225.840</td>\n",
       "      <td>224.05</td>\n",
       "      <td>225.74</td>\n",
       "      <td>7850081.0</td>\n",
       "      <td>NaN</td>\n",
       "      <td>NaN</td>\n",
       "    </tr>\n",
       "    <tr>\n",
       "      <th>2018-10-31</th>\n",
       "      <td>216.98</td>\n",
       "      <td>220.450</td>\n",
       "      <td>216.64</td>\n",
       "      <td>218.86</td>\n",
       "      <td>11325641.0</td>\n",
       "      <td>NaN</td>\n",
       "      <td>NaN</td>\n",
       "    </tr>\n",
       "    <tr>\n",
       "      <th>2018-11-30</th>\n",
       "      <td>180.33</td>\n",
       "      <td>180.330</td>\n",
       "      <td>177.03</td>\n",
       "      <td>178.58</td>\n",
       "      <td>12155358.0</td>\n",
       "      <td>0.996523</td>\n",
       "      <td>17.0</td>\n",
       "    </tr>\n",
       "    <tr>\n",
       "      <th>2018-12-31</th>\n",
       "      <td>158.53</td>\n",
       "      <td>159.350</td>\n",
       "      <td>156.51</td>\n",
       "      <td>157.74</td>\n",
       "      <td>9130268.0</td>\n",
       "      <td>NaN</td>\n",
       "      <td>NaN</td>\n",
       "    </tr>\n",
       "  </tbody>\n",
       "</table>\n",
       "</div>"
      ],
      "text/plain": [
       "              Open     High     Low   Close      Volume  Adjustment Factor  \\\n",
       "Date                                                                         \n",
       "2017-12-31  170.28  170.570  169.22  169.23   8457697.0                NaN   \n",
       "2018-01-31  166.95  168.440  166.50  167.43   9609536.0                NaN   \n",
       "2018-02-28  179.20  180.610  178.05  178.12   9795284.0           0.995939   \n",
       "2018-03-31  167.78  167.780  167.78  167.78         0.0                NaN   \n",
       "2018-04-30  162.19  167.250  161.84  165.26  11884243.0                NaN   \n",
       "2018-05-31  187.20  188.230  186.14  186.87  10197110.0           0.996159   \n",
       "2018-06-30  186.38  187.185  182.91  185.11   8034084.0                NaN   \n",
       "2018-07-31  190.31  192.140  189.35  190.29  11269928.0                NaN   \n",
       "2018-08-31  226.64  228.870  226.23  227.63  13167931.0           0.996505   \n",
       "2018-09-30  224.80  225.840  224.05  225.74   7850081.0                NaN   \n",
       "2018-10-31  216.98  220.450  216.64  218.86  11325641.0                NaN   \n",
       "2018-11-30  180.33  180.330  177.03  178.58  12155358.0           0.996523   \n",
       "2018-12-31  158.53  159.350  156.51  157.74   9130268.0                NaN   \n",
       "\n",
       "            Adjustment Type  \n",
       "Date                         \n",
       "2017-12-31              NaN  \n",
       "2018-01-31              NaN  \n",
       "2018-02-28             17.0  \n",
       "2018-03-31              NaN  \n",
       "2018-04-30              NaN  \n",
       "2018-05-31             17.0  \n",
       "2018-06-30              NaN  \n",
       "2018-07-31              NaN  \n",
       "2018-08-31             17.0  \n",
       "2018-09-30              NaN  \n",
       "2018-10-31              NaN  \n",
       "2018-11-30             17.0  \n",
       "2018-12-31              NaN  "
      ]
     },
     "execution_count": 41,
     "metadata": {},
     "output_type": "execute_result"
    }
   ],
   "source": [
    "AAPL"
   ]
  },
  {
   "cell_type": "markdown",
   "metadata": {},
   "source": [
    "# Getting US Treasury Securities (%)"
   ]
  },
  {
   "cell_type": "code",
   "execution_count": 42,
   "metadata": {},
   "outputs": [],
   "source": [
    "ten_year = quandl.get(\"FRED/DGS10\",\n",
    "                     start_date = '2018-01-01',\n",
    "                     end_date = '2018-12-31',\n",
    "                     collapse = 'monthly')"
   ]
  },
  {
   "cell_type": "code",
   "execution_count": 77,
   "metadata": {},
   "outputs": [
    {
     "data": {
      "text/plain": [
       "<matplotlib.axes._subplots.AxesSubplot at 0x11aeedd30>"
      ]
     },
     "execution_count": 77,
     "metadata": {},
     "output_type": "execute_result"
    },
    {
     "data": {
      "image/png": "[encoded data removed]",
      "text/plain": [
       "<Figure size 432x288 with 1 Axes>"
      ]
     },
     "metadata": {},
     "output_type": "display_data"
    }
   ],
   "source": [
    "ten_year.plot(title = 'US Treasury Securities Return Rate')"
   ]
  },
  {
   "cell_type": "markdown",
   "metadata": {},
   "source": [
    "# Calculating Monthly Return Rate of Stock (Close)"
   ]
  },
  {
   "cell_type": "code",
   "execution_count": 44,
   "metadata": {},
   "outputs": [],
   "source": [
    "AAPL_Close = AAPL.Close"
   ]
  },
  {
   "cell_type": "code",
   "execution_count": 75,
   "metadata": {},
   "outputs": [
    {
     "data": {
      "text/plain": [
       "<matplotlib.axes._subplots.AxesSubplot at 0x11ae00390>"
      ]
     },
     "execution_count": 75,
     "metadata": {},
     "output_type": "execute_result"
    },
    {
     "data": {
      "image/png": "[encoded data removed]",
      "text/plain": [
       "<Figure size 432x288 with 1 Axes>"
      ]
     },
     "metadata": {},
     "output_type": "display_data"
    }
   ],
   "source": [
    "AAPL_Close.plot(title = 'AAPL_Price')"
   ]
  },
  {
   "cell_type": "code",
   "execution_count": 46,
   "metadata": {},
   "outputs": [
    {
     "data": {
      "text/plain": [
       "Date\n",
       "2018-01-31    167.43\n",
       "2018-02-28    178.12\n",
       "2018-03-31    167.78\n",
       "2018-04-30    165.26\n",
       "2018-05-31    186.87\n",
       "2018-06-30    185.11\n",
       "2018-07-31    190.29\n",
       "2018-08-31    227.63\n",
       "2018-09-30    225.74\n",
       "2018-10-31    218.86\n",
       "2018-11-30    178.58\n",
       "2018-12-31    157.74\n",
       "Name: Close, dtype: float64"
      ]
     },
     "execution_count": 46,
     "metadata": {},
     "output_type": "execute_result"
    }
   ],
   "source": [
    "AAPL_Close[1:]"
   ]
  },
  {
   "cell_type": "code",
   "execution_count": 47,
   "metadata": {},
   "outputs": [
    {
     "data": {
      "text/plain": [
       "Date\n",
       "2017-12-31    169.23\n",
       "2018-01-31    167.43\n",
       "2018-02-28    178.12\n",
       "2018-03-31    167.78\n",
       "2018-04-30    165.26\n",
       "2018-05-31    186.87\n",
       "2018-06-30    185.11\n",
       "2018-07-31    190.29\n",
       "2018-08-31    227.63\n",
       "2018-09-30    225.74\n",
       "2018-10-31    218.86\n",
       "2018-11-30    178.58\n",
       "Name: Close, dtype: float64"
      ]
     },
     "execution_count": 47,
     "metadata": {},
     "output_type": "execute_result"
    }
   ],
   "source": [
    "AAPL_Close[:-1]"
   ]
  },
  {
   "cell_type": "code",
   "execution_count": 89,
   "metadata": {},
   "outputs": [],
   "source": [
    "date = AAPL_Close[1:].index"
   ]
  },
  {
   "cell_type": "code",
   "execution_count": 90,
   "metadata": {},
   "outputs": [],
   "source": [
    "AAPL_Monthly_ReturnRate = pd.Series(((AAPL_Close[1:].values - AAPL_Close[:-1].values) / AAPL_Close[:-1].values)*100, index = date)"
   ]
  },
  {
   "cell_type": "code",
   "execution_count": 91,
   "metadata": {},
   "outputs": [
    {
     "data": {
      "text/plain": [
       "Date\n",
       "2018-01-31    -1.063641\n",
       "2018-02-28     6.384758\n",
       "2018-03-31    -5.805075\n",
       "2018-04-30    -1.501967\n",
       "2018-05-31    13.076365\n",
       "2018-06-30    -0.941831\n",
       "2018-07-31     2.798336\n",
       "2018-08-31    19.622681\n",
       "2018-09-30    -0.830295\n",
       "2018-10-31    -3.047754\n",
       "2018-11-30   -18.404459\n",
       "2018-12-31   -11.669840\n",
       "dtype: float64"
      ]
     },
     "execution_count": 91,
     "metadata": {},
     "output_type": "execute_result"
    }
   ],
   "source": [
    "AAPL_Monthly_ReturnRate"
   ]
  },
  {
   "cell_type": "code",
   "execution_count": 93,
   "metadata": {},
   "outputs": [
    {
     "data": {
      "text/plain": [
       "<matplotlib.axes._subplots.AxesSubplot at 0x11b2399b0>"
      ]
     },
     "execution_count": 93,
     "metadata": {},
     "output_type": "execute_result"
    },
    {
     "data": {
      "image/png": "[encoded data removed]",
      "text/plain": [
       "<Figure size 432x288 with 1 Axes>"
      ]
     },
     "metadata": {},
     "output_type": "display_data"
    }
   ],
   "source": [
    "AAPL_Monthly_ReturnRate.plot()"
   ]
  },
  {
   "cell_type": "code",
   "execution_count": 92,
   "metadata": {},
   "outputs": [
    {
     "data": {
      "text/plain": [
       "12"
      ]
     },
     "execution_count": 92,
     "metadata": {},
     "output_type": "execute_result"
    }
   ],
   "source": [
    "len(AAPL_Monthly_ReturnRate)"
   ]
  },
  {
   "cell_type": "markdown",
   "metadata": {},
   "source": [
    "# Calculating Sharpe Ratio"
   ]
  },
  {
   "cell_type": "code",
   "execution_count": 113,
   "metadata": {},
   "outputs": [
    {
     "data": {
      "text/html": [
       "<div>\n",
       "<style scoped>\n",
       "    .dataframe tbody tr th:only-of-type {\n",
       "        vertical-align: middle;\n",
       "    }\n",
       "\n",
       "    .dataframe tbody tr th {\n",
       "        vertical-align: top;\n",
       "    }\n",
       "\n",
       "    .dataframe thead th {\n",
       "        text-align: right;\n",
       "    }\n",
       "</style>\n",
       "<table border=\"1\" class=\"dataframe\">\n",
       "  <thead>\n",
       "    <tr style=\"text-align: right;\">\n",
       "      <th></th>\n",
       "      <th>Value</th>\n",
       "    </tr>\n",
       "    <tr>\n",
       "      <th>Date</th>\n",
       "      <th></th>\n",
       "    </tr>\n",
       "  </thead>\n",
       "  <tbody>\n",
       "    <tr>\n",
       "      <th>2018-01-31</th>\n",
       "      <td>-1.063641</td>\n",
       "    </tr>\n",
       "    <tr>\n",
       "      <th>2018-02-28</th>\n",
       "      <td>6.384758</td>\n",
       "    </tr>\n",
       "    <tr>\n",
       "      <th>2018-03-31</th>\n",
       "      <td>-5.805075</td>\n",
       "    </tr>\n",
       "    <tr>\n",
       "      <th>2018-04-30</th>\n",
       "      <td>-1.501967</td>\n",
       "    </tr>\n",
       "    <tr>\n",
       "      <th>2018-05-31</th>\n",
       "      <td>13.076365</td>\n",
       "    </tr>\n",
       "    <tr>\n",
       "      <th>2018-06-30</th>\n",
       "      <td>-0.941831</td>\n",
       "    </tr>\n",
       "    <tr>\n",
       "      <th>2018-07-31</th>\n",
       "      <td>2.798336</td>\n",
       "    </tr>\n",
       "    <tr>\n",
       "      <th>2018-08-31</th>\n",
       "      <td>19.622681</td>\n",
       "    </tr>\n",
       "    <tr>\n",
       "      <th>2018-09-30</th>\n",
       "      <td>-0.830295</td>\n",
       "    </tr>\n",
       "    <tr>\n",
       "      <th>2018-10-31</th>\n",
       "      <td>-3.047754</td>\n",
       "    </tr>\n",
       "    <tr>\n",
       "      <th>2018-11-30</th>\n",
       "      <td>-18.404459</td>\n",
       "    </tr>\n",
       "    <tr>\n",
       "      <th>2018-12-31</th>\n",
       "      <td>-11.669840</td>\n",
       "    </tr>\n",
       "  </tbody>\n",
       "</table>\n",
       "</div>"
      ],
      "text/plain": [
       "                Value\n",
       "Date                 \n",
       "2018-01-31  -1.063641\n",
       "2018-02-28   6.384758\n",
       "2018-03-31  -5.805075\n",
       "2018-04-30  -1.501967\n",
       "2018-05-31  13.076365\n",
       "2018-06-30  -0.941831\n",
       "2018-07-31   2.798336\n",
       "2018-08-31  19.622681\n",
       "2018-09-30  -0.830295\n",
       "2018-10-31  -3.047754\n",
       "2018-11-30 -18.404459\n",
       "2018-12-31 -11.669840"
      ]
     },
     "execution_count": 113,
     "metadata": {},
     "output_type": "execute_result"
    }
   ],
   "source": [
    "pd.DataFrame(AAPL_Monthly_ReturnRate, columns = ['Value'])"
   ]
  },
  {
   "cell_type": "code",
   "execution_count": 107,
   "metadata": {},
   "outputs": [
    {
     "data": {
      "text/html": [
       "<div>\n",
       "<style scoped>\n",
       "    .dataframe tbody tr th:only-of-type {\n",
       "        vertical-align: middle;\n",
       "    }\n",
       "\n",
       "    .dataframe tbody tr th {\n",
       "        vertical-align: top;\n",
       "    }\n",
       "\n",
       "    .dataframe thead th {\n",
       "        text-align: right;\n",
       "    }\n",
       "</style>\n",
       "<table border=\"1\" class=\"dataframe\">\n",
       "  <thead>\n",
       "    <tr style=\"text-align: right;\">\n",
       "      <th></th>\n",
       "      <th>Value</th>\n",
       "    </tr>\n",
       "    <tr>\n",
       "      <th>Date</th>\n",
       "      <th></th>\n",
       "    </tr>\n",
       "  </thead>\n",
       "  <tbody>\n",
       "    <tr>\n",
       "      <th>2018-01-31</th>\n",
       "      <td>2.72</td>\n",
       "    </tr>\n",
       "    <tr>\n",
       "      <th>2018-02-28</th>\n",
       "      <td>2.87</td>\n",
       "    </tr>\n",
       "    <tr>\n",
       "      <th>2018-03-31</th>\n",
       "      <td>2.74</td>\n",
       "    </tr>\n",
       "    <tr>\n",
       "      <th>2018-04-30</th>\n",
       "      <td>2.95</td>\n",
       "    </tr>\n",
       "    <tr>\n",
       "      <th>2018-05-31</th>\n",
       "      <td>2.83</td>\n",
       "    </tr>\n",
       "    <tr>\n",
       "      <th>2018-06-30</th>\n",
       "      <td>2.85</td>\n",
       "    </tr>\n",
       "    <tr>\n",
       "      <th>2018-07-31</th>\n",
       "      <td>2.96</td>\n",
       "    </tr>\n",
       "    <tr>\n",
       "      <th>2018-08-31</th>\n",
       "      <td>2.86</td>\n",
       "    </tr>\n",
       "    <tr>\n",
       "      <th>2018-09-30</th>\n",
       "      <td>3.05</td>\n",
       "    </tr>\n",
       "    <tr>\n",
       "      <th>2018-10-31</th>\n",
       "      <td>3.15</td>\n",
       "    </tr>\n",
       "    <tr>\n",
       "      <th>2018-11-30</th>\n",
       "      <td>3.01</td>\n",
       "    </tr>\n",
       "    <tr>\n",
       "      <th>2018-12-31</th>\n",
       "      <td>2.69</td>\n",
       "    </tr>\n",
       "  </tbody>\n",
       "</table>\n",
       "</div>"
      ],
      "text/plain": [
       "            Value\n",
       "Date             \n",
       "2018-01-31   2.72\n",
       "2018-02-28   2.87\n",
       "2018-03-31   2.74\n",
       "2018-04-30   2.95\n",
       "2018-05-31   2.83\n",
       "2018-06-30   2.85\n",
       "2018-07-31   2.96\n",
       "2018-08-31   2.86\n",
       "2018-09-30   3.05\n",
       "2018-10-31   3.15\n",
       "2018-11-30   3.01\n",
       "2018-12-31   2.69"
      ]
     },
     "execution_count": 107,
     "metadata": {},
     "output_type": "execute_result"
    }
   ],
   "source": [
    "ten_year"
   ]
  },
  {
   "cell_type": "code",
   "execution_count": 94,
   "metadata": {},
   "outputs": [],
   "source": [
    "difference = AAPL_Monthly_ReturnRate - ten_year.Value.values"
   ]
  },
  {
   "cell_type": "code",
   "execution_count": 114,
   "metadata": {},
   "outputs": [
    {
     "data": {
      "text/html": [
       "<div>\n",
       "<style scoped>\n",
       "    .dataframe tbody tr th:only-of-type {\n",
       "        vertical-align: middle;\n",
       "    }\n",
       "\n",
       "    .dataframe tbody tr th {\n",
       "        vertical-align: top;\n",
       "    }\n",
       "\n",
       "    .dataframe thead th {\n",
       "        text-align: right;\n",
       "    }\n",
       "</style>\n",
       "<table border=\"1\" class=\"dataframe\">\n",
       "  <thead>\n",
       "    <tr style=\"text-align: right;\">\n",
       "      <th></th>\n",
       "      <th>0</th>\n",
       "    </tr>\n",
       "    <tr>\n",
       "      <th>Date</th>\n",
       "      <th></th>\n",
       "    </tr>\n",
       "  </thead>\n",
       "  <tbody>\n",
       "    <tr>\n",
       "      <th>2018-01-31</th>\n",
       "      <td>-3.783641</td>\n",
       "    </tr>\n",
       "    <tr>\n",
       "      <th>2018-02-28</th>\n",
       "      <td>3.514758</td>\n",
       "    </tr>\n",
       "    <tr>\n",
       "      <th>2018-03-31</th>\n",
       "      <td>-8.545075</td>\n",
       "    </tr>\n",
       "    <tr>\n",
       "      <th>2018-04-30</th>\n",
       "      <td>-4.451967</td>\n",
       "    </tr>\n",
       "    <tr>\n",
       "      <th>2018-05-31</th>\n",
       "      <td>10.246365</td>\n",
       "    </tr>\n",
       "    <tr>\n",
       "      <th>2018-06-30</th>\n",
       "      <td>-3.791831</td>\n",
       "    </tr>\n",
       "    <tr>\n",
       "      <th>2018-07-31</th>\n",
       "      <td>-0.161664</td>\n",
       "    </tr>\n",
       "    <tr>\n",
       "      <th>2018-08-31</th>\n",
       "      <td>16.762681</td>\n",
       "    </tr>\n",
       "    <tr>\n",
       "      <th>2018-09-30</th>\n",
       "      <td>-3.880295</td>\n",
       "    </tr>\n",
       "    <tr>\n",
       "      <th>2018-10-31</th>\n",
       "      <td>-6.197754</td>\n",
       "    </tr>\n",
       "    <tr>\n",
       "      <th>2018-11-30</th>\n",
       "      <td>-21.414459</td>\n",
       "    </tr>\n",
       "    <tr>\n",
       "      <th>2018-12-31</th>\n",
       "      <td>-14.359840</td>\n",
       "    </tr>\n",
       "  </tbody>\n",
       "</table>\n",
       "</div>"
      ],
      "text/plain": [
       "                    0\n",
       "Date                 \n",
       "2018-01-31  -3.783641\n",
       "2018-02-28   3.514758\n",
       "2018-03-31  -8.545075\n",
       "2018-04-30  -4.451967\n",
       "2018-05-31  10.246365\n",
       "2018-06-30  -3.791831\n",
       "2018-07-31  -0.161664\n",
       "2018-08-31  16.762681\n",
       "2018-09-30  -3.880295\n",
       "2018-10-31  -6.197754\n",
       "2018-11-30 -21.414459\n",
       "2018-12-31 -14.359840"
      ]
     },
     "execution_count": 114,
     "metadata": {},
     "output_type": "execute_result"
    }
   ],
   "source": [
    "pd.DataFrame(difference)"
   ]
  },
  {
   "cell_type": "code",
   "execution_count": 115,
   "metadata": {},
   "outputs": [
    {
     "data": {
      "text/plain": [
       "-3.0052269198216597"
      ]
     },
     "execution_count": 115,
     "metadata": {},
     "output_type": "execute_result"
    }
   ],
   "source": [
    "difference.mean()"
   ]
  },
  {
   "cell_type": "code",
   "execution_count": 116,
   "metadata": {},
   "outputs": [
    {
     "data": {
      "text/plain": [
       "10.13438619727799"
      ]
     },
     "execution_count": 116,
     "metadata": {},
     "output_type": "execute_result"
    }
   ],
   "source": [
    "difference.std()"
   ]
  },
  {
   "cell_type": "code",
   "execution_count": 117,
   "metadata": {},
   "outputs": [
    {
     "data": {
      "text/plain": [
       "-0.2965376354641821"
      ]
     },
     "execution_count": 117,
     "metadata": {},
     "output_type": "execute_result"
    }
   ],
   "source": [
    "difference.mean() / difference.std()"
   ]
  },
  {
   "cell_type": "markdown",
   "metadata": {},
   "source": []
  }
 ],
 "metadata": {
  "kernelspec": {
   "display_name": "Python 3",
   "language": "python",
   "name": "python3"
  },
  "language_info": {
   "codemirror_mode": {
    "name": "ipython",
    "version": 3
   },
   "file_extension": ".py",
   "mimetype": "text/x-python",
   "name": "python",
   "nbconvert_exporter": "python",
   "pygments_lexer": "ipython3",
   "version": "3.6.5"
  }
 },
 "nbformat": 4,
 "nbformat_minor": 2
}
