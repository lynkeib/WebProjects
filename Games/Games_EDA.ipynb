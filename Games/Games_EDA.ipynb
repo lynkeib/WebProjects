{
 "cells": [
  {
   "cell_type": "markdown",
   "metadata": {},
   "source": [
    "# Exploratory Data Analysis of Games from 1970 to 2016"
   ]
  },
  {
   "cell_type": "markdown",
   "metadata": {},
   "source": [
    "This dataset from Kaggle contains the data of games released from 1970 to 2016, we can obtain the following things of a game from this dataset:\n",
    "1. the **Release Date** of the game\n",
    "2. the **Genre** of the game\n",
    "3. which **Platform** the game supports\n",
    "4. the **Score** of the game\n",
    "5. the **Title(Name)** of the game\n",
    "\n",
    "From the data we have above, this Exploratory Data Analysis is trying to answer the questions below:\n",
    "1. When is the best time to release a game?\n",
    "2. What platforms are popular?\n",
    "3. What kinds of genre are popular?\n",
    "4. What are the main topics of the popular games?\n",
    "5. Others"
   ]
  },
  {
   "cell_type": "markdown",
   "metadata": {},
   "source": [
    "# Import Packages"
   ]
  },
  {
   "cell_type": "code",
   "execution_count": 1,
   "metadata": {},
   "outputs": [
    {
     "ename": "ModuleNotFoundError",
     "evalue": "No module named 'wordcloud'",
     "output_type": "error",
     "traceback": [
      "\u001b[0;31m---------------------------------------------------------------------------\u001b[0m",
      "\u001b[0;31mModuleNotFoundError\u001b[0m                       Traceback (most recent call last)",
      "\u001b[0;32m<ipython-input-1-72f7a77e6b56>\u001b[0m in \u001b[0;36m<module>\u001b[0;34m\u001b[0m\n\u001b[1;32m      5\u001b[0m \u001b[0;32mimport\u001b[0m \u001b[0mos\u001b[0m\u001b[0;34m\u001b[0m\u001b[0;34m\u001b[0m\u001b[0m\n\u001b[1;32m      6\u001b[0m \u001b[0;32mimport\u001b[0m \u001b[0mwarnings\u001b[0m\u001b[0;34m\u001b[0m\u001b[0;34m\u001b[0m\u001b[0m\n\u001b[0;32m----> 7\u001b[0;31m \u001b[0;32mimport\u001b[0m \u001b[0mwordcloud\u001b[0m\u001b[0;34m\u001b[0m\u001b[0;34m\u001b[0m\u001b[0m\n\u001b[0m\u001b[1;32m      8\u001b[0m \u001b[0;32mimport\u001b[0m \u001b[0mscipy\u001b[0m\u001b[0;34m.\u001b[0m\u001b[0mmisc\u001b[0m\u001b[0;34m\u001b[0m\u001b[0;34m\u001b[0m\u001b[0m\n\u001b[1;32m      9\u001b[0m \u001b[0mwarnings\u001b[0m\u001b[0;34m.\u001b[0m\u001b[0mfilterwarnings\u001b[0m\u001b[0;34m(\u001b[0m\u001b[0;34m'ignore'\u001b[0m\u001b[0;34m)\u001b[0m\u001b[0;34m\u001b[0m\u001b[0;34m\u001b[0m\u001b[0m\n",
      "\u001b[0;31mModuleNotFoundError\u001b[0m: No module named 'wordcloud'"
     ]
    }
   ],
   "source": [
    "import pandas as pd\n",
    "import numpy as np\n",
    "import matplotlib.pyplot as plt\n",
    "import seaborn as sns\n",
    "import os\n",
    "import warnings\n",
    "import wordcloud \n",
    "import scipy.misc\n",
    "warnings.filterwarnings('ignore')\n",
    "%matplotlib inline"
   ]
  },
  {
   "cell_type": "markdown",
   "metadata": {},
   "source": [
    "# Import Data"
   ]
  },
  {
   "cell_type": "code",
   "execution_count": null,
   "metadata": {},
   "outputs": [],
   "source": [
    "path = os.getcwd()\n",
    "data = pd.read_csv(path + '/Data/ign.csv')"
   ]
  },
  {
   "cell_type": "code",
   "execution_count": null,
   "metadata": {},
   "outputs": [],
   "source": [
    "data.info()"
   ]
  },
  {
   "cell_type": "markdown",
   "metadata": {},
   "source": [
    "We can see that there are NAs in __genre__ column, so the next step is to remove them"
   ]
  },
  {
   "cell_type": "code",
   "execution_count": null,
   "metadata": {},
   "outputs": [],
   "source": [
    "data_c = data.dropna()"
   ]
  },
  {
   "cell_type": "code",
   "execution_count": null,
   "metadata": {},
   "outputs": [],
   "source": [
    "data_c.info()"
   ]
  },
  {
   "cell_type": "code",
   "execution_count": null,
   "metadata": {},
   "outputs": [],
   "source": [
    "data_c.head()"
   ]
  },
  {
   "cell_type": "code",
   "execution_count": null,
   "metadata": {},
   "outputs": [],
   "source": [
    "data_c.describe()"
   ]
  },
  {
   "cell_type": "markdown",
   "metadata": {},
   "source": [
    "# Question 1: When is the best time to release a game?"
   ]
  },
  {
   "cell_type": "markdown",
   "metadata": {},
   "source": [
    "To answer this question, let's first look at the distrbution of the release year"
   ]
  },
  {
   "cell_type": "code",
   "execution_count": null,
   "metadata": {},
   "outputs": [],
   "source": [
    "sns.countplot(data_c['release_year'],\n",
    "             color = 'blue')\n",
    "plt.title('Number of games released in year')\n",
    "plt.xticks(rotation = 90);"
   ]
  },
  {
   "cell_type": "markdown",
   "metadata": {},
   "source": [
    "Here we can see that the data points in 1970 are outliers, therefore we should remove them from our analysis"
   ]
  },
  {
   "cell_type": "code",
   "execution_count": null,
   "metadata": {},
   "outputs": [],
   "source": [
    "data_cc = data_c[data_c['release_year'] > 1970]"
   ]
  },
  {
   "cell_type": "code",
   "execution_count": null,
   "metadata": {},
   "outputs": [],
   "source": [
    "data_cc.describe()"
   ]
  },
  {
   "cell_type": "code",
   "execution_count": null,
   "metadata": {},
   "outputs": [],
   "source": [
    "sns.countplot(data_cc['release_year'],\n",
    "             color = 'blue')\n",
    "plt.title('Number of games released in each year')\n",
    "plt.xticks(rotation = 90);"
   ]
  },
  {
   "cell_type": "markdown",
   "metadata": {},
   "source": [
    "Without having the outliers, apparently the number of games are increasing from 1996 and reaches the peak in the year of 2008, then followed by a decreasing till 2016"
   ]
  },
  {
   "cell_type": "markdown",
   "metadata": {},
   "source": [
    "Then, let's look at the distrbution of the release month"
   ]
  },
  {
   "cell_type": "code",
   "execution_count": null,
   "metadata": {},
   "outputs": [],
   "source": [
    "sns.countplot(data_cc['release_month'],\n",
    "             color = 'blue')\n",
    "plt.title('Number of games released in each month');"
   ]
  },
  {
   "cell_type": "markdown",
   "metadata": {},
   "source": [
    "Here we can see that game makers prefer release their games at the end of the year, then what about the weekdays?"
   ]
  },
  {
   "cell_type": "code",
   "execution_count": null,
   "metadata": {},
   "outputs": [],
   "source": [
    "data_cc['Date'] = pd.to_datetime(data_cc['release_year'].astype(str) + '-' + data_cc['release_month'].astype(str) + '-' + data_cc['release_day'].astype(str))"
   ]
  },
  {
   "cell_type": "code",
   "execution_count": null,
   "metadata": {},
   "outputs": [],
   "source": [
    "data_cc['Weekday'] = data_cc['Date'].dt.weekday_name"
   ]
  },
  {
   "cell_type": "code",
   "execution_count": null,
   "metadata": {},
   "outputs": [],
   "source": [
    "sns.countplot(data_cc['Weekday'],\n",
    "             color = 'blue',\n",
    "             order = ['Sunday', 'Monday', 'Tuesday', 'Wednesday', 'Thursday', 'Friday', 'Saturday'])\n",
    "\n",
    "plt.title('Number of games released in each weekday')\n",
    "plt.xticks(rotation = 20);"
   ]
  },
  {
   "cell_type": "markdown",
   "metadata": {},
   "source": [
    "It is interesting that game makers prefer release their games during the workdays"
   ]
  },
  {
   "cell_type": "markdown",
   "metadata": {},
   "source": [
    "__Brief Summary__:  \n",
    "The year of 2008 has the most of the games released and game makers like releasing their game at the end of the year and during the workdays"
   ]
  },
  {
   "cell_type": "markdown",
   "metadata": {},
   "source": [
    "We have explored the relationship between the number of games and the time, how about the relationship between the feedbacks(score) and the time?  \n",
    "First, let's look at how scores distribute"
   ]
  },
  {
   "cell_type": "code",
   "execution_count": null,
   "metadata": {},
   "outputs": [],
   "source": [
    "sns.distplot(data_cc['score'],\n",
    "             kde=False,\n",
    "             bins = 10,\n",
    "             hist_kws=dict(edgecolor=\"k\"))\n",
    "plt.ylabel('count')\n",
    "plt.title('Distribution of scores');"
   ]
  },
  {
   "cell_type": "markdown",
   "metadata": {},
   "source": [
    "The distribution of scores is left skewed and the most of the scores are gathering around 8, which means most of the games have a relatively high score. Then let's find out is there any good time for game makers to release their game to gain a high score."
   ]
  },
  {
   "cell_type": "code",
   "execution_count": null,
   "metadata": {},
   "outputs": [],
   "source": [
    "year_score = pd.DataFrame(data_cc.groupby('release_year')['score'].mean()).reset_index()\n",
    "plt.figure(figsize=(22,10))\n",
    "plt.subplot(2,2,1)\n",
    "sns.barplot(x = 'release_year',\n",
    "            y = 'score',\n",
    "            data = year_score,\n",
    "            color = 'blue')\n",
    "plt.xticks(rotation = 35, size = 20)\n",
    "plt.xlabel('Release Year', size = 20)\n",
    "plt.yticks(size = 20)\n",
    "plt.ylabel('Score', size = 20)\n",
    "plt.title('Year VS Score', size = 20)\n",
    "plt.subplot(2,2,2)\n",
    "month_score = pd.DataFrame(data_cc.groupby('release_month')['score'].mean()).reset_index()\n",
    "sns.barplot(x = 'release_month',\n",
    "            y = 'score',\n",
    "            data = month_score,\n",
    "            color = 'blue')\n",
    "plt.xticks(size = 20)\n",
    "plt.xlabel('Release Month', size = 20)\n",
    "plt.yticks(size = 20)\n",
    "plt.ylabel('Score', size = 20)\n",
    "plt.title('Month VS Score', size = 20)\n",
    "plt.subplot(2,1,2)\n",
    "wday_score = pd.DataFrame(data_cc.groupby('Weekday')['score'].mean()).reset_index()\n",
    "sns.barplot(x = 'Weekday',\n",
    "            y = 'score',\n",
    "            data = wday_score,\n",
    "            color = 'blue',\n",
    "           order = ['Sunday', 'Monday', 'Tuesday', 'Wednesday', 'Thursday', 'Friday', 'Saturday'])\n",
    "plt.xticks(size = 20)\n",
    "plt.xlabel('Release Weekday', size = 20)\n",
    "plt.yticks(size = 20)\n",
    "plt.ylabel('Score', size = 20)\n",
    "plt.title('Weekday VS Score', size = 20)\n",
    "plt.tight_layout()"
   ]
  },
  {
   "cell_type": "markdown",
   "metadata": {},
   "source": [
    "There are not huge differences in terms of score in difference time peroid. So maybe the release time is not a main factor that influences the score of a game. But games released in September or on Sunday have a reletively high score."
   ]
  },
  {
   "cell_type": "markdown",
   "metadata": {},
   "source": [
    "# Question 2: What platforms are popular?"
   ]
  },
  {
   "cell_type": "markdown",
   "metadata": {},
   "source": [
    "For this part, I am going to do the analysis from two aspects: from the view of __game makers__ and from the view of __players__"
   ]
  },
  {
   "cell_type": "markdown",
   "metadata": {},
   "source": [
    "## For game makers"
   ]
  },
  {
   "cell_type": "markdown",
   "metadata": {},
   "source": [
    "If a platform has lots of game released on it, then I consider it as a popular platform for game makers."
   ]
  },
  {
   "cell_type": "code",
   "execution_count": null,
   "metadata": {},
   "outputs": [],
   "source": [
    "platform_makers = pd.DataFrame(data_cc.groupby('platform')['title'].count()).sort_values(by = 'title', ascending=False).head(20).reset_index()\n",
    "platform_makers = platform_makers.rename(columns={'title':'count'})\n",
    "sns.barplot(y = 'platform',\n",
    "            x = 'count',\n",
    "            data = platform_makers,\n",
    "            color = 'blue')\n",
    "plt.title('TOP 20 popular platforms for game makers');"
   ]
  },
  {
   "cell_type": "code",
   "execution_count": null,
   "metadata": {},
   "outputs": [],
   "source": [
    "platform_makers['percentage'] = (round(platform_makers['count'] * 100 / 18589.0, 2)).astype(str) + '%'\n",
    "platform_makers"
   ]
  },
  {
   "cell_type": "markdown",
   "metadata": {},
   "source": [
    "By plotting the top 20 popular platform for game makers, we can see that PC is the most popular platform for them, 18.11% of the games released from 1970 to 2016 support the PC platform. "
   ]
  },
  {
   "cell_type": "markdown",
   "metadata": {},
   "source": [
    "## For players"
   ]
  },
  {
   "cell_type": "markdown",
   "metadata": {},
   "source": [
    "An important indicator to find which games are popular among the players is the score rated by themselves, if a certain platform has lots of high rated games released on it, then I consider it as a popular platform for players."
   ]
  },
  {
   "cell_type": "code",
   "execution_count": null,
   "metadata": {},
   "outputs": [],
   "source": [
    "platform_players = pd.DataFrame(data_cc.groupby('platform')['score'].mean()).sort_values(by = 'score', ascending=False).head(20).reset_index()\n",
    "sns.barplot(y = 'platform',\n",
    "            x = 'score',\n",
    "            data = platform_players,\n",
    "            color = 'blue')\n",
    "plt.title('TOP 20 popular platforms for players');"
   ]
  },
  {
   "cell_type": "markdown",
   "metadata": {},
   "source": [
    "* Here we can see that for players, the case is different, SteamOS is the platform that has the highest average score of games released on it, while PC is not on the TOP 20 list. <br>\n",
    "* But at the same time, there are not so many games released on the platform of SteamOS as well. <br>\n",
    "* Platforms that on the both of the TOP lists: Playstation 4, Xbox One, Nintendo 3DS."
   ]
  },
  {
   "cell_type": "markdown",
   "metadata": {},
   "source": [
    "# Question 3: What kinds of genre are popular?"
   ]
  },
  {
   "cell_type": "markdown",
   "metadata": {},
   "source": [
    "Similarly, I am also going to seperate this question into two parts: __game makers'__ side and __players'__ side"
   ]
  },
  {
   "cell_type": "markdown",
   "metadata": {},
   "source": [
    "## For game makers"
   ]
  },
  {
   "cell_type": "code",
   "execution_count": null,
   "metadata": {},
   "outputs": [],
   "source": [
    "platform_makers = pd.DataFrame(data_cc.groupby('genre')['title'].count()).sort_values(by = 'title', ascending=False).head(20).reset_index()\n",
    "platform_makers = platform_makers.rename(columns={'title':'count'})\n",
    "sns.barplot(y = 'genre',\n",
    "            x = 'count',\n",
    "            data = platform_makers,\n",
    "            color = 'blue')\n",
    "plt.title('TOP 20 popular genres for game makers');"
   ]
  },
  {
   "cell_type": "code",
   "execution_count": null,
   "metadata": {},
   "outputs": [],
   "source": [
    "platform_makers['percentage'] = (round(platform_makers['count'] * 100 / 18589.0, 2)).astype(str) + '%'\n",
    "platform_makers"
   ]
  },
  {
   "cell_type": "markdown",
   "metadata": {},
   "source": [
    "Action game is the most popular game for the game makers, 20% of the games are action game, almost more than twice as many as the second one. 50% of the games made during 1970 to 2016 are Action, Sports, Shooter, Racing and Adventure games."
   ]
  },
  {
   "cell_type": "markdown",
   "metadata": {},
   "source": [
    "## For players"
   ]
  },
  {
   "cell_type": "code",
   "execution_count": null,
   "metadata": {},
   "outputs": [],
   "source": [
    "platform_makers = pd.DataFrame(data_cc.groupby('genre')['score'].mean()).sort_values(by = 'score', ascending=False).head(20).reset_index()\n",
    "sns.barplot(y = 'genre',\n",
    "            x = 'score',\n",
    "            data = platform_makers,\n",
    "            color = 'blue')\n",
    "plt.title('TOP 20 popular genres for players');"
   ]
  },
  {
   "cell_type": "markdown",
   "metadata": {},
   "source": [
    "Compilation has the highest score among all the game genres (this may because the game makers only choose the popular games together to make the compilation)"
   ]
  },
  {
   "cell_type": "markdown",
   "metadata": {},
   "source": [
    "# Question4: What are the titles of the popular games?"
   ]
  },
  {
   "cell_type": "markdown",
   "metadata": {},
   "source": [
    "Here we select TOP 50% games for players to analyze."
   ]
  },
  {
   "cell_type": "code",
   "execution_count": null,
   "metadata": {},
   "outputs": [],
   "source": [
    "top_score = data_cc.sort_values(by = 'score', ascending = False).head(int(data_cc.shape[0]/2))"
   ]
  },
  {
   "cell_type": "code",
   "execution_count": null,
   "metadata": {},
   "outputs": [],
   "source": [
    "long_string = ' '.join(top_score['title'].tolist())\n",
    "im = scipy.misc.imread(path + '/Data/PS copy.jpg')\n",
    "wordclouds = wordcloud.WordCloud(stopwords=wordcloud.STOPWORDS, \n",
    "                                 mask = im, \n",
    "                                 background_color='white',\n",
    "                                 scale = .5)\n",
    "wordclouds.generate(long_string)\n",
    "wordclouds.to_image()"
   ]
  },
  {
   "cell_type": "markdown",
   "metadata": {},
   "source": [
    "Above is the wordcloud about the TOP 50% popular games' titles, here we can see __Call Duyt__, __Final Fantasy__ and __Tom Clancy__ etc. "
   ]
  },
  {
   "cell_type": "markdown",
   "metadata": {},
   "source": [
    "# Question 5: Others"
   ]
  },
  {
   "cell_type": "markdown",
   "metadata": {},
   "source": [
    "In this section, I am going to comine the variables above, trying to find is there any other interesting things that cannnot be found by only analyzing one variable."
   ]
  },
  {
   "cell_type": "markdown",
   "metadata": {},
   "source": [
    "## Year/Month and Genre"
   ]
  },
  {
   "cell_type": "code",
   "execution_count": null,
   "metadata": {},
   "outputs": [],
   "source": [
    "genres_count = pd.DataFrame(data_cc.groupby(by = 'genre')['title'].count()).sort_values(by = 'title', ascending = False)[:20].reset_index()\n",
    "top_genres = data_cc[data_cc['genre'].isin(genres_count['genre'])]\n",
    "year_genre = top_genres.groupby(['release_year', 'genre'])['title'].count().reset_index().sort_values(by = 'title')\n",
    "year_genre = pd.pivot_table(year_genre,\n",
    "                            values = 'title', \n",
    "                            index = 'release_year', \n",
    "                            columns = 'genre')\n",
    "plt.figure(figsize=(15,7))\n",
    "sns.heatmap(data = year_genre, \n",
    "            annot=True, \n",
    "            fmt='3.0f', \n",
    "            cmap=\"YlGnBu\", linewidth = .5)\n",
    "plt.title('Year VS Genre');"
   ]
  },
  {
   "cell_type": "markdown",
   "metadata": {},
   "source": [
    "Here we can see that most of the games reach their top released number in the year of 2008, but __Racing, Action__ game reached its top in 2000."
   ]
  },
  {
   "cell_type": "code",
   "execution_count": null,
   "metadata": {},
   "outputs": [],
   "source": [
    "year_genre = top_genres.groupby(['release_month', 'genre'])['title'].count().reset_index().sort_values(by = 'title')\n",
    "year_genre = pd.pivot_table(year_genre,\n",
    "                            values = 'title', \n",
    "                            index = 'release_month', \n",
    "                            columns = 'genre')\n",
    "plt.figure(figsize=(15,7))\n",
    "sns.heatmap(data = year_genre, \n",
    "            annot=True, \n",
    "            fmt='3.0f', \n",
    "            cmap=\"YlGnBu\", linewidth = .5)\n",
    "plt.title('Year VS Genre');"
   ]
  },
  {
   "cell_type": "markdown",
   "metadata": {},
   "source": [
    "For month, there is no significant differnece from the analysis before, most of the games are released at the end of the year."
   ]
  },
  {
   "cell_type": "markdown",
   "metadata": {},
   "source": [
    "## Year VS Platform"
   ]
  },
  {
   "cell_type": "code",
   "execution_count": null,
   "metadata": {},
   "outputs": [],
   "source": [
    "genres_count = pd.DataFrame(data_cc.groupby(by = 'platform')['title'].count()).sort_values(by = 'title', ascending = False).reset_index()[:20]\n",
    "top_genres = data_cc[data_cc['platform'].isin(genres_count['platform'])]\n",
    "year_genre = top_genres.groupby(['release_year', 'platform'])['title'].count().reset_index().sort_values(by = 'title')\n",
    "year_genre = pd.pivot_table(year_genre,\n",
    "                            values = 'title', \n",
    "                            index = 'release_year', \n",
    "                            columns = 'platform')\n",
    "plt.figure(figsize=(15,7))\n",
    "sns.heatmap(data = year_genre, \n",
    "            annot=True, \n",
    "            fmt='3.0f', \n",
    "            cmap=\"YlGnBu\", linewidth = .5)\n",
    "plt.title('Year VS Genre');"
   ]
  },
  {
   "cell_type": "markdown",
   "metadata": {},
   "source": [
    "It is not suprise to see that there are lots of blanks in the heatmap above, because some platforms only appear recently and some of them disapperaed over time. So here we can see that PC platform has last a really long time but the number of games released on it is decreasing after 2008, and such number on PlayStation Series folllows the same pattern, where the number of games released on it is small at the beginning and the ending of its product life cycle and reachs its top at the middle, the form of the distribution is like a bell. So we can predict that there will be more games releasedon PS4 after 2016. And this is also the case happens on Xbox Series."
   ]
  },
  {
   "cell_type": "code",
   "execution_count": null,
   "metadata": {},
   "outputs": [],
   "source": []
  }
 ],
 "metadata": {
  "kernelspec": {
   "display_name": "Python 3",
   "language": "python",
   "name": "python3"
  },
  "language_info": {
   "codemirror_mode": {
    "name": "ipython",
    "version": 3
   },
   "file_extension": ".py",
   "mimetype": "text/x-python",
   "name": "python",
   "nbconvert_exporter": "python",
   "pygments_lexer": "ipython3",
   "version": "3.7.2"
  }
 },
 "nbformat": 4,
 "nbformat_minor": 2
}
