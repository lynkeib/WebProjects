{
 "cells": [
  {
   "cell_type": "code",
   "execution_count": 1,
   "metadata": {},
   "outputs": [],
   "source": [
    "import pandas as pd\n",
    "import numpy as np\n",
    "from scipy.stats import *"
   ]
  },
  {
   "cell_type": "code",
   "execution_count": 2,
   "metadata": {},
   "outputs": [],
   "source": [
    "df = pd.read_csv('Data/all_df_before_1101.csv', index_col = 0)"
   ]
  },
  {
   "cell_type": "code",
   "execution_count": 3,
   "metadata": {},
   "outputs": [],
   "source": [
    "del df['Recnum']\n",
    "df['Random'] = np.random.random(df.shape[0])"
   ]
  },
  {
   "cell_type": "code",
   "execution_count": 4,
   "metadata": {},
   "outputs": [
    {
     "data": {
      "text/html": [
       "<div>\n",
       "<style scoped>\n",
       "    .dataframe tbody tr th:only-of-type {\n",
       "        vertical-align: middle;\n",
       "    }\n",
       "\n",
       "    .dataframe tbody tr th {\n",
       "        vertical-align: top;\n",
       "    }\n",
       "\n",
       "    .dataframe thead th {\n",
       "        text-align: right;\n",
       "    }\n",
       "</style>\n",
       "<table border=\"1\" class=\"dataframe\">\n",
       "  <thead>\n",
       "    <tr style=\"text-align: right;\">\n",
       "      <th></th>\n",
       "      <th>Amount_avg_card_1</th>\n",
       "      <th>Amount_avg_card_3</th>\n",
       "      <th>Amount_avg_card_7</th>\n",
       "      <th>Amount_avg_card_14</th>\n",
       "      <th>Amount_avg_card_30</th>\n",
       "      <th>Amount_max_card_1</th>\n",
       "      <th>Amount_max_card_3</th>\n",
       "      <th>Amount_max_card_7</th>\n",
       "      <th>Amount_max_card_14</th>\n",
       "      <th>Amount_max_card_30</th>\n",
       "      <th>...</th>\n",
       "      <th>AM1_ACC7</th>\n",
       "      <th>AM1_ACC14</th>\n",
       "      <th>AM1_ACC30</th>\n",
       "      <th>AM1_ANM7</th>\n",
       "      <th>AM1_ANM14</th>\n",
       "      <th>AM1_ANM30</th>\n",
       "      <th>AM1_AAM7</th>\n",
       "      <th>AM1_AAM14</th>\n",
       "      <th>AM1_AAM30</th>\n",
       "      <th>Random</th>\n",
       "    </tr>\n",
       "  </thead>\n",
       "  <tbody>\n",
       "    <tr>\n",
       "      <th>0</th>\n",
       "      <td>3.62</td>\n",
       "      <td>3.62</td>\n",
       "      <td>3.62</td>\n",
       "      <td>3.62</td>\n",
       "      <td>3.62</td>\n",
       "      <td>3.62</td>\n",
       "      <td>3.62</td>\n",
       "      <td>3.62</td>\n",
       "      <td>3.62</td>\n",
       "      <td>3.62</td>\n",
       "      <td>...</td>\n",
       "      <td>1.0</td>\n",
       "      <td>1.0</td>\n",
       "      <td>1.0</td>\n",
       "      <td>25.34</td>\n",
       "      <td>50.68</td>\n",
       "      <td>108.6</td>\n",
       "      <td>1.0</td>\n",
       "      <td>1.0</td>\n",
       "      <td>1.0</td>\n",
       "      <td>0.522589</td>\n",
       "    </tr>\n",
       "    <tr>\n",
       "      <th>1</th>\n",
       "      <td>31.42</td>\n",
       "      <td>31.42</td>\n",
       "      <td>31.42</td>\n",
       "      <td>31.42</td>\n",
       "      <td>31.42</td>\n",
       "      <td>31.42</td>\n",
       "      <td>31.42</td>\n",
       "      <td>31.42</td>\n",
       "      <td>31.42</td>\n",
       "      <td>31.42</td>\n",
       "      <td>...</td>\n",
       "      <td>1.0</td>\n",
       "      <td>1.0</td>\n",
       "      <td>1.0</td>\n",
       "      <td>219.94</td>\n",
       "      <td>439.88</td>\n",
       "      <td>942.6</td>\n",
       "      <td>1.0</td>\n",
       "      <td>1.0</td>\n",
       "      <td>1.0</td>\n",
       "      <td>0.065633</td>\n",
       "    </tr>\n",
       "    <tr>\n",
       "      <th>2</th>\n",
       "      <td>178.49</td>\n",
       "      <td>178.49</td>\n",
       "      <td>178.49</td>\n",
       "      <td>178.49</td>\n",
       "      <td>178.49</td>\n",
       "      <td>178.49</td>\n",
       "      <td>178.49</td>\n",
       "      <td>178.49</td>\n",
       "      <td>178.49</td>\n",
       "      <td>178.49</td>\n",
       "      <td>...</td>\n",
       "      <td>1.0</td>\n",
       "      <td>1.0</td>\n",
       "      <td>1.0</td>\n",
       "      <td>1249.43</td>\n",
       "      <td>2498.86</td>\n",
       "      <td>5354.7</td>\n",
       "      <td>1.0</td>\n",
       "      <td>1.0</td>\n",
       "      <td>1.0</td>\n",
       "      <td>0.361860</td>\n",
       "    </tr>\n",
       "    <tr>\n",
       "      <th>3</th>\n",
       "      <td>3.62</td>\n",
       "      <td>3.62</td>\n",
       "      <td>3.62</td>\n",
       "      <td>3.62</td>\n",
       "      <td>3.62</td>\n",
       "      <td>3.62</td>\n",
       "      <td>3.62</td>\n",
       "      <td>3.62</td>\n",
       "      <td>3.62</td>\n",
       "      <td>3.62</td>\n",
       "      <td>...</td>\n",
       "      <td>2.0</td>\n",
       "      <td>2.0</td>\n",
       "      <td>2.0</td>\n",
       "      <td>25.34</td>\n",
       "      <td>50.68</td>\n",
       "      <td>108.6</td>\n",
       "      <td>2.0</td>\n",
       "      <td>2.0</td>\n",
       "      <td>2.0</td>\n",
       "      <td>0.812506</td>\n",
       "    </tr>\n",
       "    <tr>\n",
       "      <th>4</th>\n",
       "      <td>3.62</td>\n",
       "      <td>3.62</td>\n",
       "      <td>3.62</td>\n",
       "      <td>3.62</td>\n",
       "      <td>3.62</td>\n",
       "      <td>3.62</td>\n",
       "      <td>3.62</td>\n",
       "      <td>3.62</td>\n",
       "      <td>3.62</td>\n",
       "      <td>3.62</td>\n",
       "      <td>...</td>\n",
       "      <td>3.0</td>\n",
       "      <td>3.0</td>\n",
       "      <td>3.0</td>\n",
       "      <td>25.34</td>\n",
       "      <td>50.68</td>\n",
       "      <td>108.6</td>\n",
       "      <td>3.0</td>\n",
       "      <td>3.0</td>\n",
       "      <td>3.0</td>\n",
       "      <td>0.920152</td>\n",
       "    </tr>\n",
       "  </tbody>\n",
       "</table>\n",
       "<p>5 rows × 373 columns</p>\n",
       "</div>"
      ],
      "text/plain": [
       "   Amount_avg_card_1  Amount_avg_card_3  Amount_avg_card_7  \\\n",
       "0               3.62               3.62               3.62   \n",
       "1              31.42              31.42              31.42   \n",
       "2             178.49             178.49             178.49   \n",
       "3               3.62               3.62               3.62   \n",
       "4               3.62               3.62               3.62   \n",
       "\n",
       "   Amount_avg_card_14  Amount_avg_card_30  Amount_max_card_1  \\\n",
       "0                3.62                3.62               3.62   \n",
       "1               31.42               31.42              31.42   \n",
       "2              178.49              178.49             178.49   \n",
       "3                3.62                3.62               3.62   \n",
       "4                3.62                3.62               3.62   \n",
       "\n",
       "   Amount_max_card_3  Amount_max_card_7  Amount_max_card_14  \\\n",
       "0               3.62               3.62                3.62   \n",
       "1              31.42              31.42               31.42   \n",
       "2             178.49             178.49              178.49   \n",
       "3               3.62               3.62                3.62   \n",
       "4               3.62               3.62                3.62   \n",
       "\n",
       "   Amount_max_card_30    ...     AM1_ACC7  AM1_ACC14  AM1_ACC30  AM1_ANM7  \\\n",
       "0                3.62    ...          1.0        1.0        1.0     25.34   \n",
       "1               31.42    ...          1.0        1.0        1.0    219.94   \n",
       "2              178.49    ...          1.0        1.0        1.0   1249.43   \n",
       "3                3.62    ...          2.0        2.0        2.0     25.34   \n",
       "4                3.62    ...          3.0        3.0        3.0     25.34   \n",
       "\n",
       "   AM1_ANM14  AM1_ANM30  AM1_AAM7  AM1_AAM14  AM1_AAM30    Random  \n",
       "0      50.68      108.6       1.0        1.0        1.0  0.522589  \n",
       "1     439.88      942.6       1.0        1.0        1.0  0.065633  \n",
       "2    2498.86     5354.7       1.0        1.0        1.0  0.361860  \n",
       "3      50.68      108.6       2.0        2.0        2.0  0.812506  \n",
       "4      50.68      108.6       3.0        3.0        3.0  0.920152  \n",
       "\n",
       "[5 rows x 373 columns]"
      ]
     },
     "execution_count": 4,
     "metadata": {},
     "output_type": "execute_result"
    }
   ],
   "source": [
    "df.head()"
   ]
  },
  {
   "cell_type": "code",
   "execution_count": 5,
   "metadata": {},
   "outputs": [
    {
     "data": {
      "text/plain": [
       "((880, 373), (83090, 373))"
      ]
     },
     "execution_count": 5,
     "metadata": {},
     "output_type": "execute_result"
    }
   ],
   "source": [
    "Fraud_1 = df[df['Fraud'] == 1]\n",
    "Fraud_0 = df[df['Fraud'] == 0]\n",
    "(Fraud_1.shape, Fraud_0.shape)"
   ]
  },
  {
   "cell_type": "code",
   "execution_count": 6,
   "metadata": {},
   "outputs": [],
   "source": [
    "columns = df.columns.values"
   ]
  },
  {
   "cell_type": "code",
   "execution_count": 7,
   "metadata": {},
   "outputs": [],
   "source": [
    "df_dict = {}\n",
    "df_dict['KS'] = {}\n",
    "for column in columns:\n",
    "    df_dict['KS'][column] = ks_2samp(Fraud_0[column], Fraud_1[column])[0]"
   ]
  },
  {
   "cell_type": "code",
   "execution_count": 8,
   "metadata": {},
   "outputs": [],
   "source": [
    "KS_FDR = pd.DataFrame(df_dict)"
   ]
  },
  {
   "cell_type": "code",
   "execution_count": 9,
   "metadata": {},
   "outputs": [
    {
     "data": {
      "text/html": [
       "<div>\n",
       "<style scoped>\n",
       "    .dataframe tbody tr th:only-of-type {\n",
       "        vertical-align: middle;\n",
       "    }\n",
       "\n",
       "    .dataframe tbody tr th {\n",
       "        vertical-align: top;\n",
       "    }\n",
       "\n",
       "    .dataframe thead th {\n",
       "        text-align: right;\n",
       "    }\n",
       "</style>\n",
       "<table border=\"1\" class=\"dataframe\">\n",
       "  <thead>\n",
       "    <tr style=\"text-align: right;\">\n",
       "      <th></th>\n",
       "      <th>KS</th>\n",
       "    </tr>\n",
       "  </thead>\n",
       "  <tbody>\n",
       "    <tr>\n",
       "      <th>Fraud</th>\n",
       "      <td>1.000000</td>\n",
       "    </tr>\n",
       "    <tr>\n",
       "      <th>Amount_sum_card_merchant_7</th>\n",
       "      <td>0.677490</td>\n",
       "    </tr>\n",
       "    <tr>\n",
       "      <th>Amount_sum_card_merchant_14</th>\n",
       "      <td>0.673334</td>\n",
       "    </tr>\n",
       "    <tr>\n",
       "      <th>Amount_sum_card_state_14</th>\n",
       "      <td>0.668354</td>\n",
       "    </tr>\n",
       "    <tr>\n",
       "      <th>Amount_sum_card_zip_14</th>\n",
       "      <td>0.668305</td>\n",
       "    </tr>\n",
       "  </tbody>\n",
       "</table>\n",
       "</div>"
      ],
      "text/plain": [
       "                                   KS\n",
       "Fraud                        1.000000\n",
       "Amount_sum_card_merchant_7   0.677490\n",
       "Amount_sum_card_merchant_14  0.673334\n",
       "Amount_sum_card_state_14     0.668354\n",
       "Amount_sum_card_zip_14       0.668305"
      ]
     },
     "execution_count": 9,
     "metadata": {},
     "output_type": "execute_result"
    }
   ],
   "source": [
    "KS_FDR.sort_values('KS', ascending=False).head()"
   ]
  },
  {
   "cell_type": "code",
   "execution_count": 10,
   "metadata": {},
   "outputs": [
    {
     "data": {
      "text/plain": [
       "2519"
      ]
     },
     "execution_count": 10,
     "metadata": {},
     "output_type": "execute_result"
    }
   ],
   "source": [
    "int(df.shape[0] * 0.03)"
   ]
  },
  {
   "cell_type": "code",
   "execution_count": 11,
   "metadata": {},
   "outputs": [
    {
     "name": "stdout",
     "output_type": "stream",
     "text": [
      "CPU times: user 1min 45s, sys: 54 s, total: 2min 39s\n",
      "Wall time: 2min 40s\n"
     ]
    }
   ],
   "source": [
    "%%time\n",
    "df_dict['FDR'] = {}\n",
    "for column in columns:\n",
    "    top = df.sort_values(column, ascending=False).head(int(df.shape[0] * 0.03))['Fraud'].values\n",
    "    bottom = df.sort_values(column, ascending=True).head(int(df.shape[0] * 0.03))['Fraud'].values\n",
    "    FDR_top = sum(top) / Fraud_1.shape[0]\n",
    "    FDR_bottom = sum(bottom) / Fraud_1.shape[0]\n",
    "    df_dict['FDR'][column] = max(FDR_top, FDR_bottom)"
   ]
  },
  {
   "cell_type": "code",
   "execution_count": 12,
   "metadata": {},
   "outputs": [],
   "source": [
    "KS_FDR = pd.DataFrame(df_dict)"
   ]
  },
  {
   "cell_type": "code",
   "execution_count": 21,
   "metadata": {},
   "outputs": [],
   "source": [
    "KS_FDR[\"KS_RANK\"] = KS_FDR['KS'].rank(ascending = False)\n",
    "KS_FDR[\"FDR_RANK\"] = KS_FDR['FDR'].rank(ascending = False)\n",
    "KS_FDR[\"AVG_RANK\"] = (KS_FDR[\"KS_RANK\"] + KS_FDR[\"FDR_RANK\"]) / 2"
   ]
  },
  {
   "cell_type": "code",
   "execution_count": 24,
   "metadata": {},
   "outputs": [
    {
     "data": {
      "text/html": [
       "<div>\n",
       "<style scoped>\n",
       "    .dataframe tbody tr th:only-of-type {\n",
       "        vertical-align: middle;\n",
       "    }\n",
       "\n",
       "    .dataframe tbody tr th {\n",
       "        vertical-align: top;\n",
       "    }\n",
       "\n",
       "    .dataframe thead th {\n",
       "        text-align: right;\n",
       "    }\n",
       "</style>\n",
       "<table border=\"1\" class=\"dataframe\">\n",
       "  <thead>\n",
       "    <tr style=\"text-align: right;\">\n",
       "      <th></th>\n",
       "      <th>KS</th>\n",
       "      <th>FDR</th>\n",
       "      <th>KS_RANK</th>\n",
       "      <th>FDR_RANK</th>\n",
       "      <th>AVG_RANK</th>\n",
       "    </tr>\n",
       "  </thead>\n",
       "  <tbody>\n",
       "    <tr>\n",
       "      <th>Fraud</th>\n",
       "      <td>1.000000</td>\n",
       "      <td>1.000000</td>\n",
       "      <td>1.0</td>\n",
       "      <td>1.0</td>\n",
       "      <td>1.0</td>\n",
       "    </tr>\n",
       "    <tr>\n",
       "      <th>Amount_sum_card_merchant_7</th>\n",
       "      <td>0.677490</td>\n",
       "      <td>0.635227</td>\n",
       "      <td>2.0</td>\n",
       "      <td>2.0</td>\n",
       "      <td>2.0</td>\n",
       "    </tr>\n",
       "    <tr>\n",
       "      <th>Amount_sum_card_merchant_14</th>\n",
       "      <td>0.673334</td>\n",
       "      <td>0.625000</td>\n",
       "      <td>3.0</td>\n",
       "      <td>3.0</td>\n",
       "      <td>3.0</td>\n",
       "    </tr>\n",
       "    <tr>\n",
       "      <th>Amount_sum_card_state_7</th>\n",
       "      <td>0.667176</td>\n",
       "      <td>0.619318</td>\n",
       "      <td>6.0</td>\n",
       "      <td>4.0</td>\n",
       "      <td>5.0</td>\n",
       "    </tr>\n",
       "    <tr>\n",
       "      <th>Amount_sum_card_zip_7</th>\n",
       "      <td>0.667104</td>\n",
       "      <td>0.617045</td>\n",
       "      <td>7.0</td>\n",
       "      <td>5.0</td>\n",
       "      <td>6.0</td>\n",
       "    </tr>\n",
       "  </tbody>\n",
       "</table>\n",
       "</div>"
      ],
      "text/plain": [
       "                                   KS       FDR  KS_RANK  FDR_RANK  AVG_RANK\n",
       "Fraud                        1.000000  1.000000      1.0       1.0       1.0\n",
       "Amount_sum_card_merchant_7   0.677490  0.635227      2.0       2.0       2.0\n",
       "Amount_sum_card_merchant_14  0.673334  0.625000      3.0       3.0       3.0\n",
       "Amount_sum_card_state_7      0.667176  0.619318      6.0       4.0       5.0\n",
       "Amount_sum_card_zip_7        0.667104  0.617045      7.0       5.0       6.0"
      ]
     },
     "execution_count": 24,
     "metadata": {},
     "output_type": "execute_result"
    }
   ],
   "source": [
    "KS_FDR.sort_values('AVG_RANK', ascending=True).head()"
   ]
  },
  {
   "cell_type": "code",
   "execution_count": 14,
   "metadata": {},
   "outputs": [],
   "source": [
    "KS_FDR.to_csv('Data/KS_FDR.csv')"
   ]
  },
  {
   "cell_type": "code",
   "execution_count": null,
   "metadata": {},
   "outputs": [],
   "source": []
  }
 ],
 "metadata": {
  "kernelspec": {
   "display_name": "Python 3",
   "language": "python",
   "name": "python3"
  },
  "language_info": {
   "codemirror_mode": {
    "name": "ipython",
    "version": 3
   },
   "file_extension": ".py",
   "mimetype": "text/x-python",
   "name": "python",
   "nbconvert_exporter": "python",
   "pygments_lexer": "ipython3",
   "version": "3.7.2"
  },
  "toc": {
   "base_numbering": 1,
   "nav_menu": {},
   "number_sections": true,
   "sideBar": true,
   "skip_h1_title": false,
   "title_cell": "Table of Contents",
   "title_sidebar": "Contents",
   "toc_cell": false,
   "toc_position": {},
   "toc_section_display": true,
   "toc_window_display": false
  }
 },
 "nbformat": 4,
 "nbformat_minor": 2
}
