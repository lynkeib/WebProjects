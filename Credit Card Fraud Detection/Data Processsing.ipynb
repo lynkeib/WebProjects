{
 "cells": [
  {
   "cell_type": "code",
   "execution_count": 1,
   "metadata": {},
   "outputs": [],
   "source": [
    "import pandas as pd\n",
    "import numpy as np\n",
    "from scipy import stats"
   ]
  },
  {
   "cell_type": "code",
   "execution_count": 2,
   "metadata": {},
   "outputs": [],
   "source": [
    "df = pd.read_csv('Data/card transactions.csv')"
   ]
  },
  {
   "cell_type": "code",
   "execution_count": 3,
   "metadata": {},
   "outputs": [],
   "source": [
    "df['Date'] = df['Date'].astype('datetime64[ns]')"
   ]
  },
  {
   "cell_type": "code",
   "execution_count": 4,
   "metadata": {},
   "outputs": [],
   "source": [
    "df = df[df[\"Date\"] < '2010-11-01']"
   ]
  },
  {
   "cell_type": "code",
   "execution_count": 5,
   "metadata": {},
   "outputs": [],
   "source": [
    "df = df.set_index('Date')"
   ]
  },
  {
   "cell_type": "code",
   "execution_count": 6,
   "metadata": {},
   "outputs": [
    {
     "data": {
      "text/html": [
       "<div>\n",
       "<style scoped>\n",
       "    .dataframe tbody tr th:only-of-type {\n",
       "        vertical-align: middle;\n",
       "    }\n",
       "\n",
       "    .dataframe tbody tr th {\n",
       "        vertical-align: top;\n",
       "    }\n",
       "\n",
       "    .dataframe thead th {\n",
       "        text-align: right;\n",
       "    }\n",
       "</style>\n",
       "<table border=\"1\" class=\"dataframe\">\n",
       "  <thead>\n",
       "    <tr style=\"text-align: right;\">\n",
       "      <th></th>\n",
       "      <th>Recnum</th>\n",
       "      <th>Cardnum</th>\n",
       "      <th>Merchnum</th>\n",
       "      <th>Merch description</th>\n",
       "      <th>Merch state</th>\n",
       "      <th>Merch zip</th>\n",
       "      <th>Transtype</th>\n",
       "      <th>Amount</th>\n",
       "      <th>Fraud</th>\n",
       "    </tr>\n",
       "    <tr>\n",
       "      <th>Date</th>\n",
       "      <th></th>\n",
       "      <th></th>\n",
       "      <th></th>\n",
       "      <th></th>\n",
       "      <th></th>\n",
       "      <th></th>\n",
       "      <th></th>\n",
       "      <th></th>\n",
       "      <th></th>\n",
       "    </tr>\n",
       "  </thead>\n",
       "  <tbody>\n",
       "    <tr>\n",
       "      <th>2010-01-01</th>\n",
       "      <td>1</td>\n",
       "      <td>5142190439</td>\n",
       "      <td>5509006296254</td>\n",
       "      <td>FEDEX SHP 12/23/09 AB#</td>\n",
       "      <td>TN</td>\n",
       "      <td>38118.0</td>\n",
       "      <td>P</td>\n",
       "      <td>3.62</td>\n",
       "      <td>0</td>\n",
       "    </tr>\n",
       "    <tr>\n",
       "      <th>2010-01-01</th>\n",
       "      <td>2</td>\n",
       "      <td>5142183973</td>\n",
       "      <td>61003026333</td>\n",
       "      <td>SERVICE MERCHANDISE #81</td>\n",
       "      <td>MA</td>\n",
       "      <td>1803.0</td>\n",
       "      <td>P</td>\n",
       "      <td>31.42</td>\n",
       "      <td>0</td>\n",
       "    </tr>\n",
       "    <tr>\n",
       "      <th>2010-01-01</th>\n",
       "      <td>3</td>\n",
       "      <td>5142131721</td>\n",
       "      <td>4503082993600</td>\n",
       "      <td>OFFICE DEPOT #191</td>\n",
       "      <td>MD</td>\n",
       "      <td>20706.0</td>\n",
       "      <td>P</td>\n",
       "      <td>178.49</td>\n",
       "      <td>0</td>\n",
       "    </tr>\n",
       "    <tr>\n",
       "      <th>2010-01-01</th>\n",
       "      <td>4</td>\n",
       "      <td>5142148452</td>\n",
       "      <td>5509006296254</td>\n",
       "      <td>FEDEX SHP 12/28/09 AB#</td>\n",
       "      <td>TN</td>\n",
       "      <td>38118.0</td>\n",
       "      <td>P</td>\n",
       "      <td>3.62</td>\n",
       "      <td>0</td>\n",
       "    </tr>\n",
       "    <tr>\n",
       "      <th>2010-01-01</th>\n",
       "      <td>5</td>\n",
       "      <td>5142190439</td>\n",
       "      <td>5509006296254</td>\n",
       "      <td>FEDEX SHP 12/23/09 AB#</td>\n",
       "      <td>TN</td>\n",
       "      <td>38118.0</td>\n",
       "      <td>P</td>\n",
       "      <td>3.62</td>\n",
       "      <td>0</td>\n",
       "    </tr>\n",
       "  </tbody>\n",
       "</table>\n",
       "</div>"
      ],
      "text/plain": [
       "            Recnum     Cardnum       Merchnum        Merch description  \\\n",
       "Date                                                                     \n",
       "2010-01-01       1  5142190439  5509006296254   FEDEX SHP 12/23/09 AB#   \n",
       "2010-01-01       2  5142183973    61003026333  SERVICE MERCHANDISE #81   \n",
       "2010-01-01       3  5142131721  4503082993600        OFFICE DEPOT #191   \n",
       "2010-01-01       4  5142148452  5509006296254   FEDEX SHP 12/28/09 AB#   \n",
       "2010-01-01       5  5142190439  5509006296254   FEDEX SHP 12/23/09 AB#   \n",
       "\n",
       "           Merch state  Merch zip Transtype  Amount  Fraud  \n",
       "Date                                                        \n",
       "2010-01-01          TN    38118.0         P    3.62      0  \n",
       "2010-01-01          MA     1803.0         P   31.42      0  \n",
       "2010-01-01          MD    20706.0         P  178.49      0  \n",
       "2010-01-01          TN    38118.0         P    3.62      0  \n",
       "2010-01-01          TN    38118.0         P    3.62      0  "
      ]
     },
     "execution_count": 6,
     "metadata": {},
     "output_type": "execute_result"
    }
   ],
   "source": [
    "df.head()"
   ]
  },
  {
   "cell_type": "code",
   "execution_count": 7,
   "metadata": {},
   "outputs": [
    {
     "name": "stdout",
     "output_type": "stream",
     "text": [
      "<class 'pandas.core.frame.DataFrame'>\n",
      "DatetimeIndex: 84299 entries, 2010-01-01 to 2010-10-31\n",
      "Data columns (total 9 columns):\n",
      "Recnum               84299 non-null int64\n",
      "Cardnum              84299 non-null int64\n",
      "Merchnum             81497 non-null object\n",
      "Merch description    84299 non-null object\n",
      "Merch state          83272 non-null object\n",
      "Merch zip            80604 non-null float64\n",
      "Transtype            84299 non-null object\n",
      "Amount               84299 non-null float64\n",
      "Fraud                84299 non-null int64\n",
      "dtypes: float64(2), int64(3), object(4)\n",
      "memory usage: 6.4+ MB\n"
     ]
    }
   ],
   "source": [
    "df.info()"
   ]
  },
  {
   "cell_type": "code",
   "execution_count": 8,
   "metadata": {},
   "outputs": [
    {
     "data": {
      "text/html": [
       "<div>\n",
       "<style scoped>\n",
       "    .dataframe tbody tr th:only-of-type {\n",
       "        vertical-align: middle;\n",
       "    }\n",
       "\n",
       "    .dataframe tbody tr th {\n",
       "        vertical-align: top;\n",
       "    }\n",
       "\n",
       "    .dataframe thead th {\n",
       "        text-align: right;\n",
       "    }\n",
       "</style>\n",
       "<table border=\"1\" class=\"dataframe\">\n",
       "  <thead>\n",
       "    <tr style=\"text-align: right;\">\n",
       "      <th></th>\n",
       "      <th>Recnum</th>\n",
       "      <th>Cardnum</th>\n",
       "      <th>Merch zip</th>\n",
       "      <th>Amount</th>\n",
       "      <th>Fraud</th>\n",
       "    </tr>\n",
       "  </thead>\n",
       "  <tbody>\n",
       "    <tr>\n",
       "      <th>count</th>\n",
       "      <td>84299.000000</td>\n",
       "      <td>8.429900e+04</td>\n",
       "      <td>80604.000000</td>\n",
       "      <td>8.429900e+04</td>\n",
       "      <td>84299.000000</td>\n",
       "    </tr>\n",
       "    <tr>\n",
       "      <th>mean</th>\n",
       "      <td>42150.000000</td>\n",
       "      <td>5.142203e+09</td>\n",
       "      <td>44639.600677</td>\n",
       "      <td>4.349611e+02</td>\n",
       "      <td>0.010439</td>\n",
       "    </tr>\n",
       "    <tr>\n",
       "      <th>std</th>\n",
       "      <td>24335.169508</td>\n",
       "      <td>5.650040e+04</td>\n",
       "      <td>28225.631383</td>\n",
       "      <td>1.071517e+04</td>\n",
       "      <td>0.101638</td>\n",
       "    </tr>\n",
       "    <tr>\n",
       "      <th>min</th>\n",
       "      <td>1.000000</td>\n",
       "      <td>5.142110e+09</td>\n",
       "      <td>1.000000</td>\n",
       "      <td>1.000000e-02</td>\n",
       "      <td>0.000000</td>\n",
       "    </tr>\n",
       "    <tr>\n",
       "      <th>25%</th>\n",
       "      <td>21075.500000</td>\n",
       "      <td>5.142152e+09</td>\n",
       "      <td>20884.000000</td>\n",
       "      <td>3.171000e+01</td>\n",
       "      <td>0.000000</td>\n",
       "    </tr>\n",
       "    <tr>\n",
       "      <th>50%</th>\n",
       "      <td>42150.000000</td>\n",
       "      <td>5.142196e+09</td>\n",
       "      <td>38118.000000</td>\n",
       "      <td>1.374000e+02</td>\n",
       "      <td>0.000000</td>\n",
       "    </tr>\n",
       "    <tr>\n",
       "      <th>75%</th>\n",
       "      <td>63224.500000</td>\n",
       "      <td>5.142249e+09</td>\n",
       "      <td>63103.000000</td>\n",
       "      <td>4.300000e+02</td>\n",
       "      <td>0.000000</td>\n",
       "    </tr>\n",
       "    <tr>\n",
       "      <th>max</th>\n",
       "      <td>84299.000000</td>\n",
       "      <td>5.142847e+09</td>\n",
       "      <td>99999.000000</td>\n",
       "      <td>3.102046e+06</td>\n",
       "      <td>1.000000</td>\n",
       "    </tr>\n",
       "  </tbody>\n",
       "</table>\n",
       "</div>"
      ],
      "text/plain": [
       "             Recnum       Cardnum     Merch zip        Amount         Fraud\n",
       "count  84299.000000  8.429900e+04  80604.000000  8.429900e+04  84299.000000\n",
       "mean   42150.000000  5.142203e+09  44639.600677  4.349611e+02      0.010439\n",
       "std    24335.169508  5.650040e+04  28225.631383  1.071517e+04      0.101638\n",
       "min        1.000000  5.142110e+09      1.000000  1.000000e-02      0.000000\n",
       "25%    21075.500000  5.142152e+09  20884.000000  3.171000e+01      0.000000\n",
       "50%    42150.000000  5.142196e+09  38118.000000  1.374000e+02      0.000000\n",
       "75%    63224.500000  5.142249e+09  63103.000000  4.300000e+02      0.000000\n",
       "max    84299.000000  5.142847e+09  99999.000000  3.102046e+06      1.000000"
      ]
     },
     "execution_count": 8,
     "metadata": {},
     "output_type": "execute_result"
    }
   ],
   "source": [
    "df.describe()"
   ]
  },
  {
   "cell_type": "markdown",
   "metadata": {},
   "source": [
    "# Remove Outliers"
   ]
  },
  {
   "cell_type": "code",
   "execution_count": 9,
   "metadata": {},
   "outputs": [],
   "source": [
    "df = df[df['Transtype'] == 'P']\n",
    "df = df[df['Amount'] != max(df['Amount'])]"
   ]
  },
  {
   "cell_type": "code",
   "execution_count": 10,
   "metadata": {},
   "outputs": [
    {
     "data": {
      "text/plain": [
       "(83970, 9)"
      ]
     },
     "execution_count": 10,
     "metadata": {},
     "output_type": "execute_result"
    }
   ],
   "source": [
    "df.shape"
   ]
  },
  {
   "cell_type": "markdown",
   "metadata": {},
   "source": [
    "# Filling Missing Values"
   ]
  },
  {
   "cell_type": "markdown",
   "metadata": {},
   "source": [
    "## Filling State"
   ]
  },
  {
   "cell_type": "code",
   "execution_count": 11,
   "metadata": {},
   "outputs": [
    {
     "data": {
      "text/plain": [
       "864"
      ]
     },
     "execution_count": 11,
     "metadata": {},
     "output_type": "execute_result"
    }
   ],
   "source": [
    "sum(df['Merch state'].isna())"
   ]
  },
  {
   "cell_type": "code",
   "execution_count": 12,
   "metadata": {},
   "outputs": [],
   "source": [
    "temp_df = df[df['Merch state'].notna()]"
   ]
  },
  {
   "cell_type": "code",
   "execution_count": 13,
   "metadata": {},
   "outputs": [
    {
     "name": "stderr",
     "output_type": "stream",
     "text": [
      "/Library/Frameworks/Python.framework/Versions/3.7/lib/python3.7/site-packages/scipy/stats/stats.py:248: RuntimeWarning: The input array could not be properly checked for nan values. nan values will be ignored.\n",
      "  \"values. nan values will be ignored.\", RuntimeWarning)\n"
     ]
    },
    {
     "data": {
      "text/plain": [
       "ModeResult(mode=array(['TN'], dtype=object), count=array([11290]))"
      ]
     },
     "execution_count": 13,
     "metadata": {},
     "output_type": "execute_result"
    }
   ],
   "source": [
    "stats.mode(temp_df['Merch state'])"
   ]
  },
  {
   "cell_type": "code",
   "execution_count": 14,
   "metadata": {},
   "outputs": [],
   "source": [
    "df['Merch state'] = df['Merch state'].fillna(stats.mode(temp_df['Merch state'])[0][0])"
   ]
  },
  {
   "cell_type": "code",
   "execution_count": 15,
   "metadata": {},
   "outputs": [
    {
     "data": {
      "text/plain": [
       "0"
      ]
     },
     "execution_count": 15,
     "metadata": {},
     "output_type": "execute_result"
    }
   ],
   "source": [
    "sum(df['Merch state'].isna())"
   ]
  },
  {
   "cell_type": "markdown",
   "metadata": {},
   "source": [
    "## Filling Merchnum"
   ]
  },
  {
   "cell_type": "code",
   "execution_count": 16,
   "metadata": {},
   "outputs": [
    {
     "data": {
      "text/plain": [
       "0"
      ]
     },
     "execution_count": 16,
     "metadata": {},
     "output_type": "execute_result"
    }
   ],
   "source": [
    "sum(df['Merchnum'] == 0)"
   ]
  },
  {
   "cell_type": "code",
   "execution_count": 17,
   "metadata": {},
   "outputs": [
    {
     "data": {
      "text/plain": [
       "2637"
      ]
     },
     "execution_count": 17,
     "metadata": {},
     "output_type": "execute_result"
    }
   ],
   "source": [
    "sum(df['Merchnum'].isna())"
   ]
  },
  {
   "cell_type": "code",
   "execution_count": 18,
   "metadata": {},
   "outputs": [],
   "source": [
    "temp_df = df[df['Merchnum'].notna()]"
   ]
  },
  {
   "cell_type": "code",
   "execution_count": 19,
   "metadata": {},
   "outputs": [
    {
     "data": {
      "text/plain": [
       "ModeResult(mode=array(['930090121224'], dtype=object), count=array([9289]))"
      ]
     },
     "execution_count": 19,
     "metadata": {},
     "output_type": "execute_result"
    }
   ],
   "source": [
    "stats.mode(temp_df['Merchnum'])"
   ]
  },
  {
   "cell_type": "code",
   "execution_count": 20,
   "metadata": {},
   "outputs": [],
   "source": [
    "df['Merchnum'] = df['Merchnum'].fillna(stats.mode(temp_df['Merchnum'])[0][0])"
   ]
  },
  {
   "cell_type": "code",
   "execution_count": 21,
   "metadata": {},
   "outputs": [
    {
     "data": {
      "text/plain": [
       "0"
      ]
     },
     "execution_count": 21,
     "metadata": {},
     "output_type": "execute_result"
    }
   ],
   "source": [
    "sum(df['Merchnum'].isna())"
   ]
  },
  {
   "cell_type": "code",
   "execution_count": 22,
   "metadata": {},
   "outputs": [
    {
     "data": {
      "text/plain": [
       "0"
      ]
     },
     "execution_count": 22,
     "metadata": {},
     "output_type": "execute_result"
    }
   ],
   "source": [
    "sum(df['Merchnum'] == 0)"
   ]
  },
  {
   "cell_type": "markdown",
   "metadata": {},
   "source": [
    "## Filling Zip"
   ]
  },
  {
   "cell_type": "code",
   "execution_count": 23,
   "metadata": {},
   "outputs": [
    {
     "data": {
      "text/plain": [
       "0"
      ]
     },
     "execution_count": 23,
     "metadata": {},
     "output_type": "execute_result"
    }
   ],
   "source": [
    "sum(df['Merch zip'] == 0)"
   ]
  },
  {
   "cell_type": "code",
   "execution_count": 24,
   "metadata": {},
   "outputs": [
    {
     "data": {
      "text/plain": [
       "3366"
      ]
     },
     "execution_count": 24,
     "metadata": {},
     "output_type": "execute_result"
    }
   ],
   "source": [
    "sum(df['Merch zip'].isna())"
   ]
  },
  {
   "cell_type": "code",
   "execution_count": 25,
   "metadata": {},
   "outputs": [],
   "source": [
    "temp_df = df[df['Merch zip'].notna()]"
   ]
  },
  {
   "cell_type": "code",
   "execution_count": 26,
   "metadata": {},
   "outputs": [
    {
     "data": {
      "text/plain": [
       "ModeResult(mode=array([38118.]), count=array([11142]))"
      ]
     },
     "execution_count": 26,
     "metadata": {},
     "output_type": "execute_result"
    }
   ],
   "source": [
    "stats.mode(temp_df['Merch zip'])"
   ]
  },
  {
   "cell_type": "code",
   "execution_count": 27,
   "metadata": {},
   "outputs": [],
   "source": [
    "df['Merch zip'] = df['Merch zip'].fillna(stats.mode(temp_df['Merch zip'])[0][0])"
   ]
  },
  {
   "cell_type": "code",
   "execution_count": 28,
   "metadata": {},
   "outputs": [
    {
     "data": {
      "text/plain": [
       "0"
      ]
     },
     "execution_count": 28,
     "metadata": {},
     "output_type": "execute_result"
    }
   ],
   "source": [
    "sum(df['Merch zip'] == 0)"
   ]
  },
  {
   "cell_type": "code",
   "execution_count": 29,
   "metadata": {},
   "outputs": [
    {
     "data": {
      "text/plain": [
       "0"
      ]
     },
     "execution_count": 29,
     "metadata": {},
     "output_type": "execute_result"
    }
   ],
   "source": [
    "sum(df['Merch zip'].isna())"
   ]
  },
  {
   "cell_type": "markdown",
   "metadata": {},
   "source": [
    "# Creating Variables"
   ]
  },
  {
   "cell_type": "markdown",
   "metadata": {},
   "source": [
    "## Amount Variables"
   ]
  },
  {
   "cell_type": "markdown",
   "metadata": {},
   "source": [
    "### Card"
   ]
  },
  {
   "cell_type": "code",
   "execution_count": 30,
   "metadata": {},
   "outputs": [],
   "source": [
    "for i in [1, 3, 7, 14, 30]:\n",
    "    locals()['avg_card_' + str(i)] = df.groupby(['Cardnum'])['Amount'].rolling(str(i) + 'd').mean().reset_index()\n",
    "    locals()['avg_card_' + str(i)]['order'] = locals()['avg_card_' + str(i)].groupby(['Cardnum', 'Date']).cumcount() + 1"
   ]
  },
  {
   "cell_type": "code",
   "execution_count": 31,
   "metadata": {},
   "outputs": [
    {
     "data": {
      "text/html": [
       "<div>\n",
       "<style scoped>\n",
       "    .dataframe tbody tr th:only-of-type {\n",
       "        vertical-align: middle;\n",
       "    }\n",
       "\n",
       "    .dataframe tbody tr th {\n",
       "        vertical-align: top;\n",
       "    }\n",
       "\n",
       "    .dataframe thead th {\n",
       "        text-align: right;\n",
       "    }\n",
       "</style>\n",
       "<table border=\"1\" class=\"dataframe\">\n",
       "  <thead>\n",
       "    <tr style=\"text-align: right;\">\n",
       "      <th></th>\n",
       "      <th>Cardnum</th>\n",
       "      <th>Date</th>\n",
       "      <th>Amount</th>\n",
       "      <th>order</th>\n",
       "    </tr>\n",
       "  </thead>\n",
       "  <tbody>\n",
       "    <tr>\n",
       "      <th>83965</th>\n",
       "      <td>5142847398</td>\n",
       "      <td>2010-03-21</td>\n",
       "      <td>199.14</td>\n",
       "      <td>1</td>\n",
       "    </tr>\n",
       "    <tr>\n",
       "      <th>83966</th>\n",
       "      <td>5142847398</td>\n",
       "      <td>2010-03-22</td>\n",
       "      <td>78.23</td>\n",
       "      <td>1</td>\n",
       "    </tr>\n",
       "    <tr>\n",
       "      <th>83967</th>\n",
       "      <td>5142847398</td>\n",
       "      <td>2010-03-24</td>\n",
       "      <td>440.06</td>\n",
       "      <td>1</td>\n",
       "    </tr>\n",
       "    <tr>\n",
       "      <th>83968</th>\n",
       "      <td>5142847398</td>\n",
       "      <td>2010-03-28</td>\n",
       "      <td>288.82</td>\n",
       "      <td>1</td>\n",
       "    </tr>\n",
       "    <tr>\n",
       "      <th>83969</th>\n",
       "      <td>5142847398</td>\n",
       "      <td>2010-03-29</td>\n",
       "      <td>736.55</td>\n",
       "      <td>1</td>\n",
       "    </tr>\n",
       "  </tbody>\n",
       "</table>\n",
       "</div>"
      ],
      "text/plain": [
       "          Cardnum       Date  Amount  order\n",
       "83965  5142847398 2010-03-21  199.14      1\n",
       "83966  5142847398 2010-03-22   78.23      1\n",
       "83967  5142847398 2010-03-24  440.06      1\n",
       "83968  5142847398 2010-03-28  288.82      1\n",
       "83969  5142847398 2010-03-29  736.55      1"
      ]
     },
     "execution_count": 31,
     "metadata": {},
     "output_type": "execute_result"
    }
   ],
   "source": [
    "avg_card_1.tail()"
   ]
  },
  {
   "cell_type": "code",
   "execution_count": 32,
   "metadata": {},
   "outputs": [],
   "source": [
    "for i in [1, 3, 7, 14, 30]:\n",
    "    locals()['max_card_' + str(i)] = df.groupby(['Cardnum'])['Amount'].rolling(str(i) + 'd').max().reset_index()\n",
    "    locals()['max_card_' + str(i)]['order'] = locals()['max_card_' + str(i)].groupby(['Cardnum', 'Date']).cumcount() + 1"
   ]
  },
  {
   "cell_type": "code",
   "execution_count": 33,
   "metadata": {},
   "outputs": [
    {
     "data": {
      "text/html": [
       "<div>\n",
       "<style scoped>\n",
       "    .dataframe tbody tr th:only-of-type {\n",
       "        vertical-align: middle;\n",
       "    }\n",
       "\n",
       "    .dataframe tbody tr th {\n",
       "        vertical-align: top;\n",
       "    }\n",
       "\n",
       "    .dataframe thead th {\n",
       "        text-align: right;\n",
       "    }\n",
       "</style>\n",
       "<table border=\"1\" class=\"dataframe\">\n",
       "  <thead>\n",
       "    <tr style=\"text-align: right;\">\n",
       "      <th></th>\n",
       "      <th>Cardnum</th>\n",
       "      <th>Date</th>\n",
       "      <th>Amount</th>\n",
       "      <th>order</th>\n",
       "    </tr>\n",
       "  </thead>\n",
       "  <tbody>\n",
       "    <tr>\n",
       "      <th>0</th>\n",
       "      <td>5142110002</td>\n",
       "      <td>2010-10-12</td>\n",
       "      <td>150.0</td>\n",
       "      <td>1</td>\n",
       "    </tr>\n",
       "    <tr>\n",
       "      <th>1</th>\n",
       "      <td>5142110081</td>\n",
       "      <td>2010-03-08</td>\n",
       "      <td>495.9</td>\n",
       "      <td>1</td>\n",
       "    </tr>\n",
       "    <tr>\n",
       "      <th>2</th>\n",
       "      <td>5142110081</td>\n",
       "      <td>2010-03-08</td>\n",
       "      <td>636.2</td>\n",
       "      <td>2</td>\n",
       "    </tr>\n",
       "    <tr>\n",
       "      <th>3</th>\n",
       "      <td>5142110313</td>\n",
       "      <td>2010-10-07</td>\n",
       "      <td>144.0</td>\n",
       "      <td>1</td>\n",
       "    </tr>\n",
       "    <tr>\n",
       "      <th>4</th>\n",
       "      <td>5142110313</td>\n",
       "      <td>2010-10-07</td>\n",
       "      <td>144.0</td>\n",
       "      <td>2</td>\n",
       "    </tr>\n",
       "  </tbody>\n",
       "</table>\n",
       "</div>"
      ],
      "text/plain": [
       "      Cardnum       Date  Amount  order\n",
       "0  5142110002 2010-10-12   150.0      1\n",
       "1  5142110081 2010-03-08   495.9      1\n",
       "2  5142110081 2010-03-08   636.2      2\n",
       "3  5142110313 2010-10-07   144.0      1\n",
       "4  5142110313 2010-10-07   144.0      2"
      ]
     },
     "execution_count": 33,
     "metadata": {},
     "output_type": "execute_result"
    }
   ],
   "source": [
    "max_card_1.head()"
   ]
  },
  {
   "cell_type": "code",
   "execution_count": 34,
   "metadata": {},
   "outputs": [],
   "source": [
    "for i in [1, 3, 7, 14, 30]:\n",
    "    locals()['median_card_' + str(i)] = df.groupby(['Cardnum'])['Amount'].rolling(str(i) + 'd').median().reset_index()\n",
    "    locals()['median_card_' + str(i)]['order'] = locals()['median_card_' + str(i)].groupby(['Cardnum', 'Date']).cumcount() + 1"
   ]
  },
  {
   "cell_type": "code",
   "execution_count": 35,
   "metadata": {},
   "outputs": [
    {
     "data": {
      "text/html": [
       "<div>\n",
       "<style scoped>\n",
       "    .dataframe tbody tr th:only-of-type {\n",
       "        vertical-align: middle;\n",
       "    }\n",
       "\n",
       "    .dataframe tbody tr th {\n",
       "        vertical-align: top;\n",
       "    }\n",
       "\n",
       "    .dataframe thead th {\n",
       "        text-align: right;\n",
       "    }\n",
       "</style>\n",
       "<table border=\"1\" class=\"dataframe\">\n",
       "  <thead>\n",
       "    <tr style=\"text-align: right;\">\n",
       "      <th></th>\n",
       "      <th>Cardnum</th>\n",
       "      <th>Date</th>\n",
       "      <th>Amount</th>\n",
       "      <th>order</th>\n",
       "    </tr>\n",
       "  </thead>\n",
       "  <tbody>\n",
       "    <tr>\n",
       "      <th>0</th>\n",
       "      <td>5142110002</td>\n",
       "      <td>2010-10-12</td>\n",
       "      <td>150.00</td>\n",
       "      <td>1</td>\n",
       "    </tr>\n",
       "    <tr>\n",
       "      <th>1</th>\n",
       "      <td>5142110081</td>\n",
       "      <td>2010-03-08</td>\n",
       "      <td>495.90</td>\n",
       "      <td>1</td>\n",
       "    </tr>\n",
       "    <tr>\n",
       "      <th>2</th>\n",
       "      <td>5142110081</td>\n",
       "      <td>2010-03-08</td>\n",
       "      <td>566.05</td>\n",
       "      <td>2</td>\n",
       "    </tr>\n",
       "    <tr>\n",
       "      <th>3</th>\n",
       "      <td>5142110313</td>\n",
       "      <td>2010-10-07</td>\n",
       "      <td>144.00</td>\n",
       "      <td>1</td>\n",
       "    </tr>\n",
       "    <tr>\n",
       "      <th>4</th>\n",
       "      <td>5142110313</td>\n",
       "      <td>2010-10-07</td>\n",
       "      <td>94.00</td>\n",
       "      <td>2</td>\n",
       "    </tr>\n",
       "  </tbody>\n",
       "</table>\n",
       "</div>"
      ],
      "text/plain": [
       "      Cardnum       Date  Amount  order\n",
       "0  5142110002 2010-10-12  150.00      1\n",
       "1  5142110081 2010-03-08  495.90      1\n",
       "2  5142110081 2010-03-08  566.05      2\n",
       "3  5142110313 2010-10-07  144.00      1\n",
       "4  5142110313 2010-10-07   94.00      2"
      ]
     },
     "execution_count": 35,
     "metadata": {},
     "output_type": "execute_result"
    }
   ],
   "source": [
    "median_card_1.head()"
   ]
  },
  {
   "cell_type": "code",
   "execution_count": 36,
   "metadata": {},
   "outputs": [],
   "source": [
    "for i in [1, 3, 7, 14, 30]:\n",
    "    locals()['sum_card_' + str(i)] = df.groupby(['Cardnum'])['Amount'].rolling(str(i) + 'd').sum().reset_index()\n",
    "    locals()['sum_card_' + str(i)]['order'] = locals()['sum_card_' + str(i)].groupby(['Cardnum', 'Date']).cumcount() + 1"
   ]
  },
  {
   "cell_type": "code",
   "execution_count": 37,
   "metadata": {},
   "outputs": [
    {
     "data": {
      "text/html": [
       "<div>\n",
       "<style scoped>\n",
       "    .dataframe tbody tr th:only-of-type {\n",
       "        vertical-align: middle;\n",
       "    }\n",
       "\n",
       "    .dataframe tbody tr th {\n",
       "        vertical-align: top;\n",
       "    }\n",
       "\n",
       "    .dataframe thead th {\n",
       "        text-align: right;\n",
       "    }\n",
       "</style>\n",
       "<table border=\"1\" class=\"dataframe\">\n",
       "  <thead>\n",
       "    <tr style=\"text-align: right;\">\n",
       "      <th></th>\n",
       "      <th>Cardnum</th>\n",
       "      <th>Date</th>\n",
       "      <th>Amount</th>\n",
       "      <th>order</th>\n",
       "    </tr>\n",
       "  </thead>\n",
       "  <tbody>\n",
       "    <tr>\n",
       "      <th>0</th>\n",
       "      <td>5142110002</td>\n",
       "      <td>2010-10-12</td>\n",
       "      <td>150.0</td>\n",
       "      <td>1</td>\n",
       "    </tr>\n",
       "    <tr>\n",
       "      <th>1</th>\n",
       "      <td>5142110081</td>\n",
       "      <td>2010-03-08</td>\n",
       "      <td>495.9</td>\n",
       "      <td>1</td>\n",
       "    </tr>\n",
       "    <tr>\n",
       "      <th>2</th>\n",
       "      <td>5142110081</td>\n",
       "      <td>2010-03-08</td>\n",
       "      <td>1132.1</td>\n",
       "      <td>2</td>\n",
       "    </tr>\n",
       "    <tr>\n",
       "      <th>3</th>\n",
       "      <td>5142110313</td>\n",
       "      <td>2010-10-07</td>\n",
       "      <td>144.0</td>\n",
       "      <td>1</td>\n",
       "    </tr>\n",
       "    <tr>\n",
       "      <th>4</th>\n",
       "      <td>5142110313</td>\n",
       "      <td>2010-10-07</td>\n",
       "      <td>188.0</td>\n",
       "      <td>2</td>\n",
       "    </tr>\n",
       "  </tbody>\n",
       "</table>\n",
       "</div>"
      ],
      "text/plain": [
       "      Cardnum       Date  Amount  order\n",
       "0  5142110002 2010-10-12   150.0      1\n",
       "1  5142110081 2010-03-08   495.9      1\n",
       "2  5142110081 2010-03-08  1132.1      2\n",
       "3  5142110313 2010-10-07   144.0      1\n",
       "4  5142110313 2010-10-07   188.0      2"
      ]
     },
     "execution_count": 37,
     "metadata": {},
     "output_type": "execute_result"
    }
   ],
   "source": [
    "sum_card_1.head()"
   ]
  },
  {
   "cell_type": "code",
   "execution_count": 39,
   "metadata": {},
   "outputs": [],
   "source": [
    "card_df = df.copy()\n",
    "card_df = card_df.reset_index()\n",
    "card_df['order'] = card_df.groupby(['Cardnum', 'Date']).cumcount() + 1"
   ]
  },
  {
   "cell_type": "code",
   "execution_count": 40,
   "metadata": {},
   "outputs": [
    {
     "data": {
      "text/html": [
       "<div>\n",
       "<style scoped>\n",
       "    .dataframe tbody tr th:only-of-type {\n",
       "        vertical-align: middle;\n",
       "    }\n",
       "\n",
       "    .dataframe tbody tr th {\n",
       "        vertical-align: top;\n",
       "    }\n",
       "\n",
       "    .dataframe thead th {\n",
       "        text-align: right;\n",
       "    }\n",
       "</style>\n",
       "<table border=\"1\" class=\"dataframe\">\n",
       "  <thead>\n",
       "    <tr style=\"text-align: right;\">\n",
       "      <th></th>\n",
       "      <th>Date</th>\n",
       "      <th>Recnum</th>\n",
       "      <th>Cardnum</th>\n",
       "      <th>Merchnum</th>\n",
       "      <th>Merch description</th>\n",
       "      <th>Merch state</th>\n",
       "      <th>Merch zip</th>\n",
       "      <th>Transtype</th>\n",
       "      <th>Amount</th>\n",
       "      <th>Fraud</th>\n",
       "      <th>order</th>\n",
       "    </tr>\n",
       "  </thead>\n",
       "  <tbody>\n",
       "    <tr>\n",
       "      <th>0</th>\n",
       "      <td>2010-01-01</td>\n",
       "      <td>1</td>\n",
       "      <td>5142190439</td>\n",
       "      <td>5509006296254</td>\n",
       "      <td>FEDEX SHP 12/23/09 AB#</td>\n",
       "      <td>TN</td>\n",
       "      <td>38118.0</td>\n",
       "      <td>P</td>\n",
       "      <td>3.62</td>\n",
       "      <td>0</td>\n",
       "      <td>1</td>\n",
       "    </tr>\n",
       "    <tr>\n",
       "      <th>1</th>\n",
       "      <td>2010-01-01</td>\n",
       "      <td>2</td>\n",
       "      <td>5142183973</td>\n",
       "      <td>61003026333</td>\n",
       "      <td>SERVICE MERCHANDISE #81</td>\n",
       "      <td>MA</td>\n",
       "      <td>1803.0</td>\n",
       "      <td>P</td>\n",
       "      <td>31.42</td>\n",
       "      <td>0</td>\n",
       "      <td>1</td>\n",
       "    </tr>\n",
       "    <tr>\n",
       "      <th>2</th>\n",
       "      <td>2010-01-01</td>\n",
       "      <td>3</td>\n",
       "      <td>5142131721</td>\n",
       "      <td>4503082993600</td>\n",
       "      <td>OFFICE DEPOT #191</td>\n",
       "      <td>MD</td>\n",
       "      <td>20706.0</td>\n",
       "      <td>P</td>\n",
       "      <td>178.49</td>\n",
       "      <td>0</td>\n",
       "      <td>1</td>\n",
       "    </tr>\n",
       "    <tr>\n",
       "      <th>3</th>\n",
       "      <td>2010-01-01</td>\n",
       "      <td>4</td>\n",
       "      <td>5142148452</td>\n",
       "      <td>5509006296254</td>\n",
       "      <td>FEDEX SHP 12/28/09 AB#</td>\n",
       "      <td>TN</td>\n",
       "      <td>38118.0</td>\n",
       "      <td>P</td>\n",
       "      <td>3.62</td>\n",
       "      <td>0</td>\n",
       "      <td>1</td>\n",
       "    </tr>\n",
       "    <tr>\n",
       "      <th>4</th>\n",
       "      <td>2010-01-01</td>\n",
       "      <td>5</td>\n",
       "      <td>5142190439</td>\n",
       "      <td>5509006296254</td>\n",
       "      <td>FEDEX SHP 12/23/09 AB#</td>\n",
       "      <td>TN</td>\n",
       "      <td>38118.0</td>\n",
       "      <td>P</td>\n",
       "      <td>3.62</td>\n",
       "      <td>0</td>\n",
       "      <td>2</td>\n",
       "    </tr>\n",
       "  </tbody>\n",
       "</table>\n",
       "</div>"
      ],
      "text/plain": [
       "        Date  Recnum     Cardnum       Merchnum        Merch description  \\\n",
       "0 2010-01-01       1  5142190439  5509006296254   FEDEX SHP 12/23/09 AB#   \n",
       "1 2010-01-01       2  5142183973    61003026333  SERVICE MERCHANDISE #81   \n",
       "2 2010-01-01       3  5142131721  4503082993600        OFFICE DEPOT #191   \n",
       "3 2010-01-01       4  5142148452  5509006296254   FEDEX SHP 12/28/09 AB#   \n",
       "4 2010-01-01       5  5142190439  5509006296254   FEDEX SHP 12/23/09 AB#   \n",
       "\n",
       "  Merch state  Merch zip Transtype  Amount  Fraud  order  \n",
       "0          TN    38118.0         P    3.62      0      1  \n",
       "1          MA     1803.0         P   31.42      0      1  \n",
       "2          MD    20706.0         P  178.49      0      1  \n",
       "3          TN    38118.0         P    3.62      0      1  \n",
       "4          TN    38118.0         P    3.62      0      2  "
      ]
     },
     "execution_count": 40,
     "metadata": {},
     "output_type": "execute_result"
    }
   ],
   "source": [
    "card_df.head()"
   ]
  },
  {
   "cell_type": "code",
   "execution_count": 41,
   "metadata": {},
   "outputs": [],
   "source": [
    "not_needed_columns = ['index', 'Recnum', 'Merchnum', 'Merch description', 'Merch state', 'Merch zip', 'Transtype']\n",
    "for column in not_needed_columns:\n",
    "    try:\n",
    "        del card_df[column]\n",
    "    except:\n",
    "        pass"
   ]
  },
  {
   "cell_type": "code",
   "execution_count": 42,
   "metadata": {},
   "outputs": [
    {
     "data": {
      "text/html": [
       "<div>\n",
       "<style scoped>\n",
       "    .dataframe tbody tr th:only-of-type {\n",
       "        vertical-align: middle;\n",
       "    }\n",
       "\n",
       "    .dataframe tbody tr th {\n",
       "        vertical-align: top;\n",
       "    }\n",
       "\n",
       "    .dataframe thead th {\n",
       "        text-align: right;\n",
       "    }\n",
       "</style>\n",
       "<table border=\"1\" class=\"dataframe\">\n",
       "  <thead>\n",
       "    <tr style=\"text-align: right;\">\n",
       "      <th></th>\n",
       "      <th>Date</th>\n",
       "      <th>Cardnum</th>\n",
       "      <th>Amount</th>\n",
       "      <th>Fraud</th>\n",
       "      <th>order</th>\n",
       "    </tr>\n",
       "  </thead>\n",
       "  <tbody>\n",
       "    <tr>\n",
       "      <th>0</th>\n",
       "      <td>2010-01-01</td>\n",
       "      <td>5142190439</td>\n",
       "      <td>3.62</td>\n",
       "      <td>0</td>\n",
       "      <td>1</td>\n",
       "    </tr>\n",
       "    <tr>\n",
       "      <th>1</th>\n",
       "      <td>2010-01-01</td>\n",
       "      <td>5142183973</td>\n",
       "      <td>31.42</td>\n",
       "      <td>0</td>\n",
       "      <td>1</td>\n",
       "    </tr>\n",
       "    <tr>\n",
       "      <th>2</th>\n",
       "      <td>2010-01-01</td>\n",
       "      <td>5142131721</td>\n",
       "      <td>178.49</td>\n",
       "      <td>0</td>\n",
       "      <td>1</td>\n",
       "    </tr>\n",
       "    <tr>\n",
       "      <th>3</th>\n",
       "      <td>2010-01-01</td>\n",
       "      <td>5142148452</td>\n",
       "      <td>3.62</td>\n",
       "      <td>0</td>\n",
       "      <td>1</td>\n",
       "    </tr>\n",
       "    <tr>\n",
       "      <th>4</th>\n",
       "      <td>2010-01-01</td>\n",
       "      <td>5142190439</td>\n",
       "      <td>3.62</td>\n",
       "      <td>0</td>\n",
       "      <td>2</td>\n",
       "    </tr>\n",
       "  </tbody>\n",
       "</table>\n",
       "</div>"
      ],
      "text/plain": [
       "        Date     Cardnum  Amount  Fraud  order\n",
       "0 2010-01-01  5142190439    3.62      0      1\n",
       "1 2010-01-01  5142183973   31.42      0      1\n",
       "2 2010-01-01  5142131721  178.49      0      1\n",
       "3 2010-01-01  5142148452    3.62      0      1\n",
       "4 2010-01-01  5142190439    3.62      0      2"
      ]
     },
     "execution_count": 42,
     "metadata": {},
     "output_type": "execute_result"
    }
   ],
   "source": [
    "card_df.head()"
   ]
  },
  {
   "cell_type": "code",
   "execution_count": 43,
   "metadata": {},
   "outputs": [],
   "source": [
    "merged_data_card = card_df \\\n",
    ".merge(avg_card_1, on = ['Date', 'Cardnum', 'order'], how = 'left', suffixes=['', '_avg_card_1']) \\\n",
    ".merge(avg_card_3, on = ['Date', 'Cardnum', 'order'], how = 'left', suffixes=['', '_avg_card_3']) \\\n",
    ".merge(avg_card_7, on = ['Date', 'Cardnum', 'order'], how = 'left', suffixes=['', '_avg_card_7']) \\\n",
    ".merge(avg_card_14, on = ['Date', 'Cardnum', 'order'], how = 'left', suffixes=['', '_avg_card_14']) \\\n",
    ".merge(avg_card_30, on = ['Date', 'Cardnum', 'order'], how = 'left', suffixes=['', '_avg_card_30']) \\\n",
    ".merge(max_card_1, on = ['Date', 'Cardnum', 'order'], how = 'left', suffixes=['', '_max_card_1'])\\\n",
    ".merge(max_card_3, on = ['Date', 'Cardnum', 'order'], how = 'left', suffixes=['', '_max_card_3']) \\\n",
    ".merge(max_card_7, on = ['Date', 'Cardnum', 'order'], how = 'left', suffixes=['', '_max_card_7']) \\\n",
    ".merge(max_card_14, on = ['Date', 'Cardnum', 'order'], how = 'left', suffixes=['', '_max_card_14']) \\\n",
    ".merge(max_card_30, on = ['Date', 'Cardnum', 'order'], how = 'left', suffixes=['', '_max_card_30']) \\\n",
    ".merge(median_card_1, on = ['Date', 'Cardnum', 'order'], how = 'left', suffixes=['', '_median_card_1'])\\\n",
    ".merge(median_card_3, on = ['Date', 'Cardnum', 'order'], how = 'left', suffixes=['', '_median_card_3']) \\\n",
    ".merge(median_card_7, on = ['Date', 'Cardnum', 'order'], how = 'left', suffixes=['', '_median_card_7']) \\\n",
    ".merge(median_card_14, on = ['Date', 'Cardnum', 'order'], how = 'left', suffixes=['', '_median_card_14']) \\\n",
    ".merge(median_card_30, on = ['Date', 'Cardnum', 'order'], how = 'left', suffixes=['', '_median_card_30']) \\\n",
    ".merge(sum_card_1, on = ['Date', 'Cardnum', 'order'], how = 'left', suffixes=['', '_sum_card_1'])\\\n",
    ".merge(sum_card_3, on = ['Date', 'Cardnum', 'order'], how = 'left', suffixes=['', '_sum_card_3']) \\\n",
    ".merge(sum_card_7, on = ['Date', 'Cardnum', 'order'], how = 'left', suffixes=['', '_sum_card_7']) \\\n",
    ".merge(sum_card_14, on = ['Date', 'Cardnum', 'order'], how = 'left', suffixes=['', '_sum_card_14']) \\\n",
    ".merge(sum_card_30, on = ['Date', 'Cardnum', 'order'], how = 'left', suffixes=['', '_sum_card_30'])"
   ]
  },
  {
   "cell_type": "code",
   "execution_count": 44,
   "metadata": {},
   "outputs": [],
   "source": [
    "merged_data_card['Amount_avg_card_0'] = merged_data_card['Amount']\n",
    "merged_data_card['Amount_max_card_0'] = merged_data_card['Amount']\n",
    "merged_data_card['Amount_median_card_0'] = merged_data_card['Amount']\n",
    "merged_data_card['Amount_sum_card_0'] = merged_data_card['Amount']"
   ]
  },
  {
   "cell_type": "code",
   "execution_count": 45,
   "metadata": {},
   "outputs": [
    {
     "data": {
      "text/html": [
       "<div>\n",
       "<style scoped>\n",
       "    .dataframe tbody tr th:only-of-type {\n",
       "        vertical-align: middle;\n",
       "    }\n",
       "\n",
       "    .dataframe tbody tr th {\n",
       "        vertical-align: top;\n",
       "    }\n",
       "\n",
       "    .dataframe thead th {\n",
       "        text-align: right;\n",
       "    }\n",
       "</style>\n",
       "<table border=\"1\" class=\"dataframe\">\n",
       "  <thead>\n",
       "    <tr style=\"text-align: right;\">\n",
       "      <th></th>\n",
       "      <th>Date</th>\n",
       "      <th>Cardnum</th>\n",
       "      <th>Amount</th>\n",
       "      <th>Fraud</th>\n",
       "      <th>order</th>\n",
       "      <th>Amount_avg_card_1</th>\n",
       "      <th>Amount_avg_card_3</th>\n",
       "      <th>Amount_avg_card_7</th>\n",
       "      <th>Amount_avg_card_14</th>\n",
       "      <th>Amount_avg_card_30</th>\n",
       "      <th>...</th>\n",
       "      <th>Amount_median_card_30</th>\n",
       "      <th>Amount_sum_card_1</th>\n",
       "      <th>Amount_sum_card_3</th>\n",
       "      <th>Amount_sum_card_7</th>\n",
       "      <th>Amount_sum_card_14</th>\n",
       "      <th>Amount_sum_card_30</th>\n",
       "      <th>Amount_avg_card_0</th>\n",
       "      <th>Amount_max_card_0</th>\n",
       "      <th>Amount_median_card_0</th>\n",
       "      <th>Amount_sum_card_0</th>\n",
       "    </tr>\n",
       "  </thead>\n",
       "  <tbody>\n",
       "    <tr>\n",
       "      <th>0</th>\n",
       "      <td>2010-01-01</td>\n",
       "      <td>5142190439</td>\n",
       "      <td>3.62</td>\n",
       "      <td>0</td>\n",
       "      <td>1</td>\n",
       "      <td>3.62</td>\n",
       "      <td>3.62</td>\n",
       "      <td>3.62</td>\n",
       "      <td>3.62</td>\n",
       "      <td>3.62</td>\n",
       "      <td>...</td>\n",
       "      <td>3.62</td>\n",
       "      <td>3.62</td>\n",
       "      <td>3.62</td>\n",
       "      <td>3.62</td>\n",
       "      <td>3.62</td>\n",
       "      <td>3.62</td>\n",
       "      <td>3.62</td>\n",
       "      <td>3.62</td>\n",
       "      <td>3.62</td>\n",
       "      <td>3.62</td>\n",
       "    </tr>\n",
       "    <tr>\n",
       "      <th>1</th>\n",
       "      <td>2010-01-01</td>\n",
       "      <td>5142183973</td>\n",
       "      <td>31.42</td>\n",
       "      <td>0</td>\n",
       "      <td>1</td>\n",
       "      <td>31.42</td>\n",
       "      <td>31.42</td>\n",
       "      <td>31.42</td>\n",
       "      <td>31.42</td>\n",
       "      <td>31.42</td>\n",
       "      <td>...</td>\n",
       "      <td>31.42</td>\n",
       "      <td>31.42</td>\n",
       "      <td>31.42</td>\n",
       "      <td>31.42</td>\n",
       "      <td>31.42</td>\n",
       "      <td>31.42</td>\n",
       "      <td>31.42</td>\n",
       "      <td>31.42</td>\n",
       "      <td>31.42</td>\n",
       "      <td>31.42</td>\n",
       "    </tr>\n",
       "    <tr>\n",
       "      <th>2</th>\n",
       "      <td>2010-01-01</td>\n",
       "      <td>5142131721</td>\n",
       "      <td>178.49</td>\n",
       "      <td>0</td>\n",
       "      <td>1</td>\n",
       "      <td>178.49</td>\n",
       "      <td>178.49</td>\n",
       "      <td>178.49</td>\n",
       "      <td>178.49</td>\n",
       "      <td>178.49</td>\n",
       "      <td>...</td>\n",
       "      <td>178.49</td>\n",
       "      <td>178.49</td>\n",
       "      <td>178.49</td>\n",
       "      <td>178.49</td>\n",
       "      <td>178.49</td>\n",
       "      <td>178.49</td>\n",
       "      <td>178.49</td>\n",
       "      <td>178.49</td>\n",
       "      <td>178.49</td>\n",
       "      <td>178.49</td>\n",
       "    </tr>\n",
       "    <tr>\n",
       "      <th>3</th>\n",
       "      <td>2010-01-01</td>\n",
       "      <td>5142148452</td>\n",
       "      <td>3.62</td>\n",
       "      <td>0</td>\n",
       "      <td>1</td>\n",
       "      <td>3.62</td>\n",
       "      <td>3.62</td>\n",
       "      <td>3.62</td>\n",
       "      <td>3.62</td>\n",
       "      <td>3.62</td>\n",
       "      <td>...</td>\n",
       "      <td>3.62</td>\n",
       "      <td>3.62</td>\n",
       "      <td>3.62</td>\n",
       "      <td>3.62</td>\n",
       "      <td>3.62</td>\n",
       "      <td>3.62</td>\n",
       "      <td>3.62</td>\n",
       "      <td>3.62</td>\n",
       "      <td>3.62</td>\n",
       "      <td>3.62</td>\n",
       "    </tr>\n",
       "    <tr>\n",
       "      <th>4</th>\n",
       "      <td>2010-01-01</td>\n",
       "      <td>5142190439</td>\n",
       "      <td>3.62</td>\n",
       "      <td>0</td>\n",
       "      <td>2</td>\n",
       "      <td>3.62</td>\n",
       "      <td>3.62</td>\n",
       "      <td>3.62</td>\n",
       "      <td>3.62</td>\n",
       "      <td>3.62</td>\n",
       "      <td>...</td>\n",
       "      <td>3.62</td>\n",
       "      <td>7.24</td>\n",
       "      <td>7.24</td>\n",
       "      <td>7.24</td>\n",
       "      <td>7.24</td>\n",
       "      <td>7.24</td>\n",
       "      <td>3.62</td>\n",
       "      <td>3.62</td>\n",
       "      <td>3.62</td>\n",
       "      <td>3.62</td>\n",
       "    </tr>\n",
       "  </tbody>\n",
       "</table>\n",
       "<p>5 rows × 29 columns</p>\n",
       "</div>"
      ],
      "text/plain": [
       "        Date     Cardnum  Amount  Fraud  order  Amount_avg_card_1  \\\n",
       "0 2010-01-01  5142190439    3.62      0      1               3.62   \n",
       "1 2010-01-01  5142183973   31.42      0      1              31.42   \n",
       "2 2010-01-01  5142131721  178.49      0      1             178.49   \n",
       "3 2010-01-01  5142148452    3.62      0      1               3.62   \n",
       "4 2010-01-01  5142190439    3.62      0      2               3.62   \n",
       "\n",
       "   Amount_avg_card_3  Amount_avg_card_7  Amount_avg_card_14  \\\n",
       "0               3.62               3.62                3.62   \n",
       "1              31.42              31.42               31.42   \n",
       "2             178.49             178.49              178.49   \n",
       "3               3.62               3.62                3.62   \n",
       "4               3.62               3.62                3.62   \n",
       "\n",
       "   Amount_avg_card_30        ...          Amount_median_card_30  \\\n",
       "0                3.62        ...                           3.62   \n",
       "1               31.42        ...                          31.42   \n",
       "2              178.49        ...                         178.49   \n",
       "3                3.62        ...                           3.62   \n",
       "4                3.62        ...                           3.62   \n",
       "\n",
       "   Amount_sum_card_1  Amount_sum_card_3  Amount_sum_card_7  \\\n",
       "0               3.62               3.62               3.62   \n",
       "1              31.42              31.42              31.42   \n",
       "2             178.49             178.49             178.49   \n",
       "3               3.62               3.62               3.62   \n",
       "4               7.24               7.24               7.24   \n",
       "\n",
       "   Amount_sum_card_14  Amount_sum_card_30  Amount_avg_card_0  \\\n",
       "0                3.62                3.62               3.62   \n",
       "1               31.42               31.42              31.42   \n",
       "2              178.49              178.49             178.49   \n",
       "3                3.62                3.62               3.62   \n",
       "4                7.24                7.24               3.62   \n",
       "\n",
       "   Amount_max_card_0  Amount_median_card_0  Amount_sum_card_0  \n",
       "0               3.62                  3.62               3.62  \n",
       "1              31.42                 31.42              31.42  \n",
       "2             178.49                178.49             178.49  \n",
       "3               3.62                  3.62               3.62  \n",
       "4               3.62                  3.62               3.62  \n",
       "\n",
       "[5 rows x 29 columns]"
      ]
     },
     "execution_count": 45,
     "metadata": {},
     "output_type": "execute_result"
    }
   ],
   "source": [
    "merged_data_card.head()"
   ]
  },
  {
   "cell_type": "code",
   "execution_count": 47,
   "metadata": {},
   "outputs": [],
   "source": [
    "for i in [0, 1, 3, 7, 14, 30]:\n",
    "    merged_data_card['qaa_cm_' + str(i)] = merged_data_card['Amount'] / merged_data_card['Amount_avg_card_' + str(i)]\n",
    "    merged_data_card['qam_cm_' + str(i)] = merged_data_card['Amount'] / merged_data_card['Amount_max_card_' + str(i)]\n",
    "    merged_data_card['qame_cm_' + str(i)] = merged_data_card['Amount'] / merged_data_card['Amount_median_card_' + str(i)]\n",
    "    merged_data_card['qas_cm_' + str(i)] = merged_data_card['Amount'] / merged_data_card['Amount_sum_card_' + str(i)]"
   ]
  },
  {
   "cell_type": "code",
   "execution_count": 48,
   "metadata": {
    "scrolled": true
   },
   "outputs": [
    {
     "data": {
      "text/html": [
       "<div>\n",
       "<style scoped>\n",
       "    .dataframe tbody tr th:only-of-type {\n",
       "        vertical-align: middle;\n",
       "    }\n",
       "\n",
       "    .dataframe tbody tr th {\n",
       "        vertical-align: top;\n",
       "    }\n",
       "\n",
       "    .dataframe thead th {\n",
       "        text-align: right;\n",
       "    }\n",
       "</style>\n",
       "<table border=\"1\" class=\"dataframe\">\n",
       "  <thead>\n",
       "    <tr style=\"text-align: right;\">\n",
       "      <th></th>\n",
       "      <th>Date</th>\n",
       "      <th>Cardnum</th>\n",
       "      <th>Amount</th>\n",
       "      <th>Fraud</th>\n",
       "      <th>order</th>\n",
       "      <th>Amount_avg_card_1</th>\n",
       "      <th>Amount_avg_card_3</th>\n",
       "      <th>Amount_avg_card_7</th>\n",
       "      <th>Amount_avg_card_14</th>\n",
       "      <th>Amount_avg_card_30</th>\n",
       "      <th>...</th>\n",
       "      <th>qame_cm_7</th>\n",
       "      <th>qas_cm_7</th>\n",
       "      <th>qaa_cm_14</th>\n",
       "      <th>qam_cm_14</th>\n",
       "      <th>qame_cm_14</th>\n",
       "      <th>qas_cm_14</th>\n",
       "      <th>qaa_cm_30</th>\n",
       "      <th>qam_cm_30</th>\n",
       "      <th>qame_cm_30</th>\n",
       "      <th>qas_cm_30</th>\n",
       "    </tr>\n",
       "  </thead>\n",
       "  <tbody>\n",
       "    <tr>\n",
       "      <th>0</th>\n",
       "      <td>2010-01-01</td>\n",
       "      <td>5142190439</td>\n",
       "      <td>3.62</td>\n",
       "      <td>0</td>\n",
       "      <td>1</td>\n",
       "      <td>3.62</td>\n",
       "      <td>3.62</td>\n",
       "      <td>3.62</td>\n",
       "      <td>3.62</td>\n",
       "      <td>3.62</td>\n",
       "      <td>...</td>\n",
       "      <td>1.0</td>\n",
       "      <td>1.0</td>\n",
       "      <td>1.0</td>\n",
       "      <td>1.0</td>\n",
       "      <td>1.0</td>\n",
       "      <td>1.0</td>\n",
       "      <td>1.0</td>\n",
       "      <td>1.0</td>\n",
       "      <td>1.0</td>\n",
       "      <td>1.0</td>\n",
       "    </tr>\n",
       "    <tr>\n",
       "      <th>1</th>\n",
       "      <td>2010-01-01</td>\n",
       "      <td>5142183973</td>\n",
       "      <td>31.42</td>\n",
       "      <td>0</td>\n",
       "      <td>1</td>\n",
       "      <td>31.42</td>\n",
       "      <td>31.42</td>\n",
       "      <td>31.42</td>\n",
       "      <td>31.42</td>\n",
       "      <td>31.42</td>\n",
       "      <td>...</td>\n",
       "      <td>1.0</td>\n",
       "      <td>1.0</td>\n",
       "      <td>1.0</td>\n",
       "      <td>1.0</td>\n",
       "      <td>1.0</td>\n",
       "      <td>1.0</td>\n",
       "      <td>1.0</td>\n",
       "      <td>1.0</td>\n",
       "      <td>1.0</td>\n",
       "      <td>1.0</td>\n",
       "    </tr>\n",
       "    <tr>\n",
       "      <th>2</th>\n",
       "      <td>2010-01-01</td>\n",
       "      <td>5142131721</td>\n",
       "      <td>178.49</td>\n",
       "      <td>0</td>\n",
       "      <td>1</td>\n",
       "      <td>178.49</td>\n",
       "      <td>178.49</td>\n",
       "      <td>178.49</td>\n",
       "      <td>178.49</td>\n",
       "      <td>178.49</td>\n",
       "      <td>...</td>\n",
       "      <td>1.0</td>\n",
       "      <td>1.0</td>\n",
       "      <td>1.0</td>\n",
       "      <td>1.0</td>\n",
       "      <td>1.0</td>\n",
       "      <td>1.0</td>\n",
       "      <td>1.0</td>\n",
       "      <td>1.0</td>\n",
       "      <td>1.0</td>\n",
       "      <td>1.0</td>\n",
       "    </tr>\n",
       "    <tr>\n",
       "      <th>3</th>\n",
       "      <td>2010-01-01</td>\n",
       "      <td>5142148452</td>\n",
       "      <td>3.62</td>\n",
       "      <td>0</td>\n",
       "      <td>1</td>\n",
       "      <td>3.62</td>\n",
       "      <td>3.62</td>\n",
       "      <td>3.62</td>\n",
       "      <td>3.62</td>\n",
       "      <td>3.62</td>\n",
       "      <td>...</td>\n",
       "      <td>1.0</td>\n",
       "      <td>1.0</td>\n",
       "      <td>1.0</td>\n",
       "      <td>1.0</td>\n",
       "      <td>1.0</td>\n",
       "      <td>1.0</td>\n",
       "      <td>1.0</td>\n",
       "      <td>1.0</td>\n",
       "      <td>1.0</td>\n",
       "      <td>1.0</td>\n",
       "    </tr>\n",
       "    <tr>\n",
       "      <th>4</th>\n",
       "      <td>2010-01-01</td>\n",
       "      <td>5142190439</td>\n",
       "      <td>3.62</td>\n",
       "      <td>0</td>\n",
       "      <td>2</td>\n",
       "      <td>3.62</td>\n",
       "      <td>3.62</td>\n",
       "      <td>3.62</td>\n",
       "      <td>3.62</td>\n",
       "      <td>3.62</td>\n",
       "      <td>...</td>\n",
       "      <td>1.0</td>\n",
       "      <td>0.5</td>\n",
       "      <td>1.0</td>\n",
       "      <td>1.0</td>\n",
       "      <td>1.0</td>\n",
       "      <td>0.5</td>\n",
       "      <td>1.0</td>\n",
       "      <td>1.0</td>\n",
       "      <td>1.0</td>\n",
       "      <td>0.5</td>\n",
       "    </tr>\n",
       "  </tbody>\n",
       "</table>\n",
       "<p>5 rows × 53 columns</p>\n",
       "</div>"
      ],
      "text/plain": [
       "        Date     Cardnum  Amount  Fraud  order  Amount_avg_card_1  \\\n",
       "0 2010-01-01  5142190439    3.62      0      1               3.62   \n",
       "1 2010-01-01  5142183973   31.42      0      1              31.42   \n",
       "2 2010-01-01  5142131721  178.49      0      1             178.49   \n",
       "3 2010-01-01  5142148452    3.62      0      1               3.62   \n",
       "4 2010-01-01  5142190439    3.62      0      2               3.62   \n",
       "\n",
       "   Amount_avg_card_3  Amount_avg_card_7  Amount_avg_card_14  \\\n",
       "0               3.62               3.62                3.62   \n",
       "1              31.42              31.42               31.42   \n",
       "2             178.49             178.49              178.49   \n",
       "3               3.62               3.62                3.62   \n",
       "4               3.62               3.62                3.62   \n",
       "\n",
       "   Amount_avg_card_30    ...      qame_cm_7  qas_cm_7  qaa_cm_14  qam_cm_14  \\\n",
       "0                3.62    ...            1.0       1.0        1.0        1.0   \n",
       "1               31.42    ...            1.0       1.0        1.0        1.0   \n",
       "2              178.49    ...            1.0       1.0        1.0        1.0   \n",
       "3                3.62    ...            1.0       1.0        1.0        1.0   \n",
       "4                3.62    ...            1.0       0.5        1.0        1.0   \n",
       "\n",
       "   qame_cm_14  qas_cm_14  qaa_cm_30  qam_cm_30  qame_cm_30  qas_cm_30  \n",
       "0         1.0        1.0        1.0        1.0         1.0        1.0  \n",
       "1         1.0        1.0        1.0        1.0         1.0        1.0  \n",
       "2         1.0        1.0        1.0        1.0         1.0        1.0  \n",
       "3         1.0        1.0        1.0        1.0         1.0        1.0  \n",
       "4         1.0        0.5        1.0        1.0         1.0        0.5  \n",
       "\n",
       "[5 rows x 53 columns]"
      ]
     },
     "execution_count": 48,
     "metadata": {},
     "output_type": "execute_result"
    }
   ],
   "source": [
    "merged_data_card.head()"
   ]
  },
  {
   "cell_type": "markdown",
   "metadata": {},
   "source": [
    "### Merchant"
   ]
  },
  {
   "cell_type": "code",
   "execution_count": 49,
   "metadata": {},
   "outputs": [],
   "source": [
    "for i in [1, 3, 7, 14, 30]:\n",
    "    locals()['avg_merchant_' + str(i)] = df.groupby(['Merchnum'])['Amount'].rolling(str(i) + 'd').mean().reset_index()\n",
    "    locals()['avg_merchant_' + str(i)]['order'] = locals()['avg_merchant_' + str(i)].groupby(['Merchnum', 'Date']).cumcount() + 1\n",
    "    \n",
    "    locals()['max_merchant_' + str(i)] = df.groupby(['Merchnum'])['Amount'].rolling(str(i) + 'd').max().reset_index()\n",
    "    locals()['max_merchant_' + str(i)]['order'] = locals()['max_merchant_' + str(i)].groupby(['Merchnum', 'Date']).cumcount() + 1\n",
    "    \n",
    "    locals()['median_merchant_' + str(i)] = df.groupby(['Merchnum'])['Amount'].rolling(str(i) + 'd').median().reset_index()\n",
    "    locals()['median_merchant_' + str(i)]['order'] = locals()['median_merchant_' + str(i)].groupby(['Merchnum', 'Date']).cumcount() + 1\n",
    "    \n",
    "    locals()['sum_merchant_' + str(i)] = df.groupby(['Merchnum'])['Amount'].rolling(str(i) + 'd').sum().reset_index()\n",
    "    locals()['sum_merchant_' + str(i)]['order'] = locals()['sum_merchant_' + str(i)].groupby(['Merchnum', 'Date']).cumcount() + 1"
   ]
  },
  {
   "cell_type": "code",
   "execution_count": 50,
   "metadata": {},
   "outputs": [
    {
     "data": {
      "text/html": [
       "<div>\n",
       "<style scoped>\n",
       "    .dataframe tbody tr th:only-of-type {\n",
       "        vertical-align: middle;\n",
       "    }\n",
       "\n",
       "    .dataframe tbody tr th {\n",
       "        vertical-align: top;\n",
       "    }\n",
       "\n",
       "    .dataframe thead th {\n",
       "        text-align: right;\n",
       "    }\n",
       "</style>\n",
       "<table border=\"1\" class=\"dataframe\">\n",
       "  <thead>\n",
       "    <tr style=\"text-align: right;\">\n",
       "      <th></th>\n",
       "      <th>Merchnum</th>\n",
       "      <th>Date</th>\n",
       "      <th>Amount</th>\n",
       "      <th>order</th>\n",
       "    </tr>\n",
       "  </thead>\n",
       "  <tbody>\n",
       "    <tr>\n",
       "      <th>0</th>\n",
       "      <td>0</td>\n",
       "      <td>2010-01-06</td>\n",
       "      <td>48.97</td>\n",
       "      <td>1</td>\n",
       "    </tr>\n",
       "    <tr>\n",
       "      <th>1</th>\n",
       "      <td>0</td>\n",
       "      <td>2010-01-07</td>\n",
       "      <td>87.02</td>\n",
       "      <td>1</td>\n",
       "    </tr>\n",
       "    <tr>\n",
       "      <th>2</th>\n",
       "      <td>0</td>\n",
       "      <td>2010-01-07</td>\n",
       "      <td>460.00</td>\n",
       "      <td>2</td>\n",
       "    </tr>\n",
       "    <tr>\n",
       "      <th>3</th>\n",
       "      <td>0</td>\n",
       "      <td>2010-01-11</td>\n",
       "      <td>25.00</td>\n",
       "      <td>1</td>\n",
       "    </tr>\n",
       "    <tr>\n",
       "      <th>4</th>\n",
       "      <td>0</td>\n",
       "      <td>2010-01-11</td>\n",
       "      <td>110.00</td>\n",
       "      <td>2</td>\n",
       "    </tr>\n",
       "  </tbody>\n",
       "</table>\n",
       "</div>"
      ],
      "text/plain": [
       "  Merchnum       Date  Amount  order\n",
       "0        0 2010-01-06   48.97      1\n",
       "1        0 2010-01-07   87.02      1\n",
       "2        0 2010-01-07  460.00      2\n",
       "3        0 2010-01-11   25.00      1\n",
       "4        0 2010-01-11  110.00      2"
      ]
     },
     "execution_count": 50,
     "metadata": {},
     "output_type": "execute_result"
    }
   ],
   "source": [
    "max_merchant_3.head()"
   ]
  },
  {
   "cell_type": "code",
   "execution_count": 51,
   "metadata": {},
   "outputs": [
    {
     "data": {
      "text/html": [
       "<div>\n",
       "<style scoped>\n",
       "    .dataframe tbody tr th:only-of-type {\n",
       "        vertical-align: middle;\n",
       "    }\n",
       "\n",
       "    .dataframe tbody tr th {\n",
       "        vertical-align: top;\n",
       "    }\n",
       "\n",
       "    .dataframe thead th {\n",
       "        text-align: right;\n",
       "    }\n",
       "</style>\n",
       "<table border=\"1\" class=\"dataframe\">\n",
       "  <thead>\n",
       "    <tr style=\"text-align: right;\">\n",
       "      <th></th>\n",
       "      <th>Merchnum</th>\n",
       "      <th>Date</th>\n",
       "      <th>Amount</th>\n",
       "      <th>order</th>\n",
       "    </tr>\n",
       "  </thead>\n",
       "  <tbody>\n",
       "    <tr>\n",
       "      <th>0</th>\n",
       "      <td>0</td>\n",
       "      <td>2010-01-06</td>\n",
       "      <td>48.970</td>\n",
       "      <td>1</td>\n",
       "    </tr>\n",
       "    <tr>\n",
       "      <th>1</th>\n",
       "      <td>0</td>\n",
       "      <td>2010-01-07</td>\n",
       "      <td>67.995</td>\n",
       "      <td>1</td>\n",
       "    </tr>\n",
       "    <tr>\n",
       "      <th>2</th>\n",
       "      <td>0</td>\n",
       "      <td>2010-01-07</td>\n",
       "      <td>87.020</td>\n",
       "      <td>2</td>\n",
       "    </tr>\n",
       "    <tr>\n",
       "      <th>3</th>\n",
       "      <td>0</td>\n",
       "      <td>2010-01-11</td>\n",
       "      <td>25.000</td>\n",
       "      <td>1</td>\n",
       "    </tr>\n",
       "    <tr>\n",
       "      <th>4</th>\n",
       "      <td>0</td>\n",
       "      <td>2010-01-11</td>\n",
       "      <td>67.500</td>\n",
       "      <td>2</td>\n",
       "    </tr>\n",
       "  </tbody>\n",
       "</table>\n",
       "</div>"
      ],
      "text/plain": [
       "  Merchnum       Date  Amount  order\n",
       "0        0 2010-01-06  48.970      1\n",
       "1        0 2010-01-07  67.995      1\n",
       "2        0 2010-01-07  87.020      2\n",
       "3        0 2010-01-11  25.000      1\n",
       "4        0 2010-01-11  67.500      2"
      ]
     },
     "execution_count": 51,
     "metadata": {},
     "output_type": "execute_result"
    }
   ],
   "source": [
    "median_merchant_3.head()"
   ]
  },
  {
   "cell_type": "code",
   "execution_count": 52,
   "metadata": {},
   "outputs": [
    {
     "data": {
      "text/html": [
       "<div>\n",
       "<style scoped>\n",
       "    .dataframe tbody tr th:only-of-type {\n",
       "        vertical-align: middle;\n",
       "    }\n",
       "\n",
       "    .dataframe tbody tr th {\n",
       "        vertical-align: top;\n",
       "    }\n",
       "\n",
       "    .dataframe thead th {\n",
       "        text-align: right;\n",
       "    }\n",
       "</style>\n",
       "<table border=\"1\" class=\"dataframe\">\n",
       "  <thead>\n",
       "    <tr style=\"text-align: right;\">\n",
       "      <th></th>\n",
       "      <th>Merchnum</th>\n",
       "      <th>Date</th>\n",
       "      <th>Amount</th>\n",
       "      <th>order</th>\n",
       "    </tr>\n",
       "  </thead>\n",
       "  <tbody>\n",
       "    <tr>\n",
       "      <th>0</th>\n",
       "      <td>0</td>\n",
       "      <td>2010-01-06</td>\n",
       "      <td>48.97</td>\n",
       "      <td>1</td>\n",
       "    </tr>\n",
       "    <tr>\n",
       "      <th>1</th>\n",
       "      <td>0</td>\n",
       "      <td>2010-01-07</td>\n",
       "      <td>135.99</td>\n",
       "      <td>1</td>\n",
       "    </tr>\n",
       "    <tr>\n",
       "      <th>2</th>\n",
       "      <td>0</td>\n",
       "      <td>2010-01-07</td>\n",
       "      <td>595.99</td>\n",
       "      <td>2</td>\n",
       "    </tr>\n",
       "    <tr>\n",
       "      <th>3</th>\n",
       "      <td>0</td>\n",
       "      <td>2010-01-11</td>\n",
       "      <td>25.00</td>\n",
       "      <td>1</td>\n",
       "    </tr>\n",
       "    <tr>\n",
       "      <th>4</th>\n",
       "      <td>0</td>\n",
       "      <td>2010-01-11</td>\n",
       "      <td>135.00</td>\n",
       "      <td>2</td>\n",
       "    </tr>\n",
       "  </tbody>\n",
       "</table>\n",
       "</div>"
      ],
      "text/plain": [
       "  Merchnum       Date  Amount  order\n",
       "0        0 2010-01-06   48.97      1\n",
       "1        0 2010-01-07  135.99      1\n",
       "2        0 2010-01-07  595.99      2\n",
       "3        0 2010-01-11   25.00      1\n",
       "4        0 2010-01-11  135.00      2"
      ]
     },
     "execution_count": 52,
     "metadata": {},
     "output_type": "execute_result"
    }
   ],
   "source": [
    "sum_merchant_3.head()"
   ]
  },
  {
   "cell_type": "code",
   "execution_count": 53,
   "metadata": {},
   "outputs": [],
   "source": [
    "merchant_df = df.copy()\n",
    "merchant_df = merchant_df.reset_index()\n",
    "merchant_df['order'] = merchant_df.groupby(['Merchnum', 'Date']).cumcount() + 1"
   ]
  },
  {
   "cell_type": "code",
   "execution_count": 54,
   "metadata": {},
   "outputs": [
    {
     "data": {
      "text/html": [
       "<div>\n",
       "<style scoped>\n",
       "    .dataframe tbody tr th:only-of-type {\n",
       "        vertical-align: middle;\n",
       "    }\n",
       "\n",
       "    .dataframe tbody tr th {\n",
       "        vertical-align: top;\n",
       "    }\n",
       "\n",
       "    .dataframe thead th {\n",
       "        text-align: right;\n",
       "    }\n",
       "</style>\n",
       "<table border=\"1\" class=\"dataframe\">\n",
       "  <thead>\n",
       "    <tr style=\"text-align: right;\">\n",
       "      <th></th>\n",
       "      <th>Date</th>\n",
       "      <th>Recnum</th>\n",
       "      <th>Cardnum</th>\n",
       "      <th>Merchnum</th>\n",
       "      <th>Merch description</th>\n",
       "      <th>Merch state</th>\n",
       "      <th>Merch zip</th>\n",
       "      <th>Transtype</th>\n",
       "      <th>Amount</th>\n",
       "      <th>Fraud</th>\n",
       "      <th>order</th>\n",
       "    </tr>\n",
       "  </thead>\n",
       "  <tbody>\n",
       "    <tr>\n",
       "      <th>0</th>\n",
       "      <td>2010-01-01</td>\n",
       "      <td>1</td>\n",
       "      <td>5142190439</td>\n",
       "      <td>5509006296254</td>\n",
       "      <td>FEDEX SHP 12/23/09 AB#</td>\n",
       "      <td>TN</td>\n",
       "      <td>38118.0</td>\n",
       "      <td>P</td>\n",
       "      <td>3.62</td>\n",
       "      <td>0</td>\n",
       "      <td>1</td>\n",
       "    </tr>\n",
       "    <tr>\n",
       "      <th>1</th>\n",
       "      <td>2010-01-01</td>\n",
       "      <td>2</td>\n",
       "      <td>5142183973</td>\n",
       "      <td>61003026333</td>\n",
       "      <td>SERVICE MERCHANDISE #81</td>\n",
       "      <td>MA</td>\n",
       "      <td>1803.0</td>\n",
       "      <td>P</td>\n",
       "      <td>31.42</td>\n",
       "      <td>0</td>\n",
       "      <td>1</td>\n",
       "    </tr>\n",
       "    <tr>\n",
       "      <th>2</th>\n",
       "      <td>2010-01-01</td>\n",
       "      <td>3</td>\n",
       "      <td>5142131721</td>\n",
       "      <td>4503082993600</td>\n",
       "      <td>OFFICE DEPOT #191</td>\n",
       "      <td>MD</td>\n",
       "      <td>20706.0</td>\n",
       "      <td>P</td>\n",
       "      <td>178.49</td>\n",
       "      <td>0</td>\n",
       "      <td>1</td>\n",
       "    </tr>\n",
       "    <tr>\n",
       "      <th>3</th>\n",
       "      <td>2010-01-01</td>\n",
       "      <td>4</td>\n",
       "      <td>5142148452</td>\n",
       "      <td>5509006296254</td>\n",
       "      <td>FEDEX SHP 12/28/09 AB#</td>\n",
       "      <td>TN</td>\n",
       "      <td>38118.0</td>\n",
       "      <td>P</td>\n",
       "      <td>3.62</td>\n",
       "      <td>0</td>\n",
       "      <td>2</td>\n",
       "    </tr>\n",
       "    <tr>\n",
       "      <th>4</th>\n",
       "      <td>2010-01-01</td>\n",
       "      <td>5</td>\n",
       "      <td>5142190439</td>\n",
       "      <td>5509006296254</td>\n",
       "      <td>FEDEX SHP 12/23/09 AB#</td>\n",
       "      <td>TN</td>\n",
       "      <td>38118.0</td>\n",
       "      <td>P</td>\n",
       "      <td>3.62</td>\n",
       "      <td>0</td>\n",
       "      <td>3</td>\n",
       "    </tr>\n",
       "  </tbody>\n",
       "</table>\n",
       "</div>"
      ],
      "text/plain": [
       "        Date  Recnum     Cardnum       Merchnum        Merch description  \\\n",
       "0 2010-01-01       1  5142190439  5509006296254   FEDEX SHP 12/23/09 AB#   \n",
       "1 2010-01-01       2  5142183973    61003026333  SERVICE MERCHANDISE #81   \n",
       "2 2010-01-01       3  5142131721  4503082993600        OFFICE DEPOT #191   \n",
       "3 2010-01-01       4  5142148452  5509006296254   FEDEX SHP 12/28/09 AB#   \n",
       "4 2010-01-01       5  5142190439  5509006296254   FEDEX SHP 12/23/09 AB#   \n",
       "\n",
       "  Merch state  Merch zip Transtype  Amount  Fraud  order  \n",
       "0          TN    38118.0         P    3.62      0      1  \n",
       "1          MA     1803.0         P   31.42      0      1  \n",
       "2          MD    20706.0         P  178.49      0      1  \n",
       "3          TN    38118.0         P    3.62      0      2  \n",
       "4          TN    38118.0         P    3.62      0      3  "
      ]
     },
     "execution_count": 54,
     "metadata": {},
     "output_type": "execute_result"
    }
   ],
   "source": [
    "merchant_df.head()"
   ]
  },
  {
   "cell_type": "code",
   "execution_count": 55,
   "metadata": {},
   "outputs": [],
   "source": [
    "not_needed_columns = ['index', 'Recnum', 'Cardnum', 'Merch description', 'Merch state', 'Merch zip', 'Transtype']\n",
    "for column in not_needed_columns:\n",
    "    try:\n",
    "        del merchant_df[column]\n",
    "    except:\n",
    "        pass"
   ]
  },
  {
   "cell_type": "code",
   "execution_count": 56,
   "metadata": {},
   "outputs": [
    {
     "data": {
      "text/html": [
       "<div>\n",
       "<style scoped>\n",
       "    .dataframe tbody tr th:only-of-type {\n",
       "        vertical-align: middle;\n",
       "    }\n",
       "\n",
       "    .dataframe tbody tr th {\n",
       "        vertical-align: top;\n",
       "    }\n",
       "\n",
       "    .dataframe thead th {\n",
       "        text-align: right;\n",
       "    }\n",
       "</style>\n",
       "<table border=\"1\" class=\"dataframe\">\n",
       "  <thead>\n",
       "    <tr style=\"text-align: right;\">\n",
       "      <th></th>\n",
       "      <th>Date</th>\n",
       "      <th>Merchnum</th>\n",
       "      <th>Amount</th>\n",
       "      <th>Fraud</th>\n",
       "      <th>order</th>\n",
       "    </tr>\n",
       "  </thead>\n",
       "  <tbody>\n",
       "    <tr>\n",
       "      <th>0</th>\n",
       "      <td>2010-01-01</td>\n",
       "      <td>5509006296254</td>\n",
       "      <td>3.62</td>\n",
       "      <td>0</td>\n",
       "      <td>1</td>\n",
       "    </tr>\n",
       "    <tr>\n",
       "      <th>1</th>\n",
       "      <td>2010-01-01</td>\n",
       "      <td>61003026333</td>\n",
       "      <td>31.42</td>\n",
       "      <td>0</td>\n",
       "      <td>1</td>\n",
       "    </tr>\n",
       "    <tr>\n",
       "      <th>2</th>\n",
       "      <td>2010-01-01</td>\n",
       "      <td>4503082993600</td>\n",
       "      <td>178.49</td>\n",
       "      <td>0</td>\n",
       "      <td>1</td>\n",
       "    </tr>\n",
       "    <tr>\n",
       "      <th>3</th>\n",
       "      <td>2010-01-01</td>\n",
       "      <td>5509006296254</td>\n",
       "      <td>3.62</td>\n",
       "      <td>0</td>\n",
       "      <td>2</td>\n",
       "    </tr>\n",
       "    <tr>\n",
       "      <th>4</th>\n",
       "      <td>2010-01-01</td>\n",
       "      <td>5509006296254</td>\n",
       "      <td>3.62</td>\n",
       "      <td>0</td>\n",
       "      <td>3</td>\n",
       "    </tr>\n",
       "  </tbody>\n",
       "</table>\n",
       "</div>"
      ],
      "text/plain": [
       "        Date       Merchnum  Amount  Fraud  order\n",
       "0 2010-01-01  5509006296254    3.62      0      1\n",
       "1 2010-01-01    61003026333   31.42      0      1\n",
       "2 2010-01-01  4503082993600  178.49      0      1\n",
       "3 2010-01-01  5509006296254    3.62      0      2\n",
       "4 2010-01-01  5509006296254    3.62      0      3"
      ]
     },
     "execution_count": 56,
     "metadata": {},
     "output_type": "execute_result"
    }
   ],
   "source": [
    "merchant_df.head()"
   ]
  },
  {
   "cell_type": "code",
   "execution_count": 57,
   "metadata": {},
   "outputs": [],
   "source": [
    "merged_data_merchant = merchant_df \\\n",
    ".merge(avg_merchant_1, on = ['Date', 'Merchnum', 'order'], how = 'left', suffixes=['', '_avg_merchant_1'])\\\n",
    ".merge(avg_merchant_3, on = ['Date', 'Merchnum', 'order'], how = 'left', suffixes=['', '_avg_merchant_3']) \\\n",
    ".merge(avg_merchant_7, on = ['Date', 'Merchnum', 'order'], how = 'left', suffixes=['', '_avg_merchant_7']) \\\n",
    ".merge(avg_merchant_14, on = ['Date', 'Merchnum', 'order'], how = 'left', suffixes=['', '_avg_merchant_14']) \\\n",
    ".merge(avg_merchant_30, on = ['Date', 'Merchnum', 'order'], how = 'left', suffixes=['', '_avg_merchant_30']) \\\n",
    ".merge(max_merchant_1, on = ['Date', 'Merchnum', 'order'], how = 'left', suffixes=['', '_max_merchant_1'])\\\n",
    ".merge(max_merchant_3, on = ['Date', 'Merchnum', 'order'], how = 'left', suffixes=['', '_max_merchant_3']) \\\n",
    ".merge(max_merchant_7, on = ['Date', 'Merchnum', 'order'], how = 'left', suffixes=['', '_max_merchant_7']) \\\n",
    ".merge(max_merchant_14, on = ['Date', 'Merchnum', 'order'], how = 'left', suffixes=['', '_max_merchant_14']) \\\n",
    ".merge(max_merchant_30, on = ['Date', 'Merchnum', 'order'], how = 'left', suffixes=['', '_max_merchant_30']) \\\n",
    ".merge(median_merchant_1, on = ['Date', 'Merchnum', 'order'], how = 'left', suffixes=['', '_median_merchant_1'])\\\n",
    ".merge(median_merchant_3, on = ['Date', 'Merchnum', 'order'], how = 'left', suffixes=['', '_median_merchant_3']) \\\n",
    ".merge(median_merchant_7, on = ['Date', 'Merchnum', 'order'], how = 'left', suffixes=['', '_median_merchant_7']) \\\n",
    ".merge(median_merchant_14, on = ['Date', 'Merchnum', 'order'], how = 'left', suffixes=['', '_median_merchant_14']) \\\n",
    ".merge(median_merchant_30, on = ['Date', 'Merchnum', 'order'], how = 'left', suffixes=['', '_median_merchant_30']) \\\n",
    ".merge(sum_merchant_1, on = ['Date', 'Merchnum', 'order'], how = 'left', suffixes=['', '_sum_merchant_1'])\\\n",
    ".merge(sum_merchant_3, on = ['Date', 'Merchnum', 'order'], how = 'left', suffixes=['', '_sum_merchant_3']) \\\n",
    ".merge(sum_merchant_7, on = ['Date', 'Merchnum', 'order'], how = 'left', suffixes=['', '_sum_merchant_7']) \\\n",
    ".merge(sum_merchant_14, on = ['Date', 'Merchnum', 'order'], how = 'left', suffixes=['', '_sum_merchant_14']) \\\n",
    ".merge(sum_merchant_30, on = ['Date', 'Merchnum', 'order'], how = 'left', suffixes=['', '_sum_merchant_30'])"
   ]
  },
  {
   "cell_type": "code",
   "execution_count": 58,
   "metadata": {},
   "outputs": [],
   "source": [
    "merged_data_merchant['Amount_avg_merchant_0'] = merged_data_merchant['Amount']\n",
    "merged_data_merchant['Amount_max_merchant_0'] = merged_data_merchant['Amount']\n",
    "merged_data_merchant['Amount_median_merchant_0'] = merged_data_merchant['Amount']\n",
    "merged_data_merchant['Amount_sum_merchant_0'] = merged_data_merchant['Amount']"
   ]
  },
  {
   "cell_type": "code",
   "execution_count": 59,
   "metadata": {},
   "outputs": [
    {
     "data": {
      "text/html": [
       "<div>\n",
       "<style scoped>\n",
       "    .dataframe tbody tr th:only-of-type {\n",
       "        vertical-align: middle;\n",
       "    }\n",
       "\n",
       "    .dataframe tbody tr th {\n",
       "        vertical-align: top;\n",
       "    }\n",
       "\n",
       "    .dataframe thead th {\n",
       "        text-align: right;\n",
       "    }\n",
       "</style>\n",
       "<table border=\"1\" class=\"dataframe\">\n",
       "  <thead>\n",
       "    <tr style=\"text-align: right;\">\n",
       "      <th></th>\n",
       "      <th>Date</th>\n",
       "      <th>Merchnum</th>\n",
       "      <th>Amount</th>\n",
       "      <th>Fraud</th>\n",
       "      <th>order</th>\n",
       "      <th>Amount_avg_merchant_1</th>\n",
       "      <th>Amount_avg_merchant_3</th>\n",
       "      <th>Amount_avg_merchant_7</th>\n",
       "      <th>Amount_avg_merchant_14</th>\n",
       "      <th>Amount_avg_merchant_30</th>\n",
       "      <th>...</th>\n",
       "      <th>Amount_median_merchant_30</th>\n",
       "      <th>Amount_sum_merchant_1</th>\n",
       "      <th>Amount_sum_merchant_3</th>\n",
       "      <th>Amount_sum_merchant_7</th>\n",
       "      <th>Amount_sum_merchant_14</th>\n",
       "      <th>Amount_sum_merchant_30</th>\n",
       "      <th>Amount_avg_merchant_0</th>\n",
       "      <th>Amount_max_merchant_0</th>\n",
       "      <th>Amount_median_merchant_0</th>\n",
       "      <th>Amount_sum_merchant_0</th>\n",
       "    </tr>\n",
       "  </thead>\n",
       "  <tbody>\n",
       "    <tr>\n",
       "      <th>0</th>\n",
       "      <td>2010-01-01</td>\n",
       "      <td>5509006296254</td>\n",
       "      <td>3.62</td>\n",
       "      <td>0</td>\n",
       "      <td>1</td>\n",
       "      <td>3.62</td>\n",
       "      <td>3.62</td>\n",
       "      <td>3.62</td>\n",
       "      <td>3.62</td>\n",
       "      <td>3.62</td>\n",
       "      <td>...</td>\n",
       "      <td>3.62</td>\n",
       "      <td>3.62</td>\n",
       "      <td>3.62</td>\n",
       "      <td>3.62</td>\n",
       "      <td>3.62</td>\n",
       "      <td>3.62</td>\n",
       "      <td>3.62</td>\n",
       "      <td>3.62</td>\n",
       "      <td>3.62</td>\n",
       "      <td>3.62</td>\n",
       "    </tr>\n",
       "    <tr>\n",
       "      <th>1</th>\n",
       "      <td>2010-01-01</td>\n",
       "      <td>61003026333</td>\n",
       "      <td>31.42</td>\n",
       "      <td>0</td>\n",
       "      <td>1</td>\n",
       "      <td>31.42</td>\n",
       "      <td>31.42</td>\n",
       "      <td>31.42</td>\n",
       "      <td>31.42</td>\n",
       "      <td>31.42</td>\n",
       "      <td>...</td>\n",
       "      <td>31.42</td>\n",
       "      <td>31.42</td>\n",
       "      <td>31.42</td>\n",
       "      <td>31.42</td>\n",
       "      <td>31.42</td>\n",
       "      <td>31.42</td>\n",
       "      <td>31.42</td>\n",
       "      <td>31.42</td>\n",
       "      <td>31.42</td>\n",
       "      <td>31.42</td>\n",
       "    </tr>\n",
       "    <tr>\n",
       "      <th>2</th>\n",
       "      <td>2010-01-01</td>\n",
       "      <td>4503082993600</td>\n",
       "      <td>178.49</td>\n",
       "      <td>0</td>\n",
       "      <td>1</td>\n",
       "      <td>178.49</td>\n",
       "      <td>178.49</td>\n",
       "      <td>178.49</td>\n",
       "      <td>178.49</td>\n",
       "      <td>178.49</td>\n",
       "      <td>...</td>\n",
       "      <td>178.49</td>\n",
       "      <td>178.49</td>\n",
       "      <td>178.49</td>\n",
       "      <td>178.49</td>\n",
       "      <td>178.49</td>\n",
       "      <td>178.49</td>\n",
       "      <td>178.49</td>\n",
       "      <td>178.49</td>\n",
       "      <td>178.49</td>\n",
       "      <td>178.49</td>\n",
       "    </tr>\n",
       "    <tr>\n",
       "      <th>3</th>\n",
       "      <td>2010-01-01</td>\n",
       "      <td>5509006296254</td>\n",
       "      <td>3.62</td>\n",
       "      <td>0</td>\n",
       "      <td>2</td>\n",
       "      <td>3.62</td>\n",
       "      <td>3.62</td>\n",
       "      <td>3.62</td>\n",
       "      <td>3.62</td>\n",
       "      <td>3.62</td>\n",
       "      <td>...</td>\n",
       "      <td>3.62</td>\n",
       "      <td>7.24</td>\n",
       "      <td>7.24</td>\n",
       "      <td>7.24</td>\n",
       "      <td>7.24</td>\n",
       "      <td>7.24</td>\n",
       "      <td>3.62</td>\n",
       "      <td>3.62</td>\n",
       "      <td>3.62</td>\n",
       "      <td>3.62</td>\n",
       "    </tr>\n",
       "    <tr>\n",
       "      <th>4</th>\n",
       "      <td>2010-01-01</td>\n",
       "      <td>5509006296254</td>\n",
       "      <td>3.62</td>\n",
       "      <td>0</td>\n",
       "      <td>3</td>\n",
       "      <td>3.62</td>\n",
       "      <td>3.62</td>\n",
       "      <td>3.62</td>\n",
       "      <td>3.62</td>\n",
       "      <td>3.62</td>\n",
       "      <td>...</td>\n",
       "      <td>3.62</td>\n",
       "      <td>10.86</td>\n",
       "      <td>10.86</td>\n",
       "      <td>10.86</td>\n",
       "      <td>10.86</td>\n",
       "      <td>10.86</td>\n",
       "      <td>3.62</td>\n",
       "      <td>3.62</td>\n",
       "      <td>3.62</td>\n",
       "      <td>3.62</td>\n",
       "    </tr>\n",
       "  </tbody>\n",
       "</table>\n",
       "<p>5 rows × 29 columns</p>\n",
       "</div>"
      ],
      "text/plain": [
       "        Date       Merchnum  Amount  Fraud  order  Amount_avg_merchant_1  \\\n",
       "0 2010-01-01  5509006296254    3.62      0      1                   3.62   \n",
       "1 2010-01-01    61003026333   31.42      0      1                  31.42   \n",
       "2 2010-01-01  4503082993600  178.49      0      1                 178.49   \n",
       "3 2010-01-01  5509006296254    3.62      0      2                   3.62   \n",
       "4 2010-01-01  5509006296254    3.62      0      3                   3.62   \n",
       "\n",
       "   Amount_avg_merchant_3  Amount_avg_merchant_7  Amount_avg_merchant_14  \\\n",
       "0                   3.62                   3.62                    3.62   \n",
       "1                  31.42                  31.42                   31.42   \n",
       "2                 178.49                 178.49                  178.49   \n",
       "3                   3.62                   3.62                    3.62   \n",
       "4                   3.62                   3.62                    3.62   \n",
       "\n",
       "   Amount_avg_merchant_30          ...            Amount_median_merchant_30  \\\n",
       "0                    3.62          ...                                 3.62   \n",
       "1                   31.42          ...                                31.42   \n",
       "2                  178.49          ...                               178.49   \n",
       "3                    3.62          ...                                 3.62   \n",
       "4                    3.62          ...                                 3.62   \n",
       "\n",
       "   Amount_sum_merchant_1  Amount_sum_merchant_3  Amount_sum_merchant_7  \\\n",
       "0                   3.62                   3.62                   3.62   \n",
       "1                  31.42                  31.42                  31.42   \n",
       "2                 178.49                 178.49                 178.49   \n",
       "3                   7.24                   7.24                   7.24   \n",
       "4                  10.86                  10.86                  10.86   \n",
       "\n",
       "   Amount_sum_merchant_14  Amount_sum_merchant_30  Amount_avg_merchant_0  \\\n",
       "0                    3.62                    3.62                   3.62   \n",
       "1                   31.42                   31.42                  31.42   \n",
       "2                  178.49                  178.49                 178.49   \n",
       "3                    7.24                    7.24                   3.62   \n",
       "4                   10.86                   10.86                   3.62   \n",
       "\n",
       "   Amount_max_merchant_0  Amount_median_merchant_0  Amount_sum_merchant_0  \n",
       "0                   3.62                      3.62                   3.62  \n",
       "1                  31.42                     31.42                  31.42  \n",
       "2                 178.49                    178.49                 178.49  \n",
       "3                   3.62                      3.62                   3.62  \n",
       "4                   3.62                      3.62                   3.62  \n",
       "\n",
       "[5 rows x 29 columns]"
      ]
     },
     "execution_count": 59,
     "metadata": {},
     "output_type": "execute_result"
    }
   ],
   "source": [
    "merged_data_merchant.head()"
   ]
  },
  {
   "cell_type": "code",
   "execution_count": 60,
   "metadata": {},
   "outputs": [],
   "source": [
    "for i in [0, 1, 3, 7, 14, 30]:\n",
    "    merged_data_merchant['qaa_cm_' + str(i)] = merged_data_merchant['Amount'] / merged_data_merchant['Amount_avg_merchant_' + str(i)]\n",
    "    merged_data_merchant['qam_cm_' + str(i)] = merged_data_merchant['Amount'] / merged_data_merchant['Amount_max_merchant_' + str(i)]\n",
    "    merged_data_merchant['qame_cm_' + str(i)] = merged_data_merchant['Amount'] / merged_data_merchant['Amount_median_merchant_' + str(i)]\n",
    "    merged_data_merchant['qas_cm_' + str(i)] = merged_data_merchant['Amount'] / merged_data_merchant['Amount_sum_merchant_' + str(i)]"
   ]
  },
  {
   "cell_type": "code",
   "execution_count": 61,
   "metadata": {},
   "outputs": [
    {
     "data": {
      "text/plain": [
       "0"
      ]
     },
     "execution_count": 61,
     "metadata": {},
     "output_type": "execute_result"
    }
   ],
   "source": [
    "sum(merged_data_merchant['Merchnum'] == 0)"
   ]
  },
  {
   "cell_type": "code",
   "execution_count": 62,
   "metadata": {},
   "outputs": [
    {
     "data": {
      "text/html": [
       "<div>\n",
       "<style scoped>\n",
       "    .dataframe tbody tr th:only-of-type {\n",
       "        vertical-align: middle;\n",
       "    }\n",
       "\n",
       "    .dataframe tbody tr th {\n",
       "        vertical-align: top;\n",
       "    }\n",
       "\n",
       "    .dataframe thead th {\n",
       "        text-align: right;\n",
       "    }\n",
       "</style>\n",
       "<table border=\"1\" class=\"dataframe\">\n",
       "  <thead>\n",
       "    <tr style=\"text-align: right;\">\n",
       "      <th></th>\n",
       "      <th>Date</th>\n",
       "      <th>Merchnum</th>\n",
       "      <th>Amount</th>\n",
       "      <th>Fraud</th>\n",
       "      <th>order</th>\n",
       "      <th>Amount_avg_merchant_1</th>\n",
       "      <th>Amount_avg_merchant_3</th>\n",
       "      <th>Amount_avg_merchant_7</th>\n",
       "      <th>Amount_avg_merchant_14</th>\n",
       "      <th>Amount_avg_merchant_30</th>\n",
       "      <th>...</th>\n",
       "      <th>qame_cm_7</th>\n",
       "      <th>qas_cm_7</th>\n",
       "      <th>qaa_cm_14</th>\n",
       "      <th>qam_cm_14</th>\n",
       "      <th>qame_cm_14</th>\n",
       "      <th>qas_cm_14</th>\n",
       "      <th>qaa_cm_30</th>\n",
       "      <th>qam_cm_30</th>\n",
       "      <th>qame_cm_30</th>\n",
       "      <th>qas_cm_30</th>\n",
       "    </tr>\n",
       "  </thead>\n",
       "  <tbody>\n",
       "    <tr>\n",
       "      <th>0</th>\n",
       "      <td>2010-01-01</td>\n",
       "      <td>5509006296254</td>\n",
       "      <td>3.62</td>\n",
       "      <td>0</td>\n",
       "      <td>1</td>\n",
       "      <td>3.62</td>\n",
       "      <td>3.62</td>\n",
       "      <td>3.62</td>\n",
       "      <td>3.62</td>\n",
       "      <td>3.62</td>\n",
       "      <td>...</td>\n",
       "      <td>1.0</td>\n",
       "      <td>1.000000</td>\n",
       "      <td>1.0</td>\n",
       "      <td>1.0</td>\n",
       "      <td>1.0</td>\n",
       "      <td>1.000000</td>\n",
       "      <td>1.0</td>\n",
       "      <td>1.0</td>\n",
       "      <td>1.0</td>\n",
       "      <td>1.000000</td>\n",
       "    </tr>\n",
       "    <tr>\n",
       "      <th>1</th>\n",
       "      <td>2010-01-01</td>\n",
       "      <td>61003026333</td>\n",
       "      <td>31.42</td>\n",
       "      <td>0</td>\n",
       "      <td>1</td>\n",
       "      <td>31.42</td>\n",
       "      <td>31.42</td>\n",
       "      <td>31.42</td>\n",
       "      <td>31.42</td>\n",
       "      <td>31.42</td>\n",
       "      <td>...</td>\n",
       "      <td>1.0</td>\n",
       "      <td>1.000000</td>\n",
       "      <td>1.0</td>\n",
       "      <td>1.0</td>\n",
       "      <td>1.0</td>\n",
       "      <td>1.000000</td>\n",
       "      <td>1.0</td>\n",
       "      <td>1.0</td>\n",
       "      <td>1.0</td>\n",
       "      <td>1.000000</td>\n",
       "    </tr>\n",
       "    <tr>\n",
       "      <th>2</th>\n",
       "      <td>2010-01-01</td>\n",
       "      <td>4503082993600</td>\n",
       "      <td>178.49</td>\n",
       "      <td>0</td>\n",
       "      <td>1</td>\n",
       "      <td>178.49</td>\n",
       "      <td>178.49</td>\n",
       "      <td>178.49</td>\n",
       "      <td>178.49</td>\n",
       "      <td>178.49</td>\n",
       "      <td>...</td>\n",
       "      <td>1.0</td>\n",
       "      <td>1.000000</td>\n",
       "      <td>1.0</td>\n",
       "      <td>1.0</td>\n",
       "      <td>1.0</td>\n",
       "      <td>1.000000</td>\n",
       "      <td>1.0</td>\n",
       "      <td>1.0</td>\n",
       "      <td>1.0</td>\n",
       "      <td>1.000000</td>\n",
       "    </tr>\n",
       "    <tr>\n",
       "      <th>3</th>\n",
       "      <td>2010-01-01</td>\n",
       "      <td>5509006296254</td>\n",
       "      <td>3.62</td>\n",
       "      <td>0</td>\n",
       "      <td>2</td>\n",
       "      <td>3.62</td>\n",
       "      <td>3.62</td>\n",
       "      <td>3.62</td>\n",
       "      <td>3.62</td>\n",
       "      <td>3.62</td>\n",
       "      <td>...</td>\n",
       "      <td>1.0</td>\n",
       "      <td>0.500000</td>\n",
       "      <td>1.0</td>\n",
       "      <td>1.0</td>\n",
       "      <td>1.0</td>\n",
       "      <td>0.500000</td>\n",
       "      <td>1.0</td>\n",
       "      <td>1.0</td>\n",
       "      <td>1.0</td>\n",
       "      <td>0.500000</td>\n",
       "    </tr>\n",
       "    <tr>\n",
       "      <th>4</th>\n",
       "      <td>2010-01-01</td>\n",
       "      <td>5509006296254</td>\n",
       "      <td>3.62</td>\n",
       "      <td>0</td>\n",
       "      <td>3</td>\n",
       "      <td>3.62</td>\n",
       "      <td>3.62</td>\n",
       "      <td>3.62</td>\n",
       "      <td>3.62</td>\n",
       "      <td>3.62</td>\n",
       "      <td>...</td>\n",
       "      <td>1.0</td>\n",
       "      <td>0.333333</td>\n",
       "      <td>1.0</td>\n",
       "      <td>1.0</td>\n",
       "      <td>1.0</td>\n",
       "      <td>0.333333</td>\n",
       "      <td>1.0</td>\n",
       "      <td>1.0</td>\n",
       "      <td>1.0</td>\n",
       "      <td>0.333333</td>\n",
       "    </tr>\n",
       "  </tbody>\n",
       "</table>\n",
       "<p>5 rows × 53 columns</p>\n",
       "</div>"
      ],
      "text/plain": [
       "        Date       Merchnum  Amount  Fraud  order  Amount_avg_merchant_1  \\\n",
       "0 2010-01-01  5509006296254    3.62      0      1                   3.62   \n",
       "1 2010-01-01    61003026333   31.42      0      1                  31.42   \n",
       "2 2010-01-01  4503082993600  178.49      0      1                 178.49   \n",
       "3 2010-01-01  5509006296254    3.62      0      2                   3.62   \n",
       "4 2010-01-01  5509006296254    3.62      0      3                   3.62   \n",
       "\n",
       "   Amount_avg_merchant_3  Amount_avg_merchant_7  Amount_avg_merchant_14  \\\n",
       "0                   3.62                   3.62                    3.62   \n",
       "1                  31.42                  31.42                   31.42   \n",
       "2                 178.49                 178.49                  178.49   \n",
       "3                   3.62                   3.62                    3.62   \n",
       "4                   3.62                   3.62                    3.62   \n",
       "\n",
       "   Amount_avg_merchant_30    ...      qame_cm_7  qas_cm_7  qaa_cm_14  \\\n",
       "0                    3.62    ...            1.0  1.000000        1.0   \n",
       "1                   31.42    ...            1.0  1.000000        1.0   \n",
       "2                  178.49    ...            1.0  1.000000        1.0   \n",
       "3                    3.62    ...            1.0  0.500000        1.0   \n",
       "4                    3.62    ...            1.0  0.333333        1.0   \n",
       "\n",
       "   qam_cm_14  qame_cm_14  qas_cm_14  qaa_cm_30  qam_cm_30  qame_cm_30  \\\n",
       "0        1.0         1.0   1.000000        1.0        1.0         1.0   \n",
       "1        1.0         1.0   1.000000        1.0        1.0         1.0   \n",
       "2        1.0         1.0   1.000000        1.0        1.0         1.0   \n",
       "3        1.0         1.0   0.500000        1.0        1.0         1.0   \n",
       "4        1.0         1.0   0.333333        1.0        1.0         1.0   \n",
       "\n",
       "   qas_cm_30  \n",
       "0   1.000000  \n",
       "1   1.000000  \n",
       "2   1.000000  \n",
       "3   0.500000  \n",
       "4   0.333333  \n",
       "\n",
       "[5 rows x 53 columns]"
      ]
     },
     "execution_count": 62,
     "metadata": {},
     "output_type": "execute_result"
    }
   ],
   "source": [
    "merged_data_merchant.head()"
   ]
  },
  {
   "cell_type": "code",
   "execution_count": 63,
   "metadata": {},
   "outputs": [
    {
     "data": {
      "text/plain": [
       "(83970, 53)"
      ]
     },
     "execution_count": 63,
     "metadata": {},
     "output_type": "execute_result"
    }
   ],
   "source": [
    "merged_data_merchant.shape"
   ]
  },
  {
   "cell_type": "markdown",
   "metadata": {},
   "source": [
    "### Card + Merchnum"
   ]
  },
  {
   "cell_type": "code",
   "execution_count": 64,
   "metadata": {},
   "outputs": [],
   "source": [
    "for i in [1, 3, 7, 14, 30]:\n",
    "    locals()['avg_card_merchant_' + str(i)] = df.groupby(['Cardnum', 'Merchnum'])['Amount'].rolling(str(i) + 'd').mean().reset_index()\n",
    "    locals()['avg_card_merchant_' + str(i)]['order'] = locals()['avg_card_merchant_' + str(i)].groupby(['Cardnum', 'Merchnum', 'Date']).cumcount() + 1\n",
    "    \n",
    "    locals()['max_card_merchant_' + str(i)] = df.groupby(['Cardnum', 'Merchnum'])['Amount'].rolling(str(i) + 'd').max().reset_index()\n",
    "    locals()['max_card_merchant_' + str(i)]['order'] = locals()['max_card_merchant_' + str(i)].groupby(['Cardnum', 'Merchnum', 'Date']).cumcount() + 1\n",
    "    \n",
    "    locals()['median_card_merchant_' + str(i)] = df.groupby(['Cardnum', 'Merchnum'])['Amount'].rolling(str(i) + 'd').median().reset_index()\n",
    "    locals()['median_card_merchant_' + str(i)]['order'] = locals()['median_card_merchant_' + str(i)].groupby(['Cardnum', 'Merchnum', 'Date']).cumcount() + 1\n",
    "    \n",
    "    locals()['sum_card_merchant_' + str(i)] = df.groupby(['Cardnum', 'Merchnum'])['Amount'].rolling(str(i) + 'd').sum().reset_index()\n",
    "    locals()['sum_card_merchant_' + str(i)]['order'] = locals()['sum_card_merchant_' + str(i)].groupby(['Cardnum', 'Merchnum', 'Date']).cumcount() + 1"
   ]
  },
  {
   "cell_type": "code",
   "execution_count": 65,
   "metadata": {},
   "outputs": [
    {
     "data": {
      "text/html": [
       "<div>\n",
       "<style scoped>\n",
       "    .dataframe tbody tr th:only-of-type {\n",
       "        vertical-align: middle;\n",
       "    }\n",
       "\n",
       "    .dataframe tbody tr th {\n",
       "        vertical-align: top;\n",
       "    }\n",
       "\n",
       "    .dataframe thead th {\n",
       "        text-align: right;\n",
       "    }\n",
       "</style>\n",
       "<table border=\"1\" class=\"dataframe\">\n",
       "  <thead>\n",
       "    <tr style=\"text-align: right;\">\n",
       "      <th></th>\n",
       "      <th>Cardnum</th>\n",
       "      <th>Merchnum</th>\n",
       "      <th>Date</th>\n",
       "      <th>Amount</th>\n",
       "      <th>order</th>\n",
       "    </tr>\n",
       "  </thead>\n",
       "  <tbody>\n",
       "    <tr>\n",
       "      <th>0</th>\n",
       "      <td>5142110002</td>\n",
       "      <td>930090121224</td>\n",
       "      <td>2010-10-12</td>\n",
       "      <td>150.00</td>\n",
       "      <td>1</td>\n",
       "    </tr>\n",
       "    <tr>\n",
       "      <th>1</th>\n",
       "      <td>5142110081</td>\n",
       "      <td>930090121224</td>\n",
       "      <td>2010-03-08</td>\n",
       "      <td>495.90</td>\n",
       "      <td>1</td>\n",
       "    </tr>\n",
       "    <tr>\n",
       "      <th>2</th>\n",
       "      <td>5142110081</td>\n",
       "      <td>930090121224</td>\n",
       "      <td>2010-03-08</td>\n",
       "      <td>566.05</td>\n",
       "      <td>2</td>\n",
       "    </tr>\n",
       "    <tr>\n",
       "      <th>3</th>\n",
       "      <td>5142110313</td>\n",
       "      <td>930090121224</td>\n",
       "      <td>2010-10-07</td>\n",
       "      <td>144.00</td>\n",
       "      <td>1</td>\n",
       "    </tr>\n",
       "    <tr>\n",
       "      <th>4</th>\n",
       "      <td>5142110313</td>\n",
       "      <td>930090121224</td>\n",
       "      <td>2010-10-07</td>\n",
       "      <td>94.00</td>\n",
       "      <td>2</td>\n",
       "    </tr>\n",
       "  </tbody>\n",
       "</table>\n",
       "</div>"
      ],
      "text/plain": [
       "      Cardnum      Merchnum       Date  Amount  order\n",
       "0  5142110002  930090121224 2010-10-12  150.00      1\n",
       "1  5142110081  930090121224 2010-03-08  495.90      1\n",
       "2  5142110081  930090121224 2010-03-08  566.05      2\n",
       "3  5142110313  930090121224 2010-10-07  144.00      1\n",
       "4  5142110313  930090121224 2010-10-07   94.00      2"
      ]
     },
     "execution_count": 65,
     "metadata": {},
     "output_type": "execute_result"
    }
   ],
   "source": [
    "avg_card_merchant_7.head()"
   ]
  },
  {
   "cell_type": "code",
   "execution_count": 66,
   "metadata": {},
   "outputs": [
    {
     "data": {
      "text/html": [
       "<div>\n",
       "<style scoped>\n",
       "    .dataframe tbody tr th:only-of-type {\n",
       "        vertical-align: middle;\n",
       "    }\n",
       "\n",
       "    .dataframe tbody tr th {\n",
       "        vertical-align: top;\n",
       "    }\n",
       "\n",
       "    .dataframe thead th {\n",
       "        text-align: right;\n",
       "    }\n",
       "</style>\n",
       "<table border=\"1\" class=\"dataframe\">\n",
       "  <thead>\n",
       "    <tr style=\"text-align: right;\">\n",
       "      <th></th>\n",
       "      <th>Cardnum</th>\n",
       "      <th>Merchnum</th>\n",
       "      <th>Date</th>\n",
       "      <th>Amount</th>\n",
       "      <th>order</th>\n",
       "    </tr>\n",
       "  </thead>\n",
       "  <tbody>\n",
       "    <tr>\n",
       "      <th>0</th>\n",
       "      <td>5142110002</td>\n",
       "      <td>930090121224</td>\n",
       "      <td>2010-10-12</td>\n",
       "      <td>150.0</td>\n",
       "      <td>1</td>\n",
       "    </tr>\n",
       "    <tr>\n",
       "      <th>1</th>\n",
       "      <td>5142110081</td>\n",
       "      <td>930090121224</td>\n",
       "      <td>2010-03-08</td>\n",
       "      <td>495.9</td>\n",
       "      <td>1</td>\n",
       "    </tr>\n",
       "    <tr>\n",
       "      <th>2</th>\n",
       "      <td>5142110081</td>\n",
       "      <td>930090121224</td>\n",
       "      <td>2010-03-08</td>\n",
       "      <td>636.2</td>\n",
       "      <td>2</td>\n",
       "    </tr>\n",
       "    <tr>\n",
       "      <th>3</th>\n",
       "      <td>5142110313</td>\n",
       "      <td>930090121224</td>\n",
       "      <td>2010-10-07</td>\n",
       "      <td>144.0</td>\n",
       "      <td>1</td>\n",
       "    </tr>\n",
       "    <tr>\n",
       "      <th>4</th>\n",
       "      <td>5142110313</td>\n",
       "      <td>930090121224</td>\n",
       "      <td>2010-10-07</td>\n",
       "      <td>144.0</td>\n",
       "      <td>2</td>\n",
       "    </tr>\n",
       "  </tbody>\n",
       "</table>\n",
       "</div>"
      ],
      "text/plain": [
       "      Cardnum      Merchnum       Date  Amount  order\n",
       "0  5142110002  930090121224 2010-10-12   150.0      1\n",
       "1  5142110081  930090121224 2010-03-08   495.9      1\n",
       "2  5142110081  930090121224 2010-03-08   636.2      2\n",
       "3  5142110313  930090121224 2010-10-07   144.0      1\n",
       "4  5142110313  930090121224 2010-10-07   144.0      2"
      ]
     },
     "execution_count": 66,
     "metadata": {},
     "output_type": "execute_result"
    }
   ],
   "source": [
    "max_card_merchant_7.head()"
   ]
  },
  {
   "cell_type": "code",
   "execution_count": 67,
   "metadata": {},
   "outputs": [
    {
     "data": {
      "text/html": [
       "<div>\n",
       "<style scoped>\n",
       "    .dataframe tbody tr th:only-of-type {\n",
       "        vertical-align: middle;\n",
       "    }\n",
       "\n",
       "    .dataframe tbody tr th {\n",
       "        vertical-align: top;\n",
       "    }\n",
       "\n",
       "    .dataframe thead th {\n",
       "        text-align: right;\n",
       "    }\n",
       "</style>\n",
       "<table border=\"1\" class=\"dataframe\">\n",
       "  <thead>\n",
       "    <tr style=\"text-align: right;\">\n",
       "      <th></th>\n",
       "      <th>Cardnum</th>\n",
       "      <th>Merchnum</th>\n",
       "      <th>Date</th>\n",
       "      <th>Amount</th>\n",
       "      <th>order</th>\n",
       "    </tr>\n",
       "  </thead>\n",
       "  <tbody>\n",
       "    <tr>\n",
       "      <th>0</th>\n",
       "      <td>5142110002</td>\n",
       "      <td>930090121224</td>\n",
       "      <td>2010-10-12</td>\n",
       "      <td>150.00</td>\n",
       "      <td>1</td>\n",
       "    </tr>\n",
       "    <tr>\n",
       "      <th>1</th>\n",
       "      <td>5142110081</td>\n",
       "      <td>930090121224</td>\n",
       "      <td>2010-03-08</td>\n",
       "      <td>495.90</td>\n",
       "      <td>1</td>\n",
       "    </tr>\n",
       "    <tr>\n",
       "      <th>2</th>\n",
       "      <td>5142110081</td>\n",
       "      <td>930090121224</td>\n",
       "      <td>2010-03-08</td>\n",
       "      <td>566.05</td>\n",
       "      <td>2</td>\n",
       "    </tr>\n",
       "    <tr>\n",
       "      <th>3</th>\n",
       "      <td>5142110313</td>\n",
       "      <td>930090121224</td>\n",
       "      <td>2010-10-07</td>\n",
       "      <td>144.00</td>\n",
       "      <td>1</td>\n",
       "    </tr>\n",
       "    <tr>\n",
       "      <th>4</th>\n",
       "      <td>5142110313</td>\n",
       "      <td>930090121224</td>\n",
       "      <td>2010-10-07</td>\n",
       "      <td>94.00</td>\n",
       "      <td>2</td>\n",
       "    </tr>\n",
       "  </tbody>\n",
       "</table>\n",
       "</div>"
      ],
      "text/plain": [
       "      Cardnum      Merchnum       Date  Amount  order\n",
       "0  5142110002  930090121224 2010-10-12  150.00      1\n",
       "1  5142110081  930090121224 2010-03-08  495.90      1\n",
       "2  5142110081  930090121224 2010-03-08  566.05      2\n",
       "3  5142110313  930090121224 2010-10-07  144.00      1\n",
       "4  5142110313  930090121224 2010-10-07   94.00      2"
      ]
     },
     "execution_count": 67,
     "metadata": {},
     "output_type": "execute_result"
    }
   ],
   "source": [
    "median_card_merchant_7.head()"
   ]
  },
  {
   "cell_type": "code",
   "execution_count": 68,
   "metadata": {},
   "outputs": [
    {
     "data": {
      "text/html": [
       "<div>\n",
       "<style scoped>\n",
       "    .dataframe tbody tr th:only-of-type {\n",
       "        vertical-align: middle;\n",
       "    }\n",
       "\n",
       "    .dataframe tbody tr th {\n",
       "        vertical-align: top;\n",
       "    }\n",
       "\n",
       "    .dataframe thead th {\n",
       "        text-align: right;\n",
       "    }\n",
       "</style>\n",
       "<table border=\"1\" class=\"dataframe\">\n",
       "  <thead>\n",
       "    <tr style=\"text-align: right;\">\n",
       "      <th></th>\n",
       "      <th>Cardnum</th>\n",
       "      <th>Merchnum</th>\n",
       "      <th>Date</th>\n",
       "      <th>Amount</th>\n",
       "      <th>order</th>\n",
       "    </tr>\n",
       "  </thead>\n",
       "  <tbody>\n",
       "    <tr>\n",
       "      <th>0</th>\n",
       "      <td>5142110002</td>\n",
       "      <td>930090121224</td>\n",
       "      <td>2010-10-12</td>\n",
       "      <td>150.0</td>\n",
       "      <td>1</td>\n",
       "    </tr>\n",
       "    <tr>\n",
       "      <th>1</th>\n",
       "      <td>5142110081</td>\n",
       "      <td>930090121224</td>\n",
       "      <td>2010-03-08</td>\n",
       "      <td>495.9</td>\n",
       "      <td>1</td>\n",
       "    </tr>\n",
       "    <tr>\n",
       "      <th>2</th>\n",
       "      <td>5142110081</td>\n",
       "      <td>930090121224</td>\n",
       "      <td>2010-03-08</td>\n",
       "      <td>1132.1</td>\n",
       "      <td>2</td>\n",
       "    </tr>\n",
       "    <tr>\n",
       "      <th>3</th>\n",
       "      <td>5142110313</td>\n",
       "      <td>930090121224</td>\n",
       "      <td>2010-10-07</td>\n",
       "      <td>144.0</td>\n",
       "      <td>1</td>\n",
       "    </tr>\n",
       "    <tr>\n",
       "      <th>4</th>\n",
       "      <td>5142110313</td>\n",
       "      <td>930090121224</td>\n",
       "      <td>2010-10-07</td>\n",
       "      <td>188.0</td>\n",
       "      <td>2</td>\n",
       "    </tr>\n",
       "  </tbody>\n",
       "</table>\n",
       "</div>"
      ],
      "text/plain": [
       "      Cardnum      Merchnum       Date  Amount  order\n",
       "0  5142110002  930090121224 2010-10-12   150.0      1\n",
       "1  5142110081  930090121224 2010-03-08   495.9      1\n",
       "2  5142110081  930090121224 2010-03-08  1132.1      2\n",
       "3  5142110313  930090121224 2010-10-07   144.0      1\n",
       "4  5142110313  930090121224 2010-10-07   188.0      2"
      ]
     },
     "execution_count": 68,
     "metadata": {},
     "output_type": "execute_result"
    }
   ],
   "source": [
    "sum_card_merchant_7.head()"
   ]
  },
  {
   "cell_type": "code",
   "execution_count": 69,
   "metadata": {},
   "outputs": [],
   "source": [
    "card_merchant_df = df.copy()\n",
    "card_merchant_df = card_merchant_df.reset_index()\n",
    "card_merchant_df['order'] = card_merchant_df.groupby(['Cardnum', 'Merchnum', 'Date']).cumcount() + 1"
   ]
  },
  {
   "cell_type": "code",
   "execution_count": 70,
   "metadata": {},
   "outputs": [
    {
     "data": {
      "text/html": [
       "<div>\n",
       "<style scoped>\n",
       "    .dataframe tbody tr th:only-of-type {\n",
       "        vertical-align: middle;\n",
       "    }\n",
       "\n",
       "    .dataframe tbody tr th {\n",
       "        vertical-align: top;\n",
       "    }\n",
       "\n",
       "    .dataframe thead th {\n",
       "        text-align: right;\n",
       "    }\n",
       "</style>\n",
       "<table border=\"1\" class=\"dataframe\">\n",
       "  <thead>\n",
       "    <tr style=\"text-align: right;\">\n",
       "      <th></th>\n",
       "      <th>Date</th>\n",
       "      <th>Recnum</th>\n",
       "      <th>Cardnum</th>\n",
       "      <th>Merchnum</th>\n",
       "      <th>Merch description</th>\n",
       "      <th>Merch state</th>\n",
       "      <th>Merch zip</th>\n",
       "      <th>Transtype</th>\n",
       "      <th>Amount</th>\n",
       "      <th>Fraud</th>\n",
       "      <th>order</th>\n",
       "    </tr>\n",
       "  </thead>\n",
       "  <tbody>\n",
       "    <tr>\n",
       "      <th>0</th>\n",
       "      <td>2010-01-01</td>\n",
       "      <td>1</td>\n",
       "      <td>5142190439</td>\n",
       "      <td>5509006296254</td>\n",
       "      <td>FEDEX SHP 12/23/09 AB#</td>\n",
       "      <td>TN</td>\n",
       "      <td>38118.0</td>\n",
       "      <td>P</td>\n",
       "      <td>3.62</td>\n",
       "      <td>0</td>\n",
       "      <td>1</td>\n",
       "    </tr>\n",
       "    <tr>\n",
       "      <th>1</th>\n",
       "      <td>2010-01-01</td>\n",
       "      <td>2</td>\n",
       "      <td>5142183973</td>\n",
       "      <td>61003026333</td>\n",
       "      <td>SERVICE MERCHANDISE #81</td>\n",
       "      <td>MA</td>\n",
       "      <td>1803.0</td>\n",
       "      <td>P</td>\n",
       "      <td>31.42</td>\n",
       "      <td>0</td>\n",
       "      <td>1</td>\n",
       "    </tr>\n",
       "    <tr>\n",
       "      <th>2</th>\n",
       "      <td>2010-01-01</td>\n",
       "      <td>3</td>\n",
       "      <td>5142131721</td>\n",
       "      <td>4503082993600</td>\n",
       "      <td>OFFICE DEPOT #191</td>\n",
       "      <td>MD</td>\n",
       "      <td>20706.0</td>\n",
       "      <td>P</td>\n",
       "      <td>178.49</td>\n",
       "      <td>0</td>\n",
       "      <td>1</td>\n",
       "    </tr>\n",
       "    <tr>\n",
       "      <th>3</th>\n",
       "      <td>2010-01-01</td>\n",
       "      <td>4</td>\n",
       "      <td>5142148452</td>\n",
       "      <td>5509006296254</td>\n",
       "      <td>FEDEX SHP 12/28/09 AB#</td>\n",
       "      <td>TN</td>\n",
       "      <td>38118.0</td>\n",
       "      <td>P</td>\n",
       "      <td>3.62</td>\n",
       "      <td>0</td>\n",
       "      <td>1</td>\n",
       "    </tr>\n",
       "    <tr>\n",
       "      <th>4</th>\n",
       "      <td>2010-01-01</td>\n",
       "      <td>5</td>\n",
       "      <td>5142190439</td>\n",
       "      <td>5509006296254</td>\n",
       "      <td>FEDEX SHP 12/23/09 AB#</td>\n",
       "      <td>TN</td>\n",
       "      <td>38118.0</td>\n",
       "      <td>P</td>\n",
       "      <td>3.62</td>\n",
       "      <td>0</td>\n",
       "      <td>2</td>\n",
       "    </tr>\n",
       "  </tbody>\n",
       "</table>\n",
       "</div>"
      ],
      "text/plain": [
       "        Date  Recnum     Cardnum       Merchnum        Merch description  \\\n",
       "0 2010-01-01       1  5142190439  5509006296254   FEDEX SHP 12/23/09 AB#   \n",
       "1 2010-01-01       2  5142183973    61003026333  SERVICE MERCHANDISE #81   \n",
       "2 2010-01-01       3  5142131721  4503082993600        OFFICE DEPOT #191   \n",
       "3 2010-01-01       4  5142148452  5509006296254   FEDEX SHP 12/28/09 AB#   \n",
       "4 2010-01-01       5  5142190439  5509006296254   FEDEX SHP 12/23/09 AB#   \n",
       "\n",
       "  Merch state  Merch zip Transtype  Amount  Fraud  order  \n",
       "0          TN    38118.0         P    3.62      0      1  \n",
       "1          MA     1803.0         P   31.42      0      1  \n",
       "2          MD    20706.0         P  178.49      0      1  \n",
       "3          TN    38118.0         P    3.62      0      1  \n",
       "4          TN    38118.0         P    3.62      0      2  "
      ]
     },
     "execution_count": 70,
     "metadata": {},
     "output_type": "execute_result"
    }
   ],
   "source": [
    "card_merchant_df.head()"
   ]
  },
  {
   "cell_type": "code",
   "execution_count": 71,
   "metadata": {},
   "outputs": [],
   "source": [
    "not_needed_columns = ['index', 'Recnum', 'Merch description', 'Merch state', 'Merch zip', 'Transtype']\n",
    "for column in not_needed_columns:\n",
    "    try:\n",
    "        del card_merchant_df[column]\n",
    "    except:\n",
    "        pass"
   ]
  },
  {
   "cell_type": "code",
   "execution_count": 72,
   "metadata": {},
   "outputs": [
    {
     "data": {
      "text/html": [
       "<div>\n",
       "<style scoped>\n",
       "    .dataframe tbody tr th:only-of-type {\n",
       "        vertical-align: middle;\n",
       "    }\n",
       "\n",
       "    .dataframe tbody tr th {\n",
       "        vertical-align: top;\n",
       "    }\n",
       "\n",
       "    .dataframe thead th {\n",
       "        text-align: right;\n",
       "    }\n",
       "</style>\n",
       "<table border=\"1\" class=\"dataframe\">\n",
       "  <thead>\n",
       "    <tr style=\"text-align: right;\">\n",
       "      <th></th>\n",
       "      <th>Date</th>\n",
       "      <th>Cardnum</th>\n",
       "      <th>Merchnum</th>\n",
       "      <th>Amount</th>\n",
       "      <th>Fraud</th>\n",
       "      <th>order</th>\n",
       "    </tr>\n",
       "  </thead>\n",
       "  <tbody>\n",
       "    <tr>\n",
       "      <th>0</th>\n",
       "      <td>2010-01-01</td>\n",
       "      <td>5142190439</td>\n",
       "      <td>5509006296254</td>\n",
       "      <td>3.62</td>\n",
       "      <td>0</td>\n",
       "      <td>1</td>\n",
       "    </tr>\n",
       "    <tr>\n",
       "      <th>1</th>\n",
       "      <td>2010-01-01</td>\n",
       "      <td>5142183973</td>\n",
       "      <td>61003026333</td>\n",
       "      <td>31.42</td>\n",
       "      <td>0</td>\n",
       "      <td>1</td>\n",
       "    </tr>\n",
       "    <tr>\n",
       "      <th>2</th>\n",
       "      <td>2010-01-01</td>\n",
       "      <td>5142131721</td>\n",
       "      <td>4503082993600</td>\n",
       "      <td>178.49</td>\n",
       "      <td>0</td>\n",
       "      <td>1</td>\n",
       "    </tr>\n",
       "    <tr>\n",
       "      <th>3</th>\n",
       "      <td>2010-01-01</td>\n",
       "      <td>5142148452</td>\n",
       "      <td>5509006296254</td>\n",
       "      <td>3.62</td>\n",
       "      <td>0</td>\n",
       "      <td>1</td>\n",
       "    </tr>\n",
       "    <tr>\n",
       "      <th>4</th>\n",
       "      <td>2010-01-01</td>\n",
       "      <td>5142190439</td>\n",
       "      <td>5509006296254</td>\n",
       "      <td>3.62</td>\n",
       "      <td>0</td>\n",
       "      <td>2</td>\n",
       "    </tr>\n",
       "  </tbody>\n",
       "</table>\n",
       "</div>"
      ],
      "text/plain": [
       "        Date     Cardnum       Merchnum  Amount  Fraud  order\n",
       "0 2010-01-01  5142190439  5509006296254    3.62      0      1\n",
       "1 2010-01-01  5142183973    61003026333   31.42      0      1\n",
       "2 2010-01-01  5142131721  4503082993600  178.49      0      1\n",
       "3 2010-01-01  5142148452  5509006296254    3.62      0      1\n",
       "4 2010-01-01  5142190439  5509006296254    3.62      0      2"
      ]
     },
     "execution_count": 72,
     "metadata": {},
     "output_type": "execute_result"
    }
   ],
   "source": [
    "card_merchant_df.head()"
   ]
  },
  {
   "cell_type": "code",
   "execution_count": 73,
   "metadata": {},
   "outputs": [],
   "source": [
    "merged_data_card_merchant = card_merchant_df \\\n",
    ".merge(avg_card_merchant_1, on = ['Date', 'Merchnum', 'Cardnum', 'order'], how = 'left', suffixes=['', '_avg_card_merchant_1'])\\\n",
    ".merge(avg_card_merchant_3, on = ['Date', 'Merchnum', 'Cardnum', 'order'], how = 'left', suffixes=['', '_avg_card_merchant_3']) \\\n",
    ".merge(avg_card_merchant_7, on = ['Date', 'Merchnum', 'Cardnum', 'order'], how = 'left', suffixes=['', '_avg_card_merchant_7']) \\\n",
    ".merge(avg_card_merchant_14, on = ['Date', 'Merchnum', 'Cardnum', 'order'], how = 'left', suffixes=['', '_avg_card_merchant_14']) \\\n",
    ".merge(avg_card_merchant_30, on = ['Date', 'Merchnum', 'Cardnum', 'order'], how = 'left', suffixes=['', '_avg_card_merchant_30']) \\\n",
    ".merge(max_card_merchant_1, on = ['Date', 'Merchnum', 'Cardnum', 'order'], how = 'left', suffixes=['', '_max_card_merchant_1'])\\\n",
    ".merge(max_card_merchant_3, on = ['Date', 'Merchnum', 'Cardnum', 'order'], how = 'left', suffixes=['', '_max_card_merchant_3']) \\\n",
    ".merge(max_card_merchant_7, on = ['Date', 'Merchnum', 'Cardnum', 'order'], how = 'left', suffixes=['', '_max_card_merchant_7']) \\\n",
    ".merge(max_card_merchant_14, on = ['Date', 'Merchnum', 'Cardnum', 'order'], how = 'left', suffixes=['', '_max_card_merchant_14']) \\\n",
    ".merge(max_card_merchant_30, on = ['Date', 'Merchnum', 'Cardnum', 'order'], how = 'left', suffixes=['', '_max_card_merchant_30']) \\\n",
    ".merge(median_card_merchant_1, on = ['Date', 'Merchnum', 'Cardnum', 'order'], how = 'left', suffixes=['', '_median_card_merchant_1'])\\\n",
    ".merge(median_card_merchant_3, on = ['Date', 'Merchnum', 'Cardnum', 'order'], how = 'left', suffixes=['', '_median_card_merchant_3']) \\\n",
    ".merge(median_card_merchant_7, on = ['Date', 'Merchnum', 'Cardnum', 'order'], how = 'left', suffixes=['', '_median_card_merchant_7']) \\\n",
    ".merge(median_card_merchant_14, on = ['Date', 'Merchnum', 'Cardnum', 'order'], how = 'left', suffixes=['', '_median_card_merchant_14']) \\\n",
    ".merge(median_card_merchant_30, on = ['Date', 'Merchnum', 'Cardnum', 'order'], how = 'left', suffixes=['', '_median_card_merchant_30']) \\\n",
    ".merge(sum_card_merchant_1, on = ['Date', 'Merchnum', 'Cardnum', 'order'], how = 'left', suffixes=['', '_sum_card_merchant_1'])\\\n",
    ".merge(sum_card_merchant_3, on = ['Date', 'Merchnum', 'Cardnum', 'order'], how = 'left', suffixes=['', '_sum_card_merchant_3']) \\\n",
    ".merge(sum_card_merchant_7, on = ['Date', 'Merchnum', 'Cardnum', 'order'], how = 'left', suffixes=['', '_sum_card_merchant_7']) \\\n",
    ".merge(sum_card_merchant_14, on = ['Date', 'Merchnum', 'Cardnum', 'order'], how = 'left', suffixes=['', '_sum_card_merchant_14']) \\\n",
    ".merge(sum_card_merchant_30, on = ['Date', 'Merchnum', 'Cardnum', 'order'], how = 'left', suffixes=['', '_sum_card_merchant_30'])"
   ]
  },
  {
   "cell_type": "code",
   "execution_count": 74,
   "metadata": {},
   "outputs": [],
   "source": [
    "merged_data_card_merchant['Amount_avg_card_merchant_0'] = merged_data_card_merchant['Amount']\n",
    "merged_data_card_merchant['Amount_max_card_merchant_0'] = merged_data_card_merchant['Amount']\n",
    "merged_data_card_merchant['Amount_median_card_merchant_0'] = merged_data_card_merchant['Amount']\n",
    "merged_data_card_merchant['Amount_sum_card_merchant_0'] = merged_data_card_merchant['Amount']"
   ]
  },
  {
   "cell_type": "code",
   "execution_count": 75,
   "metadata": {},
   "outputs": [
    {
     "data": {
      "text/html": [
       "<div>\n",
       "<style scoped>\n",
       "    .dataframe tbody tr th:only-of-type {\n",
       "        vertical-align: middle;\n",
       "    }\n",
       "\n",
       "    .dataframe tbody tr th {\n",
       "        vertical-align: top;\n",
       "    }\n",
       "\n",
       "    .dataframe thead th {\n",
       "        text-align: right;\n",
       "    }\n",
       "</style>\n",
       "<table border=\"1\" class=\"dataframe\">\n",
       "  <thead>\n",
       "    <tr style=\"text-align: right;\">\n",
       "      <th></th>\n",
       "      <th>Date</th>\n",
       "      <th>Cardnum</th>\n",
       "      <th>Merchnum</th>\n",
       "      <th>Amount</th>\n",
       "      <th>Fraud</th>\n",
       "      <th>order</th>\n",
       "      <th>Amount_avg_card_merchant_1</th>\n",
       "      <th>Amount_avg_card_merchant_3</th>\n",
       "      <th>Amount_avg_card_merchant_7</th>\n",
       "      <th>Amount_avg_card_merchant_14</th>\n",
       "      <th>...</th>\n",
       "      <th>Amount_median_card_merchant_30</th>\n",
       "      <th>Amount_sum_card_merchant_1</th>\n",
       "      <th>Amount_sum_card_merchant_3</th>\n",
       "      <th>Amount_sum_card_merchant_7</th>\n",
       "      <th>Amount_sum_card_merchant_14</th>\n",
       "      <th>Amount_sum_card_merchant_30</th>\n",
       "      <th>Amount_avg_card_merchant_0</th>\n",
       "      <th>Amount_max_card_merchant_0</th>\n",
       "      <th>Amount_median_card_merchant_0</th>\n",
       "      <th>Amount_sum_card_merchant_0</th>\n",
       "    </tr>\n",
       "  </thead>\n",
       "  <tbody>\n",
       "    <tr>\n",
       "      <th>0</th>\n",
       "      <td>2010-01-01</td>\n",
       "      <td>5142190439</td>\n",
       "      <td>5509006296254</td>\n",
       "      <td>3.62</td>\n",
       "      <td>0</td>\n",
       "      <td>1</td>\n",
       "      <td>3.62</td>\n",
       "      <td>3.62</td>\n",
       "      <td>3.62</td>\n",
       "      <td>3.62</td>\n",
       "      <td>...</td>\n",
       "      <td>3.62</td>\n",
       "      <td>3.62</td>\n",
       "      <td>3.62</td>\n",
       "      <td>3.62</td>\n",
       "      <td>3.62</td>\n",
       "      <td>3.62</td>\n",
       "      <td>3.62</td>\n",
       "      <td>3.62</td>\n",
       "      <td>3.62</td>\n",
       "      <td>3.62</td>\n",
       "    </tr>\n",
       "    <tr>\n",
       "      <th>1</th>\n",
       "      <td>2010-01-01</td>\n",
       "      <td>5142183973</td>\n",
       "      <td>61003026333</td>\n",
       "      <td>31.42</td>\n",
       "      <td>0</td>\n",
       "      <td>1</td>\n",
       "      <td>31.42</td>\n",
       "      <td>31.42</td>\n",
       "      <td>31.42</td>\n",
       "      <td>31.42</td>\n",
       "      <td>...</td>\n",
       "      <td>31.42</td>\n",
       "      <td>31.42</td>\n",
       "      <td>31.42</td>\n",
       "      <td>31.42</td>\n",
       "      <td>31.42</td>\n",
       "      <td>31.42</td>\n",
       "      <td>31.42</td>\n",
       "      <td>31.42</td>\n",
       "      <td>31.42</td>\n",
       "      <td>31.42</td>\n",
       "    </tr>\n",
       "    <tr>\n",
       "      <th>2</th>\n",
       "      <td>2010-01-01</td>\n",
       "      <td>5142131721</td>\n",
       "      <td>4503082993600</td>\n",
       "      <td>178.49</td>\n",
       "      <td>0</td>\n",
       "      <td>1</td>\n",
       "      <td>178.49</td>\n",
       "      <td>178.49</td>\n",
       "      <td>178.49</td>\n",
       "      <td>178.49</td>\n",
       "      <td>...</td>\n",
       "      <td>178.49</td>\n",
       "      <td>178.49</td>\n",
       "      <td>178.49</td>\n",
       "      <td>178.49</td>\n",
       "      <td>178.49</td>\n",
       "      <td>178.49</td>\n",
       "      <td>178.49</td>\n",
       "      <td>178.49</td>\n",
       "      <td>178.49</td>\n",
       "      <td>178.49</td>\n",
       "    </tr>\n",
       "    <tr>\n",
       "      <th>3</th>\n",
       "      <td>2010-01-01</td>\n",
       "      <td>5142148452</td>\n",
       "      <td>5509006296254</td>\n",
       "      <td>3.62</td>\n",
       "      <td>0</td>\n",
       "      <td>1</td>\n",
       "      <td>3.62</td>\n",
       "      <td>3.62</td>\n",
       "      <td>3.62</td>\n",
       "      <td>3.62</td>\n",
       "      <td>...</td>\n",
       "      <td>3.62</td>\n",
       "      <td>3.62</td>\n",
       "      <td>3.62</td>\n",
       "      <td>3.62</td>\n",
       "      <td>3.62</td>\n",
       "      <td>3.62</td>\n",
       "      <td>3.62</td>\n",
       "      <td>3.62</td>\n",
       "      <td>3.62</td>\n",
       "      <td>3.62</td>\n",
       "    </tr>\n",
       "    <tr>\n",
       "      <th>4</th>\n",
       "      <td>2010-01-01</td>\n",
       "      <td>5142190439</td>\n",
       "      <td>5509006296254</td>\n",
       "      <td>3.62</td>\n",
       "      <td>0</td>\n",
       "      <td>2</td>\n",
       "      <td>3.62</td>\n",
       "      <td>3.62</td>\n",
       "      <td>3.62</td>\n",
       "      <td>3.62</td>\n",
       "      <td>...</td>\n",
       "      <td>3.62</td>\n",
       "      <td>7.24</td>\n",
       "      <td>7.24</td>\n",
       "      <td>7.24</td>\n",
       "      <td>7.24</td>\n",
       "      <td>7.24</td>\n",
       "      <td>3.62</td>\n",
       "      <td>3.62</td>\n",
       "      <td>3.62</td>\n",
       "      <td>3.62</td>\n",
       "    </tr>\n",
       "  </tbody>\n",
       "</table>\n",
       "<p>5 rows × 30 columns</p>\n",
       "</div>"
      ],
      "text/plain": [
       "        Date     Cardnum       Merchnum  Amount  Fraud  order  \\\n",
       "0 2010-01-01  5142190439  5509006296254    3.62      0      1   \n",
       "1 2010-01-01  5142183973    61003026333   31.42      0      1   \n",
       "2 2010-01-01  5142131721  4503082993600  178.49      0      1   \n",
       "3 2010-01-01  5142148452  5509006296254    3.62      0      1   \n",
       "4 2010-01-01  5142190439  5509006296254    3.62      0      2   \n",
       "\n",
       "   Amount_avg_card_merchant_1  Amount_avg_card_merchant_3  \\\n",
       "0                        3.62                        3.62   \n",
       "1                       31.42                       31.42   \n",
       "2                      178.49                      178.49   \n",
       "3                        3.62                        3.62   \n",
       "4                        3.62                        3.62   \n",
       "\n",
       "   Amount_avg_card_merchant_7  Amount_avg_card_merchant_14  \\\n",
       "0                        3.62                         3.62   \n",
       "1                       31.42                        31.42   \n",
       "2                      178.49                       178.49   \n",
       "3                        3.62                         3.62   \n",
       "4                        3.62                         3.62   \n",
       "\n",
       "              ...              Amount_median_card_merchant_30  \\\n",
       "0             ...                                        3.62   \n",
       "1             ...                                       31.42   \n",
       "2             ...                                      178.49   \n",
       "3             ...                                        3.62   \n",
       "4             ...                                        3.62   \n",
       "\n",
       "   Amount_sum_card_merchant_1  Amount_sum_card_merchant_3  \\\n",
       "0                        3.62                        3.62   \n",
       "1                       31.42                       31.42   \n",
       "2                      178.49                      178.49   \n",
       "3                        3.62                        3.62   \n",
       "4                        7.24                        7.24   \n",
       "\n",
       "   Amount_sum_card_merchant_7  Amount_sum_card_merchant_14  \\\n",
       "0                        3.62                         3.62   \n",
       "1                       31.42                        31.42   \n",
       "2                      178.49                       178.49   \n",
       "3                        3.62                         3.62   \n",
       "4                        7.24                         7.24   \n",
       "\n",
       "   Amount_sum_card_merchant_30  Amount_avg_card_merchant_0  \\\n",
       "0                         3.62                        3.62   \n",
       "1                        31.42                       31.42   \n",
       "2                       178.49                      178.49   \n",
       "3                         3.62                        3.62   \n",
       "4                         7.24                        3.62   \n",
       "\n",
       "   Amount_max_card_merchant_0  Amount_median_card_merchant_0  \\\n",
       "0                        3.62                           3.62   \n",
       "1                       31.42                          31.42   \n",
       "2                      178.49                         178.49   \n",
       "3                        3.62                           3.62   \n",
       "4                        3.62                           3.62   \n",
       "\n",
       "   Amount_sum_card_merchant_0  \n",
       "0                        3.62  \n",
       "1                       31.42  \n",
       "2                      178.49  \n",
       "3                        3.62  \n",
       "4                        3.62  \n",
       "\n",
       "[5 rows x 30 columns]"
      ]
     },
     "execution_count": 75,
     "metadata": {},
     "output_type": "execute_result"
    }
   ],
   "source": [
    "merged_data_card_merchant.head()"
   ]
  },
  {
   "cell_type": "code",
   "execution_count": 76,
   "metadata": {},
   "outputs": [],
   "source": [
    "for i in [0, 1, 3, 7, 14, 30]:\n",
    "    merged_data_card_merchant['qaa_cm_' + str(i)] = merged_data_card_merchant['Amount'] / merged_data_card_merchant['Amount_avg_card_merchant_' + str(i)]\n",
    "    merged_data_card_merchant['qam_cm_' + str(i)] = merged_data_card_merchant['Amount'] / merged_data_card_merchant['Amount_max_card_merchant_' + str(i)]\n",
    "    merged_data_card_merchant['qame_cm_' + str(i)] = merged_data_card_merchant['Amount'] / merged_data_card_merchant['Amount_median_card_merchant_' + str(i)]\n",
    "    merged_data_card_merchant['qas_cm_' + str(i)] = merged_data_card_merchant['Amount'] / merged_data_card_merchant['Amount_sum_card_merchant_' + str(i)]"
   ]
  },
  {
   "cell_type": "code",
   "execution_count": 77,
   "metadata": {},
   "outputs": [
    {
     "data": {
      "text/html": [
       "<div>\n",
       "<style scoped>\n",
       "    .dataframe tbody tr th:only-of-type {\n",
       "        vertical-align: middle;\n",
       "    }\n",
       "\n",
       "    .dataframe tbody tr th {\n",
       "        vertical-align: top;\n",
       "    }\n",
       "\n",
       "    .dataframe thead th {\n",
       "        text-align: right;\n",
       "    }\n",
       "</style>\n",
       "<table border=\"1\" class=\"dataframe\">\n",
       "  <thead>\n",
       "    <tr style=\"text-align: right;\">\n",
       "      <th></th>\n",
       "      <th>Date</th>\n",
       "      <th>Cardnum</th>\n",
       "      <th>Merchnum</th>\n",
       "      <th>Amount</th>\n",
       "      <th>Fraud</th>\n",
       "      <th>order</th>\n",
       "      <th>Amount_avg_card_merchant_1</th>\n",
       "      <th>Amount_avg_card_merchant_3</th>\n",
       "      <th>Amount_avg_card_merchant_7</th>\n",
       "      <th>Amount_avg_card_merchant_14</th>\n",
       "      <th>...</th>\n",
       "      <th>qame_cm_7</th>\n",
       "      <th>qas_cm_7</th>\n",
       "      <th>qaa_cm_14</th>\n",
       "      <th>qam_cm_14</th>\n",
       "      <th>qame_cm_14</th>\n",
       "      <th>qas_cm_14</th>\n",
       "      <th>qaa_cm_30</th>\n",
       "      <th>qam_cm_30</th>\n",
       "      <th>qame_cm_30</th>\n",
       "      <th>qas_cm_30</th>\n",
       "    </tr>\n",
       "  </thead>\n",
       "  <tbody>\n",
       "    <tr>\n",
       "      <th>0</th>\n",
       "      <td>2010-01-01</td>\n",
       "      <td>5142190439</td>\n",
       "      <td>5509006296254</td>\n",
       "      <td>3.62</td>\n",
       "      <td>0</td>\n",
       "      <td>1</td>\n",
       "      <td>3.62</td>\n",
       "      <td>3.62</td>\n",
       "      <td>3.62</td>\n",
       "      <td>3.62</td>\n",
       "      <td>...</td>\n",
       "      <td>1.0</td>\n",
       "      <td>1.0</td>\n",
       "      <td>1.0</td>\n",
       "      <td>1.0</td>\n",
       "      <td>1.0</td>\n",
       "      <td>1.0</td>\n",
       "      <td>1.0</td>\n",
       "      <td>1.0</td>\n",
       "      <td>1.0</td>\n",
       "      <td>1.0</td>\n",
       "    </tr>\n",
       "    <tr>\n",
       "      <th>1</th>\n",
       "      <td>2010-01-01</td>\n",
       "      <td>5142183973</td>\n",
       "      <td>61003026333</td>\n",
       "      <td>31.42</td>\n",
       "      <td>0</td>\n",
       "      <td>1</td>\n",
       "      <td>31.42</td>\n",
       "      <td>31.42</td>\n",
       "      <td>31.42</td>\n",
       "      <td>31.42</td>\n",
       "      <td>...</td>\n",
       "      <td>1.0</td>\n",
       "      <td>1.0</td>\n",
       "      <td>1.0</td>\n",
       "      <td>1.0</td>\n",
       "      <td>1.0</td>\n",
       "      <td>1.0</td>\n",
       "      <td>1.0</td>\n",
       "      <td>1.0</td>\n",
       "      <td>1.0</td>\n",
       "      <td>1.0</td>\n",
       "    </tr>\n",
       "    <tr>\n",
       "      <th>2</th>\n",
       "      <td>2010-01-01</td>\n",
       "      <td>5142131721</td>\n",
       "      <td>4503082993600</td>\n",
       "      <td>178.49</td>\n",
       "      <td>0</td>\n",
       "      <td>1</td>\n",
       "      <td>178.49</td>\n",
       "      <td>178.49</td>\n",
       "      <td>178.49</td>\n",
       "      <td>178.49</td>\n",
       "      <td>...</td>\n",
       "      <td>1.0</td>\n",
       "      <td>1.0</td>\n",
       "      <td>1.0</td>\n",
       "      <td>1.0</td>\n",
       "      <td>1.0</td>\n",
       "      <td>1.0</td>\n",
       "      <td>1.0</td>\n",
       "      <td>1.0</td>\n",
       "      <td>1.0</td>\n",
       "      <td>1.0</td>\n",
       "    </tr>\n",
       "    <tr>\n",
       "      <th>3</th>\n",
       "      <td>2010-01-01</td>\n",
       "      <td>5142148452</td>\n",
       "      <td>5509006296254</td>\n",
       "      <td>3.62</td>\n",
       "      <td>0</td>\n",
       "      <td>1</td>\n",
       "      <td>3.62</td>\n",
       "      <td>3.62</td>\n",
       "      <td>3.62</td>\n",
       "      <td>3.62</td>\n",
       "      <td>...</td>\n",
       "      <td>1.0</td>\n",
       "      <td>1.0</td>\n",
       "      <td>1.0</td>\n",
       "      <td>1.0</td>\n",
       "      <td>1.0</td>\n",
       "      <td>1.0</td>\n",
       "      <td>1.0</td>\n",
       "      <td>1.0</td>\n",
       "      <td>1.0</td>\n",
       "      <td>1.0</td>\n",
       "    </tr>\n",
       "    <tr>\n",
       "      <th>4</th>\n",
       "      <td>2010-01-01</td>\n",
       "      <td>5142190439</td>\n",
       "      <td>5509006296254</td>\n",
       "      <td>3.62</td>\n",
       "      <td>0</td>\n",
       "      <td>2</td>\n",
       "      <td>3.62</td>\n",
       "      <td>3.62</td>\n",
       "      <td>3.62</td>\n",
       "      <td>3.62</td>\n",
       "      <td>...</td>\n",
       "      <td>1.0</td>\n",
       "      <td>0.5</td>\n",
       "      <td>1.0</td>\n",
       "      <td>1.0</td>\n",
       "      <td>1.0</td>\n",
       "      <td>0.5</td>\n",
       "      <td>1.0</td>\n",
       "      <td>1.0</td>\n",
       "      <td>1.0</td>\n",
       "      <td>0.5</td>\n",
       "    </tr>\n",
       "  </tbody>\n",
       "</table>\n",
       "<p>5 rows × 54 columns</p>\n",
       "</div>"
      ],
      "text/plain": [
       "        Date     Cardnum       Merchnum  Amount  Fraud  order  \\\n",
       "0 2010-01-01  5142190439  5509006296254    3.62      0      1   \n",
       "1 2010-01-01  5142183973    61003026333   31.42      0      1   \n",
       "2 2010-01-01  5142131721  4503082993600  178.49      0      1   \n",
       "3 2010-01-01  5142148452  5509006296254    3.62      0      1   \n",
       "4 2010-01-01  5142190439  5509006296254    3.62      0      2   \n",
       "\n",
       "   Amount_avg_card_merchant_1  Amount_avg_card_merchant_3  \\\n",
       "0                        3.62                        3.62   \n",
       "1                       31.42                       31.42   \n",
       "2                      178.49                      178.49   \n",
       "3                        3.62                        3.62   \n",
       "4                        3.62                        3.62   \n",
       "\n",
       "   Amount_avg_card_merchant_7  Amount_avg_card_merchant_14    ...      \\\n",
       "0                        3.62                         3.62    ...       \n",
       "1                       31.42                        31.42    ...       \n",
       "2                      178.49                       178.49    ...       \n",
       "3                        3.62                         3.62    ...       \n",
       "4                        3.62                         3.62    ...       \n",
       "\n",
       "   qame_cm_7  qas_cm_7  qaa_cm_14  qam_cm_14  qame_cm_14  qas_cm_14  \\\n",
       "0        1.0       1.0        1.0        1.0         1.0        1.0   \n",
       "1        1.0       1.0        1.0        1.0         1.0        1.0   \n",
       "2        1.0       1.0        1.0        1.0         1.0        1.0   \n",
       "3        1.0       1.0        1.0        1.0         1.0        1.0   \n",
       "4        1.0       0.5        1.0        1.0         1.0        0.5   \n",
       "\n",
       "   qaa_cm_30  qam_cm_30  qame_cm_30  qas_cm_30  \n",
       "0        1.0        1.0         1.0        1.0  \n",
       "1        1.0        1.0         1.0        1.0  \n",
       "2        1.0        1.0         1.0        1.0  \n",
       "3        1.0        1.0         1.0        1.0  \n",
       "4        1.0        1.0         1.0        0.5  \n",
       "\n",
       "[5 rows x 54 columns]"
      ]
     },
     "execution_count": 77,
     "metadata": {},
     "output_type": "execute_result"
    }
   ],
   "source": [
    "merged_data_card_merchant.head()"
   ]
  },
  {
   "cell_type": "code",
   "execution_count": 78,
   "metadata": {},
   "outputs": [
    {
     "data": {
      "text/plain": [
       "(83970, 54)"
      ]
     },
     "execution_count": 78,
     "metadata": {},
     "output_type": "execute_result"
    }
   ],
   "source": [
    "merged_data_card_merchant.shape"
   ]
  },
  {
   "cell_type": "markdown",
   "metadata": {},
   "source": [
    "### Card + Zip Code"
   ]
  },
  {
   "cell_type": "code",
   "execution_count": 79,
   "metadata": {},
   "outputs": [],
   "source": [
    "for i in [1, 3, 7, 14, 30]:\n",
    "    locals()['avg_card_zip_' + str(i)] = df.groupby(['Cardnum', 'Merch zip'])['Amount'].rolling(str(i) + 'd').mean().reset_index()\n",
    "    locals()['avg_card_zip_' + str(i)]['order'] = locals()['avg_card_zip_' + str(i)].groupby(['Cardnum', 'Merch zip', 'Date']).cumcount() + 1\n",
    "    \n",
    "    locals()['max_card_zip_' + str(i)] = df.groupby(['Cardnum', 'Merch zip'])['Amount'].rolling(str(i) + 'd').max().reset_index()\n",
    "    locals()['max_card_zip_' + str(i)]['order'] = locals()['max_card_zip_' + str(i)].groupby(['Cardnum', 'Merch zip', 'Date']).cumcount() + 1\n",
    "    \n",
    "    locals()['median_card_zip_' + str(i)] = df.groupby(['Cardnum', 'Merch zip'])['Amount'].rolling(str(i) + 'd').median().reset_index()\n",
    "    locals()['median_card_zip_' + str(i)]['order'] = locals()['median_card_zip_' + str(i)].groupby(['Cardnum', 'Merch zip', 'Date']).cumcount() + 1\n",
    "    \n",
    "    locals()['sum_card_zip_' + str(i)] = df.groupby(['Cardnum', 'Merch zip'])['Amount'].rolling(str(i) + 'd').sum().reset_index()\n",
    "    locals()['sum_card_zip_' + str(i)]['order'] = locals()['sum_card_zip_' + str(i)].groupby(['Cardnum', 'Merch zip', 'Date']).cumcount() + 1"
   ]
  },
  {
   "cell_type": "code",
   "execution_count": 80,
   "metadata": {},
   "outputs": [
    {
     "data": {
      "text/html": [
       "<div>\n",
       "<style scoped>\n",
       "    .dataframe tbody tr th:only-of-type {\n",
       "        vertical-align: middle;\n",
       "    }\n",
       "\n",
       "    .dataframe tbody tr th {\n",
       "        vertical-align: top;\n",
       "    }\n",
       "\n",
       "    .dataframe thead th {\n",
       "        text-align: right;\n",
       "    }\n",
       "</style>\n",
       "<table border=\"1\" class=\"dataframe\">\n",
       "  <thead>\n",
       "    <tr style=\"text-align: right;\">\n",
       "      <th></th>\n",
       "      <th>Cardnum</th>\n",
       "      <th>Merch zip</th>\n",
       "      <th>Date</th>\n",
       "      <th>Amount</th>\n",
       "      <th>order</th>\n",
       "    </tr>\n",
       "  </thead>\n",
       "  <tbody>\n",
       "    <tr>\n",
       "      <th>0</th>\n",
       "      <td>5142110002</td>\n",
       "      <td>38118.0</td>\n",
       "      <td>2010-10-12</td>\n",
       "      <td>150.00</td>\n",
       "      <td>1</td>\n",
       "    </tr>\n",
       "    <tr>\n",
       "      <th>1</th>\n",
       "      <td>5142110081</td>\n",
       "      <td>38118.0</td>\n",
       "      <td>2010-03-08</td>\n",
       "      <td>495.90</td>\n",
       "      <td>1</td>\n",
       "    </tr>\n",
       "    <tr>\n",
       "      <th>2</th>\n",
       "      <td>5142110081</td>\n",
       "      <td>38118.0</td>\n",
       "      <td>2010-03-08</td>\n",
       "      <td>566.05</td>\n",
       "      <td>2</td>\n",
       "    </tr>\n",
       "    <tr>\n",
       "      <th>3</th>\n",
       "      <td>5142110313</td>\n",
       "      <td>38118.0</td>\n",
       "      <td>2010-10-07</td>\n",
       "      <td>144.00</td>\n",
       "      <td>1</td>\n",
       "    </tr>\n",
       "    <tr>\n",
       "      <th>4</th>\n",
       "      <td>5142110313</td>\n",
       "      <td>38118.0</td>\n",
       "      <td>2010-10-07</td>\n",
       "      <td>94.00</td>\n",
       "      <td>2</td>\n",
       "    </tr>\n",
       "  </tbody>\n",
       "</table>\n",
       "</div>"
      ],
      "text/plain": [
       "      Cardnum  Merch zip       Date  Amount  order\n",
       "0  5142110002    38118.0 2010-10-12  150.00      1\n",
       "1  5142110081    38118.0 2010-03-08  495.90      1\n",
       "2  5142110081    38118.0 2010-03-08  566.05      2\n",
       "3  5142110313    38118.0 2010-10-07  144.00      1\n",
       "4  5142110313    38118.0 2010-10-07   94.00      2"
      ]
     },
     "execution_count": 80,
     "metadata": {},
     "output_type": "execute_result"
    }
   ],
   "source": [
    "avg_card_zip_30.head()"
   ]
  },
  {
   "cell_type": "code",
   "execution_count": 81,
   "metadata": {},
   "outputs": [
    {
     "data": {
      "text/html": [
       "<div>\n",
       "<style scoped>\n",
       "    .dataframe tbody tr th:only-of-type {\n",
       "        vertical-align: middle;\n",
       "    }\n",
       "\n",
       "    .dataframe tbody tr th {\n",
       "        vertical-align: top;\n",
       "    }\n",
       "\n",
       "    .dataframe thead th {\n",
       "        text-align: right;\n",
       "    }\n",
       "</style>\n",
       "<table border=\"1\" class=\"dataframe\">\n",
       "  <thead>\n",
       "    <tr style=\"text-align: right;\">\n",
       "      <th></th>\n",
       "      <th>Cardnum</th>\n",
       "      <th>Merch zip</th>\n",
       "      <th>Date</th>\n",
       "      <th>Amount</th>\n",
       "      <th>order</th>\n",
       "    </tr>\n",
       "  </thead>\n",
       "  <tbody>\n",
       "    <tr>\n",
       "      <th>0</th>\n",
       "      <td>5142110002</td>\n",
       "      <td>38118.0</td>\n",
       "      <td>2010-10-12</td>\n",
       "      <td>150.0</td>\n",
       "      <td>1</td>\n",
       "    </tr>\n",
       "    <tr>\n",
       "      <th>1</th>\n",
       "      <td>5142110081</td>\n",
       "      <td>38118.0</td>\n",
       "      <td>2010-03-08</td>\n",
       "      <td>495.9</td>\n",
       "      <td>1</td>\n",
       "    </tr>\n",
       "    <tr>\n",
       "      <th>2</th>\n",
       "      <td>5142110081</td>\n",
       "      <td>38118.0</td>\n",
       "      <td>2010-03-08</td>\n",
       "      <td>636.2</td>\n",
       "      <td>2</td>\n",
       "    </tr>\n",
       "    <tr>\n",
       "      <th>3</th>\n",
       "      <td>5142110313</td>\n",
       "      <td>38118.0</td>\n",
       "      <td>2010-10-07</td>\n",
       "      <td>144.0</td>\n",
       "      <td>1</td>\n",
       "    </tr>\n",
       "    <tr>\n",
       "      <th>4</th>\n",
       "      <td>5142110313</td>\n",
       "      <td>38118.0</td>\n",
       "      <td>2010-10-07</td>\n",
       "      <td>144.0</td>\n",
       "      <td>2</td>\n",
       "    </tr>\n",
       "  </tbody>\n",
       "</table>\n",
       "</div>"
      ],
      "text/plain": [
       "      Cardnum  Merch zip       Date  Amount  order\n",
       "0  5142110002    38118.0 2010-10-12   150.0      1\n",
       "1  5142110081    38118.0 2010-03-08   495.9      1\n",
       "2  5142110081    38118.0 2010-03-08   636.2      2\n",
       "3  5142110313    38118.0 2010-10-07   144.0      1\n",
       "4  5142110313    38118.0 2010-10-07   144.0      2"
      ]
     },
     "execution_count": 81,
     "metadata": {},
     "output_type": "execute_result"
    }
   ],
   "source": [
    "max_card_zip_30.head()"
   ]
  },
  {
   "cell_type": "code",
   "execution_count": 82,
   "metadata": {},
   "outputs": [
    {
     "data": {
      "text/html": [
       "<div>\n",
       "<style scoped>\n",
       "    .dataframe tbody tr th:only-of-type {\n",
       "        vertical-align: middle;\n",
       "    }\n",
       "\n",
       "    .dataframe tbody tr th {\n",
       "        vertical-align: top;\n",
       "    }\n",
       "\n",
       "    .dataframe thead th {\n",
       "        text-align: right;\n",
       "    }\n",
       "</style>\n",
       "<table border=\"1\" class=\"dataframe\">\n",
       "  <thead>\n",
       "    <tr style=\"text-align: right;\">\n",
       "      <th></th>\n",
       "      <th>Cardnum</th>\n",
       "      <th>Merch zip</th>\n",
       "      <th>Date</th>\n",
       "      <th>Amount</th>\n",
       "      <th>order</th>\n",
       "    </tr>\n",
       "  </thead>\n",
       "  <tbody>\n",
       "    <tr>\n",
       "      <th>0</th>\n",
       "      <td>5142110002</td>\n",
       "      <td>38118.0</td>\n",
       "      <td>2010-10-12</td>\n",
       "      <td>150.00</td>\n",
       "      <td>1</td>\n",
       "    </tr>\n",
       "    <tr>\n",
       "      <th>1</th>\n",
       "      <td>5142110081</td>\n",
       "      <td>38118.0</td>\n",
       "      <td>2010-03-08</td>\n",
       "      <td>495.90</td>\n",
       "      <td>1</td>\n",
       "    </tr>\n",
       "    <tr>\n",
       "      <th>2</th>\n",
       "      <td>5142110081</td>\n",
       "      <td>38118.0</td>\n",
       "      <td>2010-03-08</td>\n",
       "      <td>566.05</td>\n",
       "      <td>2</td>\n",
       "    </tr>\n",
       "    <tr>\n",
       "      <th>3</th>\n",
       "      <td>5142110313</td>\n",
       "      <td>38118.0</td>\n",
       "      <td>2010-10-07</td>\n",
       "      <td>144.00</td>\n",
       "      <td>1</td>\n",
       "    </tr>\n",
       "    <tr>\n",
       "      <th>4</th>\n",
       "      <td>5142110313</td>\n",
       "      <td>38118.0</td>\n",
       "      <td>2010-10-07</td>\n",
       "      <td>94.00</td>\n",
       "      <td>2</td>\n",
       "    </tr>\n",
       "  </tbody>\n",
       "</table>\n",
       "</div>"
      ],
      "text/plain": [
       "      Cardnum  Merch zip       Date  Amount  order\n",
       "0  5142110002    38118.0 2010-10-12  150.00      1\n",
       "1  5142110081    38118.0 2010-03-08  495.90      1\n",
       "2  5142110081    38118.0 2010-03-08  566.05      2\n",
       "3  5142110313    38118.0 2010-10-07  144.00      1\n",
       "4  5142110313    38118.0 2010-10-07   94.00      2"
      ]
     },
     "execution_count": 82,
     "metadata": {},
     "output_type": "execute_result"
    }
   ],
   "source": [
    "median_card_zip_30.head()"
   ]
  },
  {
   "cell_type": "code",
   "execution_count": 83,
   "metadata": {},
   "outputs": [
    {
     "data": {
      "text/html": [
       "<div>\n",
       "<style scoped>\n",
       "    .dataframe tbody tr th:only-of-type {\n",
       "        vertical-align: middle;\n",
       "    }\n",
       "\n",
       "    .dataframe tbody tr th {\n",
       "        vertical-align: top;\n",
       "    }\n",
       "\n",
       "    .dataframe thead th {\n",
       "        text-align: right;\n",
       "    }\n",
       "</style>\n",
       "<table border=\"1\" class=\"dataframe\">\n",
       "  <thead>\n",
       "    <tr style=\"text-align: right;\">\n",
       "      <th></th>\n",
       "      <th>Cardnum</th>\n",
       "      <th>Merch zip</th>\n",
       "      <th>Date</th>\n",
       "      <th>Amount</th>\n",
       "      <th>order</th>\n",
       "    </tr>\n",
       "  </thead>\n",
       "  <tbody>\n",
       "    <tr>\n",
       "      <th>0</th>\n",
       "      <td>5142110002</td>\n",
       "      <td>38118.0</td>\n",
       "      <td>2010-10-12</td>\n",
       "      <td>150.0</td>\n",
       "      <td>1</td>\n",
       "    </tr>\n",
       "    <tr>\n",
       "      <th>1</th>\n",
       "      <td>5142110081</td>\n",
       "      <td>38118.0</td>\n",
       "      <td>2010-03-08</td>\n",
       "      <td>495.9</td>\n",
       "      <td>1</td>\n",
       "    </tr>\n",
       "    <tr>\n",
       "      <th>2</th>\n",
       "      <td>5142110081</td>\n",
       "      <td>38118.0</td>\n",
       "      <td>2010-03-08</td>\n",
       "      <td>1132.1</td>\n",
       "      <td>2</td>\n",
       "    </tr>\n",
       "    <tr>\n",
       "      <th>3</th>\n",
       "      <td>5142110313</td>\n",
       "      <td>38118.0</td>\n",
       "      <td>2010-10-07</td>\n",
       "      <td>144.0</td>\n",
       "      <td>1</td>\n",
       "    </tr>\n",
       "    <tr>\n",
       "      <th>4</th>\n",
       "      <td>5142110313</td>\n",
       "      <td>38118.0</td>\n",
       "      <td>2010-10-07</td>\n",
       "      <td>188.0</td>\n",
       "      <td>2</td>\n",
       "    </tr>\n",
       "  </tbody>\n",
       "</table>\n",
       "</div>"
      ],
      "text/plain": [
       "      Cardnum  Merch zip       Date  Amount  order\n",
       "0  5142110002    38118.0 2010-10-12   150.0      1\n",
       "1  5142110081    38118.0 2010-03-08   495.9      1\n",
       "2  5142110081    38118.0 2010-03-08  1132.1      2\n",
       "3  5142110313    38118.0 2010-10-07   144.0      1\n",
       "4  5142110313    38118.0 2010-10-07   188.0      2"
      ]
     },
     "execution_count": 83,
     "metadata": {},
     "output_type": "execute_result"
    }
   ],
   "source": [
    "sum_card_zip_30.head()"
   ]
  },
  {
   "cell_type": "code",
   "execution_count": 84,
   "metadata": {},
   "outputs": [],
   "source": [
    "card_zip_df = df.copy()\n",
    "card_zip_df = card_zip_df.reset_index()\n",
    "card_zip_df['order'] = card_zip_df.groupby(['Cardnum', 'Merch zip', 'Date']).cumcount() + 1"
   ]
  },
  {
   "cell_type": "code",
   "execution_count": 85,
   "metadata": {},
   "outputs": [
    {
     "data": {
      "text/html": [
       "<div>\n",
       "<style scoped>\n",
       "    .dataframe tbody tr th:only-of-type {\n",
       "        vertical-align: middle;\n",
       "    }\n",
       "\n",
       "    .dataframe tbody tr th {\n",
       "        vertical-align: top;\n",
       "    }\n",
       "\n",
       "    .dataframe thead th {\n",
       "        text-align: right;\n",
       "    }\n",
       "</style>\n",
       "<table border=\"1\" class=\"dataframe\">\n",
       "  <thead>\n",
       "    <tr style=\"text-align: right;\">\n",
       "      <th></th>\n",
       "      <th>Date</th>\n",
       "      <th>Recnum</th>\n",
       "      <th>Cardnum</th>\n",
       "      <th>Merchnum</th>\n",
       "      <th>Merch description</th>\n",
       "      <th>Merch state</th>\n",
       "      <th>Merch zip</th>\n",
       "      <th>Transtype</th>\n",
       "      <th>Amount</th>\n",
       "      <th>Fraud</th>\n",
       "      <th>order</th>\n",
       "    </tr>\n",
       "  </thead>\n",
       "  <tbody>\n",
       "    <tr>\n",
       "      <th>0</th>\n",
       "      <td>2010-01-01</td>\n",
       "      <td>1</td>\n",
       "      <td>5142190439</td>\n",
       "      <td>5509006296254</td>\n",
       "      <td>FEDEX SHP 12/23/09 AB#</td>\n",
       "      <td>TN</td>\n",
       "      <td>38118.0</td>\n",
       "      <td>P</td>\n",
       "      <td>3.62</td>\n",
       "      <td>0</td>\n",
       "      <td>1</td>\n",
       "    </tr>\n",
       "    <tr>\n",
       "      <th>1</th>\n",
       "      <td>2010-01-01</td>\n",
       "      <td>2</td>\n",
       "      <td>5142183973</td>\n",
       "      <td>61003026333</td>\n",
       "      <td>SERVICE MERCHANDISE #81</td>\n",
       "      <td>MA</td>\n",
       "      <td>1803.0</td>\n",
       "      <td>P</td>\n",
       "      <td>31.42</td>\n",
       "      <td>0</td>\n",
       "      <td>1</td>\n",
       "    </tr>\n",
       "    <tr>\n",
       "      <th>2</th>\n",
       "      <td>2010-01-01</td>\n",
       "      <td>3</td>\n",
       "      <td>5142131721</td>\n",
       "      <td>4503082993600</td>\n",
       "      <td>OFFICE DEPOT #191</td>\n",
       "      <td>MD</td>\n",
       "      <td>20706.0</td>\n",
       "      <td>P</td>\n",
       "      <td>178.49</td>\n",
       "      <td>0</td>\n",
       "      <td>1</td>\n",
       "    </tr>\n",
       "    <tr>\n",
       "      <th>3</th>\n",
       "      <td>2010-01-01</td>\n",
       "      <td>4</td>\n",
       "      <td>5142148452</td>\n",
       "      <td>5509006296254</td>\n",
       "      <td>FEDEX SHP 12/28/09 AB#</td>\n",
       "      <td>TN</td>\n",
       "      <td>38118.0</td>\n",
       "      <td>P</td>\n",
       "      <td>3.62</td>\n",
       "      <td>0</td>\n",
       "      <td>1</td>\n",
       "    </tr>\n",
       "    <tr>\n",
       "      <th>4</th>\n",
       "      <td>2010-01-01</td>\n",
       "      <td>5</td>\n",
       "      <td>5142190439</td>\n",
       "      <td>5509006296254</td>\n",
       "      <td>FEDEX SHP 12/23/09 AB#</td>\n",
       "      <td>TN</td>\n",
       "      <td>38118.0</td>\n",
       "      <td>P</td>\n",
       "      <td>3.62</td>\n",
       "      <td>0</td>\n",
       "      <td>2</td>\n",
       "    </tr>\n",
       "  </tbody>\n",
       "</table>\n",
       "</div>"
      ],
      "text/plain": [
       "        Date  Recnum     Cardnum       Merchnum        Merch description  \\\n",
       "0 2010-01-01       1  5142190439  5509006296254   FEDEX SHP 12/23/09 AB#   \n",
       "1 2010-01-01       2  5142183973    61003026333  SERVICE MERCHANDISE #81   \n",
       "2 2010-01-01       3  5142131721  4503082993600        OFFICE DEPOT #191   \n",
       "3 2010-01-01       4  5142148452  5509006296254   FEDEX SHP 12/28/09 AB#   \n",
       "4 2010-01-01       5  5142190439  5509006296254   FEDEX SHP 12/23/09 AB#   \n",
       "\n",
       "  Merch state  Merch zip Transtype  Amount  Fraud  order  \n",
       "0          TN    38118.0         P    3.62      0      1  \n",
       "1          MA     1803.0         P   31.42      0      1  \n",
       "2          MD    20706.0         P  178.49      0      1  \n",
       "3          TN    38118.0         P    3.62      0      1  \n",
       "4          TN    38118.0         P    3.62      0      2  "
      ]
     },
     "execution_count": 85,
     "metadata": {},
     "output_type": "execute_result"
    }
   ],
   "source": [
    "card_zip_df.head()"
   ]
  },
  {
   "cell_type": "code",
   "execution_count": 86,
   "metadata": {},
   "outputs": [],
   "source": [
    "not_needed_columns = ['index', 'Recnum', 'Merchnum', 'Merch description', 'Merch state', 'Transtype']\n",
    "for column in not_needed_columns:\n",
    "    try:\n",
    "        del card_zip_df[column]\n",
    "    except:\n",
    "        pass"
   ]
  },
  {
   "cell_type": "code",
   "execution_count": 87,
   "metadata": {},
   "outputs": [
    {
     "data": {
      "text/html": [
       "<div>\n",
       "<style scoped>\n",
       "    .dataframe tbody tr th:only-of-type {\n",
       "        vertical-align: middle;\n",
       "    }\n",
       "\n",
       "    .dataframe tbody tr th {\n",
       "        vertical-align: top;\n",
       "    }\n",
       "\n",
       "    .dataframe thead th {\n",
       "        text-align: right;\n",
       "    }\n",
       "</style>\n",
       "<table border=\"1\" class=\"dataframe\">\n",
       "  <thead>\n",
       "    <tr style=\"text-align: right;\">\n",
       "      <th></th>\n",
       "      <th>Date</th>\n",
       "      <th>Cardnum</th>\n",
       "      <th>Merch zip</th>\n",
       "      <th>Amount</th>\n",
       "      <th>Fraud</th>\n",
       "      <th>order</th>\n",
       "    </tr>\n",
       "  </thead>\n",
       "  <tbody>\n",
       "    <tr>\n",
       "      <th>0</th>\n",
       "      <td>2010-01-01</td>\n",
       "      <td>5142190439</td>\n",
       "      <td>38118.0</td>\n",
       "      <td>3.62</td>\n",
       "      <td>0</td>\n",
       "      <td>1</td>\n",
       "    </tr>\n",
       "    <tr>\n",
       "      <th>1</th>\n",
       "      <td>2010-01-01</td>\n",
       "      <td>5142183973</td>\n",
       "      <td>1803.0</td>\n",
       "      <td>31.42</td>\n",
       "      <td>0</td>\n",
       "      <td>1</td>\n",
       "    </tr>\n",
       "    <tr>\n",
       "      <th>2</th>\n",
       "      <td>2010-01-01</td>\n",
       "      <td>5142131721</td>\n",
       "      <td>20706.0</td>\n",
       "      <td>178.49</td>\n",
       "      <td>0</td>\n",
       "      <td>1</td>\n",
       "    </tr>\n",
       "    <tr>\n",
       "      <th>3</th>\n",
       "      <td>2010-01-01</td>\n",
       "      <td>5142148452</td>\n",
       "      <td>38118.0</td>\n",
       "      <td>3.62</td>\n",
       "      <td>0</td>\n",
       "      <td>1</td>\n",
       "    </tr>\n",
       "    <tr>\n",
       "      <th>4</th>\n",
       "      <td>2010-01-01</td>\n",
       "      <td>5142190439</td>\n",
       "      <td>38118.0</td>\n",
       "      <td>3.62</td>\n",
       "      <td>0</td>\n",
       "      <td>2</td>\n",
       "    </tr>\n",
       "  </tbody>\n",
       "</table>\n",
       "</div>"
      ],
      "text/plain": [
       "        Date     Cardnum  Merch zip  Amount  Fraud  order\n",
       "0 2010-01-01  5142190439    38118.0    3.62      0      1\n",
       "1 2010-01-01  5142183973     1803.0   31.42      0      1\n",
       "2 2010-01-01  5142131721    20706.0  178.49      0      1\n",
       "3 2010-01-01  5142148452    38118.0    3.62      0      1\n",
       "4 2010-01-01  5142190439    38118.0    3.62      0      2"
      ]
     },
     "execution_count": 87,
     "metadata": {},
     "output_type": "execute_result"
    }
   ],
   "source": [
    "card_zip_df.head()"
   ]
  },
  {
   "cell_type": "code",
   "execution_count": 88,
   "metadata": {},
   "outputs": [],
   "source": [
    "merged_data_card_zip = card_zip_df \\\n",
    ".merge(avg_card_zip_1, on = ['Date', 'Merch zip', 'Cardnum', 'order'], how = 'left', suffixes=['', '_avg_card_zip_1'])\\\n",
    ".merge(avg_card_zip_3, on = ['Date', 'Merch zip', 'Cardnum', 'order'], how = 'left', suffixes=['', '_avg_card_zip_3']) \\\n",
    ".merge(avg_card_zip_7, on = ['Date', 'Merch zip', 'Cardnum', 'order'], how = 'left', suffixes=['', '_avg_card_zip_7']) \\\n",
    ".merge(avg_card_zip_14, on = ['Date', 'Merch zip', 'Cardnum', 'order'], how = 'left', suffixes=['', '_avg_card_zip_14']) \\\n",
    ".merge(avg_card_zip_30, on = ['Date', 'Merch zip', 'Cardnum', 'order'], how = 'left', suffixes=['', '_avg_card_zip_30']) \\\n",
    ".merge(max_card_zip_1, on = ['Date', 'Merch zip', 'Cardnum', 'order'], how = 'left', suffixes=['', '_max_card_zip_1'])\\\n",
    ".merge(max_card_zip_3, on = ['Date', 'Merch zip', 'Cardnum', 'order'], how = 'left', suffixes=['', '_max_card_zip_3']) \\\n",
    ".merge(max_card_zip_7, on = ['Date', 'Merch zip', 'Cardnum', 'order'], how = 'left', suffixes=['', '_max_card_zip_7']) \\\n",
    ".merge(max_card_zip_14, on = ['Date', 'Merch zip', 'Cardnum', 'order'], how = 'left', suffixes=['', '_max_card_zip_14']) \\\n",
    ".merge(max_card_zip_30, on = ['Date', 'Merch zip', 'Cardnum', 'order'], how = 'left', suffixes=['', '_max_card_zip_30']) \\\n",
    ".merge(median_card_zip_1, on = ['Date', 'Merch zip', 'Cardnum', 'order'], how = 'left', suffixes=['', '_median_card_zip_1'])\\\n",
    ".merge(median_card_zip_3, on = ['Date', 'Merch zip', 'Cardnum', 'order'], how = 'left', suffixes=['', '_median_card_zip_3']) \\\n",
    ".merge(median_card_zip_7, on = ['Date', 'Merch zip', 'Cardnum', 'order'], how = 'left', suffixes=['', '_median_card_zip_7']) \\\n",
    ".merge(median_card_zip_14, on = ['Date', 'Merch zip', 'Cardnum', 'order'], how = 'left', suffixes=['', '_median_card_zip_14']) \\\n",
    ".merge(median_card_zip_30, on = ['Date', 'Merch zip', 'Cardnum', 'order'], how = 'left', suffixes=['', '_median_card_zip_30']) \\\n",
    ".merge(sum_card_zip_1, on = ['Date', 'Merch zip', 'Cardnum', 'order'], how = 'left', suffixes=['', '_sum_card_zip_1'])\\\n",
    ".merge(sum_card_zip_3, on = ['Date', 'Merch zip', 'Cardnum', 'order'], how = 'left', suffixes=['', '_sum_card_zip_3']) \\\n",
    ".merge(sum_card_zip_7, on = ['Date', 'Merch zip', 'Cardnum', 'order'], how = 'left', suffixes=['', '_sum_card_zip_7']) \\\n",
    ".merge(sum_card_zip_14, on = ['Date', 'Merch zip', 'Cardnum', 'order'], how = 'left', suffixes=['', '_sum_card_zip_14']) \\\n",
    ".merge(sum_card_zip_30, on = ['Date', 'Merch zip', 'Cardnum', 'order'], how = 'left', suffixes=['', '_sum_card_zip_30'])"
   ]
  },
  {
   "cell_type": "code",
   "execution_count": 89,
   "metadata": {},
   "outputs": [],
   "source": [
    "merged_data_card_zip['Amount_avg_card_zip_0'] = merged_data_card_zip['Amount']\n",
    "merged_data_card_zip['Amount_max_card_zip_0'] = merged_data_card_zip['Amount']\n",
    "merged_data_card_zip['Amount_median_card_zip_0'] = merged_data_card_zip['Amount']\n",
    "merged_data_card_zip['Amount_sum_card_zip_0'] = merged_data_card_zip['Amount']"
   ]
  },
  {
   "cell_type": "code",
   "execution_count": 90,
   "metadata": {},
   "outputs": [
    {
     "data": {
      "text/html": [
       "<div>\n",
       "<style scoped>\n",
       "    .dataframe tbody tr th:only-of-type {\n",
       "        vertical-align: middle;\n",
       "    }\n",
       "\n",
       "    .dataframe tbody tr th {\n",
       "        vertical-align: top;\n",
       "    }\n",
       "\n",
       "    .dataframe thead th {\n",
       "        text-align: right;\n",
       "    }\n",
       "</style>\n",
       "<table border=\"1\" class=\"dataframe\">\n",
       "  <thead>\n",
       "    <tr style=\"text-align: right;\">\n",
       "      <th></th>\n",
       "      <th>Date</th>\n",
       "      <th>Cardnum</th>\n",
       "      <th>Merch zip</th>\n",
       "      <th>Amount</th>\n",
       "      <th>Fraud</th>\n",
       "      <th>order</th>\n",
       "      <th>Amount_avg_card_zip_1</th>\n",
       "      <th>Amount_avg_card_zip_3</th>\n",
       "      <th>Amount_avg_card_zip_7</th>\n",
       "      <th>Amount_avg_card_zip_14</th>\n",
       "      <th>...</th>\n",
       "      <th>Amount_median_card_zip_30</th>\n",
       "      <th>Amount_sum_card_zip_1</th>\n",
       "      <th>Amount_sum_card_zip_3</th>\n",
       "      <th>Amount_sum_card_zip_7</th>\n",
       "      <th>Amount_sum_card_zip_14</th>\n",
       "      <th>Amount_sum_card_zip_30</th>\n",
       "      <th>Amount_avg_card_zip_0</th>\n",
       "      <th>Amount_max_card_zip_0</th>\n",
       "      <th>Amount_median_card_zip_0</th>\n",
       "      <th>Amount_sum_card_zip_0</th>\n",
       "    </tr>\n",
       "  </thead>\n",
       "  <tbody>\n",
       "    <tr>\n",
       "      <th>0</th>\n",
       "      <td>2010-01-01</td>\n",
       "      <td>5142190439</td>\n",
       "      <td>38118.0</td>\n",
       "      <td>3.62</td>\n",
       "      <td>0</td>\n",
       "      <td>1</td>\n",
       "      <td>3.62</td>\n",
       "      <td>3.62</td>\n",
       "      <td>3.62</td>\n",
       "      <td>3.62</td>\n",
       "      <td>...</td>\n",
       "      <td>3.62</td>\n",
       "      <td>3.62</td>\n",
       "      <td>3.62</td>\n",
       "      <td>3.62</td>\n",
       "      <td>3.62</td>\n",
       "      <td>3.62</td>\n",
       "      <td>3.62</td>\n",
       "      <td>3.62</td>\n",
       "      <td>3.62</td>\n",
       "      <td>3.62</td>\n",
       "    </tr>\n",
       "    <tr>\n",
       "      <th>1</th>\n",
       "      <td>2010-01-01</td>\n",
       "      <td>5142183973</td>\n",
       "      <td>1803.0</td>\n",
       "      <td>31.42</td>\n",
       "      <td>0</td>\n",
       "      <td>1</td>\n",
       "      <td>31.42</td>\n",
       "      <td>31.42</td>\n",
       "      <td>31.42</td>\n",
       "      <td>31.42</td>\n",
       "      <td>...</td>\n",
       "      <td>31.42</td>\n",
       "      <td>31.42</td>\n",
       "      <td>31.42</td>\n",
       "      <td>31.42</td>\n",
       "      <td>31.42</td>\n",
       "      <td>31.42</td>\n",
       "      <td>31.42</td>\n",
       "      <td>31.42</td>\n",
       "      <td>31.42</td>\n",
       "      <td>31.42</td>\n",
       "    </tr>\n",
       "    <tr>\n",
       "      <th>2</th>\n",
       "      <td>2010-01-01</td>\n",
       "      <td>5142131721</td>\n",
       "      <td>20706.0</td>\n",
       "      <td>178.49</td>\n",
       "      <td>0</td>\n",
       "      <td>1</td>\n",
       "      <td>178.49</td>\n",
       "      <td>178.49</td>\n",
       "      <td>178.49</td>\n",
       "      <td>178.49</td>\n",
       "      <td>...</td>\n",
       "      <td>178.49</td>\n",
       "      <td>178.49</td>\n",
       "      <td>178.49</td>\n",
       "      <td>178.49</td>\n",
       "      <td>178.49</td>\n",
       "      <td>178.49</td>\n",
       "      <td>178.49</td>\n",
       "      <td>178.49</td>\n",
       "      <td>178.49</td>\n",
       "      <td>178.49</td>\n",
       "    </tr>\n",
       "    <tr>\n",
       "      <th>3</th>\n",
       "      <td>2010-01-01</td>\n",
       "      <td>5142148452</td>\n",
       "      <td>38118.0</td>\n",
       "      <td>3.62</td>\n",
       "      <td>0</td>\n",
       "      <td>1</td>\n",
       "      <td>3.62</td>\n",
       "      <td>3.62</td>\n",
       "      <td>3.62</td>\n",
       "      <td>3.62</td>\n",
       "      <td>...</td>\n",
       "      <td>3.62</td>\n",
       "      <td>3.62</td>\n",
       "      <td>3.62</td>\n",
       "      <td>3.62</td>\n",
       "      <td>3.62</td>\n",
       "      <td>3.62</td>\n",
       "      <td>3.62</td>\n",
       "      <td>3.62</td>\n",
       "      <td>3.62</td>\n",
       "      <td>3.62</td>\n",
       "    </tr>\n",
       "    <tr>\n",
       "      <th>4</th>\n",
       "      <td>2010-01-01</td>\n",
       "      <td>5142190439</td>\n",
       "      <td>38118.0</td>\n",
       "      <td>3.62</td>\n",
       "      <td>0</td>\n",
       "      <td>2</td>\n",
       "      <td>3.62</td>\n",
       "      <td>3.62</td>\n",
       "      <td>3.62</td>\n",
       "      <td>3.62</td>\n",
       "      <td>...</td>\n",
       "      <td>3.62</td>\n",
       "      <td>7.24</td>\n",
       "      <td>7.24</td>\n",
       "      <td>7.24</td>\n",
       "      <td>7.24</td>\n",
       "      <td>7.24</td>\n",
       "      <td>3.62</td>\n",
       "      <td>3.62</td>\n",
       "      <td>3.62</td>\n",
       "      <td>3.62</td>\n",
       "    </tr>\n",
       "  </tbody>\n",
       "</table>\n",
       "<p>5 rows × 30 columns</p>\n",
       "</div>"
      ],
      "text/plain": [
       "        Date     Cardnum  Merch zip  Amount  Fraud  order  \\\n",
       "0 2010-01-01  5142190439    38118.0    3.62      0      1   \n",
       "1 2010-01-01  5142183973     1803.0   31.42      0      1   \n",
       "2 2010-01-01  5142131721    20706.0  178.49      0      1   \n",
       "3 2010-01-01  5142148452    38118.0    3.62      0      1   \n",
       "4 2010-01-01  5142190439    38118.0    3.62      0      2   \n",
       "\n",
       "   Amount_avg_card_zip_1  Amount_avg_card_zip_3  Amount_avg_card_zip_7  \\\n",
       "0                   3.62                   3.62                   3.62   \n",
       "1                  31.42                  31.42                  31.42   \n",
       "2                 178.49                 178.49                 178.49   \n",
       "3                   3.62                   3.62                   3.62   \n",
       "4                   3.62                   3.62                   3.62   \n",
       "\n",
       "   Amount_avg_card_zip_14          ...            Amount_median_card_zip_30  \\\n",
       "0                    3.62          ...                                 3.62   \n",
       "1                   31.42          ...                                31.42   \n",
       "2                  178.49          ...                               178.49   \n",
       "3                    3.62          ...                                 3.62   \n",
       "4                    3.62          ...                                 3.62   \n",
       "\n",
       "   Amount_sum_card_zip_1  Amount_sum_card_zip_3  Amount_sum_card_zip_7  \\\n",
       "0                   3.62                   3.62                   3.62   \n",
       "1                  31.42                  31.42                  31.42   \n",
       "2                 178.49                 178.49                 178.49   \n",
       "3                   3.62                   3.62                   3.62   \n",
       "4                   7.24                   7.24                   7.24   \n",
       "\n",
       "   Amount_sum_card_zip_14  Amount_sum_card_zip_30  Amount_avg_card_zip_0  \\\n",
       "0                    3.62                    3.62                   3.62   \n",
       "1                   31.42                   31.42                  31.42   \n",
       "2                  178.49                  178.49                 178.49   \n",
       "3                    3.62                    3.62                   3.62   \n",
       "4                    7.24                    7.24                   3.62   \n",
       "\n",
       "   Amount_max_card_zip_0  Amount_median_card_zip_0  Amount_sum_card_zip_0  \n",
       "0                   3.62                      3.62                   3.62  \n",
       "1                  31.42                     31.42                  31.42  \n",
       "2                 178.49                    178.49                 178.49  \n",
       "3                   3.62                      3.62                   3.62  \n",
       "4                   3.62                      3.62                   3.62  \n",
       "\n",
       "[5 rows x 30 columns]"
      ]
     },
     "execution_count": 90,
     "metadata": {},
     "output_type": "execute_result"
    }
   ],
   "source": [
    "merged_data_card_zip.head()"
   ]
  },
  {
   "cell_type": "code",
   "execution_count": 91,
   "metadata": {},
   "outputs": [],
   "source": [
    "for i in [0, 1, 3, 7, 14, 30]:\n",
    "    merged_data_card_zip['qaa_cm_' + str(i)] = merged_data_card_zip['Amount'] / merged_data_card_zip['Amount_avg_card_zip_' + str(i)]\n",
    "    merged_data_card_zip['qam_cm_' + str(i)] = merged_data_card_zip['Amount'] / merged_data_card_zip['Amount_max_card_zip_' + str(i)]\n",
    "    merged_data_card_zip['qame_cm_' + str(i)] = merged_data_card_zip['Amount'] / merged_data_card_zip['Amount_median_card_zip_' + str(i)]\n",
    "    merged_data_card_zip['qas_cm_' + str(i)] = merged_data_card_zip['Amount'] / merged_data_card_zip['Amount_sum_card_zip_' + str(i)]"
   ]
  },
  {
   "cell_type": "code",
   "execution_count": 92,
   "metadata": {},
   "outputs": [
    {
     "data": {
      "text/html": [
       "<div>\n",
       "<style scoped>\n",
       "    .dataframe tbody tr th:only-of-type {\n",
       "        vertical-align: middle;\n",
       "    }\n",
       "\n",
       "    .dataframe tbody tr th {\n",
       "        vertical-align: top;\n",
       "    }\n",
       "\n",
       "    .dataframe thead th {\n",
       "        text-align: right;\n",
       "    }\n",
       "</style>\n",
       "<table border=\"1\" class=\"dataframe\">\n",
       "  <thead>\n",
       "    <tr style=\"text-align: right;\">\n",
       "      <th></th>\n",
       "      <th>Date</th>\n",
       "      <th>Cardnum</th>\n",
       "      <th>Merch zip</th>\n",
       "      <th>Amount</th>\n",
       "      <th>Fraud</th>\n",
       "      <th>order</th>\n",
       "      <th>Amount_avg_card_zip_1</th>\n",
       "      <th>Amount_avg_card_zip_3</th>\n",
       "      <th>Amount_avg_card_zip_7</th>\n",
       "      <th>Amount_avg_card_zip_14</th>\n",
       "      <th>...</th>\n",
       "      <th>qame_cm_7</th>\n",
       "      <th>qas_cm_7</th>\n",
       "      <th>qaa_cm_14</th>\n",
       "      <th>qam_cm_14</th>\n",
       "      <th>qame_cm_14</th>\n",
       "      <th>qas_cm_14</th>\n",
       "      <th>qaa_cm_30</th>\n",
       "      <th>qam_cm_30</th>\n",
       "      <th>qame_cm_30</th>\n",
       "      <th>qas_cm_30</th>\n",
       "    </tr>\n",
       "  </thead>\n",
       "  <tbody>\n",
       "    <tr>\n",
       "      <th>0</th>\n",
       "      <td>2010-01-01</td>\n",
       "      <td>5142190439</td>\n",
       "      <td>38118.0</td>\n",
       "      <td>3.62</td>\n",
       "      <td>0</td>\n",
       "      <td>1</td>\n",
       "      <td>3.62</td>\n",
       "      <td>3.62</td>\n",
       "      <td>3.62</td>\n",
       "      <td>3.62</td>\n",
       "      <td>...</td>\n",
       "      <td>1.0</td>\n",
       "      <td>1.0</td>\n",
       "      <td>1.0</td>\n",
       "      <td>1.0</td>\n",
       "      <td>1.0</td>\n",
       "      <td>1.0</td>\n",
       "      <td>1.0</td>\n",
       "      <td>1.0</td>\n",
       "      <td>1.0</td>\n",
       "      <td>1.0</td>\n",
       "    </tr>\n",
       "    <tr>\n",
       "      <th>1</th>\n",
       "      <td>2010-01-01</td>\n",
       "      <td>5142183973</td>\n",
       "      <td>1803.0</td>\n",
       "      <td>31.42</td>\n",
       "      <td>0</td>\n",
       "      <td>1</td>\n",
       "      <td>31.42</td>\n",
       "      <td>31.42</td>\n",
       "      <td>31.42</td>\n",
       "      <td>31.42</td>\n",
       "      <td>...</td>\n",
       "      <td>1.0</td>\n",
       "      <td>1.0</td>\n",
       "      <td>1.0</td>\n",
       "      <td>1.0</td>\n",
       "      <td>1.0</td>\n",
       "      <td>1.0</td>\n",
       "      <td>1.0</td>\n",
       "      <td>1.0</td>\n",
       "      <td>1.0</td>\n",
       "      <td>1.0</td>\n",
       "    </tr>\n",
       "    <tr>\n",
       "      <th>2</th>\n",
       "      <td>2010-01-01</td>\n",
       "      <td>5142131721</td>\n",
       "      <td>20706.0</td>\n",
       "      <td>178.49</td>\n",
       "      <td>0</td>\n",
       "      <td>1</td>\n",
       "      <td>178.49</td>\n",
       "      <td>178.49</td>\n",
       "      <td>178.49</td>\n",
       "      <td>178.49</td>\n",
       "      <td>...</td>\n",
       "      <td>1.0</td>\n",
       "      <td>1.0</td>\n",
       "      <td>1.0</td>\n",
       "      <td>1.0</td>\n",
       "      <td>1.0</td>\n",
       "      <td>1.0</td>\n",
       "      <td>1.0</td>\n",
       "      <td>1.0</td>\n",
       "      <td>1.0</td>\n",
       "      <td>1.0</td>\n",
       "    </tr>\n",
       "    <tr>\n",
       "      <th>3</th>\n",
       "      <td>2010-01-01</td>\n",
       "      <td>5142148452</td>\n",
       "      <td>38118.0</td>\n",
       "      <td>3.62</td>\n",
       "      <td>0</td>\n",
       "      <td>1</td>\n",
       "      <td>3.62</td>\n",
       "      <td>3.62</td>\n",
       "      <td>3.62</td>\n",
       "      <td>3.62</td>\n",
       "      <td>...</td>\n",
       "      <td>1.0</td>\n",
       "      <td>1.0</td>\n",
       "      <td>1.0</td>\n",
       "      <td>1.0</td>\n",
       "      <td>1.0</td>\n",
       "      <td>1.0</td>\n",
       "      <td>1.0</td>\n",
       "      <td>1.0</td>\n",
       "      <td>1.0</td>\n",
       "      <td>1.0</td>\n",
       "    </tr>\n",
       "    <tr>\n",
       "      <th>4</th>\n",
       "      <td>2010-01-01</td>\n",
       "      <td>5142190439</td>\n",
       "      <td>38118.0</td>\n",
       "      <td>3.62</td>\n",
       "      <td>0</td>\n",
       "      <td>2</td>\n",
       "      <td>3.62</td>\n",
       "      <td>3.62</td>\n",
       "      <td>3.62</td>\n",
       "      <td>3.62</td>\n",
       "      <td>...</td>\n",
       "      <td>1.0</td>\n",
       "      <td>0.5</td>\n",
       "      <td>1.0</td>\n",
       "      <td>1.0</td>\n",
       "      <td>1.0</td>\n",
       "      <td>0.5</td>\n",
       "      <td>1.0</td>\n",
       "      <td>1.0</td>\n",
       "      <td>1.0</td>\n",
       "      <td>0.5</td>\n",
       "    </tr>\n",
       "  </tbody>\n",
       "</table>\n",
       "<p>5 rows × 54 columns</p>\n",
       "</div>"
      ],
      "text/plain": [
       "        Date     Cardnum  Merch zip  Amount  Fraud  order  \\\n",
       "0 2010-01-01  5142190439    38118.0    3.62      0      1   \n",
       "1 2010-01-01  5142183973     1803.0   31.42      0      1   \n",
       "2 2010-01-01  5142131721    20706.0  178.49      0      1   \n",
       "3 2010-01-01  5142148452    38118.0    3.62      0      1   \n",
       "4 2010-01-01  5142190439    38118.0    3.62      0      2   \n",
       "\n",
       "   Amount_avg_card_zip_1  Amount_avg_card_zip_3  Amount_avg_card_zip_7  \\\n",
       "0                   3.62                   3.62                   3.62   \n",
       "1                  31.42                  31.42                  31.42   \n",
       "2                 178.49                 178.49                 178.49   \n",
       "3                   3.62                   3.62                   3.62   \n",
       "4                   3.62                   3.62                   3.62   \n",
       "\n",
       "   Amount_avg_card_zip_14    ...      qame_cm_7  qas_cm_7  qaa_cm_14  \\\n",
       "0                    3.62    ...            1.0       1.0        1.0   \n",
       "1                   31.42    ...            1.0       1.0        1.0   \n",
       "2                  178.49    ...            1.0       1.0        1.0   \n",
       "3                    3.62    ...            1.0       1.0        1.0   \n",
       "4                    3.62    ...            1.0       0.5        1.0   \n",
       "\n",
       "   qam_cm_14  qame_cm_14  qas_cm_14  qaa_cm_30  qam_cm_30  qame_cm_30  \\\n",
       "0        1.0         1.0        1.0        1.0        1.0         1.0   \n",
       "1        1.0         1.0        1.0        1.0        1.0         1.0   \n",
       "2        1.0         1.0        1.0        1.0        1.0         1.0   \n",
       "3        1.0         1.0        1.0        1.0        1.0         1.0   \n",
       "4        1.0         1.0        0.5        1.0        1.0         1.0   \n",
       "\n",
       "   qas_cm_30  \n",
       "0        1.0  \n",
       "1        1.0  \n",
       "2        1.0  \n",
       "3        1.0  \n",
       "4        0.5  \n",
       "\n",
       "[5 rows x 54 columns]"
      ]
     },
     "execution_count": 92,
     "metadata": {},
     "output_type": "execute_result"
    }
   ],
   "source": [
    "merged_data_card_zip.head()"
   ]
  },
  {
   "cell_type": "code",
   "execution_count": 93,
   "metadata": {},
   "outputs": [
    {
     "data": {
      "text/plain": [
       "(83970, 54)"
      ]
     },
     "execution_count": 93,
     "metadata": {},
     "output_type": "execute_result"
    }
   ],
   "source": [
    "merged_data_card_zip.shape"
   ]
  },
  {
   "cell_type": "markdown",
   "metadata": {},
   "source": [
    "### Card + State"
   ]
  },
  {
   "cell_type": "code",
   "execution_count": 94,
   "metadata": {},
   "outputs": [],
   "source": [
    "for i in [1, 3, 7, 14, 30]:\n",
    "    locals()['avg_card_state_' + str(i)] = df.groupby(['Cardnum', 'Merch state'])['Amount'].rolling(str(i) + 'd').mean().reset_index()\n",
    "    locals()['avg_card_state_' + str(i)]['order'] = locals()['avg_card_state_' + str(i)].groupby(['Cardnum', 'Merch state', 'Date']).cumcount() + 1\n",
    "    \n",
    "    locals()['max_card_state_' + str(i)] = df.groupby(['Cardnum', 'Merch state'])['Amount'].rolling(str(i) + 'd').max().reset_index()\n",
    "    locals()['max_card_state_' + str(i)]['order'] = locals()['max_card_state_' + str(i)].groupby(['Cardnum', 'Merch state', 'Date']).cumcount() + 1\n",
    "    \n",
    "    locals()['median_card_state_' + str(i)] = df.groupby(['Cardnum', 'Merch state'])['Amount'].rolling(str(i) + 'd').median().reset_index()\n",
    "    locals()['median_card_state_' + str(i)]['order'] = locals()['median_card_state_' + str(i)].groupby(['Cardnum', 'Merch state', 'Date']).cumcount() + 1\n",
    "    \n",
    "    locals()['sum_card_state_' + str(i)] = df.groupby(['Cardnum', 'Merch state'])['Amount'].rolling(str(i) + 'd').sum().reset_index()\n",
    "    locals()['sum_card_state_' + str(i)]['order'] = locals()['sum_card_state_' + str(i)].groupby(['Cardnum', 'Merch state', 'Date']).cumcount() + 1"
   ]
  },
  {
   "cell_type": "code",
   "execution_count": 95,
   "metadata": {},
   "outputs": [
    {
     "data": {
      "text/html": [
       "<div>\n",
       "<style scoped>\n",
       "    .dataframe tbody tr th:only-of-type {\n",
       "        vertical-align: middle;\n",
       "    }\n",
       "\n",
       "    .dataframe tbody tr th {\n",
       "        vertical-align: top;\n",
       "    }\n",
       "\n",
       "    .dataframe thead th {\n",
       "        text-align: right;\n",
       "    }\n",
       "</style>\n",
       "<table border=\"1\" class=\"dataframe\">\n",
       "  <thead>\n",
       "    <tr style=\"text-align: right;\">\n",
       "      <th></th>\n",
       "      <th>Cardnum</th>\n",
       "      <th>Merch state</th>\n",
       "      <th>Date</th>\n",
       "      <th>Amount</th>\n",
       "      <th>order</th>\n",
       "    </tr>\n",
       "  </thead>\n",
       "  <tbody>\n",
       "    <tr>\n",
       "      <th>0</th>\n",
       "      <td>5142110002</td>\n",
       "      <td>VA</td>\n",
       "      <td>2010-10-12</td>\n",
       "      <td>150.00</td>\n",
       "      <td>1</td>\n",
       "    </tr>\n",
       "    <tr>\n",
       "      <th>1</th>\n",
       "      <td>5142110081</td>\n",
       "      <td>TN</td>\n",
       "      <td>2010-03-08</td>\n",
       "      <td>495.90</td>\n",
       "      <td>1</td>\n",
       "    </tr>\n",
       "    <tr>\n",
       "      <th>2</th>\n",
       "      <td>5142110081</td>\n",
       "      <td>TN</td>\n",
       "      <td>2010-03-08</td>\n",
       "      <td>566.05</td>\n",
       "      <td>2</td>\n",
       "    </tr>\n",
       "    <tr>\n",
       "      <th>3</th>\n",
       "      <td>5142110313</td>\n",
       "      <td>TN</td>\n",
       "      <td>2010-10-07</td>\n",
       "      <td>144.00</td>\n",
       "      <td>1</td>\n",
       "    </tr>\n",
       "    <tr>\n",
       "      <th>4</th>\n",
       "      <td>5142110313</td>\n",
       "      <td>TN</td>\n",
       "      <td>2010-10-07</td>\n",
       "      <td>94.00</td>\n",
       "      <td>2</td>\n",
       "    </tr>\n",
       "  </tbody>\n",
       "</table>\n",
       "</div>"
      ],
      "text/plain": [
       "      Cardnum Merch state       Date  Amount  order\n",
       "0  5142110002          VA 2010-10-12  150.00      1\n",
       "1  5142110081          TN 2010-03-08  495.90      1\n",
       "2  5142110081          TN 2010-03-08  566.05      2\n",
       "3  5142110313          TN 2010-10-07  144.00      1\n",
       "4  5142110313          TN 2010-10-07   94.00      2"
      ]
     },
     "execution_count": 95,
     "metadata": {},
     "output_type": "execute_result"
    }
   ],
   "source": [
    "avg_card_state_14.head()"
   ]
  },
  {
   "cell_type": "code",
   "execution_count": 96,
   "metadata": {},
   "outputs": [
    {
     "data": {
      "text/html": [
       "<div>\n",
       "<style scoped>\n",
       "    .dataframe tbody tr th:only-of-type {\n",
       "        vertical-align: middle;\n",
       "    }\n",
       "\n",
       "    .dataframe tbody tr th {\n",
       "        vertical-align: top;\n",
       "    }\n",
       "\n",
       "    .dataframe thead th {\n",
       "        text-align: right;\n",
       "    }\n",
       "</style>\n",
       "<table border=\"1\" class=\"dataframe\">\n",
       "  <thead>\n",
       "    <tr style=\"text-align: right;\">\n",
       "      <th></th>\n",
       "      <th>Cardnum</th>\n",
       "      <th>Merch state</th>\n",
       "      <th>Date</th>\n",
       "      <th>Amount</th>\n",
       "      <th>order</th>\n",
       "    </tr>\n",
       "  </thead>\n",
       "  <tbody>\n",
       "    <tr>\n",
       "      <th>0</th>\n",
       "      <td>5142110002</td>\n",
       "      <td>VA</td>\n",
       "      <td>2010-10-12</td>\n",
       "      <td>150.0</td>\n",
       "      <td>1</td>\n",
       "    </tr>\n",
       "    <tr>\n",
       "      <th>1</th>\n",
       "      <td>5142110081</td>\n",
       "      <td>TN</td>\n",
       "      <td>2010-03-08</td>\n",
       "      <td>495.9</td>\n",
       "      <td>1</td>\n",
       "    </tr>\n",
       "    <tr>\n",
       "      <th>2</th>\n",
       "      <td>5142110081</td>\n",
       "      <td>TN</td>\n",
       "      <td>2010-03-08</td>\n",
       "      <td>636.2</td>\n",
       "      <td>2</td>\n",
       "    </tr>\n",
       "    <tr>\n",
       "      <th>3</th>\n",
       "      <td>5142110313</td>\n",
       "      <td>TN</td>\n",
       "      <td>2010-10-07</td>\n",
       "      <td>144.0</td>\n",
       "      <td>1</td>\n",
       "    </tr>\n",
       "    <tr>\n",
       "      <th>4</th>\n",
       "      <td>5142110313</td>\n",
       "      <td>TN</td>\n",
       "      <td>2010-10-07</td>\n",
       "      <td>144.0</td>\n",
       "      <td>2</td>\n",
       "    </tr>\n",
       "  </tbody>\n",
       "</table>\n",
       "</div>"
      ],
      "text/plain": [
       "      Cardnum Merch state       Date  Amount  order\n",
       "0  5142110002          VA 2010-10-12   150.0      1\n",
       "1  5142110081          TN 2010-03-08   495.9      1\n",
       "2  5142110081          TN 2010-03-08   636.2      2\n",
       "3  5142110313          TN 2010-10-07   144.0      1\n",
       "4  5142110313          TN 2010-10-07   144.0      2"
      ]
     },
     "execution_count": 96,
     "metadata": {},
     "output_type": "execute_result"
    }
   ],
   "source": [
    "max_card_state_14.head()"
   ]
  },
  {
   "cell_type": "code",
   "execution_count": 97,
   "metadata": {},
   "outputs": [
    {
     "data": {
      "text/html": [
       "<div>\n",
       "<style scoped>\n",
       "    .dataframe tbody tr th:only-of-type {\n",
       "        vertical-align: middle;\n",
       "    }\n",
       "\n",
       "    .dataframe tbody tr th {\n",
       "        vertical-align: top;\n",
       "    }\n",
       "\n",
       "    .dataframe thead th {\n",
       "        text-align: right;\n",
       "    }\n",
       "</style>\n",
       "<table border=\"1\" class=\"dataframe\">\n",
       "  <thead>\n",
       "    <tr style=\"text-align: right;\">\n",
       "      <th></th>\n",
       "      <th>Cardnum</th>\n",
       "      <th>Merch state</th>\n",
       "      <th>Date</th>\n",
       "      <th>Amount</th>\n",
       "      <th>order</th>\n",
       "    </tr>\n",
       "  </thead>\n",
       "  <tbody>\n",
       "    <tr>\n",
       "      <th>0</th>\n",
       "      <td>5142110002</td>\n",
       "      <td>VA</td>\n",
       "      <td>2010-10-12</td>\n",
       "      <td>150.00</td>\n",
       "      <td>1</td>\n",
       "    </tr>\n",
       "    <tr>\n",
       "      <th>1</th>\n",
       "      <td>5142110081</td>\n",
       "      <td>TN</td>\n",
       "      <td>2010-03-08</td>\n",
       "      <td>495.90</td>\n",
       "      <td>1</td>\n",
       "    </tr>\n",
       "    <tr>\n",
       "      <th>2</th>\n",
       "      <td>5142110081</td>\n",
       "      <td>TN</td>\n",
       "      <td>2010-03-08</td>\n",
       "      <td>566.05</td>\n",
       "      <td>2</td>\n",
       "    </tr>\n",
       "    <tr>\n",
       "      <th>3</th>\n",
       "      <td>5142110313</td>\n",
       "      <td>TN</td>\n",
       "      <td>2010-10-07</td>\n",
       "      <td>144.00</td>\n",
       "      <td>1</td>\n",
       "    </tr>\n",
       "    <tr>\n",
       "      <th>4</th>\n",
       "      <td>5142110313</td>\n",
       "      <td>TN</td>\n",
       "      <td>2010-10-07</td>\n",
       "      <td>94.00</td>\n",
       "      <td>2</td>\n",
       "    </tr>\n",
       "  </tbody>\n",
       "</table>\n",
       "</div>"
      ],
      "text/plain": [
       "      Cardnum Merch state       Date  Amount  order\n",
       "0  5142110002          VA 2010-10-12  150.00      1\n",
       "1  5142110081          TN 2010-03-08  495.90      1\n",
       "2  5142110081          TN 2010-03-08  566.05      2\n",
       "3  5142110313          TN 2010-10-07  144.00      1\n",
       "4  5142110313          TN 2010-10-07   94.00      2"
      ]
     },
     "execution_count": 97,
     "metadata": {},
     "output_type": "execute_result"
    }
   ],
   "source": [
    "median_card_state_14.head()"
   ]
  },
  {
   "cell_type": "code",
   "execution_count": 98,
   "metadata": {},
   "outputs": [
    {
     "data": {
      "text/html": [
       "<div>\n",
       "<style scoped>\n",
       "    .dataframe tbody tr th:only-of-type {\n",
       "        vertical-align: middle;\n",
       "    }\n",
       "\n",
       "    .dataframe tbody tr th {\n",
       "        vertical-align: top;\n",
       "    }\n",
       "\n",
       "    .dataframe thead th {\n",
       "        text-align: right;\n",
       "    }\n",
       "</style>\n",
       "<table border=\"1\" class=\"dataframe\">\n",
       "  <thead>\n",
       "    <tr style=\"text-align: right;\">\n",
       "      <th></th>\n",
       "      <th>Cardnum</th>\n",
       "      <th>Merch state</th>\n",
       "      <th>Date</th>\n",
       "      <th>Amount</th>\n",
       "      <th>order</th>\n",
       "    </tr>\n",
       "  </thead>\n",
       "  <tbody>\n",
       "    <tr>\n",
       "      <th>0</th>\n",
       "      <td>5142110002</td>\n",
       "      <td>VA</td>\n",
       "      <td>2010-10-12</td>\n",
       "      <td>150.0</td>\n",
       "      <td>1</td>\n",
       "    </tr>\n",
       "    <tr>\n",
       "      <th>1</th>\n",
       "      <td>5142110081</td>\n",
       "      <td>TN</td>\n",
       "      <td>2010-03-08</td>\n",
       "      <td>495.9</td>\n",
       "      <td>1</td>\n",
       "    </tr>\n",
       "    <tr>\n",
       "      <th>2</th>\n",
       "      <td>5142110081</td>\n",
       "      <td>TN</td>\n",
       "      <td>2010-03-08</td>\n",
       "      <td>1132.1</td>\n",
       "      <td>2</td>\n",
       "    </tr>\n",
       "    <tr>\n",
       "      <th>3</th>\n",
       "      <td>5142110313</td>\n",
       "      <td>TN</td>\n",
       "      <td>2010-10-07</td>\n",
       "      <td>144.0</td>\n",
       "      <td>1</td>\n",
       "    </tr>\n",
       "    <tr>\n",
       "      <th>4</th>\n",
       "      <td>5142110313</td>\n",
       "      <td>TN</td>\n",
       "      <td>2010-10-07</td>\n",
       "      <td>188.0</td>\n",
       "      <td>2</td>\n",
       "    </tr>\n",
       "  </tbody>\n",
       "</table>\n",
       "</div>"
      ],
      "text/plain": [
       "      Cardnum Merch state       Date  Amount  order\n",
       "0  5142110002          VA 2010-10-12   150.0      1\n",
       "1  5142110081          TN 2010-03-08   495.9      1\n",
       "2  5142110081          TN 2010-03-08  1132.1      2\n",
       "3  5142110313          TN 2010-10-07   144.0      1\n",
       "4  5142110313          TN 2010-10-07   188.0      2"
      ]
     },
     "execution_count": 98,
     "metadata": {},
     "output_type": "execute_result"
    }
   ],
   "source": [
    "sum_card_state_14.head()"
   ]
  },
  {
   "cell_type": "code",
   "execution_count": 99,
   "metadata": {},
   "outputs": [],
   "source": [
    "card_state_df = df.copy()\n",
    "card_state_df = card_state_df.reset_index()\n",
    "card_state_df['order'] = card_state_df.groupby(['Cardnum', 'Merch state', 'Date']).cumcount() + 1"
   ]
  },
  {
   "cell_type": "code",
   "execution_count": 100,
   "metadata": {},
   "outputs": [
    {
     "data": {
      "text/html": [
       "<div>\n",
       "<style scoped>\n",
       "    .dataframe tbody tr th:only-of-type {\n",
       "        vertical-align: middle;\n",
       "    }\n",
       "\n",
       "    .dataframe tbody tr th {\n",
       "        vertical-align: top;\n",
       "    }\n",
       "\n",
       "    .dataframe thead th {\n",
       "        text-align: right;\n",
       "    }\n",
       "</style>\n",
       "<table border=\"1\" class=\"dataframe\">\n",
       "  <thead>\n",
       "    <tr style=\"text-align: right;\">\n",
       "      <th></th>\n",
       "      <th>Date</th>\n",
       "      <th>Recnum</th>\n",
       "      <th>Cardnum</th>\n",
       "      <th>Merchnum</th>\n",
       "      <th>Merch description</th>\n",
       "      <th>Merch state</th>\n",
       "      <th>Merch zip</th>\n",
       "      <th>Transtype</th>\n",
       "      <th>Amount</th>\n",
       "      <th>Fraud</th>\n",
       "      <th>order</th>\n",
       "    </tr>\n",
       "  </thead>\n",
       "  <tbody>\n",
       "    <tr>\n",
       "      <th>0</th>\n",
       "      <td>2010-01-01</td>\n",
       "      <td>1</td>\n",
       "      <td>5142190439</td>\n",
       "      <td>5509006296254</td>\n",
       "      <td>FEDEX SHP 12/23/09 AB#</td>\n",
       "      <td>TN</td>\n",
       "      <td>38118.0</td>\n",
       "      <td>P</td>\n",
       "      <td>3.62</td>\n",
       "      <td>0</td>\n",
       "      <td>1</td>\n",
       "    </tr>\n",
       "    <tr>\n",
       "      <th>1</th>\n",
       "      <td>2010-01-01</td>\n",
       "      <td>2</td>\n",
       "      <td>5142183973</td>\n",
       "      <td>61003026333</td>\n",
       "      <td>SERVICE MERCHANDISE #81</td>\n",
       "      <td>MA</td>\n",
       "      <td>1803.0</td>\n",
       "      <td>P</td>\n",
       "      <td>31.42</td>\n",
       "      <td>0</td>\n",
       "      <td>1</td>\n",
       "    </tr>\n",
       "    <tr>\n",
       "      <th>2</th>\n",
       "      <td>2010-01-01</td>\n",
       "      <td>3</td>\n",
       "      <td>5142131721</td>\n",
       "      <td>4503082993600</td>\n",
       "      <td>OFFICE DEPOT #191</td>\n",
       "      <td>MD</td>\n",
       "      <td>20706.0</td>\n",
       "      <td>P</td>\n",
       "      <td>178.49</td>\n",
       "      <td>0</td>\n",
       "      <td>1</td>\n",
       "    </tr>\n",
       "    <tr>\n",
       "      <th>3</th>\n",
       "      <td>2010-01-01</td>\n",
       "      <td>4</td>\n",
       "      <td>5142148452</td>\n",
       "      <td>5509006296254</td>\n",
       "      <td>FEDEX SHP 12/28/09 AB#</td>\n",
       "      <td>TN</td>\n",
       "      <td>38118.0</td>\n",
       "      <td>P</td>\n",
       "      <td>3.62</td>\n",
       "      <td>0</td>\n",
       "      <td>1</td>\n",
       "    </tr>\n",
       "    <tr>\n",
       "      <th>4</th>\n",
       "      <td>2010-01-01</td>\n",
       "      <td>5</td>\n",
       "      <td>5142190439</td>\n",
       "      <td>5509006296254</td>\n",
       "      <td>FEDEX SHP 12/23/09 AB#</td>\n",
       "      <td>TN</td>\n",
       "      <td>38118.0</td>\n",
       "      <td>P</td>\n",
       "      <td>3.62</td>\n",
       "      <td>0</td>\n",
       "      <td>2</td>\n",
       "    </tr>\n",
       "  </tbody>\n",
       "</table>\n",
       "</div>"
      ],
      "text/plain": [
       "        Date  Recnum     Cardnum       Merchnum        Merch description  \\\n",
       "0 2010-01-01       1  5142190439  5509006296254   FEDEX SHP 12/23/09 AB#   \n",
       "1 2010-01-01       2  5142183973    61003026333  SERVICE MERCHANDISE #81   \n",
       "2 2010-01-01       3  5142131721  4503082993600        OFFICE DEPOT #191   \n",
       "3 2010-01-01       4  5142148452  5509006296254   FEDEX SHP 12/28/09 AB#   \n",
       "4 2010-01-01       5  5142190439  5509006296254   FEDEX SHP 12/23/09 AB#   \n",
       "\n",
       "  Merch state  Merch zip Transtype  Amount  Fraud  order  \n",
       "0          TN    38118.0         P    3.62      0      1  \n",
       "1          MA     1803.0         P   31.42      0      1  \n",
       "2          MD    20706.0         P  178.49      0      1  \n",
       "3          TN    38118.0         P    3.62      0      1  \n",
       "4          TN    38118.0         P    3.62      0      2  "
      ]
     },
     "execution_count": 100,
     "metadata": {},
     "output_type": "execute_result"
    }
   ],
   "source": [
    "card_state_df.head()"
   ]
  },
  {
   "cell_type": "code",
   "execution_count": 101,
   "metadata": {},
   "outputs": [],
   "source": [
    "not_needed_columns = ['index', 'Recnum', 'Merchnum', 'Merch description', 'Merch zip', 'Transtype']\n",
    "for column in not_needed_columns:\n",
    "    try:\n",
    "        del card_state_df[column]\n",
    "    except:\n",
    "        pass"
   ]
  },
  {
   "cell_type": "code",
   "execution_count": 102,
   "metadata": {},
   "outputs": [
    {
     "data": {
      "text/html": [
       "<div>\n",
       "<style scoped>\n",
       "    .dataframe tbody tr th:only-of-type {\n",
       "        vertical-align: middle;\n",
       "    }\n",
       "\n",
       "    .dataframe tbody tr th {\n",
       "        vertical-align: top;\n",
       "    }\n",
       "\n",
       "    .dataframe thead th {\n",
       "        text-align: right;\n",
       "    }\n",
       "</style>\n",
       "<table border=\"1\" class=\"dataframe\">\n",
       "  <thead>\n",
       "    <tr style=\"text-align: right;\">\n",
       "      <th></th>\n",
       "      <th>Date</th>\n",
       "      <th>Cardnum</th>\n",
       "      <th>Merch state</th>\n",
       "      <th>Amount</th>\n",
       "      <th>Fraud</th>\n",
       "      <th>order</th>\n",
       "    </tr>\n",
       "  </thead>\n",
       "  <tbody>\n",
       "    <tr>\n",
       "      <th>0</th>\n",
       "      <td>2010-01-01</td>\n",
       "      <td>5142190439</td>\n",
       "      <td>TN</td>\n",
       "      <td>3.62</td>\n",
       "      <td>0</td>\n",
       "      <td>1</td>\n",
       "    </tr>\n",
       "    <tr>\n",
       "      <th>1</th>\n",
       "      <td>2010-01-01</td>\n",
       "      <td>5142183973</td>\n",
       "      <td>MA</td>\n",
       "      <td>31.42</td>\n",
       "      <td>0</td>\n",
       "      <td>1</td>\n",
       "    </tr>\n",
       "    <tr>\n",
       "      <th>2</th>\n",
       "      <td>2010-01-01</td>\n",
       "      <td>5142131721</td>\n",
       "      <td>MD</td>\n",
       "      <td>178.49</td>\n",
       "      <td>0</td>\n",
       "      <td>1</td>\n",
       "    </tr>\n",
       "    <tr>\n",
       "      <th>3</th>\n",
       "      <td>2010-01-01</td>\n",
       "      <td>5142148452</td>\n",
       "      <td>TN</td>\n",
       "      <td>3.62</td>\n",
       "      <td>0</td>\n",
       "      <td>1</td>\n",
       "    </tr>\n",
       "    <tr>\n",
       "      <th>4</th>\n",
       "      <td>2010-01-01</td>\n",
       "      <td>5142190439</td>\n",
       "      <td>TN</td>\n",
       "      <td>3.62</td>\n",
       "      <td>0</td>\n",
       "      <td>2</td>\n",
       "    </tr>\n",
       "  </tbody>\n",
       "</table>\n",
       "</div>"
      ],
      "text/plain": [
       "        Date     Cardnum Merch state  Amount  Fraud  order\n",
       "0 2010-01-01  5142190439          TN    3.62      0      1\n",
       "1 2010-01-01  5142183973          MA   31.42      0      1\n",
       "2 2010-01-01  5142131721          MD  178.49      0      1\n",
       "3 2010-01-01  5142148452          TN    3.62      0      1\n",
       "4 2010-01-01  5142190439          TN    3.62      0      2"
      ]
     },
     "execution_count": 102,
     "metadata": {},
     "output_type": "execute_result"
    }
   ],
   "source": [
    "card_state_df.head()"
   ]
  },
  {
   "cell_type": "code",
   "execution_count": 103,
   "metadata": {},
   "outputs": [],
   "source": [
    "merged_data_card_state = card_state_df \\\n",
    ".merge(avg_card_state_1, on = ['Date', 'Merch state', 'Cardnum', 'order'], how = 'left', suffixes=['', '_avg_card_state_1'])\\\n",
    ".merge(avg_card_state_3, on = ['Date', 'Merch state', 'Cardnum', 'order'], how = 'left', suffixes=['', '_avg_card_state_3']) \\\n",
    ".merge(avg_card_state_7, on = ['Date', 'Merch state', 'Cardnum', 'order'], how = 'left', suffixes=['', '_avg_card_state_7']) \\\n",
    ".merge(avg_card_state_14, on = ['Date', 'Merch state', 'Cardnum', 'order'], how = 'left', suffixes=['', '_avg_card_state_14']) \\\n",
    ".merge(avg_card_state_30, on = ['Date', 'Merch state', 'Cardnum', 'order'], how = 'left', suffixes=['', '_avg_card_state_30']) \\\n",
    ".merge(max_card_state_1, on = ['Date', 'Merch state', 'Cardnum', 'order'], how = 'left', suffixes=['', '_max_card_state_1'])\\\n",
    ".merge(max_card_state_3, on = ['Date', 'Merch state', 'Cardnum', 'order'], how = 'left', suffixes=['', '_max_card_state_3']) \\\n",
    ".merge(max_card_state_7, on = ['Date', 'Merch state', 'Cardnum', 'order'], how = 'left', suffixes=['', '_max_card_state_7']) \\\n",
    ".merge(max_card_state_14, on = ['Date', 'Merch state', 'Cardnum', 'order'], how = 'left', suffixes=['', '_max_card_state_14']) \\\n",
    ".merge(max_card_state_30, on = ['Date', 'Merch state', 'Cardnum', 'order'], how = 'left', suffixes=['', '_max_card_state_30']) \\\n",
    ".merge(median_card_state_1, on = ['Date', 'Merch state', 'Cardnum', 'order'], how = 'left', suffixes=['', '_median_card_state_1'])\\\n",
    ".merge(median_card_state_3, on = ['Date', 'Merch state', 'Cardnum', 'order'], how = 'left', suffixes=['', '_median_card_state_3']) \\\n",
    ".merge(median_card_state_7, on = ['Date', 'Merch state', 'Cardnum', 'order'], how = 'left', suffixes=['', '_median_card_state_7']) \\\n",
    ".merge(median_card_state_14, on = ['Date', 'Merch state', 'Cardnum', 'order'], how = 'left', suffixes=['', '_median_card_state_14']) \\\n",
    ".merge(median_card_state_30, on = ['Date', 'Merch state', 'Cardnum', 'order'], how = 'left', suffixes=['', '_median_card_state_30']) \\\n",
    ".merge(sum_card_state_1, on = ['Date', 'Merch state', 'Cardnum', 'order'], how = 'left', suffixes=['', '_sum_card_state_1'])\\\n",
    ".merge(sum_card_state_3, on = ['Date', 'Merch state', 'Cardnum', 'order'], how = 'left', suffixes=['', '_sum_card_state_3']) \\\n",
    ".merge(sum_card_state_7, on = ['Date', 'Merch state', 'Cardnum', 'order'], how = 'left', suffixes=['', '_sum_card_state_7']) \\\n",
    ".merge(sum_card_state_14, on = ['Date', 'Merch state', 'Cardnum', 'order'], how = 'left', suffixes=['', '_sum_card_state_14']) \\\n",
    ".merge(sum_card_state_30, on = ['Date', 'Merch state', 'Cardnum', 'order'], how = 'left', suffixes=['', '_sum_card_state_30'])"
   ]
  },
  {
   "cell_type": "code",
   "execution_count": 104,
   "metadata": {},
   "outputs": [],
   "source": [
    "merged_data_card_state['Amount_avg_card_state_0'] = merged_data_card_state['Amount']\n",
    "merged_data_card_state['Amount_max_card_state_0'] = merged_data_card_state['Amount']\n",
    "merged_data_card_state['Amount_median_card_state_0'] = merged_data_card_state['Amount']\n",
    "merged_data_card_state['Amount_sum_card_state_0'] = merged_data_card_state['Amount']"
   ]
  },
  {
   "cell_type": "code",
   "execution_count": 105,
   "metadata": {},
   "outputs": [
    {
     "data": {
      "text/html": [
       "<div>\n",
       "<style scoped>\n",
       "    .dataframe tbody tr th:only-of-type {\n",
       "        vertical-align: middle;\n",
       "    }\n",
       "\n",
       "    .dataframe tbody tr th {\n",
       "        vertical-align: top;\n",
       "    }\n",
       "\n",
       "    .dataframe thead th {\n",
       "        text-align: right;\n",
       "    }\n",
       "</style>\n",
       "<table border=\"1\" class=\"dataframe\">\n",
       "  <thead>\n",
       "    <tr style=\"text-align: right;\">\n",
       "      <th></th>\n",
       "      <th>Date</th>\n",
       "      <th>Cardnum</th>\n",
       "      <th>Merch state</th>\n",
       "      <th>Amount</th>\n",
       "      <th>Fraud</th>\n",
       "      <th>order</th>\n",
       "      <th>Amount_avg_card_state_1</th>\n",
       "      <th>Amount_avg_card_state_3</th>\n",
       "      <th>Amount_avg_card_state_7</th>\n",
       "      <th>Amount_avg_card_state_14</th>\n",
       "      <th>...</th>\n",
       "      <th>Amount_median_card_state_30</th>\n",
       "      <th>Amount_sum_card_state_1</th>\n",
       "      <th>Amount_sum_card_state_3</th>\n",
       "      <th>Amount_sum_card_state_7</th>\n",
       "      <th>Amount_sum_card_state_14</th>\n",
       "      <th>Amount_sum_card_state_30</th>\n",
       "      <th>Amount_avg_card_state_0</th>\n",
       "      <th>Amount_max_card_state_0</th>\n",
       "      <th>Amount_median_card_state_0</th>\n",
       "      <th>Amount_sum_card_state_0</th>\n",
       "    </tr>\n",
       "  </thead>\n",
       "  <tbody>\n",
       "    <tr>\n",
       "      <th>0</th>\n",
       "      <td>2010-01-01</td>\n",
       "      <td>5142190439</td>\n",
       "      <td>TN</td>\n",
       "      <td>3.62</td>\n",
       "      <td>0</td>\n",
       "      <td>1</td>\n",
       "      <td>3.62</td>\n",
       "      <td>3.62</td>\n",
       "      <td>3.62</td>\n",
       "      <td>3.62</td>\n",
       "      <td>...</td>\n",
       "      <td>3.62</td>\n",
       "      <td>3.62</td>\n",
       "      <td>3.62</td>\n",
       "      <td>3.62</td>\n",
       "      <td>3.62</td>\n",
       "      <td>3.62</td>\n",
       "      <td>3.62</td>\n",
       "      <td>3.62</td>\n",
       "      <td>3.62</td>\n",
       "      <td>3.62</td>\n",
       "    </tr>\n",
       "    <tr>\n",
       "      <th>1</th>\n",
       "      <td>2010-01-01</td>\n",
       "      <td>5142183973</td>\n",
       "      <td>MA</td>\n",
       "      <td>31.42</td>\n",
       "      <td>0</td>\n",
       "      <td>1</td>\n",
       "      <td>31.42</td>\n",
       "      <td>31.42</td>\n",
       "      <td>31.42</td>\n",
       "      <td>31.42</td>\n",
       "      <td>...</td>\n",
       "      <td>31.42</td>\n",
       "      <td>31.42</td>\n",
       "      <td>31.42</td>\n",
       "      <td>31.42</td>\n",
       "      <td>31.42</td>\n",
       "      <td>31.42</td>\n",
       "      <td>31.42</td>\n",
       "      <td>31.42</td>\n",
       "      <td>31.42</td>\n",
       "      <td>31.42</td>\n",
       "    </tr>\n",
       "    <tr>\n",
       "      <th>2</th>\n",
       "      <td>2010-01-01</td>\n",
       "      <td>5142131721</td>\n",
       "      <td>MD</td>\n",
       "      <td>178.49</td>\n",
       "      <td>0</td>\n",
       "      <td>1</td>\n",
       "      <td>178.49</td>\n",
       "      <td>178.49</td>\n",
       "      <td>178.49</td>\n",
       "      <td>178.49</td>\n",
       "      <td>...</td>\n",
       "      <td>178.49</td>\n",
       "      <td>178.49</td>\n",
       "      <td>178.49</td>\n",
       "      <td>178.49</td>\n",
       "      <td>178.49</td>\n",
       "      <td>178.49</td>\n",
       "      <td>178.49</td>\n",
       "      <td>178.49</td>\n",
       "      <td>178.49</td>\n",
       "      <td>178.49</td>\n",
       "    </tr>\n",
       "    <tr>\n",
       "      <th>3</th>\n",
       "      <td>2010-01-01</td>\n",
       "      <td>5142148452</td>\n",
       "      <td>TN</td>\n",
       "      <td>3.62</td>\n",
       "      <td>0</td>\n",
       "      <td>1</td>\n",
       "      <td>3.62</td>\n",
       "      <td>3.62</td>\n",
       "      <td>3.62</td>\n",
       "      <td>3.62</td>\n",
       "      <td>...</td>\n",
       "      <td>3.62</td>\n",
       "      <td>3.62</td>\n",
       "      <td>3.62</td>\n",
       "      <td>3.62</td>\n",
       "      <td>3.62</td>\n",
       "      <td>3.62</td>\n",
       "      <td>3.62</td>\n",
       "      <td>3.62</td>\n",
       "      <td>3.62</td>\n",
       "      <td>3.62</td>\n",
       "    </tr>\n",
       "    <tr>\n",
       "      <th>4</th>\n",
       "      <td>2010-01-01</td>\n",
       "      <td>5142190439</td>\n",
       "      <td>TN</td>\n",
       "      <td>3.62</td>\n",
       "      <td>0</td>\n",
       "      <td>2</td>\n",
       "      <td>3.62</td>\n",
       "      <td>3.62</td>\n",
       "      <td>3.62</td>\n",
       "      <td>3.62</td>\n",
       "      <td>...</td>\n",
       "      <td>3.62</td>\n",
       "      <td>7.24</td>\n",
       "      <td>7.24</td>\n",
       "      <td>7.24</td>\n",
       "      <td>7.24</td>\n",
       "      <td>7.24</td>\n",
       "      <td>3.62</td>\n",
       "      <td>3.62</td>\n",
       "      <td>3.62</td>\n",
       "      <td>3.62</td>\n",
       "    </tr>\n",
       "  </tbody>\n",
       "</table>\n",
       "<p>5 rows × 30 columns</p>\n",
       "</div>"
      ],
      "text/plain": [
       "        Date     Cardnum Merch state  Amount  Fraud  order  \\\n",
       "0 2010-01-01  5142190439          TN    3.62      0      1   \n",
       "1 2010-01-01  5142183973          MA   31.42      0      1   \n",
       "2 2010-01-01  5142131721          MD  178.49      0      1   \n",
       "3 2010-01-01  5142148452          TN    3.62      0      1   \n",
       "4 2010-01-01  5142190439          TN    3.62      0      2   \n",
       "\n",
       "   Amount_avg_card_state_1  Amount_avg_card_state_3  Amount_avg_card_state_7  \\\n",
       "0                     3.62                     3.62                     3.62   \n",
       "1                    31.42                    31.42                    31.42   \n",
       "2                   178.49                   178.49                   178.49   \n",
       "3                     3.62                     3.62                     3.62   \n",
       "4                     3.62                     3.62                     3.62   \n",
       "\n",
       "   Amount_avg_card_state_14           ...             \\\n",
       "0                      3.62           ...              \n",
       "1                     31.42           ...              \n",
       "2                    178.49           ...              \n",
       "3                      3.62           ...              \n",
       "4                      3.62           ...              \n",
       "\n",
       "   Amount_median_card_state_30  Amount_sum_card_state_1  \\\n",
       "0                         3.62                     3.62   \n",
       "1                        31.42                    31.42   \n",
       "2                       178.49                   178.49   \n",
       "3                         3.62                     3.62   \n",
       "4                         3.62                     7.24   \n",
       "\n",
       "   Amount_sum_card_state_3  Amount_sum_card_state_7  Amount_sum_card_state_14  \\\n",
       "0                     3.62                     3.62                      3.62   \n",
       "1                    31.42                    31.42                     31.42   \n",
       "2                   178.49                   178.49                    178.49   \n",
       "3                     3.62                     3.62                      3.62   \n",
       "4                     7.24                     7.24                      7.24   \n",
       "\n",
       "   Amount_sum_card_state_30  Amount_avg_card_state_0  Amount_max_card_state_0  \\\n",
       "0                      3.62                     3.62                     3.62   \n",
       "1                     31.42                    31.42                    31.42   \n",
       "2                    178.49                   178.49                   178.49   \n",
       "3                      3.62                     3.62                     3.62   \n",
       "4                      7.24                     3.62                     3.62   \n",
       "\n",
       "   Amount_median_card_state_0  Amount_sum_card_state_0  \n",
       "0                        3.62                     3.62  \n",
       "1                       31.42                    31.42  \n",
       "2                      178.49                   178.49  \n",
       "3                        3.62                     3.62  \n",
       "4                        3.62                     3.62  \n",
       "\n",
       "[5 rows x 30 columns]"
      ]
     },
     "execution_count": 105,
     "metadata": {},
     "output_type": "execute_result"
    }
   ],
   "source": [
    "merged_data_card_state.head()"
   ]
  },
  {
   "cell_type": "code",
   "execution_count": 106,
   "metadata": {},
   "outputs": [],
   "source": [
    "for i in [0, 1, 3, 7, 14, 30]:\n",
    "    merged_data_card_state['qaa_cm_' + str(i)] = merged_data_card_state['Amount'] / merged_data_card_state['Amount_avg_card_state_' + str(i)]\n",
    "    merged_data_card_state['qam_cm_' + str(i)] = merged_data_card_state['Amount'] / merged_data_card_state['Amount_max_card_state_' + str(i)]\n",
    "    merged_data_card_state['qame_cm_' + str(i)] = merged_data_card_state['Amount'] / merged_data_card_state['Amount_median_card_state_' + str(i)]\n",
    "    merged_data_card_state['qas_cm_' + str(i)] = merged_data_card_state['Amount'] / merged_data_card_state['Amount_sum_card_state_' + str(i)]"
   ]
  },
  {
   "cell_type": "code",
   "execution_count": 107,
   "metadata": {},
   "outputs": [
    {
     "data": {
      "text/html": [
       "<div>\n",
       "<style scoped>\n",
       "    .dataframe tbody tr th:only-of-type {\n",
       "        vertical-align: middle;\n",
       "    }\n",
       "\n",
       "    .dataframe tbody tr th {\n",
       "        vertical-align: top;\n",
       "    }\n",
       "\n",
       "    .dataframe thead th {\n",
       "        text-align: right;\n",
       "    }\n",
       "</style>\n",
       "<table border=\"1\" class=\"dataframe\">\n",
       "  <thead>\n",
       "    <tr style=\"text-align: right;\">\n",
       "      <th></th>\n",
       "      <th>Date</th>\n",
       "      <th>Cardnum</th>\n",
       "      <th>Merch state</th>\n",
       "      <th>Amount</th>\n",
       "      <th>Fraud</th>\n",
       "      <th>order</th>\n",
       "      <th>Amount_avg_card_state_1</th>\n",
       "      <th>Amount_avg_card_state_3</th>\n",
       "      <th>Amount_avg_card_state_7</th>\n",
       "      <th>Amount_avg_card_state_14</th>\n",
       "      <th>...</th>\n",
       "      <th>qame_cm_7</th>\n",
       "      <th>qas_cm_7</th>\n",
       "      <th>qaa_cm_14</th>\n",
       "      <th>qam_cm_14</th>\n",
       "      <th>qame_cm_14</th>\n",
       "      <th>qas_cm_14</th>\n",
       "      <th>qaa_cm_30</th>\n",
       "      <th>qam_cm_30</th>\n",
       "      <th>qame_cm_30</th>\n",
       "      <th>qas_cm_30</th>\n",
       "    </tr>\n",
       "  </thead>\n",
       "  <tbody>\n",
       "    <tr>\n",
       "      <th>0</th>\n",
       "      <td>2010-01-01</td>\n",
       "      <td>5142190439</td>\n",
       "      <td>TN</td>\n",
       "      <td>3.62</td>\n",
       "      <td>0</td>\n",
       "      <td>1</td>\n",
       "      <td>3.62</td>\n",
       "      <td>3.62</td>\n",
       "      <td>3.62</td>\n",
       "      <td>3.62</td>\n",
       "      <td>...</td>\n",
       "      <td>1.0</td>\n",
       "      <td>1.0</td>\n",
       "      <td>1.0</td>\n",
       "      <td>1.0</td>\n",
       "      <td>1.0</td>\n",
       "      <td>1.0</td>\n",
       "      <td>1.0</td>\n",
       "      <td>1.0</td>\n",
       "      <td>1.0</td>\n",
       "      <td>1.0</td>\n",
       "    </tr>\n",
       "    <tr>\n",
       "      <th>1</th>\n",
       "      <td>2010-01-01</td>\n",
       "      <td>5142183973</td>\n",
       "      <td>MA</td>\n",
       "      <td>31.42</td>\n",
       "      <td>0</td>\n",
       "      <td>1</td>\n",
       "      <td>31.42</td>\n",
       "      <td>31.42</td>\n",
       "      <td>31.42</td>\n",
       "      <td>31.42</td>\n",
       "      <td>...</td>\n",
       "      <td>1.0</td>\n",
       "      <td>1.0</td>\n",
       "      <td>1.0</td>\n",
       "      <td>1.0</td>\n",
       "      <td>1.0</td>\n",
       "      <td>1.0</td>\n",
       "      <td>1.0</td>\n",
       "      <td>1.0</td>\n",
       "      <td>1.0</td>\n",
       "      <td>1.0</td>\n",
       "    </tr>\n",
       "    <tr>\n",
       "      <th>2</th>\n",
       "      <td>2010-01-01</td>\n",
       "      <td>5142131721</td>\n",
       "      <td>MD</td>\n",
       "      <td>178.49</td>\n",
       "      <td>0</td>\n",
       "      <td>1</td>\n",
       "      <td>178.49</td>\n",
       "      <td>178.49</td>\n",
       "      <td>178.49</td>\n",
       "      <td>178.49</td>\n",
       "      <td>...</td>\n",
       "      <td>1.0</td>\n",
       "      <td>1.0</td>\n",
       "      <td>1.0</td>\n",
       "      <td>1.0</td>\n",
       "      <td>1.0</td>\n",
       "      <td>1.0</td>\n",
       "      <td>1.0</td>\n",
       "      <td>1.0</td>\n",
       "      <td>1.0</td>\n",
       "      <td>1.0</td>\n",
       "    </tr>\n",
       "    <tr>\n",
       "      <th>3</th>\n",
       "      <td>2010-01-01</td>\n",
       "      <td>5142148452</td>\n",
       "      <td>TN</td>\n",
       "      <td>3.62</td>\n",
       "      <td>0</td>\n",
       "      <td>1</td>\n",
       "      <td>3.62</td>\n",
       "      <td>3.62</td>\n",
       "      <td>3.62</td>\n",
       "      <td>3.62</td>\n",
       "      <td>...</td>\n",
       "      <td>1.0</td>\n",
       "      <td>1.0</td>\n",
       "      <td>1.0</td>\n",
       "      <td>1.0</td>\n",
       "      <td>1.0</td>\n",
       "      <td>1.0</td>\n",
       "      <td>1.0</td>\n",
       "      <td>1.0</td>\n",
       "      <td>1.0</td>\n",
       "      <td>1.0</td>\n",
       "    </tr>\n",
       "    <tr>\n",
       "      <th>4</th>\n",
       "      <td>2010-01-01</td>\n",
       "      <td>5142190439</td>\n",
       "      <td>TN</td>\n",
       "      <td>3.62</td>\n",
       "      <td>0</td>\n",
       "      <td>2</td>\n",
       "      <td>3.62</td>\n",
       "      <td>3.62</td>\n",
       "      <td>3.62</td>\n",
       "      <td>3.62</td>\n",
       "      <td>...</td>\n",
       "      <td>1.0</td>\n",
       "      <td>0.5</td>\n",
       "      <td>1.0</td>\n",
       "      <td>1.0</td>\n",
       "      <td>1.0</td>\n",
       "      <td>0.5</td>\n",
       "      <td>1.0</td>\n",
       "      <td>1.0</td>\n",
       "      <td>1.0</td>\n",
       "      <td>0.5</td>\n",
       "    </tr>\n",
       "  </tbody>\n",
       "</table>\n",
       "<p>5 rows × 54 columns</p>\n",
       "</div>"
      ],
      "text/plain": [
       "        Date     Cardnum Merch state  Amount  Fraud  order  \\\n",
       "0 2010-01-01  5142190439          TN    3.62      0      1   \n",
       "1 2010-01-01  5142183973          MA   31.42      0      1   \n",
       "2 2010-01-01  5142131721          MD  178.49      0      1   \n",
       "3 2010-01-01  5142148452          TN    3.62      0      1   \n",
       "4 2010-01-01  5142190439          TN    3.62      0      2   \n",
       "\n",
       "   Amount_avg_card_state_1  Amount_avg_card_state_3  Amount_avg_card_state_7  \\\n",
       "0                     3.62                     3.62                     3.62   \n",
       "1                    31.42                    31.42                    31.42   \n",
       "2                   178.49                   178.49                   178.49   \n",
       "3                     3.62                     3.62                     3.62   \n",
       "4                     3.62                     3.62                     3.62   \n",
       "\n",
       "   Amount_avg_card_state_14    ...      qame_cm_7  qas_cm_7  qaa_cm_14  \\\n",
       "0                      3.62    ...            1.0       1.0        1.0   \n",
       "1                     31.42    ...            1.0       1.0        1.0   \n",
       "2                    178.49    ...            1.0       1.0        1.0   \n",
       "3                      3.62    ...            1.0       1.0        1.0   \n",
       "4                      3.62    ...            1.0       0.5        1.0   \n",
       "\n",
       "   qam_cm_14  qame_cm_14  qas_cm_14  qaa_cm_30  qam_cm_30  qame_cm_30  \\\n",
       "0        1.0         1.0        1.0        1.0        1.0         1.0   \n",
       "1        1.0         1.0        1.0        1.0        1.0         1.0   \n",
       "2        1.0         1.0        1.0        1.0        1.0         1.0   \n",
       "3        1.0         1.0        1.0        1.0        1.0         1.0   \n",
       "4        1.0         1.0        0.5        1.0        1.0         1.0   \n",
       "\n",
       "   qas_cm_30  \n",
       "0        1.0  \n",
       "1        1.0  \n",
       "2        1.0  \n",
       "3        1.0  \n",
       "4        0.5  \n",
       "\n",
       "[5 rows x 54 columns]"
      ]
     },
     "execution_count": 107,
     "metadata": {},
     "output_type": "execute_result"
    }
   ],
   "source": [
    "merged_data_card_state.head()"
   ]
  },
  {
   "cell_type": "code",
   "execution_count": 108,
   "metadata": {},
   "outputs": [
    {
     "data": {
      "text/plain": [
       "(83970, 54)"
      ]
     },
     "execution_count": 108,
     "metadata": {},
     "output_type": "execute_result"
    }
   ],
   "source": [
    "merged_data_card_state.shape"
   ]
  },
  {
   "cell_type": "markdown",
   "metadata": {},
   "source": [
    "### Amount Variables 240"
   ]
  },
  {
   "cell_type": "code",
   "execution_count": 109,
   "metadata": {},
   "outputs": [
    {
     "data": {
      "text/html": [
       "<div>\n",
       "<style scoped>\n",
       "    .dataframe tbody tr th:only-of-type {\n",
       "        vertical-align: middle;\n",
       "    }\n",
       "\n",
       "    .dataframe tbody tr th {\n",
       "        vertical-align: top;\n",
       "    }\n",
       "\n",
       "    .dataframe thead th {\n",
       "        text-align: right;\n",
       "    }\n",
       "</style>\n",
       "<table border=\"1\" class=\"dataframe\">\n",
       "  <thead>\n",
       "    <tr style=\"text-align: right;\">\n",
       "      <th></th>\n",
       "      <th>Date</th>\n",
       "      <th>Cardnum</th>\n",
       "      <th>Amount</th>\n",
       "      <th>Fraud</th>\n",
       "      <th>order</th>\n",
       "      <th>Amount_avg_card_1</th>\n",
       "      <th>Amount_avg_card_3</th>\n",
       "      <th>Amount_avg_card_7</th>\n",
       "      <th>Amount_avg_card_14</th>\n",
       "      <th>Amount_avg_card_30</th>\n",
       "      <th>...</th>\n",
       "      <th>qame_cm_7</th>\n",
       "      <th>qas_cm_7</th>\n",
       "      <th>qaa_cm_14</th>\n",
       "      <th>qam_cm_14</th>\n",
       "      <th>qame_cm_14</th>\n",
       "      <th>qas_cm_14</th>\n",
       "      <th>qaa_cm_30</th>\n",
       "      <th>qam_cm_30</th>\n",
       "      <th>qame_cm_30</th>\n",
       "      <th>qas_cm_30</th>\n",
       "    </tr>\n",
       "  </thead>\n",
       "  <tbody>\n",
       "    <tr>\n",
       "      <th>0</th>\n",
       "      <td>2010-01-01</td>\n",
       "      <td>5142190439</td>\n",
       "      <td>3.62</td>\n",
       "      <td>0</td>\n",
       "      <td>1</td>\n",
       "      <td>3.62</td>\n",
       "      <td>3.62</td>\n",
       "      <td>3.62</td>\n",
       "      <td>3.62</td>\n",
       "      <td>3.62</td>\n",
       "      <td>...</td>\n",
       "      <td>1.0</td>\n",
       "      <td>1.0</td>\n",
       "      <td>1.0</td>\n",
       "      <td>1.0</td>\n",
       "      <td>1.0</td>\n",
       "      <td>1.0</td>\n",
       "      <td>1.0</td>\n",
       "      <td>1.0</td>\n",
       "      <td>1.0</td>\n",
       "      <td>1.0</td>\n",
       "    </tr>\n",
       "    <tr>\n",
       "      <th>1</th>\n",
       "      <td>2010-01-01</td>\n",
       "      <td>5142183973</td>\n",
       "      <td>31.42</td>\n",
       "      <td>0</td>\n",
       "      <td>1</td>\n",
       "      <td>31.42</td>\n",
       "      <td>31.42</td>\n",
       "      <td>31.42</td>\n",
       "      <td>31.42</td>\n",
       "      <td>31.42</td>\n",
       "      <td>...</td>\n",
       "      <td>1.0</td>\n",
       "      <td>1.0</td>\n",
       "      <td>1.0</td>\n",
       "      <td>1.0</td>\n",
       "      <td>1.0</td>\n",
       "      <td>1.0</td>\n",
       "      <td>1.0</td>\n",
       "      <td>1.0</td>\n",
       "      <td>1.0</td>\n",
       "      <td>1.0</td>\n",
       "    </tr>\n",
       "    <tr>\n",
       "      <th>2</th>\n",
       "      <td>2010-01-01</td>\n",
       "      <td>5142131721</td>\n",
       "      <td>178.49</td>\n",
       "      <td>0</td>\n",
       "      <td>1</td>\n",
       "      <td>178.49</td>\n",
       "      <td>178.49</td>\n",
       "      <td>178.49</td>\n",
       "      <td>178.49</td>\n",
       "      <td>178.49</td>\n",
       "      <td>...</td>\n",
       "      <td>1.0</td>\n",
       "      <td>1.0</td>\n",
       "      <td>1.0</td>\n",
       "      <td>1.0</td>\n",
       "      <td>1.0</td>\n",
       "      <td>1.0</td>\n",
       "      <td>1.0</td>\n",
       "      <td>1.0</td>\n",
       "      <td>1.0</td>\n",
       "      <td>1.0</td>\n",
       "    </tr>\n",
       "    <tr>\n",
       "      <th>3</th>\n",
       "      <td>2010-01-01</td>\n",
       "      <td>5142148452</td>\n",
       "      <td>3.62</td>\n",
       "      <td>0</td>\n",
       "      <td>1</td>\n",
       "      <td>3.62</td>\n",
       "      <td>3.62</td>\n",
       "      <td>3.62</td>\n",
       "      <td>3.62</td>\n",
       "      <td>3.62</td>\n",
       "      <td>...</td>\n",
       "      <td>1.0</td>\n",
       "      <td>1.0</td>\n",
       "      <td>1.0</td>\n",
       "      <td>1.0</td>\n",
       "      <td>1.0</td>\n",
       "      <td>1.0</td>\n",
       "      <td>1.0</td>\n",
       "      <td>1.0</td>\n",
       "      <td>1.0</td>\n",
       "      <td>1.0</td>\n",
       "    </tr>\n",
       "    <tr>\n",
       "      <th>4</th>\n",
       "      <td>2010-01-01</td>\n",
       "      <td>5142190439</td>\n",
       "      <td>3.62</td>\n",
       "      <td>0</td>\n",
       "      <td>2</td>\n",
       "      <td>3.62</td>\n",
       "      <td>3.62</td>\n",
       "      <td>3.62</td>\n",
       "      <td>3.62</td>\n",
       "      <td>3.62</td>\n",
       "      <td>...</td>\n",
       "      <td>1.0</td>\n",
       "      <td>0.5</td>\n",
       "      <td>1.0</td>\n",
       "      <td>1.0</td>\n",
       "      <td>1.0</td>\n",
       "      <td>0.5</td>\n",
       "      <td>1.0</td>\n",
       "      <td>1.0</td>\n",
       "      <td>1.0</td>\n",
       "      <td>0.5</td>\n",
       "    </tr>\n",
       "  </tbody>\n",
       "</table>\n",
       "<p>5 rows × 53 columns</p>\n",
       "</div>"
      ],
      "text/plain": [
       "        Date     Cardnum  Amount  Fraud  order  Amount_avg_card_1  \\\n",
       "0 2010-01-01  5142190439    3.62      0      1               3.62   \n",
       "1 2010-01-01  5142183973   31.42      0      1              31.42   \n",
       "2 2010-01-01  5142131721  178.49      0      1             178.49   \n",
       "3 2010-01-01  5142148452    3.62      0      1               3.62   \n",
       "4 2010-01-01  5142190439    3.62      0      2               3.62   \n",
       "\n",
       "   Amount_avg_card_3  Amount_avg_card_7  Amount_avg_card_14  \\\n",
       "0               3.62               3.62                3.62   \n",
       "1              31.42              31.42               31.42   \n",
       "2             178.49             178.49              178.49   \n",
       "3               3.62               3.62                3.62   \n",
       "4               3.62               3.62                3.62   \n",
       "\n",
       "   Amount_avg_card_30    ...      qame_cm_7  qas_cm_7  qaa_cm_14  qam_cm_14  \\\n",
       "0                3.62    ...            1.0       1.0        1.0        1.0   \n",
       "1               31.42    ...            1.0       1.0        1.0        1.0   \n",
       "2              178.49    ...            1.0       1.0        1.0        1.0   \n",
       "3                3.62    ...            1.0       1.0        1.0        1.0   \n",
       "4                3.62    ...            1.0       0.5        1.0        1.0   \n",
       "\n",
       "   qame_cm_14  qas_cm_14  qaa_cm_30  qam_cm_30  qame_cm_30  qas_cm_30  \n",
       "0         1.0        1.0        1.0        1.0         1.0        1.0  \n",
       "1         1.0        1.0        1.0        1.0         1.0        1.0  \n",
       "2         1.0        1.0        1.0        1.0         1.0        1.0  \n",
       "3         1.0        1.0        1.0        1.0         1.0        1.0  \n",
       "4         1.0        0.5        1.0        1.0         1.0        0.5  \n",
       "\n",
       "[5 rows x 53 columns]"
      ]
     },
     "execution_count": 109,
     "metadata": {},
     "output_type": "execute_result"
    }
   ],
   "source": [
    "merged_data_card.head()"
   ]
  },
  {
   "cell_type": "code",
   "execution_count": 110,
   "metadata": {},
   "outputs": [
    {
     "data": {
      "text/html": [
       "<div>\n",
       "<style scoped>\n",
       "    .dataframe tbody tr th:only-of-type {\n",
       "        vertical-align: middle;\n",
       "    }\n",
       "\n",
       "    .dataframe tbody tr th {\n",
       "        vertical-align: top;\n",
       "    }\n",
       "\n",
       "    .dataframe thead th {\n",
       "        text-align: right;\n",
       "    }\n",
       "</style>\n",
       "<table border=\"1\" class=\"dataframe\">\n",
       "  <thead>\n",
       "    <tr style=\"text-align: right;\">\n",
       "      <th></th>\n",
       "      <th>Date</th>\n",
       "      <th>Merchnum</th>\n",
       "      <th>Amount</th>\n",
       "      <th>Fraud</th>\n",
       "      <th>order</th>\n",
       "      <th>Amount_avg_merchant_1</th>\n",
       "      <th>Amount_avg_merchant_3</th>\n",
       "      <th>Amount_avg_merchant_7</th>\n",
       "      <th>Amount_avg_merchant_14</th>\n",
       "      <th>Amount_avg_merchant_30</th>\n",
       "      <th>...</th>\n",
       "      <th>qame_cm_7</th>\n",
       "      <th>qas_cm_7</th>\n",
       "      <th>qaa_cm_14</th>\n",
       "      <th>qam_cm_14</th>\n",
       "      <th>qame_cm_14</th>\n",
       "      <th>qas_cm_14</th>\n",
       "      <th>qaa_cm_30</th>\n",
       "      <th>qam_cm_30</th>\n",
       "      <th>qame_cm_30</th>\n",
       "      <th>qas_cm_30</th>\n",
       "    </tr>\n",
       "  </thead>\n",
       "  <tbody>\n",
       "    <tr>\n",
       "      <th>0</th>\n",
       "      <td>2010-01-01</td>\n",
       "      <td>5509006296254</td>\n",
       "      <td>3.62</td>\n",
       "      <td>0</td>\n",
       "      <td>1</td>\n",
       "      <td>3.62</td>\n",
       "      <td>3.62</td>\n",
       "      <td>3.62</td>\n",
       "      <td>3.62</td>\n",
       "      <td>3.62</td>\n",
       "      <td>...</td>\n",
       "      <td>1.0</td>\n",
       "      <td>1.000000</td>\n",
       "      <td>1.0</td>\n",
       "      <td>1.0</td>\n",
       "      <td>1.0</td>\n",
       "      <td>1.000000</td>\n",
       "      <td>1.0</td>\n",
       "      <td>1.0</td>\n",
       "      <td>1.0</td>\n",
       "      <td>1.000000</td>\n",
       "    </tr>\n",
       "    <tr>\n",
       "      <th>1</th>\n",
       "      <td>2010-01-01</td>\n",
       "      <td>61003026333</td>\n",
       "      <td>31.42</td>\n",
       "      <td>0</td>\n",
       "      <td>1</td>\n",
       "      <td>31.42</td>\n",
       "      <td>31.42</td>\n",
       "      <td>31.42</td>\n",
       "      <td>31.42</td>\n",
       "      <td>31.42</td>\n",
       "      <td>...</td>\n",
       "      <td>1.0</td>\n",
       "      <td>1.000000</td>\n",
       "      <td>1.0</td>\n",
       "      <td>1.0</td>\n",
       "      <td>1.0</td>\n",
       "      <td>1.000000</td>\n",
       "      <td>1.0</td>\n",
       "      <td>1.0</td>\n",
       "      <td>1.0</td>\n",
       "      <td>1.000000</td>\n",
       "    </tr>\n",
       "    <tr>\n",
       "      <th>2</th>\n",
       "      <td>2010-01-01</td>\n",
       "      <td>4503082993600</td>\n",
       "      <td>178.49</td>\n",
       "      <td>0</td>\n",
       "      <td>1</td>\n",
       "      <td>178.49</td>\n",
       "      <td>178.49</td>\n",
       "      <td>178.49</td>\n",
       "      <td>178.49</td>\n",
       "      <td>178.49</td>\n",
       "      <td>...</td>\n",
       "      <td>1.0</td>\n",
       "      <td>1.000000</td>\n",
       "      <td>1.0</td>\n",
       "      <td>1.0</td>\n",
       "      <td>1.0</td>\n",
       "      <td>1.000000</td>\n",
       "      <td>1.0</td>\n",
       "      <td>1.0</td>\n",
       "      <td>1.0</td>\n",
       "      <td>1.000000</td>\n",
       "    </tr>\n",
       "    <tr>\n",
       "      <th>3</th>\n",
       "      <td>2010-01-01</td>\n",
       "      <td>5509006296254</td>\n",
       "      <td>3.62</td>\n",
       "      <td>0</td>\n",
       "      <td>2</td>\n",
       "      <td>3.62</td>\n",
       "      <td>3.62</td>\n",
       "      <td>3.62</td>\n",
       "      <td>3.62</td>\n",
       "      <td>3.62</td>\n",
       "      <td>...</td>\n",
       "      <td>1.0</td>\n",
       "      <td>0.500000</td>\n",
       "      <td>1.0</td>\n",
       "      <td>1.0</td>\n",
       "      <td>1.0</td>\n",
       "      <td>0.500000</td>\n",
       "      <td>1.0</td>\n",
       "      <td>1.0</td>\n",
       "      <td>1.0</td>\n",
       "      <td>0.500000</td>\n",
       "    </tr>\n",
       "    <tr>\n",
       "      <th>4</th>\n",
       "      <td>2010-01-01</td>\n",
       "      <td>5509006296254</td>\n",
       "      <td>3.62</td>\n",
       "      <td>0</td>\n",
       "      <td>3</td>\n",
       "      <td>3.62</td>\n",
       "      <td>3.62</td>\n",
       "      <td>3.62</td>\n",
       "      <td>3.62</td>\n",
       "      <td>3.62</td>\n",
       "      <td>...</td>\n",
       "      <td>1.0</td>\n",
       "      <td>0.333333</td>\n",
       "      <td>1.0</td>\n",
       "      <td>1.0</td>\n",
       "      <td>1.0</td>\n",
       "      <td>0.333333</td>\n",
       "      <td>1.0</td>\n",
       "      <td>1.0</td>\n",
       "      <td>1.0</td>\n",
       "      <td>0.333333</td>\n",
       "    </tr>\n",
       "  </tbody>\n",
       "</table>\n",
       "<p>5 rows × 53 columns</p>\n",
       "</div>"
      ],
      "text/plain": [
       "        Date       Merchnum  Amount  Fraud  order  Amount_avg_merchant_1  \\\n",
       "0 2010-01-01  5509006296254    3.62      0      1                   3.62   \n",
       "1 2010-01-01    61003026333   31.42      0      1                  31.42   \n",
       "2 2010-01-01  4503082993600  178.49      0      1                 178.49   \n",
       "3 2010-01-01  5509006296254    3.62      0      2                   3.62   \n",
       "4 2010-01-01  5509006296254    3.62      0      3                   3.62   \n",
       "\n",
       "   Amount_avg_merchant_3  Amount_avg_merchant_7  Amount_avg_merchant_14  \\\n",
       "0                   3.62                   3.62                    3.62   \n",
       "1                  31.42                  31.42                   31.42   \n",
       "2                 178.49                 178.49                  178.49   \n",
       "3                   3.62                   3.62                    3.62   \n",
       "4                   3.62                   3.62                    3.62   \n",
       "\n",
       "   Amount_avg_merchant_30    ...      qame_cm_7  qas_cm_7  qaa_cm_14  \\\n",
       "0                    3.62    ...            1.0  1.000000        1.0   \n",
       "1                   31.42    ...            1.0  1.000000        1.0   \n",
       "2                  178.49    ...            1.0  1.000000        1.0   \n",
       "3                    3.62    ...            1.0  0.500000        1.0   \n",
       "4                    3.62    ...            1.0  0.333333        1.0   \n",
       "\n",
       "   qam_cm_14  qame_cm_14  qas_cm_14  qaa_cm_30  qam_cm_30  qame_cm_30  \\\n",
       "0        1.0         1.0   1.000000        1.0        1.0         1.0   \n",
       "1        1.0         1.0   1.000000        1.0        1.0         1.0   \n",
       "2        1.0         1.0   1.000000        1.0        1.0         1.0   \n",
       "3        1.0         1.0   0.500000        1.0        1.0         1.0   \n",
       "4        1.0         1.0   0.333333        1.0        1.0         1.0   \n",
       "\n",
       "   qas_cm_30  \n",
       "0   1.000000  \n",
       "1   1.000000  \n",
       "2   1.000000  \n",
       "3   0.500000  \n",
       "4   0.333333  \n",
       "\n",
       "[5 rows x 53 columns]"
      ]
     },
     "execution_count": 110,
     "metadata": {},
     "output_type": "execute_result"
    }
   ],
   "source": [
    "merged_data_merchant.head()"
   ]
  },
  {
   "cell_type": "code",
   "execution_count": 111,
   "metadata": {},
   "outputs": [
    {
     "data": {
      "text/html": [
       "<div>\n",
       "<style scoped>\n",
       "    .dataframe tbody tr th:only-of-type {\n",
       "        vertical-align: middle;\n",
       "    }\n",
       "\n",
       "    .dataframe tbody tr th {\n",
       "        vertical-align: top;\n",
       "    }\n",
       "\n",
       "    .dataframe thead th {\n",
       "        text-align: right;\n",
       "    }\n",
       "</style>\n",
       "<table border=\"1\" class=\"dataframe\">\n",
       "  <thead>\n",
       "    <tr style=\"text-align: right;\">\n",
       "      <th></th>\n",
       "      <th>Date</th>\n",
       "      <th>Cardnum</th>\n",
       "      <th>Merchnum</th>\n",
       "      <th>Amount</th>\n",
       "      <th>Fraud</th>\n",
       "      <th>order</th>\n",
       "      <th>Amount_avg_card_merchant_1</th>\n",
       "      <th>Amount_avg_card_merchant_3</th>\n",
       "      <th>Amount_avg_card_merchant_7</th>\n",
       "      <th>Amount_avg_card_merchant_14</th>\n",
       "      <th>...</th>\n",
       "      <th>qame_cm_7</th>\n",
       "      <th>qas_cm_7</th>\n",
       "      <th>qaa_cm_14</th>\n",
       "      <th>qam_cm_14</th>\n",
       "      <th>qame_cm_14</th>\n",
       "      <th>qas_cm_14</th>\n",
       "      <th>qaa_cm_30</th>\n",
       "      <th>qam_cm_30</th>\n",
       "      <th>qame_cm_30</th>\n",
       "      <th>qas_cm_30</th>\n",
       "    </tr>\n",
       "  </thead>\n",
       "  <tbody>\n",
       "    <tr>\n",
       "      <th>0</th>\n",
       "      <td>2010-01-01</td>\n",
       "      <td>5142190439</td>\n",
       "      <td>5509006296254</td>\n",
       "      <td>3.62</td>\n",
       "      <td>0</td>\n",
       "      <td>1</td>\n",
       "      <td>3.62</td>\n",
       "      <td>3.62</td>\n",
       "      <td>3.62</td>\n",
       "      <td>3.62</td>\n",
       "      <td>...</td>\n",
       "      <td>1.0</td>\n",
       "      <td>1.0</td>\n",
       "      <td>1.0</td>\n",
       "      <td>1.0</td>\n",
       "      <td>1.0</td>\n",
       "      <td>1.0</td>\n",
       "      <td>1.0</td>\n",
       "      <td>1.0</td>\n",
       "      <td>1.0</td>\n",
       "      <td>1.0</td>\n",
       "    </tr>\n",
       "    <tr>\n",
       "      <th>1</th>\n",
       "      <td>2010-01-01</td>\n",
       "      <td>5142183973</td>\n",
       "      <td>61003026333</td>\n",
       "      <td>31.42</td>\n",
       "      <td>0</td>\n",
       "      <td>1</td>\n",
       "      <td>31.42</td>\n",
       "      <td>31.42</td>\n",
       "      <td>31.42</td>\n",
       "      <td>31.42</td>\n",
       "      <td>...</td>\n",
       "      <td>1.0</td>\n",
       "      <td>1.0</td>\n",
       "      <td>1.0</td>\n",
       "      <td>1.0</td>\n",
       "      <td>1.0</td>\n",
       "      <td>1.0</td>\n",
       "      <td>1.0</td>\n",
       "      <td>1.0</td>\n",
       "      <td>1.0</td>\n",
       "      <td>1.0</td>\n",
       "    </tr>\n",
       "    <tr>\n",
       "      <th>2</th>\n",
       "      <td>2010-01-01</td>\n",
       "      <td>5142131721</td>\n",
       "      <td>4503082993600</td>\n",
       "      <td>178.49</td>\n",
       "      <td>0</td>\n",
       "      <td>1</td>\n",
       "      <td>178.49</td>\n",
       "      <td>178.49</td>\n",
       "      <td>178.49</td>\n",
       "      <td>178.49</td>\n",
       "      <td>...</td>\n",
       "      <td>1.0</td>\n",
       "      <td>1.0</td>\n",
       "      <td>1.0</td>\n",
       "      <td>1.0</td>\n",
       "      <td>1.0</td>\n",
       "      <td>1.0</td>\n",
       "      <td>1.0</td>\n",
       "      <td>1.0</td>\n",
       "      <td>1.0</td>\n",
       "      <td>1.0</td>\n",
       "    </tr>\n",
       "    <tr>\n",
       "      <th>3</th>\n",
       "      <td>2010-01-01</td>\n",
       "      <td>5142148452</td>\n",
       "      <td>5509006296254</td>\n",
       "      <td>3.62</td>\n",
       "      <td>0</td>\n",
       "      <td>1</td>\n",
       "      <td>3.62</td>\n",
       "      <td>3.62</td>\n",
       "      <td>3.62</td>\n",
       "      <td>3.62</td>\n",
       "      <td>...</td>\n",
       "      <td>1.0</td>\n",
       "      <td>1.0</td>\n",
       "      <td>1.0</td>\n",
       "      <td>1.0</td>\n",
       "      <td>1.0</td>\n",
       "      <td>1.0</td>\n",
       "      <td>1.0</td>\n",
       "      <td>1.0</td>\n",
       "      <td>1.0</td>\n",
       "      <td>1.0</td>\n",
       "    </tr>\n",
       "    <tr>\n",
       "      <th>4</th>\n",
       "      <td>2010-01-01</td>\n",
       "      <td>5142190439</td>\n",
       "      <td>5509006296254</td>\n",
       "      <td>3.62</td>\n",
       "      <td>0</td>\n",
       "      <td>2</td>\n",
       "      <td>3.62</td>\n",
       "      <td>3.62</td>\n",
       "      <td>3.62</td>\n",
       "      <td>3.62</td>\n",
       "      <td>...</td>\n",
       "      <td>1.0</td>\n",
       "      <td>0.5</td>\n",
       "      <td>1.0</td>\n",
       "      <td>1.0</td>\n",
       "      <td>1.0</td>\n",
       "      <td>0.5</td>\n",
       "      <td>1.0</td>\n",
       "      <td>1.0</td>\n",
       "      <td>1.0</td>\n",
       "      <td>0.5</td>\n",
       "    </tr>\n",
       "  </tbody>\n",
       "</table>\n",
       "<p>5 rows × 54 columns</p>\n",
       "</div>"
      ],
      "text/plain": [
       "        Date     Cardnum       Merchnum  Amount  Fraud  order  \\\n",
       "0 2010-01-01  5142190439  5509006296254    3.62      0      1   \n",
       "1 2010-01-01  5142183973    61003026333   31.42      0      1   \n",
       "2 2010-01-01  5142131721  4503082993600  178.49      0      1   \n",
       "3 2010-01-01  5142148452  5509006296254    3.62      0      1   \n",
       "4 2010-01-01  5142190439  5509006296254    3.62      0      2   \n",
       "\n",
       "   Amount_avg_card_merchant_1  Amount_avg_card_merchant_3  \\\n",
       "0                        3.62                        3.62   \n",
       "1                       31.42                       31.42   \n",
       "2                      178.49                      178.49   \n",
       "3                        3.62                        3.62   \n",
       "4                        3.62                        3.62   \n",
       "\n",
       "   Amount_avg_card_merchant_7  Amount_avg_card_merchant_14    ...      \\\n",
       "0                        3.62                         3.62    ...       \n",
       "1                       31.42                        31.42    ...       \n",
       "2                      178.49                       178.49    ...       \n",
       "3                        3.62                         3.62    ...       \n",
       "4                        3.62                         3.62    ...       \n",
       "\n",
       "   qame_cm_7  qas_cm_7  qaa_cm_14  qam_cm_14  qame_cm_14  qas_cm_14  \\\n",
       "0        1.0       1.0        1.0        1.0         1.0        1.0   \n",
       "1        1.0       1.0        1.0        1.0         1.0        1.0   \n",
       "2        1.0       1.0        1.0        1.0         1.0        1.0   \n",
       "3        1.0       1.0        1.0        1.0         1.0        1.0   \n",
       "4        1.0       0.5        1.0        1.0         1.0        0.5   \n",
       "\n",
       "   qaa_cm_30  qam_cm_30  qame_cm_30  qas_cm_30  \n",
       "0        1.0        1.0         1.0        1.0  \n",
       "1        1.0        1.0         1.0        1.0  \n",
       "2        1.0        1.0         1.0        1.0  \n",
       "3        1.0        1.0         1.0        1.0  \n",
       "4        1.0        1.0         1.0        0.5  \n",
       "\n",
       "[5 rows x 54 columns]"
      ]
     },
     "execution_count": 111,
     "metadata": {},
     "output_type": "execute_result"
    }
   ],
   "source": [
    "merged_data_card_merchant.head()"
   ]
  },
  {
   "cell_type": "code",
   "execution_count": 112,
   "metadata": {},
   "outputs": [
    {
     "data": {
      "text/html": [
       "<div>\n",
       "<style scoped>\n",
       "    .dataframe tbody tr th:only-of-type {\n",
       "        vertical-align: middle;\n",
       "    }\n",
       "\n",
       "    .dataframe tbody tr th {\n",
       "        vertical-align: top;\n",
       "    }\n",
       "\n",
       "    .dataframe thead th {\n",
       "        text-align: right;\n",
       "    }\n",
       "</style>\n",
       "<table border=\"1\" class=\"dataframe\">\n",
       "  <thead>\n",
       "    <tr style=\"text-align: right;\">\n",
       "      <th></th>\n",
       "      <th>Date</th>\n",
       "      <th>Cardnum</th>\n",
       "      <th>Merch zip</th>\n",
       "      <th>Amount</th>\n",
       "      <th>Fraud</th>\n",
       "      <th>order</th>\n",
       "      <th>Amount_avg_card_zip_1</th>\n",
       "      <th>Amount_avg_card_zip_3</th>\n",
       "      <th>Amount_avg_card_zip_7</th>\n",
       "      <th>Amount_avg_card_zip_14</th>\n",
       "      <th>...</th>\n",
       "      <th>qame_cm_7</th>\n",
       "      <th>qas_cm_7</th>\n",
       "      <th>qaa_cm_14</th>\n",
       "      <th>qam_cm_14</th>\n",
       "      <th>qame_cm_14</th>\n",
       "      <th>qas_cm_14</th>\n",
       "      <th>qaa_cm_30</th>\n",
       "      <th>qam_cm_30</th>\n",
       "      <th>qame_cm_30</th>\n",
       "      <th>qas_cm_30</th>\n",
       "    </tr>\n",
       "  </thead>\n",
       "  <tbody>\n",
       "    <tr>\n",
       "      <th>0</th>\n",
       "      <td>2010-01-01</td>\n",
       "      <td>5142190439</td>\n",
       "      <td>38118.0</td>\n",
       "      <td>3.62</td>\n",
       "      <td>0</td>\n",
       "      <td>1</td>\n",
       "      <td>3.62</td>\n",
       "      <td>3.62</td>\n",
       "      <td>3.62</td>\n",
       "      <td>3.62</td>\n",
       "      <td>...</td>\n",
       "      <td>1.0</td>\n",
       "      <td>1.0</td>\n",
       "      <td>1.0</td>\n",
       "      <td>1.0</td>\n",
       "      <td>1.0</td>\n",
       "      <td>1.0</td>\n",
       "      <td>1.0</td>\n",
       "      <td>1.0</td>\n",
       "      <td>1.0</td>\n",
       "      <td>1.0</td>\n",
       "    </tr>\n",
       "    <tr>\n",
       "      <th>1</th>\n",
       "      <td>2010-01-01</td>\n",
       "      <td>5142183973</td>\n",
       "      <td>1803.0</td>\n",
       "      <td>31.42</td>\n",
       "      <td>0</td>\n",
       "      <td>1</td>\n",
       "      <td>31.42</td>\n",
       "      <td>31.42</td>\n",
       "      <td>31.42</td>\n",
       "      <td>31.42</td>\n",
       "      <td>...</td>\n",
       "      <td>1.0</td>\n",
       "      <td>1.0</td>\n",
       "      <td>1.0</td>\n",
       "      <td>1.0</td>\n",
       "      <td>1.0</td>\n",
       "      <td>1.0</td>\n",
       "      <td>1.0</td>\n",
       "      <td>1.0</td>\n",
       "      <td>1.0</td>\n",
       "      <td>1.0</td>\n",
       "    </tr>\n",
       "    <tr>\n",
       "      <th>2</th>\n",
       "      <td>2010-01-01</td>\n",
       "      <td>5142131721</td>\n",
       "      <td>20706.0</td>\n",
       "      <td>178.49</td>\n",
       "      <td>0</td>\n",
       "      <td>1</td>\n",
       "      <td>178.49</td>\n",
       "      <td>178.49</td>\n",
       "      <td>178.49</td>\n",
       "      <td>178.49</td>\n",
       "      <td>...</td>\n",
       "      <td>1.0</td>\n",
       "      <td>1.0</td>\n",
       "      <td>1.0</td>\n",
       "      <td>1.0</td>\n",
       "      <td>1.0</td>\n",
       "      <td>1.0</td>\n",
       "      <td>1.0</td>\n",
       "      <td>1.0</td>\n",
       "      <td>1.0</td>\n",
       "      <td>1.0</td>\n",
       "    </tr>\n",
       "    <tr>\n",
       "      <th>3</th>\n",
       "      <td>2010-01-01</td>\n",
       "      <td>5142148452</td>\n",
       "      <td>38118.0</td>\n",
       "      <td>3.62</td>\n",
       "      <td>0</td>\n",
       "      <td>1</td>\n",
       "      <td>3.62</td>\n",
       "      <td>3.62</td>\n",
       "      <td>3.62</td>\n",
       "      <td>3.62</td>\n",
       "      <td>...</td>\n",
       "      <td>1.0</td>\n",
       "      <td>1.0</td>\n",
       "      <td>1.0</td>\n",
       "      <td>1.0</td>\n",
       "      <td>1.0</td>\n",
       "      <td>1.0</td>\n",
       "      <td>1.0</td>\n",
       "      <td>1.0</td>\n",
       "      <td>1.0</td>\n",
       "      <td>1.0</td>\n",
       "    </tr>\n",
       "    <tr>\n",
       "      <th>4</th>\n",
       "      <td>2010-01-01</td>\n",
       "      <td>5142190439</td>\n",
       "      <td>38118.0</td>\n",
       "      <td>3.62</td>\n",
       "      <td>0</td>\n",
       "      <td>2</td>\n",
       "      <td>3.62</td>\n",
       "      <td>3.62</td>\n",
       "      <td>3.62</td>\n",
       "      <td>3.62</td>\n",
       "      <td>...</td>\n",
       "      <td>1.0</td>\n",
       "      <td>0.5</td>\n",
       "      <td>1.0</td>\n",
       "      <td>1.0</td>\n",
       "      <td>1.0</td>\n",
       "      <td>0.5</td>\n",
       "      <td>1.0</td>\n",
       "      <td>1.0</td>\n",
       "      <td>1.0</td>\n",
       "      <td>0.5</td>\n",
       "    </tr>\n",
       "  </tbody>\n",
       "</table>\n",
       "<p>5 rows × 54 columns</p>\n",
       "</div>"
      ],
      "text/plain": [
       "        Date     Cardnum  Merch zip  Amount  Fraud  order  \\\n",
       "0 2010-01-01  5142190439    38118.0    3.62      0      1   \n",
       "1 2010-01-01  5142183973     1803.0   31.42      0      1   \n",
       "2 2010-01-01  5142131721    20706.0  178.49      0      1   \n",
       "3 2010-01-01  5142148452    38118.0    3.62      0      1   \n",
       "4 2010-01-01  5142190439    38118.0    3.62      0      2   \n",
       "\n",
       "   Amount_avg_card_zip_1  Amount_avg_card_zip_3  Amount_avg_card_zip_7  \\\n",
       "0                   3.62                   3.62                   3.62   \n",
       "1                  31.42                  31.42                  31.42   \n",
       "2                 178.49                 178.49                 178.49   \n",
       "3                   3.62                   3.62                   3.62   \n",
       "4                   3.62                   3.62                   3.62   \n",
       "\n",
       "   Amount_avg_card_zip_14    ...      qame_cm_7  qas_cm_7  qaa_cm_14  \\\n",
       "0                    3.62    ...            1.0       1.0        1.0   \n",
       "1                   31.42    ...            1.0       1.0        1.0   \n",
       "2                  178.49    ...            1.0       1.0        1.0   \n",
       "3                    3.62    ...            1.0       1.0        1.0   \n",
       "4                    3.62    ...            1.0       0.5        1.0   \n",
       "\n",
       "   qam_cm_14  qame_cm_14  qas_cm_14  qaa_cm_30  qam_cm_30  qame_cm_30  \\\n",
       "0        1.0         1.0        1.0        1.0        1.0         1.0   \n",
       "1        1.0         1.0        1.0        1.0        1.0         1.0   \n",
       "2        1.0         1.0        1.0        1.0        1.0         1.0   \n",
       "3        1.0         1.0        1.0        1.0        1.0         1.0   \n",
       "4        1.0         1.0        0.5        1.0        1.0         1.0   \n",
       "\n",
       "   qas_cm_30  \n",
       "0        1.0  \n",
       "1        1.0  \n",
       "2        1.0  \n",
       "3        1.0  \n",
       "4        0.5  \n",
       "\n",
       "[5 rows x 54 columns]"
      ]
     },
     "execution_count": 112,
     "metadata": {},
     "output_type": "execute_result"
    }
   ],
   "source": [
    "merged_data_card_zip.head()"
   ]
  },
  {
   "cell_type": "code",
   "execution_count": 113,
   "metadata": {},
   "outputs": [
    {
     "data": {
      "text/html": [
       "<div>\n",
       "<style scoped>\n",
       "    .dataframe tbody tr th:only-of-type {\n",
       "        vertical-align: middle;\n",
       "    }\n",
       "\n",
       "    .dataframe tbody tr th {\n",
       "        vertical-align: top;\n",
       "    }\n",
       "\n",
       "    .dataframe thead th {\n",
       "        text-align: right;\n",
       "    }\n",
       "</style>\n",
       "<table border=\"1\" class=\"dataframe\">\n",
       "  <thead>\n",
       "    <tr style=\"text-align: right;\">\n",
       "      <th></th>\n",
       "      <th>Date</th>\n",
       "      <th>Cardnum</th>\n",
       "      <th>Merch state</th>\n",
       "      <th>Amount</th>\n",
       "      <th>Fraud</th>\n",
       "      <th>order</th>\n",
       "      <th>Amount_avg_card_state_1</th>\n",
       "      <th>Amount_avg_card_state_3</th>\n",
       "      <th>Amount_avg_card_state_7</th>\n",
       "      <th>Amount_avg_card_state_14</th>\n",
       "      <th>...</th>\n",
       "      <th>qame_cm_7</th>\n",
       "      <th>qas_cm_7</th>\n",
       "      <th>qaa_cm_14</th>\n",
       "      <th>qam_cm_14</th>\n",
       "      <th>qame_cm_14</th>\n",
       "      <th>qas_cm_14</th>\n",
       "      <th>qaa_cm_30</th>\n",
       "      <th>qam_cm_30</th>\n",
       "      <th>qame_cm_30</th>\n",
       "      <th>qas_cm_30</th>\n",
       "    </tr>\n",
       "  </thead>\n",
       "  <tbody>\n",
       "    <tr>\n",
       "      <th>0</th>\n",
       "      <td>2010-01-01</td>\n",
       "      <td>5142190439</td>\n",
       "      <td>TN</td>\n",
       "      <td>3.62</td>\n",
       "      <td>0</td>\n",
       "      <td>1</td>\n",
       "      <td>3.62</td>\n",
       "      <td>3.62</td>\n",
       "      <td>3.62</td>\n",
       "      <td>3.62</td>\n",
       "      <td>...</td>\n",
       "      <td>1.0</td>\n",
       "      <td>1.0</td>\n",
       "      <td>1.0</td>\n",
       "      <td>1.0</td>\n",
       "      <td>1.0</td>\n",
       "      <td>1.0</td>\n",
       "      <td>1.0</td>\n",
       "      <td>1.0</td>\n",
       "      <td>1.0</td>\n",
       "      <td>1.0</td>\n",
       "    </tr>\n",
       "    <tr>\n",
       "      <th>1</th>\n",
       "      <td>2010-01-01</td>\n",
       "      <td>5142183973</td>\n",
       "      <td>MA</td>\n",
       "      <td>31.42</td>\n",
       "      <td>0</td>\n",
       "      <td>1</td>\n",
       "      <td>31.42</td>\n",
       "      <td>31.42</td>\n",
       "      <td>31.42</td>\n",
       "      <td>31.42</td>\n",
       "      <td>...</td>\n",
       "      <td>1.0</td>\n",
       "      <td>1.0</td>\n",
       "      <td>1.0</td>\n",
       "      <td>1.0</td>\n",
       "      <td>1.0</td>\n",
       "      <td>1.0</td>\n",
       "      <td>1.0</td>\n",
       "      <td>1.0</td>\n",
       "      <td>1.0</td>\n",
       "      <td>1.0</td>\n",
       "    </tr>\n",
       "    <tr>\n",
       "      <th>2</th>\n",
       "      <td>2010-01-01</td>\n",
       "      <td>5142131721</td>\n",
       "      <td>MD</td>\n",
       "      <td>178.49</td>\n",
       "      <td>0</td>\n",
       "      <td>1</td>\n",
       "      <td>178.49</td>\n",
       "      <td>178.49</td>\n",
       "      <td>178.49</td>\n",
       "      <td>178.49</td>\n",
       "      <td>...</td>\n",
       "      <td>1.0</td>\n",
       "      <td>1.0</td>\n",
       "      <td>1.0</td>\n",
       "      <td>1.0</td>\n",
       "      <td>1.0</td>\n",
       "      <td>1.0</td>\n",
       "      <td>1.0</td>\n",
       "      <td>1.0</td>\n",
       "      <td>1.0</td>\n",
       "      <td>1.0</td>\n",
       "    </tr>\n",
       "    <tr>\n",
       "      <th>3</th>\n",
       "      <td>2010-01-01</td>\n",
       "      <td>5142148452</td>\n",
       "      <td>TN</td>\n",
       "      <td>3.62</td>\n",
       "      <td>0</td>\n",
       "      <td>1</td>\n",
       "      <td>3.62</td>\n",
       "      <td>3.62</td>\n",
       "      <td>3.62</td>\n",
       "      <td>3.62</td>\n",
       "      <td>...</td>\n",
       "      <td>1.0</td>\n",
       "      <td>1.0</td>\n",
       "      <td>1.0</td>\n",
       "      <td>1.0</td>\n",
       "      <td>1.0</td>\n",
       "      <td>1.0</td>\n",
       "      <td>1.0</td>\n",
       "      <td>1.0</td>\n",
       "      <td>1.0</td>\n",
       "      <td>1.0</td>\n",
       "    </tr>\n",
       "    <tr>\n",
       "      <th>4</th>\n",
       "      <td>2010-01-01</td>\n",
       "      <td>5142190439</td>\n",
       "      <td>TN</td>\n",
       "      <td>3.62</td>\n",
       "      <td>0</td>\n",
       "      <td>2</td>\n",
       "      <td>3.62</td>\n",
       "      <td>3.62</td>\n",
       "      <td>3.62</td>\n",
       "      <td>3.62</td>\n",
       "      <td>...</td>\n",
       "      <td>1.0</td>\n",
       "      <td>0.5</td>\n",
       "      <td>1.0</td>\n",
       "      <td>1.0</td>\n",
       "      <td>1.0</td>\n",
       "      <td>0.5</td>\n",
       "      <td>1.0</td>\n",
       "      <td>1.0</td>\n",
       "      <td>1.0</td>\n",
       "      <td>0.5</td>\n",
       "    </tr>\n",
       "  </tbody>\n",
       "</table>\n",
       "<p>5 rows × 54 columns</p>\n",
       "</div>"
      ],
      "text/plain": [
       "        Date     Cardnum Merch state  Amount  Fraud  order  \\\n",
       "0 2010-01-01  5142190439          TN    3.62      0      1   \n",
       "1 2010-01-01  5142183973          MA   31.42      0      1   \n",
       "2 2010-01-01  5142131721          MD  178.49      0      1   \n",
       "3 2010-01-01  5142148452          TN    3.62      0      1   \n",
       "4 2010-01-01  5142190439          TN    3.62      0      2   \n",
       "\n",
       "   Amount_avg_card_state_1  Amount_avg_card_state_3  Amount_avg_card_state_7  \\\n",
       "0                     3.62                     3.62                     3.62   \n",
       "1                    31.42                    31.42                    31.42   \n",
       "2                   178.49                   178.49                   178.49   \n",
       "3                     3.62                     3.62                     3.62   \n",
       "4                     3.62                     3.62                     3.62   \n",
       "\n",
       "   Amount_avg_card_state_14    ...      qame_cm_7  qas_cm_7  qaa_cm_14  \\\n",
       "0                      3.62    ...            1.0       1.0        1.0   \n",
       "1                     31.42    ...            1.0       1.0        1.0   \n",
       "2                    178.49    ...            1.0       1.0        1.0   \n",
       "3                      3.62    ...            1.0       1.0        1.0   \n",
       "4                      3.62    ...            1.0       0.5        1.0   \n",
       "\n",
       "   qam_cm_14  qame_cm_14  qas_cm_14  qaa_cm_30  qam_cm_30  qame_cm_30  \\\n",
       "0        1.0         1.0        1.0        1.0        1.0         1.0   \n",
       "1        1.0         1.0        1.0        1.0        1.0         1.0   \n",
       "2        1.0         1.0        1.0        1.0        1.0         1.0   \n",
       "3        1.0         1.0        1.0        1.0        1.0         1.0   \n",
       "4        1.0         1.0        0.5        1.0        1.0         1.0   \n",
       "\n",
       "   qas_cm_30  \n",
       "0        1.0  \n",
       "1        1.0  \n",
       "2        1.0  \n",
       "3        1.0  \n",
       "4        0.5  \n",
       "\n",
       "[5 rows x 54 columns]"
      ]
     },
     "execution_count": 113,
     "metadata": {},
     "output_type": "execute_result"
    }
   ],
   "source": [
    "merged_data_card_state.head()"
   ]
  },
  {
   "cell_type": "code",
   "execution_count": 114,
   "metadata": {},
   "outputs": [],
   "source": [
    "merged_data_card_pure = merged_data_card.iloc[:, 5:]\n",
    "merged_data_merchant_pure = merged_data_merchant.iloc[:, 5:]\n",
    "merged_data_card_merchant_pure = merged_data_card_merchant.iloc[:, 6:]\n",
    "merged_data_card_zip_pure = merged_data_card_zip.iloc[:, 6:]\n",
    "merged_data_card_state_pure = merged_data_card_state.iloc[:, 6:]"
   ]
  },
  {
   "cell_type": "code",
   "execution_count": 119,
   "metadata": {},
   "outputs": [
    {
     "data": {
      "text/plain": [
       "[(83970, 48), (83970, 48), (83970, 48), (83970, 48), (83970, 48)]"
      ]
     },
     "execution_count": 119,
     "metadata": {},
     "output_type": "execute_result"
    }
   ],
   "source": [
    "[merged_data_card_pure.shape, \n",
    "merged_data_merchant_pure.shape,\n",
    "merged_data_card_merchant_pure.shape, \n",
    "merged_data_card_zip_pure.shape,\n",
    "merged_data_card_state_pure.shape]"
   ]
  },
  {
   "cell_type": "code",
   "execution_count": 120,
   "metadata": {},
   "outputs": [],
   "source": [
    "Amount_variables = pd.concat([merged_data_card_pure,\n",
    "                              merged_data_merchant_pure,\n",
    "                              merged_data_card_merchant_pure, \n",
    "                              merged_data_card_zip_pure, \n",
    "                              merged_data_card_state_pure], axis = 1)"
   ]
  },
  {
   "cell_type": "code",
   "execution_count": 121,
   "metadata": {},
   "outputs": [
    {
     "data": {
      "text/plain": [
       "(83970, 240)"
      ]
     },
     "execution_count": 121,
     "metadata": {},
     "output_type": "execute_result"
    }
   ],
   "source": [
    "Amount_variables.shape"
   ]
  },
  {
   "cell_type": "code",
   "execution_count": 122,
   "metadata": {},
   "outputs": [
    {
     "data": {
      "text/html": [
       "<div>\n",
       "<style scoped>\n",
       "    .dataframe tbody tr th:only-of-type {\n",
       "        vertical-align: middle;\n",
       "    }\n",
       "\n",
       "    .dataframe tbody tr th {\n",
       "        vertical-align: top;\n",
       "    }\n",
       "\n",
       "    .dataframe thead th {\n",
       "        text-align: right;\n",
       "    }\n",
       "</style>\n",
       "<table border=\"1\" class=\"dataframe\">\n",
       "  <thead>\n",
       "    <tr style=\"text-align: right;\">\n",
       "      <th></th>\n",
       "      <th>Amount_avg_card_1</th>\n",
       "      <th>Amount_avg_card_3</th>\n",
       "      <th>Amount_avg_card_7</th>\n",
       "      <th>Amount_avg_card_14</th>\n",
       "      <th>Amount_avg_card_30</th>\n",
       "      <th>Amount_max_card_1</th>\n",
       "      <th>Amount_max_card_3</th>\n",
       "      <th>Amount_max_card_7</th>\n",
       "      <th>Amount_max_card_14</th>\n",
       "      <th>Amount_max_card_30</th>\n",
       "      <th>...</th>\n",
       "      <th>qame_cm_7</th>\n",
       "      <th>qas_cm_7</th>\n",
       "      <th>qaa_cm_14</th>\n",
       "      <th>qam_cm_14</th>\n",
       "      <th>qame_cm_14</th>\n",
       "      <th>qas_cm_14</th>\n",
       "      <th>qaa_cm_30</th>\n",
       "      <th>qam_cm_30</th>\n",
       "      <th>qame_cm_30</th>\n",
       "      <th>qas_cm_30</th>\n",
       "    </tr>\n",
       "  </thead>\n",
       "  <tbody>\n",
       "    <tr>\n",
       "      <th>0</th>\n",
       "      <td>3.62</td>\n",
       "      <td>3.62</td>\n",
       "      <td>3.62</td>\n",
       "      <td>3.62</td>\n",
       "      <td>3.62</td>\n",
       "      <td>3.62</td>\n",
       "      <td>3.62</td>\n",
       "      <td>3.62</td>\n",
       "      <td>3.62</td>\n",
       "      <td>3.62</td>\n",
       "      <td>...</td>\n",
       "      <td>1.0</td>\n",
       "      <td>1.0</td>\n",
       "      <td>1.0</td>\n",
       "      <td>1.0</td>\n",
       "      <td>1.0</td>\n",
       "      <td>1.0</td>\n",
       "      <td>1.0</td>\n",
       "      <td>1.0</td>\n",
       "      <td>1.0</td>\n",
       "      <td>1.0</td>\n",
       "    </tr>\n",
       "    <tr>\n",
       "      <th>1</th>\n",
       "      <td>31.42</td>\n",
       "      <td>31.42</td>\n",
       "      <td>31.42</td>\n",
       "      <td>31.42</td>\n",
       "      <td>31.42</td>\n",
       "      <td>31.42</td>\n",
       "      <td>31.42</td>\n",
       "      <td>31.42</td>\n",
       "      <td>31.42</td>\n",
       "      <td>31.42</td>\n",
       "      <td>...</td>\n",
       "      <td>1.0</td>\n",
       "      <td>1.0</td>\n",
       "      <td>1.0</td>\n",
       "      <td>1.0</td>\n",
       "      <td>1.0</td>\n",
       "      <td>1.0</td>\n",
       "      <td>1.0</td>\n",
       "      <td>1.0</td>\n",
       "      <td>1.0</td>\n",
       "      <td>1.0</td>\n",
       "    </tr>\n",
       "    <tr>\n",
       "      <th>2</th>\n",
       "      <td>178.49</td>\n",
       "      <td>178.49</td>\n",
       "      <td>178.49</td>\n",
       "      <td>178.49</td>\n",
       "      <td>178.49</td>\n",
       "      <td>178.49</td>\n",
       "      <td>178.49</td>\n",
       "      <td>178.49</td>\n",
       "      <td>178.49</td>\n",
       "      <td>178.49</td>\n",
       "      <td>...</td>\n",
       "      <td>1.0</td>\n",
       "      <td>1.0</td>\n",
       "      <td>1.0</td>\n",
       "      <td>1.0</td>\n",
       "      <td>1.0</td>\n",
       "      <td>1.0</td>\n",
       "      <td>1.0</td>\n",
       "      <td>1.0</td>\n",
       "      <td>1.0</td>\n",
       "      <td>1.0</td>\n",
       "    </tr>\n",
       "    <tr>\n",
       "      <th>3</th>\n",
       "      <td>3.62</td>\n",
       "      <td>3.62</td>\n",
       "      <td>3.62</td>\n",
       "      <td>3.62</td>\n",
       "      <td>3.62</td>\n",
       "      <td>3.62</td>\n",
       "      <td>3.62</td>\n",
       "      <td>3.62</td>\n",
       "      <td>3.62</td>\n",
       "      <td>3.62</td>\n",
       "      <td>...</td>\n",
       "      <td>1.0</td>\n",
       "      <td>1.0</td>\n",
       "      <td>1.0</td>\n",
       "      <td>1.0</td>\n",
       "      <td>1.0</td>\n",
       "      <td>1.0</td>\n",
       "      <td>1.0</td>\n",
       "      <td>1.0</td>\n",
       "      <td>1.0</td>\n",
       "      <td>1.0</td>\n",
       "    </tr>\n",
       "    <tr>\n",
       "      <th>4</th>\n",
       "      <td>3.62</td>\n",
       "      <td>3.62</td>\n",
       "      <td>3.62</td>\n",
       "      <td>3.62</td>\n",
       "      <td>3.62</td>\n",
       "      <td>3.62</td>\n",
       "      <td>3.62</td>\n",
       "      <td>3.62</td>\n",
       "      <td>3.62</td>\n",
       "      <td>3.62</td>\n",
       "      <td>...</td>\n",
       "      <td>1.0</td>\n",
       "      <td>0.5</td>\n",
       "      <td>1.0</td>\n",
       "      <td>1.0</td>\n",
       "      <td>1.0</td>\n",
       "      <td>0.5</td>\n",
       "      <td>1.0</td>\n",
       "      <td>1.0</td>\n",
       "      <td>1.0</td>\n",
       "      <td>0.5</td>\n",
       "    </tr>\n",
       "  </tbody>\n",
       "</table>\n",
       "<p>5 rows × 240 columns</p>\n",
       "</div>"
      ],
      "text/plain": [
       "   Amount_avg_card_1  Amount_avg_card_3  Amount_avg_card_7  \\\n",
       "0               3.62               3.62               3.62   \n",
       "1              31.42              31.42              31.42   \n",
       "2             178.49             178.49             178.49   \n",
       "3               3.62               3.62               3.62   \n",
       "4               3.62               3.62               3.62   \n",
       "\n",
       "   Amount_avg_card_14  Amount_avg_card_30  Amount_max_card_1  \\\n",
       "0                3.62                3.62               3.62   \n",
       "1               31.42               31.42              31.42   \n",
       "2              178.49              178.49             178.49   \n",
       "3                3.62                3.62               3.62   \n",
       "4                3.62                3.62               3.62   \n",
       "\n",
       "   Amount_max_card_3  Amount_max_card_7  Amount_max_card_14  \\\n",
       "0               3.62               3.62                3.62   \n",
       "1              31.42              31.42               31.42   \n",
       "2             178.49             178.49              178.49   \n",
       "3               3.62               3.62                3.62   \n",
       "4               3.62               3.62                3.62   \n",
       "\n",
       "   Amount_max_card_30    ...      qame_cm_7  qas_cm_7  qaa_cm_14  qam_cm_14  \\\n",
       "0                3.62    ...            1.0       1.0        1.0        1.0   \n",
       "1               31.42    ...            1.0       1.0        1.0        1.0   \n",
       "2              178.49    ...            1.0       1.0        1.0        1.0   \n",
       "3                3.62    ...            1.0       1.0        1.0        1.0   \n",
       "4                3.62    ...            1.0       0.5        1.0        1.0   \n",
       "\n",
       "   qame_cm_14  qas_cm_14  qaa_cm_30  qam_cm_30  qame_cm_30  qas_cm_30  \n",
       "0         1.0        1.0        1.0        1.0         1.0        1.0  \n",
       "1         1.0        1.0        1.0        1.0         1.0        1.0  \n",
       "2         1.0        1.0        1.0        1.0         1.0        1.0  \n",
       "3         1.0        1.0        1.0        1.0         1.0        1.0  \n",
       "4         1.0        0.5        1.0        1.0         1.0        0.5  \n",
       "\n",
       "[5 rows x 240 columns]"
      ]
     },
     "execution_count": 122,
     "metadata": {},
     "output_type": "execute_result"
    }
   ],
   "source": [
    "Amount_variables.head()"
   ]
  },
  {
   "cell_type": "code",
   "execution_count": 123,
   "metadata": {},
   "outputs": [],
   "source": [
    "Amount_variables['Recnum'] = df['Recnum'].values\n",
    "Amount_variables['Fraud'] = df['Fraud'].values\n",
    "Amount_variables['Date'] = df.index.values"
   ]
  },
  {
   "cell_type": "code",
   "execution_count": 124,
   "metadata": {},
   "outputs": [
    {
     "data": {
      "text/html": [
       "<div>\n",
       "<style scoped>\n",
       "    .dataframe tbody tr th:only-of-type {\n",
       "        vertical-align: middle;\n",
       "    }\n",
       "\n",
       "    .dataframe tbody tr th {\n",
       "        vertical-align: top;\n",
       "    }\n",
       "\n",
       "    .dataframe thead th {\n",
       "        text-align: right;\n",
       "    }\n",
       "</style>\n",
       "<table border=\"1\" class=\"dataframe\">\n",
       "  <thead>\n",
       "    <tr style=\"text-align: right;\">\n",
       "      <th></th>\n",
       "      <th>Amount_avg_card_1</th>\n",
       "      <th>Amount_avg_card_3</th>\n",
       "      <th>Amount_avg_card_7</th>\n",
       "      <th>Amount_avg_card_14</th>\n",
       "      <th>Amount_avg_card_30</th>\n",
       "      <th>Amount_max_card_1</th>\n",
       "      <th>Amount_max_card_3</th>\n",
       "      <th>Amount_max_card_7</th>\n",
       "      <th>Amount_max_card_14</th>\n",
       "      <th>Amount_max_card_30</th>\n",
       "      <th>...</th>\n",
       "      <th>qam_cm_14</th>\n",
       "      <th>qame_cm_14</th>\n",
       "      <th>qas_cm_14</th>\n",
       "      <th>qaa_cm_30</th>\n",
       "      <th>qam_cm_30</th>\n",
       "      <th>qame_cm_30</th>\n",
       "      <th>qas_cm_30</th>\n",
       "      <th>Recnum</th>\n",
       "      <th>Fraud</th>\n",
       "      <th>Date</th>\n",
       "    </tr>\n",
       "  </thead>\n",
       "  <tbody>\n",
       "    <tr>\n",
       "      <th>0</th>\n",
       "      <td>3.62</td>\n",
       "      <td>3.62</td>\n",
       "      <td>3.62</td>\n",
       "      <td>3.62</td>\n",
       "      <td>3.62</td>\n",
       "      <td>3.62</td>\n",
       "      <td>3.62</td>\n",
       "      <td>3.62</td>\n",
       "      <td>3.62</td>\n",
       "      <td>3.62</td>\n",
       "      <td>...</td>\n",
       "      <td>1.0</td>\n",
       "      <td>1.0</td>\n",
       "      <td>1.0</td>\n",
       "      <td>1.0</td>\n",
       "      <td>1.0</td>\n",
       "      <td>1.0</td>\n",
       "      <td>1.0</td>\n",
       "      <td>1</td>\n",
       "      <td>0</td>\n",
       "      <td>2010-01-01</td>\n",
       "    </tr>\n",
       "    <tr>\n",
       "      <th>1</th>\n",
       "      <td>31.42</td>\n",
       "      <td>31.42</td>\n",
       "      <td>31.42</td>\n",
       "      <td>31.42</td>\n",
       "      <td>31.42</td>\n",
       "      <td>31.42</td>\n",
       "      <td>31.42</td>\n",
       "      <td>31.42</td>\n",
       "      <td>31.42</td>\n",
       "      <td>31.42</td>\n",
       "      <td>...</td>\n",
       "      <td>1.0</td>\n",
       "      <td>1.0</td>\n",
       "      <td>1.0</td>\n",
       "      <td>1.0</td>\n",
       "      <td>1.0</td>\n",
       "      <td>1.0</td>\n",
       "      <td>1.0</td>\n",
       "      <td>2</td>\n",
       "      <td>0</td>\n",
       "      <td>2010-01-01</td>\n",
       "    </tr>\n",
       "    <tr>\n",
       "      <th>2</th>\n",
       "      <td>178.49</td>\n",
       "      <td>178.49</td>\n",
       "      <td>178.49</td>\n",
       "      <td>178.49</td>\n",
       "      <td>178.49</td>\n",
       "      <td>178.49</td>\n",
       "      <td>178.49</td>\n",
       "      <td>178.49</td>\n",
       "      <td>178.49</td>\n",
       "      <td>178.49</td>\n",
       "      <td>...</td>\n",
       "      <td>1.0</td>\n",
       "      <td>1.0</td>\n",
       "      <td>1.0</td>\n",
       "      <td>1.0</td>\n",
       "      <td>1.0</td>\n",
       "      <td>1.0</td>\n",
       "      <td>1.0</td>\n",
       "      <td>3</td>\n",
       "      <td>0</td>\n",
       "      <td>2010-01-01</td>\n",
       "    </tr>\n",
       "    <tr>\n",
       "      <th>3</th>\n",
       "      <td>3.62</td>\n",
       "      <td>3.62</td>\n",
       "      <td>3.62</td>\n",
       "      <td>3.62</td>\n",
       "      <td>3.62</td>\n",
       "      <td>3.62</td>\n",
       "      <td>3.62</td>\n",
       "      <td>3.62</td>\n",
       "      <td>3.62</td>\n",
       "      <td>3.62</td>\n",
       "      <td>...</td>\n",
       "      <td>1.0</td>\n",
       "      <td>1.0</td>\n",
       "      <td>1.0</td>\n",
       "      <td>1.0</td>\n",
       "      <td>1.0</td>\n",
       "      <td>1.0</td>\n",
       "      <td>1.0</td>\n",
       "      <td>4</td>\n",
       "      <td>0</td>\n",
       "      <td>2010-01-01</td>\n",
       "    </tr>\n",
       "    <tr>\n",
       "      <th>4</th>\n",
       "      <td>3.62</td>\n",
       "      <td>3.62</td>\n",
       "      <td>3.62</td>\n",
       "      <td>3.62</td>\n",
       "      <td>3.62</td>\n",
       "      <td>3.62</td>\n",
       "      <td>3.62</td>\n",
       "      <td>3.62</td>\n",
       "      <td>3.62</td>\n",
       "      <td>3.62</td>\n",
       "      <td>...</td>\n",
       "      <td>1.0</td>\n",
       "      <td>1.0</td>\n",
       "      <td>0.5</td>\n",
       "      <td>1.0</td>\n",
       "      <td>1.0</td>\n",
       "      <td>1.0</td>\n",
       "      <td>0.5</td>\n",
       "      <td>5</td>\n",
       "      <td>0</td>\n",
       "      <td>2010-01-01</td>\n",
       "    </tr>\n",
       "  </tbody>\n",
       "</table>\n",
       "<p>5 rows × 243 columns</p>\n",
       "</div>"
      ],
      "text/plain": [
       "   Amount_avg_card_1  Amount_avg_card_3  Amount_avg_card_7  \\\n",
       "0               3.62               3.62               3.62   \n",
       "1              31.42              31.42              31.42   \n",
       "2             178.49             178.49             178.49   \n",
       "3               3.62               3.62               3.62   \n",
       "4               3.62               3.62               3.62   \n",
       "\n",
       "   Amount_avg_card_14  Amount_avg_card_30  Amount_max_card_1  \\\n",
       "0                3.62                3.62               3.62   \n",
       "1               31.42               31.42              31.42   \n",
       "2              178.49              178.49             178.49   \n",
       "3                3.62                3.62               3.62   \n",
       "4                3.62                3.62               3.62   \n",
       "\n",
       "   Amount_max_card_3  Amount_max_card_7  Amount_max_card_14  \\\n",
       "0               3.62               3.62                3.62   \n",
       "1              31.42              31.42               31.42   \n",
       "2             178.49             178.49              178.49   \n",
       "3               3.62               3.62                3.62   \n",
       "4               3.62               3.62                3.62   \n",
       "\n",
       "   Amount_max_card_30    ...      qam_cm_14  qame_cm_14  qas_cm_14  qaa_cm_30  \\\n",
       "0                3.62    ...            1.0         1.0        1.0        1.0   \n",
       "1               31.42    ...            1.0         1.0        1.0        1.0   \n",
       "2              178.49    ...            1.0         1.0        1.0        1.0   \n",
       "3                3.62    ...            1.0         1.0        1.0        1.0   \n",
       "4                3.62    ...            1.0         1.0        0.5        1.0   \n",
       "\n",
       "   qam_cm_30  qame_cm_30  qas_cm_30  Recnum  Fraud       Date  \n",
       "0        1.0         1.0        1.0       1      0 2010-01-01  \n",
       "1        1.0         1.0        1.0       2      0 2010-01-01  \n",
       "2        1.0         1.0        1.0       3      0 2010-01-01  \n",
       "3        1.0         1.0        1.0       4      0 2010-01-01  \n",
       "4        1.0         1.0        0.5       5      0 2010-01-01  \n",
       "\n",
       "[5 rows x 243 columns]"
      ]
     },
     "execution_count": 124,
     "metadata": {},
     "output_type": "execute_result"
    }
   ],
   "source": [
    "Amount_variables.head()"
   ]
  },
  {
   "cell_type": "code",
   "execution_count": 125,
   "metadata": {},
   "outputs": [
    {
     "data": {
      "text/plain": [
       "(83970, 243)"
      ]
     },
     "execution_count": 125,
     "metadata": {},
     "output_type": "execute_result"
    }
   ],
   "source": [
    "Amount_variables.shape"
   ]
  },
  {
   "cell_type": "markdown",
   "metadata": {},
   "source": [
    "## Frequency Variables"
   ]
  },
  {
   "cell_type": "markdown",
   "metadata": {},
   "source": [
    "### Card"
   ]
  },
  {
   "cell_type": "code",
   "execution_count": null,
   "metadata": {},
   "outputs": [],
   "source": [
    "count_card_1 = df.groupby(['Cardnum'])['Amount'].rolling('1d').count().reset_index()\n",
    "count_card_1['Count'] = count_card_1['Amount'].astype('int')\n",
    "del count_card_1['Amount']\n",
    "count_card_1['order'] = count_card_1.groupby(['Cardnum', 'Date']).cumcount() + 1\n",
    "\n",
    "count_card_3 = df.groupby(['Cardnum'])['Amount'].rolling('3d').count().reset_index()\n",
    "count_card_3['Count'] = count_card_3['Amount'].astype('int')\n",
    "del count_card_3['Amount']\n",
    "count_card_3['order'] = count_card_3.groupby(['Cardnum', 'Date']).cumcount() + 1\n",
    "\n",
    "count_card_7 = df.groupby(['Cardnum'])['Amount'].rolling('7d').count().reset_index()\n",
    "count_card_7['Count'] = count_card_7['Amount'].astype('int')\n",
    "del count_card_7['Amount']\n",
    "count_card_7['order'] = count_card_7.groupby(['Cardnum', 'Date']).cumcount() + 1\n",
    "\n",
    "count_card_14 = df.groupby(['Cardnum'])['Amount'].rolling('14d').count().reset_index()\n",
    "count_card_14['Count'] = count_card_14['Amount'].astype('int')\n",
    "del count_card_14['Amount']\n",
    "count_card_14['order'] = count_card_14.groupby(['Cardnum', 'Date']).cumcount() + 1\n",
    "\n",
    "count_card_30 = df.groupby(['Cardnum'])['Amount'].rolling('30d').count().reset_index()\n",
    "count_card_30['Count'] = count_card_30['Amount'].astype('int')\n",
    "del count_card_30['Amount']\n",
    "count_card_30['order'] = count_card_30.groupby(['Cardnum', 'Date']).cumcount() + 1"
   ]
  },
  {
   "cell_type": "code",
   "execution_count": null,
   "metadata": {},
   "outputs": [],
   "source": [
    "count_card_1.head()"
   ]
  },
  {
   "cell_type": "code",
   "execution_count": null,
   "metadata": {},
   "outputs": [],
   "source": [
    "card_df = df.copy()\n",
    "card_df = card_df.reset_index()\n",
    "card_df['order'] = card_df.groupby(['Cardnum', 'Date']).cumcount() + 1"
   ]
  },
  {
   "cell_type": "code",
   "execution_count": null,
   "metadata": {},
   "outputs": [],
   "source": [
    "card_df.head()"
   ]
  },
  {
   "cell_type": "code",
   "execution_count": null,
   "metadata": {},
   "outputs": [],
   "source": [
    "not_needed_columns = ['index', 'Recnum', 'Merchnum', 'Merch description', 'Merch zip', 'Transtype', 'Merch state', 'Amount']\n",
    "for column in not_needed_columns:\n",
    "    try:\n",
    "        del card_df[column]\n",
    "    except:\n",
    "        pass"
   ]
  },
  {
   "cell_type": "code",
   "execution_count": null,
   "metadata": {},
   "outputs": [],
   "source": [
    "card_df['Count'] = 0"
   ]
  },
  {
   "cell_type": "code",
   "execution_count": null,
   "metadata": {},
   "outputs": [],
   "source": [
    "card_df.head()"
   ]
  },
  {
   "cell_type": "code",
   "execution_count": null,
   "metadata": {},
   "outputs": [],
   "source": [
    "merged_data_card = card_df \\\n",
    ".merge(count_card_1, on = ['Date', 'Cardnum', 'order'], how = 'left', suffixes=['', '_count_card_1'])\\\n",
    ".merge(count_card_3, on = ['Date', 'Cardnum', 'order'], how = 'left', suffixes=['', '_count_card_3']) \\\n",
    ".merge(count_card_7, on = ['Date', 'Cardnum', 'order'], how = 'left', suffixes=['', '_count_card_7']) \\\n",
    ".merge(count_card_14, on = ['Date', 'Cardnum', 'order'], how = 'left', suffixes=['', '_count_card_14']) \\\n",
    ".merge(count_card_30, on = ['Date', 'Cardnum', 'order'], how = 'left', suffixes=['', '_count_card_30']) "
   ]
  },
  {
   "cell_type": "code",
   "execution_count": null,
   "metadata": {},
   "outputs": [],
   "source": [
    "merged_data_card['Count_count_card_0'] = 1"
   ]
  },
  {
   "cell_type": "code",
   "execution_count": null,
   "metadata": {
    "scrolled": true
   },
   "outputs": [],
   "source": [
    "merged_data_card.tail()"
   ]
  },
  {
   "cell_type": "markdown",
   "metadata": {},
   "source": [
    "### Merchant"
   ]
  },
  {
   "cell_type": "code",
   "execution_count": null,
   "metadata": {},
   "outputs": [],
   "source": [
    "count_merchant_1 = df.groupby(['Merchnum'])['Amount'].rolling('1d').count().reset_index()\n",
    "count_merchant_1['Count'] = count_merchant_1['Amount'].astype('int')\n",
    "del count_merchant_1['Amount']\n",
    "count_merchant_1['order'] = count_merchant_1.groupby(['Merchnum', 'Date']).cumcount() + 1\n",
    "\n",
    "count_merchant_3 = df.groupby(['Merchnum'])['Amount'].rolling('3d').count().reset_index()\n",
    "count_merchant_3['Count'] = count_merchant_3['Amount'].astype('int')\n",
    "del count_merchant_3['Amount']\n",
    "count_merchant_3['order'] = count_merchant_3.groupby(['Merchnum', 'Date']).cumcount() + 1\n",
    "\n",
    "count_merchant_7 = df.groupby(['Merchnum'])['Amount'].rolling('7d').count().reset_index()\n",
    "count_merchant_7['Count'] = count_merchant_7['Amount'].astype('int')\n",
    "del count_merchant_7['Amount']\n",
    "count_merchant_7['order'] = count_merchant_7.groupby(['Merchnum', 'Date']).cumcount() + 1\n",
    "\n",
    "count_merchant_14 = df.groupby(['Merchnum'])['Amount'].rolling('14d').count().reset_index()\n",
    "count_merchant_14['Count'] = count_merchant_14['Amount'].astype('int')\n",
    "del count_merchant_14['Amount']\n",
    "count_merchant_14['order'] = count_merchant_14.groupby(['Merchnum', 'Date']).cumcount() + 1\n",
    "\n",
    "count_merchant_30 = df.groupby(['Merchnum'])['Amount'].rolling('30d').count().reset_index()\n",
    "count_merchant_30['Count'] = count_merchant_30['Amount'].astype('int')\n",
    "del count_merchant_30['Amount']\n",
    "count_merchant_30['order'] = count_merchant_30.groupby(['Merchnum', 'Date']).cumcount() + 1"
   ]
  },
  {
   "cell_type": "code",
   "execution_count": null,
   "metadata": {},
   "outputs": [],
   "source": [
    "merchant_df = df.copy()\n",
    "merchant_df = merchant_df.reset_index()\n",
    "merchant_df['order'] = merchant_df.groupby(['Merchnum', 'Date']).cumcount() + 1"
   ]
  },
  {
   "cell_type": "code",
   "execution_count": null,
   "metadata": {},
   "outputs": [],
   "source": [
    "merchant_df.head()"
   ]
  },
  {
   "cell_type": "code",
   "execution_count": null,
   "metadata": {},
   "outputs": [],
   "source": [
    "not_needed_columns = ['index', 'Recnum', 'Cardnum', 'Merch description', 'Merch zip', 'Transtype', 'Merch state', 'Amount']\n",
    "for column in not_needed_columns:\n",
    "    try:\n",
    "        del merchant_df[column]\n",
    "    except:\n",
    "        pass"
   ]
  },
  {
   "cell_type": "code",
   "execution_count": null,
   "metadata": {},
   "outputs": [],
   "source": [
    "merchant_df.head()"
   ]
  },
  {
   "cell_type": "code",
   "execution_count": null,
   "metadata": {},
   "outputs": [],
   "source": [
    "merged_data_merchant = merchant_df \\\n",
    ".merge(count_merchant_1, on = ['Date', 'Merchnum', 'order'], how = 'left', suffixes=['', '_count_merchant_1'])\\\n",
    ".merge(count_merchant_3, on = ['Date', 'Merchnum', 'order'], how = 'left', suffixes=['', '_count_merchant_3']) \\\n",
    ".merge(count_merchant_7, on = ['Date', 'Merchnum', 'order'], how = 'left', suffixes=['', '_count_merchant_7']) \\\n",
    ".merge(count_merchant_14, on = ['Date', 'Merchnum', 'order'], how = 'left', suffixes=['', '_count_merchant_14']) \\\n",
    ".merge(count_merchant_30, on = ['Date', 'Merchnum', 'order'], how = 'left', suffixes=['', '_count_merchant_30']) "
   ]
  },
  {
   "cell_type": "code",
   "execution_count": null,
   "metadata": {},
   "outputs": [],
   "source": [
    "merged_data_merchant['Count_count_merchant_0'] = 1"
   ]
  },
  {
   "cell_type": "code",
   "execution_count": null,
   "metadata": {},
   "outputs": [],
   "source": [
    "merged_data_merchant = merged_data_merchant.rename(columns={'Count':\"Count_count_merchant_1\"})"
   ]
  },
  {
   "cell_type": "code",
   "execution_count": null,
   "metadata": {},
   "outputs": [],
   "source": [
    "merged_data_merchant.tail()"
   ]
  },
  {
   "cell_type": "markdown",
   "metadata": {},
   "source": [
    "### Card + Merchant"
   ]
  },
  {
   "cell_type": "code",
   "execution_count": null,
   "metadata": {},
   "outputs": [],
   "source": [
    "count_card_merchant_1 = df.groupby(['Cardnum', 'Merchnum'])['Amount'].rolling('1d').count().reset_index()\n",
    "count_card_merchant_1['Count'] = count_card_merchant_1['Amount'].astype('int')\n",
    "del count_card_merchant_1['Amount']\n",
    "count_card_merchant_1['order'] = count_card_merchant_1.groupby(['Cardnum', 'Merchnum', 'Date']).cumcount() + 1\n",
    "\n",
    "count_card_merchant_3 = df.groupby(['Cardnum', 'Merchnum'])['Amount'].rolling('3d').count().reset_index()\n",
    "count_card_merchant_3['Count'] = count_card_merchant_3['Amount'].astype('int')\n",
    "del count_card_merchant_3['Amount']\n",
    "count_card_merchant_3['order'] = count_card_merchant_3.groupby(['Cardnum', 'Merchnum', 'Date']).cumcount() + 1\n",
    "\n",
    "count_card_merchant_7 = df.groupby(['Cardnum', 'Merchnum'])['Amount'].rolling('7d').count().reset_index()\n",
    "count_card_merchant_7['Count'] = count_card_merchant_7['Amount'].astype('int')\n",
    "del count_card_merchant_7['Amount']\n",
    "count_card_merchant_7['order'] = count_card_merchant_7.groupby(['Cardnum', 'Merchnum', 'Date']).cumcount() + 1\n",
    "\n",
    "count_card_merchant_14 = df.groupby(['Cardnum', 'Merchnum'])['Amount'].rolling('14d').count().reset_index()\n",
    "count_card_merchant_14['Count'] = count_card_merchant_14['Amount'].astype('int')\n",
    "del count_card_merchant_14['Amount']\n",
    "count_card_merchant_14['order'] = count_card_merchant_14.groupby(['Cardnum', 'Merchnum', 'Date']).cumcount() + 1\n",
    "\n",
    "count_card_merchant_30 = df.groupby(['Cardnum', 'Merchnum'])['Amount'].rolling('30d').count().reset_index()\n",
    "count_card_merchant_30['Count'] = count_card_merchant_30['Amount'].astype('int')\n",
    "del count_card_merchant_30['Amount']\n",
    "count_card_merchant_30['order'] = count_card_merchant_30.groupby(['Cardnum', 'Merchnum', 'Date']).cumcount() + 1"
   ]
  },
  {
   "cell_type": "code",
   "execution_count": null,
   "metadata": {},
   "outputs": [],
   "source": [
    "card_merchant_df = df.copy()\n",
    "card_merchant_df = card_merchant_df.reset_index()\n",
    "card_merchant_df['order'] = card_merchant_df.groupby(['Cardnum', 'Merchnum', 'Date']).cumcount() + 1"
   ]
  },
  {
   "cell_type": "code",
   "execution_count": null,
   "metadata": {},
   "outputs": [],
   "source": [
    "card_merchant_df.head()"
   ]
  },
  {
   "cell_type": "code",
   "execution_count": null,
   "metadata": {},
   "outputs": [],
   "source": [
    "not_needed_columns = ['index', 'Recnum', 'Merch description', 'Merch zip', 'Transtype', 'Merch state', 'Amount']\n",
    "for column in not_needed_columns:\n",
    "    try:\n",
    "        del card_merchant_df[column]\n",
    "    except:\n",
    "        pass"
   ]
  },
  {
   "cell_type": "code",
   "execution_count": null,
   "metadata": {},
   "outputs": [],
   "source": [
    "card_merchant_df.head()"
   ]
  },
  {
   "cell_type": "code",
   "execution_count": null,
   "metadata": {},
   "outputs": [],
   "source": [
    "merged_data_card_merchant = card_merchant_df \\\n",
    ".merge(count_card_merchant_1, on = ['Date', 'Cardnum', 'Merchnum', 'order'], how = 'left', suffixes=['', '_count_card_merchant_1'])\\\n",
    ".merge(count_card_merchant_3, on = ['Date', 'Cardnum', 'Merchnum', 'order'], how = 'left', suffixes=['', '_count_card_merchant_3']) \\\n",
    ".merge(count_card_merchant_7, on = ['Date', 'Cardnum', 'Merchnum', 'order'], how = 'left', suffixes=['', '_count_card_merchant_7']) \\\n",
    ".merge(count_card_merchant_14, on = ['Date', 'Cardnum', 'Merchnum', 'order'], how = 'left', suffixes=['', '_count_card_merchant_14']) \\\n",
    ".merge(count_card_merchant_30, on = ['Date', 'Cardnum', 'Merchnum', 'order'], how = 'left', suffixes=['', '_count_card_merchant_30']) "
   ]
  },
  {
   "cell_type": "code",
   "execution_count": null,
   "metadata": {},
   "outputs": [],
   "source": [
    "merged_data_card_merchant['Count_count_card_merchant_0'] = 1"
   ]
  },
  {
   "cell_type": "code",
   "execution_count": null,
   "metadata": {},
   "outputs": [],
   "source": [
    "merged_data_card_merchant = merged_data_card_merchant.rename(columns={'Count':\"Count_count_card_merchant_1\"})"
   ]
  },
  {
   "cell_type": "code",
   "execution_count": null,
   "metadata": {},
   "outputs": [],
   "source": [
    "merged_data_card_merchant.tail()"
   ]
  },
  {
   "cell_type": "markdown",
   "metadata": {},
   "source": [
    "### Card + Zip code"
   ]
  },
  {
   "cell_type": "code",
   "execution_count": null,
   "metadata": {},
   "outputs": [],
   "source": [
    "count_card_zip_1 = df.groupby(['Cardnum', 'Merch zip'])['Amount'].rolling('1d').count().reset_index()\n",
    "count_card_zip_1['Count'] = count_card_zip_1['Amount'].astype('int')\n",
    "del count_card_zip_1['Amount']\n",
    "count_card_zip_1['order'] = count_card_zip_1.groupby(['Cardnum', 'Merch zip', 'Date']).cumcount() + 1\n",
    "\n",
    "count_card_zip_3 = df.groupby(['Cardnum', 'Merch zip'])['Amount'].rolling('3d').count().reset_index()\n",
    "count_card_zip_3['Count'] = count_card_zip_3['Amount'].astype('int')\n",
    "del count_card_zip_3['Amount']\n",
    "count_card_zip_3['order'] = count_card_zip_3.groupby(['Cardnum', 'Merch zip', 'Date']).cumcount() + 1\n",
    "\n",
    "count_card_zip_7 = df.groupby(['Cardnum', 'Merch zip'])['Amount'].rolling('7d').count().reset_index()\n",
    "count_card_zip_7['Count'] = count_card_zip_7['Amount'].astype('int')\n",
    "del count_card_zip_7['Amount']\n",
    "count_card_zip_7['order'] = count_card_zip_7.groupby(['Cardnum', 'Merch zip', 'Date']).cumcount() + 1\n",
    "\n",
    "count_card_zip_14 = df.groupby(['Cardnum', 'Merch zip'])['Amount'].rolling('14d').count().reset_index()\n",
    "count_card_zip_14['Count'] = count_card_zip_14['Amount'].astype('int')\n",
    "del count_card_zip_14['Amount']\n",
    "count_card_zip_14['order'] = count_card_zip_14.groupby(['Cardnum', 'Merch zip', 'Date']).cumcount() + 1\n",
    "\n",
    "count_card_zip_30 = df.groupby(['Cardnum', 'Merch zip'])['Amount'].rolling('30d').count().reset_index()\n",
    "count_card_zip_30['Count'] = count_card_zip_30['Amount'].astype('int')\n",
    "del count_card_zip_30['Amount']\n",
    "count_card_zip_30['order'] = count_card_zip_30.groupby(['Cardnum', 'Merch zip', 'Date']).cumcount() + 1"
   ]
  },
  {
   "cell_type": "code",
   "execution_count": null,
   "metadata": {},
   "outputs": [],
   "source": [
    "card_zip_df = df.copy()\n",
    "card_zip_df = card_zip_df.reset_index()\n",
    "card_zip_df['order'] = card_zip_df.groupby(['Cardnum', 'Merch zip', 'Date']).cumcount() + 1"
   ]
  },
  {
   "cell_type": "code",
   "execution_count": null,
   "metadata": {},
   "outputs": [],
   "source": [
    "card_zip_df.head()"
   ]
  },
  {
   "cell_type": "code",
   "execution_count": null,
   "metadata": {},
   "outputs": [],
   "source": [
    "not_needed_columns = ['index', 'Recnum', 'Merch description', 'Merchnum', 'Transtype', 'Merch state', 'Amount']\n",
    "for column in not_needed_columns:\n",
    "    try:\n",
    "        del card_zip_df[column]\n",
    "    except:\n",
    "        pass"
   ]
  },
  {
   "cell_type": "code",
   "execution_count": null,
   "metadata": {},
   "outputs": [],
   "source": [
    "card_zip_df.head()"
   ]
  },
  {
   "cell_type": "code",
   "execution_count": null,
   "metadata": {},
   "outputs": [],
   "source": [
    "merged_data_card_zip = card_zip_df \\\n",
    ".merge(count_card_zip_1, on = ['Date', 'Cardnum', 'Merch zip', 'order'], how = 'left', suffixes=['', '_count_card_zip_1'])\\\n",
    ".merge(count_card_zip_3, on = ['Date', 'Cardnum', 'Merch zip', 'order'], how = 'left', suffixes=['', '_count_card_zip_3']) \\\n",
    ".merge(count_card_zip_7, on = ['Date', 'Cardnum', 'Merch zip', 'order'], how = 'left', suffixes=['', '_count_card_zip_7']) \\\n",
    ".merge(count_card_zip_14, on = ['Date', 'Cardnum', 'Merch zip', 'order'], how = 'left', suffixes=['', '_count_card_zip_14']) \\\n",
    ".merge(count_card_zip_30, on = ['Date', 'Cardnum', 'Merch zip', 'order'], how = 'left', suffixes=['', '_count_card_zip_30']) "
   ]
  },
  {
   "cell_type": "code",
   "execution_count": null,
   "metadata": {},
   "outputs": [],
   "source": [
    "merged_data_card_zip['Count_count_card_zip_0'] = 1"
   ]
  },
  {
   "cell_type": "code",
   "execution_count": null,
   "metadata": {},
   "outputs": [],
   "source": [
    "merged_data_card_zip = merged_data_card_zip.rename(columns={'Count':\"Count_count_card_zip_1\"})"
   ]
  },
  {
   "cell_type": "code",
   "execution_count": null,
   "metadata": {},
   "outputs": [],
   "source": [
    "merged_data_card_zip.tail()"
   ]
  },
  {
   "cell_type": "markdown",
   "metadata": {},
   "source": [
    "### Card + State"
   ]
  },
  {
   "cell_type": "code",
   "execution_count": null,
   "metadata": {},
   "outputs": [],
   "source": [
    "count_card_state_1 = df.groupby(['Cardnum', 'Merch state'])['Amount'].rolling('1d').count().reset_index()\n",
    "count_card_state_1['Count'] = count_card_state_1['Amount'].astype('int')\n",
    "del count_card_state_1['Amount']\n",
    "count_card_state_1['order'] = count_card_state_1.groupby(['Cardnum', 'Merch state', 'Date']).cumcount() + 1\n",
    "\n",
    "count_card_state_3 = df.groupby(['Cardnum', 'Merch state'])['Amount'].rolling('3d').count().reset_index()\n",
    "count_card_state_3['Count'] = count_card_state_3['Amount'].astype('int')\n",
    "del count_card_state_3['Amount']\n",
    "count_card_state_3['order'] = count_card_state_3.groupby(['Cardnum', 'Merch state', 'Date']).cumcount() + 1\n",
    "\n",
    "count_card_state_7 = df.groupby(['Cardnum', 'Merch state'])['Amount'].rolling('7d').count().reset_index()\n",
    "count_card_state_7['Count'] = count_card_state_7['Amount'].astype('int')\n",
    "del count_card_state_7['Amount']\n",
    "count_card_state_7['order'] = count_card_state_7.groupby(['Cardnum', 'Merch state', 'Date']).cumcount() + 1\n",
    "\n",
    "count_card_state_14 = df.groupby(['Cardnum', 'Merch state'])['Amount'].rolling('14d').count().reset_index()\n",
    "count_card_state_14['Count'] = count_card_state_14['Amount'].astype('int')\n",
    "del count_card_state_14['Amount']\n",
    "count_card_state_14['order'] = count_card_state_14.groupby(['Cardnum', 'Merch state', 'Date']).cumcount() + 1\n",
    "\n",
    "count_card_state_30 = df.groupby(['Cardnum', 'Merch state'])['Amount'].rolling('30d').count().reset_index()\n",
    "count_card_state_30['Count'] = count_card_state_30['Amount'].astype('int')\n",
    "del count_card_state_30['Amount']\n",
    "count_card_state_30['order'] = count_card_state_30.groupby(['Cardnum', 'Merch state', 'Date']).cumcount() + 1"
   ]
  },
  {
   "cell_type": "code",
   "execution_count": null,
   "metadata": {},
   "outputs": [],
   "source": [
    "card_state_df = df.copy()\n",
    "card_state_df = card_state_df.reset_index()\n",
    "card_state_df['order'] = card_state_df.groupby(['Cardnum', 'Merch state', 'Date']).cumcount() + 1"
   ]
  },
  {
   "cell_type": "code",
   "execution_count": null,
   "metadata": {},
   "outputs": [],
   "source": [
    "card_state_df.head()"
   ]
  },
  {
   "cell_type": "code",
   "execution_count": null,
   "metadata": {},
   "outputs": [],
   "source": [
    "not_needed_columns = ['index', 'Recnum', 'Merch description', 'Merchnum', 'Transtype', 'Merch zip', 'Amount']\n",
    "for column in not_needed_columns:\n",
    "    try:\n",
    "        del card_state_df[column]\n",
    "    except:\n",
    "        pass"
   ]
  },
  {
   "cell_type": "code",
   "execution_count": null,
   "metadata": {},
   "outputs": [],
   "source": [
    "card_state_df.head()"
   ]
  },
  {
   "cell_type": "code",
   "execution_count": null,
   "metadata": {},
   "outputs": [],
   "source": [
    "merged_data_card_state = card_state_df \\\n",
    ".merge(count_card_state_1, on = ['Date', 'Cardnum', 'Merch state', 'order'], how = 'left', suffixes=['', '_count_card_state_1'])\\\n",
    ".merge(count_card_state_3, on = ['Date', 'Cardnum', 'Merch state', 'order'], how = 'left', suffixes=['', '_count_card_state_3']) \\\n",
    ".merge(count_card_state_7, on = ['Date', 'Cardnum', 'Merch state', 'order'], how = 'left', suffixes=['', '_count_card_state_7']) \\\n",
    ".merge(count_card_state_14, on = ['Date', 'Cardnum', 'Merch state', 'order'], how = 'left', suffixes=['', '_count_card_state_14']) \\\n",
    ".merge(count_card_state_30, on = ['Date', 'Cardnum', 'Merch state', 'order'], how = 'left', suffixes=['', '_count_card_state_30']) "
   ]
  },
  {
   "cell_type": "code",
   "execution_count": null,
   "metadata": {},
   "outputs": [],
   "source": [
    "merged_data_card_state['Count_count_card_state_0'] = 1"
   ]
  },
  {
   "cell_type": "code",
   "execution_count": null,
   "metadata": {},
   "outputs": [],
   "source": [
    "merged_data_card_state = merged_data_card_state.rename(columns={'Count':\"Count_count_card_state_1\"})"
   ]
  },
  {
   "cell_type": "code",
   "execution_count": null,
   "metadata": {},
   "outputs": [],
   "source": [
    "merged_data_card_state.tail()"
   ]
  },
  {
   "cell_type": "markdown",
   "metadata": {},
   "source": [
    "### Frequency Variables 30"
   ]
  },
  {
   "cell_type": "code",
   "execution_count": null,
   "metadata": {},
   "outputs": [],
   "source": [
    "merged_data_card.head()"
   ]
  },
  {
   "cell_type": "code",
   "execution_count": null,
   "metadata": {},
   "outputs": [],
   "source": [
    "merged_data_merchant.head()"
   ]
  },
  {
   "cell_type": "code",
   "execution_count": null,
   "metadata": {},
   "outputs": [],
   "source": [
    "merged_data_card_merchant.head()"
   ]
  },
  {
   "cell_type": "code",
   "execution_count": null,
   "metadata": {},
   "outputs": [],
   "source": [
    "merged_data_card_zip.head()"
   ]
  },
  {
   "cell_type": "code",
   "execution_count": null,
   "metadata": {},
   "outputs": [],
   "source": [
    "merged_data_card_state.head()"
   ]
  },
  {
   "cell_type": "code",
   "execution_count": null,
   "metadata": {},
   "outputs": [],
   "source": [
    "merged_data_card_pure = merged_data_card.iloc[:, 5:]\n",
    "merged_data_merchant_pure = merged_data_merchant.iloc[:, 4:]\n",
    "merged_data_card_merchant_pure = merged_data_card_merchant.iloc[:, 5:]\n",
    "merged_data_card_zip_pure = merged_data_card_zip.iloc[:, 5:]\n",
    "merged_data_card_state_pure = merged_data_card_state.iloc[:, 5:]"
   ]
  },
  {
   "cell_type": "code",
   "execution_count": null,
   "metadata": {},
   "outputs": [],
   "source": [
    "[merged_data_card_pure.shape, \n",
    "merged_data_merchant_pure.shape,\n",
    "merged_data_card_merchant_pure.shape, \n",
    "merged_data_card_zip_pure.shape,\n",
    "merged_data_card_state_pure.shape]"
   ]
  },
  {
   "cell_type": "code",
   "execution_count": null,
   "metadata": {},
   "outputs": [],
   "source": [
    "Frequency_variables = pd.concat([merged_data_card_pure,\n",
    "                              merged_data_merchant_pure,\n",
    "                              merged_data_card_merchant_pure, \n",
    "                              merged_data_card_zip_pure, \n",
    "                              merged_data_card_state_pure], axis = 1)"
   ]
  },
  {
   "cell_type": "code",
   "execution_count": null,
   "metadata": {},
   "outputs": [],
   "source": [
    "Frequency_variables.shape"
   ]
  },
  {
   "cell_type": "code",
   "execution_count": null,
   "metadata": {},
   "outputs": [],
   "source": [
    "Frequency_variables.tail()"
   ]
  },
  {
   "cell_type": "code",
   "execution_count": null,
   "metadata": {},
   "outputs": [],
   "source": [
    "Frequency_variables['Recnum'] = df['Recnum'].values\n",
    "Frequency_variables['Fraud'] = df['Fraud'].values\n",
    "Frequency_variables['Date'] = df.index.values\n",
    "Frequency_variables['Transtype'] = df['Transtype'].values"
   ]
  },
  {
   "cell_type": "code",
   "execution_count": null,
   "metadata": {},
   "outputs": [],
   "source": [
    "Frequency_variables.tail()"
   ]
  },
  {
   "cell_type": "code",
   "execution_count": null,
   "metadata": {},
   "outputs": [],
   "source": [
    "Frequency_variables.shape"
   ]
  },
  {
   "cell_type": "code",
   "execution_count": null,
   "metadata": {},
   "outputs": [],
   "source": [
    "len(Frequency_variables['Recnum'].unique())"
   ]
  },
  {
   "cell_type": "markdown",
   "metadata": {},
   "source": [
    "## Days since Variables"
   ]
  },
  {
   "cell_type": "markdown",
   "metadata": {},
   "source": [
    "### Card"
   ]
  },
  {
   "cell_type": "code",
   "execution_count": null,
   "metadata": {},
   "outputs": [],
   "source": [
    "DateDiff = df.copy()"
   ]
  },
  {
   "cell_type": "code",
   "execution_count": null,
   "metadata": {},
   "outputs": [],
   "source": [
    "DateDiff.info()"
   ]
  },
  {
   "cell_type": "code",
   "execution_count": null,
   "metadata": {},
   "outputs": [],
   "source": [
    "def subtract(df):\n",
    "    temp_df = df.copy()\n",
    "    temp_df = temp_df.reset_index()\n",
    "#     print(temp_df)\n",
    "    temp_df['LastTime'] = temp_df['Date'].shift(1)\n",
    "    temp_df['Card_SinceLastTime'] = temp_df['Date'] - temp_df['LastTime']\n",
    "    return temp_df"
   ]
  },
  {
   "cell_type": "code",
   "execution_count": null,
   "metadata": {},
   "outputs": [],
   "source": [
    "Card_df = DateDiff.groupby(['Cardnum']).apply(lambda df: subtract(df))"
   ]
  },
  {
   "cell_type": "code",
   "execution_count": null,
   "metadata": {},
   "outputs": [],
   "source": [
    "Card_df.head()"
   ]
  },
  {
   "cell_type": "code",
   "execution_count": null,
   "metadata": {},
   "outputs": [],
   "source": [
    "len(Card_df['Recnum'].unique())"
   ]
  },
  {
   "cell_type": "code",
   "execution_count": null,
   "metadata": {},
   "outputs": [],
   "source": [
    "Card = Card_df[['Recnum', 'Card_SinceLastTime']].reset_index(drop = 1)"
   ]
  },
  {
   "cell_type": "code",
   "execution_count": null,
   "metadata": {},
   "outputs": [],
   "source": [
    "Card.head()"
   ]
  },
  {
   "cell_type": "markdown",
   "metadata": {},
   "source": [
    "### Merchant"
   ]
  },
  {
   "cell_type": "code",
   "execution_count": null,
   "metadata": {},
   "outputs": [],
   "source": [
    "def subtract(df):\n",
    "    temp_df = df.copy()\n",
    "    temp_df = temp_df.reset_index()\n",
    "#     print(temp_df)\n",
    "    temp_df['LastTime'] = temp_df['Date'].shift(1)\n",
    "    temp_df['Merchant_SinceLastTime'] = temp_df['Date'] - temp_df['LastTime']\n",
    "    return temp_df"
   ]
  },
  {
   "cell_type": "code",
   "execution_count": null,
   "metadata": {},
   "outputs": [],
   "source": [
    "Merchant_df = DateDiff.groupby(['Merchnum']).apply(lambda df: subtract(df))"
   ]
  },
  {
   "cell_type": "code",
   "execution_count": null,
   "metadata": {},
   "outputs": [],
   "source": [
    "Merchant_df.head()"
   ]
  },
  {
   "cell_type": "code",
   "execution_count": null,
   "metadata": {},
   "outputs": [],
   "source": [
    "len(Merchant_df['Recnum'].unique())"
   ]
  },
  {
   "cell_type": "code",
   "execution_count": null,
   "metadata": {},
   "outputs": [],
   "source": [
    "Merchant = Merchant_df[['Recnum', 'Merchant_SinceLastTime']].reset_index(drop = 1)"
   ]
  },
  {
   "cell_type": "code",
   "execution_count": null,
   "metadata": {
    "scrolled": false
   },
   "outputs": [],
   "source": [
    "Merchant.head()"
   ]
  },
  {
   "cell_type": "markdown",
   "metadata": {},
   "source": [
    "### Card_Merchant"
   ]
  },
  {
   "cell_type": "code",
   "execution_count": null,
   "metadata": {},
   "outputs": [],
   "source": [
    "def subtract(df):\n",
    "    temp_df = df.copy()\n",
    "    temp_df = temp_df.reset_index()\n",
    "#     print(temp_df)\n",
    "    temp_df['LastTime'] = temp_df['Date'].shift(1)\n",
    "    temp_df['Card_Merchant_SinceLastTime'] = temp_df['Date'] - temp_df['LastTime']\n",
    "    return temp_df"
   ]
  },
  {
   "cell_type": "code",
   "execution_count": null,
   "metadata": {},
   "outputs": [],
   "source": [
    "Card_Merchant_df = DateDiff.groupby(['Cardnum', 'Merchnum']).apply(lambda df: subtract(df))"
   ]
  },
  {
   "cell_type": "code",
   "execution_count": null,
   "metadata": {},
   "outputs": [],
   "source": [
    "Card_Merchant_df.head()"
   ]
  },
  {
   "cell_type": "code",
   "execution_count": null,
   "metadata": {},
   "outputs": [],
   "source": [
    "len(Card_Merchant_df['Recnum'].unique())"
   ]
  },
  {
   "cell_type": "code",
   "execution_count": null,
   "metadata": {},
   "outputs": [],
   "source": [
    "Card_Merchant = Card_Merchant_df[['Recnum', 'Card_Merchant_SinceLastTime']].reset_index(drop = 1)"
   ]
  },
  {
   "cell_type": "code",
   "execution_count": null,
   "metadata": {
    "scrolled": false
   },
   "outputs": [],
   "source": [
    "Card_Merchant.head()"
   ]
  },
  {
   "cell_type": "markdown",
   "metadata": {},
   "source": [
    "### Card_Zip code"
   ]
  },
  {
   "cell_type": "code",
   "execution_count": null,
   "metadata": {},
   "outputs": [],
   "source": [
    "def subtract(df):\n",
    "    temp_df = df.copy()\n",
    "    temp_df = temp_df.reset_index()\n",
    "#     print(temp_df)\n",
    "    temp_df['LastTime'] = temp_df['Date'].shift(1)\n",
    "    temp_df['Card_Zip_SinceLastTime'] = temp_df['Date'] - temp_df['LastTime']\n",
    "    return temp_df"
   ]
  },
  {
   "cell_type": "code",
   "execution_count": null,
   "metadata": {},
   "outputs": [],
   "source": [
    "Card_Zip_df = DateDiff.groupby(['Cardnum', 'Merch zip']).apply(lambda df: subtract(df))"
   ]
  },
  {
   "cell_type": "code",
   "execution_count": null,
   "metadata": {},
   "outputs": [],
   "source": [
    "Card_Zip_df.head()"
   ]
  },
  {
   "cell_type": "code",
   "execution_count": null,
   "metadata": {},
   "outputs": [],
   "source": [
    "len(Card_Zip_df['Recnum'].unique())"
   ]
  },
  {
   "cell_type": "code",
   "execution_count": null,
   "metadata": {},
   "outputs": [],
   "source": [
    "Card_Zip = Card_Zip_df[['Recnum', 'Card_Zip_SinceLastTime']].reset_index(drop = 1)"
   ]
  },
  {
   "cell_type": "code",
   "execution_count": null,
   "metadata": {
    "scrolled": false
   },
   "outputs": [],
   "source": [
    "Merchant.head()"
   ]
  },
  {
   "cell_type": "markdown",
   "metadata": {},
   "source": [
    "### Card_State"
   ]
  },
  {
   "cell_type": "code",
   "execution_count": null,
   "metadata": {},
   "outputs": [],
   "source": [
    "def subtract(df):\n",
    "    temp_df = df.copy()\n",
    "    temp_df = temp_df.reset_index()\n",
    "#     print(temp_df)\n",
    "    temp_df['LastTime'] = temp_df['Date'].shift(1)\n",
    "    temp_df['Card_State_SinceLastTime'] = temp_df['Date'] - temp_df['LastTime']\n",
    "    return temp_df"
   ]
  },
  {
   "cell_type": "code",
   "execution_count": null,
   "metadata": {},
   "outputs": [],
   "source": [
    "Card_State_df = DateDiff.groupby(['Cardnum', 'Merch state']).apply(lambda df: subtract(df))"
   ]
  },
  {
   "cell_type": "code",
   "execution_count": null,
   "metadata": {},
   "outputs": [],
   "source": [
    "Card_State_df.head()"
   ]
  },
  {
   "cell_type": "code",
   "execution_count": null,
   "metadata": {},
   "outputs": [],
   "source": [
    "len(Card_State_df['Recnum'].unique())"
   ]
  },
  {
   "cell_type": "code",
   "execution_count": null,
   "metadata": {},
   "outputs": [],
   "source": [
    "Card_State = Card_State_df[['Recnum', 'Card_State_SinceLastTime']].reset_index(drop = 1)"
   ]
  },
  {
   "cell_type": "code",
   "execution_count": null,
   "metadata": {
    "scrolled": false
   },
   "outputs": [],
   "source": [
    "Card_State.head()"
   ]
  },
  {
   "cell_type": "markdown",
   "metadata": {},
   "source": [
    "### Days since Variables 5"
   ]
  },
  {
   "cell_type": "code",
   "execution_count": null,
   "metadata": {},
   "outputs": [],
   "source": [
    "Days_since_variables = Card.merge(Merchant, on = ['Recnum']) \\\n",
    ".merge(Card_Merchant, on = ['Recnum']) \\\n",
    ".merge(Card_Zip, on = ['Recnum']) \\\n",
    ".merge(Card_State, on = ['Recnum'])"
   ]
  },
  {
   "cell_type": "code",
   "execution_count": null,
   "metadata": {},
   "outputs": [],
   "source": [
    "Days_since_variables.head()"
   ]
  },
  {
   "cell_type": "code",
   "execution_count": null,
   "metadata": {},
   "outputs": [],
   "source": [
    "Days_since_variables.shape"
   ]
  },
  {
   "cell_type": "markdown",
   "metadata": {},
   "source": [
    "## Velocity change Variables"
   ]
  },
  {
   "cell_type": "markdown",
   "metadata": {},
   "source": [
    "### Count_Card_0 + 1"
   ]
  },
  {
   "cell_type": "code",
   "execution_count": null,
   "metadata": {},
   "outputs": [],
   "source": [
    "count_card_1 = df.groupby(['Cardnum'])['Amount'].rolling('1d').count().reset_index()\n",
    "count_card_1['Card_Count_1'] = count_card_1['Amount'].astype('int')\n",
    "del count_card_1['Amount']\n",
    "count_card_1['order'] = count_card_1.groupby(['Cardnum', 'Date']).cumcount() + 1"
   ]
  },
  {
   "cell_type": "code",
   "execution_count": null,
   "metadata": {},
   "outputs": [],
   "source": [
    "df['order'] = df.groupby(['Cardnum', 'Date']).cumcount() + 1"
   ]
  },
  {
   "cell_type": "code",
   "execution_count": null,
   "metadata": {},
   "outputs": [],
   "source": [
    "count_card_1.shape"
   ]
  },
  {
   "cell_type": "code",
   "execution_count": null,
   "metadata": {},
   "outputs": [],
   "source": [
    "NC1 = df.merge(count_card_1, on = ['Cardnum', 'Date', 'order'])"
   ]
  },
  {
   "cell_type": "code",
   "execution_count": null,
   "metadata": {},
   "outputs": [],
   "source": [
    "NC1.shape"
   ]
  },
  {
   "cell_type": "code",
   "execution_count": null,
   "metadata": {},
   "outputs": [],
   "source": [
    "NC1 = NC1[['Recnum', 'Card_Count_1']]"
   ]
  },
  {
   "cell_type": "code",
   "execution_count": null,
   "metadata": {},
   "outputs": [],
   "source": [
    "NC1['Card_Count_0'] = 1"
   ]
  },
  {
   "cell_type": "code",
   "execution_count": null,
   "metadata": {},
   "outputs": [],
   "source": [
    "NC01 = NC1.copy()"
   ]
  },
  {
   "cell_type": "code",
   "execution_count": null,
   "metadata": {},
   "outputs": [],
   "source": [
    "NC01 = NC01.rename(columns = {'Card_Count_1':\"NC1\", 'Card_Count_0':\"NC0\"})"
   ]
  },
  {
   "cell_type": "code",
   "execution_count": null,
   "metadata": {},
   "outputs": [],
   "source": [
    "NC01.head()"
   ]
  },
  {
   "cell_type": "code",
   "execution_count": null,
   "metadata": {},
   "outputs": [],
   "source": [
    "len(NC01['Recnum'].unique())"
   ]
  },
  {
   "cell_type": "markdown",
   "metadata": {},
   "source": [
    "### Count_Merchant_0 + 1"
   ]
  },
  {
   "cell_type": "code",
   "execution_count": null,
   "metadata": {},
   "outputs": [],
   "source": [
    "count_merchant_1 = df.groupby(['Merchnum'])['Amount'].rolling('1d').count().reset_index()\n",
    "count_merchant_1['Merchant_Count_1'] = count_merchant_1['Amount'].astype('int')\n",
    "del count_merchant_1['Amount']\n",
    "count_merchant_1['order'] = count_merchant_1.groupby(['Merchnum', 'Date']).cumcount() + 1"
   ]
  },
  {
   "cell_type": "code",
   "execution_count": null,
   "metadata": {},
   "outputs": [],
   "source": [
    "count_merchant_1.shape"
   ]
  },
  {
   "cell_type": "code",
   "execution_count": null,
   "metadata": {},
   "outputs": [],
   "source": [
    "df['order'] = df.groupby(['Merchnum', 'Date']).cumcount() + 1"
   ]
  },
  {
   "cell_type": "code",
   "execution_count": null,
   "metadata": {},
   "outputs": [],
   "source": [
    "NM1 = df.merge(count_merchant_1, on = ['Merchnum', 'Date', 'order'])"
   ]
  },
  {
   "cell_type": "code",
   "execution_count": null,
   "metadata": {},
   "outputs": [],
   "source": [
    "NM1.shape"
   ]
  },
  {
   "cell_type": "code",
   "execution_count": null,
   "metadata": {},
   "outputs": [],
   "source": [
    "NM1 = NM1[['Recnum', 'Merchant_Count_1']]"
   ]
  },
  {
   "cell_type": "code",
   "execution_count": null,
   "metadata": {},
   "outputs": [],
   "source": [
    "NM1['Merchant_Count_0'] = 1"
   ]
  },
  {
   "cell_type": "code",
   "execution_count": null,
   "metadata": {},
   "outputs": [],
   "source": [
    "NM01 = NM1.copy()"
   ]
  },
  {
   "cell_type": "code",
   "execution_count": null,
   "metadata": {},
   "outputs": [],
   "source": [
    "NM01 = NM01.rename(columns = {'Merchant_Count_1':\"NM1\", 'Merchant_Count_0':\"NM0\"})"
   ]
  },
  {
   "cell_type": "code",
   "execution_count": null,
   "metadata": {},
   "outputs": [],
   "source": [
    "NM01.head()"
   ]
  },
  {
   "cell_type": "code",
   "execution_count": null,
   "metadata": {},
   "outputs": [],
   "source": [
    "len(NM01['Recnum'].unique())"
   ]
  },
  {
   "cell_type": "markdown",
   "metadata": {},
   "source": [
    "### Amount_Card_0 + 1"
   ]
  },
  {
   "cell_type": "code",
   "execution_count": null,
   "metadata": {},
   "outputs": [],
   "source": [
    "sum_card_1 = df.groupby(['Cardnum'])['Amount'].rolling('1d').sum().reset_index()\n",
    "sum_card_1['order'] = sum_card_1.groupby(['Cardnum', 'Date']).cumcount() + 1"
   ]
  },
  {
   "cell_type": "code",
   "execution_count": null,
   "metadata": {},
   "outputs": [],
   "source": [
    "sum_card_1.shape"
   ]
  },
  {
   "cell_type": "code",
   "execution_count": null,
   "metadata": {},
   "outputs": [],
   "source": [
    "df['order'] = df.groupby(['Cardnum', 'Date']).cumcount() + 1"
   ]
  },
  {
   "cell_type": "code",
   "execution_count": null,
   "metadata": {},
   "outputs": [],
   "source": [
    "AC1 = df.merge(sum_card_1, on = ['Cardnum', 'Date', 'order'], suffixes=['_0', '_1'])"
   ]
  },
  {
   "cell_type": "code",
   "execution_count": null,
   "metadata": {},
   "outputs": [],
   "source": [
    "AC1.head()"
   ]
  },
  {
   "cell_type": "code",
   "execution_count": null,
   "metadata": {},
   "outputs": [],
   "source": [
    "AC01 = AC1[['Recnum', 'Amount_0', 'Amount_1']]"
   ]
  },
  {
   "cell_type": "code",
   "execution_count": null,
   "metadata": {},
   "outputs": [],
   "source": [
    "AC01 = AC01.rename(columns={'Amount_0':'Card_Amount_0', 'Amount_1':'Card_Amount_1'})"
   ]
  },
  {
   "cell_type": "code",
   "execution_count": null,
   "metadata": {},
   "outputs": [],
   "source": [
    "AC01 = AC01.rename(columns = {'Card_Amount_0':\"AC0\", 'Card_Amount_1':\"AC1\"})"
   ]
  },
  {
   "cell_type": "code",
   "execution_count": null,
   "metadata": {},
   "outputs": [],
   "source": [
    "AC01.tail()"
   ]
  },
  {
   "cell_type": "code",
   "execution_count": null,
   "metadata": {},
   "outputs": [],
   "source": [
    "len(AC01['Recnum'].unique())"
   ]
  },
  {
   "cell_type": "markdown",
   "metadata": {},
   "source": [
    "### Amount_Merchant_0 + 1"
   ]
  },
  {
   "cell_type": "code",
   "execution_count": null,
   "metadata": {},
   "outputs": [],
   "source": [
    "sum_merchant_1 = df.groupby(['Merchnum'])['Amount'].rolling('1d').sum().reset_index()\n",
    "sum_merchant_1['order'] = sum_merchant_1.groupby(['Merchnum', 'Date']).cumcount() + 1"
   ]
  },
  {
   "cell_type": "code",
   "execution_count": null,
   "metadata": {},
   "outputs": [],
   "source": [
    "df['order'] = df.groupby(['Merchnum', 'Date']).cumcount() + 1"
   ]
  },
  {
   "cell_type": "code",
   "execution_count": null,
   "metadata": {},
   "outputs": [],
   "source": [
    "AM1 = df.merge(sum_merchant_1, on = ['Merchnum', 'Date', 'order'], suffixes=['_0', '_1'])"
   ]
  },
  {
   "cell_type": "code",
   "execution_count": null,
   "metadata": {},
   "outputs": [],
   "source": [
    "AM1.head()"
   ]
  },
  {
   "cell_type": "code",
   "execution_count": null,
   "metadata": {},
   "outputs": [],
   "source": [
    "AM01 = AM1[['Recnum', 'Amount_0', 'Amount_1']]"
   ]
  },
  {
   "cell_type": "code",
   "execution_count": null,
   "metadata": {},
   "outputs": [],
   "source": [
    "AM01 = AM01.rename(columns={'Amount_0':'Merchant_Amount_0', 'Amount_1':'Merchant_Amount_1'})"
   ]
  },
  {
   "cell_type": "code",
   "execution_count": null,
   "metadata": {},
   "outputs": [],
   "source": [
    "AM01 = AM01.rename(columns = {'Merchant_Amount_0':\"AM0\", 'Merchant_Amount_1':\"AM1\"})"
   ]
  },
  {
   "cell_type": "code",
   "execution_count": null,
   "metadata": {},
   "outputs": [],
   "source": [
    "AM01.tail()"
   ]
  },
  {
   "cell_type": "markdown",
   "metadata": {},
   "source": [
    "### Numerator"
   ]
  },
  {
   "cell_type": "code",
   "execution_count": null,
   "metadata": {},
   "outputs": [],
   "source": [
    "Numerator = NC01.merge(NM01, on = 'Recnum').merge(AC01, on = 'Recnum').merge(AM01, on = 'Recnum')"
   ]
  },
  {
   "cell_type": "code",
   "execution_count": null,
   "metadata": {},
   "outputs": [],
   "source": [
    "Numerator.tail()"
   ]
  },
  {
   "cell_type": "code",
   "execution_count": null,
   "metadata": {},
   "outputs": [],
   "source": [
    "Numerator.shape"
   ]
  },
  {
   "cell_type": "code",
   "execution_count": null,
   "metadata": {},
   "outputs": [],
   "source": [
    "len(Numerator['Recnum'].unique())"
   ]
  },
  {
   "cell_type": "markdown",
   "metadata": {},
   "source": [
    "### Average Count_Card_7"
   ]
  },
  {
   "cell_type": "code",
   "execution_count": null,
   "metadata": {},
   "outputs": [],
   "source": [
    "count_card_7 = df.groupby(['Cardnum'])['Amount'].rolling('7d').count().reset_index()\n",
    "count_card_7['Card_Count'] = count_card_7['Amount'].astype('int')\n",
    "count_card_7['Average_Card_Count_7'] = count_card_7['Card_Count'] / 7.0\n",
    "del count_card_7['Amount']\n",
    "count_card_7['order'] = count_card_7.groupby(['Cardnum', 'Date']).cumcount() + 1"
   ]
  },
  {
   "cell_type": "code",
   "execution_count": null,
   "metadata": {},
   "outputs": [],
   "source": [
    "count_card_7.tail()"
   ]
  },
  {
   "cell_type": "code",
   "execution_count": null,
   "metadata": {},
   "outputs": [],
   "source": [
    "df['order'] = df.groupby(['Cardnum', 'Date']).cumcount() + 1"
   ]
  },
  {
   "cell_type": "code",
   "execution_count": null,
   "metadata": {},
   "outputs": [],
   "source": [
    "ANC7 = df.merge(count_card_7, on = ['Cardnum', 'Date', 'order'], suffixes=['_Original', '_1'])"
   ]
  },
  {
   "cell_type": "code",
   "execution_count": null,
   "metadata": {
    "scrolled": true
   },
   "outputs": [],
   "source": [
    "ANC7 = ANC7[['Recnum', 'Average_Card_Count_7']]"
   ]
  },
  {
   "cell_type": "code",
   "execution_count": null,
   "metadata": {},
   "outputs": [],
   "source": [
    "ANC7 = ANC7.rename(columns = {\"Average_Card_Count_7\": \"ANC7\"})"
   ]
  },
  {
   "cell_type": "code",
   "execution_count": null,
   "metadata": {},
   "outputs": [],
   "source": [
    "ANC7.head()"
   ]
  },
  {
   "cell_type": "code",
   "execution_count": null,
   "metadata": {},
   "outputs": [],
   "source": [
    "ANC7.shape"
   ]
  },
  {
   "cell_type": "code",
   "execution_count": null,
   "metadata": {},
   "outputs": [],
   "source": [
    "len(ANC7['Recnum'].unique())"
   ]
  },
  {
   "cell_type": "markdown",
   "metadata": {},
   "source": [
    "### Average Count_Card_14"
   ]
  },
  {
   "cell_type": "code",
   "execution_count": null,
   "metadata": {},
   "outputs": [],
   "source": [
    "count_card_14 = df.groupby(['Cardnum'])['Amount'].rolling('14d').count().reset_index()\n",
    "count_card_14['Card_Count'] = count_card_14['Amount'].astype('int')\n",
    "count_card_14['Average_Card_Count_14'] = count_card_14['Card_Count'] / 14.0\n",
    "del count_card_14['Amount']\n",
    "count_card_14['order'] = count_card_14.groupby(['Cardnum', 'Date']).cumcount() + 1"
   ]
  },
  {
   "cell_type": "code",
   "execution_count": null,
   "metadata": {},
   "outputs": [],
   "source": [
    "count_card_14.tail()"
   ]
  },
  {
   "cell_type": "code",
   "execution_count": null,
   "metadata": {},
   "outputs": [],
   "source": [
    "df['order'] = df.groupby(['Cardnum', 'Date']).cumcount() + 1"
   ]
  },
  {
   "cell_type": "code",
   "execution_count": null,
   "metadata": {},
   "outputs": [],
   "source": [
    "ANC14 = df.merge(count_card_14, on = ['Cardnum', 'Date', 'order'], suffixes=['_Original', '_1'])"
   ]
  },
  {
   "cell_type": "code",
   "execution_count": null,
   "metadata": {},
   "outputs": [],
   "source": [
    "ANC14 = ANC14[['Recnum', 'Average_Card_Count_14']]"
   ]
  },
  {
   "cell_type": "code",
   "execution_count": null,
   "metadata": {},
   "outputs": [],
   "source": [
    "ANC14 = ANC14.rename(columns = {\"Average_Card_Count_14\": \"ANC14\"})"
   ]
  },
  {
   "cell_type": "code",
   "execution_count": null,
   "metadata": {},
   "outputs": [],
   "source": [
    "ANC14.tail()"
   ]
  },
  {
   "cell_type": "code",
   "execution_count": null,
   "metadata": {},
   "outputs": [],
   "source": [
    "ANC14.shape"
   ]
  },
  {
   "cell_type": "code",
   "execution_count": null,
   "metadata": {},
   "outputs": [],
   "source": [
    "len(ANC14['Recnum'].unique())"
   ]
  },
  {
   "cell_type": "markdown",
   "metadata": {},
   "source": [
    "### Average Count_Card_30"
   ]
  },
  {
   "cell_type": "code",
   "execution_count": null,
   "metadata": {},
   "outputs": [],
   "source": [
    "count_card_30 = df.groupby(['Cardnum'])['Amount'].rolling('30d').count().reset_index()\n",
    "count_card_30['Card_Count'] = count_card_30['Amount'].astype('int')\n",
    "count_card_30['Average_Card_Count_30'] = count_card_30['Card_Count'] / 30.0\n",
    "del count_card_30['Amount']\n",
    "count_card_30['order'] = count_card_30.groupby(['Cardnum', 'Date']).cumcount() + 1"
   ]
  },
  {
   "cell_type": "code",
   "execution_count": null,
   "metadata": {},
   "outputs": [],
   "source": [
    "count_card_30.tail()"
   ]
  },
  {
   "cell_type": "code",
   "execution_count": null,
   "metadata": {},
   "outputs": [],
   "source": [
    "df['order'] = df.groupby(['Cardnum', 'Date']).cumcount() + 1"
   ]
  },
  {
   "cell_type": "code",
   "execution_count": null,
   "metadata": {},
   "outputs": [],
   "source": [
    "ANC30 = df.merge(count_card_30, on = ['Cardnum', 'Date', 'order'], suffixes=['_Original', '_1'])"
   ]
  },
  {
   "cell_type": "code",
   "execution_count": null,
   "metadata": {},
   "outputs": [],
   "source": [
    "ANC30 = ANC30[['Recnum', 'Average_Card_Count_30']]"
   ]
  },
  {
   "cell_type": "code",
   "execution_count": null,
   "metadata": {},
   "outputs": [],
   "source": [
    "ANC30 = ANC30.rename(columns = {\"Average_Card_Count_30\": \"ANC30\"})"
   ]
  },
  {
   "cell_type": "code",
   "execution_count": null,
   "metadata": {},
   "outputs": [],
   "source": [
    "ANC30.tail()"
   ]
  },
  {
   "cell_type": "code",
   "execution_count": null,
   "metadata": {},
   "outputs": [],
   "source": [
    "ANC30.shape"
   ]
  },
  {
   "cell_type": "code",
   "execution_count": null,
   "metadata": {},
   "outputs": [],
   "source": [
    "len(ANC30['Recnum'].unique())"
   ]
  },
  {
   "cell_type": "markdown",
   "metadata": {},
   "source": [
    "### Average Amount_Card_7"
   ]
  },
  {
   "cell_type": "code",
   "execution_count": null,
   "metadata": {},
   "outputs": [],
   "source": [
    "avg_card_7 = df.groupby(['Cardnum'])['Amount'].rolling('7d').mean().reset_index()\n",
    "avg_card_7['order'] = avg_card_7.groupby(['Cardnum', 'Date']).cumcount() + 1"
   ]
  },
  {
   "cell_type": "code",
   "execution_count": null,
   "metadata": {},
   "outputs": [],
   "source": [
    "avg_card_7 = avg_card_7.rename(columns = {\"Amount\":\"Average_Card_Amount_7\"})"
   ]
  },
  {
   "cell_type": "code",
   "execution_count": null,
   "metadata": {},
   "outputs": [],
   "source": [
    "avg_card_7.head()"
   ]
  },
  {
   "cell_type": "code",
   "execution_count": null,
   "metadata": {},
   "outputs": [],
   "source": [
    "df['order'] = df.groupby(['Cardnum', 'Date']).cumcount() + 1"
   ]
  },
  {
   "cell_type": "code",
   "execution_count": null,
   "metadata": {},
   "outputs": [],
   "source": [
    "AAC7 = df.merge(avg_card_7, on = ['Cardnum', 'Date', 'order'], suffixes=['_Original', '_1'])"
   ]
  },
  {
   "cell_type": "code",
   "execution_count": null,
   "metadata": {},
   "outputs": [],
   "source": [
    "AAC7 = AAC7[['Recnum', 'Average_Card_Amount_7']]"
   ]
  },
  {
   "cell_type": "code",
   "execution_count": null,
   "metadata": {},
   "outputs": [],
   "source": [
    "AAC7 = AAC7.rename(columns = {\"Average_Card_Amount_7\": \"ACC7\"})"
   ]
  },
  {
   "cell_type": "code",
   "execution_count": null,
   "metadata": {},
   "outputs": [],
   "source": [
    "AAC7.head()"
   ]
  },
  {
   "cell_type": "code",
   "execution_count": null,
   "metadata": {},
   "outputs": [],
   "source": [
    "AAC7.shape"
   ]
  },
  {
   "cell_type": "code",
   "execution_count": null,
   "metadata": {},
   "outputs": [],
   "source": [
    "len(AAC7['Recnum'].unique())"
   ]
  },
  {
   "cell_type": "markdown",
   "metadata": {},
   "source": [
    "### Average Amount_Card_14"
   ]
  },
  {
   "cell_type": "code",
   "execution_count": null,
   "metadata": {},
   "outputs": [],
   "source": [
    "avg_card_14 = df.groupby(['Cardnum'])['Amount'].rolling('14d').mean().reset_index()\n",
    "avg_card_14['order'] = avg_card_14.groupby(['Cardnum', 'Date']).cumcount() + 1"
   ]
  },
  {
   "cell_type": "code",
   "execution_count": null,
   "metadata": {},
   "outputs": [],
   "source": [
    "avg_card_14 = avg_card_14.rename(columns = {\"Amount\":\"Average_Card_Amount_14\"})"
   ]
  },
  {
   "cell_type": "code",
   "execution_count": null,
   "metadata": {},
   "outputs": [],
   "source": [
    "avg_card_14.head()"
   ]
  },
  {
   "cell_type": "code",
   "execution_count": null,
   "metadata": {},
   "outputs": [],
   "source": [
    "df['order'] = df.groupby(['Cardnum', 'Date']).cumcount() + 1"
   ]
  },
  {
   "cell_type": "code",
   "execution_count": null,
   "metadata": {},
   "outputs": [],
   "source": [
    "AAC14 = df.merge(avg_card_14, on = ['Cardnum', 'Date', 'order'], suffixes=['_Original', '_1'])"
   ]
  },
  {
   "cell_type": "code",
   "execution_count": null,
   "metadata": {},
   "outputs": [],
   "source": [
    "AAC14 = AAC14[['Recnum', 'Average_Card_Amount_14']]"
   ]
  },
  {
   "cell_type": "code",
   "execution_count": null,
   "metadata": {},
   "outputs": [],
   "source": [
    "AAC14 = AAC14.rename(columns = {\"Average_Card_Amount_14\": \"ACC14\"})"
   ]
  },
  {
   "cell_type": "code",
   "execution_count": null,
   "metadata": {},
   "outputs": [],
   "source": [
    "AAC14.head()"
   ]
  },
  {
   "cell_type": "code",
   "execution_count": null,
   "metadata": {},
   "outputs": [],
   "source": [
    "AAC14.shape"
   ]
  },
  {
   "cell_type": "code",
   "execution_count": null,
   "metadata": {},
   "outputs": [],
   "source": [
    "len(AAC14['Recnum'].unique())"
   ]
  },
  {
   "cell_type": "markdown",
   "metadata": {},
   "source": [
    "### Average Amount_Card_30"
   ]
  },
  {
   "cell_type": "code",
   "execution_count": null,
   "metadata": {},
   "outputs": [],
   "source": [
    "avg_card_30 = df.groupby(['Cardnum'])['Amount'].rolling('30d').mean().reset_index()\n",
    "avg_card_30['order'] = avg_card_30.groupby(['Cardnum', 'Date']).cumcount() + 1"
   ]
  },
  {
   "cell_type": "code",
   "execution_count": null,
   "metadata": {},
   "outputs": [],
   "source": [
    "avg_card_30 = avg_card_30.rename(columns = {\"Amount\":\"Average_Card_Amount_30\"})"
   ]
  },
  {
   "cell_type": "code",
   "execution_count": null,
   "metadata": {},
   "outputs": [],
   "source": [
    "avg_card_30.head()"
   ]
  },
  {
   "cell_type": "code",
   "execution_count": null,
   "metadata": {},
   "outputs": [],
   "source": [
    "df['order'] = df.groupby(['Cardnum', 'Date']).cumcount() + 1"
   ]
  },
  {
   "cell_type": "code",
   "execution_count": null,
   "metadata": {},
   "outputs": [],
   "source": [
    "AAC30 = df.merge(avg_card_30, on = ['Cardnum', 'Date', 'order'], suffixes=['_Original', '_1'])"
   ]
  },
  {
   "cell_type": "code",
   "execution_count": null,
   "metadata": {},
   "outputs": [],
   "source": [
    "AAC30 = AAC30[['Recnum', 'Average_Card_Amount_30']]"
   ]
  },
  {
   "cell_type": "code",
   "execution_count": null,
   "metadata": {},
   "outputs": [],
   "source": [
    "AAC30 = AAC30.rename(columns = {\"Average_Card_Amount_30\": \"ACC30\"})"
   ]
  },
  {
   "cell_type": "code",
   "execution_count": null,
   "metadata": {},
   "outputs": [],
   "source": [
    "AAC30.tail()"
   ]
  },
  {
   "cell_type": "code",
   "execution_count": null,
   "metadata": {},
   "outputs": [],
   "source": [
    "AAC30.shape"
   ]
  },
  {
   "cell_type": "code",
   "execution_count": null,
   "metadata": {},
   "outputs": [],
   "source": [
    "len(AAC30['Recnum'].unique())"
   ]
  },
  {
   "cell_type": "markdown",
   "metadata": {},
   "source": [
    "### Average Count_Merchant_7"
   ]
  },
  {
   "cell_type": "code",
   "execution_count": null,
   "metadata": {},
   "outputs": [],
   "source": [
    "count_merchant_7 = df.groupby(['Merchnum'])['Amount'].rolling('7d').count().reset_index()\n",
    "count_merchant_7['Merchant_Count'] = count_merchant_7['Amount'].astype('int')\n",
    "count_merchant_7['Average_Merchant_Count_7'] = count_merchant_7['Merchant_Count'] / 7.0\n",
    "del count_merchant_7['Amount']\n",
    "count_merchant_7['order'] = count_merchant_7.groupby(['Merchnum', 'Date']).cumcount() + 1\n",
    "\n",
    "df['order'] = df.groupby(['Merchnum', 'Date']).cumcount() + 1\n",
    "\n",
    "ANM7 = df.merge(count_merchant_7, on = ['Merchnum', 'Date', 'order'], suffixes=['_Original', '_1'])\n",
    "\n",
    "ANM7 = ANM7[['Recnum', 'Average_Merchant_Count_7']]"
   ]
  },
  {
   "cell_type": "code",
   "execution_count": null,
   "metadata": {},
   "outputs": [],
   "source": [
    "ANM7 = ANM7.rename(columns = {\"Average_Merchant_Count_7\": \"ANM7\"})"
   ]
  },
  {
   "cell_type": "code",
   "execution_count": null,
   "metadata": {},
   "outputs": [],
   "source": [
    "ANM7.head()"
   ]
  },
  {
   "cell_type": "code",
   "execution_count": null,
   "metadata": {},
   "outputs": [],
   "source": [
    "ANM7.shape"
   ]
  },
  {
   "cell_type": "code",
   "execution_count": null,
   "metadata": {},
   "outputs": [],
   "source": [
    "len(ANM7['Recnum'].unique())"
   ]
  },
  {
   "cell_type": "markdown",
   "metadata": {},
   "source": [
    "### Average Count_Merchant_14"
   ]
  },
  {
   "cell_type": "code",
   "execution_count": null,
   "metadata": {},
   "outputs": [],
   "source": [
    "count_merchant_14 = df.groupby(['Merchnum'])['Amount'].rolling('14d').count().reset_index()\n",
    "count_merchant_14['Merchant_Count'] = count_merchant_14['Amount'].astype('int')\n",
    "count_merchant_14['Average_Merchant_Count_14'] = count_merchant_14['Merchant_Count'] / 14.0\n",
    "del count_merchant_14['Amount']\n",
    "count_merchant_14['order'] = count_merchant_14.groupby(['Merchnum', 'Date']).cumcount() + 1\n",
    "\n",
    "df['order'] = df.groupby(['Merchnum', 'Date']).cumcount() + 1\n",
    "\n",
    "ANM14 = df.merge(count_merchant_14, on = ['Merchnum', 'Date', 'order'], suffixes=['_Original', '_1'])\n",
    "\n",
    "ANM14 = ANM14[['Recnum', 'Average_Merchant_Count_14']]"
   ]
  },
  {
   "cell_type": "code",
   "execution_count": null,
   "metadata": {},
   "outputs": [],
   "source": [
    "ANM14 = ANM14.rename(columns = {\"Average_Merchant_Count_14\": \"ANM14\"})"
   ]
  },
  {
   "cell_type": "code",
   "execution_count": null,
   "metadata": {},
   "outputs": [],
   "source": [
    "ANM14.tail()"
   ]
  },
  {
   "cell_type": "code",
   "execution_count": null,
   "metadata": {},
   "outputs": [],
   "source": [
    "ANM14.shape"
   ]
  },
  {
   "cell_type": "code",
   "execution_count": null,
   "metadata": {},
   "outputs": [],
   "source": [
    "len(ANM14['Recnum'].unique())"
   ]
  },
  {
   "cell_type": "markdown",
   "metadata": {},
   "source": [
    "### Average Count_Merchant_30"
   ]
  },
  {
   "cell_type": "code",
   "execution_count": null,
   "metadata": {},
   "outputs": [],
   "source": [
    "count_merchant_30 = df.groupby(['Merchnum'])['Amount'].rolling('30d').count().reset_index()\n",
    "count_merchant_30['Merchant_Count'] = count_merchant_30['Amount'].astype('int')\n",
    "count_merchant_30['Average_Merchant_Count_30'] = count_merchant_30['Merchant_Count'] / 30.0\n",
    "del count_merchant_30['Amount']\n",
    "count_merchant_30['order'] = count_merchant_30.groupby(['Merchnum', 'Date']).cumcount() + 1\n",
    "\n",
    "df['order'] = df.groupby(['Merchnum', 'Date']).cumcount() + 1\n",
    "\n",
    "ANM30 = df.merge(count_merchant_30, on = ['Merchnum', 'Date', 'order'], suffixes=['_Original', '_1'])\n",
    "\n",
    "ANM30 = ANM30[['Recnum', 'Average_Merchant_Count_30']]"
   ]
  },
  {
   "cell_type": "code",
   "execution_count": null,
   "metadata": {},
   "outputs": [],
   "source": [
    "ANM30 = ANM30.rename(columns = {\"Average_Merchant_Count_30\": \"ANM30\"})"
   ]
  },
  {
   "cell_type": "code",
   "execution_count": null,
   "metadata": {},
   "outputs": [],
   "source": [
    "ANM30.tail()"
   ]
  },
  {
   "cell_type": "code",
   "execution_count": null,
   "metadata": {},
   "outputs": [],
   "source": [
    "ANM30.shape"
   ]
  },
  {
   "cell_type": "code",
   "execution_count": null,
   "metadata": {},
   "outputs": [],
   "source": [
    "len(ANM30['Recnum'].unique())"
   ]
  },
  {
   "cell_type": "markdown",
   "metadata": {},
   "source": [
    "### Average Amount_Merchant_7"
   ]
  },
  {
   "cell_type": "code",
   "execution_count": null,
   "metadata": {},
   "outputs": [],
   "source": [
    "avg_merchant_7 = df.groupby(['Merchnum'])['Amount'].rolling('7d').mean().reset_index()\n",
    "avg_merchant_7['order'] = avg_merchant_7.groupby(['Merchnum', 'Date']).cumcount() + 1\n",
    "\n",
    "avg_merchant_7 = avg_merchant_7.rename(columns = {\"Amount\":\"Average_Merchant_Amount_7\"})\n",
    "\n",
    "df['order'] = df.groupby(['Merchnum', 'Date']).cumcount() + 1\n",
    "\n",
    "AAM7 = df.merge(avg_merchant_7, on = ['Merchnum', 'Date', 'order'], suffixes=['_Original', '_1'])\n",
    "\n",
    "AAM7 = AAM7[['Recnum', 'Average_Merchant_Amount_7']]"
   ]
  },
  {
   "cell_type": "code",
   "execution_count": null,
   "metadata": {},
   "outputs": [],
   "source": [
    "AAM7 = AAM7.rename(columns = {\"Average_Merchant_Amount_7\": \"AAM7\"})"
   ]
  },
  {
   "cell_type": "code",
   "execution_count": null,
   "metadata": {},
   "outputs": [],
   "source": [
    "AAM7.head()"
   ]
  },
  {
   "cell_type": "code",
   "execution_count": null,
   "metadata": {},
   "outputs": [],
   "source": [
    "AAM7.shape"
   ]
  },
  {
   "cell_type": "code",
   "execution_count": null,
   "metadata": {},
   "outputs": [],
   "source": [
    "len(AAM7['Recnum'].unique())"
   ]
  },
  {
   "cell_type": "markdown",
   "metadata": {},
   "source": [
    "### Average Amount_Merchant_14"
   ]
  },
  {
   "cell_type": "code",
   "execution_count": null,
   "metadata": {},
   "outputs": [],
   "source": [
    "avg_merchant_14 = df.groupby(['Merchnum'])['Amount'].rolling('14d').mean().reset_index()\n",
    "avg_merchant_14['order'] = avg_merchant_14.groupby(['Merchnum', 'Date']).cumcount() + 1\n",
    "\n",
    "avg_merchant_14 = avg_merchant_14.rename(columns = {\"Amount\":\"Average_Merchant_Amount_14\"})\n",
    "\n",
    "df['order'] = df.groupby(['Merchnum', 'Date']).cumcount() + 1\n",
    "\n",
    "AAM14 = df.merge(avg_merchant_14, on = ['Merchnum', 'Date', 'order'], suffixes=['_Original', '_1'])\n",
    "\n",
    "AAM14 = AAM14[['Recnum', 'Average_Merchant_Amount_14']]"
   ]
  },
  {
   "cell_type": "code",
   "execution_count": null,
   "metadata": {},
   "outputs": [],
   "source": [
    "AAM14 = AAM14.rename(columns = {\"Average_Merchant_Amount_14\": \"AAM14\"})"
   ]
  },
  {
   "cell_type": "code",
   "execution_count": null,
   "metadata": {},
   "outputs": [],
   "source": [
    "AAM14.tail()"
   ]
  },
  {
   "cell_type": "code",
   "execution_count": null,
   "metadata": {},
   "outputs": [],
   "source": [
    "AAM14.shape"
   ]
  },
  {
   "cell_type": "code",
   "execution_count": null,
   "metadata": {},
   "outputs": [],
   "source": [
    "len(AAM14['Recnum'].unique())"
   ]
  },
  {
   "cell_type": "markdown",
   "metadata": {},
   "source": [
    "### Average Amount_Merchant_30"
   ]
  },
  {
   "cell_type": "code",
   "execution_count": null,
   "metadata": {},
   "outputs": [],
   "source": [
    "avg_merchant_30 = df.groupby(['Merchnum'])['Amount'].rolling('30d').mean().reset_index()\n",
    "avg_merchant_30['order'] = avg_merchant_30.groupby(['Merchnum', 'Date']).cumcount() + 1\n",
    "\n",
    "avg_merchant_30 = avg_merchant_30.rename(columns = {\"Amount\":\"Average_Merchant_Amount_30\"})\n",
    "\n",
    "df['order'] = df.groupby(['Merchnum', 'Date']).cumcount() + 1\n",
    "\n",
    "AAM30 = df.merge(avg_merchant_30, on = ['Merchnum', 'Date', 'order'], suffixes=['_Original', '_1'])\n",
    "\n",
    "AAM30 = AAM30[['Recnum', 'Average_Merchant_Amount_30']]"
   ]
  },
  {
   "cell_type": "code",
   "execution_count": null,
   "metadata": {},
   "outputs": [],
   "source": [
    "AAM30 = AAM30.rename(columns = {\"Average_Merchant_Amount_30\": \"AAM30\"})"
   ]
  },
  {
   "cell_type": "code",
   "execution_count": null,
   "metadata": {},
   "outputs": [],
   "source": [
    "AAM30.tail()"
   ]
  },
  {
   "cell_type": "code",
   "execution_count": null,
   "metadata": {},
   "outputs": [],
   "source": [
    "AAM30.shape"
   ]
  },
  {
   "cell_type": "code",
   "execution_count": null,
   "metadata": {},
   "outputs": [],
   "source": [
    "len(AAM30['Recnum'].unique())"
   ]
  },
  {
   "cell_type": "markdown",
   "metadata": {},
   "source": [
    "### Denominator"
   ]
  },
  {
   "cell_type": "code",
   "execution_count": null,
   "metadata": {},
   "outputs": [],
   "source": [
    "Denominator = ANC7.merge(ANC14, on = 'Recnum') \\\n",
    ".merge(ANC30, on = 'Recnum') \\\n",
    ".merge(AAC7, on = 'Recnum') \\\n",
    ".merge(AAC14, on = 'Recnum') \\\n",
    ".merge(AAC30, on = 'Recnum') \\\n",
    ".merge(ANM7, on = 'Recnum') \\\n",
    ".merge(ANM14, on = 'Recnum') \\\n",
    ".merge(ANM30, on = 'Recnum') \\\n",
    ".merge(AAM7, on = 'Recnum') \\\n",
    ".merge(AAM14, on = 'Recnum') \\\n",
    ".merge(AAM30, on = 'Recnum') \\"
   ]
  },
  {
   "cell_type": "code",
   "execution_count": null,
   "metadata": {},
   "outputs": [],
   "source": [
    "Denominator.head()"
   ]
  },
  {
   "cell_type": "code",
   "execution_count": null,
   "metadata": {},
   "outputs": [],
   "source": [
    "Denominator.shape"
   ]
  },
  {
   "cell_type": "code",
   "execution_count": null,
   "metadata": {},
   "outputs": [],
   "source": [
    "len(Denominator['Recnum'].unique())"
   ]
  },
  {
   "cell_type": "markdown",
   "metadata": {},
   "source": [
    "### Velocity change variables 96"
   ]
  },
  {
   "cell_type": "code",
   "execution_count": null,
   "metadata": {},
   "outputs": [],
   "source": [
    "temp = {}\n",
    "for Num in Numerator.columns:\n",
    "    if Num != 'Recnum':\n",
    "        for Den in Denominator.columns:\n",
    "            if Den != 'Recnum':\n",
    "                temp[Num + '_' + Den] = Numerator.loc[:,Num].values / Denominator.loc[:,Den].values"
   ]
  },
  {
   "cell_type": "code",
   "execution_count": null,
   "metadata": {},
   "outputs": [],
   "source": [
    "Velocity_change_variables = pd.DataFrame(temp)"
   ]
  },
  {
   "cell_type": "code",
   "execution_count": null,
   "metadata": {},
   "outputs": [],
   "source": [
    "Velocity_change_variables['Recnum'] = df['Recnum'].values"
   ]
  },
  {
   "cell_type": "code",
   "execution_count": null,
   "metadata": {},
   "outputs": [],
   "source": [
    "Velocity_change_variables.head()"
   ]
  },
  {
   "cell_type": "markdown",
   "metadata": {},
   "source": [
    "# Merge All DataFrame"
   ]
  },
  {
   "cell_type": "code",
   "execution_count": null,
   "metadata": {},
   "outputs": [],
   "source": [
    "Amount_variables.head()"
   ]
  },
  {
   "cell_type": "code",
   "execution_count": null,
   "metadata": {},
   "outputs": [],
   "source": [
    "Frequency_variables.head()"
   ]
  },
  {
   "cell_type": "code",
   "execution_count": null,
   "metadata": {},
   "outputs": [],
   "source": [
    "Days_since_variables.head()"
   ]
  },
  {
   "cell_type": "code",
   "execution_count": null,
   "metadata": {},
   "outputs": [],
   "source": [
    "Velocity_change_variables.head()"
   ]
  },
  {
   "cell_type": "code",
   "execution_count": null,
   "metadata": {},
   "outputs": [],
   "source": [
    "Days_since_int_variables = Days_since_variables.copy()"
   ]
  },
  {
   "cell_type": "code",
   "execution_count": null,
   "metadata": {},
   "outputs": [],
   "source": [
    "Days_since_int_variables['Card_SinceLastTime'] = Days_since_variables['Card_SinceLastTime'].dt.days\n",
    "Days_since_int_variables['Merchant_SinceLastTime'] = Days_since_variables['Merchant_SinceLastTime'].dt.days\n",
    "Days_since_int_variables['Card_Merchant_SinceLastTime'] = Days_since_variables['Card_Merchant_SinceLastTime'].dt.days\n",
    "Days_since_int_variables['Card_Zip_SinceLastTime'] = Days_since_variables['Card_Zip_SinceLastTime'].dt.days\n",
    "Days_since_int_variables['Card_State_SinceLastTime'] = Days_since_variables['Card_State_SinceLastTime'].dt.days"
   ]
  },
  {
   "cell_type": "code",
   "execution_count": null,
   "metadata": {},
   "outputs": [],
   "source": [
    "Days_since_int_variables = Days_since_int_variables.fillna(0)"
   ]
  },
  {
   "cell_type": "code",
   "execution_count": null,
   "metadata": {},
   "outputs": [],
   "source": [
    "Days_since_int_variables.head()"
   ]
  },
  {
   "cell_type": "code",
   "execution_count": null,
   "metadata": {},
   "outputs": [],
   "source": [
    "all_df_Amount_variables = Amount_variables.copy()\n",
    "del all_df_Amount_variables['Date']\n",
    "del all_df_Amount_variables['Fraud']\n",
    "all_df_Frequency_variables = Frequency_variables.copy()\n",
    "del all_df_Frequency_variables['Date']\n",
    "del all_df_Frequency_variables['Transtype']\n",
    "all_df_Days_since_int_variables = Days_since_int_variables.copy()\n",
    "all_df_Velocity_change_variables = Velocity_change_variables.copy()"
   ]
  },
  {
   "cell_type": "code",
   "execution_count": null,
   "metadata": {},
   "outputs": [],
   "source": [
    "all_df = all_df_Amount_variables.merge(all_df_Frequency_variables, on = 'Recnum') \\\n",
    ".merge(all_df_Days_since_int_variables, on = 'Recnum') \\\n",
    ".merge(all_df_Velocity_change_variables, on = 'Recnum')"
   ]
  },
  {
   "cell_type": "code",
   "execution_count": null,
   "metadata": {},
   "outputs": [],
   "source": [
    "all_df.shape"
   ]
  },
  {
   "cell_type": "code",
   "execution_count": null,
   "metadata": {},
   "outputs": [],
   "source": [
    "all_df.columns.values"
   ]
  },
  {
   "cell_type": "code",
   "execution_count": null,
   "metadata": {},
   "outputs": [],
   "source": [
    "all_df.to_csv('/Users/chengyinliu/all_df_before_1101.csv')"
   ]
  },
  {
   "cell_type": "code",
   "execution_count": null,
   "metadata": {},
   "outputs": [],
   "source": []
  }
 ],
 "metadata": {
  "kernelspec": {
   "display_name": "Python 3",
   "language": "python",
   "name": "python3"
  },
  "language_info": {
   "codemirror_mode": {
    "name": "ipython",
    "version": 3
   },
   "file_extension": ".py",
   "mimetype": "text/x-python",
   "name": "python",
   "nbconvert_exporter": "python",
   "pygments_lexer": "ipython3",
   "version": "3.7.2"
  },
  "toc": {
   "base_numbering": 1,
   "nav_menu": {},
   "number_sections": true,
   "sideBar": true,
   "skip_h1_title": false,
   "title_cell": "Table of Contents",
   "title_sidebar": "Contents",
   "toc_cell": false,
   "toc_position": {
    "height": "calc(100% - 180px)",
    "left": "10px",
    "top": "150px",
    "width": "289px"
   },
   "toc_section_display": true,
   "toc_window_display": true
  }
 },
 "nbformat": 4,
 "nbformat_minor": 2
}
