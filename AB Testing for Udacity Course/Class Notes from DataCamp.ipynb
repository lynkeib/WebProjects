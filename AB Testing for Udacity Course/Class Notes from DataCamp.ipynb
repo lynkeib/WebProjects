{
 "cells": [
  {
   "cell_type": "markdown",
   "metadata": {},
   "source": [
    "+ A/B Tests: Measure impact of changes on KPIs\n",
    "+ KPIs: metrics important to an organization\n",
    "    + How to identify: Experience + Domain knowledge + EDA\n",
    "        + Experience + Knowledge: What is important to a business\n",
    "        + EDA: What metrics and relationships impact these KPIs\n",
    "    + Choosing a KPI\n",
    "        + Stability over time\n",
    "        + Importance across different user groups\n",
    "        + Correlation with other business factors"
   ]
  },
  {
   "cell_type": "code",
   "execution_count": null,
   "metadata": {},
   "outputs": [],
   "source": []
  }
 ],
 "metadata": {
  "kernelspec": {
   "display_name": "Python 3",
   "language": "python",
   "name": "python3"
  },
  "language_info": {
   "codemirror_mode": {
    "name": "ipython",
    "version": 3
   },
   "file_extension": ".py",
   "mimetype": "text/x-python",
   "name": "python",
   "nbconvert_exporter": "python",
   "pygments_lexer": "ipython3",
   "version": "3.7.1"
  },
  "toc": {
   "base_numbering": 1,
   "nav_menu": {},
   "number_sections": true,
   "sideBar": true,
   "skip_h1_title": false,
   "title_cell": "Table of Contents",
   "title_sidebar": "Contents",
   "toc_cell": false,
   "toc_position": {},
   "toc_section_display": true,
   "toc_window_display": false
  }
 },
 "nbformat": 4,
 "nbformat_minor": 2
}
