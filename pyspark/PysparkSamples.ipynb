{
 "cells": [
  {
   "cell_type": "markdown",
   "metadata": {},
   "source": [
    "# 5. Pyspark simple projects"
   ]
  },
  {
   "cell_type": "markdown",
   "metadata": {},
   "source": [
    "Read in a single file"
   ]
  },
  {
   "cell_type": "code",
   "execution_count": 1,
   "metadata": {},
   "outputs": [],
   "source": [
    "from pyspark.sql import SparkSession\n",
    "from pyspark import SparkContext"
   ]
  },
  {
   "cell_type": "code",
   "execution_count": 2,
   "metadata": {},
   "outputs": [],
   "source": [
    "sc = SparkContext.getOrCreate()\n",
    "spark = SparkSession(sc)"
   ]
  },
  {
   "cell_type": "code",
   "execution_count": 3,
   "metadata": {},
   "outputs": [],
   "source": [
    "path = 'Data/cogsley_clients.csv'\n",
    "data = sc.textFile(path).cache()"
   ]
  },
  {
   "cell_type": "code",
   "execution_count": 4,
   "metadata": {},
   "outputs": [
    {
     "data": {
      "text/plain": [
       "[u'Name,Symbol,LastSale,MarketCapLabel,MarketCapAmount,IPOyear,Sector,industry,Summary Quote',\n",
       " u'1347 Capital Corp.,TFSC,9.43,$56.09M,56090000,2014,Finance,Business Services,http://www.nasdaq.com/symbol/tfsc',\n",
       " u'1347 Capital Corp.,TFSCR,0.37,n/a,0,2014,Finance,Business Services,http://www.nasdaq.com/symbol/tfscr',\n",
       " u'1347 Capital Corp.,TFSCU,9.97,$41.67M,41670000,2014,n/a,n/a,http://www.nasdaq.com/symbol/tfscu',\n",
       " u'1347 Capital Corp.,TFSCW,0.2,n/a,0,2014,Finance,Business Services,http://www.nasdaq.com/symbol/tfscw']"
      ]
     },
     "execution_count": 4,
     "metadata": {},
     "output_type": "execute_result"
    }
   ],
   "source": [
    "data.take(5)"
   ]
  },
  {
   "cell_type": "code",
   "execution_count": 5,
   "metadata": {},
   "outputs": [],
   "source": [
    "numcomputer = data.filter(lambda s:'computer' in s.lower()).count()"
   ]
  },
  {
   "cell_type": "code",
   "execution_count": 6,
   "metadata": {},
   "outputs": [
    {
     "data": {
      "text/plain": [
       "176"
      ]
     },
     "execution_count": 6,
     "metadata": {},
     "output_type": "execute_result"
    }
   ],
   "source": [
    "numcomputer"
   ]
  },
  {
   "cell_type": "markdown",
   "metadata": {},
   "source": [
    "Read in mutiple files"
   ]
  },
  {
   "cell_type": "code",
   "execution_count": 7,
   "metadata": {},
   "outputs": [],
   "source": [
    "path = 'Data/Sales/*.csv'\n",
    "files = sc.wholeTextFiles(path)"
   ]
  },
  {
   "cell_type": "code",
   "execution_count": 8,
   "metadata": {},
   "outputs": [
    {
     "data": {
      "text/plain": [
       "84"
      ]
     },
     "execution_count": 8,
     "metadata": {},
     "output_type": "execute_result"
    }
   ],
   "source": [
    "files.count()"
   ]
  },
  {
   "cell_type": "code",
   "execution_count": 9,
   "metadata": {},
   "outputs": [],
   "source": [
    "## Converst to Dataframe\n",
    "filenames = files.toDF(['name', 'data'])"
   ]
  },
  {
   "cell_type": "code",
   "execution_count": 10,
   "metadata": {},
   "outputs": [
    {
     "name": "stdout",
     "output_type": "stream",
     "text": [
      "+--------------------+--------------------+\n",
      "|                name|                data|\n",
      "+--------------------+--------------------+\n",
      "|file:/Users/cheng...|36034,10/16/12,10...|\n",
      "|file:/Users/cheng...|26305,12/2/10,50,...|\n",
      "+--------------------+--------------------+\n",
      "only showing top 2 rows\n",
      "\n"
     ]
    }
   ],
   "source": [
    "filenames.show(2)"
   ]
  },
  {
   "cell_type": "code",
   "execution_count": 11,
   "metadata": {},
   "outputs": [
    {
     "name": "stdout",
     "output_type": "stream",
     "text": [
      "+--------------------+\n",
      "|                name|\n",
      "+--------------------+\n",
      "|file:/Users/cheng...|\n",
      "|file:/Users/cheng...|\n",
      "+--------------------+\n",
      "only showing top 2 rows\n",
      "\n"
     ]
    }
   ],
   "source": [
    "filenames.select('name').show(2)"
   ]
  },
  {
   "cell_type": "markdown",
   "metadata": {},
   "source": [
    "Read csv files"
   ]
  },
  {
   "cell_type": "code",
   "execution_count": 12,
   "metadata": {},
   "outputs": [],
   "source": [
    "from pyspark.sql import SparkSession\n",
    "spark = SparkSession.builder.appName('test').getOrCreate()"
   ]
  },
  {
   "cell_type": "code",
   "execution_count": 13,
   "metadata": {},
   "outputs": [],
   "source": [
    "path = 'Data/parking-citations.csv'\n",
    "data = spark.read.csv(path).cache()"
   ]
  },
  {
   "cell_type": "code",
   "execution_count": 14,
   "metadata": {},
   "outputs": [
    {
     "data": {
      "text/plain": [
       "[Row(_c0=u'Ticket number', _c1=u'Issue Date', _c2=u'Issue time', _c3=u'Meter Id', _c4=u'Marked Time', _c5=u'RP State Plate', _c6=u'Plate Expiry Date', _c7=u'VIN', _c8=u'Make', _c9=u'Body Style', _c10=u'Color', _c11=u'Location', _c12=u'Route', _c13=u'Agency', _c14=u'Violation code', _c15=u'Violation Description', _c16=u'Fine amount', _c17=u'Latitude', _c18=u'Longitude'),\n",
       " Row(_c0=u'1103341116', _c1=u'2015-12-21T00:00:00', _c2=u'1251', _c3=None, _c4=None, _c5=u'CA', _c6=u'200304', _c7=None, _c8=u'HOND', _c9=u'PA', _c10=u'GY', _c11=u'13147 WELBY WAY', _c12=u'01521', _c13=u'1', _c14=u'4000A1', _c15=u'NO EVIDENCE OF REG', _c16=u'50', _c17=u'99999', _c18=u'99999'),\n",
       " Row(_c0=u'1103700150', _c1=u'2015-12-21T00:00:00', _c2=u'1435', _c3=None, _c4=None, _c5=u'CA', _c6=u'201512', _c7=None, _c8=u'GMC', _c9=u'VN', _c10=u'WH', _c11=u'525 S MAIN ST', _c12=u'1C51', _c13=u'1', _c14=u'4000A1', _c15=u'NO EVIDENCE OF REG', _c16=u'50', _c17=u'99999', _c18=u'99999'),\n",
       " Row(_c0=u'1104803000', _c1=u'2015-12-21T00:00:00', _c2=u'2055', _c3=None, _c4=None, _c5=u'CA', _c6=u'201503', _c7=None, _c8=u'NISS', _c9=u'PA', _c10=u'BK', _c11=u'200 WORLD WAY', _c12=u'2R2', _c13=u'2', _c14=u'8939', _c15=u'WHITE CURB', _c16=u'58', _c17=u'6439997.9', _c18=u'1802686.4'),\n",
       " Row(_c0=u'1104820732', _c1=u'2015-12-26T00:00:00', _c2=u'1515', _c3=None, _c4=None, _c5=u'CA', _c6=None, _c7=None, _c8=u'ACUR', _c9=u'PA', _c10=u'WH', _c11=u'100 WORLD WAY', _c12=u'2F11', _c13=u'2', _c14=u'000', _c15=u'17104h', _c16=None, _c17=u'6440041.1', _c18=u'1802686.2')]"
      ]
     },
     "execution_count": 14,
     "metadata": {},
     "output_type": "execute_result"
    }
   ],
   "source": [
    "data.take(5)"
   ]
  },
  {
   "cell_type": "code",
   "execution_count": 15,
   "metadata": {},
   "outputs": [
    {
     "name": "stdout",
     "output_type": "stream",
     "text": [
      "+-------------+-------------------+----------+--------+-----------+--------------+-----------------+----+----+----------+-----+---------------+-----+------+--------------+---------------------+-----------+--------+---------+\n",
      "|Ticket number|         Issue Date|Issue time|Meter Id|Marked Time|RP State Plate|Plate Expiry Date| VIN|Make|Body Style|Color|       Location|Route|Agency|Violation code|Violation Description|Fine amount|Latitude|Longitude|\n",
      "+-------------+-------------------+----------+--------+-----------+--------------+-----------------+----+----+----------+-----+---------------+-----+------+--------------+---------------------+-----------+--------+---------+\n",
      "|1.103341116E9|2015-12-21 00:00:00|    1251.0|    null|       null|            CA|         200304.0|null|HOND|        PA|   GY|13147 WELBY WAY|01521|   1.0|        4000A1|   NO EVIDENCE OF REG|       50.0| 99999.0|  99999.0|\n",
      "| 1.10370015E9|2015-12-21 00:00:00|    1435.0|    null|       null|            CA|         201512.0|null| GMC|        VN|   WH|  525 S MAIN ST| 1C51|   1.0|        4000A1|   NO EVIDENCE OF REG|       50.0| 99999.0|  99999.0|\n",
      "+-------------+-------------------+----------+--------+-----------+--------------+-----------------+----+----+----------+-----+---------------+-----+------+--------------+---------------------+-----------+--------+---------+\n",
      "only showing top 2 rows\n",
      "\n"
     ]
    }
   ],
   "source": [
    "df = spark.read.load(path,\n",
    "                    format = 'com.databricks.spark.csv',\n",
    "                    header = 'true',\n",
    "                    inferSchema = 'true')\n",
    "df.show(2)"
   ]
  },
  {
   "cell_type": "code",
   "execution_count": 16,
   "metadata": {},
   "outputs": [
    {
     "name": "stdout",
     "output_type": "stream",
     "text": [
      "+-------------+\n",
      "|Ticket number|\n",
      "+-------------+\n",
      "| 1.00109632E9|\n",
      "|1.001096331E9|\n",
      "+-------------+\n",
      "only showing top 2 rows\n",
      "\n"
     ]
    }
   ],
   "source": [
    "df.select('Ticket number').distinct().orderBy('Ticket number').show(2)"
   ]
  },
  {
   "cell_type": "code",
   "execution_count": 17,
   "metadata": {
    "scrolled": true
   },
   "outputs": [
    {
     "name": "stdout",
     "output_type": "stream",
     "text": [
      "root\n",
      " |-- Ticket number: double (nullable = true)\n",
      " |-- Issue Date: timestamp (nullable = true)\n",
      " |-- Issue time: double (nullable = true)\n",
      " |-- Meter Id: string (nullable = true)\n",
      " |-- Marked Time: double (nullable = true)\n",
      " |-- RP State Plate: string (nullable = true)\n",
      " |-- Plate Expiry Date: double (nullable = true)\n",
      " |-- VIN: string (nullable = true)\n",
      " |-- Make: string (nullable = true)\n",
      " |-- Body Style: string (nullable = true)\n",
      " |-- Color: string (nullable = true)\n",
      " |-- Location: string (nullable = true)\n",
      " |-- Route: string (nullable = true)\n",
      " |-- Agency: double (nullable = true)\n",
      " |-- Violation code: string (nullable = true)\n",
      " |-- Violation Description: string (nullable = true)\n",
      " |-- Fine amount: double (nullable = true)\n",
      " |-- Latitude: double (nullable = true)\n",
      " |-- Longitude: double (nullable = true)\n",
      "\n"
     ]
    }
   ],
   "source": [
    "df.printSchema()"
   ]
  },
  {
   "cell_type": "code",
   "execution_count": null,
   "metadata": {},
   "outputs": [],
   "source": []
  }
 ],
 "metadata": {
  "kernelspec": {
   "display_name": "Python 2",
   "language": "python",
   "name": "python2"
  },
  "language_info": {
   "codemirror_mode": {
    "name": "ipython",
    "version": 2
   },
   "file_extension": ".py",
   "mimetype": "text/x-python",
   "name": "python",
   "nbconvert_exporter": "python",
   "pygments_lexer": "ipython2",
   "version": "2.7.15"
  }
 },
 "nbformat": 4,
 "nbformat_minor": 2
}
