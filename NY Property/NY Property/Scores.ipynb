{
 "cells": [
  {
   "cell_type": "code",
   "execution_count": 1,
   "metadata": {},
   "outputs": [],
   "source": [
    "import pandas as pd\n",
    "import matplotlib.pyplot as plt\n",
    "import seaborn as sns\n",
    "%matplotlib inline"
   ]
  },
  {
   "cell_type": "code",
   "execution_count": 2,
   "metadata": {},
   "outputs": [],
   "source": [
    "sns.set_style(\"darkgrid\")"
   ]
  },
  {
   "cell_type": "code",
   "execution_count": 3,
   "metadata": {},
   "outputs": [
    {
     "name": "stderr",
     "output_type": "stream",
     "text": [
      "/Library/Frameworks/Python.framework/Versions/3.7/lib/python3.7/site-packages/numpy/lib/arraysetops.py:522: FutureWarning: elementwise comparison failed; returning scalar instead, but in the future will perform elementwise comparison\n",
      "  mask |= (ar1 == a)\n"
     ]
    }
   ],
   "source": [
    "HF = pd.read_csv('Data/Heuristic Function.csv', index_col = 0)\n",
    "AE = pd.read_csv('Data/Auto Encoder.csv', index_col = 0)"
   ]
  },
  {
   "cell_type": "code",
   "execution_count": 4,
   "metadata": {},
   "outputs": [
    {
     "data": {
      "text/html": [
       "<div>\n",
       "<style scoped>\n",
       "    .dataframe tbody tr th:only-of-type {\n",
       "        vertical-align: middle;\n",
       "    }\n",
       "\n",
       "    .dataframe tbody tr th {\n",
       "        vertical-align: top;\n",
       "    }\n",
       "\n",
       "    .dataframe thead th {\n",
       "        text-align: right;\n",
       "    }\n",
       "</style>\n",
       "<table border=\"1\" class=\"dataframe\">\n",
       "  <thead>\n",
       "    <tr style=\"text-align: right;\">\n",
       "      <th></th>\n",
       "      <th>Euclidean_Distance</th>\n",
       "      <th>BBLE</th>\n",
       "    </tr>\n",
       "  </thead>\n",
       "  <tbody>\n",
       "    <tr>\n",
       "      <th>0</th>\n",
       "      <td>1.537640</td>\n",
       "      <td>1000010101</td>\n",
       "    </tr>\n",
       "    <tr>\n",
       "      <th>1</th>\n",
       "      <td>24.818232</td>\n",
       "      <td>1000010201</td>\n",
       "    </tr>\n",
       "    <tr>\n",
       "      <th>2</th>\n",
       "      <td>0.162913</td>\n",
       "      <td>1000020001</td>\n",
       "    </tr>\n",
       "    <tr>\n",
       "      <th>3</th>\n",
       "      <td>0.166143</td>\n",
       "      <td>1000020023</td>\n",
       "    </tr>\n",
       "    <tr>\n",
       "      <th>4</th>\n",
       "      <td>24.311942</td>\n",
       "      <td>1000030001</td>\n",
       "    </tr>\n",
       "  </tbody>\n",
       "</table>\n",
       "</div>"
      ],
      "text/plain": [
       "   Euclidean_Distance        BBLE\n",
       "0            1.537640  1000010101\n",
       "1           24.818232  1000010201\n",
       "2            0.162913  1000020001\n",
       "3            0.166143  1000020023\n",
       "4           24.311942  1000030001"
      ]
     },
     "execution_count": 4,
     "metadata": {},
     "output_type": "execute_result"
    }
   ],
   "source": [
    "HF.head()"
   ]
  },
  {
   "cell_type": "code",
   "execution_count": 5,
   "metadata": {},
   "outputs": [
    {
     "name": "stdout",
     "output_type": "stream",
     "text": [
      "<class 'pandas.core.frame.DataFrame'>\n",
      "Int64Index: 1070994 entries, 0 to 1070993\n",
      "Data columns (total 2 columns):\n",
      "Euclidean_Distance    1070994 non-null float64\n",
      "BBLE                  1070994 non-null object\n",
      "dtypes: float64(1), object(1)\n",
      "memory usage: 24.5+ MB\n"
     ]
    }
   ],
   "source": [
    "HF.info()"
   ]
  },
  {
   "cell_type": "code",
   "execution_count": 6,
   "metadata": {},
   "outputs": [
    {
     "data": {
      "text/html": [
       "<div>\n",
       "<style scoped>\n",
       "    .dataframe tbody tr th:only-of-type {\n",
       "        vertical-align: middle;\n",
       "    }\n",
       "\n",
       "    .dataframe tbody tr th {\n",
       "        vertical-align: top;\n",
       "    }\n",
       "\n",
       "    .dataframe thead th {\n",
       "        text-align: right;\n",
       "    }\n",
       "</style>\n",
       "<table border=\"1\" class=\"dataframe\">\n",
       "  <thead>\n",
       "    <tr style=\"text-align: right;\">\n",
       "      <th></th>\n",
       "      <th>Euclidean_Distance</th>\n",
       "      <th>BBLE</th>\n",
       "    </tr>\n",
       "  </thead>\n",
       "  <tbody>\n",
       "    <tr>\n",
       "      <th>0</th>\n",
       "      <td>1.283709</td>\n",
       "      <td>1000010101</td>\n",
       "    </tr>\n",
       "    <tr>\n",
       "      <th>1</th>\n",
       "      <td>22.952194</td>\n",
       "      <td>1000010201</td>\n",
       "    </tr>\n",
       "    <tr>\n",
       "      <th>2</th>\n",
       "      <td>0.141263</td>\n",
       "      <td>1000020001</td>\n",
       "    </tr>\n",
       "    <tr>\n",
       "      <th>3</th>\n",
       "      <td>0.174201</td>\n",
       "      <td>1000020023</td>\n",
       "    </tr>\n",
       "    <tr>\n",
       "      <th>4</th>\n",
       "      <td>24.077547</td>\n",
       "      <td>1000030001</td>\n",
       "    </tr>\n",
       "  </tbody>\n",
       "</table>\n",
       "</div>"
      ],
      "text/plain": [
       "   Euclidean_Distance        BBLE\n",
       "0            1.283709  1000010101\n",
       "1           22.952194  1000010201\n",
       "2            0.141263  1000020001\n",
       "3            0.174201  1000020023\n",
       "4           24.077547  1000030001"
      ]
     },
     "execution_count": 6,
     "metadata": {},
     "output_type": "execute_result"
    }
   ],
   "source": [
    "AE.head()"
   ]
  },
  {
   "cell_type": "code",
   "execution_count": 7,
   "metadata": {},
   "outputs": [
    {
     "name": "stdout",
     "output_type": "stream",
     "text": [
      "<class 'pandas.core.frame.DataFrame'>\n",
      "Int64Index: 1070994 entries, 0 to 1070993\n",
      "Data columns (total 2 columns):\n",
      "Euclidean_Distance    1070994 non-null float64\n",
      "BBLE                  1070994 non-null object\n",
      "dtypes: float64(1), object(1)\n",
      "memory usage: 24.5+ MB\n"
     ]
    }
   ],
   "source": [
    "AE.info()"
   ]
  },
  {
   "cell_type": "code",
   "execution_count": 8,
   "metadata": {},
   "outputs": [],
   "source": [
    "AS = pd.merge(left = HF, right = AE, on = ['BBLE'], suffixes=('_HF', '_AE'))"
   ]
  },
  {
   "cell_type": "code",
   "execution_count": 9,
   "metadata": {},
   "outputs": [
    {
     "name": "stdout",
     "output_type": "stream",
     "text": [
      "<class 'pandas.core.frame.DataFrame'>\n",
      "Int64Index: 1070994 entries, 0 to 1070993\n",
      "Data columns (total 3 columns):\n",
      "Euclidean_Distance_HF    1070994 non-null float64\n",
      "BBLE                     1070994 non-null object\n",
      "Euclidean_Distance_AE    1070994 non-null float64\n",
      "dtypes: float64(2), object(1)\n",
      "memory usage: 32.7+ MB\n"
     ]
    }
   ],
   "source": [
    "AS.info()"
   ]
  },
  {
   "cell_type": "code",
   "execution_count": 10,
   "metadata": {},
   "outputs": [],
   "source": [
    "AS['SUM'] = AS['Euclidean_Distance_HF'] + AS['Euclidean_Distance_AE']"
   ]
  },
  {
   "cell_type": "code",
   "execution_count": 11,
   "metadata": {},
   "outputs": [],
   "source": [
    "AS = AS[['BBLE', 'Euclidean_Distance_HF', 'Euclidean_Distance_AE', 'SUM']]"
   ]
  },
  {
   "cell_type": "code",
   "execution_count": 12,
   "metadata": {},
   "outputs": [
    {
     "data": {
      "text/html": [
       "<div>\n",
       "<style scoped>\n",
       "    .dataframe tbody tr th:only-of-type {\n",
       "        vertical-align: middle;\n",
       "    }\n",
       "\n",
       "    .dataframe tbody tr th {\n",
       "        vertical-align: top;\n",
       "    }\n",
       "\n",
       "    .dataframe thead th {\n",
       "        text-align: right;\n",
       "    }\n",
       "</style>\n",
       "<table border=\"1\" class=\"dataframe\">\n",
       "  <thead>\n",
       "    <tr style=\"text-align: right;\">\n",
       "      <th></th>\n",
       "      <th>BBLE</th>\n",
       "      <th>Euclidean_Distance_HF</th>\n",
       "      <th>Euclidean_Distance_AE</th>\n",
       "      <th>SUM</th>\n",
       "    </tr>\n",
       "  </thead>\n",
       "  <tbody>\n",
       "    <tr>\n",
       "      <th>0</th>\n",
       "      <td>1000010101</td>\n",
       "      <td>1.537640</td>\n",
       "      <td>1.283709</td>\n",
       "      <td>2.821349</td>\n",
       "    </tr>\n",
       "    <tr>\n",
       "      <th>1</th>\n",
       "      <td>1000010201</td>\n",
       "      <td>24.818232</td>\n",
       "      <td>22.952194</td>\n",
       "      <td>47.770426</td>\n",
       "    </tr>\n",
       "    <tr>\n",
       "      <th>2</th>\n",
       "      <td>1000020001</td>\n",
       "      <td>0.162913</td>\n",
       "      <td>0.141263</td>\n",
       "      <td>0.304176</td>\n",
       "    </tr>\n",
       "    <tr>\n",
       "      <th>3</th>\n",
       "      <td>1000020023</td>\n",
       "      <td>0.166143</td>\n",
       "      <td>0.174201</td>\n",
       "      <td>0.340344</td>\n",
       "    </tr>\n",
       "    <tr>\n",
       "      <th>4</th>\n",
       "      <td>1000030001</td>\n",
       "      <td>24.311942</td>\n",
       "      <td>24.077547</td>\n",
       "      <td>48.389489</td>\n",
       "    </tr>\n",
       "  </tbody>\n",
       "</table>\n",
       "</div>"
      ],
      "text/plain": [
       "         BBLE  Euclidean_Distance_HF  Euclidean_Distance_AE        SUM\n",
       "0  1000010101               1.537640               1.283709   2.821349\n",
       "1  1000010201              24.818232              22.952194  47.770426\n",
       "2  1000020001               0.162913               0.141263   0.304176\n",
       "3  1000020023               0.166143               0.174201   0.340344\n",
       "4  1000030001              24.311942              24.077547  48.389489"
      ]
     },
     "execution_count": 12,
     "metadata": {},
     "output_type": "execute_result"
    }
   ],
   "source": [
    "AS.head()"
   ]
  },
  {
   "cell_type": "code",
   "execution_count": 13,
   "metadata": {},
   "outputs": [
    {
     "data": {
      "image/png": "[encoded data removed]",
      "text/plain": [
       "<Figure size 432x288 with 1 Axes>"
      ]
     },
     "metadata": {},
     "output_type": "display_data"
    }
   ],
   "source": [
    "plt.hist(AS['Euclidean_Distance_HF'], bins = 30, log = True)\n",
    "plt.xlabel('Heuristic Function Score')\n",
    "plt.ylabel('Count (log scale)')\n",
    "plt.title('Distribution of Heuristic Function Scores');"
   ]
  },
  {
   "cell_type": "code",
   "execution_count": 14,
   "metadata": {},
   "outputs": [
    {
     "data": {
      "image/png": "[encoded data removed]",
      "text/plain": [
       "<Figure size 432x288 with 1 Axes>"
      ]
     },
     "metadata": {},
     "output_type": "display_data"
    }
   ],
   "source": [
    "plt.hist(AS['Euclidean_Distance_AE'], bins = 30, log = True)\n",
    "plt.xlabel('Auto Encoder Score')\n",
    "plt.ylabel('Count (log scale)')\n",
    "plt.title('Distribution of Auto Encoder Scores');"
   ]
  },
  {
   "cell_type": "code",
   "execution_count": 15,
   "metadata": {},
   "outputs": [
    {
     "data": {
      "image/png": "[encoded data removed]",
      "text/plain": [
       "<Figure size 432x288 with 1 Axes>"
      ]
     },
     "metadata": {},
     "output_type": "display_data"
    }
   ],
   "source": [
    "plt.hist(AS['SUM'], bins = 30, log = True)\n",
    "plt.xlabel('Sum of Scores')\n",
    "plt.ylabel('Count (log scale)')\n",
    "plt.title('Distribution of Sum of Scores');"
   ]
  },
  {
   "cell_type": "code",
   "execution_count": 81,
   "metadata": {},
   "outputs": [
    {
     "data": {
      "text/html": [
       "<div>\n",
       "<style scoped>\n",
       "    .dataframe tbody tr th:only-of-type {\n",
       "        vertical-align: middle;\n",
       "    }\n",
       "\n",
       "    .dataframe tbody tr th {\n",
       "        vertical-align: top;\n",
       "    }\n",
       "\n",
       "    .dataframe thead th {\n",
       "        text-align: right;\n",
       "    }\n",
       "</style>\n",
       "<table border=\"1\" class=\"dataframe\">\n",
       "  <thead>\n",
       "    <tr style=\"text-align: right;\">\n",
       "      <th></th>\n",
       "      <th>BBLE</th>\n",
       "      <th>Euclidean_Distance_HF</th>\n",
       "      <th>Euclidean_Distance_AE</th>\n",
       "      <th>SUM</th>\n",
       "    </tr>\n",
       "  </thead>\n",
       "  <tbody>\n",
       "    <tr>\n",
       "      <th>632815</th>\n",
       "      <td>4018420001</td>\n",
       "      <td>1024.720577</td>\n",
       "      <td>1023.813313</td>\n",
       "      <td>2048.533890</td>\n",
       "    </tr>\n",
       "    <tr>\n",
       "      <th>776305</th>\n",
       "      <td>4080100001</td>\n",
       "      <td>912.718473</td>\n",
       "      <td>911.635123</td>\n",
       "      <td>1824.353596</td>\n",
       "    </tr>\n",
       "    <tr>\n",
       "      <th>565391</th>\n",
       "      <td>3085900700</td>\n",
       "      <td>885.116850</td>\n",
       "      <td>884.577705</td>\n",
       "      <td>1769.694554</td>\n",
       "    </tr>\n",
       "    <tr>\n",
       "      <th>1067359</th>\n",
       "      <td>5078530085</td>\n",
       "      <td>805.184492</td>\n",
       "      <td>803.502075</td>\n",
       "      <td>1608.686567</td>\n",
       "    </tr>\n",
       "    <tr>\n",
       "      <th>585117</th>\n",
       "      <td>4004200001</td>\n",
       "      <td>559.454341</td>\n",
       "      <td>558.748106</td>\n",
       "      <td>1118.202447</td>\n",
       "    </tr>\n",
       "    <tr>\n",
       "      <th>585438</th>\n",
       "      <td>4004590005</td>\n",
       "      <td>501.268249</td>\n",
       "      <td>500.521084</td>\n",
       "      <td>1001.789333</td>\n",
       "    </tr>\n",
       "    <tr>\n",
       "      <th>565397</th>\n",
       "      <td>3085910100</td>\n",
       "      <td>493.842597</td>\n",
       "      <td>493.799394</td>\n",
       "      <td>987.641991</td>\n",
       "    </tr>\n",
       "    <tr>\n",
       "      <th>85885</th>\n",
       "      <td>1012540010</td>\n",
       "      <td>483.650241</td>\n",
       "      <td>483.272188</td>\n",
       "      <td>966.922429</td>\n",
       "    </tr>\n",
       "    <tr>\n",
       "      <th>917941</th>\n",
       "      <td>4142600001</td>\n",
       "      <td>422.921011</td>\n",
       "      <td>422.009502</td>\n",
       "      <td>844.930513</td>\n",
       "    </tr>\n",
       "    <tr>\n",
       "      <th>750815</th>\n",
       "      <td>4066610005E</td>\n",
       "      <td>407.191244</td>\n",
       "      <td>405.658746</td>\n",
       "      <td>812.849990</td>\n",
       "    </tr>\n",
       "  </tbody>\n",
       "</table>\n",
       "</div>"
      ],
      "text/plain": [
       "                BBLE  Euclidean_Distance_HF  Euclidean_Distance_AE  \\\n",
       "632815    4018420001            1024.720577            1023.813313   \n",
       "776305    4080100001             912.718473             911.635123   \n",
       "565391    3085900700             885.116850             884.577705   \n",
       "1067359   5078530085             805.184492             803.502075   \n",
       "585117    4004200001             559.454341             558.748106   \n",
       "585438    4004590005             501.268249             500.521084   \n",
       "565397    3085910100             493.842597             493.799394   \n",
       "85885     1012540010             483.650241             483.272188   \n",
       "917941    4142600001             422.921011             422.009502   \n",
       "750815   4066610005E             407.191244             405.658746   \n",
       "\n",
       "                 SUM  \n",
       "632815   2048.533890  \n",
       "776305   1824.353596  \n",
       "565391   1769.694554  \n",
       "1067359  1608.686567  \n",
       "585117   1118.202447  \n",
       "585438   1001.789333  \n",
       "565397    987.641991  \n",
       "85885     966.922429  \n",
       "917941    844.930513  \n",
       "750815    812.849990  "
      ]
     },
     "execution_count": 81,
     "metadata": {},
     "output_type": "execute_result"
    }
   ],
   "source": [
    "AS.sort_values('Euclidean_Distance_HF', ascending = False).head(10)"
   ]
  },
  {
   "cell_type": "code",
   "execution_count": 82,
   "metadata": {},
   "outputs": [
    {
     "data": {
      "text/html": [
       "<div>\n",
       "<style scoped>\n",
       "    .dataframe tbody tr th:only-of-type {\n",
       "        vertical-align: middle;\n",
       "    }\n",
       "\n",
       "    .dataframe tbody tr th {\n",
       "        vertical-align: top;\n",
       "    }\n",
       "\n",
       "    .dataframe thead th {\n",
       "        text-align: right;\n",
       "    }\n",
       "</style>\n",
       "<table border=\"1\" class=\"dataframe\">\n",
       "  <thead>\n",
       "    <tr style=\"text-align: right;\">\n",
       "      <th></th>\n",
       "      <th>BBLE</th>\n",
       "      <th>Euclidean_Distance_HF</th>\n",
       "      <th>Euclidean_Distance_AE</th>\n",
       "      <th>SUM</th>\n",
       "    </tr>\n",
       "  </thead>\n",
       "  <tbody>\n",
       "    <tr>\n",
       "      <th>632815</th>\n",
       "      <td>4018420001</td>\n",
       "      <td>1024.720577</td>\n",
       "      <td>1023.813313</td>\n",
       "      <td>2048.533890</td>\n",
       "    </tr>\n",
       "    <tr>\n",
       "      <th>776305</th>\n",
       "      <td>4080100001</td>\n",
       "      <td>912.718473</td>\n",
       "      <td>911.635123</td>\n",
       "      <td>1824.353596</td>\n",
       "    </tr>\n",
       "    <tr>\n",
       "      <th>565391</th>\n",
       "      <td>3085900700</td>\n",
       "      <td>885.116850</td>\n",
       "      <td>884.577705</td>\n",
       "      <td>1769.694554</td>\n",
       "    </tr>\n",
       "    <tr>\n",
       "      <th>1067359</th>\n",
       "      <td>5078530085</td>\n",
       "      <td>805.184492</td>\n",
       "      <td>803.502075</td>\n",
       "      <td>1608.686567</td>\n",
       "    </tr>\n",
       "    <tr>\n",
       "      <th>585117</th>\n",
       "      <td>4004200001</td>\n",
       "      <td>559.454341</td>\n",
       "      <td>558.748106</td>\n",
       "      <td>1118.202447</td>\n",
       "    </tr>\n",
       "    <tr>\n",
       "      <th>585438</th>\n",
       "      <td>4004590005</td>\n",
       "      <td>501.268249</td>\n",
       "      <td>500.521084</td>\n",
       "      <td>1001.789333</td>\n",
       "    </tr>\n",
       "    <tr>\n",
       "      <th>565397</th>\n",
       "      <td>3085910100</td>\n",
       "      <td>493.842597</td>\n",
       "      <td>493.799394</td>\n",
       "      <td>987.641991</td>\n",
       "    </tr>\n",
       "    <tr>\n",
       "      <th>85885</th>\n",
       "      <td>1012540010</td>\n",
       "      <td>483.650241</td>\n",
       "      <td>483.272188</td>\n",
       "      <td>966.922429</td>\n",
       "    </tr>\n",
       "    <tr>\n",
       "      <th>917941</th>\n",
       "      <td>4142600001</td>\n",
       "      <td>422.921011</td>\n",
       "      <td>422.009502</td>\n",
       "      <td>844.930513</td>\n",
       "    </tr>\n",
       "    <tr>\n",
       "      <th>750815</th>\n",
       "      <td>4066610005E</td>\n",
       "      <td>407.191244</td>\n",
       "      <td>405.658746</td>\n",
       "      <td>812.849990</td>\n",
       "    </tr>\n",
       "  </tbody>\n",
       "</table>\n",
       "</div>"
      ],
      "text/plain": [
       "                BBLE  Euclidean_Distance_HF  Euclidean_Distance_AE  \\\n",
       "632815    4018420001            1024.720577            1023.813313   \n",
       "776305    4080100001             912.718473             911.635123   \n",
       "565391    3085900700             885.116850             884.577705   \n",
       "1067359   5078530085             805.184492             803.502075   \n",
       "585117    4004200001             559.454341             558.748106   \n",
       "585438    4004590005             501.268249             500.521084   \n",
       "565397    3085910100             493.842597             493.799394   \n",
       "85885     1012540010             483.650241             483.272188   \n",
       "917941    4142600001             422.921011             422.009502   \n",
       "750815   4066610005E             407.191244             405.658746   \n",
       "\n",
       "                 SUM  \n",
       "632815   2048.533890  \n",
       "776305   1824.353596  \n",
       "565391   1769.694554  \n",
       "1067359  1608.686567  \n",
       "585117   1118.202447  \n",
       "585438   1001.789333  \n",
       "565397    987.641991  \n",
       "85885     966.922429  \n",
       "917941    844.930513  \n",
       "750815    812.849990  "
      ]
     },
     "execution_count": 82,
     "metadata": {},
     "output_type": "execute_result"
    }
   ],
   "source": [
    "AS.sort_values('Euclidean_Distance_AE', ascending = False).head(10)"
   ]
  },
  {
   "cell_type": "code",
   "execution_count": 63,
   "metadata": {},
   "outputs": [
    {
     "data": {
      "text/html": [
       "<div>\n",
       "<style scoped>\n",
       "    .dataframe tbody tr th:only-of-type {\n",
       "        vertical-align: middle;\n",
       "    }\n",
       "\n",
       "    .dataframe tbody tr th {\n",
       "        vertical-align: top;\n",
       "    }\n",
       "\n",
       "    .dataframe thead th {\n",
       "        text-align: right;\n",
       "    }\n",
       "</style>\n",
       "<table border=\"1\" class=\"dataframe\">\n",
       "  <thead>\n",
       "    <tr style=\"text-align: right;\">\n",
       "      <th></th>\n",
       "      <th>BBLE</th>\n",
       "      <th>Euclidean_Distance_HF</th>\n",
       "      <th>Euclidean_Distance_AE</th>\n",
       "      <th>SUM</th>\n",
       "    </tr>\n",
       "  </thead>\n",
       "  <tbody>\n",
       "    <tr>\n",
       "      <th>632815</th>\n",
       "      <td>4018420001</td>\n",
       "      <td>1024.720577</td>\n",
       "      <td>1024.940893</td>\n",
       "      <td>2049.661470</td>\n",
       "    </tr>\n",
       "    <tr>\n",
       "      <th>776305</th>\n",
       "      <td>4080100001</td>\n",
       "      <td>912.718473</td>\n",
       "      <td>911.180198</td>\n",
       "      <td>1823.898671</td>\n",
       "    </tr>\n",
       "    <tr>\n",
       "      <th>565391</th>\n",
       "      <td>3085900700</td>\n",
       "      <td>885.116850</td>\n",
       "      <td>884.742928</td>\n",
       "      <td>1769.859778</td>\n",
       "    </tr>\n",
       "    <tr>\n",
       "      <th>1067359</th>\n",
       "      <td>5078530085</td>\n",
       "      <td>805.184492</td>\n",
       "      <td>803.204341</td>\n",
       "      <td>1608.388833</td>\n",
       "    </tr>\n",
       "    <tr>\n",
       "      <th>585117</th>\n",
       "      <td>4004200001</td>\n",
       "      <td>559.454341</td>\n",
       "      <td>557.886204</td>\n",
       "      <td>1117.340546</td>\n",
       "    </tr>\n",
       "    <tr>\n",
       "      <th>585438</th>\n",
       "      <td>4004590005</td>\n",
       "      <td>501.268249</td>\n",
       "      <td>499.246620</td>\n",
       "      <td>1000.514869</td>\n",
       "    </tr>\n",
       "    <tr>\n",
       "      <th>565397</th>\n",
       "      <td>3085910100</td>\n",
       "      <td>493.842597</td>\n",
       "      <td>492.763180</td>\n",
       "      <td>986.605777</td>\n",
       "    </tr>\n",
       "    <tr>\n",
       "      <th>85885</th>\n",
       "      <td>1012540010</td>\n",
       "      <td>483.650241</td>\n",
       "      <td>481.265813</td>\n",
       "      <td>964.916053</td>\n",
       "    </tr>\n",
       "    <tr>\n",
       "      <th>917941</th>\n",
       "      <td>4142600001</td>\n",
       "      <td>422.921011</td>\n",
       "      <td>422.139731</td>\n",
       "      <td>845.060742</td>\n",
       "    </tr>\n",
       "    <tr>\n",
       "      <th>750815</th>\n",
       "      <td>4066610005E</td>\n",
       "      <td>407.191244</td>\n",
       "      <td>405.463862</td>\n",
       "      <td>812.655106</td>\n",
       "    </tr>\n",
       "  </tbody>\n",
       "</table>\n",
       "</div>"
      ],
      "text/plain": [
       "                BBLE  Euclidean_Distance_HF  Euclidean_Distance_AE  \\\n",
       "632815    4018420001            1024.720577            1024.940893   \n",
       "776305    4080100001             912.718473             911.180198   \n",
       "565391    3085900700             885.116850             884.742928   \n",
       "1067359   5078530085             805.184492             803.204341   \n",
       "585117    4004200001             559.454341             557.886204   \n",
       "585438    4004590005             501.268249             499.246620   \n",
       "565397    3085910100             493.842597             492.763180   \n",
       "85885     1012540010             483.650241             481.265813   \n",
       "917941    4142600001             422.921011             422.139731   \n",
       "750815   4066610005E             407.191244             405.463862   \n",
       "\n",
       "                 SUM  \n",
       "632815   2049.661470  \n",
       "776305   1823.898671  \n",
       "565391   1769.859778  \n",
       "1067359  1608.388833  \n",
       "585117   1117.340546  \n",
       "585438   1000.514869  \n",
       "565397    986.605777  \n",
       "85885     964.916053  \n",
       "917941    845.060742  \n",
       "750815    812.655106  "
      ]
     },
     "execution_count": 63,
     "metadata": {},
     "output_type": "execute_result"
    }
   ],
   "source": [
    "AS.sort_values('SUM', ascending = False).head(10)"
   ]
  },
  {
   "cell_type": "code",
   "execution_count": 64,
   "metadata": {},
   "outputs": [],
   "source": [
    "AS.to_csv('Data/AS.csv')"
   ]
  },
  {
   "cell_type": "code",
   "execution_count": null,
   "metadata": {},
   "outputs": [],
   "source": []
  }
 ],
 "metadata": {
  "kernelspec": {
   "display_name": "Python 3",
   "language": "python",
   "name": "python3"
  },
  "language_info": {
   "codemirror_mode": {
    "name": "ipython",
    "version": 3
   },
   "file_extension": ".py",
   "mimetype": "text/x-python",
   "name": "python",
   "nbconvert_exporter": "python",
   "pygments_lexer": "ipython3",
   "version": "3.7.2"
  }
 },
 "nbformat": 4,
 "nbformat_minor": 2
}
