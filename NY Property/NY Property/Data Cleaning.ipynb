{
 "cells": [
  {
   "cell_type": "code",
   "execution_count": 1,
   "metadata": {},
   "outputs": [],
   "source": [
    "import pandas as pd\n",
    "import numpy as np\n",
    "from scipy import stats\n",
    "import warnings\n",
    "warnings.filterwarnings('ignore')"
   ]
  },
  {
   "cell_type": "code",
   "execution_count": 2,
   "metadata": {},
   "outputs": [],
   "source": [
    "df = pd.read_csv(\"Data/NY property data.csv\")"
   ]
  },
  {
   "cell_type": "code",
   "execution_count": 3,
   "metadata": {},
   "outputs": [
    {
     "data": {
      "text/html": [
       "<div>\n",
       "<style scoped>\n",
       "    .dataframe tbody tr th:only-of-type {\n",
       "        vertical-align: middle;\n",
       "    }\n",
       "\n",
       "    .dataframe tbody tr th {\n",
       "        vertical-align: top;\n",
       "    }\n",
       "\n",
       "    .dataframe thead th {\n",
       "        text-align: right;\n",
       "    }\n",
       "</style>\n",
       "<table border=\"1\" class=\"dataframe\">\n",
       "  <thead>\n",
       "    <tr style=\"text-align: right;\">\n",
       "      <th></th>\n",
       "      <th>RECORD</th>\n",
       "      <th>BBLE</th>\n",
       "      <th>B</th>\n",
       "      <th>BLOCK</th>\n",
       "      <th>LOT</th>\n",
       "      <th>EASEMENT</th>\n",
       "      <th>OWNER</th>\n",
       "      <th>BLDGCL</th>\n",
       "      <th>TAXCLASS</th>\n",
       "      <th>LTFRONT</th>\n",
       "      <th>...</th>\n",
       "      <th>BLDFRONT</th>\n",
       "      <th>BLDDEPTH</th>\n",
       "      <th>AVLAND2</th>\n",
       "      <th>AVTOT2</th>\n",
       "      <th>EXLAND2</th>\n",
       "      <th>EXTOT2</th>\n",
       "      <th>EXCD2</th>\n",
       "      <th>PERIOD</th>\n",
       "      <th>YEAR</th>\n",
       "      <th>VALTYPE</th>\n",
       "    </tr>\n",
       "  </thead>\n",
       "  <tbody>\n",
       "    <tr>\n",
       "      <th>0</th>\n",
       "      <td>1</td>\n",
       "      <td>1000010101</td>\n",
       "      <td>1</td>\n",
       "      <td>1</td>\n",
       "      <td>101</td>\n",
       "      <td>NaN</td>\n",
       "      <td>U S GOVT LAND &amp; BLDGS</td>\n",
       "      <td>P7</td>\n",
       "      <td>4</td>\n",
       "      <td>500</td>\n",
       "      <td>...</td>\n",
       "      <td>0</td>\n",
       "      <td>0</td>\n",
       "      <td>3775500.0</td>\n",
       "      <td>8613000.0</td>\n",
       "      <td>3775500.0</td>\n",
       "      <td>8613000.0</td>\n",
       "      <td>NaN</td>\n",
       "      <td>FINAL</td>\n",
       "      <td>2010/11</td>\n",
       "      <td>AC-TR</td>\n",
       "    </tr>\n",
       "    <tr>\n",
       "      <th>1</th>\n",
       "      <td>2</td>\n",
       "      <td>1000010201</td>\n",
       "      <td>1</td>\n",
       "      <td>1</td>\n",
       "      <td>201</td>\n",
       "      <td>NaN</td>\n",
       "      <td>U S GOVT LAND &amp; BLDGS</td>\n",
       "      <td>Z9</td>\n",
       "      <td>4</td>\n",
       "      <td>27</td>\n",
       "      <td>...</td>\n",
       "      <td>0</td>\n",
       "      <td>0</td>\n",
       "      <td>11111400.0</td>\n",
       "      <td>80690400.0</td>\n",
       "      <td>11111400.0</td>\n",
       "      <td>80690400.0</td>\n",
       "      <td>NaN</td>\n",
       "      <td>FINAL</td>\n",
       "      <td>2010/11</td>\n",
       "      <td>AC-TR</td>\n",
       "    </tr>\n",
       "    <tr>\n",
       "      <th>2</th>\n",
       "      <td>3</td>\n",
       "      <td>1000020001</td>\n",
       "      <td>1</td>\n",
       "      <td>2</td>\n",
       "      <td>1</td>\n",
       "      <td>NaN</td>\n",
       "      <td>DEPT OF GENERAL SERVI</td>\n",
       "      <td>Y7</td>\n",
       "      <td>4</td>\n",
       "      <td>709</td>\n",
       "      <td>...</td>\n",
       "      <td>709</td>\n",
       "      <td>564</td>\n",
       "      <td>32321790.0</td>\n",
       "      <td>40179510.0</td>\n",
       "      <td>32321790.0</td>\n",
       "      <td>40179510.0</td>\n",
       "      <td>NaN</td>\n",
       "      <td>FINAL</td>\n",
       "      <td>2010/11</td>\n",
       "      <td>AC-TR</td>\n",
       "    </tr>\n",
       "    <tr>\n",
       "      <th>3</th>\n",
       "      <td>4</td>\n",
       "      <td>1000020023</td>\n",
       "      <td>1</td>\n",
       "      <td>2</td>\n",
       "      <td>23</td>\n",
       "      <td>NaN</td>\n",
       "      <td>DEPARTMENT OF BUSINES</td>\n",
       "      <td>T2</td>\n",
       "      <td>4</td>\n",
       "      <td>793</td>\n",
       "      <td>...</td>\n",
       "      <td>85</td>\n",
       "      <td>551</td>\n",
       "      <td>13644000.0</td>\n",
       "      <td>15750000.0</td>\n",
       "      <td>13644000.0</td>\n",
       "      <td>15750000.0</td>\n",
       "      <td>NaN</td>\n",
       "      <td>FINAL</td>\n",
       "      <td>2010/11</td>\n",
       "      <td>AC-TR</td>\n",
       "    </tr>\n",
       "    <tr>\n",
       "      <th>4</th>\n",
       "      <td>5</td>\n",
       "      <td>1000030001</td>\n",
       "      <td>1</td>\n",
       "      <td>3</td>\n",
       "      <td>1</td>\n",
       "      <td>NaN</td>\n",
       "      <td>PARKS AND RECREATION</td>\n",
       "      <td>Q1</td>\n",
       "      <td>4</td>\n",
       "      <td>323</td>\n",
       "      <td>...</td>\n",
       "      <td>89</td>\n",
       "      <td>57</td>\n",
       "      <td>106348680.0</td>\n",
       "      <td>107758350.0</td>\n",
       "      <td>106348680.0</td>\n",
       "      <td>107758350.0</td>\n",
       "      <td>NaN</td>\n",
       "      <td>FINAL</td>\n",
       "      <td>2010/11</td>\n",
       "      <td>AC-TR</td>\n",
       "    </tr>\n",
       "  </tbody>\n",
       "</table>\n",
       "<p>5 rows × 32 columns</p>\n",
       "</div>"
      ],
      "text/plain": [
       "   RECORD        BBLE  B  BLOCK  LOT EASEMENT                  OWNER BLDGCL  \\\n",
       "0       1  1000010101  1      1  101      NaN  U S GOVT LAND & BLDGS     P7   \n",
       "1       2  1000010201  1      1  201      NaN  U S GOVT LAND & BLDGS     Z9   \n",
       "2       3  1000020001  1      2    1      NaN  DEPT OF GENERAL SERVI     Y7   \n",
       "3       4  1000020023  1      2   23      NaN  DEPARTMENT OF BUSINES     T2   \n",
       "4       5  1000030001  1      3    1      NaN   PARKS AND RECREATION     Q1   \n",
       "\n",
       "  TAXCLASS  LTFRONT   ...    BLDFRONT BLDDEPTH      AVLAND2       AVTOT2  \\\n",
       "0        4      500   ...           0        0    3775500.0    8613000.0   \n",
       "1        4       27   ...           0        0   11111400.0   80690400.0   \n",
       "2        4      709   ...         709      564   32321790.0   40179510.0   \n",
       "3        4      793   ...          85      551   13644000.0   15750000.0   \n",
       "4        4      323   ...          89       57  106348680.0  107758350.0   \n",
       "\n",
       "       EXLAND2       EXTOT2  EXCD2  PERIOD     YEAR VALTYPE  \n",
       "0    3775500.0    8613000.0    NaN   FINAL  2010/11   AC-TR  \n",
       "1   11111400.0   80690400.0    NaN   FINAL  2010/11   AC-TR  \n",
       "2   32321790.0   40179510.0    NaN   FINAL  2010/11   AC-TR  \n",
       "3   13644000.0   15750000.0    NaN   FINAL  2010/11   AC-TR  \n",
       "4  106348680.0  107758350.0    NaN   FINAL  2010/11   AC-TR  \n",
       "\n",
       "[5 rows x 32 columns]"
      ]
     },
     "execution_count": 3,
     "metadata": {},
     "output_type": "execute_result"
    }
   ],
   "source": [
    "df.head()"
   ]
  },
  {
   "cell_type": "code",
   "execution_count": 4,
   "metadata": {},
   "outputs": [],
   "source": [
    "df = df[['BBLE',\n",
    "         'B',\n",
    "         'TAXCLASS',\n",
    "         'ZIP',\n",
    "         'BLOCK',\n",
    "         'BLDGCL',\n",
    "         'FULLVAL', \n",
    "         'AVLAND', \n",
    "         'AVTOT', \n",
    "         'LTFRONT', \n",
    "         'LTDEPTH', \n",
    "         'BLDFRONT', \n",
    "         'BLDDEPTH', \n",
    "         'STORIES']]"
   ]
  },
  {
   "cell_type": "code",
   "execution_count": 5,
   "metadata": {},
   "outputs": [
    {
     "data": {
      "text/html": [
       "<div>\n",
       "<style scoped>\n",
       "    .dataframe tbody tr th:only-of-type {\n",
       "        vertical-align: middle;\n",
       "    }\n",
       "\n",
       "    .dataframe tbody tr th {\n",
       "        vertical-align: top;\n",
       "    }\n",
       "\n",
       "    .dataframe thead th {\n",
       "        text-align: right;\n",
       "    }\n",
       "</style>\n",
       "<table border=\"1\" class=\"dataframe\">\n",
       "  <thead>\n",
       "    <tr style=\"text-align: right;\">\n",
       "      <th></th>\n",
       "      <th>BBLE</th>\n",
       "      <th>B</th>\n",
       "      <th>TAXCLASS</th>\n",
       "      <th>ZIP</th>\n",
       "      <th>BLOCK</th>\n",
       "      <th>BLDGCL</th>\n",
       "      <th>FULLVAL</th>\n",
       "      <th>AVLAND</th>\n",
       "      <th>AVTOT</th>\n",
       "      <th>LTFRONT</th>\n",
       "      <th>LTDEPTH</th>\n",
       "      <th>BLDFRONT</th>\n",
       "      <th>BLDDEPTH</th>\n",
       "      <th>STORIES</th>\n",
       "    </tr>\n",
       "  </thead>\n",
       "  <tbody>\n",
       "    <tr>\n",
       "      <th>0</th>\n",
       "      <td>1000010101</td>\n",
       "      <td>1</td>\n",
       "      <td>4</td>\n",
       "      <td>10004.0</td>\n",
       "      <td>1</td>\n",
       "      <td>P7</td>\n",
       "      <td>21400000.0</td>\n",
       "      <td>4225500.0</td>\n",
       "      <td>9630000.0</td>\n",
       "      <td>500</td>\n",
       "      <td>1046</td>\n",
       "      <td>0</td>\n",
       "      <td>0</td>\n",
       "      <td>NaN</td>\n",
       "    </tr>\n",
       "    <tr>\n",
       "      <th>1</th>\n",
       "      <td>1000010201</td>\n",
       "      <td>1</td>\n",
       "      <td>4</td>\n",
       "      <td>10004.0</td>\n",
       "      <td>1</td>\n",
       "      <td>Z9</td>\n",
       "      <td>193800000.0</td>\n",
       "      <td>14310000.0</td>\n",
       "      <td>87210000.0</td>\n",
       "      <td>27</td>\n",
       "      <td>0</td>\n",
       "      <td>0</td>\n",
       "      <td>0</td>\n",
       "      <td>NaN</td>\n",
       "    </tr>\n",
       "    <tr>\n",
       "      <th>2</th>\n",
       "      <td>1000020001</td>\n",
       "      <td>1</td>\n",
       "      <td>4</td>\n",
       "      <td>10004.0</td>\n",
       "      <td>2</td>\n",
       "      <td>Y7</td>\n",
       "      <td>104686000.0</td>\n",
       "      <td>39008700.0</td>\n",
       "      <td>47108700.0</td>\n",
       "      <td>709</td>\n",
       "      <td>564</td>\n",
       "      <td>709</td>\n",
       "      <td>564</td>\n",
       "      <td>3.0</td>\n",
       "    </tr>\n",
       "    <tr>\n",
       "      <th>3</th>\n",
       "      <td>1000020023</td>\n",
       "      <td>1</td>\n",
       "      <td>4</td>\n",
       "      <td>10004.0</td>\n",
       "      <td>2</td>\n",
       "      <td>T2</td>\n",
       "      <td>39200000.0</td>\n",
       "      <td>15255000.0</td>\n",
       "      <td>17640000.0</td>\n",
       "      <td>793</td>\n",
       "      <td>551</td>\n",
       "      <td>85</td>\n",
       "      <td>551</td>\n",
       "      <td>2.0</td>\n",
       "    </tr>\n",
       "    <tr>\n",
       "      <th>4</th>\n",
       "      <td>1000030001</td>\n",
       "      <td>1</td>\n",
       "      <td>4</td>\n",
       "      <td>10004.0</td>\n",
       "      <td>3</td>\n",
       "      <td>Q1</td>\n",
       "      <td>272300000.0</td>\n",
       "      <td>121050000.0</td>\n",
       "      <td>122535000.0</td>\n",
       "      <td>323</td>\n",
       "      <td>1260</td>\n",
       "      <td>89</td>\n",
       "      <td>57</td>\n",
       "      <td>1.0</td>\n",
       "    </tr>\n",
       "  </tbody>\n",
       "</table>\n",
       "</div>"
      ],
      "text/plain": [
       "         BBLE  B TAXCLASS      ZIP  BLOCK BLDGCL      FULLVAL       AVLAND  \\\n",
       "0  1000010101  1        4  10004.0      1     P7   21400000.0    4225500.0   \n",
       "1  1000010201  1        4  10004.0      1     Z9  193800000.0   14310000.0   \n",
       "2  1000020001  1        4  10004.0      2     Y7  104686000.0   39008700.0   \n",
       "3  1000020023  1        4  10004.0      2     T2   39200000.0   15255000.0   \n",
       "4  1000030001  1        4  10004.0      3     Q1  272300000.0  121050000.0   \n",
       "\n",
       "         AVTOT  LTFRONT  LTDEPTH  BLDFRONT  BLDDEPTH  STORIES  \n",
       "0    9630000.0      500     1046         0         0      NaN  \n",
       "1   87210000.0       27        0         0         0      NaN  \n",
       "2   47108700.0      709      564       709       564      3.0  \n",
       "3   17640000.0      793      551        85       551      2.0  \n",
       "4  122535000.0      323     1260        89        57      1.0  "
      ]
     },
     "execution_count": 5,
     "metadata": {},
     "output_type": "execute_result"
    }
   ],
   "source": [
    "df.head()"
   ]
  },
  {
   "cell_type": "code",
   "execution_count": 6,
   "metadata": {},
   "outputs": [
    {
     "name": "stdout",
     "output_type": "stream",
     "text": [
      "<class 'pandas.core.frame.DataFrame'>\n",
      "RangeIndex: 1070994 entries, 0 to 1070993\n",
      "Data columns (total 14 columns):\n",
      "BBLE        1070994 non-null object\n",
      "B           1070994 non-null int64\n",
      "TAXCLASS    1070994 non-null object\n",
      "ZIP         1041104 non-null float64\n",
      "BLOCK       1070994 non-null int64\n",
      "BLDGCL      1070994 non-null object\n",
      "FULLVAL     1070994 non-null float64\n",
      "AVLAND      1070994 non-null float64\n",
      "AVTOT       1070994 non-null float64\n",
      "LTFRONT     1070994 non-null int64\n",
      "LTDEPTH     1070994 non-null int64\n",
      "BLDFRONT    1070994 non-null int64\n",
      "BLDDEPTH    1070994 non-null int64\n",
      "STORIES     1014730 non-null float64\n",
      "dtypes: float64(5), int64(6), object(3)\n",
      "memory usage: 114.4+ MB\n"
     ]
    }
   ],
   "source": [
    "df.info()"
   ]
  },
  {
   "cell_type": "code",
   "execution_count": 7,
   "metadata": {},
   "outputs": [
    {
     "data": {
      "text/html": [
       "<div>\n",
       "<style scoped>\n",
       "    .dataframe tbody tr th:only-of-type {\n",
       "        vertical-align: middle;\n",
       "    }\n",
       "\n",
       "    .dataframe tbody tr th {\n",
       "        vertical-align: top;\n",
       "    }\n",
       "\n",
       "    .dataframe thead th {\n",
       "        text-align: right;\n",
       "    }\n",
       "</style>\n",
       "<table border=\"1\" class=\"dataframe\">\n",
       "  <thead>\n",
       "    <tr style=\"text-align: right;\">\n",
       "      <th></th>\n",
       "      <th>B</th>\n",
       "      <th>ZIP</th>\n",
       "      <th>BLOCK</th>\n",
       "      <th>FULLVAL</th>\n",
       "      <th>AVLAND</th>\n",
       "      <th>AVTOT</th>\n",
       "      <th>LTFRONT</th>\n",
       "      <th>LTDEPTH</th>\n",
       "      <th>BLDFRONT</th>\n",
       "      <th>BLDDEPTH</th>\n",
       "      <th>STORIES</th>\n",
       "    </tr>\n",
       "  </thead>\n",
       "  <tbody>\n",
       "    <tr>\n",
       "      <th>count</th>\n",
       "      <td>1.070994e+06</td>\n",
       "      <td>1.041104e+06</td>\n",
       "      <td>1.070994e+06</td>\n",
       "      <td>1.070994e+06</td>\n",
       "      <td>1.070994e+06</td>\n",
       "      <td>1.070994e+06</td>\n",
       "      <td>1.070994e+06</td>\n",
       "      <td>1.070994e+06</td>\n",
       "      <td>1.070994e+06</td>\n",
       "      <td>1.070994e+06</td>\n",
       "      <td>1.014730e+06</td>\n",
       "    </tr>\n",
       "    <tr>\n",
       "      <th>mean</th>\n",
       "      <td>3.215427e+00</td>\n",
       "      <td>1.092396e+04</td>\n",
       "      <td>4.757239e+03</td>\n",
       "      <td>8.742645e+05</td>\n",
       "      <td>8.506792e+04</td>\n",
       "      <td>2.272382e+05</td>\n",
       "      <td>3.663530e+01</td>\n",
       "      <td>8.886159e+01</td>\n",
       "      <td>2.304277e+01</td>\n",
       "      <td>3.992284e+01</td>\n",
       "      <td>5.006918e+00</td>\n",
       "    </tr>\n",
       "    <tr>\n",
       "      <th>std</th>\n",
       "      <td>1.201197e+00</td>\n",
       "      <td>5.284208e+02</td>\n",
       "      <td>3.676579e+03</td>\n",
       "      <td>1.158243e+07</td>\n",
       "      <td>4.057260e+06</td>\n",
       "      <td>6.877529e+06</td>\n",
       "      <td>7.403284e+01</td>\n",
       "      <td>7.639628e+01</td>\n",
       "      <td>3.557970e+01</td>\n",
       "      <td>4.270715e+01</td>\n",
       "      <td>8.365707e+00</td>\n",
       "    </tr>\n",
       "    <tr>\n",
       "      <th>min</th>\n",
       "      <td>1.000000e+00</td>\n",
       "      <td>1.000100e+04</td>\n",
       "      <td>1.000000e+00</td>\n",
       "      <td>0.000000e+00</td>\n",
       "      <td>0.000000e+00</td>\n",
       "      <td>0.000000e+00</td>\n",
       "      <td>0.000000e+00</td>\n",
       "      <td>0.000000e+00</td>\n",
       "      <td>0.000000e+00</td>\n",
       "      <td>0.000000e+00</td>\n",
       "      <td>1.000000e+00</td>\n",
       "    </tr>\n",
       "    <tr>\n",
       "      <th>25%</th>\n",
       "      <td>3.000000e+00</td>\n",
       "      <td>1.031400e+04</td>\n",
       "      <td>1.555000e+03</td>\n",
       "      <td>3.040000e+05</td>\n",
       "      <td>9.180000e+03</td>\n",
       "      <td>1.837400e+04</td>\n",
       "      <td>1.900000e+01</td>\n",
       "      <td>8.000000e+01</td>\n",
       "      <td>1.500000e+01</td>\n",
       "      <td>2.600000e+01</td>\n",
       "      <td>2.000000e+00</td>\n",
       "    </tr>\n",
       "    <tr>\n",
       "      <th>50%</th>\n",
       "      <td>3.000000e+00</td>\n",
       "      <td>1.121400e+04</td>\n",
       "      <td>4.047000e+03</td>\n",
       "      <td>4.470000e+05</td>\n",
       "      <td>1.367800e+04</td>\n",
       "      <td>2.534000e+04</td>\n",
       "      <td>2.500000e+01</td>\n",
       "      <td>1.000000e+02</td>\n",
       "      <td>2.000000e+01</td>\n",
       "      <td>3.900000e+01</td>\n",
       "      <td>2.000000e+00</td>\n",
       "    </tr>\n",
       "    <tr>\n",
       "      <th>75%</th>\n",
       "      <td>4.000000e+00</td>\n",
       "      <td>1.136400e+04</td>\n",
       "      <td>6.898000e+03</td>\n",
       "      <td>6.190000e+05</td>\n",
       "      <td>1.974000e+04</td>\n",
       "      <td>4.543800e+04</td>\n",
       "      <td>4.000000e+01</td>\n",
       "      <td>1.000000e+02</td>\n",
       "      <td>2.400000e+01</td>\n",
       "      <td>5.000000e+01</td>\n",
       "      <td>3.000000e+00</td>\n",
       "    </tr>\n",
       "    <tr>\n",
       "      <th>max</th>\n",
       "      <td>5.000000e+00</td>\n",
       "      <td>3.380300e+04</td>\n",
       "      <td>1.635000e+04</td>\n",
       "      <td>6.150000e+09</td>\n",
       "      <td>2.668500e+09</td>\n",
       "      <td>4.668309e+09</td>\n",
       "      <td>9.999000e+03</td>\n",
       "      <td>9.999000e+03</td>\n",
       "      <td>7.575000e+03</td>\n",
       "      <td>9.393000e+03</td>\n",
       "      <td>1.190000e+02</td>\n",
       "    </tr>\n",
       "  </tbody>\n",
       "</table>\n",
       "</div>"
      ],
      "text/plain": [
       "                  B           ZIP         BLOCK       FULLVAL        AVLAND  \\\n",
       "count  1.070994e+06  1.041104e+06  1.070994e+06  1.070994e+06  1.070994e+06   \n",
       "mean   3.215427e+00  1.092396e+04  4.757239e+03  8.742645e+05  8.506792e+04   \n",
       "std    1.201197e+00  5.284208e+02  3.676579e+03  1.158243e+07  4.057260e+06   \n",
       "min    1.000000e+00  1.000100e+04  1.000000e+00  0.000000e+00  0.000000e+00   \n",
       "25%    3.000000e+00  1.031400e+04  1.555000e+03  3.040000e+05  9.180000e+03   \n",
       "50%    3.000000e+00  1.121400e+04  4.047000e+03  4.470000e+05  1.367800e+04   \n",
       "75%    4.000000e+00  1.136400e+04  6.898000e+03  6.190000e+05  1.974000e+04   \n",
       "max    5.000000e+00  3.380300e+04  1.635000e+04  6.150000e+09  2.668500e+09   \n",
       "\n",
       "              AVTOT       LTFRONT       LTDEPTH      BLDFRONT      BLDDEPTH  \\\n",
       "count  1.070994e+06  1.070994e+06  1.070994e+06  1.070994e+06  1.070994e+06   \n",
       "mean   2.272382e+05  3.663530e+01  8.886159e+01  2.304277e+01  3.992284e+01   \n",
       "std    6.877529e+06  7.403284e+01  7.639628e+01  3.557970e+01  4.270715e+01   \n",
       "min    0.000000e+00  0.000000e+00  0.000000e+00  0.000000e+00  0.000000e+00   \n",
       "25%    1.837400e+04  1.900000e+01  8.000000e+01  1.500000e+01  2.600000e+01   \n",
       "50%    2.534000e+04  2.500000e+01  1.000000e+02  2.000000e+01  3.900000e+01   \n",
       "75%    4.543800e+04  4.000000e+01  1.000000e+02  2.400000e+01  5.000000e+01   \n",
       "max    4.668309e+09  9.999000e+03  9.999000e+03  7.575000e+03  9.393000e+03   \n",
       "\n",
       "            STORIES  \n",
       "count  1.014730e+06  \n",
       "mean   5.006918e+00  \n",
       "std    8.365707e+00  \n",
       "min    1.000000e+00  \n",
       "25%    2.000000e+00  \n",
       "50%    2.000000e+00  \n",
       "75%    3.000000e+00  \n",
       "max    1.190000e+02  "
      ]
     },
     "execution_count": 7,
     "metadata": {},
     "output_type": "execute_result"
    }
   ],
   "source": [
    "df.describe()"
   ]
  },
  {
   "cell_type": "code",
   "execution_count": 8,
   "metadata": {},
   "outputs": [],
   "source": [
    "df_res = df.copy()"
   ]
  },
  {
   "cell_type": "markdown",
   "metadata": {},
   "source": [
    "# Fill Zip by [B, BLOCK]"
   ]
  },
  {
   "cell_type": "code",
   "execution_count": 9,
   "metadata": {},
   "outputs": [],
   "source": [
    "def fill_zip(df, by):\n",
    "    df_ZIP_NotNA = df[df['ZIP'].notna()]\n",
    "    ZIP = df_ZIP_NotNA.groupby(by)[\"ZIP\"].agg(lambda x: stats.mode(x)[0][0]).reset_index()\n",
    "    temp_df = pd.merge(left = df, right = ZIP, on = by, how = 'left')\n",
    "    temp_df_w = temp_df[['ZIP_x', 'ZIP_y']]\n",
    "    res = []\n",
    "    for index, row in temp_df_w.iterrows():\n",
    "        if np.isnan(row['ZIP_x']):\n",
    "            res.append(row['ZIP_y'])\n",
    "        else:\n",
    "            res.append(row['ZIP_x'])\n",
    "    return res"
   ]
  },
  {
   "cell_type": "code",
   "execution_count": 10,
   "metadata": {},
   "outputs": [],
   "source": [
    "B_BLOCK = fill_zip(df, ['B', 'BLOCK'])"
   ]
  },
  {
   "cell_type": "code",
   "execution_count": 11,
   "metadata": {},
   "outputs": [],
   "source": [
    "df_res['ZIP'] = B_BLOCK"
   ]
  },
  {
   "cell_type": "code",
   "execution_count": 12,
   "metadata": {},
   "outputs": [
    {
     "name": "stdout",
     "output_type": "stream",
     "text": [
      "<class 'pandas.core.frame.DataFrame'>\n",
      "RangeIndex: 1070994 entries, 0 to 1070993\n",
      "Data columns (total 14 columns):\n",
      "BBLE        1070994 non-null object\n",
      "B           1070994 non-null int64\n",
      "TAXCLASS    1070994 non-null object\n",
      "ZIP         1068546 non-null float64\n",
      "BLOCK       1070994 non-null int64\n",
      "BLDGCL      1070994 non-null object\n",
      "FULLVAL     1070994 non-null float64\n",
      "AVLAND      1070994 non-null float64\n",
      "AVTOT       1070994 non-null float64\n",
      "LTFRONT     1070994 non-null int64\n",
      "LTDEPTH     1070994 non-null int64\n",
      "BLDFRONT    1070994 non-null int64\n",
      "BLDDEPTH    1070994 non-null int64\n",
      "STORIES     1014730 non-null float64\n",
      "dtypes: float64(5), int64(6), object(3)\n",
      "memory usage: 114.4+ MB\n"
     ]
    }
   ],
   "source": [
    "df_res.info()"
   ]
  },
  {
   "cell_type": "code",
   "execution_count": 13,
   "metadata": {},
   "outputs": [],
   "source": [
    "B = fill_zip(df_res, ['B'])"
   ]
  },
  {
   "cell_type": "code",
   "execution_count": 14,
   "metadata": {},
   "outputs": [],
   "source": [
    "df_res['ZIP'] = B"
   ]
  },
  {
   "cell_type": "code",
   "execution_count": 15,
   "metadata": {},
   "outputs": [
    {
     "name": "stdout",
     "output_type": "stream",
     "text": [
      "<class 'pandas.core.frame.DataFrame'>\n",
      "RangeIndex: 1070994 entries, 0 to 1070993\n",
      "Data columns (total 14 columns):\n",
      "BBLE        1070994 non-null object\n",
      "B           1070994 non-null int64\n",
      "TAXCLASS    1070994 non-null object\n",
      "ZIP         1070994 non-null float64\n",
      "BLOCK       1070994 non-null int64\n",
      "BLDGCL      1070994 non-null object\n",
      "FULLVAL     1070994 non-null float64\n",
      "AVLAND      1070994 non-null float64\n",
      "AVTOT       1070994 non-null float64\n",
      "LTFRONT     1070994 non-null int64\n",
      "LTDEPTH     1070994 non-null int64\n",
      "BLDFRONT    1070994 non-null int64\n",
      "BLDDEPTH    1070994 non-null int64\n",
      "STORIES     1014730 non-null float64\n",
      "dtypes: float64(5), int64(6), object(3)\n",
      "memory usage: 114.4+ MB\n"
     ]
    }
   ],
   "source": [
    "df_res.info()"
   ]
  },
  {
   "cell_type": "code",
   "execution_count": 16,
   "metadata": {},
   "outputs": [],
   "source": [
    "df['ZIP'] = B"
   ]
  },
  {
   "cell_type": "markdown",
   "metadata": {},
   "source": [
    "# Fill FULLVAL by [BLDGCL, ZIP]"
   ]
  },
  {
   "cell_type": "code",
   "execution_count": 17,
   "metadata": {},
   "outputs": [],
   "source": [
    "def fill_fullval(df, by):\n",
    "    df_FULLVAL_Not0 = df[df['FULLVAL'] != 0]\n",
    "    FULLVAL = df_FULLVAL_Not0.groupby(by)[\"FULLVAL\"].median().reset_index()\n",
    "    temp_df = pd.merge(left = df, right = FULLVAL, on = by, how = 'left')\n",
    "    temp_df_w = temp_df[['FULLVAL_x', 'FULLVAL_y']]\n",
    "    res = []\n",
    "    for index, row in temp_df_w.iterrows():\n",
    "        if (row['FULLVAL_x'] == 0) or (np.isnan(row['FULLVAL_x'])):\n",
    "            res.append(row['FULLVAL_y'])\n",
    "        else:\n",
    "            res.append(row['FULLVAL_x'])\n",
    "    return res"
   ]
  },
  {
   "cell_type": "code",
   "execution_count": 18,
   "metadata": {},
   "outputs": [],
   "source": [
    "BLDGCL_ZIP = fill_fullval(df, ['BLDGCL', 'ZIP'])"
   ]
  },
  {
   "cell_type": "code",
   "execution_count": 19,
   "metadata": {},
   "outputs": [],
   "source": [
    "df_res['FULLVAL'] = BLDGCL_ZIP"
   ]
  },
  {
   "cell_type": "code",
   "execution_count": 20,
   "metadata": {},
   "outputs": [
    {
     "data": {
      "text/plain": [
       "count    1.060793e+06\n",
       "mean     8.880004e+05\n",
       "std      1.165201e+07\n",
       "min      4.000000e+00\n",
       "25%      3.103000e+05\n",
       "50%      4.500000e+05\n",
       "75%      6.230000e+05\n",
       "max      6.150000e+09\n",
       "Name: FULLVAL, dtype: float64"
      ]
     },
     "execution_count": 20,
     "metadata": {},
     "output_type": "execute_result"
    }
   ],
   "source": [
    "df_res['FULLVAL'].describe()"
   ]
  },
  {
   "cell_type": "code",
   "execution_count": 21,
   "metadata": {},
   "outputs": [
    {
     "data": {
      "text/plain": [
       "10201"
      ]
     },
     "execution_count": 21,
     "metadata": {},
     "output_type": "execute_result"
    }
   ],
   "source": [
    "sum(df_res['FULLVAL'].isna())"
   ]
  },
  {
   "cell_type": "code",
   "execution_count": 22,
   "metadata": {},
   "outputs": [],
   "source": [
    "ZIP = fill_fullval(df_res, ['ZIP'])"
   ]
  },
  {
   "cell_type": "code",
   "execution_count": 23,
   "metadata": {},
   "outputs": [],
   "source": [
    "df_res['FULLVAL'] = ZIP"
   ]
  },
  {
   "cell_type": "code",
   "execution_count": 24,
   "metadata": {},
   "outputs": [
    {
     "name": "stdout",
     "output_type": "stream",
     "text": [
      "<class 'pandas.core.frame.DataFrame'>\n",
      "RangeIndex: 1070994 entries, 0 to 1070993\n",
      "Data columns (total 14 columns):\n",
      "BBLE        1070994 non-null object\n",
      "B           1070994 non-null int64\n",
      "TAXCLASS    1070994 non-null object\n",
      "ZIP         1070994 non-null float64\n",
      "BLOCK       1070994 non-null int64\n",
      "BLDGCL      1070994 non-null object\n",
      "FULLVAL     1070994 non-null float64\n",
      "AVLAND      1070994 non-null float64\n",
      "AVTOT       1070994 non-null float64\n",
      "LTFRONT     1070994 non-null int64\n",
      "LTDEPTH     1070994 non-null int64\n",
      "BLDFRONT    1070994 non-null int64\n",
      "BLDDEPTH    1070994 non-null int64\n",
      "STORIES     1014730 non-null float64\n",
      "dtypes: float64(5), int64(6), object(3)\n",
      "memory usage: 114.4+ MB\n"
     ]
    }
   ],
   "source": [
    "df_res.info()"
   ]
  },
  {
   "cell_type": "markdown",
   "metadata": {},
   "source": [
    "# Fill AVLAND by [BLDGCL, ZIP]"
   ]
  },
  {
   "cell_type": "code",
   "execution_count": 25,
   "metadata": {},
   "outputs": [],
   "source": [
    "def fill_avland(df, by):\n",
    "    df_AVLAND_Not0 = df[df['AVLAND'] != 0]\n",
    "    AVLAND = df_AVLAND_Not0.groupby(by)[\"AVLAND\"].median().reset_index()\n",
    "    temp_df = pd.merge(left = df, right = AVLAND, on = by, how = 'left')\n",
    "    temp_df_w = temp_df[['AVLAND_x', 'AVLAND_y']]\n",
    "    res = []\n",
    "    for index, row in temp_df_w.iterrows():\n",
    "        if (row['AVLAND_x'] == 0) or (np.isnan(row['AVLAND_x'])):\n",
    "            res.append(row['AVLAND_y'])\n",
    "        else:\n",
    "            res.append(row['AVLAND_x'])\n",
    "    return res"
   ]
  },
  {
   "cell_type": "code",
   "execution_count": 26,
   "metadata": {},
   "outputs": [],
   "source": [
    "BLDGCL_ZIP = fill_avland(df_res, ['BLDGCL', 'ZIP'])"
   ]
  },
  {
   "cell_type": "code",
   "execution_count": 27,
   "metadata": {},
   "outputs": [],
   "source": [
    "df_temp = df_res.copy()"
   ]
  },
  {
   "cell_type": "code",
   "execution_count": 28,
   "metadata": {},
   "outputs": [],
   "source": [
    "df_temp['AVLAND'] = BLDGCL_ZIP"
   ]
  },
  {
   "cell_type": "code",
   "execution_count": 29,
   "metadata": {},
   "outputs": [
    {
     "data": {
      "text/plain": [
       "count    1.060793e+06\n",
       "mean     8.661529e+04\n",
       "std      4.078684e+06\n",
       "min      1.000000e+00\n",
       "25%      9.429000e+03\n",
       "50%      1.378100e+04\n",
       "75%      1.987600e+04\n",
       "max      2.668500e+09\n",
       "Name: AVLAND, dtype: float64"
      ]
     },
     "execution_count": 29,
     "metadata": {},
     "output_type": "execute_result"
    }
   ],
   "source": [
    "df_temp['AVLAND'].describe()"
   ]
  },
  {
   "cell_type": "code",
   "execution_count": 30,
   "metadata": {},
   "outputs": [],
   "source": [
    "ZIP = fill_avland(df_temp, ['ZIP'])"
   ]
  },
  {
   "cell_type": "code",
   "execution_count": 31,
   "metadata": {},
   "outputs": [],
   "source": [
    "df_temp['AVLAND'] = ZIP"
   ]
  },
  {
   "cell_type": "code",
   "execution_count": 32,
   "metadata": {},
   "outputs": [
    {
     "data": {
      "text/plain": [
       "count    1.070994e+06\n",
       "mean     8.599032e+04\n",
       "std      4.059247e+06\n",
       "min      1.000000e+00\n",
       "25%      9.462000e+03\n",
       "50%      1.379300e+04\n",
       "75%      1.987000e+04\n",
       "max      2.668500e+09\n",
       "Name: AVLAND, dtype: float64"
      ]
     },
     "execution_count": 32,
     "metadata": {},
     "output_type": "execute_result"
    }
   ],
   "source": [
    "df_temp['AVLAND'].describe()"
   ]
  },
  {
   "cell_type": "code",
   "execution_count": 33,
   "metadata": {},
   "outputs": [],
   "source": [
    "df_res = df_temp.copy()"
   ]
  },
  {
   "cell_type": "markdown",
   "metadata": {},
   "source": [
    "# Fill AVTOT by [BLDGCL, ZIP]"
   ]
  },
  {
   "cell_type": "code",
   "execution_count": 34,
   "metadata": {},
   "outputs": [],
   "source": [
    "def fill_avtot(df, by):\n",
    "    df_AVTOT_Not0 = df[df['AVTOT'] != 0]\n",
    "    AVTOT = df_AVTOT_Not0.groupby(by)[\"AVTOT\"].median().reset_index()\n",
    "    temp_df = pd.merge(left = df, right = AVTOT, on = by, how = 'left')\n",
    "    temp_df_w = temp_df[['AVTOT_x', 'AVTOT_y']]\n",
    "    res = []\n",
    "    for index, row in temp_df_w.iterrows():\n",
    "        if (row['AVTOT_x'] == 0) or (np.isnan(row['AVTOT_x'])):\n",
    "            res.append(row['AVTOT_y'])\n",
    "        else:\n",
    "            res.append(row['AVTOT_x'])\n",
    "    return res"
   ]
  },
  {
   "cell_type": "code",
   "execution_count": 35,
   "metadata": {},
   "outputs": [],
   "source": [
    "BLDGCL_ZIP = fill_avtot(df_res, ['BLDGCL', 'ZIP'])"
   ]
  },
  {
   "cell_type": "code",
   "execution_count": 36,
   "metadata": {},
   "outputs": [],
   "source": [
    "df_temp = df_res.copy()"
   ]
  },
  {
   "cell_type": "code",
   "execution_count": 37,
   "metadata": {},
   "outputs": [],
   "source": [
    "df_temp['AVTOT'] = BLDGCL_ZIP"
   ]
  },
  {
   "cell_type": "code",
   "execution_count": 38,
   "metadata": {},
   "outputs": [
    {
     "data": {
      "text/plain": [
       "count    1.060793e+06\n",
       "mean     2.316296e+05\n",
       "std      6.915428e+06\n",
       "min      1.000000e+00\n",
       "25%      1.864900e+04\n",
       "50%      2.556000e+04\n",
       "75%      4.635000e+04\n",
       "max      4.668309e+09\n",
       "Name: AVTOT, dtype: float64"
      ]
     },
     "execution_count": 38,
     "metadata": {},
     "output_type": "execute_result"
    }
   ],
   "source": [
    "df_temp['AVTOT'].describe()"
   ]
  },
  {
   "cell_type": "code",
   "execution_count": 39,
   "metadata": {},
   "outputs": [],
   "source": [
    "ZIP = fill_avtot(df_temp, ['ZIP'])"
   ]
  },
  {
   "cell_type": "code",
   "execution_count": 40,
   "metadata": {},
   "outputs": [],
   "source": [
    "df_temp['AVTOT'] = ZIP"
   ]
  },
  {
   "cell_type": "code",
   "execution_count": 41,
   "metadata": {},
   "outputs": [
    {
     "data": {
      "text/plain": [
       "count    1.070994e+06\n",
       "mean     2.301927e+05\n",
       "std      6.884520e+06\n",
       "min      1.000000e+00\n",
       "25%      1.866200e+04\n",
       "50%      2.562700e+04\n",
       "75%      4.643200e+04\n",
       "max      4.668309e+09\n",
       "Name: AVTOT, dtype: float64"
      ]
     },
     "execution_count": 41,
     "metadata": {},
     "output_type": "execute_result"
    }
   ],
   "source": [
    "df_temp['AVTOT'].describe()"
   ]
  },
  {
   "cell_type": "code",
   "execution_count": 42,
   "metadata": {},
   "outputs": [],
   "source": [
    "df_res = df_temp.copy()"
   ]
  },
  {
   "cell_type": "markdown",
   "metadata": {},
   "source": [
    "# Fill LTFRONT by [BLDGCL, ZIP]"
   ]
  },
  {
   "cell_type": "code",
   "execution_count": 43,
   "metadata": {},
   "outputs": [],
   "source": [
    "def fill_ltfront(df, by):\n",
    "    df_LTFRONT_Not0 = df[df['LTFRONT'] != 0]\n",
    "    LTFRONT = df_LTFRONT_Not0.groupby(by)[\"LTFRONT\"].median().reset_index()\n",
    "    temp_df = pd.merge(left = df, right = LTFRONT, on = by, how = 'left')\n",
    "    temp_df_w = temp_df[['LTFRONT_x', 'LTFRONT_y']]\n",
    "    res = []\n",
    "    for index, row in temp_df_w.iterrows():\n",
    "        if (row['LTFRONT_x'] == 0) or (np.isnan(row['LTFRONT_x'])):\n",
    "            res.append(row['LTFRONT_y'])\n",
    "        else:\n",
    "            res.append(row['LTFRONT_x'])\n",
    "    return res"
   ]
  },
  {
   "cell_type": "code",
   "execution_count": 44,
   "metadata": {},
   "outputs": [],
   "source": [
    "BLDGCL_ZIP = fill_ltfront(df_res, ['BLDGCL', 'ZIP'])"
   ]
  },
  {
   "cell_type": "code",
   "execution_count": 45,
   "metadata": {},
   "outputs": [],
   "source": [
    "df_temp = df_res.copy()"
   ]
  },
  {
   "cell_type": "code",
   "execution_count": 46,
   "metadata": {},
   "outputs": [],
   "source": [
    "df_temp['LTFRONT'] = BLDGCL_ZIP"
   ]
  },
  {
   "cell_type": "code",
   "execution_count": 47,
   "metadata": {},
   "outputs": [
    {
     "data": {
      "text/plain": [
       "count    1.055124e+06\n",
       "mean     5.997583e+01\n",
       "std      1.037124e+02\n",
       "min      1.000000e+00\n",
       "25%      2.100000e+01\n",
       "50%      3.000000e+01\n",
       "75%      5.200000e+01\n",
       "max      9.999000e+03\n",
       "Name: LTFRONT, dtype: float64"
      ]
     },
     "execution_count": 47,
     "metadata": {},
     "output_type": "execute_result"
    }
   ],
   "source": [
    "df_temp['LTFRONT'].describe()"
   ]
  },
  {
   "cell_type": "code",
   "execution_count": 48,
   "metadata": {},
   "outputs": [],
   "source": [
    "BLDGCL = fill_ltfront(df_temp, ['BLDGCL'])"
   ]
  },
  {
   "cell_type": "code",
   "execution_count": 49,
   "metadata": {},
   "outputs": [],
   "source": [
    "df_temp['LTFRONT'] = BLDGCL"
   ]
  },
  {
   "cell_type": "code",
   "execution_count": 50,
   "metadata": {},
   "outputs": [
    {
     "data": {
      "text/plain": [
       "count    1.070994e+06\n",
       "mean     6.046891e+01\n",
       "std      1.031345e+02\n",
       "min      1.000000e+00\n",
       "25%      2.100000e+01\n",
       "50%      3.000000e+01\n",
       "75%      5.600000e+01\n",
       "max      9.999000e+03\n",
       "Name: LTFRONT, dtype: float64"
      ]
     },
     "execution_count": 50,
     "metadata": {},
     "output_type": "execute_result"
    }
   ],
   "source": [
    "df_temp['LTFRONT'].describe()"
   ]
  },
  {
   "cell_type": "code",
   "execution_count": 51,
   "metadata": {},
   "outputs": [],
   "source": [
    "df_res = df_temp.copy()"
   ]
  },
  {
   "cell_type": "markdown",
   "metadata": {},
   "source": [
    "# Fill LTDEPTH by [BLDGCL, ZIP]"
   ]
  },
  {
   "cell_type": "code",
   "execution_count": 52,
   "metadata": {},
   "outputs": [],
   "source": [
    "def fill_ltdepth(df, by):\n",
    "    df_LTDEPTH_Not0 = df[df['LTDEPTH'] != 0]\n",
    "    LTDEPTH = df_LTDEPTH_Not0.groupby(by)[\"LTDEPTH\"].median().reset_index()\n",
    "    temp_df = pd.merge(left = df, right = LTDEPTH, on = by, how = 'left')\n",
    "    temp_df_w = temp_df[['LTDEPTH_x', 'LTDEPTH_y']]\n",
    "    res = []\n",
    "    for index, row in temp_df_w.iterrows():\n",
    "        if (row['LTDEPTH_x'] == 0) or (np.isnan(row['LTDEPTH_x'])):\n",
    "            res.append(row['LTDEPTH_y'])\n",
    "        else:\n",
    "            res.append(row['LTDEPTH_x'])\n",
    "    return res"
   ]
  },
  {
   "cell_type": "code",
   "execution_count": 53,
   "metadata": {},
   "outputs": [],
   "source": [
    "BLDGCL_ZIP = fill_ltdepth(df_res, ['BLDGCL', 'ZIP'])"
   ]
  },
  {
   "cell_type": "code",
   "execution_count": 54,
   "metadata": {},
   "outputs": [],
   "source": [
    "df_temp = df_res.copy()"
   ]
  },
  {
   "cell_type": "code",
   "execution_count": 55,
   "metadata": {},
   "outputs": [],
   "source": [
    "df_temp['LTDEPTH'] = BLDGCL_ZIP"
   ]
  },
  {
   "cell_type": "code",
   "execution_count": 56,
   "metadata": {},
   "outputs": [
    {
     "data": {
      "text/plain": [
       "count    1.053387e+06\n",
       "mean     1.134922e+02\n",
       "std      8.438982e+01\n",
       "min      1.000000e+00\n",
       "25%      9.900000e+01\n",
       "50%      1.000000e+02\n",
       "75%      1.020000e+02\n",
       "max      9.999000e+03\n",
       "Name: LTDEPTH, dtype: float64"
      ]
     },
     "execution_count": 56,
     "metadata": {},
     "output_type": "execute_result"
    }
   ],
   "source": [
    "df_temp['LTDEPTH'].describe()"
   ]
  },
  {
   "cell_type": "code",
   "execution_count": 57,
   "metadata": {},
   "outputs": [],
   "source": [
    "BLDGCL = fill_ltdepth(df_temp, ['BLDGCL'])"
   ]
  },
  {
   "cell_type": "code",
   "execution_count": 58,
   "metadata": {},
   "outputs": [],
   "source": [
    "df_temp['LTDEPTH'] = BLDGCL"
   ]
  },
  {
   "cell_type": "code",
   "execution_count": 59,
   "metadata": {},
   "outputs": [
    {
     "data": {
      "text/plain": [
       "count    1.070994e+06\n",
       "mean     1.134198e+02\n",
       "std      8.376743e+01\n",
       "min      1.000000e+00\n",
       "25%      9.900000e+01\n",
       "50%      1.000000e+02\n",
       "75%      1.020000e+02\n",
       "max      9.999000e+03\n",
       "Name: LTDEPTH, dtype: float64"
      ]
     },
     "execution_count": 59,
     "metadata": {},
     "output_type": "execute_result"
    }
   ],
   "source": [
    "df_temp['LTDEPTH'].describe()"
   ]
  },
  {
   "cell_type": "code",
   "execution_count": 60,
   "metadata": {},
   "outputs": [],
   "source": [
    "df_res = df_temp.copy()"
   ]
  },
  {
   "cell_type": "markdown",
   "metadata": {},
   "source": [
    "# Fill BLDFRONT by [BLDGCL, ZIP]"
   ]
  },
  {
   "cell_type": "code",
   "execution_count": 61,
   "metadata": {},
   "outputs": [],
   "source": [
    "def fill_bldfront(df, by):\n",
    "    df_BLDFRONT_Not0 = df[df['BLDFRONT'] != 0]\n",
    "    BLDFRONT = df_BLDFRONT_Not0.groupby(by)[\"BLDFRONT\"].median().reset_index()\n",
    "    temp_df = pd.merge(left = df, right = BLDFRONT, on = by, how = 'left')\n",
    "    temp_df_w = temp_df[['BLDFRONT_x', 'BLDFRONT_y']]\n",
    "    res = []\n",
    "    for index, row in temp_df_w.iterrows():\n",
    "        if (row['BLDFRONT_x'] == 0) or (np.isnan(row['BLDFRONT_x'])):\n",
    "            res.append(row['BLDFRONT_y'])\n",
    "        else:\n",
    "            res.append(row['BLDFRONT_x'])\n",
    "    return res"
   ]
  },
  {
   "cell_type": "code",
   "execution_count": 62,
   "metadata": {},
   "outputs": [],
   "source": [
    "BLDGCL_ZIP = fill_bldfront(df_res, ['BLDGCL', 'ZIP'])"
   ]
  },
  {
   "cell_type": "code",
   "execution_count": 63,
   "metadata": {},
   "outputs": [],
   "source": [
    "df_temp = df_res.copy()"
   ]
  },
  {
   "cell_type": "code",
   "execution_count": 64,
   "metadata": {},
   "outputs": [],
   "source": [
    "df_temp['BLDFRONT'] = BLDGCL_ZIP"
   ]
  },
  {
   "cell_type": "code",
   "execution_count": 65,
   "metadata": {},
   "outputs": [
    {
     "data": {
      "text/plain": [
       "count    996331.000000\n",
       "mean         39.269110\n",
       "std          48.040249\n",
       "min           1.000000\n",
       "25%          19.000000\n",
       "50%          22.000000\n",
       "75%          30.000000\n",
       "max        7575.000000\n",
       "Name: BLDFRONT, dtype: float64"
      ]
     },
     "execution_count": 65,
     "metadata": {},
     "output_type": "execute_result"
    }
   ],
   "source": [
    "df_temp['BLDFRONT'].describe()"
   ]
  },
  {
   "cell_type": "code",
   "execution_count": 66,
   "metadata": {},
   "outputs": [],
   "source": [
    "BLDGCL = fill_bldfront(df_temp, ['BLDGCL'])"
   ]
  },
  {
   "cell_type": "code",
   "execution_count": 67,
   "metadata": {},
   "outputs": [],
   "source": [
    "df_temp['BLDFRONT'] = BLDGCL"
   ]
  },
  {
   "cell_type": "code",
   "execution_count": 68,
   "metadata": {},
   "outputs": [
    {
     "data": {
      "text/plain": [
       "count    1.066714e+06\n",
       "mean     4.077476e+01\n",
       "std      4.745941e+01\n",
       "min      1.000000e+00\n",
       "25%      2.000000e+01\n",
       "50%      2.200000e+01\n",
       "75%      4.000000e+01\n",
       "max      7.575000e+03\n",
       "Name: BLDFRONT, dtype: float64"
      ]
     },
     "execution_count": 68,
     "metadata": {},
     "output_type": "execute_result"
    }
   ],
   "source": [
    "df_temp['BLDFRONT'].describe()"
   ]
  },
  {
   "cell_type": "code",
   "execution_count": 69,
   "metadata": {},
   "outputs": [],
   "source": [
    "ZIP = fill_bldfront(df_temp, ['ZIP'])"
   ]
  },
  {
   "cell_type": "code",
   "execution_count": 70,
   "metadata": {},
   "outputs": [],
   "source": [
    "df_temp['BLDFRONT'] = ZIP"
   ]
  },
  {
   "cell_type": "code",
   "execution_count": 71,
   "metadata": {},
   "outputs": [
    {
     "data": {
      "text/plain": [
       "count    1.070994e+06\n",
       "mean     4.073835e+01\n",
       "std      4.739546e+01\n",
       "min      1.000000e+00\n",
       "25%      2.000000e+01\n",
       "50%      2.200000e+01\n",
       "75%      4.000000e+01\n",
       "max      7.575000e+03\n",
       "Name: BLDFRONT, dtype: float64"
      ]
     },
     "execution_count": 71,
     "metadata": {},
     "output_type": "execute_result"
    }
   ],
   "source": [
    "df_temp['BLDFRONT'].describe()"
   ]
  },
  {
   "cell_type": "code",
   "execution_count": 72,
   "metadata": {},
   "outputs": [],
   "source": [
    "df_res = df_temp.copy()"
   ]
  },
  {
   "cell_type": "markdown",
   "metadata": {},
   "source": [
    "# Fill BLDDEPTH by [BLDGCL, ZIP]"
   ]
  },
  {
   "cell_type": "code",
   "execution_count": 73,
   "metadata": {},
   "outputs": [],
   "source": [
    "def fill_blddepth(df, by):\n",
    "    df_BLDDEPTH_Not0 = df[df['BLDDEPTH'] != 0]\n",
    "    BLDDEPTH = df_BLDDEPTH_Not0.groupby(by)[\"BLDDEPTH\"].median().reset_index()\n",
    "    temp_df = pd.merge(left = df, right = BLDDEPTH, on = by, how = 'left')\n",
    "    temp_df_w = temp_df[['BLDDEPTH_x', 'BLDDEPTH_y']]\n",
    "    res = []\n",
    "    for index, row in temp_df_w.iterrows():\n",
    "        if (row['BLDDEPTH_x'] == 0) or (np.isnan(row['BLDDEPTH_x'])):\n",
    "            res.append(row['BLDDEPTH_y'])\n",
    "        else:\n",
    "            res.append(row['BLDDEPTH_x'])\n",
    "    return res"
   ]
  },
  {
   "cell_type": "code",
   "execution_count": 74,
   "metadata": {},
   "outputs": [],
   "source": [
    "BLDGCL_ZIP = fill_blddepth(df_res, ['BLDGCL', 'ZIP'])"
   ]
  },
  {
   "cell_type": "code",
   "execution_count": 75,
   "metadata": {},
   "outputs": [],
   "source": [
    "df_temp = df_res.copy()"
   ]
  },
  {
   "cell_type": "code",
   "execution_count": 76,
   "metadata": {},
   "outputs": [],
   "source": [
    "df_temp['BLDDEPTH'] = BLDGCL_ZIP"
   ]
  },
  {
   "cell_type": "code",
   "execution_count": 77,
   "metadata": {},
   "outputs": [
    {
     "data": {
      "text/plain": [
       "count    996334.000000\n",
       "mean         59.700814\n",
       "std          57.485369\n",
       "min           1.000000\n",
       "25%          36.000000\n",
       "50%          46.000000\n",
       "75%          64.000000\n",
       "max        9393.000000\n",
       "Name: BLDDEPTH, dtype: float64"
      ]
     },
     "execution_count": 77,
     "metadata": {},
     "output_type": "execute_result"
    }
   ],
   "source": [
    "df_temp['BLDDEPTH'].describe()"
   ]
  },
  {
   "cell_type": "code",
   "execution_count": 78,
   "metadata": {},
   "outputs": [],
   "source": [
    "BLDGCL = fill_blddepth(df_temp, ['BLDGCL'])"
   ]
  },
  {
   "cell_type": "code",
   "execution_count": 79,
   "metadata": {},
   "outputs": [],
   "source": [
    "df_temp['BLDDEPTH'] = BLDGCL"
   ]
  },
  {
   "cell_type": "code",
   "execution_count": 80,
   "metadata": {},
   "outputs": [
    {
     "data": {
      "text/plain": [
       "count    1.067713e+06\n",
       "mean     6.151444e+01\n",
       "std      5.629237e+01\n",
       "min      1.000000e+00\n",
       "25%      3.600000e+01\n",
       "50%      4.800000e+01\n",
       "75%      7.200000e+01\n",
       "max      9.393000e+03\n",
       "Name: BLDDEPTH, dtype: float64"
      ]
     },
     "execution_count": 80,
     "metadata": {},
     "output_type": "execute_result"
    }
   ],
   "source": [
    "df_temp['BLDDEPTH'].describe()"
   ]
  },
  {
   "cell_type": "code",
   "execution_count": 81,
   "metadata": {},
   "outputs": [],
   "source": [
    "ZIP = fill_blddepth(df_temp, ['ZIP'])"
   ]
  },
  {
   "cell_type": "code",
   "execution_count": 82,
   "metadata": {},
   "outputs": [],
   "source": [
    "df_temp['BLDDEPTH'] = ZIP"
   ]
  },
  {
   "cell_type": "code",
   "execution_count": 83,
   "metadata": {},
   "outputs": [
    {
     "data": {
      "text/plain": [
       "count    1.070994e+06\n",
       "mean     6.149731e+01\n",
       "std      5.623082e+01\n",
       "min      1.000000e+00\n",
       "25%      3.600000e+01\n",
       "50%      4.800000e+01\n",
       "75%      7.200000e+01\n",
       "max      9.393000e+03\n",
       "Name: BLDDEPTH, dtype: float64"
      ]
     },
     "execution_count": 83,
     "metadata": {},
     "output_type": "execute_result"
    }
   ],
   "source": [
    "df_temp['BLDDEPTH'].describe()"
   ]
  },
  {
   "cell_type": "code",
   "execution_count": 84,
   "metadata": {},
   "outputs": [],
   "source": [
    "df_res = df_temp.copy()"
   ]
  },
  {
   "cell_type": "markdown",
   "metadata": {},
   "source": [
    "# Fill STORIES by [BLDGCL, ZIP]"
   ]
  },
  {
   "cell_type": "code",
   "execution_count": 85,
   "metadata": {},
   "outputs": [],
   "source": [
    "def fill_stories(df, by):\n",
    "    df_STORIES_NotNA = df[df['STORIES'].notna()]\n",
    "    STORIES = df_STORIES_NotNA.groupby(by)[\"STORIES\"].agg(lambda x: stats.mode(x)[0][0]).reset_index()\n",
    "    temp_df = pd.merge(left = df, right = STORIES, on = by, how = 'left')\n",
    "    temp_df_w = temp_df[['STORIES_x', 'STORIES_y']]\n",
    "    res = []\n",
    "    for index, row in temp_df_w.iterrows():\n",
    "        if np.isnan(row['STORIES_x']):\n",
    "            res.append(row['STORIES_y'])\n",
    "        else:\n",
    "            res.append(row['STORIES_x'])\n",
    "    return res"
   ]
  },
  {
   "cell_type": "code",
   "execution_count": 86,
   "metadata": {},
   "outputs": [],
   "source": [
    "BLDGCL_ZIP = fill_stories(df_res, ['BLDGCL', 'ZIP'])"
   ]
  },
  {
   "cell_type": "code",
   "execution_count": 87,
   "metadata": {},
   "outputs": [],
   "source": [
    "df_temp = df_res.copy()"
   ]
  },
  {
   "cell_type": "code",
   "execution_count": 88,
   "metadata": {},
   "outputs": [],
   "source": [
    "df_temp['STORIES'] = BLDGCL_ZIP"
   ]
  },
  {
   "cell_type": "code",
   "execution_count": 89,
   "metadata": {},
   "outputs": [
    {
     "data": {
      "text/plain": [
       "count    1.029255e+06\n",
       "mean     5.022109e+00\n",
       "std      8.404878e+00\n",
       "min      1.000000e+00\n",
       "25%      2.000000e+00\n",
       "50%      2.000000e+00\n",
       "75%      3.000000e+00\n",
       "max      1.190000e+02\n",
       "Name: STORIES, dtype: float64"
      ]
     },
     "execution_count": 89,
     "metadata": {},
     "output_type": "execute_result"
    }
   ],
   "source": [
    "df_temp['STORIES'].describe()"
   ]
  },
  {
   "cell_type": "code",
   "execution_count": 90,
   "metadata": {},
   "outputs": [],
   "source": [
    "BLDGCL = fill_stories(df_temp, ['BLDGCL'])"
   ]
  },
  {
   "cell_type": "code",
   "execution_count": 91,
   "metadata": {},
   "outputs": [],
   "source": [
    "df_temp['STORIES'] = BLDGCL"
   ]
  },
  {
   "cell_type": "code",
   "execution_count": 92,
   "metadata": {},
   "outputs": [
    {
     "data": {
      "text/plain": [
       "count    1.066714e+06\n",
       "mean     4.985859e+00\n",
       "std      8.262626e+00\n",
       "min      1.000000e+00\n",
       "25%      2.000000e+00\n",
       "50%      2.000000e+00\n",
       "75%      3.000000e+00\n",
       "max      1.190000e+02\n",
       "Name: STORIES, dtype: float64"
      ]
     },
     "execution_count": 92,
     "metadata": {},
     "output_type": "execute_result"
    }
   ],
   "source": [
    "df_temp['STORIES'].describe()"
   ]
  },
  {
   "cell_type": "code",
   "execution_count": 93,
   "metadata": {},
   "outputs": [],
   "source": [
    "ZIP = fill_stories(df_temp, ['ZIP'])"
   ]
  },
  {
   "cell_type": "code",
   "execution_count": 94,
   "metadata": {},
   "outputs": [],
   "source": [
    "df_temp['STORIES'] = ZIP"
   ]
  },
  {
   "cell_type": "code",
   "execution_count": 95,
   "metadata": {},
   "outputs": [
    {
     "data": {
      "text/plain": [
       "count    1.070994e+06\n",
       "mean     4.981610e+00\n",
       "std      8.259137e+00\n",
       "min      1.000000e+00\n",
       "25%      2.000000e+00\n",
       "50%      2.000000e+00\n",
       "75%      3.000000e+00\n",
       "max      1.190000e+02\n",
       "Name: STORIES, dtype: float64"
      ]
     },
     "execution_count": 95,
     "metadata": {},
     "output_type": "execute_result"
    }
   ],
   "source": [
    "df_temp['STORIES'].describe()"
   ]
  },
  {
   "cell_type": "code",
   "execution_count": 96,
   "metadata": {},
   "outputs": [],
   "source": [
    "df_res = df_temp.copy()"
   ]
  },
  {
   "cell_type": "markdown",
   "metadata": {},
   "source": [
    "# Check"
   ]
  },
  {
   "cell_type": "code",
   "execution_count": 97,
   "metadata": {},
   "outputs": [
    {
     "data": {
      "text/html": [
       "<div>\n",
       "<style scoped>\n",
       "    .dataframe tbody tr th:only-of-type {\n",
       "        vertical-align: middle;\n",
       "    }\n",
       "\n",
       "    .dataframe tbody tr th {\n",
       "        vertical-align: top;\n",
       "    }\n",
       "\n",
       "    .dataframe thead th {\n",
       "        text-align: right;\n",
       "    }\n",
       "</style>\n",
       "<table border=\"1\" class=\"dataframe\">\n",
       "  <thead>\n",
       "    <tr style=\"text-align: right;\">\n",
       "      <th></th>\n",
       "      <th>BBLE</th>\n",
       "      <th>B</th>\n",
       "      <th>TAXCLASS</th>\n",
       "      <th>ZIP</th>\n",
       "      <th>BLOCK</th>\n",
       "      <th>BLDGCL</th>\n",
       "      <th>FULLVAL</th>\n",
       "      <th>AVLAND</th>\n",
       "      <th>AVTOT</th>\n",
       "      <th>LTFRONT</th>\n",
       "      <th>LTDEPTH</th>\n",
       "      <th>BLDFRONT</th>\n",
       "      <th>BLDDEPTH</th>\n",
       "      <th>STORIES</th>\n",
       "    </tr>\n",
       "  </thead>\n",
       "  <tbody>\n",
       "    <tr>\n",
       "      <th>0</th>\n",
       "      <td>1000010101</td>\n",
       "      <td>1</td>\n",
       "      <td>4</td>\n",
       "      <td>10004.0</td>\n",
       "      <td>1</td>\n",
       "      <td>P7</td>\n",
       "      <td>21400000.0</td>\n",
       "      <td>4225500.0</td>\n",
       "      <td>9630000.0</td>\n",
       "      <td>500.0</td>\n",
       "      <td>1046.0</td>\n",
       "      <td>37.5</td>\n",
       "      <td>66.0</td>\n",
       "      <td>3.0</td>\n",
       "    </tr>\n",
       "    <tr>\n",
       "      <th>1</th>\n",
       "      <td>1000010201</td>\n",
       "      <td>1</td>\n",
       "      <td>4</td>\n",
       "      <td>10004.0</td>\n",
       "      <td>1</td>\n",
       "      <td>Z9</td>\n",
       "      <td>193800000.0</td>\n",
       "      <td>14310000.0</td>\n",
       "      <td>87210000.0</td>\n",
       "      <td>27.0</td>\n",
       "      <td>177.0</td>\n",
       "      <td>37.0</td>\n",
       "      <td>227.0</td>\n",
       "      <td>3.0</td>\n",
       "    </tr>\n",
       "    <tr>\n",
       "      <th>2</th>\n",
       "      <td>1000020001</td>\n",
       "      <td>1</td>\n",
       "      <td>4</td>\n",
       "      <td>10004.0</td>\n",
       "      <td>2</td>\n",
       "      <td>Y7</td>\n",
       "      <td>104686000.0</td>\n",
       "      <td>39008700.0</td>\n",
       "      <td>47108700.0</td>\n",
       "      <td>709.0</td>\n",
       "      <td>564.0</td>\n",
       "      <td>709.0</td>\n",
       "      <td>564.0</td>\n",
       "      <td>3.0</td>\n",
       "    </tr>\n",
       "    <tr>\n",
       "      <th>3</th>\n",
       "      <td>1000020023</td>\n",
       "      <td>1</td>\n",
       "      <td>4</td>\n",
       "      <td>10004.0</td>\n",
       "      <td>2</td>\n",
       "      <td>T2</td>\n",
       "      <td>39200000.0</td>\n",
       "      <td>15255000.0</td>\n",
       "      <td>17640000.0</td>\n",
       "      <td>793.0</td>\n",
       "      <td>551.0</td>\n",
       "      <td>85.0</td>\n",
       "      <td>551.0</td>\n",
       "      <td>2.0</td>\n",
       "    </tr>\n",
       "    <tr>\n",
       "      <th>4</th>\n",
       "      <td>1000030001</td>\n",
       "      <td>1</td>\n",
       "      <td>4</td>\n",
       "      <td>10004.0</td>\n",
       "      <td>3</td>\n",
       "      <td>Q1</td>\n",
       "      <td>272300000.0</td>\n",
       "      <td>121050000.0</td>\n",
       "      <td>122535000.0</td>\n",
       "      <td>323.0</td>\n",
       "      <td>1260.0</td>\n",
       "      <td>89.0</td>\n",
       "      <td>57.0</td>\n",
       "      <td>1.0</td>\n",
       "    </tr>\n",
       "  </tbody>\n",
       "</table>\n",
       "</div>"
      ],
      "text/plain": [
       "         BBLE  B TAXCLASS      ZIP  BLOCK BLDGCL      FULLVAL       AVLAND  \\\n",
       "0  1000010101  1        4  10004.0      1     P7   21400000.0    4225500.0   \n",
       "1  1000010201  1        4  10004.0      1     Z9  193800000.0   14310000.0   \n",
       "2  1000020001  1        4  10004.0      2     Y7  104686000.0   39008700.0   \n",
       "3  1000020023  1        4  10004.0      2     T2   39200000.0   15255000.0   \n",
       "4  1000030001  1        4  10004.0      3     Q1  272300000.0  121050000.0   \n",
       "\n",
       "         AVTOT  LTFRONT  LTDEPTH  BLDFRONT  BLDDEPTH  STORIES  \n",
       "0    9630000.0    500.0   1046.0      37.5      66.0      3.0  \n",
       "1   87210000.0     27.0    177.0      37.0     227.0      3.0  \n",
       "2   47108700.0    709.0    564.0     709.0     564.0      3.0  \n",
       "3   17640000.0    793.0    551.0      85.0     551.0      2.0  \n",
       "4  122535000.0    323.0   1260.0      89.0      57.0      1.0  "
      ]
     },
     "execution_count": 97,
     "metadata": {},
     "output_type": "execute_result"
    }
   ],
   "source": [
    "df_res.head()"
   ]
  },
  {
   "cell_type": "code",
   "execution_count": 98,
   "metadata": {},
   "outputs": [
    {
     "name": "stdout",
     "output_type": "stream",
     "text": [
      "<class 'pandas.core.frame.DataFrame'>\n",
      "RangeIndex: 1070994 entries, 0 to 1070993\n",
      "Data columns (total 14 columns):\n",
      "BBLE        1070994 non-null object\n",
      "B           1070994 non-null int64\n",
      "TAXCLASS    1070994 non-null object\n",
      "ZIP         1070994 non-null float64\n",
      "BLOCK       1070994 non-null int64\n",
      "BLDGCL      1070994 non-null object\n",
      "FULLVAL     1070994 non-null float64\n",
      "AVLAND      1070994 non-null float64\n",
      "AVTOT       1070994 non-null float64\n",
      "LTFRONT     1070994 non-null float64\n",
      "LTDEPTH     1070994 non-null float64\n",
      "BLDFRONT    1070994 non-null float64\n",
      "BLDDEPTH    1070994 non-null float64\n",
      "STORIES     1070994 non-null float64\n",
      "dtypes: float64(9), int64(2), object(3)\n",
      "memory usage: 114.4+ MB\n"
     ]
    }
   ],
   "source": [
    "df_res.info()"
   ]
  },
  {
   "cell_type": "code",
   "execution_count": 99,
   "metadata": {},
   "outputs": [
    {
     "data": {
      "text/html": [
       "<div>\n",
       "<style scoped>\n",
       "    .dataframe tbody tr th:only-of-type {\n",
       "        vertical-align: middle;\n",
       "    }\n",
       "\n",
       "    .dataframe tbody tr th {\n",
       "        vertical-align: top;\n",
       "    }\n",
       "\n",
       "    .dataframe thead th {\n",
       "        text-align: right;\n",
       "    }\n",
       "</style>\n",
       "<table border=\"1\" class=\"dataframe\">\n",
       "  <thead>\n",
       "    <tr style=\"text-align: right;\">\n",
       "      <th></th>\n",
       "      <th>B</th>\n",
       "      <th>ZIP</th>\n",
       "      <th>BLOCK</th>\n",
       "      <th>FULLVAL</th>\n",
       "      <th>AVLAND</th>\n",
       "      <th>AVTOT</th>\n",
       "      <th>LTFRONT</th>\n",
       "      <th>LTDEPTH</th>\n",
       "      <th>BLDFRONT</th>\n",
       "      <th>BLDDEPTH</th>\n",
       "      <th>STORIES</th>\n",
       "    </tr>\n",
       "  </thead>\n",
       "  <tbody>\n",
       "    <tr>\n",
       "      <th>count</th>\n",
       "      <td>1.070994e+06</td>\n",
       "      <td>1.070994e+06</td>\n",
       "      <td>1.070994e+06</td>\n",
       "      <td>1.070994e+06</td>\n",
       "      <td>1.070994e+06</td>\n",
       "      <td>1.070994e+06</td>\n",
       "      <td>1.070994e+06</td>\n",
       "      <td>1.070994e+06</td>\n",
       "      <td>1.070994e+06</td>\n",
       "      <td>1.070994e+06</td>\n",
       "      <td>1.070994e+06</td>\n",
       "    </tr>\n",
       "    <tr>\n",
       "      <th>mean</th>\n",
       "      <td>3.215427e+00</td>\n",
       "      <td>1.092022e+04</td>\n",
       "      <td>4.757239e+03</td>\n",
       "      <td>8.846037e+05</td>\n",
       "      <td>8.599032e+04</td>\n",
       "      <td>2.301927e+05</td>\n",
       "      <td>6.046891e+01</td>\n",
       "      <td>1.134198e+02</td>\n",
       "      <td>4.073835e+01</td>\n",
       "      <td>6.149731e+01</td>\n",
       "      <td>4.981610e+00</td>\n",
       "    </tr>\n",
       "    <tr>\n",
       "      <th>std</th>\n",
       "      <td>1.201197e+00</td>\n",
       "      <td>5.285420e+02</td>\n",
       "      <td>3.676579e+03</td>\n",
       "      <td>1.160255e+07</td>\n",
       "      <td>4.059247e+06</td>\n",
       "      <td>6.884520e+06</td>\n",
       "      <td>1.031345e+02</td>\n",
       "      <td>8.376743e+01</td>\n",
       "      <td>4.739546e+01</td>\n",
       "      <td>5.623082e+01</td>\n",
       "      <td>8.259137e+00</td>\n",
       "    </tr>\n",
       "    <tr>\n",
       "      <th>min</th>\n",
       "      <td>1.000000e+00</td>\n",
       "      <td>1.000100e+04</td>\n",
       "      <td>1.000000e+00</td>\n",
       "      <td>4.000000e+00</td>\n",
       "      <td>1.000000e+00</td>\n",
       "      <td>1.000000e+00</td>\n",
       "      <td>1.000000e+00</td>\n",
       "      <td>1.000000e+00</td>\n",
       "      <td>1.000000e+00</td>\n",
       "      <td>1.000000e+00</td>\n",
       "      <td>1.000000e+00</td>\n",
       "    </tr>\n",
       "    <tr>\n",
       "      <th>25%</th>\n",
       "      <td>3.000000e+00</td>\n",
       "      <td>1.031400e+04</td>\n",
       "      <td>1.555000e+03</td>\n",
       "      <td>3.110000e+05</td>\n",
       "      <td>9.462000e+03</td>\n",
       "      <td>1.866200e+04</td>\n",
       "      <td>2.100000e+01</td>\n",
       "      <td>9.900000e+01</td>\n",
       "      <td>2.000000e+01</td>\n",
       "      <td>3.600000e+01</td>\n",
       "      <td>2.000000e+00</td>\n",
       "    </tr>\n",
       "    <tr>\n",
       "      <th>50%</th>\n",
       "      <td>3.000000e+00</td>\n",
       "      <td>1.121400e+04</td>\n",
       "      <td>4.047000e+03</td>\n",
       "      <td>4.500000e+05</td>\n",
       "      <td>1.379300e+04</td>\n",
       "      <td>2.562700e+04</td>\n",
       "      <td>3.000000e+01</td>\n",
       "      <td>1.000000e+02</td>\n",
       "      <td>2.200000e+01</td>\n",
       "      <td>4.800000e+01</td>\n",
       "      <td>2.000000e+00</td>\n",
       "    </tr>\n",
       "    <tr>\n",
       "      <th>75%</th>\n",
       "      <td>4.000000e+00</td>\n",
       "      <td>1.136300e+04</td>\n",
       "      <td>6.898000e+03</td>\n",
       "      <td>6.220000e+05</td>\n",
       "      <td>1.987000e+04</td>\n",
       "      <td>4.643200e+04</td>\n",
       "      <td>5.600000e+01</td>\n",
       "      <td>1.020000e+02</td>\n",
       "      <td>4.000000e+01</td>\n",
       "      <td>7.200000e+01</td>\n",
       "      <td>3.000000e+00</td>\n",
       "    </tr>\n",
       "    <tr>\n",
       "      <th>max</th>\n",
       "      <td>5.000000e+00</td>\n",
       "      <td>3.380300e+04</td>\n",
       "      <td>1.635000e+04</td>\n",
       "      <td>6.150000e+09</td>\n",
       "      <td>2.668500e+09</td>\n",
       "      <td>4.668309e+09</td>\n",
       "      <td>9.999000e+03</td>\n",
       "      <td>9.999000e+03</td>\n",
       "      <td>7.575000e+03</td>\n",
       "      <td>9.393000e+03</td>\n",
       "      <td>1.190000e+02</td>\n",
       "    </tr>\n",
       "  </tbody>\n",
       "</table>\n",
       "</div>"
      ],
      "text/plain": [
       "                  B           ZIP         BLOCK       FULLVAL        AVLAND  \\\n",
       "count  1.070994e+06  1.070994e+06  1.070994e+06  1.070994e+06  1.070994e+06   \n",
       "mean   3.215427e+00  1.092022e+04  4.757239e+03  8.846037e+05  8.599032e+04   \n",
       "std    1.201197e+00  5.285420e+02  3.676579e+03  1.160255e+07  4.059247e+06   \n",
       "min    1.000000e+00  1.000100e+04  1.000000e+00  4.000000e+00  1.000000e+00   \n",
       "25%    3.000000e+00  1.031400e+04  1.555000e+03  3.110000e+05  9.462000e+03   \n",
       "50%    3.000000e+00  1.121400e+04  4.047000e+03  4.500000e+05  1.379300e+04   \n",
       "75%    4.000000e+00  1.136300e+04  6.898000e+03  6.220000e+05  1.987000e+04   \n",
       "max    5.000000e+00  3.380300e+04  1.635000e+04  6.150000e+09  2.668500e+09   \n",
       "\n",
       "              AVTOT       LTFRONT       LTDEPTH      BLDFRONT      BLDDEPTH  \\\n",
       "count  1.070994e+06  1.070994e+06  1.070994e+06  1.070994e+06  1.070994e+06   \n",
       "mean   2.301927e+05  6.046891e+01  1.134198e+02  4.073835e+01  6.149731e+01   \n",
       "std    6.884520e+06  1.031345e+02  8.376743e+01  4.739546e+01  5.623082e+01   \n",
       "min    1.000000e+00  1.000000e+00  1.000000e+00  1.000000e+00  1.000000e+00   \n",
       "25%    1.866200e+04  2.100000e+01  9.900000e+01  2.000000e+01  3.600000e+01   \n",
       "50%    2.562700e+04  3.000000e+01  1.000000e+02  2.200000e+01  4.800000e+01   \n",
       "75%    4.643200e+04  5.600000e+01  1.020000e+02  4.000000e+01  7.200000e+01   \n",
       "max    4.668309e+09  9.999000e+03  9.999000e+03  7.575000e+03  9.393000e+03   \n",
       "\n",
       "            STORIES  \n",
       "count  1.070994e+06  \n",
       "mean   4.981610e+00  \n",
       "std    8.259137e+00  \n",
       "min    1.000000e+00  \n",
       "25%    2.000000e+00  \n",
       "50%    2.000000e+00  \n",
       "75%    3.000000e+00  \n",
       "max    1.190000e+02  "
      ]
     },
     "execution_count": 99,
     "metadata": {},
     "output_type": "execute_result"
    }
   ],
   "source": [
    "df_res.describe()"
   ]
  },
  {
   "cell_type": "code",
   "execution_count": 100,
   "metadata": {},
   "outputs": [],
   "source": [
    "df_res.to_csv('Data/Cleaned Data.csv')"
   ]
  },
  {
   "cell_type": "code",
   "execution_count": null,
   "metadata": {},
   "outputs": [],
   "source": []
  }
 ],
 "metadata": {
  "kernelspec": {
   "display_name": "Python 3",
   "language": "python",
   "name": "python3"
  },
  "language_info": {
   "codemirror_mode": {
    "name": "ipython",
    "version": 3
   },
   "file_extension": ".py",
   "mimetype": "text/x-python",
   "name": "python",
   "nbconvert_exporter": "python",
   "pygments_lexer": "ipython3",
   "version": "3.7.2"
  }
 },
 "nbformat": 4,
 "nbformat_minor": 2
}
